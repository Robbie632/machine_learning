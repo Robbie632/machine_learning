{
 "cells": [
  {
   "cell_type": "code",
   "execution_count": 34,
   "metadata": {},
   "outputs": [
    {
     "data": {
      "text/html": [
       "<script type=\"text/javascript\">window.PlotlyConfig = {MathJaxConfig: 'local'};</script><script type=\"text/javascript\">if (window.MathJax) {MathJax.Hub.Config({SVG: {font: \"STIX-Web\"}});}</script><script>requirejs.config({paths: { 'plotly': ['https://cdn.plot.ly/plotly-latest.min']},});if(!window._Plotly) {require(['plotly'],function(plotly) {window._Plotly=plotly;});}</script>"
      ],
      "text/vnd.plotly.v1+html": [
       "<script type=\"text/javascript\">window.PlotlyConfig = {MathJaxConfig: 'local'};</script><script type=\"text/javascript\">if (window.MathJax) {MathJax.Hub.Config({SVG: {font: \"STIX-Web\"}});}</script><script>requirejs.config({paths: { 'plotly': ['https://cdn.plot.ly/plotly-latest.min']},});if(!window._Plotly) {require(['plotly'],function(plotly) {window._Plotly=plotly;});}</script>"
      ]
     },
     "metadata": {},
     "output_type": "display_data"
    }
   ],
   "source": [
    "# Load in our libraries\n",
    "import pandas as pd\n",
    "import numpy as np\n",
    "import re\n",
    "import sklearn\n",
    "import xgboost as xgb\n",
    "import seaborn as sns\n",
    "import matplotlib.pyplot as plt\n",
    "%matplotlib inline\n",
    "\n",
    "import plotly.offline as py\n",
    "py.init_notebook_mode(connected=True)\n",
    "import plotly.graph_objs as go\n",
    "import plotly.tools as tls\n",
    "\n",
    "import pandas as pd\n",
    "import numpy as np\n",
    "import swifter\n",
    "import seaborn as sns\n",
    "import matplotlib.pyplot\n",
    "\n",
    "pd.set_option('max.rows', None)\n",
    "pd.set_option('max.columns', None)\n",
    "\n",
    "import xgboost as xgb\n",
    "from sklearn.model_selection import train_test_split, StratifiedKFold\n",
    "from sklearn.metrics import log_loss, accuracy_score, f1_score\n",
    "\n",
    "import warnings\n",
    "warnings.filterwarnings('ignore')\n",
    "from sklearn.neighbors import KNeighborsClassifier\n",
    "from sklearn.ensemble import BaggingClassifier\n",
    "# Going to use these 5 base models for the stacking\n",
    "from sklearn.ensemble import (RandomForestClassifier, AdaBoostClassifier, \n",
    "                              GradientBoostingClassifier, ExtraTreesClassifier)\n",
    "from sklearn.svm import SVC\n",
    "from sklearn.cross_validation import KFold"
   ]
  },
  {
   "cell_type": "code",
   "execution_count": 35,
   "metadata": {},
   "outputs": [],
   "source": [
    "%store -r train_data_formodel\n",
    "%store -r test_data\n",
    "%store -r my_data\n",
    "%store -r uniques"
   ]
  },
  {
   "cell_type": "code",
   "execution_count": 36,
   "metadata": {},
   "outputs": [],
   "source": [
    "train_data = train_data_formodel[train_data_formodel.columns.values[9:,]]"
   ]
  },
  {
   "cell_type": "code",
   "execution_count": 37,
   "metadata": {},
   "outputs": [
    {
     "data": {
      "text/plain": [
       "array(['Li7', 'Be9', 'B11', 'Mg24', 'Al27', 'Si28', 'P31', 'S33', 'K39',\n",
       "       'Ca42', 'Sc45', 'Ti47', 'V51', 'Cr52', 'Mn55', 'Fe56', 'Co59',\n",
       "       'Ni60', 'Cu63', 'Zn68', 'Ga69', 'Ge72', 'As75', 'Rb85', 'Sr88',\n",
       "       'Y89', 'Zr90', 'Nb93', 'Mo95', 'Cd111', 'In115', 'Sn118', 'Cs133',\n",
       "       'Ba137', 'La139', 'Ce140', 'Pr141', 'Nd146', 'Sm147', 'Eu153',\n",
       "       'Gd157', 'Tb159', 'Dy163', 'Ho165', 'Er166', 'Tm169', 'Yb172',\n",
       "       'Lu175', 'Hf178', 'Ta181', 'Pb208', 'Th232', 'U238', 'class'],\n",
       "      dtype=object)"
      ]
     },
     "execution_count": 37,
     "metadata": {},
     "output_type": "execute_result"
    }
   ],
   "source": [
    "train_data.columns.values"
   ]
  },
  {
   "cell_type": "code",
   "execution_count": 38,
   "metadata": {},
   "outputs": [],
   "source": [
    "y_train = np.array(train_data['class'])\n",
    "train_data_feats = train_data.drop(['class'], axis = 1)"
   ]
  },
  {
   "cell_type": "code",
   "execution_count": null,
   "metadata": {},
   "outputs": [],
   "source": []
  },
  {
   "cell_type": "code",
   "execution_count": 39,
   "metadata": {},
   "outputs": [],
   "source": [
    "x_train = np.array(train_data_feats)\n",
    "x_test = np.array(test_data[test_data.columns.values[9:-1]])"
   ]
  },
  {
   "cell_type": "code",
   "execution_count": 40,
   "metadata": {},
   "outputs": [
    {
     "name": "stdout",
     "output_type": "stream",
     "text": [
      "(1243, 53)\n",
      "(363, 53)\n",
      "(1243,)\n"
     ]
    }
   ],
   "source": [
    "print(x_train.shape)\n",
    "print(x_test.shape)\n",
    "print(y_train.shape)"
   ]
  },
  {
   "cell_type": "code",
   "execution_count": 41,
   "metadata": {},
   "outputs": [],
   "source": [
    "# Some useful parameters which will come in handy later on\n",
    "ntrain = x_train.shape[0]\n",
    "ntest = x_test.shape[0]\n",
    "SEED = 42 # for reproducibility\n",
    "NFOLDS = 5 # set folds for out-of-fold prediction\n",
    "kf = KFold(ntrain, n_folds= NFOLDS, random_state=SEED)\n",
    "\n",
    "# Class to extend the Sklearn classifier\n",
    "class SklearnHelper(object):\n",
    "    def __init__(self, clf, seed=0, params=None, set_seed = True):\n",
    "\n",
    "        if set_seed:\n",
    "            params['random_state'] = seed\n",
    "\n",
    "            \n",
    "        self.clf = clf(**params)\n",
    "    def train(self, x_train, y_train):\n",
    "        self.clf.fit(x_train, y_train)\n",
    "\n",
    "    def predict(self, x):\n",
    "        return self.clf.predict(x)\n",
    "    \n",
    "    def fit(self,x,y):\n",
    "        return self.clf.fit(x,y)\n",
    "    \n",
    "    def feature_importances(self,x,y):\n",
    "        print(self.clf.fit(x,y).feature_importances_)\n",
    "    \n",
    "# Class to extend XGboost classifer"
   ]
  },
  {
   "cell_type": "code",
   "execution_count": null,
   "metadata": {},
   "outputs": [],
   "source": []
  },
  {
   "cell_type": "code",
   "execution_count": 42,
   "metadata": {},
   "outputs": [],
   "source": [
    "def get_oof(clf, x_train, y_train, x_test):\n",
    "    oof_train = np.zeros((ntrain,))\n",
    "    oof_test = np.zeros((ntest,))\n",
    "    oof_test_skf = np.empty((NFOLDS, ntest))\n",
    "\n",
    "    for i, (train_index, test_index) in enumerate(kf):\n",
    "        x_tr = x_train[train_index]\n",
    "        y_tr = y_train[train_index]\n",
    "        x_te = x_train[test_index]\n",
    "\n",
    "        clf.train(x_tr, y_tr)\n",
    "\n",
    "        oof_train[test_index] = clf.predict(x_te)\n",
    "        oof_test_skf[i, :] = clf.predict(x_test)\n",
    "\n",
    "    oof_test[:] = oof_test_skf.mean(axis=0)\n",
    "    return oof_train.reshape(-1, 1), oof_test.reshape(-1, 1)"
   ]
  },
  {
   "cell_type": "code",
   "execution_count": 43,
   "metadata": {},
   "outputs": [],
   "source": [
    "\n",
    "rf_params = {\n",
    "    'n_jobs': -1,\n",
    "    'n_estimators': 2000, \n",
    "     #'max_features': 0.2,\n",
    "    'max_depth': 6,\n",
    "    'min_samples_leaf': 2,\n",
    "    'max_features' : 'sqrt',\n",
    "    'verbose': 1\n",
    "}\n",
    "\n",
    "# Extra Trees Parameters\n",
    "et_params = {\n",
    "    'n_jobs': -1,\n",
    "    'n_estimators':2000,\n",
    "    #'max_features': 0.5,\n",
    "    'max_depth': 8,\n",
    "    'min_samples_leaf': 2,\n",
    "    'verbose': 1\n",
    "}\n",
    "\n",
    "# AdaBoost parameters\n",
    "ada_params = {\n",
    "    'n_estimators': 2000,\n",
    "    'learning_rate' : 0.75\n",
    "}\n",
    "\n",
    "# Gradient Boosting parameters\n",
    "gb_params = {\n",
    "    'n_estimators': 2000,\n",
    "     #'max_features': 0.2,\n",
    "    'max_depth': 5,\n",
    "    'min_samples_leaf': 2,\n",
    "    'verbose': 1\n",
    "}\n",
    "\n",
    "svc_params = {\n",
    "    'C' : 0.025\n",
    "    }\n",
    "# Support Vector Classifier parameters \n",
    "\n",
    "\n",
    "knn_params = {\n",
    "    'n_jobs' : -1\n",
    "}\n",
    "\n",
    "bgg_params = {\n",
    "    'n_jobs' : -1,\n",
    "    'n_estimators':2000\n",
    "}"
   ]
  },
  {
   "cell_type": "code",
   "execution_count": 46,
   "metadata": {},
   "outputs": [],
   "source": [
    "rf = SklearnHelper(clf=RandomForestClassifier, seed=SEED, params=rf_params)\n",
    "et = SklearnHelper(clf=ExtraTreesClassifier, seed=SEED, params=et_params)\n",
    "ada = SklearnHelper(clf=AdaBoostClassifier, seed=SEED, params=ada_params)\n",
    "gb = SklearnHelper(clf=GradientBoostingClassifier, seed=SEED, params=gb_params)\n",
    "svc = SklearnHelper(clf=SVC, seed=SEED, params=svc_params)\n",
    "knn = SklearnHelper(clf=KNeighborsClassifier, params=knn_params, set_seed = False)\n",
    "bgg = SklearnHelper(clf=BaggingClassifier, seed=SEED, params=bgg_params)\n"
   ]
  },
  {
   "cell_type": "code",
   "execution_count": 47,
   "metadata": {},
   "outputs": [
    {
     "name": "stderr",
     "output_type": "stream",
     "text": [
      "[Parallel(n_jobs=-1)]: Done  42 tasks      | elapsed:    0.1s\n",
      "[Parallel(n_jobs=-1)]: Done 192 tasks      | elapsed:    0.2s\n",
      "[Parallel(n_jobs=-1)]: Done 442 tasks      | elapsed:    0.6s\n",
      "[Parallel(n_jobs=-1)]: Done 792 tasks      | elapsed:    1.0s\n",
      "[Parallel(n_jobs=-1)]: Done 1242 tasks      | elapsed:    1.5s\n",
      "[Parallel(n_jobs=-1)]: Done 1792 tasks      | elapsed:    2.2s\n",
      "[Parallel(n_jobs=-1)]: Done 2000 out of 2000 | elapsed:    2.5s finished\n",
      "[Parallel(n_jobs=4)]: Done  42 tasks      | elapsed:    0.0s\n",
      "[Parallel(n_jobs=4)]: Done 192 tasks      | elapsed:    0.1s\n",
      "[Parallel(n_jobs=4)]: Done 442 tasks      | elapsed:    0.2s\n",
      "[Parallel(n_jobs=4)]: Done 792 tasks      | elapsed:    0.4s\n",
      "[Parallel(n_jobs=4)]: Done 1242 tasks      | elapsed:    0.7s\n",
      "[Parallel(n_jobs=4)]: Done 1792 tasks      | elapsed:    1.0s\n",
      "[Parallel(n_jobs=4)]: Done 2000 out of 2000 | elapsed:    1.1s finished\n",
      "[Parallel(n_jobs=4)]: Done  42 tasks      | elapsed:    0.0s\n",
      "[Parallel(n_jobs=4)]: Done 192 tasks      | elapsed:    0.1s\n",
      "[Parallel(n_jobs=4)]: Done 442 tasks      | elapsed:    0.2s\n",
      "[Parallel(n_jobs=4)]: Done 792 tasks      | elapsed:    0.3s\n",
      "[Parallel(n_jobs=4)]: Done 1242 tasks      | elapsed:    0.5s\n",
      "[Parallel(n_jobs=4)]: Done 1792 tasks      | elapsed:    0.7s\n",
      "[Parallel(n_jobs=4)]: Done 2000 out of 2000 | elapsed:    0.8s finished\n",
      "[Parallel(n_jobs=-1)]: Done  42 tasks      | elapsed:    0.0s\n",
      "[Parallel(n_jobs=-1)]: Done 192 tasks      | elapsed:    0.2s\n",
      "[Parallel(n_jobs=-1)]: Done 442 tasks      | elapsed:    0.5s\n",
      "[Parallel(n_jobs=-1)]: Done 792 tasks      | elapsed:    1.0s\n",
      "[Parallel(n_jobs=-1)]: Done 1242 tasks      | elapsed:    1.5s\n",
      "[Parallel(n_jobs=-1)]: Done 1792 tasks      | elapsed:    2.2s\n",
      "[Parallel(n_jobs=-1)]: Done 2000 out of 2000 | elapsed:    2.4s finished\n",
      "[Parallel(n_jobs=4)]: Done  42 tasks      | elapsed:    0.0s\n",
      "[Parallel(n_jobs=4)]: Done 192 tasks      | elapsed:    0.1s\n",
      "[Parallel(n_jobs=4)]: Done 442 tasks      | elapsed:    0.2s\n",
      "[Parallel(n_jobs=4)]: Done 792 tasks      | elapsed:    0.4s\n",
      "[Parallel(n_jobs=4)]: Done 1242 tasks      | elapsed:    0.7s\n",
      "[Parallel(n_jobs=4)]: Done 1792 tasks      | elapsed:    1.0s\n",
      "[Parallel(n_jobs=4)]: Done 2000 out of 2000 | elapsed:    1.1s finished\n",
      "[Parallel(n_jobs=4)]: Done  42 tasks      | elapsed:    0.0s\n",
      "[Parallel(n_jobs=4)]: Done 192 tasks      | elapsed:    0.1s\n",
      "[Parallel(n_jobs=4)]: Done 442 tasks      | elapsed:    0.2s\n",
      "[Parallel(n_jobs=4)]: Done 792 tasks      | elapsed:    0.4s\n",
      "[Parallel(n_jobs=4)]: Done 1242 tasks      | elapsed:    0.7s\n",
      "[Parallel(n_jobs=4)]: Done 1792 tasks      | elapsed:    0.9s\n",
      "[Parallel(n_jobs=4)]: Done 2000 out of 2000 | elapsed:    1.0s finished\n",
      "[Parallel(n_jobs=-1)]: Done  42 tasks      | elapsed:    0.0s\n",
      "[Parallel(n_jobs=-1)]: Done 192 tasks      | elapsed:    0.2s\n",
      "[Parallel(n_jobs=-1)]: Done 442 tasks      | elapsed:    0.5s\n",
      "[Parallel(n_jobs=-1)]: Done 792 tasks      | elapsed:    1.0s\n",
      "[Parallel(n_jobs=-1)]: Done 1242 tasks      | elapsed:    1.5s\n",
      "[Parallel(n_jobs=-1)]: Done 1792 tasks      | elapsed:    2.2s\n",
      "[Parallel(n_jobs=-1)]: Done 2000 out of 2000 | elapsed:    2.5s finished\n",
      "[Parallel(n_jobs=4)]: Done  42 tasks      | elapsed:    0.0s\n",
      "[Parallel(n_jobs=4)]: Done 192 tasks      | elapsed:    0.1s\n",
      "[Parallel(n_jobs=4)]: Done 442 tasks      | elapsed:    0.2s\n",
      "[Parallel(n_jobs=4)]: Done 792 tasks      | elapsed:    0.4s\n",
      "[Parallel(n_jobs=4)]: Done 1242 tasks      | elapsed:    0.7s\n",
      "[Parallel(n_jobs=4)]: Done 1792 tasks      | elapsed:    1.0s\n",
      "[Parallel(n_jobs=4)]: Done 2000 out of 2000 | elapsed:    1.1s finished\n",
      "[Parallel(n_jobs=4)]: Done  42 tasks      | elapsed:    0.0s\n",
      "[Parallel(n_jobs=4)]: Done 192 tasks      | elapsed:    0.1s\n",
      "[Parallel(n_jobs=4)]: Done 442 tasks      | elapsed:    0.2s\n",
      "[Parallel(n_jobs=4)]: Done 792 tasks      | elapsed:    0.4s\n",
      "[Parallel(n_jobs=4)]: Done 1242 tasks      | elapsed:    0.7s\n",
      "[Parallel(n_jobs=4)]: Done 1792 tasks      | elapsed:    1.0s\n",
      "[Parallel(n_jobs=4)]: Done 2000 out of 2000 | elapsed:    1.1s finished\n",
      "[Parallel(n_jobs=-1)]: Done  42 tasks      | elapsed:    0.0s\n",
      "[Parallel(n_jobs=-1)]: Done 192 tasks      | elapsed:    0.2s\n",
      "[Parallel(n_jobs=-1)]: Done 442 tasks      | elapsed:    0.5s\n",
      "[Parallel(n_jobs=-1)]: Done 792 tasks      | elapsed:    1.0s\n",
      "[Parallel(n_jobs=-1)]: Done 1242 tasks      | elapsed:    1.5s\n",
      "[Parallel(n_jobs=-1)]: Done 1792 tasks      | elapsed:    2.2s\n",
      "[Parallel(n_jobs=-1)]: Done 2000 out of 2000 | elapsed:    2.5s finished\n",
      "[Parallel(n_jobs=4)]: Done  42 tasks      | elapsed:    0.0s\n",
      "[Parallel(n_jobs=4)]: Done 192 tasks      | elapsed:    0.1s\n",
      "[Parallel(n_jobs=4)]: Done 442 tasks      | elapsed:    0.2s\n",
      "[Parallel(n_jobs=4)]: Done 792 tasks      | elapsed:    0.4s\n",
      "[Parallel(n_jobs=4)]: Done 1242 tasks      | elapsed:    0.7s\n",
      "[Parallel(n_jobs=4)]: Done 1792 tasks      | elapsed:    1.0s\n",
      "[Parallel(n_jobs=4)]: Done 2000 out of 2000 | elapsed:    1.1s finished\n",
      "[Parallel(n_jobs=4)]: Done  42 tasks      | elapsed:    0.0s\n",
      "[Parallel(n_jobs=4)]: Done 192 tasks      | elapsed:    0.1s\n",
      "[Parallel(n_jobs=4)]: Done 442 tasks      | elapsed:    0.2s\n",
      "[Parallel(n_jobs=4)]: Done 792 tasks      | elapsed:    0.4s\n",
      "[Parallel(n_jobs=4)]: Done 1242 tasks      | elapsed:    0.7s\n",
      "[Parallel(n_jobs=4)]: Done 1792 tasks      | elapsed:    1.0s\n",
      "[Parallel(n_jobs=4)]: Done 2000 out of 2000 | elapsed:    1.1s finished\n",
      "[Parallel(n_jobs=-1)]: Done  42 tasks      | elapsed:    0.1s\n",
      "[Parallel(n_jobs=-1)]: Done 192 tasks      | elapsed:    0.2s\n",
      "[Parallel(n_jobs=-1)]: Done 442 tasks      | elapsed:    0.5s\n",
      "[Parallel(n_jobs=-1)]: Done 792 tasks      | elapsed:    1.0s\n",
      "[Parallel(n_jobs=-1)]: Done 1242 tasks      | elapsed:    1.5s\n",
      "[Parallel(n_jobs=-1)]: Done 1792 tasks      | elapsed:    2.2s\n",
      "[Parallel(n_jobs=-1)]: Done 2000 out of 2000 | elapsed:    2.5s finished\n",
      "[Parallel(n_jobs=4)]: Done  42 tasks      | elapsed:    0.0s\n",
      "[Parallel(n_jobs=4)]: Done 192 tasks      | elapsed:    0.1s\n",
      "[Parallel(n_jobs=4)]: Done 442 tasks      | elapsed:    0.2s\n",
      "[Parallel(n_jobs=4)]: Done 792 tasks      | elapsed:    0.4s\n",
      "[Parallel(n_jobs=4)]: Done 1242 tasks      | elapsed:    0.7s\n",
      "[Parallel(n_jobs=4)]: Done 1792 tasks      | elapsed:    1.0s\n",
      "[Parallel(n_jobs=4)]: Done 2000 out of 2000 | elapsed:    1.1s finished\n",
      "[Parallel(n_jobs=4)]: Done  42 tasks      | elapsed:    0.0s\n",
      "[Parallel(n_jobs=4)]: Done 192 tasks      | elapsed:    0.1s\n",
      "[Parallel(n_jobs=4)]: Done 442 tasks      | elapsed:    0.2s\n",
      "[Parallel(n_jobs=4)]: Done 792 tasks      | elapsed:    0.4s\n",
      "[Parallel(n_jobs=4)]: Done 1242 tasks      | elapsed:    0.7s\n",
      "[Parallel(n_jobs=4)]: Done 1792 tasks      | elapsed:    0.9s\n",
      "[Parallel(n_jobs=4)]: Done 2000 out of 2000 | elapsed:    1.0s finished\n"
     ]
    },
    {
     "name": "stdout",
     "output_type": "stream",
     "text": [
      "starting random forest\n"
     ]
    },
    {
     "name": "stderr",
     "output_type": "stream",
     "text": [
      "[Parallel(n_jobs=-1)]: Done  42 tasks      | elapsed:    0.1s\n",
      "[Parallel(n_jobs=-1)]: Done 192 tasks      | elapsed:    0.4s\n",
      "[Parallel(n_jobs=-1)]: Done 442 tasks      | elapsed:    0.8s\n",
      "[Parallel(n_jobs=-1)]: Done 792 tasks      | elapsed:    1.5s\n",
      "[Parallel(n_jobs=-1)]: Done 1242 tasks      | elapsed:    2.3s\n",
      "[Parallel(n_jobs=-1)]: Done 1792 tasks      | elapsed:    3.3s\n",
      "[Parallel(n_jobs=-1)]: Done 2000 out of 2000 | elapsed:    3.7s finished\n",
      "[Parallel(n_jobs=4)]: Done  42 tasks      | elapsed:    0.0s\n",
      "[Parallel(n_jobs=4)]: Done 192 tasks      | elapsed:    0.1s\n",
      "[Parallel(n_jobs=4)]: Done 442 tasks      | elapsed:    0.2s\n",
      "[Parallel(n_jobs=4)]: Done 792 tasks      | elapsed:    0.4s\n",
      "[Parallel(n_jobs=4)]: Done 1242 tasks      | elapsed:    0.7s\n",
      "[Parallel(n_jobs=4)]: Done 1792 tasks      | elapsed:    0.9s\n",
      "[Parallel(n_jobs=4)]: Done 2000 out of 2000 | elapsed:    1.0s finished\n",
      "[Parallel(n_jobs=4)]: Done  42 tasks      | elapsed:    0.0s\n",
      "[Parallel(n_jobs=4)]: Done 192 tasks      | elapsed:    0.1s\n",
      "[Parallel(n_jobs=4)]: Done 442 tasks      | elapsed:    0.2s\n",
      "[Parallel(n_jobs=4)]: Done 792 tasks      | elapsed:    0.4s\n",
      "[Parallel(n_jobs=4)]: Done 1242 tasks      | elapsed:    0.7s\n",
      "[Parallel(n_jobs=4)]: Done 1792 tasks      | elapsed:    0.9s\n",
      "[Parallel(n_jobs=4)]: Done 2000 out of 2000 | elapsed:    1.1s finished\n",
      "[Parallel(n_jobs=-1)]: Done  42 tasks      | elapsed:    0.1s\n",
      "[Parallel(n_jobs=-1)]: Done 192 tasks      | elapsed:    0.4s\n",
      "[Parallel(n_jobs=-1)]: Done 442 tasks      | elapsed:    0.8s\n",
      "[Parallel(n_jobs=-1)]: Done 792 tasks      | elapsed:    1.4s\n",
      "[Parallel(n_jobs=-1)]: Done 1242 tasks      | elapsed:    2.3s\n",
      "[Parallel(n_jobs=-1)]: Done 1792 tasks      | elapsed:    3.2s\n",
      "[Parallel(n_jobs=-1)]: Done 2000 out of 2000 | elapsed:    3.6s finished\n",
      "[Parallel(n_jobs=4)]: Done  42 tasks      | elapsed:    0.0s\n",
      "[Parallel(n_jobs=4)]: Done 192 tasks      | elapsed:    0.1s\n",
      "[Parallel(n_jobs=4)]: Done 442 tasks      | elapsed:    0.2s\n",
      "[Parallel(n_jobs=4)]: Done 792 tasks      | elapsed:    0.4s\n",
      "[Parallel(n_jobs=4)]: Done 1242 tasks      | elapsed:    0.7s\n",
      "[Parallel(n_jobs=4)]: Done 1792 tasks      | elapsed:    0.9s\n",
      "[Parallel(n_jobs=4)]: Done 2000 out of 2000 | elapsed:    1.1s finished\n",
      "[Parallel(n_jobs=4)]: Done  42 tasks      | elapsed:    0.0s\n",
      "[Parallel(n_jobs=4)]: Done 192 tasks      | elapsed:    0.1s\n",
      "[Parallel(n_jobs=4)]: Done 442 tasks      | elapsed:    0.2s\n",
      "[Parallel(n_jobs=4)]: Done 792 tasks      | elapsed:    0.4s\n",
      "[Parallel(n_jobs=4)]: Done 1242 tasks      | elapsed:    0.7s\n",
      "[Parallel(n_jobs=4)]: Done 1792 tasks      | elapsed:    1.0s\n",
      "[Parallel(n_jobs=4)]: Done 2000 out of 2000 | elapsed:    1.1s finished\n",
      "[Parallel(n_jobs=-1)]: Done  42 tasks      | elapsed:    0.1s\n",
      "[Parallel(n_jobs=-1)]: Done 192 tasks      | elapsed:    0.4s\n",
      "[Parallel(n_jobs=-1)]: Done 442 tasks      | elapsed:    0.8s\n",
      "[Parallel(n_jobs=-1)]: Done 792 tasks      | elapsed:    1.4s\n",
      "[Parallel(n_jobs=-1)]: Done 1242 tasks      | elapsed:    2.2s\n",
      "[Parallel(n_jobs=-1)]: Done 1792 tasks      | elapsed:    3.2s\n",
      "[Parallel(n_jobs=-1)]: Done 2000 out of 2000 | elapsed:    3.6s finished\n",
      "[Parallel(n_jobs=4)]: Done  42 tasks      | elapsed:    0.0s\n",
      "[Parallel(n_jobs=4)]: Done 192 tasks      | elapsed:    0.1s\n",
      "[Parallel(n_jobs=4)]: Done 442 tasks      | elapsed:    0.2s\n",
      "[Parallel(n_jobs=4)]: Done 792 tasks      | elapsed:    0.4s\n",
      "[Parallel(n_jobs=4)]: Done 1242 tasks      | elapsed:    0.7s\n",
      "[Parallel(n_jobs=4)]: Done 1792 tasks      | elapsed:    1.0s\n",
      "[Parallel(n_jobs=4)]: Done 2000 out of 2000 | elapsed:    1.1s finished\n",
      "[Parallel(n_jobs=4)]: Done  42 tasks      | elapsed:    0.0s\n",
      "[Parallel(n_jobs=4)]: Done 192 tasks      | elapsed:    0.1s\n",
      "[Parallel(n_jobs=4)]: Done 442 tasks      | elapsed:    0.2s\n",
      "[Parallel(n_jobs=4)]: Done 792 tasks      | elapsed:    0.4s\n",
      "[Parallel(n_jobs=4)]: Done 1242 tasks      | elapsed:    0.7s\n",
      "[Parallel(n_jobs=4)]: Done 1792 tasks      | elapsed:    1.0s\n",
      "[Parallel(n_jobs=4)]: Done 2000 out of 2000 | elapsed:    1.1s finished\n",
      "[Parallel(n_jobs=-1)]: Done  42 tasks      | elapsed:    0.1s\n",
      "[Parallel(n_jobs=-1)]: Done 192 tasks      | elapsed:    0.4s\n",
      "[Parallel(n_jobs=-1)]: Done 442 tasks      | elapsed:    0.8s\n",
      "[Parallel(n_jobs=-1)]: Done 792 tasks      | elapsed:    1.5s\n",
      "[Parallel(n_jobs=-1)]: Done 1242 tasks      | elapsed:    2.3s\n",
      "[Parallel(n_jobs=-1)]: Done 1792 tasks      | elapsed:    3.3s\n",
      "[Parallel(n_jobs=-1)]: Done 2000 out of 2000 | elapsed:    3.7s finished\n",
      "[Parallel(n_jobs=4)]: Done  42 tasks      | elapsed:    0.0s\n",
      "[Parallel(n_jobs=4)]: Done 192 tasks      | elapsed:    0.1s\n",
      "[Parallel(n_jobs=4)]: Done 442 tasks      | elapsed:    0.2s\n",
      "[Parallel(n_jobs=4)]: Done 792 tasks      | elapsed:    0.4s\n",
      "[Parallel(n_jobs=4)]: Done 1242 tasks      | elapsed:    0.7s\n",
      "[Parallel(n_jobs=4)]: Done 1792 tasks      | elapsed:    1.0s\n",
      "[Parallel(n_jobs=4)]: Done 2000 out of 2000 | elapsed:    1.1s finished\n",
      "[Parallel(n_jobs=4)]: Done  42 tasks      | elapsed:    0.0s\n",
      "[Parallel(n_jobs=4)]: Done 192 tasks      | elapsed:    0.1s\n",
      "[Parallel(n_jobs=4)]: Done 442 tasks      | elapsed:    0.2s\n",
      "[Parallel(n_jobs=4)]: Done 792 tasks      | elapsed:    0.4s\n",
      "[Parallel(n_jobs=4)]: Done 1242 tasks      | elapsed:    0.7s\n",
      "[Parallel(n_jobs=4)]: Done 1792 tasks      | elapsed:    1.0s\n",
      "[Parallel(n_jobs=4)]: Done 2000 out of 2000 | elapsed:    1.1s finished\n",
      "[Parallel(n_jobs=-1)]: Done  42 tasks      | elapsed:    0.1s\n",
      "[Parallel(n_jobs=-1)]: Done 192 tasks      | elapsed:    0.4s\n",
      "[Parallel(n_jobs=-1)]: Done 442 tasks      | elapsed:    0.9s\n",
      "[Parallel(n_jobs=-1)]: Done 792 tasks      | elapsed:    1.6s\n",
      "[Parallel(n_jobs=-1)]: Done 1242 tasks      | elapsed:    2.4s\n",
      "[Parallel(n_jobs=-1)]: Done 1792 tasks      | elapsed:    3.4s\n",
      "[Parallel(n_jobs=-1)]: Done 2000 out of 2000 | elapsed:    3.7s finished\n",
      "[Parallel(n_jobs=4)]: Done  42 tasks      | elapsed:    0.0s\n",
      "[Parallel(n_jobs=4)]: Done 192 tasks      | elapsed:    0.1s\n",
      "[Parallel(n_jobs=4)]: Done 442 tasks      | elapsed:    0.2s\n",
      "[Parallel(n_jobs=4)]: Done 792 tasks      | elapsed:    0.4s\n",
      "[Parallel(n_jobs=4)]: Done 1242 tasks      | elapsed:    0.7s\n",
      "[Parallel(n_jobs=4)]: Done 1792 tasks      | elapsed:    1.0s\n",
      "[Parallel(n_jobs=4)]: Done 2000 out of 2000 | elapsed:    1.1s finished\n",
      "[Parallel(n_jobs=4)]: Done  42 tasks      | elapsed:    0.0s\n",
      "[Parallel(n_jobs=4)]: Done 192 tasks      | elapsed:    0.1s\n",
      "[Parallel(n_jobs=4)]: Done 442 tasks      | elapsed:    0.2s\n",
      "[Parallel(n_jobs=4)]: Done 792 tasks      | elapsed:    0.4s\n",
      "[Parallel(n_jobs=4)]: Done 1242 tasks      | elapsed:    0.7s\n",
      "[Parallel(n_jobs=4)]: Done 1792 tasks      | elapsed:    1.0s\n",
      "[Parallel(n_jobs=4)]: Done 2000 out of 2000 | elapsed:    1.1s finished\n"
     ]
    },
    {
     "name": "stdout",
     "output_type": "stream",
     "text": [
      "starting adaboost\n",
      "starting gradient boost\n",
      "      Iter       Train Loss   Remaining Time \n",
      "         1        1755.8990            6.42m\n",
      "         2        1410.0986            6.70m\n",
      "         3        1172.6790            6.79m\n",
      "         4         985.2995            6.82m\n",
      "         5         842.2294            6.83m\n",
      "         6         718.4228            6.84m\n",
      "         7         617.2412            6.87m\n",
      "         8         529.8198            6.90m\n",
      "         9         457.3486            6.91m\n",
      "        10         394.8410            6.92m\n",
      "        20         107.2611            6.99m\n",
      "        30          37.6446            6.96m\n",
      "        40          17.6137            6.88m\n",
      "        50          11.5389            6.57m\n",
      "        60           9.7668            6.00m\n",
      "        70           9.0807            5.45m\n",
      "        80           8.8609            4.93m\n",
      "        90           8.7844            4.48m\n",
      "       100           8.7305            4.12m\n",
      "       200           8.5471            2.39m\n",
      "       300           8.4576            1.78m\n",
      "       400           8.4068            1.45m\n",
      "       500           8.3724            1.23m\n",
      "       600           8.3491            1.07m\n",
      "       700           8.3328           56.51s\n",
      "       800           8.3206           49.93s\n",
      "       900           8.3113           44.15s\n",
      "      1000           8.3047           38.96s\n",
      "      2000           8.2787            0.00s\n",
      "      Iter       Train Loss   Remaining Time \n",
      "         1        1717.6127            5.94m\n",
      "         2        1358.8969            6.01m\n",
      "         3        1114.5377            6.13m\n",
      "         4         933.8157            6.12m\n",
      "         5         788.9248            6.17m\n",
      "         6         669.9043            6.17m\n",
      "         7         575.2159            6.21m\n",
      "         8         497.0572            6.26m\n",
      "         9         430.1868            6.26m\n",
      "        10         372.0596            6.26m\n",
      "        20         103.7057            6.26m\n",
      "        30          40.2431            6.30m\n",
      "        40          22.7828            6.22m\n",
      "        50          17.2126            5.89m\n",
      "        60          15.4734            5.35m\n",
      "        70          14.7799            4.87m\n",
      "        80          14.4649            4.45m\n",
      "        90          14.3627            4.07m\n",
      "       100          14.3098            3.75m\n",
      "       200          14.1487            2.23m\n",
      "       300          14.0781            1.69m\n",
      "       400          14.0391            1.39m\n",
      "       500          14.0144            1.19m\n",
      "       600          13.9970            1.04m\n",
      "       700          13.9857           55.19s\n",
      "       800          13.9774           48.93s\n",
      "       900          13.9713           43.42s\n",
      "      1000          13.9666           38.43s\n",
      "      2000          13.9484            0.00s\n",
      "      Iter       Train Loss   Remaining Time \n",
      "         1        1733.9556            6.42m\n",
      "         2        1384.2940            6.53m\n",
      "         3        1141.2257            6.56m\n",
      "         4         959.8253            6.58m\n",
      "         5         813.0443            6.66m\n",
      "         6         697.6718            6.67m\n",
      "         7         599.5370            6.71m\n",
      "         8         519.2476            6.70m\n",
      "         9         442.3725            6.73m\n",
      "        10         379.8557            6.75m\n",
      "        20         103.9982            6.86m\n",
      "        30          38.9932            6.93m\n",
      "        40          20.9057            6.82m\n",
      "        50          15.1950            6.41m\n",
      "        60          13.6020            5.83m\n",
      "        70          12.9864            5.29m\n",
      "        80          12.7393            4.81m\n",
      "        90          12.6523            4.40m\n",
      "       100          12.6110            4.05m\n",
      "       200          12.4557            2.40m\n",
      "       300          12.3834            1.81m\n",
      "       400          12.3376            1.49m\n",
      "       500          12.3109            1.27m\n",
      "       600          12.2915            1.11m\n",
      "       700          12.2787           58.79s\n",
      "       800          12.2691           52.07s\n",
      "       900          12.2619           46.25s\n",
      "      1000          12.2564           40.87s\n",
      "      2000          12.2346            0.00s\n",
      "      Iter       Train Loss   Remaining Time \n",
      "         1        1658.6473            6.91m\n",
      "         2        1311.0868            7.08m\n",
      "         3        1075.0542            7.21m\n",
      "         4         897.7734            7.22m\n",
      "         5         749.0691            7.25m\n",
      "         6         631.3275            7.28m\n",
      "         7         534.1702            7.33m\n",
      "         8         451.2533            7.33m\n",
      "         9         383.5299            7.34m\n",
      "        10         324.7660            7.35m\n",
      "        20          78.8680            7.33m\n",
      "        30          26.5031            7.27m\n",
      "        40          13.9469            7.00m\n",
      "        50          10.7801            6.44m\n",
      "        60           9.9898            5.77m\n",
      "        70           9.7670            5.14m\n",
      "        80           9.7228            4.60m\n",
      "        90           9.6968            4.18m\n",
      "       100           9.6762            3.84m\n",
      "       200           9.5803            2.26m\n",
      "       300           9.5382            1.70m\n",
      "       400           9.5127            1.39m\n",
      "       500           9.4963            1.19m\n",
      "       600           9.4859            1.04m\n",
      "       700           9.4781           54.87s\n",
      "       800           9.4722           48.64s\n",
      "       900           9.4676           43.12s\n",
      "      1000           9.4641           38.13s\n",
      "      2000           9.4485            0.00s\n",
      "      Iter       Train Loss   Remaining Time \n",
      "         1        1675.7472            7.01m\n",
      "         2        1343.8452            7.37m\n",
      "         3        1107.7279            7.42m\n",
      "         4         932.7978            7.45m\n",
      "         5         788.5789            7.49m\n",
      "         6         670.1876            7.53m\n",
      "         7         568.2192            7.64m\n",
      "         8         484.1181            7.66m\n",
      "         9         415.2798            7.67m\n",
      "        10         354.9716            7.71m\n",
      "        20          90.5202            7.78m\n",
      "        30          35.6200            7.90m\n",
      "        40          22.1462            7.62m\n",
      "        50          18.8133            7.04m\n",
      "        60          18.0209            6.31m\n",
      "        70          17.8405            5.60m\n",
      "        80          17.7593            5.04m\n",
      "        90          17.7060            4.60m\n",
      "       100          17.6683            4.24m\n",
      "       200          17.4930            2.55m\n",
      "       300          17.4218            1.95m\n",
      "       400          17.3879            1.61m\n",
      "       500          17.3655            1.38m\n",
      "       600          17.3525            1.21m\n",
      "       700          17.3420            1.07m\n",
      "       800          17.3344           56.69s\n",
      "       900          17.3289           50.26s\n",
      "      1000          17.3244           44.49s\n",
      "      2000          17.3055            0.00s\n",
      "starting support vector machine\n",
      "starting knn\n",
      "starting bagging\n",
      "Training is complete\n"
     ]
    }
   ],
   "source": [
    "et_oof_train, et_oof_test = get_oof(et, x_train, y_train, x_test) # Extra Trees\n",
    "print('starting random forest')\n",
    "rf_oof_train, rf_oof_test = get_oof(rf,x_train, y_train, x_test) # Random Forest\n",
    "print('starting adaboost')\n",
    "ada_oof_train, ada_oof_test = get_oof(ada, x_train, y_train, x_test) # AdaBoost \n",
    "print('starting gradient boost')\n",
    "gb_oof_train, gb_oof_test = get_oof(gb,x_train, y_train, x_test) # Gradient Boost\n",
    "print('starting support vector machine')\n",
    "svc_oof_train, svc_oof_test = get_oof(svc,x_train, y_train, x_test) # Support Vector Classifier\n",
    "print('starting knn')\n",
    "knn_oof_train, knn_oof_test = get_oof(knn,x_train, y_train, x_test)\n",
    "print('starting bagging')\n",
    "bgg_oof_train, bgg_oof_test = get_oof(bgg,x_train, y_train, x_test)\n",
    "print(\"Training is complete\")"
   ]
  },
  {
   "cell_type": "code",
   "execution_count": 49,
   "metadata": {},
   "outputs": [
    {
     "data": {
      "text/html": [
       "<div>\n",
       "<style scoped>\n",
       "    .dataframe tbody tr th:only-of-type {\n",
       "        vertical-align: middle;\n",
       "    }\n",
       "\n",
       "    .dataframe tbody tr th {\n",
       "        vertical-align: top;\n",
       "    }\n",
       "\n",
       "    .dataframe thead th {\n",
       "        text-align: right;\n",
       "    }\n",
       "</style>\n",
       "<table border=\"1\" class=\"dataframe\">\n",
       "  <thead>\n",
       "    <tr style=\"text-align: right;\">\n",
       "      <th></th>\n",
       "      <th>RandomForest</th>\n",
       "      <th>ExtraTrees</th>\n",
       "      <th>AdaBoost</th>\n",
       "      <th>GradientBoost</th>\n",
       "      <th>supportvector</th>\n",
       "      <th>knn</th>\n",
       "      <th>bgg</th>\n",
       "    </tr>\n",
       "  </thead>\n",
       "  <tbody>\n",
       "    <tr>\n",
       "      <th>0</th>\n",
       "      <td>19.0</td>\n",
       "      <td>19.0</td>\n",
       "      <td>22.0</td>\n",
       "      <td>19.0</td>\n",
       "      <td>19.0</td>\n",
       "      <td>8.0</td>\n",
       "      <td>8.0</td>\n",
       "    </tr>\n",
       "    <tr>\n",
       "      <th>1</th>\n",
       "      <td>19.0</td>\n",
       "      <td>19.0</td>\n",
       "      <td>22.0</td>\n",
       "      <td>19.0</td>\n",
       "      <td>19.0</td>\n",
       "      <td>8.0</td>\n",
       "      <td>8.0</td>\n",
       "    </tr>\n",
       "    <tr>\n",
       "      <th>2</th>\n",
       "      <td>19.0</td>\n",
       "      <td>19.0</td>\n",
       "      <td>22.0</td>\n",
       "      <td>19.0</td>\n",
       "      <td>19.0</td>\n",
       "      <td>5.0</td>\n",
       "      <td>5.0</td>\n",
       "    </tr>\n",
       "    <tr>\n",
       "      <th>3</th>\n",
       "      <td>10.0</td>\n",
       "      <td>20.0</td>\n",
       "      <td>10.0</td>\n",
       "      <td>10.0</td>\n",
       "      <td>19.0</td>\n",
       "      <td>17.0</td>\n",
       "      <td>10.0</td>\n",
       "    </tr>\n",
       "    <tr>\n",
       "      <th>4</th>\n",
       "      <td>19.0</td>\n",
       "      <td>19.0</td>\n",
       "      <td>5.0</td>\n",
       "      <td>19.0</td>\n",
       "      <td>19.0</td>\n",
       "      <td>5.0</td>\n",
       "      <td>19.0</td>\n",
       "    </tr>\n",
       "  </tbody>\n",
       "</table>\n",
       "</div>"
      ],
      "text/plain": [
       "   RandomForest  ExtraTrees  AdaBoost  GradientBoost  supportvector   knn  \\\n",
       "0          19.0        19.0      22.0           19.0           19.0   8.0   \n",
       "1          19.0        19.0      22.0           19.0           19.0   8.0   \n",
       "2          19.0        19.0      22.0           19.0           19.0   5.0   \n",
       "3          10.0        20.0      10.0           10.0           19.0  17.0   \n",
       "4          19.0        19.0       5.0           19.0           19.0   5.0   \n",
       "\n",
       "    bgg  \n",
       "0   8.0  \n",
       "1   8.0  \n",
       "2   5.0  \n",
       "3  10.0  \n",
       "4  19.0  "
      ]
     },
     "execution_count": 49,
     "metadata": {},
     "output_type": "execute_result"
    }
   ],
   "source": [
    "base_predictions_train = pd.DataFrame( \n",
    "    {'RandomForest': rf_oof_train.ravel(),\n",
    "    'ExtraTrees': et_oof_train.ravel(),\n",
    "     'AdaBoost': ada_oof_train.ravel(),\n",
    "      'GradientBoost': gb_oof_train.ravel(),\n",
    "    'supportvector': svc_oof_train.ravel(),\n",
    "    'knn': knn_oof_train.ravel(),\n",
    "    'bgg': bgg_oof_train.ravel()\n",
    "})\n",
    "base_predictions_train.head()"
   ]
  },
  {
   "cell_type": "code",
   "execution_count": 50,
   "metadata": {},
   "outputs": [
    {
     "data": {
      "text/plain": [
       "(1243, 7)"
      ]
     },
     "execution_count": 50,
     "metadata": {},
     "output_type": "execute_result"
    }
   ],
   "source": [
    "base_predictions_train.shape"
   ]
  },
  {
   "cell_type": "code",
   "execution_count": 51,
   "metadata": {},
   "outputs": [
    {
     "data": {
      "text/html": [
       "<div>\n",
       "<style scoped>\n",
       "    .dataframe tbody tr th:only-of-type {\n",
       "        vertical-align: middle;\n",
       "    }\n",
       "\n",
       "    .dataframe tbody tr th {\n",
       "        vertical-align: top;\n",
       "    }\n",
       "\n",
       "    .dataframe thead th {\n",
       "        text-align: right;\n",
       "    }\n",
       "</style>\n",
       "<table border=\"1\" class=\"dataframe\">\n",
       "  <thead>\n",
       "    <tr style=\"text-align: right;\">\n",
       "      <th></th>\n",
       "      <th>RandomForest</th>\n",
       "      <th>ExtraTrees</th>\n",
       "      <th>AdaBoost</th>\n",
       "      <th>GradientBoost</th>\n",
       "      <th>supportvector</th>\n",
       "      <th>knn</th>\n",
       "      <th>bgg</th>\n",
       "    </tr>\n",
       "  </thead>\n",
       "  <tbody>\n",
       "    <tr>\n",
       "      <th>0</th>\n",
       "      <td>18.4</td>\n",
       "      <td>16.6</td>\n",
       "      <td>16.0</td>\n",
       "      <td>16.8</td>\n",
       "      <td>13.0</td>\n",
       "      <td>20.6</td>\n",
       "      <td>18.4</td>\n",
       "    </tr>\n",
       "    <tr>\n",
       "      <th>1</th>\n",
       "      <td>18.4</td>\n",
       "      <td>16.6</td>\n",
       "      <td>16.6</td>\n",
       "      <td>16.8</td>\n",
       "      <td>13.0</td>\n",
       "      <td>20.6</td>\n",
       "      <td>18.4</td>\n",
       "    </tr>\n",
       "    <tr>\n",
       "      <th>2</th>\n",
       "      <td>18.4</td>\n",
       "      <td>16.6</td>\n",
       "      <td>14.8</td>\n",
       "      <td>18.2</td>\n",
       "      <td>13.0</td>\n",
       "      <td>20.6</td>\n",
       "      <td>18.4</td>\n",
       "    </tr>\n",
       "    <tr>\n",
       "      <th>3</th>\n",
       "      <td>19.2</td>\n",
       "      <td>19.0</td>\n",
       "      <td>9.2</td>\n",
       "      <td>19.8</td>\n",
       "      <td>13.0</td>\n",
       "      <td>20.2</td>\n",
       "      <td>19.2</td>\n",
       "    </tr>\n",
       "    <tr>\n",
       "      <th>4</th>\n",
       "      <td>20.2</td>\n",
       "      <td>19.0</td>\n",
       "      <td>13.2</td>\n",
       "      <td>20.2</td>\n",
       "      <td>13.0</td>\n",
       "      <td>18.8</td>\n",
       "      <td>20.8</td>\n",
       "    </tr>\n",
       "  </tbody>\n",
       "</table>\n",
       "</div>"
      ],
      "text/plain": [
       "   RandomForest  ExtraTrees  AdaBoost  GradientBoost  supportvector   knn  \\\n",
       "0          18.4        16.6      16.0           16.8           13.0  20.6   \n",
       "1          18.4        16.6      16.6           16.8           13.0  20.6   \n",
       "2          18.4        16.6      14.8           18.2           13.0  20.6   \n",
       "3          19.2        19.0       9.2           19.8           13.0  20.2   \n",
       "4          20.2        19.0      13.2           20.2           13.0  18.8   \n",
       "\n",
       "    bgg  \n",
       "0  18.4  \n",
       "1  18.4  \n",
       "2  18.4  \n",
       "3  19.2  \n",
       "4  20.8  "
      ]
     },
     "execution_count": 51,
     "metadata": {},
     "output_type": "execute_result"
    }
   ],
   "source": [
    "base_predictions_test = pd.DataFrame( \n",
    "    {'RandomForest': rf_oof_test.ravel(),\n",
    "     'ExtraTrees': et_oof_test.ravel(),\n",
    "     'AdaBoost': ada_oof_test.ravel(),\n",
    "      'GradientBoost': gb_oof_test.ravel(),\n",
    "    'supportvector': svc_oof_test.ravel(),\n",
    "    'knn': knn_oof_test.ravel(),\n",
    "     'bgg': bgg_oof_test.ravel()                                  \n",
    "    })\n",
    "base_predictions_test.head()"
   ]
  },
  {
   "cell_type": "code",
   "execution_count": 52,
   "metadata": {},
   "outputs": [],
   "source": [
    "X_2_train = np.array(base_predictions_train)\n",
    "y_2_train = np.array(y_train)\n",
    "\n"
   ]
  },
  {
   "cell_type": "code",
   "execution_count": 53,
   "metadata": {},
   "outputs": [
    {
     "data": {
      "text/plain": [
       "array([[ 1.00000000e+00,  6.06063124e-01,  2.31409887e-01,\n",
       "         4.25425486e-01,  6.90946891e-04,  3.02990858e-01,\n",
       "         4.38899447e-01],\n",
       "       [ 6.06063124e-01,  1.00000000e+00,  1.72618868e-01,\n",
       "         3.13361567e-01,  8.17489276e-02,  1.65648214e-01,\n",
       "         3.05971952e-01],\n",
       "       [ 2.31409887e-01,  1.72618868e-01,  1.00000000e+00,\n",
       "         1.64545704e-01, -1.06731198e-02,  1.05669529e-01,\n",
       "         2.29319550e-01],\n",
       "       [ 4.25425486e-01,  3.13361567e-01,  1.64545704e-01,\n",
       "         1.00000000e+00, -1.02574543e-01,  2.17043677e-01,\n",
       "         4.98841491e-01],\n",
       "       [ 6.90946891e-04,  8.17489276e-02, -1.06731198e-02,\n",
       "        -1.02574543e-01,  1.00000000e+00, -1.93070102e-01,\n",
       "        -9.37808430e-02],\n",
       "       [ 3.02990858e-01,  1.65648214e-01,  1.05669529e-01,\n",
       "         2.17043677e-01, -1.93070102e-01,  1.00000000e+00,\n",
       "         1.95014569e-01],\n",
       "       [ 4.38899447e-01,  3.05971952e-01,  2.29319550e-01,\n",
       "         4.98841491e-01, -9.37808430e-02,  1.95014569e-01,\n",
       "         1.00000000e+00]])"
      ]
     },
     "execution_count": 53,
     "metadata": {},
     "output_type": "execute_result"
    }
   ],
   "source": [
    "base_predictions_train.astype(float).corr().values "
   ]
  },
  {
   "cell_type": "code",
   "execution_count": 54,
   "metadata": {},
   "outputs": [
    {
     "data": {
      "text/plain": [
       "'file:///home/robert/developer/archeo/corrheatmap.html'"
      ]
     },
     "execution_count": 54,
     "metadata": {},
     "output_type": "execute_result"
    }
   ],
   "source": [
    "trace = go.Heatmap(\n",
    "        z= base_predictions_train.astype(float).corr().values ,\n",
    "        x=base_predictions_train.columns.values,\n",
    "        y= base_predictions_train.columns.values,\n",
    "          colorscale='Rainbow',\n",
    "            showscale=True,\n",
    "            reversescale = True\n",
    ")\n",
    "\n",
    "\n",
    "data = [trace]\n",
    "fig = dict(data=data)\n",
    "\n",
    "py.plot(fig, output_type='file', filename='corrheatmap'+ '.html')"
   ]
  },
  {
   "cell_type": "code",
   "execution_count": 55,
   "metadata": {},
   "outputs": [],
   "source": [
    "corr_df = pd.DataFrame(data = base_predictions_train.astype(float).corr().values, columns = base_predictions_train.columns.values)\n",
    "corr_df_abs = corr_df.abs()"
   ]
  },
  {
   "cell_type": "code",
   "execution_count": 56,
   "metadata": {},
   "outputs": [],
   "source": [
    "summations = []\n",
    "for col in corr_df_abs.columns.values:\n",
    "    summations.append(corr_df_abs[col].sum())\n"
   ]
  },
  {
   "cell_type": "code",
   "execution_count": 57,
   "metadata": {},
   "outputs": [
    {
     "data": {
      "text/html": [
       "<div>\n",
       "<style scoped>\n",
       "    .dataframe tbody tr th:only-of-type {\n",
       "        vertical-align: middle;\n",
       "    }\n",
       "\n",
       "    .dataframe tbody tr th {\n",
       "        vertical-align: top;\n",
       "    }\n",
       "\n",
       "    .dataframe thead th {\n",
       "        text-align: right;\n",
       "    }\n",
       "</style>\n",
       "<table border=\"1\" class=\"dataframe\">\n",
       "  <thead>\n",
       "    <tr style=\"text-align: right;\">\n",
       "      <th></th>\n",
       "      <th>0</th>\n",
       "    </tr>\n",
       "  </thead>\n",
       "  <tbody>\n",
       "    <tr>\n",
       "      <th>RandomForest</th>\n",
       "      <td>3.005480</td>\n",
       "    </tr>\n",
       "    <tr>\n",
       "      <th>ExtraTrees</th>\n",
       "      <td>2.645413</td>\n",
       "    </tr>\n",
       "    <tr>\n",
       "      <th>AdaBoost</th>\n",
       "      <td>1.914237</td>\n",
       "    </tr>\n",
       "    <tr>\n",
       "      <th>GradientBoost</th>\n",
       "      <td>2.721792</td>\n",
       "    </tr>\n",
       "    <tr>\n",
       "      <th>supportvector</th>\n",
       "      <td>1.482538</td>\n",
       "    </tr>\n",
       "    <tr>\n",
       "      <th>knn</th>\n",
       "      <td>2.179437</td>\n",
       "    </tr>\n",
       "    <tr>\n",
       "      <th>bgg</th>\n",
       "      <td>2.761828</td>\n",
       "    </tr>\n",
       "  </tbody>\n",
       "</table>\n",
       "</div>"
      ],
      "text/plain": [
       "                      0\n",
       "RandomForest   3.005480\n",
       "ExtraTrees     2.645413\n",
       "AdaBoost       1.914237\n",
       "GradientBoost  2.721792\n",
       "supportvector  1.482538\n",
       "knn            2.179437\n",
       "bgg            2.761828"
      ]
     },
     "execution_count": 57,
     "metadata": {},
     "output_type": "execute_result"
    }
   ],
   "source": [
    "model_correlation_summations = pd.DataFrame(data = summations, index=list(corr_df_abs.columns.values))\n",
    "model_correlation_summations"
   ]
  },
  {
   "cell_type": "code",
   "execution_count": 58,
   "metadata": {},
   "outputs": [
    {
     "name": "stdout",
     "output_type": "stream",
     "text": [
      "making model:\n",
      "1\n",
      "making model:\n",
      "2\n",
      "making model:\n",
      "3\n",
      "making model:\n",
      "4\n",
      "making model:\n",
      "5\n",
      "making model:\n",
      "6\n",
      "making model:\n",
      "7\n",
      "making model:\n",
      "8\n",
      "making model:\n",
      "9\n",
      "making model:\n",
      "10\n"
     ]
    }
   ],
   "source": [
    "xg = xgb.XGBClassifier(max_depth = 20, n_estimators = 2000, n_jobs=-1)\n",
    "skf = StratifiedKFold(n_splits=10)\n",
    "skf.get_n_splits(X_2_train, y_2_train)\n",
    "class_f1_scores = []\n",
    "macro_f1_scores = []\n",
    "accuracy_scores = []\n",
    "feat_imp =[]\n",
    "f1_dict = {}\n",
    "count = 0\n",
    "for train_index, test_index in skf.split(X_2_train, y_2_train):\n",
    "    count = count + 1\n",
    "    print('making model:')\n",
    "    key = 'round' + str(count)\n",
    "    print(count)\n",
    "    X_train_loc, X_test_loc = X_2_train[train_index], X_2_train[test_index]\n",
    "    y_train_loc, y_test_loc = y_2_train[train_index], y_2_train[test_index]\n",
    "    xg.fit(X_train_loc, y_train_loc)\n",
    "    y_pred = xg.predict(X_test_loc)\n",
    "    class_f1_scores = f1_score(y_test_loc, y_pred, average = None)\n",
    "    accuracy = accuracy_score(y_test_loc, y_pred)\n",
    "    accuracy_scores.append(accuracy)\n",
    "    macro_f1_scores.append(f1_score(y_test_loc, y_pred, average = 'weighted'))\n",
    "    f1_dict[key] = class_f1_scores \n",
    "    "
   ]
  },
  {
   "cell_type": "code",
   "execution_count": 59,
   "metadata": {},
   "outputs": [],
   "source": [
    "f1_df = pd.DataFrame(data = f1_dict)\n"
   ]
  },
  {
   "cell_type": "code",
   "execution_count": 60,
   "metadata": {},
   "outputs": [
    {
     "name": "stdout",
     "output_type": "stream",
     "text": [
      "23\n",
      "23\n",
      "23\n",
      "23\n",
      "23\n",
      "23\n",
      "23\n",
      "23\n",
      "23\n",
      "23\n"
     ]
    }
   ],
   "source": [
    "for key in f1_dict:\n",
    "    print(len(f1_dict[key]))"
   ]
  },
  {
   "cell_type": "markdown",
   "metadata": {},
   "source": [
    "### Below are the encodings for the class variable"
   ]
  },
  {
   "cell_type": "code",
   "execution_count": 61,
   "metadata": {},
   "outputs": [
    {
     "name": "stdout",
     "output_type": "stream",
     "text": [
      "[ 0  1  2  3  4  5  6  7  8  9 10 11 12 13 14 15 16 17 18 19 20 21 22]\n",
      "['FH', 'ER', 'WW', 'TC', 'BC_CS', 'KQ', 'AR', 'SL', 'FG', 'WB_BX', 'PF', 'BM', 'WH', 'SQ_BP', 'WN', 'BH', 'PH', 'LB', 'PC', 'SV_SE', 'BA', 'WA', 'MM']\n"
     ]
    }
   ],
   "source": [
    "print(train_data['class'].unique())\n",
    "print(list(uniques))"
   ]
  },
  {
   "cell_type": "code",
   "execution_count": 62,
   "metadata": {},
   "outputs": [],
   "source": [
    "f1_df_final = pd.concat([f1_df, pd.Series(uniques)], axis = 1)"
   ]
  },
  {
   "cell_type": "code",
   "execution_count": 63,
   "metadata": {},
   "outputs": [],
   "source": [
    "f1_df_final.rename(columns={0:'class'}, inplace=True)\n",
    "f1_df_final.set_index('class', drop = True, inplace = True)"
   ]
  },
  {
   "cell_type": "markdown",
   "metadata": {},
   "source": [
    "### Boxplot showing the distribution of class f1 scores from 10 models"
   ]
  },
  {
   "cell_type": "code",
   "execution_count": 64,
   "metadata": {},
   "outputs": [
    {
     "data": {
      "text/plain": [
       "Text(0.5,0,\"Bedrock site or superficial deposit 'region'\")"
      ]
     },
     "execution_count": 64,
     "metadata": {},
     "output_type": "execute_result"
    },
    {
     "data": {
      "image/png": "[encoded data removed]",
      "text/plain": [
       "<Figure size 842.4x595.44 with 1 Axes>"
      ]
     },
     "metadata": {},
     "output_type": "display_data"
    }
   ],
   "source": [
    "sns.set(rc={'figure.figsize':(11.7,8.27)})\n",
    "plot = sns.boxplot(data = f1_df_final.T)\n",
    "plot.set_title('F1 scores for each site', fontdict={'fontsize': 14})\n",
    "plot.set_ylabel('F1 score', fontdict={'fontsize': 11})\n",
    "plot.set_xlabel(\"Bedrock site or superficial deposit 'region'\", fontdict={'fontsize': 11})\n",
    "\n",
    "#f save_plots == True:\n",
    "#    fig = plot.get_figure()\n",
    "#    fig.savefig('site_specific_f1_scores.png')"
   ]
  },
  {
   "cell_type": "markdown",
   "metadata": {},
   "source": [
    "### Boxplot showing the macro F1 score with weighted averages"
   ]
  },
  {
   "cell_type": "code",
   "execution_count": 65,
   "metadata": {},
   "outputs": [
    {
     "data": {
      "text/plain": [
       "Text(0.5,0,'F1-score')"
      ]
     },
     "execution_count": 65,
     "metadata": {},
     "output_type": "execute_result"
    },
    {
     "data": {
      "image/png": "[encoded data removed]",
      "text/plain": [
       "<Figure size 842.4x595.44 with 1 Axes>"
      ]
     },
     "metadata": {},
     "output_type": "display_data"
    }
   ],
   "source": [
    "plot = sns.boxplot(macro_f1_scores)\n",
    "plot.set_title('Average-weighted macro-f1 score', fontdict={'fontsize': 14})\n",
    "plot.set_xlabel(\"F1-score\", fontdict={'fontsize': 11})\n",
    "\n",
    "#if save_plots == True:\n",
    "#    fig = plot.get_figure()\n",
    "#    fig.savefig('macro_f1_scores.png')"
   ]
  },
  {
   "cell_type": "markdown",
   "metadata": {},
   "source": [
    "### Boxplot showing accuracy scores"
   ]
  },
  {
   "cell_type": "code",
   "execution_count": 66,
   "metadata": {},
   "outputs": [
    {
     "data": {
      "text/plain": [
       "<matplotlib.axes._subplots.AxesSubplot at 0x7fcc914e0e10>"
      ]
     },
     "execution_count": 66,
     "metadata": {},
     "output_type": "execute_result"
    },
    {
     "data": {
      "image/png": "[encoded data removed]",
      "text/plain": [
       "<Figure size 842.4x595.44 with 1 Axes>"
      ]
     },
     "metadata": {},
     "output_type": "display_data"
    }
   ],
   "source": [
    "sns.boxplot(accuracy_scores)"
   ]
  },
  {
   "cell_type": "code",
   "execution_count": null,
   "metadata": {},
   "outputs": [],
   "source": []
  }
 ],
 "metadata": {
  "kernelspec": {
   "display_name": "Python 3",
   "language": "python",
   "name": "python3"
  },
  "language_info": {
   "codemirror_mode": {
    "name": "ipython",
    "version": 3
   },
   "file_extension": ".py",
   "mimetype": "text/x-python",
   "name": "python",
   "nbconvert_exporter": "python",
   "pygments_lexer": "ipython3",
   "version": "3.7.0"
  }
 },
 "nbformat": 4,
 "nbformat_minor": 2
}
