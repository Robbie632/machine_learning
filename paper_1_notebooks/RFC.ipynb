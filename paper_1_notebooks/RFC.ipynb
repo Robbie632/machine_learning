{
 "cells": [
  {
   "cell_type": "markdown",
   "metadata": {},
   "source": [
    "### RFC"
   ]
  },
  {
   "cell_type": "markdown",
   "metadata": {},
   "source": [
    "### import modules and configure notebook"
   ]
  },
  {
   "cell_type": "code",
   "execution_count": 18,
   "metadata": {},
   "outputs": [],
   "source": [
    "import pandas as pd\n",
    "import numpy as np\n",
    "import swifter\n",
    "import seaborn as sns\n",
    "import matplotlib.pyplot\n",
    "import pickle\n",
    "\n",
    "pd.set_option('max.rows', None)\n",
    "pd.set_option('max.columns', None)\n",
    "\n",
    "from sklearn.ensemble import RandomForestClassifier\n",
    "from sklearn.model_selection import StratifiedKFold, RandomizedSearchCV, GridSearchCV\n",
    "from sklearn.metrics import accuracy_score, f1_score\n",
    "from sklearn.preprocessing import StandardScaler\n",
    "\n",
    "%matplotlib inline"
   ]
  },
  {
   "cell_type": "markdown",
   "metadata": {},
   "source": [
    "### Load variables stored by data_preproccessing notebook"
   ]
  },
  {
   "cell_type": "code",
   "execution_count": 2,
   "metadata": {},
   "outputs": [],
   "source": [
    "%store -r train_data_formodel\n",
    "%store -r test_data\n",
    "%store -r my_data\n",
    "%store -r uniques\n",
    "%store -r best_feats\n",
    "\n"
   ]
  },
  {
   "cell_type": "markdown",
   "metadata": {},
   "source": [
    "### configurations\n",
    "* save_plots -> True|False\n",
    "* random_seed_state -> number, sets random state for model and for stratified splits \n",
    "* classify_bedrock_only -> True|False\n",
    "* pickle_model -> True|False, wether model should be serialised and saved\n",
    "* pickle_model_name -> string, name of serialised model\n",
    "* grid_search -> True|False, if set to true then grid search is performed to identify optimum hyperparamaters for model \n",
    "* scale -> True|False if set to True then features scaled to all have mean value 0 and standard deviation 1\n",
    "* pickle_file_path -> string,  filepath for serialised model to be saved to"
   ]
  },
  {
   "cell_type": "code",
   "execution_count": 3,
   "metadata": {},
   "outputs": [],
   "source": [
    "save_plots = False\n",
    "random_seed_state = 42\n",
    "classify_bedrock_only = False\n",
    "pickle_model = False\n",
    "pickle_model_name = 'grouped'\n",
    "pickle_file_path = '../../../model'\n",
    "grid_search = True\n",
    "scale = False"
   ]
  },
  {
   "cell_type": "markdown",
   "metadata": {},
   "source": [
    "### if only bedrock sites are classified then classes are label encoded, if bedrock sites alone are not being classified then the class sites would have already been label encoded in the 1 data_preproccessing notebook "
   ]
  },
  {
   "cell_type": "code",
   "execution_count": 4,
   "metadata": {},
   "outputs": [],
   "source": [
    "if classify_bedrock_only:\n",
    "    train_data_formodel['class'], uniques = pd.factorize(train_data_formodel['class'])\n",
    "    train_data_formodel = train_data_formodel[train_data_formodel['Geology']=='Bedrock']"
   ]
  },
  {
   "cell_type": "markdown",
   "metadata": {},
   "source": [
    "### The class column is stored as the variable y "
   ]
  },
  {
   "cell_type": "code",
   "execution_count": 5,
   "metadata": {},
   "outputs": [],
   "source": [
    "y = np.array(train_data_formodel['class'])"
   ]
  },
  {
   "cell_type": "markdown",
   "metadata": {},
   "source": [
    "### The variables identified as best by the 2 feature_selection notebook are used as features"
   ]
  },
  {
   "cell_type": "code",
   "execution_count": 6,
   "metadata": {},
   "outputs": [],
   "source": [
    "train_data_feats = train_data_formodel[best_feats]"
   ]
  },
  {
   "cell_type": "code",
   "execution_count": 7,
   "metadata": {},
   "outputs": [],
   "source": [
    "if scale:\n",
    "    my_scaler = StandardScaler()\n",
    "    X = np.array(my_scaler.fit_transform(train_data_feats))\n",
    "else:\n",
    "    X = np.array(train_data_feats)"
   ]
  },
  {
   "cell_type": "markdown",
   "metadata": {},
   "source": [
    "### the dimensions of the class and features are checked"
   ]
  },
  {
   "cell_type": "code",
   "execution_count": 8,
   "metadata": {},
   "outputs": [
    {
     "name": "stdout",
     "output_type": "stream",
     "text": [
      "(1158, 31)\n",
      "(1158,)\n"
     ]
    }
   ],
   "source": [
    "print(X.shape)\n",
    "print(y.shape)"
   ]
  },
  {
   "cell_type": "markdown",
   "metadata": {},
   "source": [
    "### Gri dsearch is done to identify best hyperparamaters for the model"
   ]
  },
  {
   "cell_type": "code",
   "execution_count": 20,
   "metadata": {},
   "outputs": [
    {
     "name": "stdout",
     "output_type": "stream",
     "text": [
      "Fitting 3 folds for each of 200 candidates, totalling 600 fits\n",
      "[CV] n_estimators=511, min_samples_split=10, min_samples_leaf=8, max_features=auto, max_depth=60, bootstrap=True \n",
      "[CV] n_estimators=511, min_samples_split=10, min_samples_leaf=8, max_features=auto, max_depth=60, bootstrap=True \n",
      "[CV] n_estimators=511, min_samples_split=10, min_samples_leaf=8, max_features=auto, max_depth=60, bootstrap=True \n",
      "[CV] n_estimators=2377, min_samples_split=5, min_samples_leaf=8, max_features=auto, max_depth=20, bootstrap=True \n"
     ]
    },
    {
     "name": "stderr",
     "output_type": "stream",
     "text": [
      "/home/rmorse/anaconda3/lib/python3.6/site-packages/sklearn/metrics/classification.py:1135: UndefinedMetricWarning: F-score is ill-defined and being set to 0.0 in labels with no predicted samples.\n",
      "  'precision', 'predicted', average, warn_for)\n",
      "/home/rmorse/anaconda3/lib/python3.6/site-packages/sklearn/metrics/classification.py:1135: UndefinedMetricWarning: F-score is ill-defined and being set to 0.0 in labels with no predicted samples.\n",
      "  'precision', 'predicted', average, warn_for)\n"
     ]
    },
    {
     "name": "stdout",
     "output_type": "stream",
     "text": [
      "[CV]  n_estimators=511, min_samples_split=10, min_samples_leaf=8, max_features=auto, max_depth=60, bootstrap=True, score=0.6801180083237084, total=   1.6s\n",
      "[CV] n_estimators=2377, min_samples_split=5, min_samples_leaf=8, max_features=auto, max_depth=20, bootstrap=True \n",
      "[CV]  n_estimators=511, min_samples_split=10, min_samples_leaf=8, max_features=auto, max_depth=60, bootstrap=True, score=0.5052856990231068, total=   1.6s\n",
      "[CV]  n_estimators=511, min_samples_split=10, min_samples_leaf=8, max_features=auto, max_depth=60, bootstrap=True, score=0.5029196595306087, total=   1.6s\n",
      "[CV] n_estimators=2377, min_samples_split=5, min_samples_leaf=1, max_features=sqrt, max_depth=10, bootstrap=True \n",
      "[CV] n_estimators=2377, min_samples_split=5, min_samples_leaf=8, max_features=auto, max_depth=20, bootstrap=True \n"
     ]
    },
    {
     "name": "stderr",
     "output_type": "stream",
     "text": [
      "/home/rmorse/anaconda3/lib/python3.6/site-packages/sklearn/metrics/classification.py:1135: UndefinedMetricWarning: F-score is ill-defined and being set to 0.0 in labels with no predicted samples.\n",
      "  'precision', 'predicted', average, warn_for)\n"
     ]
    },
    {
     "name": "stdout",
     "output_type": "stream",
     "text": [
      "[CV]  n_estimators=2377, min_samples_split=5, min_samples_leaf=8, max_features=auto, max_depth=20, bootstrap=True, score=0.5313331051972753, total=   7.4s\n",
      "[CV] n_estimators=2377, min_samples_split=5, min_samples_leaf=1, max_features=sqrt, max_depth=10, bootstrap=True \n"
     ]
    },
    {
     "name": "stderr",
     "output_type": "stream",
     "text": [
      "/home/rmorse/anaconda3/lib/python3.6/site-packages/sklearn/metrics/classification.py:1135: UndefinedMetricWarning: F-score is ill-defined and being set to 0.0 in labels with no predicted samples.\n",
      "  'precision', 'predicted', average, warn_for)\n"
     ]
    },
    {
     "name": "stdout",
     "output_type": "stream",
     "text": [
      "[CV]  n_estimators=2377, min_samples_split=5, min_samples_leaf=8, max_features=auto, max_depth=20, bootstrap=True, score=0.7018054684955298, total=   7.4s\n",
      "[CV] n_estimators=2377, min_samples_split=5, min_samples_leaf=1, max_features=sqrt, max_depth=10, bootstrap=True \n",
      "[CV]  n_estimators=2377, min_samples_split=5, min_samples_leaf=8, max_features=auto, max_depth=20, bootstrap=True, score=0.5136336527787383, total=   7.4s\n",
      "[CV] n_estimators=2688, min_samples_split=15, min_samples_leaf=1, max_features=sqrt, max_depth=10, bootstrap=False \n",
      "[CV]  n_estimators=2377, min_samples_split=5, min_samples_leaf=1, max_features=sqrt, max_depth=10, bootstrap=True, score=0.6116622408750585, total=   9.0s\n",
      "[CV] n_estimators=2688, min_samples_split=15, min_samples_leaf=1, max_features=sqrt, max_depth=10, bootstrap=False \n",
      "[CV]  n_estimators=2377, min_samples_split=5, min_samples_leaf=1, max_features=sqrt, max_depth=10, bootstrap=True, score=0.765561481842083, total=   8.9s\n",
      "[CV] n_estimators=2688, min_samples_split=15, min_samples_leaf=1, max_features=sqrt, max_depth=10, bootstrap=False \n",
      "[CV]  n_estimators=2377, min_samples_split=5, min_samples_leaf=1, max_features=sqrt, max_depth=10, bootstrap=True, score=0.6405026535055708, total=   8.9s\n",
      "[CV] n_estimators=822, min_samples_split=5, min_samples_leaf=4, max_features=auto, max_depth=10, bootstrap=False \n",
      "[CV]  n_estimators=2688, min_samples_split=15, min_samples_leaf=1, max_features=sqrt, max_depth=10, bootstrap=False, score=0.6155536193896751, total=  12.8s\n",
      "[CV] n_estimators=822, min_samples_split=5, min_samples_leaf=4, max_features=auto, max_depth=10, bootstrap=False \n",
      "[CV]  n_estimators=822, min_samples_split=5, min_samples_leaf=4, max_features=auto, max_depth=10, bootstrap=False, score=0.6006866728594455, total=   3.8s\n",
      "[CV] n_estimators=822, min_samples_split=5, min_samples_leaf=4, max_features=auto, max_depth=10, bootstrap=False \n",
      "[CV]  n_estimators=2688, min_samples_split=15, min_samples_leaf=1, max_features=sqrt, max_depth=10, bootstrap=False, score=0.7269222530040402, total=  12.7s\n",
      "[CV] n_estimators=1444, min_samples_split=15, min_samples_leaf=2, max_features=sqrt, max_depth=90, bootstrap=True \n",
      "[CV]  n_estimators=822, min_samples_split=5, min_samples_leaf=4, max_features=auto, max_depth=10, bootstrap=False, score=0.5973372860612992, total=   3.8s\n",
      "[CV] n_estimators=1444, min_samples_split=15, min_samples_leaf=2, max_features=sqrt, max_depth=90, bootstrap=True \n",
      "[CV]  n_estimators=822, min_samples_split=5, min_samples_leaf=4, max_features=auto, max_depth=10, bootstrap=False, score=0.7364120427589766, total=   3.9s\n",
      "[CV] n_estimators=1444, min_samples_split=15, min_samples_leaf=2, max_features=sqrt, max_depth=90, bootstrap=True \n"
     ]
    },
    {
     "name": "stderr",
     "output_type": "stream",
     "text": [
      "/home/rmorse/anaconda3/lib/python3.6/site-packages/sklearn/metrics/classification.py:1135: UndefinedMetricWarning: F-score is ill-defined and being set to 0.0 in labels with no predicted samples.\n",
      "  'precision', 'predicted', average, warn_for)\n"
     ]
    },
    {
     "name": "stdout",
     "output_type": "stream",
     "text": [
      "[CV]  n_estimators=1444, min_samples_split=15, min_samples_leaf=2, max_features=sqrt, max_depth=90, bootstrap=True, score=0.5816175523518817, total=   5.0s\n",
      "[CV] n_estimators=1755, min_samples_split=2, min_samples_leaf=2, max_features=auto, max_depth=40, bootstrap=True \n",
      "[CV]  n_estimators=2688, min_samples_split=15, min_samples_leaf=1, max_features=sqrt, max_depth=10, bootstrap=False, score=0.6325252355831109, total=  12.5s\n",
      "[CV] n_estimators=1755, min_samples_split=2, min_samples_leaf=2, max_features=auto, max_depth=40, bootstrap=True \n"
     ]
    },
    {
     "name": "stderr",
     "output_type": "stream",
     "text": [
      "/home/rmorse/anaconda3/lib/python3.6/site-packages/sklearn/metrics/classification.py:1135: UndefinedMetricWarning: F-score is ill-defined and being set to 0.0 in labels with no predicted samples.\n",
      "  'precision', 'predicted', average, warn_for)\n"
     ]
    },
    {
     "name": "stdout",
     "output_type": "stream",
     "text": [
      "[CV]  n_estimators=1444, min_samples_split=15, min_samples_leaf=2, max_features=sqrt, max_depth=90, bootstrap=True, score=0.7387968001780487, total=   4.9s\n",
      "[CV] n_estimators=1755, min_samples_split=2, min_samples_leaf=2, max_features=auto, max_depth=40, bootstrap=True \n",
      "[CV]  n_estimators=1444, min_samples_split=15, min_samples_leaf=2, max_features=sqrt, max_depth=90, bootstrap=True, score=0.5548223759424481, total=   4.9s\n",
      "[CV] n_estimators=2377, min_samples_split=5, min_samples_leaf=2, max_features=auto, max_depth=60, bootstrap=True \n",
      "[CV]  n_estimators=1755, min_samples_split=2, min_samples_leaf=2, max_features=auto, max_depth=40, bootstrap=True, score=0.6220933797324131, total=   6.6s\n",
      "[CV] n_estimators=2377, min_samples_split=5, min_samples_leaf=2, max_features=auto, max_depth=60, bootstrap=True \n",
      "[CV]  n_estimators=1755, min_samples_split=2, min_samples_leaf=2, max_features=auto, max_depth=40, bootstrap=True, score=0.7610266163294539, total=   6.7s\n",
      "[CV] n_estimators=2377, min_samples_split=5, min_samples_leaf=2, max_features=auto, max_depth=60, bootstrap=True \n",
      "[CV]  n_estimators=1755, min_samples_split=2, min_samples_leaf=2, max_features=auto, max_depth=40, bootstrap=True, score=0.6305511604567579, total=   6.7s\n",
      "[CV] n_estimators=1444, min_samples_split=5, min_samples_leaf=1, max_features=auto, max_depth=10, bootstrap=False \n",
      "[CV]  n_estimators=2377, min_samples_split=5, min_samples_leaf=2, max_features=auto, max_depth=60, bootstrap=True, score=0.6212394753063107, total=   9.1s\n",
      "[CV] n_estimators=1444, min_samples_split=5, min_samples_leaf=1, max_features=auto, max_depth=10, bootstrap=False \n",
      "[CV]  n_estimators=2377, min_samples_split=5, min_samples_leaf=2, max_features=auto, max_depth=60, bootstrap=True, score=0.7656378982188352, total=   9.0s\n",
      "[CV] n_estimators=1444, min_samples_split=5, min_samples_leaf=1, max_features=auto, max_depth=10, bootstrap=False \n",
      "[CV]  n_estimators=2377, min_samples_split=5, min_samples_leaf=2, max_features=auto, max_depth=60, bootstrap=True, score=0.6498480856431149, total=   8.8s\n",
      "[CV] n_estimators=2066, min_samples_split=2, min_samples_leaf=4, max_features=auto, max_depth=110, bootstrap=False \n",
      "[CV]  n_estimators=1444, min_samples_split=5, min_samples_leaf=1, max_features=auto, max_depth=10, bootstrap=False, score=0.6186640982684327, total=   7.4s\n",
      "[CV] n_estimators=2066, min_samples_split=2, min_samples_leaf=4, max_features=auto, max_depth=110, bootstrap=False \n"
     ]
    },
    {
     "name": "stderr",
     "output_type": "stream",
     "text": [
      "[Parallel(n_jobs=-1)]: Done  24 tasks      | elapsed:   47.6s\n"
     ]
    },
    {
     "name": "stdout",
     "output_type": "stream",
     "text": [
      "[CV]  n_estimators=1444, min_samples_split=5, min_samples_leaf=1, max_features=auto, max_depth=10, bootstrap=False, score=0.7669850185702058, total=   7.5s\n",
      "[CV] n_estimators=2066, min_samples_split=2, min_samples_leaf=4, max_features=auto, max_depth=110, bootstrap=False \n",
      "[CV]  n_estimators=1444, min_samples_split=5, min_samples_leaf=1, max_features=auto, max_depth=10, bootstrap=False, score=0.6433364334116408, total=   7.2s\n",
      "[CV] n_estimators=2377, min_samples_split=2, min_samples_leaf=8, max_features=auto, max_depth=40, bootstrap=True \n",
      "[CV]  n_estimators=2066, min_samples_split=2, min_samples_leaf=4, max_features=auto, max_depth=110, bootstrap=False, score=0.6174227799174954, total=   9.8s\n",
      "[CV] n_estimators=2377, min_samples_split=2, min_samples_leaf=8, max_features=auto, max_depth=40, bootstrap=True \n",
      "[CV]  n_estimators=2066, min_samples_split=2, min_samples_leaf=4, max_features=auto, max_depth=110, bootstrap=False, score=0.7467655653115645, total=   9.8s\n",
      "[CV] n_estimators=2377, min_samples_split=2, min_samples_leaf=8, max_features=auto, max_depth=40, bootstrap=True \n",
      "[CV]  n_estimators=2066, min_samples_split=2, min_samples_leaf=4, max_features=auto, max_depth=110, bootstrap=False, score=0.6392090983659521, total=   9.6s\n",
      "[CV] n_estimators=2688, min_samples_split=2, min_samples_leaf=4, max_features=auto, max_depth=20, bootstrap=True \n"
     ]
    },
    {
     "name": "stderr",
     "output_type": "stream",
     "text": [
      "/home/rmorse/anaconda3/lib/python3.6/site-packages/sklearn/metrics/classification.py:1135: UndefinedMetricWarning: F-score is ill-defined and being set to 0.0 in labels with no predicted samples.\n",
      "  'precision', 'predicted', average, warn_for)\n"
     ]
    },
    {
     "name": "stdout",
     "output_type": "stream",
     "text": [
      "[CV]  n_estimators=2377, min_samples_split=2, min_samples_leaf=8, max_features=auto, max_depth=40, bootstrap=True, score=0.5229276879173547, total=   7.3s\n",
      "[CV] n_estimators=2688, min_samples_split=2, min_samples_leaf=4, max_features=auto, max_depth=20, bootstrap=True \n"
     ]
    },
    {
     "name": "stderr",
     "output_type": "stream",
     "text": [
      "/home/rmorse/anaconda3/lib/python3.6/site-packages/sklearn/metrics/classification.py:1135: UndefinedMetricWarning: F-score is ill-defined and being set to 0.0 in labels with no predicted samples.\n",
      "  'precision', 'predicted', average, warn_for)\n"
     ]
    },
    {
     "name": "stdout",
     "output_type": "stream",
     "text": [
      "[CV]  n_estimators=2377, min_samples_split=2, min_samples_leaf=8, max_features=auto, max_depth=40, bootstrap=True, score=0.6985546385068011, total=   7.3s\n",
      "[CV] n_estimators=2688, min_samples_split=2, min_samples_leaf=4, max_features=auto, max_depth=20, bootstrap=True \n",
      "[CV]  n_estimators=2377, min_samples_split=2, min_samples_leaf=8, max_features=auto, max_depth=40, bootstrap=True, score=0.4843197317738674, total=   7.4s\n",
      "[CV] n_estimators=3000, min_samples_split=5, min_samples_leaf=2, max_features=sqrt, max_depth=30, bootstrap=False \n",
      "[CV]  n_estimators=2688, min_samples_split=2, min_samples_leaf=4, max_features=auto, max_depth=20, bootstrap=True, score=0.5948338193514059, total=   9.2s\n",
      "[CV] n_estimators=3000, min_samples_split=5, min_samples_leaf=2, max_features=sqrt, max_depth=30, bootstrap=False \n",
      "[CV]  n_estimators=2688, min_samples_split=2, min_samples_leaf=4, max_features=auto, max_depth=20, bootstrap=True, score=0.7433307687259857, total=   9.2s\n",
      "[CV] n_estimators=3000, min_samples_split=5, min_samples_leaf=2, max_features=sqrt, max_depth=30, bootstrap=False \n"
     ]
    },
    {
     "name": "stderr",
     "output_type": "stream",
     "text": [
      "/home/rmorse/anaconda3/lib/python3.6/site-packages/sklearn/metrics/classification.py:1135: UndefinedMetricWarning: F-score is ill-defined and being set to 0.0 in labels with no predicted samples.\n",
      "  'precision', 'predicted', average, warn_for)\n"
     ]
    },
    {
     "name": "stdout",
     "output_type": "stream",
     "text": [
      "[CV]  n_estimators=2688, min_samples_split=2, min_samples_leaf=4, max_features=auto, max_depth=20, bootstrap=True, score=0.599482761978622, total=   9.1s\n",
      "[CV] n_estimators=1133, min_samples_split=5, min_samples_leaf=4, max_features=sqrt, max_depth=10, bootstrap=False \n",
      "[CV]  n_estimators=1133, min_samples_split=5, min_samples_leaf=4, max_features=sqrt, max_depth=10, bootstrap=False, score=0.6069604538492066, total=   5.2s\n",
      "[CV] n_estimators=1133, min_samples_split=5, min_samples_leaf=4, max_features=sqrt, max_depth=10, bootstrap=False \n",
      "[CV]  n_estimators=3000, min_samples_split=5, min_samples_leaf=2, max_features=sqrt, max_depth=30, bootstrap=False, score=0.6204948630653405, total=  15.4s\n",
      "[CV] n_estimators=1133, min_samples_split=5, min_samples_leaf=4, max_features=sqrt, max_depth=10, bootstrap=False \n",
      "[CV]  n_estimators=1133, min_samples_split=5, min_samples_leaf=4, max_features=sqrt, max_depth=10, bootstrap=False, score=0.738438567020347, total=   5.2s\n",
      "[CV] n_estimators=2688, min_samples_split=5, min_samples_leaf=1, max_features=auto, max_depth=110, bootstrap=False \n",
      "[CV]  n_estimators=3000, min_samples_split=5, min_samples_leaf=2, max_features=sqrt, max_depth=30, bootstrap=False, score=0.7551863976325756, total=  15.6s\n",
      "[CV] n_estimators=2688, min_samples_split=5, min_samples_leaf=1, max_features=auto, max_depth=110, bootstrap=False \n",
      "[CV]  n_estimators=1133, min_samples_split=5, min_samples_leaf=4, max_features=sqrt, max_depth=10, bootstrap=False, score=0.6289030408697998, total=   5.2s\n",
      "[CV] n_estimators=2688, min_samples_split=5, min_samples_leaf=1, max_features=auto, max_depth=110, bootstrap=False \n",
      "[CV]  n_estimators=3000, min_samples_split=5, min_samples_leaf=2, max_features=sqrt, max_depth=30, bootstrap=False, score=0.6578474824049836, total=  15.3s\n",
      "[CV] n_estimators=2377, min_samples_split=10, min_samples_leaf=4, max_features=auto, max_depth=30, bootstrap=False \n",
      "[CV]  n_estimators=2377, min_samples_split=10, min_samples_leaf=4, max_features=auto, max_depth=30, bootstrap=False, score=0.6067692049784477, total=  11.1s\n",
      "[CV] n_estimators=2377, min_samples_split=10, min_samples_leaf=4, max_features=auto, max_depth=30, bootstrap=False \n",
      "[CV]  n_estimators=2688, min_samples_split=5, min_samples_leaf=1, max_features=auto, max_depth=110, bootstrap=False, score=0.6235325126410379, total=  14.2s\n",
      "[CV] n_estimators=2377, min_samples_split=10, min_samples_leaf=4, max_features=auto, max_depth=30, bootstrap=False \n",
      "[CV]  n_estimators=2688, min_samples_split=5, min_samples_leaf=1, max_features=auto, max_depth=110, bootstrap=False, score=0.7668106731971297, total=  14.3s\n",
      "[CV] n_estimators=511, min_samples_split=2, min_samples_leaf=1, max_features=auto, max_depth=20, bootstrap=True \n",
      "[CV]  n_estimators=2688, min_samples_split=5, min_samples_leaf=1, max_features=auto, max_depth=110, bootstrap=False, score=0.6508626800599514, total=  14.0s\n",
      "[CV] n_estimators=511, min_samples_split=2, min_samples_leaf=1, max_features=auto, max_depth=20, bootstrap=True \n",
      "[CV]  n_estimators=511, min_samples_split=2, min_samples_leaf=1, max_features=auto, max_depth=20, bootstrap=True, score=0.6299105143298966, total=   2.1s\n",
      "[CV] n_estimators=511, min_samples_split=2, min_samples_leaf=1, max_features=auto, max_depth=20, bootstrap=True \n",
      "[CV]  n_estimators=511, min_samples_split=2, min_samples_leaf=1, max_features=auto, max_depth=20, bootstrap=True, score=0.7703456460801428, total=   2.1s\n",
      "[CV] n_estimators=511, min_samples_split=5, min_samples_leaf=4, max_features=auto, max_depth=90, bootstrap=True \n",
      "[CV]  n_estimators=511, min_samples_split=2, min_samples_leaf=1, max_features=auto, max_depth=20, bootstrap=True, score=0.6454510317385327, total=   2.1s\n",
      "[CV] n_estimators=511, min_samples_split=5, min_samples_leaf=4, max_features=auto, max_depth=90, bootstrap=True \n",
      "[CV]  n_estimators=511, min_samples_split=5, min_samples_leaf=4, max_features=auto, max_depth=90, bootstrap=True, score=0.5950796581107476, total=   1.8s\n",
      "[CV] n_estimators=511, min_samples_split=5, min_samples_leaf=4, max_features=auto, max_depth=90, bootstrap=True \n",
      "[CV]  n_estimators=511, min_samples_split=5, min_samples_leaf=4, max_features=auto, max_depth=90, bootstrap=True, score=0.7158627478934203, total=   1.7s\n",
      "[CV] n_estimators=1755, min_samples_split=10, min_samples_leaf=2, max_features=sqrt, max_depth=30, bootstrap=False \n"
     ]
    },
    {
     "name": "stderr",
     "output_type": "stream",
     "text": [
      "/home/rmorse/anaconda3/lib/python3.6/site-packages/sklearn/metrics/classification.py:1135: UndefinedMetricWarning: F-score is ill-defined and being set to 0.0 in labels with no predicted samples.\n",
      "  'precision', 'predicted', average, warn_for)\n"
     ]
    },
    {
     "name": "stdout",
     "output_type": "stream",
     "text": [
      "[CV]  n_estimators=511, min_samples_split=5, min_samples_leaf=4, max_features=auto, max_depth=90, bootstrap=True, score=0.5859566695433043, total=   1.7s\n",
      "[CV] n_estimators=1755, min_samples_split=10, min_samples_leaf=2, max_features=sqrt, max_depth=30, bootstrap=False \n",
      "[CV]  n_estimators=2377, min_samples_split=10, min_samples_leaf=4, max_features=auto, max_depth=30, bootstrap=False, score=0.7424317689789843, total=  11.4s\n",
      "[CV] n_estimators=1755, min_samples_split=10, min_samples_leaf=2, max_features=sqrt, max_depth=30, bootstrap=False \n",
      "[CV]  n_estimators=2377, min_samples_split=10, min_samples_leaf=4, max_features=auto, max_depth=30, bootstrap=False, score=0.6232337980788055, total=  11.0s\n",
      "[CV] n_estimators=1444, min_samples_split=5, min_samples_leaf=8, max_features=auto, max_depth=40, bootstrap=False \n",
      "[CV]  n_estimators=1755, min_samples_split=10, min_samples_leaf=2, max_features=sqrt, max_depth=30, bootstrap=False, score=0.6191565037420841, total=   8.7s\n",
      "[CV] n_estimators=1444, min_samples_split=5, min_samples_leaf=8, max_features=auto, max_depth=40, bootstrap=False \n",
      "[CV]  n_estimators=1755, min_samples_split=10, min_samples_leaf=2, max_features=sqrt, max_depth=30, bootstrap=False, score=0.7522965255058546, total=   8.6s\n",
      "[CV] n_estimators=1444, min_samples_split=5, min_samples_leaf=8, max_features=auto, max_depth=40, bootstrap=False \n",
      "[CV]  n_estimators=1444, min_samples_split=5, min_samples_leaf=8, max_features=auto, max_depth=40, bootstrap=False, score=0.5775636665353227, total=   6.1s\n",
      "[CV] n_estimators=1755, min_samples_split=5, min_samples_leaf=1, max_features=auto, max_depth=20, bootstrap=False \n",
      "[CV]  n_estimators=1755, min_samples_split=10, min_samples_leaf=2, max_features=sqrt, max_depth=30, bootstrap=False, score=0.6328967172614494, total=   8.6s\n",
      "[CV] n_estimators=1755, min_samples_split=5, min_samples_leaf=1, max_features=auto, max_depth=20, bootstrap=False \n"
     ]
    },
    {
     "name": "stderr",
     "output_type": "stream",
     "text": [
      "/home/rmorse/anaconda3/lib/python3.6/site-packages/sklearn/metrics/classification.py:1135: UndefinedMetricWarning: F-score is ill-defined and being set to 0.0 in labels with no predicted samples.\n",
      "  'precision', 'predicted', average, warn_for)\n"
     ]
    },
    {
     "name": "stdout",
     "output_type": "stream",
     "text": [
      "[CV]  n_estimators=1444, min_samples_split=5, min_samples_leaf=8, max_features=auto, max_depth=40, bootstrap=False, score=0.7123170158009735, total=   6.1s\n",
      "[CV] n_estimators=1755, min_samples_split=5, min_samples_leaf=1, max_features=auto, max_depth=20, bootstrap=False \n",
      "[CV]  n_estimators=1444, min_samples_split=5, min_samples_leaf=8, max_features=auto, max_depth=40, bootstrap=False, score=0.5552886090649236, total=   6.0s\n",
      "[CV] n_estimators=1755, min_samples_split=5, min_samples_leaf=1, max_features=auto, max_depth=70, bootstrap=False \n",
      "[CV]  n_estimators=1755, min_samples_split=5, min_samples_leaf=1, max_features=auto, max_depth=20, bootstrap=False, score=0.6283927807084642, total=   9.3s\n",
      "[CV] n_estimators=1755, min_samples_split=5, min_samples_leaf=1, max_features=auto, max_depth=70, bootstrap=False \n",
      "[CV]  n_estimators=1755, min_samples_split=5, min_samples_leaf=1, max_features=auto, max_depth=20, bootstrap=False, score=0.7727283318007712, total=   9.3s\n",
      "[CV] n_estimators=1755, min_samples_split=5, min_samples_leaf=1, max_features=auto, max_depth=70, bootstrap=False \n",
      "[CV]  n_estimators=1755, min_samples_split=5, min_samples_leaf=1, max_features=auto, max_depth=20, bootstrap=False, score=0.6442768920134648, total=   9.2s\n",
      "[CV] n_estimators=1755, min_samples_split=5, min_samples_leaf=2, max_features=sqrt, max_depth=20, bootstrap=True \n",
      "[CV]  n_estimators=1755, min_samples_split=5, min_samples_leaf=1, max_features=auto, max_depth=70, bootstrap=False, score=0.6253482462955088, total=   9.2s\n",
      "[CV] n_estimators=1755, min_samples_split=5, min_samples_leaf=2, max_features=sqrt, max_depth=20, bootstrap=True \n",
      "[CV]  n_estimators=1755, min_samples_split=5, min_samples_leaf=1, max_features=auto, max_depth=70, bootstrap=False, score=0.7601015464125592, total=   9.3s\n",
      "[CV] n_estimators=1755, min_samples_split=5, min_samples_leaf=2, max_features=sqrt, max_depth=20, bootstrap=True \n",
      "[CV]  n_estimators=1755, min_samples_split=5, min_samples_leaf=2, max_features=sqrt, max_depth=20, bootstrap=True, score=0.6078506296271513, total=   6.7s\n",
      "[CV] n_estimators=200, min_samples_split=15, min_samples_leaf=1, max_features=auto, max_depth=70, bootstrap=False \n",
      "[CV]  n_estimators=1755, min_samples_split=5, min_samples_leaf=2, max_features=sqrt, max_depth=20, bootstrap=True, score=0.7596385507677127, total=   6.6s\n",
      "[CV] n_estimators=200, min_samples_split=15, min_samples_leaf=1, max_features=auto, max_depth=70, bootstrap=False \n",
      "[CV]  n_estimators=1755, min_samples_split=5, min_samples_leaf=1, max_features=auto, max_depth=70, bootstrap=False, score=0.6591817487664235, total=   9.3s\n",
      "[CV] n_estimators=200, min_samples_split=15, min_samples_leaf=1, max_features=auto, max_depth=70, bootstrap=False \n",
      "[CV]  n_estimators=200, min_samples_split=15, min_samples_leaf=1, max_features=auto, max_depth=70, bootstrap=False, score=0.5971307777699076, total=   1.0s\n",
      "[CV] n_estimators=1755, min_samples_split=5, min_samples_leaf=8, max_features=sqrt, max_depth=70, bootstrap=False \n",
      "[CV]  n_estimators=200, min_samples_split=15, min_samples_leaf=1, max_features=auto, max_depth=70, bootstrap=False, score=0.7438001125964664, total=   1.0s\n",
      "[CV] n_estimators=1755, min_samples_split=5, min_samples_leaf=8, max_features=sqrt, max_depth=70, bootstrap=False \n",
      "[CV]  n_estimators=200, min_samples_split=15, min_samples_leaf=1, max_features=auto, max_depth=70, bootstrap=False, score=0.5889490015657635, total=   0.9s\n",
      "[CV] n_estimators=1755, min_samples_split=5, min_samples_leaf=8, max_features=sqrt, max_depth=70, bootstrap=False \n",
      "[CV]  n_estimators=1755, min_samples_split=5, min_samples_leaf=2, max_features=sqrt, max_depth=20, bootstrap=True, score=0.6368462917954746, total=   6.5s\n",
      "[CV] n_estimators=1133, min_samples_split=15, min_samples_leaf=8, max_features=auto, max_depth=20, bootstrap=True \n"
     ]
    },
    {
     "name": "stderr",
     "output_type": "stream",
     "text": [
      "/home/rmorse/anaconda3/lib/python3.6/site-packages/sklearn/metrics/classification.py:1135: UndefinedMetricWarning: F-score is ill-defined and being set to 0.0 in labels with no predicted samples.\n",
      "  'precision', 'predicted', average, warn_for)\n",
      "/home/rmorse/anaconda3/lib/python3.6/site-packages/sklearn/metrics/classification.py:1135: UndefinedMetricWarning: F-score is ill-defined and being set to 0.0 in labels with no predicted samples.\n",
      "  'precision', 'predicted', average, warn_for)\n"
     ]
    },
    {
     "name": "stdout",
     "output_type": "stream",
     "text": [
      "[CV]  n_estimators=1755, min_samples_split=5, min_samples_leaf=8, max_features=sqrt, max_depth=70, bootstrap=False, score=0.5862315391721635, total=   7.5s\n",
      "[CV] n_estimators=1133, min_samples_split=15, min_samples_leaf=8, max_features=auto, max_depth=20, bootstrap=True \n",
      "[CV]  n_estimators=1133, min_samples_split=15, min_samples_leaf=8, max_features=auto, max_depth=20, bootstrap=True, score=0.5327195067230194, total=   3.5s\n",
      "[CV] n_estimators=1133, min_samples_split=15, min_samples_leaf=8, max_features=auto, max_depth=20, bootstrap=True \n",
      "[CV]  n_estimators=1755, min_samples_split=5, min_samples_leaf=8, max_features=sqrt, max_depth=70, bootstrap=False, score=0.7126688730211704, total=   7.4s\n",
      "[CV] n_estimators=1133, min_samples_split=15, min_samples_leaf=8, max_features=sqrt, max_depth=110, bootstrap=True \n",
      "[CV]  n_estimators=1755, min_samples_split=5, min_samples_leaf=8, max_features=sqrt, max_depth=70, bootstrap=False, score=0.5518533140103663, total=   7.4s\n",
      "[CV] n_estimators=1133, min_samples_split=15, min_samples_leaf=8, max_features=sqrt, max_depth=110, bootstrap=True \n"
     ]
    },
    {
     "name": "stderr",
     "output_type": "stream",
     "text": [
      "/home/rmorse/anaconda3/lib/python3.6/site-packages/sklearn/metrics/classification.py:1135: UndefinedMetricWarning: F-score is ill-defined and being set to 0.0 in labels with no predicted samples.\n",
      "  'precision', 'predicted', average, warn_for)\n",
      "/home/rmorse/anaconda3/lib/python3.6/site-packages/sklearn/metrics/classification.py:1135: UndefinedMetricWarning: F-score is ill-defined and being set to 0.0 in labels with no predicted samples.\n",
      "  'precision', 'predicted', average, warn_for)\n"
     ]
    },
    {
     "name": "stdout",
     "output_type": "stream",
     "text": [
      "[CV]  n_estimators=1133, min_samples_split=15, min_samples_leaf=8, max_features=auto, max_depth=20, bootstrap=True, score=0.6849520052961872, total=   3.5s\n",
      "[CV] n_estimators=1133, min_samples_split=15, min_samples_leaf=8, max_features=sqrt, max_depth=110, bootstrap=True \n",
      "[CV]  n_estimators=1133, min_samples_split=15, min_samples_leaf=8, max_features=auto, max_depth=20, bootstrap=True, score=0.5110507394253837, total=   3.5s\n",
      "[CV] n_estimators=200, min_samples_split=10, min_samples_leaf=4, max_features=sqrt, max_depth=100, bootstrap=False \n",
      "[CV]  n_estimators=1133, min_samples_split=15, min_samples_leaf=8, max_features=sqrt, max_depth=110, bootstrap=True, score=0.5309273501275268, total=   3.5s\n",
      "[CV] n_estimators=200, min_samples_split=10, min_samples_leaf=4, max_features=sqrt, max_depth=100, bootstrap=False \n",
      "[CV]  n_estimators=1133, min_samples_split=15, min_samples_leaf=8, max_features=sqrt, max_depth=110, bootstrap=True, score=0.6808281917650442, total=   3.5s\n",
      "[CV] n_estimators=200, min_samples_split=10, min_samples_leaf=4, max_features=sqrt, max_depth=100, bootstrap=False \n",
      "[CV]  n_estimators=200, min_samples_split=10, min_samples_leaf=4, max_features=sqrt, max_depth=100, bootstrap=False, score=0.5877254278192952, total=   0.9s\n",
      "[CV] n_estimators=3000, min_samples_split=5, min_samples_leaf=4, max_features=sqrt, max_depth=20, bootstrap=False \n",
      "[CV]  n_estimators=200, min_samples_split=10, min_samples_leaf=4, max_features=sqrt, max_depth=100, bootstrap=False, score=0.7499081903166552, total=   0.9s\n",
      "[CV] n_estimators=3000, min_samples_split=5, min_samples_leaf=4, max_features=sqrt, max_depth=20, bootstrap=False \n"
     ]
    },
    {
     "name": "stderr",
     "output_type": "stream",
     "text": [
      "/home/rmorse/anaconda3/lib/python3.6/site-packages/sklearn/metrics/classification.py:1135: UndefinedMetricWarning: F-score is ill-defined and being set to 0.0 in labels with no predicted samples.\n",
      "  'precision', 'predicted', average, warn_for)\n"
     ]
    },
    {
     "name": "stdout",
     "output_type": "stream",
     "text": [
      "[CV]  n_estimators=200, min_samples_split=10, min_samples_leaf=4, max_features=sqrt, max_depth=100, bootstrap=False, score=0.5954224992706996, total=   0.9s\n",
      "[CV] n_estimators=3000, min_samples_split=5, min_samples_leaf=4, max_features=sqrt, max_depth=20, bootstrap=False \n"
     ]
    },
    {
     "name": "stderr",
     "output_type": "stream",
     "text": [
      "/home/rmorse/anaconda3/lib/python3.6/site-packages/sklearn/metrics/classification.py:1135: UndefinedMetricWarning: F-score is ill-defined and being set to 0.0 in labels with no predicted samples.\n",
      "  'precision', 'predicted', average, warn_for)\n"
     ]
    },
    {
     "name": "stdout",
     "output_type": "stream",
     "text": [
      "[CV]  n_estimators=1133, min_samples_split=15, min_samples_leaf=8, max_features=sqrt, max_depth=110, bootstrap=True, score=0.4803773821634747, total=   3.5s\n",
      "[CV] n_estimators=822, min_samples_split=2, min_samples_leaf=4, max_features=auto, max_depth=50, bootstrap=False \n",
      "[CV]  n_estimators=822, min_samples_split=2, min_samples_leaf=4, max_features=auto, max_depth=50, bootstrap=False, score=0.6163328524516084, total=   3.9s\n",
      "[CV] n_estimators=822, min_samples_split=2, min_samples_leaf=4, max_features=auto, max_depth=50, bootstrap=False \n",
      "[CV]  n_estimators=822, min_samples_split=2, min_samples_leaf=4, max_features=auto, max_depth=50, bootstrap=False, score=0.7446739775246081, total=   3.9s\n",
      "[CV] n_estimators=822, min_samples_split=2, min_samples_leaf=4, max_features=auto, max_depth=50, bootstrap=False \n",
      "[CV]  n_estimators=3000, min_samples_split=5, min_samples_leaf=4, max_features=sqrt, max_depth=20, bootstrap=False, score=0.6016284517599537, total=  14.2s\n",
      "[CV]  n_estimators=822, min_samples_split=2, min_samples_leaf=4, max_features=auto, max_depth=50, bootstrap=False, score=0.6256883493588998, total=   3.9s\n",
      "[CV] n_estimators=511, min_samples_split=5, min_samples_leaf=2, max_features=sqrt, max_depth=110, bootstrap=True \n",
      "[CV]  n_estimators=3000, min_samples_split=5, min_samples_leaf=4, max_features=sqrt, max_depth=20, bootstrap=False, score=0.6220848458899091, total=  14.0s\n",
      "[CV] n_estimators=511, min_samples_split=5, min_samples_leaf=2, max_features=sqrt, max_depth=110, bootstrap=True \n",
      "[CV] n_estimators=511, min_samples_split=5, min_samples_leaf=2, max_features=sqrt, max_depth=110, bootstrap=True \n",
      "[CV]  n_estimators=3000, min_samples_split=5, min_samples_leaf=4, max_features=sqrt, max_depth=20, bootstrap=False, score=0.74939107098545, total=  14.2s\n",
      "[CV] n_estimators=1755, min_samples_split=5, min_samples_leaf=2, max_features=auto, max_depth=90, bootstrap=False \n"
     ]
    },
    {
     "name": "stderr",
     "output_type": "stream",
     "text": [
      "/home/rmorse/anaconda3/lib/python3.6/site-packages/sklearn/metrics/classification.py:1135: UndefinedMetricWarning: F-score is ill-defined and being set to 0.0 in labels with no predicted samples.\n",
      "  'precision', 'predicted', average, warn_for)\n"
     ]
    },
    {
     "name": "stdout",
     "output_type": "stream",
     "text": [
      "[CV]  n_estimators=511, min_samples_split=5, min_samples_leaf=2, max_features=sqrt, max_depth=110, bootstrap=True, score=0.6101539929788392, total=   1.9s\n",
      "[CV] n_estimators=1755, min_samples_split=5, min_samples_leaf=2, max_features=auto, max_depth=90, bootstrap=False \n",
      "[CV]  n_estimators=511, min_samples_split=5, min_samples_leaf=2, max_features=sqrt, max_depth=110, bootstrap=True, score=0.735537713477706, total=   1.9s\n",
      "[CV]  n_estimators=511, min_samples_split=5, min_samples_leaf=2, max_features=sqrt, max_depth=110, bootstrap=True, score=0.6211366137374563, total=   1.9s\n",
      "[CV] n_estimators=1755, min_samples_split=5, min_samples_leaf=2, max_features=auto, max_depth=90, bootstrap=False \n",
      "[CV] n_estimators=822, min_samples_split=5, min_samples_leaf=8, max_features=auto, max_depth=10, bootstrap=True \n"
     ]
    },
    {
     "name": "stderr",
     "output_type": "stream",
     "text": [
      "/home/rmorse/anaconda3/lib/python3.6/site-packages/sklearn/metrics/classification.py:1135: UndefinedMetricWarning: F-score is ill-defined and being set to 0.0 in labels with no predicted samples.\n",
      "  'precision', 'predicted', average, warn_for)\n"
     ]
    },
    {
     "name": "stdout",
     "output_type": "stream",
     "text": [
      "[CV]  n_estimators=822, min_samples_split=5, min_samples_leaf=8, max_features=auto, max_depth=10, bootstrap=True, score=0.5239230540958921, total=   2.5s\n",
      "[CV] n_estimators=822, min_samples_split=5, min_samples_leaf=8, max_features=auto, max_depth=10, bootstrap=True \n",
      "[CV]  n_estimators=822, min_samples_split=5, min_samples_leaf=8, max_features=auto, max_depth=10, bootstrap=True, score=0.6938347683354603, total=   2.5s\n",
      "[CV] n_estimators=822, min_samples_split=5, min_samples_leaf=8, max_features=auto, max_depth=10, bootstrap=True \n",
      "[CV]  n_estimators=1755, min_samples_split=5, min_samples_leaf=2, max_features=auto, max_depth=90, bootstrap=False, score=0.6167262725726615, total=   9.0s\n",
      "[CV] n_estimators=1755, min_samples_split=5, min_samples_leaf=4, max_features=sqrt, max_depth=50, bootstrap=True \n"
     ]
    },
    {
     "name": "stderr",
     "output_type": "stream",
     "text": [
      "/home/rmorse/anaconda3/lib/python3.6/site-packages/sklearn/metrics/classification.py:1135: UndefinedMetricWarning: F-score is ill-defined and being set to 0.0 in labels with no predicted samples.\n",
      "  'precision', 'predicted', average, warn_for)\n"
     ]
    },
    {
     "name": "stdout",
     "output_type": "stream",
     "text": [
      "[CV]  n_estimators=822, min_samples_split=5, min_samples_leaf=8, max_features=auto, max_depth=10, bootstrap=True, score=0.5011529763594555, total=   2.6s\n",
      "[CV] n_estimators=1755, min_samples_split=5, min_samples_leaf=4, max_features=sqrt, max_depth=50, bootstrap=True \n",
      "[CV]  n_estimators=1755, min_samples_split=5, min_samples_leaf=2, max_features=auto, max_depth=90, bootstrap=False, score=0.6454833998220689, total=   8.8s\n",
      "[CV] n_estimators=1755, min_samples_split=5, min_samples_leaf=4, max_features=sqrt, max_depth=50, bootstrap=True \n",
      "[CV]  n_estimators=1755, min_samples_split=5, min_samples_leaf=2, max_features=auto, max_depth=90, bootstrap=False, score=0.7643312448160091, total=   9.0s\n",
      "[CV] n_estimators=2688, min_samples_split=15, min_samples_leaf=2, max_features=sqrt, max_depth=100, bootstrap=False \n",
      "[CV]  n_estimators=1755, min_samples_split=5, min_samples_leaf=4, max_features=sqrt, max_depth=50, bootstrap=True, score=0.5804767761306371, total=   6.0s\n",
      "[CV] n_estimators=2688, min_samples_split=15, min_samples_leaf=2, max_features=sqrt, max_depth=100, bootstrap=False \n",
      "[CV]  n_estimators=1755, min_samples_split=5, min_samples_leaf=4, max_features=sqrt, max_depth=50, bootstrap=True, score=0.7485232810204407, total=   6.1s\n",
      "[CV] n_estimators=2688, min_samples_split=15, min_samples_leaf=2, max_features=sqrt, max_depth=100, bootstrap=False \n"
     ]
    },
    {
     "name": "stderr",
     "output_type": "stream",
     "text": [
      "/home/rmorse/anaconda3/lib/python3.6/site-packages/sklearn/metrics/classification.py:1135: UndefinedMetricWarning: F-score is ill-defined and being set to 0.0 in labels with no predicted samples.\n",
      "  'precision', 'predicted', average, warn_for)\n"
     ]
    },
    {
     "name": "stdout",
     "output_type": "stream",
     "text": [
      "[CV]  n_estimators=1755, min_samples_split=5, min_samples_leaf=4, max_features=sqrt, max_depth=50, bootstrap=True, score=0.5875666391971004, total=   6.1s\n",
      "[CV] n_estimators=822, min_samples_split=15, min_samples_leaf=2, max_features=auto, max_depth=60, bootstrap=True \n"
     ]
    },
    {
     "name": "stderr",
     "output_type": "stream",
     "text": [
      "/home/rmorse/anaconda3/lib/python3.6/site-packages/sklearn/metrics/classification.py:1135: UndefinedMetricWarning: F-score is ill-defined and being set to 0.0 in labels with no predicted samples.\n",
      "  'precision', 'predicted', average, warn_for)\n"
     ]
    },
    {
     "name": "stdout",
     "output_type": "stream",
     "text": [
      "[CV]  n_estimators=822, min_samples_split=15, min_samples_leaf=2, max_features=auto, max_depth=60, bootstrap=True, score=0.5950058225816285, total=   2.8s\n",
      "[CV] n_estimators=822, min_samples_split=15, min_samples_leaf=2, max_features=auto, max_depth=60, bootstrap=True \n",
      "[CV]  n_estimators=822, min_samples_split=15, min_samples_leaf=2, max_features=auto, max_depth=60, bootstrap=True, score=0.7258296173393468, total=   2.8s\n",
      "[CV] n_estimators=822, min_samples_split=15, min_samples_leaf=2, max_features=auto, max_depth=60, bootstrap=True \n",
      "[CV]  n_estimators=2688, min_samples_split=15, min_samples_leaf=2, max_features=sqrt, max_depth=100, bootstrap=False, score=0.5984939439540162, total=  12.6s\n",
      "[CV] n_estimators=511, min_samples_split=5, min_samples_leaf=8, max_features=sqrt, max_depth=50, bootstrap=False \n"
     ]
    },
    {
     "name": "stderr",
     "output_type": "stream",
     "text": [
      "/home/rmorse/anaconda3/lib/python3.6/site-packages/sklearn/metrics/classification.py:1135: UndefinedMetricWarning: F-score is ill-defined and being set to 0.0 in labels with no predicted samples.\n",
      "  'precision', 'predicted', average, warn_for)\n"
     ]
    },
    {
     "name": "stdout",
     "output_type": "stream",
     "text": [
      "[CV]  n_estimators=511, min_samples_split=5, min_samples_leaf=8, max_features=sqrt, max_depth=50, bootstrap=False, score=0.5890190484333132, total=   2.1s\n",
      "[CV] n_estimators=511, min_samples_split=5, min_samples_leaf=8, max_features=sqrt, max_depth=50, bootstrap=False \n",
      "[CV]  n_estimators=822, min_samples_split=15, min_samples_leaf=2, max_features=auto, max_depth=60, bootstrap=True, score=0.533327659383387, total=   2.8s\n",
      "[CV] n_estimators=511, min_samples_split=5, min_samples_leaf=8, max_features=sqrt, max_depth=50, bootstrap=False \n"
     ]
    },
    {
     "name": "stderr",
     "output_type": "stream",
     "text": [
      "/home/rmorse/anaconda3/lib/python3.6/site-packages/sklearn/metrics/classification.py:1135: UndefinedMetricWarning: F-score is ill-defined and being set to 0.0 in labels with no predicted samples.\n",
      "  'precision', 'predicted', average, warn_for)\n"
     ]
    },
    {
     "name": "stdout",
     "output_type": "stream",
     "text": [
      "[CV]  n_estimators=511, min_samples_split=5, min_samples_leaf=8, max_features=sqrt, max_depth=50, bootstrap=False, score=0.7027067578038769, total=   2.1s\n",
      "[CV] n_estimators=2066, min_samples_split=15, min_samples_leaf=1, max_features=auto, max_depth=40, bootstrap=True \n",
      "[CV]  n_estimators=511, min_samples_split=5, min_samples_leaf=8, max_features=sqrt, max_depth=50, bootstrap=False, score=0.5635583928242144, total=   2.1s\n",
      "[CV] n_estimators=2066, min_samples_split=15, min_samples_leaf=1, max_features=auto, max_depth=40, bootstrap=True \n",
      "[CV]  n_estimators=2688, min_samples_split=15, min_samples_leaf=2, max_features=sqrt, max_depth=100, bootstrap=False, score=0.7411867530158112, total=  12.6s\n",
      "[CV] n_estimators=2066, min_samples_split=15, min_samples_leaf=1, max_features=auto, max_depth=40, bootstrap=True \n",
      "[CV]  n_estimators=2688, min_samples_split=15, min_samples_leaf=2, max_features=sqrt, max_depth=100, bootstrap=False, score=0.6068459624351253, total=  12.6s\n",
      "[CV] n_estimators=2066, min_samples_split=5, min_samples_leaf=4, max_features=auto, max_depth=110, bootstrap=False \n"
     ]
    },
    {
     "name": "stderr",
     "output_type": "stream",
     "text": [
      "/home/rmorse/anaconda3/lib/python3.6/site-packages/sklearn/metrics/classification.py:1135: UndefinedMetricWarning: F-score is ill-defined and being set to 0.0 in labels with no predicted samples.\n",
      "  'precision', 'predicted', average, warn_for)\n",
      "/home/rmorse/anaconda3/lib/python3.6/site-packages/sklearn/metrics/classification.py:1135: UndefinedMetricWarning: F-score is ill-defined and being set to 0.0 in labels with no predicted samples.\n",
      "  'precision', 'predicted', average, warn_for)\n"
     ]
    },
    {
     "name": "stdout",
     "output_type": "stream",
     "text": [
      "[CV]  n_estimators=2066, min_samples_split=15, min_samples_leaf=1, max_features=auto, max_depth=40, bootstrap=True, score=0.5622684277830404, total=   7.1s\n",
      "[CV] n_estimators=2066, min_samples_split=5, min_samples_leaf=4, max_features=auto, max_depth=110, bootstrap=False \n",
      "[CV]  n_estimators=2066, min_samples_split=15, min_samples_leaf=1, max_features=auto, max_depth=40, bootstrap=True, score=0.5858247450894811, total=   7.2s\n",
      "[CV] n_estimators=2066, min_samples_split=5, min_samples_leaf=4, max_features=auto, max_depth=110, bootstrap=False \n",
      "[CV]  n_estimators=2066, min_samples_split=15, min_samples_leaf=1, max_features=auto, max_depth=40, bootstrap=True, score=0.7402438712870265, total=   7.2s\n",
      "[CV] n_estimators=1133, min_samples_split=15, min_samples_leaf=2, max_features=auto, max_depth=60, bootstrap=False \n",
      "[CV]  n_estimators=2066, min_samples_split=5, min_samples_leaf=4, max_features=auto, max_depth=110, bootstrap=False, score=0.6088653397547417, total=   9.8s\n",
      "[CV] n_estimators=1133, min_samples_split=15, min_samples_leaf=2, max_features=auto, max_depth=60, bootstrap=False \n",
      "[CV]  n_estimators=1133, min_samples_split=15, min_samples_leaf=2, max_features=auto, max_depth=60, bootstrap=False, score=0.6004866123604402, total=   5.3s\n",
      "[CV] n_estimators=1133, min_samples_split=15, min_samples_leaf=2, max_features=auto, max_depth=60, bootstrap=False \n",
      "[CV]  n_estimators=1133, min_samples_split=15, min_samples_leaf=2, max_features=auto, max_depth=60, bootstrap=False, score=0.7427849690002334, total=   5.4s\n",
      "[CV] n_estimators=200, min_samples_split=10, min_samples_leaf=1, max_features=sqrt, max_depth=20, bootstrap=True \n",
      "[CV]  n_estimators=200, min_samples_split=10, min_samples_leaf=1, max_features=sqrt, max_depth=20, bootstrap=True, score=0.6087609614785803, total=   0.7s\n",
      "[CV] n_estimators=200, min_samples_split=10, min_samples_leaf=1, max_features=sqrt, max_depth=20, bootstrap=True \n",
      "[CV]  n_estimators=2066, min_samples_split=5, min_samples_leaf=4, max_features=auto, max_depth=110, bootstrap=False, score=0.6318036797117794, total=   9.7s\n",
      "[CV] n_estimators=200, min_samples_split=10, min_samples_leaf=1, max_features=sqrt, max_depth=20, bootstrap=True \n",
      "[CV]  n_estimators=2066, min_samples_split=5, min_samples_leaf=4, max_features=auto, max_depth=110, bootstrap=False, score=0.7377780483203495, total=   9.8s\n",
      "[CV] n_estimators=1444, min_samples_split=2, min_samples_leaf=4, max_features=sqrt, max_depth=10, bootstrap=False \n"
     ]
    },
    {
     "name": "stderr",
     "output_type": "stream",
     "text": [
      "[Parallel(n_jobs=-1)]: Done 120 tasks      | elapsed:  3.6min\n"
     ]
    },
    {
     "name": "stdout",
     "output_type": "stream",
     "text": [
      "[CV]  n_estimators=200, min_samples_split=10, min_samples_leaf=1, max_features=sqrt, max_depth=20, bootstrap=True, score=0.7297763662450962, total=   0.7s\n",
      "[CV] n_estimators=1444, min_samples_split=2, min_samples_leaf=4, max_features=sqrt, max_depth=10, bootstrap=False \n"
     ]
    },
    {
     "name": "stderr",
     "output_type": "stream",
     "text": [
      "/home/rmorse/anaconda3/lib/python3.6/site-packages/sklearn/metrics/classification.py:1135: UndefinedMetricWarning: F-score is ill-defined and being set to 0.0 in labels with no predicted samples.\n",
      "  'precision', 'predicted', average, warn_for)\n"
     ]
    },
    {
     "name": "stdout",
     "output_type": "stream",
     "text": [
      "[CV]  n_estimators=200, min_samples_split=10, min_samples_leaf=1, max_features=sqrt, max_depth=20, bootstrap=True, score=0.5963424018763114, total=   0.7s\n",
      "[CV] n_estimators=1444, min_samples_split=2, min_samples_leaf=4, max_features=sqrt, max_depth=10, bootstrap=False \n",
      "[CV]  n_estimators=1133, min_samples_split=15, min_samples_leaf=2, max_features=auto, max_depth=60, bootstrap=False, score=0.6154168077816068, total=   5.3s\n",
      "[CV] n_estimators=822, min_samples_split=10, min_samples_leaf=2, max_features=sqrt, max_depth=110, bootstrap=True \n",
      "[CV]  n_estimators=822, min_samples_split=10, min_samples_leaf=2, max_features=sqrt, max_depth=110, bootstrap=True, score=0.613969401758014, total=   2.9s\n",
      "[CV] n_estimators=822, min_samples_split=10, min_samples_leaf=2, max_features=sqrt, max_depth=110, bootstrap=True \n",
      "[CV]  n_estimators=1444, min_samples_split=2, min_samples_leaf=4, max_features=sqrt, max_depth=10, bootstrap=False, score=0.6156017912594789, total=   6.7s\n",
      "[CV] n_estimators=822, min_samples_split=10, min_samples_leaf=2, max_features=sqrt, max_depth=110, bootstrap=True \n",
      "[CV]  n_estimators=822, min_samples_split=10, min_samples_leaf=2, max_features=sqrt, max_depth=110, bootstrap=True, score=0.7457108154936765, total=   2.9s\n",
      "[CV] n_estimators=2688, min_samples_split=5, min_samples_leaf=8, max_features=sqrt, max_depth=80, bootstrap=False \n",
      "[CV]  n_estimators=1444, min_samples_split=2, min_samples_leaf=4, max_features=sqrt, max_depth=10, bootstrap=False, score=0.753564141089189, total=   6.8s\n",
      "[CV] n_estimators=2688, min_samples_split=5, min_samples_leaf=8, max_features=sqrt, max_depth=80, bootstrap=False \n",
      "[CV]  n_estimators=1444, min_samples_split=2, min_samples_leaf=4, max_features=sqrt, max_depth=10, bootstrap=False, score=0.6167642463868891, total=   6.7s\n",
      "[CV] n_estimators=2688, min_samples_split=5, min_samples_leaf=8, max_features=sqrt, max_depth=80, bootstrap=False \n"
     ]
    },
    {
     "name": "stderr",
     "output_type": "stream",
     "text": [
      "/home/rmorse/anaconda3/lib/python3.6/site-packages/sklearn/metrics/classification.py:1135: UndefinedMetricWarning: F-score is ill-defined and being set to 0.0 in labels with no predicted samples.\n",
      "  'precision', 'predicted', average, warn_for)\n"
     ]
    },
    {
     "name": "stdout",
     "output_type": "stream",
     "text": [
      "[CV]  n_estimators=822, min_samples_split=10, min_samples_leaf=2, max_features=sqrt, max_depth=110, bootstrap=True, score=0.6106101548393592, total=   3.0s\n",
      "[CV] n_estimators=2377, min_samples_split=2, min_samples_leaf=2, max_features=auto, max_depth=40, bootstrap=False \n"
     ]
    },
    {
     "name": "stderr",
     "output_type": "stream",
     "text": [
      "/home/rmorse/anaconda3/lib/python3.6/site-packages/sklearn/metrics/classification.py:1135: UndefinedMetricWarning: F-score is ill-defined and being set to 0.0 in labels with no predicted samples.\n",
      "  'precision', 'predicted', average, warn_for)\n"
     ]
    },
    {
     "name": "stdout",
     "output_type": "stream",
     "text": [
      "[CV]  n_estimators=2688, min_samples_split=5, min_samples_leaf=8, max_features=sqrt, max_depth=80, bootstrap=False, score=0.5859308796732239, total=  11.4s\n",
      "[CV] n_estimators=2377, min_samples_split=2, min_samples_leaf=2, max_features=auto, max_depth=40, bootstrap=False \n",
      "[CV]  n_estimators=2688, min_samples_split=5, min_samples_leaf=8, max_features=sqrt, max_depth=80, bootstrap=False, score=0.5648937634211568, total=  11.2s\n",
      "[CV] n_estimators=2377, min_samples_split=2, min_samples_leaf=2, max_features=auto, max_depth=40, bootstrap=False \n",
      "[CV]  n_estimators=2688, min_samples_split=5, min_samples_leaf=8, max_features=sqrt, max_depth=80, bootstrap=False, score=0.6977569709125045, total=  11.6s\n",
      "[CV] n_estimators=2688, min_samples_split=5, min_samples_leaf=8, max_features=sqrt, max_depth=90, bootstrap=True \n",
      "[CV]  n_estimators=2377, min_samples_split=2, min_samples_leaf=2, max_features=auto, max_depth=40, bootstrap=False, score=0.6175278567938496, total=  12.2s\n",
      "[CV] n_estimators=2688, min_samples_split=5, min_samples_leaf=8, max_features=sqrt, max_depth=90, bootstrap=True \n"
     ]
    },
    {
     "name": "stderr",
     "output_type": "stream",
     "text": [
      "/home/rmorse/anaconda3/lib/python3.6/site-packages/sklearn/metrics/classification.py:1135: UndefinedMetricWarning: F-score is ill-defined and being set to 0.0 in labels with no predicted samples.\n",
      "  'precision', 'predicted', average, warn_for)\n"
     ]
    },
    {
     "name": "stdout",
     "output_type": "stream",
     "text": [
      "[CV]  n_estimators=2688, min_samples_split=5, min_samples_leaf=8, max_features=sqrt, max_depth=90, bootstrap=True, score=0.5336024886194108, total=   8.3s\n",
      "[CV] n_estimators=2688, min_samples_split=5, min_samples_leaf=8, max_features=sqrt, max_depth=90, bootstrap=True \n",
      "[CV]  n_estimators=2688, min_samples_split=5, min_samples_leaf=8, max_features=sqrt, max_depth=90, bootstrap=True, score=0.7053499887929146, total=   8.2s\n",
      "[CV] n_estimators=2377, min_samples_split=5, min_samples_leaf=2, max_features=sqrt, max_depth=110, bootstrap=False \n",
      "[CV]  n_estimators=2377, min_samples_split=2, min_samples_leaf=2, max_features=auto, max_depth=40, bootstrap=False, score=0.7741574253482425, total=  12.3s\n",
      "[CV] n_estimators=2377, min_samples_split=5, min_samples_leaf=2, max_features=sqrt, max_depth=110, bootstrap=False \n",
      "[CV]  n_estimators=2377, min_samples_split=2, min_samples_leaf=2, max_features=auto, max_depth=40, bootstrap=False, score=0.6574169075394822, total=  12.2s\n",
      "[CV] n_estimators=2377, min_samples_split=5, min_samples_leaf=2, max_features=sqrt, max_depth=110, bootstrap=False \n"
     ]
    },
    {
     "name": "stderr",
     "output_type": "stream",
     "text": [
      "/home/rmorse/anaconda3/lib/python3.6/site-packages/sklearn/metrics/classification.py:1135: UndefinedMetricWarning: F-score is ill-defined and being set to 0.0 in labels with no predicted samples.\n",
      "  'precision', 'predicted', average, warn_for)\n"
     ]
    },
    {
     "name": "stdout",
     "output_type": "stream",
     "text": [
      "[CV]  n_estimators=2688, min_samples_split=5, min_samples_leaf=8, max_features=sqrt, max_depth=90, bootstrap=True, score=0.51576707356945, total=   8.3s\n",
      "[CV] n_estimators=3000, min_samples_split=2, min_samples_leaf=1, max_features=auto, max_depth=30, bootstrap=False \n",
      "[CV]  n_estimators=2377, min_samples_split=5, min_samples_leaf=2, max_features=sqrt, max_depth=110, bootstrap=False, score=0.6266991664227947, total=  12.1s\n",
      "[CV] n_estimators=3000, min_samples_split=2, min_samples_leaf=1, max_features=auto, max_depth=30, bootstrap=False \n",
      "[CV]  n_estimators=2377, min_samples_split=5, min_samples_leaf=2, max_features=sqrt, max_depth=110, bootstrap=False, score=0.7521143767347808, total=  12.2s\n",
      "[CV] n_estimators=3000, min_samples_split=2, min_samples_leaf=1, max_features=auto, max_depth=30, bootstrap=False \n",
      "[CV]  n_estimators=2377, min_samples_split=5, min_samples_leaf=2, max_features=sqrt, max_depth=110, bootstrap=False, score=0.6459837473743535, total=  12.2s\n",
      "[CV] n_estimators=822, min_samples_split=15, min_samples_leaf=1, max_features=auto, max_depth=90, bootstrap=False \n",
      "[CV]  n_estimators=822, min_samples_split=15, min_samples_leaf=1, max_features=auto, max_depth=90, bootstrap=False, score=0.6167095385852441, total=   4.0s\n",
      "[CV] n_estimators=822, min_samples_split=15, min_samples_leaf=1, max_features=auto, max_depth=90, bootstrap=False \n",
      "[CV]  n_estimators=822, min_samples_split=15, min_samples_leaf=1, max_features=auto, max_depth=90, bootstrap=False, score=0.7376830549306406, total=   4.0s\n",
      "[CV] n_estimators=822, min_samples_split=15, min_samples_leaf=1, max_features=auto, max_depth=90, bootstrap=False \n",
      "[CV]  n_estimators=3000, min_samples_split=2, min_samples_leaf=1, max_features=auto, max_depth=30, bootstrap=False, score=0.6232237332456935, total=  16.5s\n",
      "[CV] n_estimators=2377, min_samples_split=10, min_samples_leaf=8, max_features=auto, max_depth=80, bootstrap=True \n",
      "[CV]  n_estimators=822, min_samples_split=15, min_samples_leaf=1, max_features=auto, max_depth=90, bootstrap=False, score=0.6183212073735173, total=   3.9s\n",
      "[CV] n_estimators=2377, min_samples_split=10, min_samples_leaf=8, max_features=auto, max_depth=80, bootstrap=True \n",
      "[CV]  n_estimators=3000, min_samples_split=2, min_samples_leaf=1, max_features=auto, max_depth=30, bootstrap=False, score=0.6469620792366322, total=  16.2s\n",
      "[CV] n_estimators=2377, min_samples_split=10, min_samples_leaf=8, max_features=auto, max_depth=80, bootstrap=True \n"
     ]
    },
    {
     "name": "stderr",
     "output_type": "stream",
     "text": [
      "/home/rmorse/anaconda3/lib/python3.6/site-packages/sklearn/metrics/classification.py:1135: UndefinedMetricWarning: F-score is ill-defined and being set to 0.0 in labels with no predicted samples.\n",
      "  'precision', 'predicted', average, warn_for)\n"
     ]
    },
    {
     "name": "stdout",
     "output_type": "stream",
     "text": [
      "[CV]  n_estimators=3000, min_samples_split=2, min_samples_leaf=1, max_features=auto, max_depth=30, bootstrap=False, score=0.7658108687461468, total=  16.8s\n",
      "[CV] n_estimators=3000, min_samples_split=10, min_samples_leaf=8, max_features=auto, max_depth=20, bootstrap=True \n",
      "[CV]  n_estimators=2377, min_samples_split=10, min_samples_leaf=8, max_features=auto, max_depth=80, bootstrap=True, score=0.5365384189645863, total=   7.3s\n",
      "[CV] n_estimators=3000, min_samples_split=10, min_samples_leaf=8, max_features=auto, max_depth=20, bootstrap=True \n",
      "[CV]  n_estimators=2377, min_samples_split=10, min_samples_leaf=8, max_features=auto, max_depth=80, bootstrap=True, score=0.6960551993651701, total=   7.3s\n",
      "[CV] n_estimators=3000, min_samples_split=10, min_samples_leaf=8, max_features=auto, max_depth=20, bootstrap=True \n"
     ]
    },
    {
     "name": "stderr",
     "output_type": "stream",
     "text": [
      "/home/rmorse/anaconda3/lib/python3.6/site-packages/sklearn/metrics/classification.py:1135: UndefinedMetricWarning: F-score is ill-defined and being set to 0.0 in labels with no predicted samples.\n",
      "  'precision', 'predicted', average, warn_for)\n"
     ]
    },
    {
     "name": "stdout",
     "output_type": "stream",
     "text": [
      "[CV]  n_estimators=2377, min_samples_split=10, min_samples_leaf=8, max_features=auto, max_depth=80, bootstrap=True, score=0.4921728668755055, total=   7.5s\n",
      "[CV] n_estimators=1755, min_samples_split=2, min_samples_leaf=4, max_features=sqrt, max_depth=10, bootstrap=True \n"
     ]
    },
    {
     "name": "stderr",
     "output_type": "stream",
     "text": [
      "/home/rmorse/anaconda3/lib/python3.6/site-packages/sklearn/metrics/classification.py:1135: UndefinedMetricWarning: F-score is ill-defined and being set to 0.0 in labels with no predicted samples.\n",
      "  'precision', 'predicted', average, warn_for)\n"
     ]
    },
    {
     "name": "stdout",
     "output_type": "stream",
     "text": [
      "[CV]  n_estimators=3000, min_samples_split=10, min_samples_leaf=8, max_features=auto, max_depth=20, bootstrap=True, score=0.5316219193833075, total=   9.3s\n",
      "[CV] n_estimators=1755, min_samples_split=2, min_samples_leaf=4, max_features=sqrt, max_depth=10, bootstrap=True \n",
      "[CV]  n_estimators=3000, min_samples_split=10, min_samples_leaf=8, max_features=auto, max_depth=20, bootstrap=True, score=0.7049870574338699, total=   9.2s\n",
      "[CV] n_estimators=1755, min_samples_split=2, min_samples_leaf=4, max_features=sqrt, max_depth=10, bootstrap=True \n"
     ]
    },
    {
     "name": "stderr",
     "output_type": "stream",
     "text": [
      "/home/rmorse/anaconda3/lib/python3.6/site-packages/sklearn/metrics/classification.py:1135: UndefinedMetricWarning: F-score is ill-defined and being set to 0.0 in labels with no predicted samples.\n",
      "  'precision', 'predicted', average, warn_for)\n"
     ]
    },
    {
     "name": "stdout",
     "output_type": "stream",
     "text": [
      "[CV]  n_estimators=3000, min_samples_split=10, min_samples_leaf=8, max_features=auto, max_depth=20, bootstrap=True, score=0.48839948468736977, total=   9.3s\n",
      "[CV] n_estimators=1133, min_samples_split=15, min_samples_leaf=8, max_features=sqrt, max_depth=100, bootstrap=True \n",
      "[CV]  n_estimators=1755, min_samples_split=2, min_samples_leaf=4, max_features=sqrt, max_depth=10, bootstrap=True, score=0.6039338118814981, total=   6.0s\n",
      "[CV] n_estimators=1133, min_samples_split=15, min_samples_leaf=8, max_features=sqrt, max_depth=100, bootstrap=True \n",
      "[CV]  n_estimators=1755, min_samples_split=2, min_samples_leaf=4, max_features=sqrt, max_depth=10, bootstrap=True, score=0.7471184850618776, total=   6.0s\n",
      "[CV] n_estimators=1133, min_samples_split=15, min_samples_leaf=8, max_features=sqrt, max_depth=100, bootstrap=True \n"
     ]
    },
    {
     "name": "stderr",
     "output_type": "stream",
     "text": [
      "/home/rmorse/anaconda3/lib/python3.6/site-packages/sklearn/metrics/classification.py:1135: UndefinedMetricWarning: F-score is ill-defined and being set to 0.0 in labels with no predicted samples.\n",
      "  'precision', 'predicted', average, warn_for)\n",
      "/home/rmorse/anaconda3/lib/python3.6/site-packages/sklearn/metrics/classification.py:1135: UndefinedMetricWarning: F-score is ill-defined and being set to 0.0 in labels with no predicted samples.\n",
      "  'precision', 'predicted', average, warn_for)\n"
     ]
    },
    {
     "name": "stdout",
     "output_type": "stream",
     "text": [
      "[CV]  n_estimators=1755, min_samples_split=2, min_samples_leaf=4, max_features=sqrt, max_depth=10, bootstrap=True, score=0.5794466472043832, total=   5.9s\n",
      "[CV] n_estimators=1133, min_samples_split=10, min_samples_leaf=4, max_features=sqrt, max_depth=70, bootstrap=False \n",
      "[CV]  n_estimators=1133, min_samples_split=15, min_samples_leaf=8, max_features=sqrt, max_depth=100, bootstrap=True, score=0.5253959827069036, total=   3.5s\n",
      "[CV] n_estimators=1133, min_samples_split=10, min_samples_leaf=4, max_features=sqrt, max_depth=70, bootstrap=False \n",
      "[CV]  n_estimators=1133, min_samples_split=15, min_samples_leaf=8, max_features=sqrt, max_depth=100, bootstrap=True, score=0.706718369767474, total=   3.5s\n",
      "[CV] n_estimators=1133, min_samples_split=10, min_samples_leaf=4, max_features=sqrt, max_depth=70, bootstrap=False \n"
     ]
    },
    {
     "name": "stderr",
     "output_type": "stream",
     "text": [
      "/home/rmorse/anaconda3/lib/python3.6/site-packages/sklearn/metrics/classification.py:1135: UndefinedMetricWarning: F-score is ill-defined and being set to 0.0 in labels with no predicted samples.\n",
      "  'precision', 'predicted', average, warn_for)\n"
     ]
    },
    {
     "name": "stdout",
     "output_type": "stream",
     "text": [
      "[CV]  n_estimators=1133, min_samples_split=15, min_samples_leaf=8, max_features=sqrt, max_depth=100, bootstrap=True, score=0.4869061542584332, total=   3.5s\n",
      "[CV] n_estimators=1444, min_samples_split=15, min_samples_leaf=1, max_features=auto, max_depth=40, bootstrap=True \n",
      "[CV]  n_estimators=1133, min_samples_split=10, min_samples_leaf=4, max_features=sqrt, max_depth=70, bootstrap=False, score=0.6057417454856867, total=   5.2s\n",
      "[CV] n_estimators=1444, min_samples_split=15, min_samples_leaf=1, max_features=auto, max_depth=40, bootstrap=True \n",
      "[CV]  n_estimators=1133, min_samples_split=10, min_samples_leaf=4, max_features=sqrt, max_depth=70, bootstrap=False, score=0.7438227403390342, total=   5.3s\n",
      "[CV] n_estimators=1444, min_samples_split=15, min_samples_leaf=1, max_features=auto, max_depth=40, bootstrap=True \n",
      "[CV]  n_estimators=1133, min_samples_split=10, min_samples_leaf=4, max_features=sqrt, max_depth=70, bootstrap=False, score=0.6245039271309336, total=   5.2s\n",
      "[CV] n_estimators=200, min_samples_split=5, min_samples_leaf=1, max_features=auto, max_depth=100, bootstrap=True \n",
      "[CV]  n_estimators=200, min_samples_split=5, min_samples_leaf=1, max_features=auto, max_depth=100, bootstrap=True, score=0.6096352365802404, total=   0.8s\n",
      "[CV] n_estimators=200, min_samples_split=5, min_samples_leaf=1, max_features=auto, max_depth=100, bootstrap=True \n"
     ]
    },
    {
     "name": "stderr",
     "output_type": "stream",
     "text": [
      "/home/rmorse/anaconda3/lib/python3.6/site-packages/sklearn/metrics/classification.py:1135: UndefinedMetricWarning: F-score is ill-defined and being set to 0.0 in labels with no predicted samples.\n",
      "  'precision', 'predicted', average, warn_for)\n"
     ]
    },
    {
     "name": "stdout",
     "output_type": "stream",
     "text": [
      "[CV]  n_estimators=200, min_samples_split=5, min_samples_leaf=1, max_features=auto, max_depth=100, bootstrap=True, score=0.7455156695928828, total=   0.8s\n",
      "[CV] n_estimators=200, min_samples_split=5, min_samples_leaf=1, max_features=auto, max_depth=100, bootstrap=True \n",
      "[CV]  n_estimators=1444, min_samples_split=15, min_samples_leaf=1, max_features=auto, max_depth=40, bootstrap=True, score=0.5847292450230057, total=   5.1s\n",
      "[CV] n_estimators=822, min_samples_split=5, min_samples_leaf=1, max_features=auto, max_depth=20, bootstrap=True \n",
      "[CV]  n_estimators=200, min_samples_split=5, min_samples_leaf=1, max_features=auto, max_depth=100, bootstrap=True, score=0.636625045829693, total=   0.8s\n",
      "[CV] n_estimators=822, min_samples_split=5, min_samples_leaf=1, max_features=auto, max_depth=20, bootstrap=True \n"
     ]
    },
    {
     "name": "stderr",
     "output_type": "stream",
     "text": [
      "/home/rmorse/anaconda3/lib/python3.6/site-packages/sklearn/metrics/classification.py:1135: UndefinedMetricWarning: F-score is ill-defined and being set to 0.0 in labels with no predicted samples.\n",
      "  'precision', 'predicted', average, warn_for)\n"
     ]
    },
    {
     "name": "stdout",
     "output_type": "stream",
     "text": [
      "[CV]  n_estimators=1444, min_samples_split=15, min_samples_leaf=1, max_features=auto, max_depth=40, bootstrap=True, score=0.7268181651070124, total=   5.0s\n",
      "[CV] n_estimators=822, min_samples_split=5, min_samples_leaf=1, max_features=auto, max_depth=20, bootstrap=True \n",
      "[CV]  n_estimators=1444, min_samples_split=15, min_samples_leaf=1, max_features=auto, max_depth=40, bootstrap=True, score=0.5806724023172062, total=   5.0s\n",
      "[CV] n_estimators=2377, min_samples_split=5, min_samples_leaf=8, max_features=sqrt, max_depth=30, bootstrap=True \n",
      "[CV]  n_estimators=822, min_samples_split=5, min_samples_leaf=1, max_features=auto, max_depth=20, bootstrap=True, score=0.6129275706376069, total=   3.2s\n",
      "[CV] n_estimators=2377, min_samples_split=5, min_samples_leaf=8, max_features=sqrt, max_depth=30, bootstrap=True \n",
      "[CV]  n_estimators=822, min_samples_split=5, min_samples_leaf=1, max_features=auto, max_depth=20, bootstrap=True, score=0.76485588018426, total=   3.2s\n",
      "[CV] n_estimators=2377, min_samples_split=5, min_samples_leaf=8, max_features=sqrt, max_depth=30, bootstrap=True \n",
      "[CV]  n_estimators=822, min_samples_split=5, min_samples_leaf=1, max_features=auto, max_depth=20, bootstrap=True, score=0.6273872362938576, total=   3.1s\n",
      "[CV] n_estimators=200, min_samples_split=2, min_samples_leaf=4, max_features=sqrt, max_depth=60, bootstrap=False \n",
      "[CV]  n_estimators=200, min_samples_split=2, min_samples_leaf=4, max_features=sqrt, max_depth=60, bootstrap=False, score=0.6020943490109057, total=   0.9s\n",
      "[CV] n_estimators=200, min_samples_split=2, min_samples_leaf=4, max_features=sqrt, max_depth=60, bootstrap=False \n",
      "[CV]  n_estimators=200, min_samples_split=2, min_samples_leaf=4, max_features=sqrt, max_depth=60, bootstrap=False, score=0.7554619792502817, total=   0.9s\n",
      "[CV] n_estimators=200, min_samples_split=2, min_samples_leaf=4, max_features=sqrt, max_depth=60, bootstrap=False \n",
      "[CV]  n_estimators=200, min_samples_split=2, min_samples_leaf=4, max_features=sqrt, max_depth=60, bootstrap=False, score=0.6147796599245552, total=   0.9s\n",
      "[CV] n_estimators=1444, min_samples_split=15, min_samples_leaf=8, max_features=auto, max_depth=70, bootstrap=False \n"
     ]
    },
    {
     "name": "stderr",
     "output_type": "stream",
     "text": [
      "/home/rmorse/anaconda3/lib/python3.6/site-packages/sklearn/metrics/classification.py:1135: UndefinedMetricWarning: F-score is ill-defined and being set to 0.0 in labels with no predicted samples.\n",
      "  'precision', 'predicted', average, warn_for)\n"
     ]
    },
    {
     "name": "stdout",
     "output_type": "stream",
     "text": [
      "[CV]  n_estimators=2377, min_samples_split=5, min_samples_leaf=8, max_features=sqrt, max_depth=30, bootstrap=True, score=0.5298557934370441, total=   7.3s\n",
      "[CV] n_estimators=1444, min_samples_split=15, min_samples_leaf=8, max_features=auto, max_depth=70, bootstrap=False \n"
     ]
    },
    {
     "name": "stderr",
     "output_type": "stream",
     "text": [
      "/home/rmorse/anaconda3/lib/python3.6/site-packages/sklearn/metrics/classification.py:1135: UndefinedMetricWarning: F-score is ill-defined and being set to 0.0 in labels with no predicted samples.\n",
      "  'precision', 'predicted', average, warn_for)\n"
     ]
    },
    {
     "name": "stdout",
     "output_type": "stream",
     "text": [
      "[CV]  n_estimators=2377, min_samples_split=5, min_samples_leaf=8, max_features=sqrt, max_depth=30, bootstrap=True, score=0.6891901729832942, total=   7.3s\n",
      "[CV] n_estimators=1444, min_samples_split=15, min_samples_leaf=8, max_features=auto, max_depth=70, bootstrap=False \n",
      "[CV]  n_estimators=2377, min_samples_split=5, min_samples_leaf=8, max_features=sqrt, max_depth=30, bootstrap=True, score=0.4908696547601234, total=   7.3s\n",
      "[CV] n_estimators=2066, min_samples_split=10, min_samples_leaf=1, max_features=auto, max_depth=20, bootstrap=False \n",
      "[CV]  n_estimators=1444, min_samples_split=15, min_samples_leaf=8, max_features=auto, max_depth=70, bootstrap=False, score=0.5873133706881325, total=   6.0s\n",
      "[CV] n_estimators=2066, min_samples_split=10, min_samples_leaf=1, max_features=auto, max_depth=20, bootstrap=False \n",
      "[CV]  n_estimators=1444, min_samples_split=15, min_samples_leaf=8, max_features=auto, max_depth=70, bootstrap=False, score=0.713183157615547, total=   6.1s\n",
      "[CV] n_estimators=2066, min_samples_split=10, min_samples_leaf=1, max_features=auto, max_depth=20, bootstrap=False \n"
     ]
    },
    {
     "name": "stderr",
     "output_type": "stream",
     "text": [
      "/home/rmorse/anaconda3/lib/python3.6/site-packages/sklearn/metrics/classification.py:1135: UndefinedMetricWarning: F-score is ill-defined and being set to 0.0 in labels with no predicted samples.\n",
      "  'precision', 'predicted', average, warn_for)\n"
     ]
    },
    {
     "name": "stdout",
     "output_type": "stream",
     "text": [
      "[CV]  n_estimators=1444, min_samples_split=15, min_samples_leaf=8, max_features=auto, max_depth=70, bootstrap=False, score=0.5601731925630644, total=   6.0s\n",
      "[CV] n_estimators=1444, min_samples_split=15, min_samples_leaf=1, max_features=sqrt, max_depth=50, bootstrap=False \n",
      "[CV]  n_estimators=2066, min_samples_split=10, min_samples_leaf=1, max_features=auto, max_depth=20, bootstrap=False, score=0.6225177684225361, total=  10.4s\n",
      "[CV] n_estimators=1444, min_samples_split=15, min_samples_leaf=1, max_features=sqrt, max_depth=50, bootstrap=False \n",
      "[CV]  n_estimators=1444, min_samples_split=15, min_samples_leaf=1, max_features=sqrt, max_depth=50, bootstrap=False, score=0.6153872355665908, total=   6.9s\n",
      "[CV] n_estimators=1444, min_samples_split=15, min_samples_leaf=1, max_features=sqrt, max_depth=50, bootstrap=False \n",
      "[CV]  n_estimators=2066, min_samples_split=10, min_samples_leaf=1, max_features=auto, max_depth=20, bootstrap=False, score=0.7498889423043272, total=  10.5s\n",
      "[CV] n_estimators=2066, min_samples_split=2, min_samples_leaf=1, max_features=sqrt, max_depth=80, bootstrap=True \n",
      "[CV]  n_estimators=2066, min_samples_split=10, min_samples_leaf=1, max_features=auto, max_depth=20, bootstrap=False, score=0.644458978167042, total=  10.4s\n",
      "[CV] n_estimators=2066, min_samples_split=2, min_samples_leaf=1, max_features=sqrt, max_depth=80, bootstrap=True \n",
      "[CV]  n_estimators=1444, min_samples_split=15, min_samples_leaf=1, max_features=sqrt, max_depth=50, bootstrap=False, score=0.7501460201796012, total=   7.0s\n",
      "[CV] n_estimators=2066, min_samples_split=2, min_samples_leaf=1, max_features=sqrt, max_depth=80, bootstrap=True \n",
      "[CV]  n_estimators=1444, min_samples_split=15, min_samples_leaf=1, max_features=sqrt, max_depth=50, bootstrap=False, score=0.609311595644608, total=   6.8s\n",
      "[CV] n_estimators=1133, min_samples_split=15, min_samples_leaf=8, max_features=sqrt, max_depth=90, bootstrap=False \n",
      "[CV]  n_estimators=2066, min_samples_split=2, min_samples_leaf=1, max_features=sqrt, max_depth=80, bootstrap=True, score=0.619181945870552, total=   8.1s\n",
      "[CV] n_estimators=1133, min_samples_split=15, min_samples_leaf=8, max_features=sqrt, max_depth=90, bootstrap=False \n",
      "[CV]  n_estimators=2066, min_samples_split=2, min_samples_leaf=1, max_features=sqrt, max_depth=80, bootstrap=True, score=0.7696403148158586, total=   8.3s\n",
      "[CV] n_estimators=1133, min_samples_split=15, min_samples_leaf=8, max_features=sqrt, max_depth=90, bootstrap=False \n"
     ]
    },
    {
     "name": "stderr",
     "output_type": "stream",
     "text": [
      "/home/rmorse/anaconda3/lib/python3.6/site-packages/sklearn/metrics/classification.py:1135: UndefinedMetricWarning: F-score is ill-defined and being set to 0.0 in labels with no predicted samples.\n",
      "  'precision', 'predicted', average, warn_for)\n"
     ]
    },
    {
     "name": "stdout",
     "output_type": "stream",
     "text": [
      "[CV]  n_estimators=1133, min_samples_split=15, min_samples_leaf=8, max_features=sqrt, max_depth=90, bootstrap=False, score=0.5869158180229167, total=   4.8s\n",
      "[CV] n_estimators=2688, min_samples_split=5, min_samples_leaf=2, max_features=sqrt, max_depth=100, bootstrap=False \n",
      "[CV]  n_estimators=2066, min_samples_split=2, min_samples_leaf=1, max_features=sqrt, max_depth=80, bootstrap=True, score=0.633621043324269, total=   8.2s\n",
      "[CV] n_estimators=2688, min_samples_split=5, min_samples_leaf=2, max_features=sqrt, max_depth=100, bootstrap=False \n",
      "[CV]  n_estimators=1133, min_samples_split=15, min_samples_leaf=8, max_features=sqrt, max_depth=90, bootstrap=False, score=0.7023537799022699, total=   4.7s\n",
      "[CV] n_estimators=2688, min_samples_split=5, min_samples_leaf=2, max_features=sqrt, max_depth=100, bootstrap=False \n"
     ]
    },
    {
     "name": "stderr",
     "output_type": "stream",
     "text": [
      "/home/rmorse/anaconda3/lib/python3.6/site-packages/sklearn/metrics/classification.py:1135: UndefinedMetricWarning: F-score is ill-defined and being set to 0.0 in labels with no predicted samples.\n",
      "  'precision', 'predicted', average, warn_for)\n"
     ]
    },
    {
     "name": "stdout",
     "output_type": "stream",
     "text": [
      "[CV]  n_estimators=1133, min_samples_split=15, min_samples_leaf=8, max_features=sqrt, max_depth=90, bootstrap=False, score=0.5572813400290572, total=   4.8s\n",
      "[CV] n_estimators=1444, min_samples_split=2, min_samples_leaf=2, max_features=sqrt, max_depth=50, bootstrap=False \n",
      "[CV]  n_estimators=1444, min_samples_split=2, min_samples_leaf=2, max_features=sqrt, max_depth=50, bootstrap=False, score=0.6271225881489366, total=   7.4s\n",
      "[CV] n_estimators=1444, min_samples_split=2, min_samples_leaf=2, max_features=sqrt, max_depth=50, bootstrap=False \n",
      "[CV]  n_estimators=2688, min_samples_split=5, min_samples_leaf=2, max_features=sqrt, max_depth=100, bootstrap=False, score=0.6280444553938491, total=  13.9s\n",
      "[CV] n_estimators=1444, min_samples_split=2, min_samples_leaf=2, max_features=sqrt, max_depth=50, bootstrap=False \n",
      "[CV]  n_estimators=2688, min_samples_split=5, min_samples_leaf=2, max_features=sqrt, max_depth=100, bootstrap=False, score=0.7659379395815388, total=  13.8s\n",
      "[CV] n_estimators=511, min_samples_split=2, min_samples_leaf=8, max_features=sqrt, max_depth=30, bootstrap=False \n",
      "[CV]  n_estimators=2688, min_samples_split=5, min_samples_leaf=2, max_features=sqrt, max_depth=100, bootstrap=False, score=0.6477222309086466, total=  13.7s\n",
      "[CV] n_estimators=511, min_samples_split=2, min_samples_leaf=8, max_features=sqrt, max_depth=30, bootstrap=False \n",
      "[CV]  n_estimators=511, min_samples_split=2, min_samples_leaf=8, max_features=sqrt, max_depth=30, bootstrap=False, score=0.5632201489824852, total=   2.1s\n",
      "[CV] n_estimators=511, min_samples_split=2, min_samples_leaf=8, max_features=sqrt, max_depth=30, bootstrap=False \n",
      "[CV]  n_estimators=511, min_samples_split=2, min_samples_leaf=8, max_features=sqrt, max_depth=30, bootstrap=False, score=0.7091181324208655, total=   2.1s\n",
      "[CV] n_estimators=1755, min_samples_split=5, min_samples_leaf=8, max_features=sqrt, max_depth=10, bootstrap=False \n",
      "[CV]  n_estimators=1444, min_samples_split=2, min_samples_leaf=2, max_features=sqrt, max_depth=50, bootstrap=False, score=0.7619664903738911, total=   7.5s\n",
      "[CV] n_estimators=1755, min_samples_split=5, min_samples_leaf=8, max_features=sqrt, max_depth=10, bootstrap=False \n",
      "[CV]  n_estimators=511, min_samples_split=2, min_samples_leaf=8, max_features=sqrt, max_depth=30, bootstrap=False, score=0.574798359745514, total=   2.1s\n",
      "[CV] n_estimators=1755, min_samples_split=5, min_samples_leaf=8, max_features=sqrt, max_depth=10, bootstrap=False \n",
      "[CV]  n_estimators=1444, min_samples_split=2, min_samples_leaf=2, max_features=sqrt, max_depth=50, bootstrap=False, score=0.6477787427236217, total=   7.3s\n",
      "[CV] n_estimators=1444, min_samples_split=15, min_samples_leaf=1, max_features=auto, max_depth=60, bootstrap=True \n",
      "[CV]  n_estimators=1755, min_samples_split=5, min_samples_leaf=8, max_features=sqrt, max_depth=10, bootstrap=False, score=0.5921001043312032, total=   7.5s\n",
      "[CV] n_estimators=1444, min_samples_split=15, min_samples_leaf=1, max_features=auto, max_depth=60, bootstrap=True \n"
     ]
    },
    {
     "name": "stderr",
     "output_type": "stream",
     "text": [
      "/home/rmorse/anaconda3/lib/python3.6/site-packages/sklearn/metrics/classification.py:1135: UndefinedMetricWarning: F-score is ill-defined and being set to 0.0 in labels with no predicted samples.\n",
      "  'precision', 'predicted', average, warn_for)\n"
     ]
    },
    {
     "name": "stdout",
     "output_type": "stream",
     "text": [
      "[CV]  n_estimators=1444, min_samples_split=15, min_samples_leaf=1, max_features=auto, max_depth=60, bootstrap=True, score=0.5914888272134831, total=   5.1s\n",
      "[CV] n_estimators=1444, min_samples_split=15, min_samples_leaf=1, max_features=auto, max_depth=60, bootstrap=True \n"
     ]
    },
    {
     "name": "stderr",
     "output_type": "stream",
     "text": [
      "/home/rmorse/anaconda3/lib/python3.6/site-packages/sklearn/metrics/classification.py:1135: UndefinedMetricWarning: F-score is ill-defined and being set to 0.0 in labels with no predicted samples.\n",
      "  'precision', 'predicted', average, warn_for)\n"
     ]
    },
    {
     "name": "stdout",
     "output_type": "stream",
     "text": [
      "[CV]  n_estimators=1755, min_samples_split=5, min_samples_leaf=8, max_features=sqrt, max_depth=10, bootstrap=False, score=0.7228603020904416, total=   7.4s\n",
      "[CV] n_estimators=2377, min_samples_split=15, min_samples_leaf=1, max_features=auto, max_depth=50, bootstrap=True \n",
      "[CV]  n_estimators=1755, min_samples_split=5, min_samples_leaf=8, max_features=sqrt, max_depth=10, bootstrap=False, score=0.5554122848621884, total=   7.4s\n",
      "[CV] n_estimators=2377, min_samples_split=15, min_samples_leaf=1, max_features=auto, max_depth=50, bootstrap=True \n",
      "[CV]  n_estimators=1444, min_samples_split=15, min_samples_leaf=1, max_features=auto, max_depth=60, bootstrap=True, score=0.7233718927262, total=   5.0s\n",
      "[CV] n_estimators=2377, min_samples_split=15, min_samples_leaf=1, max_features=auto, max_depth=50, bootstrap=True \n"
     ]
    },
    {
     "name": "stderr",
     "output_type": "stream",
     "text": [
      "/home/rmorse/anaconda3/lib/python3.6/site-packages/sklearn/metrics/classification.py:1135: UndefinedMetricWarning: F-score is ill-defined and being set to 0.0 in labels with no predicted samples.\n",
      "  'precision', 'predicted', average, warn_for)\n"
     ]
    },
    {
     "name": "stdout",
     "output_type": "stream",
     "text": [
      "[CV]  n_estimators=1444, min_samples_split=15, min_samples_leaf=1, max_features=auto, max_depth=60, bootstrap=True, score=0.5744669203558631, total=   5.0s\n",
      "[CV] n_estimators=822, min_samples_split=10, min_samples_leaf=2, max_features=sqrt, max_depth=80, bootstrap=True \n",
      "[CV]  n_estimators=822, min_samples_split=10, min_samples_leaf=2, max_features=sqrt, max_depth=80, bootstrap=True, score=0.6120461071882136, total=   2.9s\n",
      "[CV] n_estimators=822, min_samples_split=10, min_samples_leaf=2, max_features=sqrt, max_depth=80, bootstrap=True \n"
     ]
    },
    {
     "name": "stderr",
     "output_type": "stream",
     "text": [
      "/home/rmorse/anaconda3/lib/python3.6/site-packages/sklearn/metrics/classification.py:1135: UndefinedMetricWarning: F-score is ill-defined and being set to 0.0 in labels with no predicted samples.\n",
      "  'precision', 'predicted', average, warn_for)\n"
     ]
    },
    {
     "name": "stdout",
     "output_type": "stream",
     "text": [
      "[CV]  n_estimators=2377, min_samples_split=15, min_samples_leaf=1, max_features=auto, max_depth=50, bootstrap=True, score=0.5856920676567735, total=   8.5s\n",
      "[CV] n_estimators=822, min_samples_split=10, min_samples_leaf=2, max_features=sqrt, max_depth=80, bootstrap=True \n",
      "[CV]  n_estimators=2377, min_samples_split=15, min_samples_leaf=1, max_features=auto, max_depth=50, bootstrap=True, score=0.7223855143177693, total=   8.5s\n",
      "[CV] n_estimators=2377, min_samples_split=15, min_samples_leaf=2, max_features=sqrt, max_depth=110, bootstrap=True \n",
      "[CV]  n_estimators=822, min_samples_split=10, min_samples_leaf=2, max_features=sqrt, max_depth=80, bootstrap=True, score=0.7506078785261444, total=   3.0s\n",
      "[CV] n_estimators=2377, min_samples_split=15, min_samples_leaf=2, max_features=sqrt, max_depth=110, bootstrap=True \n"
     ]
    },
    {
     "name": "stderr",
     "output_type": "stream",
     "text": [
      "/home/rmorse/anaconda3/lib/python3.6/site-packages/sklearn/metrics/classification.py:1135: UndefinedMetricWarning: F-score is ill-defined and being set to 0.0 in labels with no predicted samples.\n",
      "  'precision', 'predicted', average, warn_for)\n"
     ]
    },
    {
     "name": "stdout",
     "output_type": "stream",
     "text": [
      "[CV]  n_estimators=822, min_samples_split=10, min_samples_leaf=2, max_features=sqrt, max_depth=80, bootstrap=True, score=0.5764804038338311, total=   3.0s\n",
      "[CV] n_estimators=2377, min_samples_split=15, min_samples_leaf=2, max_features=sqrt, max_depth=110, bootstrap=True \n"
     ]
    },
    {
     "name": "stderr",
     "output_type": "stream",
     "text": [
      "/home/rmorse/anaconda3/lib/python3.6/site-packages/sklearn/metrics/classification.py:1135: UndefinedMetricWarning: F-score is ill-defined and being set to 0.0 in labels with no predicted samples.\n",
      "  'precision', 'predicted', average, warn_for)\n"
     ]
    },
    {
     "name": "stdout",
     "output_type": "stream",
     "text": [
      "[CV]  n_estimators=2377, min_samples_split=15, min_samples_leaf=1, max_features=auto, max_depth=50, bootstrap=True, score=0.5606757800508751, total=   8.3s\n",
      "[CV] n_estimators=2066, min_samples_split=2, min_samples_leaf=8, max_features=sqrt, max_depth=70, bootstrap=True \n"
     ]
    },
    {
     "name": "stderr",
     "output_type": "stream",
     "text": [
      "/home/rmorse/anaconda3/lib/python3.6/site-packages/sklearn/metrics/classification.py:1135: UndefinedMetricWarning: F-score is ill-defined and being set to 0.0 in labels with no predicted samples.\n",
      "  'precision', 'predicted', average, warn_for)\n"
     ]
    },
    {
     "name": "stdout",
     "output_type": "stream",
     "text": [
      "[CV]  n_estimators=2377, min_samples_split=15, min_samples_leaf=2, max_features=sqrt, max_depth=110, bootstrap=True, score=0.5862078746141443, total=   8.2s\n",
      "[CV] n_estimators=2066, min_samples_split=2, min_samples_leaf=8, max_features=sqrt, max_depth=70, bootstrap=True \n"
     ]
    },
    {
     "name": "stderr",
     "output_type": "stream",
     "text": [
      "/home/rmorse/anaconda3/lib/python3.6/site-packages/sklearn/metrics/classification.py:1135: UndefinedMetricWarning: F-score is ill-defined and being set to 0.0 in labels with no predicted samples.\n",
      "  'precision', 'predicted', average, warn_for)\n"
     ]
    },
    {
     "name": "stdout",
     "output_type": "stream",
     "text": [
      "[CV]  n_estimators=2377, min_samples_split=15, min_samples_leaf=2, max_features=sqrt, max_depth=110, bootstrap=True, score=0.7324565374198683, total=   8.2s\n",
      "[CV] n_estimators=2066, min_samples_split=2, min_samples_leaf=8, max_features=sqrt, max_depth=70, bootstrap=True \n",
      "[CV]  n_estimators=2066, min_samples_split=2, min_samples_leaf=8, max_features=sqrt, max_depth=70, bootstrap=True, score=0.5266840311220262, total=   6.4s\n",
      "[CV] n_estimators=200, min_samples_split=15, min_samples_leaf=1, max_features=sqrt, max_depth=60, bootstrap=False \n"
     ]
    },
    {
     "name": "stderr",
     "output_type": "stream",
     "text": [
      "/home/rmorse/anaconda3/lib/python3.6/site-packages/sklearn/metrics/classification.py:1135: UndefinedMetricWarning: F-score is ill-defined and being set to 0.0 in labels with no predicted samples.\n",
      "  'precision', 'predicted', average, warn_for)\n"
     ]
    },
    {
     "name": "stdout",
     "output_type": "stream",
     "text": [
      "[CV]  n_estimators=2377, min_samples_split=15, min_samples_leaf=2, max_features=sqrt, max_depth=110, bootstrap=True, score=0.5572762467766263, total=   8.2s\n",
      "[CV] n_estimators=200, min_samples_split=15, min_samples_leaf=1, max_features=sqrt, max_depth=60, bootstrap=False \n",
      "[CV]  n_estimators=200, min_samples_split=15, min_samples_leaf=1, max_features=sqrt, max_depth=60, bootstrap=False, score=0.6216974883172741, total=   1.0s\n",
      "[CV] n_estimators=200, min_samples_split=15, min_samples_leaf=1, max_features=sqrt, max_depth=60, bootstrap=False \n"
     ]
    },
    {
     "name": "stderr",
     "output_type": "stream",
     "text": [
      "/home/rmorse/anaconda3/lib/python3.6/site-packages/sklearn/metrics/classification.py:1135: UndefinedMetricWarning: F-score is ill-defined and being set to 0.0 in labels with no predicted samples.\n",
      "  'precision', 'predicted', average, warn_for)\n"
     ]
    },
    {
     "name": "stdout",
     "output_type": "stream",
     "text": [
      "[CV]  n_estimators=200, min_samples_split=15, min_samples_leaf=1, max_features=sqrt, max_depth=60, bootstrap=False, score=0.727694850024696, total=   1.0s\n",
      "[CV] n_estimators=1133, min_samples_split=10, min_samples_leaf=8, max_features=auto, max_depth=50, bootstrap=True \n",
      "[CV]  n_estimators=200, min_samples_split=15, min_samples_leaf=1, max_features=sqrt, max_depth=60, bootstrap=False, score=0.5934795961854785, total=   1.0s\n",
      "[CV] n_estimators=1133, min_samples_split=10, min_samples_leaf=8, max_features=auto, max_depth=50, bootstrap=True \n",
      "[CV]  n_estimators=2066, min_samples_split=2, min_samples_leaf=8, max_features=sqrt, max_depth=70, bootstrap=True, score=0.6925387755277178, total=   6.5s\n",
      "[CV] n_estimators=1133, min_samples_split=10, min_samples_leaf=8, max_features=auto, max_depth=50, bootstrap=True \n"
     ]
    },
    {
     "name": "stderr",
     "output_type": "stream",
     "text": [
      "/home/rmorse/anaconda3/lib/python3.6/site-packages/sklearn/metrics/classification.py:1135: UndefinedMetricWarning: F-score is ill-defined and being set to 0.0 in labels with no predicted samples.\n",
      "  'precision', 'predicted', average, warn_for)\n"
     ]
    },
    {
     "name": "stdout",
     "output_type": "stream",
     "text": [
      "[CV]  n_estimators=1133, min_samples_split=10, min_samples_leaf=8, max_features=auto, max_depth=50, bootstrap=True, score=0.7037351455652421, total=   3.5s\n",
      "[CV] n_estimators=1755, min_samples_split=5, min_samples_leaf=1, max_features=sqrt, max_depth=60, bootstrap=True \n",
      "[CV]  n_estimators=1133, min_samples_split=10, min_samples_leaf=8, max_features=auto, max_depth=50, bootstrap=True, score=0.5185805135272963, total=   3.6s\n",
      "[CV] n_estimators=1755, min_samples_split=5, min_samples_leaf=1, max_features=sqrt, max_depth=60, bootstrap=True \n"
     ]
    },
    {
     "name": "stderr",
     "output_type": "stream",
     "text": [
      "/home/rmorse/anaconda3/lib/python3.6/site-packages/sklearn/metrics/classification.py:1135: UndefinedMetricWarning: F-score is ill-defined and being set to 0.0 in labels with no predicted samples.\n",
      "  'precision', 'predicted', average, warn_for)\n"
     ]
    },
    {
     "name": "stdout",
     "output_type": "stream",
     "text": [
      "[CV]  n_estimators=2066, min_samples_split=2, min_samples_leaf=8, max_features=sqrt, max_depth=70, bootstrap=True, score=0.4990869677568193, total=   6.5s\n",
      "[CV] n_estimators=1755, min_samples_split=5, min_samples_leaf=1, max_features=sqrt, max_depth=60, bootstrap=True \n"
     ]
    },
    {
     "name": "stderr",
     "output_type": "stream",
     "text": [
      "/home/rmorse/anaconda3/lib/python3.6/site-packages/sklearn/metrics/classification.py:1135: UndefinedMetricWarning: F-score is ill-defined and being set to 0.0 in labels with no predicted samples.\n",
      "  'precision', 'predicted', average, warn_for)\n"
     ]
    },
    {
     "name": "stdout",
     "output_type": "stream",
     "text": [
      "[CV]  n_estimators=1133, min_samples_split=10, min_samples_leaf=8, max_features=auto, max_depth=50, bootstrap=True, score=0.49830799988924385, total=   3.6s\n",
      "[CV] n_estimators=822, min_samples_split=15, min_samples_leaf=8, max_features=sqrt, max_depth=20, bootstrap=False \n",
      "[CV]  n_estimators=822, min_samples_split=15, min_samples_leaf=8, max_features=sqrt, max_depth=20, bootstrap=False, score=0.580943260604167, total=   3.5s\n",
      "[CV] n_estimators=822, min_samples_split=15, min_samples_leaf=8, max_features=sqrt, max_depth=20, bootstrap=False \n",
      "[CV]  n_estimators=1755, min_samples_split=5, min_samples_leaf=1, max_features=sqrt, max_depth=60, bootstrap=True, score=0.6251115040882957, total=   6.8s\n",
      "[CV] n_estimators=822, min_samples_split=15, min_samples_leaf=8, max_features=sqrt, max_depth=20, bootstrap=False \n",
      "[CV]  n_estimators=1755, min_samples_split=5, min_samples_leaf=1, max_features=sqrt, max_depth=60, bootstrap=True, score=0.7836274326428045, total=   6.9s\n",
      "[CV] n_estimators=2377, min_samples_split=15, min_samples_leaf=1, max_features=auto, max_depth=10, bootstrap=True \n",
      "[CV]  n_estimators=1755, min_samples_split=5, min_samples_leaf=1, max_features=sqrt, max_depth=60, bootstrap=True, score=0.6305355881115409, total=   6.8s\n",
      "[CV] n_estimators=2377, min_samples_split=15, min_samples_leaf=1, max_features=auto, max_depth=10, bootstrap=True \n",
      "[CV]  n_estimators=822, min_samples_split=15, min_samples_leaf=8, max_features=sqrt, max_depth=20, bootstrap=False, score=0.7077039765336814, total=   3.6s\n",
      "[CV] n_estimators=2377, min_samples_split=15, min_samples_leaf=1, max_features=auto, max_depth=10, bootstrap=True \n"
     ]
    },
    {
     "name": "stderr",
     "output_type": "stream",
     "text": [
      "/home/rmorse/anaconda3/lib/python3.6/site-packages/sklearn/metrics/classification.py:1135: UndefinedMetricWarning: F-score is ill-defined and being set to 0.0 in labels with no predicted samples.\n",
      "  'precision', 'predicted', average, warn_for)\n"
     ]
    },
    {
     "name": "stdout",
     "output_type": "stream",
     "text": [
      "[CV]  n_estimators=822, min_samples_split=15, min_samples_leaf=8, max_features=sqrt, max_depth=20, bootstrap=False, score=0.5474733737331651, total=   3.6s\n",
      "[CV] n_estimators=1755, min_samples_split=15, min_samples_leaf=8, max_features=auto, max_depth=100, bootstrap=True \n"
     ]
    },
    {
     "name": "stderr",
     "output_type": "stream",
     "text": [
      "/home/rmorse/anaconda3/lib/python3.6/site-packages/sklearn/metrics/classification.py:1135: UndefinedMetricWarning: F-score is ill-defined and being set to 0.0 in labels with no predicted samples.\n",
      "  'precision', 'predicted', average, warn_for)\n"
     ]
    },
    {
     "name": "stdout",
     "output_type": "stream",
     "text": [
      "[CV]  n_estimators=2377, min_samples_split=15, min_samples_leaf=1, max_features=auto, max_depth=10, bootstrap=True, score=0.5839413886466631, total=   8.4s\n",
      "[CV] n_estimators=1755, min_samples_split=15, min_samples_leaf=8, max_features=auto, max_depth=100, bootstrap=True \n"
     ]
    },
    {
     "name": "stderr",
     "output_type": "stream",
     "text": [
      "/home/rmorse/anaconda3/lib/python3.6/site-packages/sklearn/metrics/classification.py:1135: UndefinedMetricWarning: F-score is ill-defined and being set to 0.0 in labels with no predicted samples.\n",
      "  'precision', 'predicted', average, warn_for)\n"
     ]
    },
    {
     "name": "stdout",
     "output_type": "stream",
     "text": [
      "[CV]  n_estimators=1755, min_samples_split=15, min_samples_leaf=8, max_features=auto, max_depth=100, bootstrap=True, score=0.5202600551209431, total=   5.5s\n",
      "[CV] n_estimators=1755, min_samples_split=15, min_samples_leaf=8, max_features=auto, max_depth=100, bootstrap=True \n",
      "[CV]  n_estimators=2377, min_samples_split=15, min_samples_leaf=1, max_features=auto, max_depth=10, bootstrap=True, score=0.7261907257876336, total=   8.3s\n",
      "[CV] n_estimators=2377, min_samples_split=5, min_samples_leaf=4, max_features=auto, max_depth=30, bootstrap=False \n"
     ]
    },
    {
     "name": "stderr",
     "output_type": "stream",
     "text": [
      "/home/rmorse/anaconda3/lib/python3.6/site-packages/sklearn/metrics/classification.py:1135: UndefinedMetricWarning: F-score is ill-defined and being set to 0.0 in labels with no predicted samples.\n",
      "  'precision', 'predicted', average, warn_for)\n"
     ]
    },
    {
     "name": "stdout",
     "output_type": "stream",
     "text": [
      "[CV]  n_estimators=2377, min_samples_split=15, min_samples_leaf=1, max_features=auto, max_depth=10, bootstrap=True, score=0.5604821754646017, total=   8.3s\n",
      "[CV] n_estimators=2377, min_samples_split=5, min_samples_leaf=4, max_features=auto, max_depth=30, bootstrap=False \n",
      "[CV]  n_estimators=1755, min_samples_split=15, min_samples_leaf=8, max_features=auto, max_depth=100, bootstrap=True, score=0.7019375866968456, total=   5.4s\n",
      "[CV] n_estimators=2377, min_samples_split=5, min_samples_leaf=4, max_features=auto, max_depth=30, bootstrap=False \n"
     ]
    },
    {
     "name": "stderr",
     "output_type": "stream",
     "text": [
      "/home/rmorse/anaconda3/lib/python3.6/site-packages/sklearn/metrics/classification.py:1135: UndefinedMetricWarning: F-score is ill-defined and being set to 0.0 in labels with no predicted samples.\n",
      "  'precision', 'predicted', average, warn_for)\n"
     ]
    },
    {
     "name": "stdout",
     "output_type": "stream",
     "text": [
      "[CV]  n_estimators=1755, min_samples_split=15, min_samples_leaf=8, max_features=auto, max_depth=100, bootstrap=True, score=0.49059934498863206, total=   5.4s\n",
      "[CV] n_estimators=1133, min_samples_split=10, min_samples_leaf=4, max_features=sqrt, max_depth=100, bootstrap=False \n",
      "[CV]  n_estimators=1133, min_samples_split=10, min_samples_leaf=4, max_features=sqrt, max_depth=100, bootstrap=False, score=0.6152719297504088, total=   5.2s\n",
      "[CV] n_estimators=1133, min_samples_split=10, min_samples_leaf=4, max_features=sqrt, max_depth=100, bootstrap=False \n",
      "[CV]  n_estimators=2377, min_samples_split=5, min_samples_leaf=4, max_features=auto, max_depth=30, bootstrap=False, score=0.6162834543432943, total=  11.2s\n",
      "[CV] n_estimators=1133, min_samples_split=10, min_samples_leaf=4, max_features=sqrt, max_depth=100, bootstrap=False \n",
      "[CV]  n_estimators=2377, min_samples_split=5, min_samples_leaf=4, max_features=auto, max_depth=30, bootstrap=False, score=0.7553125439295466, total=  11.4s\n",
      "[CV] n_estimators=511, min_samples_split=5, min_samples_leaf=8, max_features=auto, max_depth=10, bootstrap=False \n",
      "[CV]  n_estimators=1133, min_samples_split=10, min_samples_leaf=4, max_features=sqrt, max_depth=100, bootstrap=False, score=0.7350486714513064, total=   5.3s\n",
      "[CV] n_estimators=511, min_samples_split=5, min_samples_leaf=8, max_features=auto, max_depth=10, bootstrap=False \n",
      "[CV]  n_estimators=511, min_samples_split=5, min_samples_leaf=8, max_features=auto, max_depth=10, bootstrap=False, score=0.5759540708964446, total=   2.2s\n",
      "[CV] n_estimators=511, min_samples_split=5, min_samples_leaf=8, max_features=auto, max_depth=10, bootstrap=False \n",
      "[CV]  n_estimators=2377, min_samples_split=5, min_samples_leaf=4, max_features=auto, max_depth=30, bootstrap=False, score=0.6332908842972736, total=  11.3s\n",
      "[CV] n_estimators=200, min_samples_split=15, min_samples_leaf=4, max_features=sqrt, max_depth=110, bootstrap=False \n",
      "[CV]  n_estimators=1133, min_samples_split=10, min_samples_leaf=4, max_features=sqrt, max_depth=100, bootstrap=False, score=0.6318534551431021, total=   5.4s\n",
      "[CV] n_estimators=200, min_samples_split=15, min_samples_leaf=4, max_features=sqrt, max_depth=110, bootstrap=False \n",
      "[CV]  n_estimators=200, min_samples_split=15, min_samples_leaf=4, max_features=sqrt, max_depth=110, bootstrap=False, score=0.5988287589266363, total=   0.9s\n",
      "[CV] n_estimators=200, min_samples_split=15, min_samples_leaf=4, max_features=sqrt, max_depth=110, bootstrap=False \n",
      "[CV]  n_estimators=200, min_samples_split=15, min_samples_leaf=4, max_features=sqrt, max_depth=110, bootstrap=False, score=0.7159135766348949, total=   0.9s\n",
      "[CV] n_estimators=2377, min_samples_split=2, min_samples_leaf=1, max_features=sqrt, max_depth=70, bootstrap=True \n"
     ]
    },
    {
     "name": "stderr",
     "output_type": "stream",
     "text": [
      "/home/rmorse/anaconda3/lib/python3.6/site-packages/sklearn/metrics/classification.py:1135: UndefinedMetricWarning: F-score is ill-defined and being set to 0.0 in labels with no predicted samples.\n",
      "  'precision', 'predicted', average, warn_for)\n"
     ]
    },
    {
     "name": "stdout",
     "output_type": "stream",
     "text": [
      "[CV]  n_estimators=200, min_samples_split=15, min_samples_leaf=4, max_features=sqrt, max_depth=110, bootstrap=False, score=0.6097211696993619, total=   0.9s\n",
      "[CV] n_estimators=2377, min_samples_split=2, min_samples_leaf=1, max_features=sqrt, max_depth=70, bootstrap=True \n"
     ]
    },
    {
     "name": "stderr",
     "output_type": "stream",
     "text": [
      "/home/rmorse/anaconda3/lib/python3.6/site-packages/sklearn/metrics/classification.py:1135: UndefinedMetricWarning: F-score is ill-defined and being set to 0.0 in labels with no predicted samples.\n",
      "  'precision', 'predicted', average, warn_for)\n"
     ]
    },
    {
     "name": "stdout",
     "output_type": "stream",
     "text": [
      "[CV]  n_estimators=511, min_samples_split=5, min_samples_leaf=8, max_features=auto, max_depth=10, bootstrap=False, score=0.7059434046403733, total=   2.2s\n",
      "[CV] n_estimators=2377, min_samples_split=2, min_samples_leaf=1, max_features=sqrt, max_depth=70, bootstrap=True \n",
      "[CV]  n_estimators=511, min_samples_split=5, min_samples_leaf=8, max_features=auto, max_depth=10, bootstrap=False, score=0.5463205219755766, total=   2.2s\n",
      "[CV] n_estimators=2688, min_samples_split=10, min_samples_leaf=8, max_features=auto, max_depth=20, bootstrap=True \n"
     ]
    },
    {
     "name": "stderr",
     "output_type": "stream",
     "text": [
      "/home/rmorse/anaconda3/lib/python3.6/site-packages/sklearn/metrics/classification.py:1135: UndefinedMetricWarning: F-score is ill-defined and being set to 0.0 in labels with no predicted samples.\n",
      "  'precision', 'predicted', average, warn_for)\n"
     ]
    },
    {
     "name": "stdout",
     "output_type": "stream",
     "text": [
      "[CV]  n_estimators=2688, min_samples_split=10, min_samples_leaf=8, max_features=auto, max_depth=20, bootstrap=True, score=0.5265514611054859, total=   8.5s\n",
      "[CV] n_estimators=2688, min_samples_split=10, min_samples_leaf=8, max_features=auto, max_depth=20, bootstrap=True \n",
      "[CV]  n_estimators=2377, min_samples_split=2, min_samples_leaf=1, max_features=sqrt, max_depth=70, bootstrap=True, score=0.6334566222097832, total=   9.6s\n",
      "[CV] n_estimators=2688, min_samples_split=10, min_samples_leaf=8, max_features=auto, max_depth=20, bootstrap=True \n",
      "[CV]  n_estimators=2377, min_samples_split=2, min_samples_leaf=1, max_features=sqrt, max_depth=70, bootstrap=True, score=0.644504686789067, total=   9.4s\n",
      "[CV] n_estimators=1444, min_samples_split=10, min_samples_leaf=4, max_features=sqrt, max_depth=50, bootstrap=False \n",
      "[CV]  n_estimators=2377, min_samples_split=2, min_samples_leaf=1, max_features=sqrt, max_depth=70, bootstrap=True, score=0.7710719762784621, total=   9.8s\n",
      "[CV] n_estimators=1444, min_samples_split=10, min_samples_leaf=4, max_features=sqrt, max_depth=50, bootstrap=False \n",
      "[CV]  n_estimators=1444, min_samples_split=10, min_samples_leaf=4, max_features=sqrt, max_depth=50, bootstrap=False, score=0.6037204202731743, total=   6.8s\n",
      "[CV] n_estimators=1444, min_samples_split=10, min_samples_leaf=4, max_features=sqrt, max_depth=50, bootstrap=False \n",
      "[CV]  n_estimators=1444, min_samples_split=10, min_samples_leaf=4, max_features=sqrt, max_depth=50, bootstrap=False, score=0.7505899010746465, total=   7.0s\n",
      "[CV] n_estimators=2066, min_samples_split=2, min_samples_leaf=8, max_features=auto, max_depth=110, bootstrap=False \n"
     ]
    },
    {
     "name": "stderr",
     "output_type": "stream",
     "text": [
      "/home/rmorse/anaconda3/lib/python3.6/site-packages/sklearn/metrics/classification.py:1135: UndefinedMetricWarning: F-score is ill-defined and being set to 0.0 in labels with no predicted samples.\n",
      "  'precision', 'predicted', average, warn_for)\n"
     ]
    },
    {
     "name": "stdout",
     "output_type": "stream",
     "text": [
      "[CV]  n_estimators=2688, min_samples_split=10, min_samples_leaf=8, max_features=auto, max_depth=20, bootstrap=True, score=0.6854109316749772, total=   8.6s\n",
      "[CV] n_estimators=2066, min_samples_split=2, min_samples_leaf=8, max_features=auto, max_depth=110, bootstrap=False \n",
      "[CV]  n_estimators=2688, min_samples_split=10, min_samples_leaf=8, max_features=auto, max_depth=20, bootstrap=True, score=0.4990936084774351, total=   8.4s\n",
      "[CV] n_estimators=2066, min_samples_split=2, min_samples_leaf=8, max_features=auto, max_depth=110, bootstrap=False \n",
      "[CV]  n_estimators=1444, min_samples_split=10, min_samples_leaf=4, max_features=sqrt, max_depth=50, bootstrap=False, score=0.6359620977164746, total=   6.8s\n",
      "[CV] n_estimators=1444, min_samples_split=2, min_samples_leaf=2, max_features=sqrt, max_depth=100, bootstrap=False \n",
      "[CV]  n_estimators=2066, min_samples_split=2, min_samples_leaf=8, max_features=auto, max_depth=110, bootstrap=False, score=0.5840270805365821, total=   8.8s\n",
      "[CV] n_estimators=1444, min_samples_split=2, min_samples_leaf=2, max_features=sqrt, max_depth=100, bootstrap=False \n"
     ]
    },
    {
     "name": "stderr",
     "output_type": "stream",
     "text": [
      "/home/rmorse/anaconda3/lib/python3.6/site-packages/sklearn/metrics/classification.py:1135: UndefinedMetricWarning: F-score is ill-defined and being set to 0.0 in labels with no predicted samples.\n",
      "  'precision', 'predicted', average, warn_for)\n"
     ]
    },
    {
     "name": "stdout",
     "output_type": "stream",
     "text": [
      "[CV]  n_estimators=2066, min_samples_split=2, min_samples_leaf=8, max_features=auto, max_depth=110, bootstrap=False, score=0.726583272551182, total=   9.0s\n",
      "[CV] n_estimators=1444, min_samples_split=2, min_samples_leaf=2, max_features=sqrt, max_depth=100, bootstrap=False \n",
      "[CV]  n_estimators=2066, min_samples_split=2, min_samples_leaf=8, max_features=auto, max_depth=110, bootstrap=False, score=0.5589381541888302, total=   8.9s\n",
      "[CV] n_estimators=2377, min_samples_split=15, min_samples_leaf=8, max_features=auto, max_depth=70, bootstrap=True \n",
      "[CV]  n_estimators=1444, min_samples_split=2, min_samples_leaf=2, max_features=sqrt, max_depth=100, bootstrap=False, score=0.6248035707433871, total=   7.6s\n",
      "[CV] n_estimators=2377, min_samples_split=15, min_samples_leaf=8, max_features=auto, max_depth=70, bootstrap=True \n",
      "[CV]  n_estimators=1444, min_samples_split=2, min_samples_leaf=2, max_features=sqrt, max_depth=100, bootstrap=False, score=0.7702445917063322, total=   7.5s\n",
      "[CV] n_estimators=2377, min_samples_split=15, min_samples_leaf=8, max_features=auto, max_depth=70, bootstrap=True \n"
     ]
    },
    {
     "name": "stderr",
     "output_type": "stream",
     "text": [
      "/home/rmorse/anaconda3/lib/python3.6/site-packages/sklearn/metrics/classification.py:1135: UndefinedMetricWarning: F-score is ill-defined and being set to 0.0 in labels with no predicted samples.\n",
      "  'precision', 'predicted', average, warn_for)\n"
     ]
    },
    {
     "name": "stdout",
     "output_type": "stream",
     "text": [
      "[CV]  n_estimators=1444, min_samples_split=2, min_samples_leaf=2, max_features=sqrt, max_depth=100, bootstrap=False, score=0.6383878897483977, total=   7.5s\n",
      "[CV] n_estimators=511, min_samples_split=10, min_samples_leaf=4, max_features=auto, max_depth=10, bootstrap=True \n",
      "[CV]  n_estimators=2377, min_samples_split=15, min_samples_leaf=8, max_features=auto, max_depth=70, bootstrap=True, score=0.520569926161241, total=   7.5s\n",
      "[CV] n_estimators=511, min_samples_split=10, min_samples_leaf=4, max_features=auto, max_depth=10, bootstrap=True \n",
      "[CV]  n_estimators=511, min_samples_split=10, min_samples_leaf=4, max_features=auto, max_depth=10, bootstrap=True, score=0.5897643225711336, total=   1.8s\n",
      "[CV] n_estimators=511, min_samples_split=10, min_samples_leaf=4, max_features=auto, max_depth=10, bootstrap=True \n",
      "[CV]  n_estimators=511, min_samples_split=10, min_samples_leaf=4, max_features=auto, max_depth=10, bootstrap=True, score=0.730389251034377, total=   1.7s\n",
      "[CV] n_estimators=2688, min_samples_split=5, min_samples_leaf=2, max_features=auto, max_depth=70, bootstrap=True \n"
     ]
    },
    {
     "name": "stderr",
     "output_type": "stream",
     "text": [
      "/home/rmorse/anaconda3/lib/python3.6/site-packages/sklearn/metrics/classification.py:1135: UndefinedMetricWarning: F-score is ill-defined and being set to 0.0 in labels with no predicted samples.\n",
      "  'precision', 'predicted', average, warn_for)\n"
     ]
    },
    {
     "name": "stdout",
     "output_type": "stream",
     "text": [
      "[CV]  n_estimators=511, min_samples_split=10, min_samples_leaf=4, max_features=auto, max_depth=10, bootstrap=True, score=0.5629218462716501, total=   1.9s\n",
      "[CV] n_estimators=2688, min_samples_split=5, min_samples_leaf=2, max_features=auto, max_depth=70, bootstrap=True \n",
      "[CV]  n_estimators=2377, min_samples_split=15, min_samples_leaf=8, max_features=auto, max_depth=70, bootstrap=True, score=0.7088917679517855, total=   7.4s\n",
      "[CV] n_estimators=2688, min_samples_split=5, min_samples_leaf=2, max_features=auto, max_depth=70, bootstrap=True \n"
     ]
    },
    {
     "name": "stderr",
     "output_type": "stream",
     "text": [
      "/home/rmorse/anaconda3/lib/python3.6/site-packages/sklearn/metrics/classification.py:1135: UndefinedMetricWarning: F-score is ill-defined and being set to 0.0 in labels with no predicted samples.\n",
      "  'precision', 'predicted', average, warn_for)\n"
     ]
    },
    {
     "name": "stdout",
     "output_type": "stream",
     "text": [
      "[CV]  n_estimators=2377, min_samples_split=15, min_samples_leaf=8, max_features=auto, max_depth=70, bootstrap=True, score=0.4915045518724051, total=   7.4s\n",
      "[CV] n_estimators=2377, min_samples_split=10, min_samples_leaf=1, max_features=sqrt, max_depth=50, bootstrap=True \n",
      "[CV]  n_estimators=2688, min_samples_split=5, min_samples_leaf=2, max_features=auto, max_depth=70, bootstrap=True, score=0.617143274825077, total=  10.2s\n",
      "[CV] n_estimators=2377, min_samples_split=10, min_samples_leaf=1, max_features=sqrt, max_depth=50, bootstrap=True \n",
      "[CV]  n_estimators=2688, min_samples_split=5, min_samples_leaf=2, max_features=auto, max_depth=70, bootstrap=True, score=0.7601548184305291, total=  10.2s\n",
      "[CV] n_estimators=2377, min_samples_split=10, min_samples_leaf=1, max_features=sqrt, max_depth=50, bootstrap=True \n",
      "[CV]  n_estimators=2688, min_samples_split=5, min_samples_leaf=2, max_features=auto, max_depth=70, bootstrap=True, score=0.6247289561341228, total=   9.9s\n",
      "[CV] n_estimators=3000, min_samples_split=15, min_samples_leaf=8, max_features=sqrt, max_depth=10, bootstrap=True \n",
      "[CV]  n_estimators=2377, min_samples_split=10, min_samples_leaf=1, max_features=sqrt, max_depth=50, bootstrap=True, score=0.6128746480654614, total=   8.9s\n",
      "[CV] n_estimators=3000, min_samples_split=15, min_samples_leaf=8, max_features=sqrt, max_depth=10, bootstrap=True \n",
      "[CV]  n_estimators=2377, min_samples_split=10, min_samples_leaf=1, max_features=sqrt, max_depth=50, bootstrap=True, score=0.7592534743300667, total=   8.9s\n",
      "[CV] n_estimators=3000, min_samples_split=15, min_samples_leaf=8, max_features=sqrt, max_depth=10, bootstrap=True \n"
     ]
    },
    {
     "name": "stderr",
     "output_type": "stream",
     "text": [
      "/home/rmorse/anaconda3/lib/python3.6/site-packages/sklearn/metrics/classification.py:1135: UndefinedMetricWarning: F-score is ill-defined and being set to 0.0 in labels with no predicted samples.\n",
      "  'precision', 'predicted', average, warn_for)\n",
      "/home/rmorse/anaconda3/lib/python3.6/site-packages/sklearn/metrics/classification.py:1135: UndefinedMetricWarning: F-score is ill-defined and being set to 0.0 in labels with no predicted samples.\n",
      "  'precision', 'predicted', average, warn_for)\n"
     ]
    },
    {
     "name": "stdout",
     "output_type": "stream",
     "text": [
      "[CV]  n_estimators=2377, min_samples_split=10, min_samples_leaf=1, max_features=sqrt, max_depth=50, bootstrap=True, score=0.6022195664404917, total=   8.8s\n",
      "[CV] n_estimators=2688, min_samples_split=5, min_samples_leaf=1, max_features=auto, max_depth=20, bootstrap=False \n",
      "[CV]  n_estimators=3000, min_samples_split=15, min_samples_leaf=8, max_features=sqrt, max_depth=10, bootstrap=True, score=0.5365943746903478, total=   9.3s\n",
      "[CV] n_estimators=2688, min_samples_split=5, min_samples_leaf=1, max_features=auto, max_depth=20, bootstrap=False \n",
      "[CV]  n_estimators=3000, min_samples_split=15, min_samples_leaf=8, max_features=sqrt, max_depth=10, bootstrap=True, score=0.7016069379812099, total=   9.3s\n",
      "[CV] n_estimators=2688, min_samples_split=5, min_samples_leaf=1, max_features=auto, max_depth=20, bootstrap=False \n"
     ]
    },
    {
     "name": "stderr",
     "output_type": "stream",
     "text": [
      "/home/rmorse/anaconda3/lib/python3.6/site-packages/sklearn/metrics/classification.py:1135: UndefinedMetricWarning: F-score is ill-defined and being set to 0.0 in labels with no predicted samples.\n",
      "  'precision', 'predicted', average, warn_for)\n"
     ]
    },
    {
     "name": "stdout",
     "output_type": "stream",
     "text": [
      "[CV]  n_estimators=3000, min_samples_split=15, min_samples_leaf=8, max_features=sqrt, max_depth=10, bootstrap=True, score=0.48360782275133785, total=   9.4s\n",
      "[CV] n_estimators=511, min_samples_split=15, min_samples_leaf=2, max_features=sqrt, max_depth=100, bootstrap=False \n",
      "[CV]  n_estimators=511, min_samples_split=15, min_samples_leaf=2, max_features=sqrt, max_depth=100, bootstrap=False, score=0.6066369175780619, total=   2.4s\n",
      "[CV] n_estimators=511, min_samples_split=15, min_samples_leaf=2, max_features=sqrt, max_depth=100, bootstrap=False \n"
     ]
    },
    {
     "name": "stderr",
     "output_type": "stream",
     "text": [
      "[Parallel(n_jobs=-1)]: Done 280 tasks      | elapsed:  8.5min\n"
     ]
    },
    {
     "name": "stdout",
     "output_type": "stream",
     "text": [
      "[CV]  n_estimators=511, min_samples_split=15, min_samples_leaf=2, max_features=sqrt, max_depth=100, bootstrap=False, score=0.7421506026518172, total=   2.4s\n",
      "[CV] n_estimators=511, min_samples_split=15, min_samples_leaf=2, max_features=sqrt, max_depth=100, bootstrap=False \n",
      "[CV]  n_estimators=2688, min_samples_split=5, min_samples_leaf=1, max_features=auto, max_depth=20, bootstrap=False, score=0.6269011619648935, total=  14.3s\n",
      "[CV] n_estimators=3000, min_samples_split=5, min_samples_leaf=8, max_features=sqrt, max_depth=110, bootstrap=False \n",
      "[CV]  n_estimators=2688, min_samples_split=5, min_samples_leaf=1, max_features=auto, max_depth=20, bootstrap=False, score=0.7651399233306354, total=  14.4s\n",
      "[CV] n_estimators=3000, min_samples_split=5, min_samples_leaf=8, max_features=sqrt, max_depth=110, bootstrap=False \n",
      "[CV]  n_estimators=511, min_samples_split=15, min_samples_leaf=2, max_features=sqrt, max_depth=100, bootstrap=False, score=0.5934224083192133, total=   2.4s\n",
      "[CV] n_estimators=3000, min_samples_split=5, min_samples_leaf=8, max_features=sqrt, max_depth=110, bootstrap=False \n",
      "[CV]  n_estimators=2688, min_samples_split=5, min_samples_leaf=1, max_features=auto, max_depth=20, bootstrap=False, score=0.6460404646561271, total=  14.2s\n",
      "[CV] n_estimators=2066, min_samples_split=2, min_samples_leaf=8, max_features=auto, max_depth=100, bootstrap=False \n",
      "[CV]  n_estimators=2066, min_samples_split=2, min_samples_leaf=8, max_features=auto, max_depth=100, bootstrap=False, score=0.5838868979106253, total=   8.7s\n",
      "[CV] n_estimators=2066, min_samples_split=2, min_samples_leaf=8, max_features=auto, max_depth=100, bootstrap=False \n"
     ]
    },
    {
     "name": "stderr",
     "output_type": "stream",
     "text": [
      "/home/rmorse/anaconda3/lib/python3.6/site-packages/sklearn/metrics/classification.py:1135: UndefinedMetricWarning: F-score is ill-defined and being set to 0.0 in labels with no predicted samples.\n",
      "  'precision', 'predicted', average, warn_for)\n"
     ]
    },
    {
     "name": "stdout",
     "output_type": "stream",
     "text": [
      "[CV]  n_estimators=3000, min_samples_split=5, min_samples_leaf=8, max_features=sqrt, max_depth=110, bootstrap=False, score=0.5788400732205865, total=  12.8s\n",
      "[CV] n_estimators=2066, min_samples_split=2, min_samples_leaf=8, max_features=auto, max_depth=100, bootstrap=False \n",
      "[CV]  n_estimators=3000, min_samples_split=5, min_samples_leaf=8, max_features=sqrt, max_depth=110, bootstrap=False, score=0.5622950518771423, total=  12.6s\n",
      "[CV]  n_estimators=3000, min_samples_split=5, min_samples_leaf=8, max_features=sqrt, max_depth=110, bootstrap=False, score=0.7172544228556472, total=  12.6s\n",
      "[CV] n_estimators=2066, min_samples_split=15, min_samples_leaf=2, max_features=auto, max_depth=80, bootstrap=True \n",
      "[CV] n_estimators=2066, min_samples_split=15, min_samples_leaf=2, max_features=auto, max_depth=80, bootstrap=True \n",
      "[CV]  n_estimators=2066, min_samples_split=2, min_samples_leaf=8, max_features=auto, max_depth=100, bootstrap=False, score=0.7135381849918501, total=   8.7s\n",
      "[CV] n_estimators=2066, min_samples_split=15, min_samples_leaf=2, max_features=auto, max_depth=80, bootstrap=True \n"
     ]
    },
    {
     "name": "stderr",
     "output_type": "stream",
     "text": [
      "/home/rmorse/anaconda3/lib/python3.6/site-packages/sklearn/metrics/classification.py:1135: UndefinedMetricWarning: F-score is ill-defined and being set to 0.0 in labels with no predicted samples.\n",
      "  'precision', 'predicted', average, warn_for)\n"
     ]
    },
    {
     "name": "stdout",
     "output_type": "stream",
     "text": [
      "[CV]  n_estimators=2066, min_samples_split=15, min_samples_leaf=2, max_features=auto, max_depth=80, bootstrap=True, score=0.7290358231111675, total=   7.1s\n",
      "[CV] n_estimators=2688, min_samples_split=5, min_samples_leaf=1, max_features=sqrt, max_depth=70, bootstrap=True \n",
      "[CV]  n_estimators=2066, min_samples_split=15, min_samples_leaf=2, max_features=auto, max_depth=80, bootstrap=True, score=0.5749932329744099, total=   7.2s\n",
      "[CV] n_estimators=2688, min_samples_split=5, min_samples_leaf=1, max_features=sqrt, max_depth=70, bootstrap=True \n"
     ]
    },
    {
     "name": "stderr",
     "output_type": "stream",
     "text": [
      "/home/rmorse/anaconda3/lib/python3.6/site-packages/sklearn/metrics/classification.py:1135: UndefinedMetricWarning: F-score is ill-defined and being set to 0.0 in labels with no predicted samples.\n",
      "  'precision', 'predicted', average, warn_for)\n"
     ]
    },
    {
     "name": "stdout",
     "output_type": "stream",
     "text": [
      "[CV]  n_estimators=2066, min_samples_split=2, min_samples_leaf=8, max_features=auto, max_depth=100, bootstrap=False, score=0.5659446642215437, total=   8.8s\n",
      "[CV] n_estimators=2688, min_samples_split=5, min_samples_leaf=1, max_features=sqrt, max_depth=70, bootstrap=True \n"
     ]
    },
    {
     "name": "stderr",
     "output_type": "stream",
     "text": [
      "/home/rmorse/anaconda3/lib/python3.6/site-packages/sklearn/metrics/classification.py:1135: UndefinedMetricWarning: F-score is ill-defined and being set to 0.0 in labels with no predicted samples.\n",
      "  'precision', 'predicted', average, warn_for)\n"
     ]
    },
    {
     "name": "stdout",
     "output_type": "stream",
     "text": [
      "[CV]  n_estimators=2066, min_samples_split=15, min_samples_leaf=2, max_features=auto, max_depth=80, bootstrap=True, score=0.5658506209900203, total=   7.2s\n",
      "[CV] n_estimators=2066, min_samples_split=5, min_samples_leaf=4, max_features=sqrt, max_depth=30, bootstrap=False \n",
      "[CV]  n_estimators=2688, min_samples_split=5, min_samples_leaf=1, max_features=sqrt, max_depth=70, bootstrap=True, score=0.6251586175913131, total=  10.5s\n",
      "[CV] n_estimators=2066, min_samples_split=5, min_samples_leaf=4, max_features=sqrt, max_depth=30, bootstrap=False \n",
      "[CV]  n_estimators=2688, min_samples_split=5, min_samples_leaf=1, max_features=sqrt, max_depth=70, bootstrap=True, score=0.7675231724477052, total=  10.6s\n",
      "[CV] n_estimators=2066, min_samples_split=5, min_samples_leaf=4, max_features=sqrt, max_depth=30, bootstrap=False \n",
      "[CV]  n_estimators=2688, min_samples_split=5, min_samples_leaf=1, max_features=sqrt, max_depth=70, bootstrap=True, score=0.637201963660385, total=  10.4s\n",
      "[CV] n_estimators=1444, min_samples_split=10, min_samples_leaf=4, max_features=auto, max_depth=70, bootstrap=True \n",
      "[CV]  n_estimators=2066, min_samples_split=5, min_samples_leaf=4, max_features=sqrt, max_depth=30, bootstrap=False, score=0.6080282774758057, total=   9.8s\n",
      "[CV] n_estimators=1444, min_samples_split=10, min_samples_leaf=4, max_features=auto, max_depth=70, bootstrap=True \n",
      "[CV]  n_estimators=1444, min_samples_split=10, min_samples_leaf=4, max_features=auto, max_depth=70, bootstrap=True, score=0.5848042685995676, total=   4.9s\n",
      "[CV] n_estimators=1444, min_samples_split=10, min_samples_leaf=4, max_features=auto, max_depth=70, bootstrap=True \n",
      "[CV]  n_estimators=2066, min_samples_split=5, min_samples_leaf=4, max_features=sqrt, max_depth=30, bootstrap=False, score=0.7476837443618378, total=   9.8s\n",
      "[CV] n_estimators=511, min_samples_split=10, min_samples_leaf=4, max_features=sqrt, max_depth=110, bootstrap=False \n",
      "[CV]  n_estimators=2066, min_samples_split=5, min_samples_leaf=4, max_features=sqrt, max_depth=30, bootstrap=False, score=0.625429343740044, total=   9.8s\n",
      "[CV] n_estimators=511, min_samples_split=10, min_samples_leaf=4, max_features=sqrt, max_depth=110, bootstrap=False \n",
      "[CV]  n_estimators=1444, min_samples_split=10, min_samples_leaf=4, max_features=auto, max_depth=70, bootstrap=True, score=0.7347518198368571, total=   4.9s\n",
      "[CV] n_estimators=511, min_samples_split=10, min_samples_leaf=4, max_features=sqrt, max_depth=110, bootstrap=False \n"
     ]
    },
    {
     "name": "stderr",
     "output_type": "stream",
     "text": [
      "/home/rmorse/anaconda3/lib/python3.6/site-packages/sklearn/metrics/classification.py:1135: UndefinedMetricWarning: F-score is ill-defined and being set to 0.0 in labels with no predicted samples.\n",
      "  'precision', 'predicted', average, warn_for)\n"
     ]
    },
    {
     "name": "stdout",
     "output_type": "stream",
     "text": [
      "[CV]  n_estimators=1444, min_samples_split=10, min_samples_leaf=4, max_features=auto, max_depth=70, bootstrap=True, score=0.5637538499853507, total=   4.9s\n",
      "[CV] n_estimators=2066, min_samples_split=2, min_samples_leaf=4, max_features=auto, max_depth=40, bootstrap=True \n",
      "[CV]  n_estimators=511, min_samples_split=10, min_samples_leaf=4, max_features=sqrt, max_depth=110, bootstrap=False, score=0.6049877672030862, total=   2.4s\n",
      "[CV] n_estimators=2066, min_samples_split=2, min_samples_leaf=4, max_features=auto, max_depth=40, bootstrap=True \n",
      "[CV]  n_estimators=511, min_samples_split=10, min_samples_leaf=4, max_features=sqrt, max_depth=110, bootstrap=False, score=0.7483073567907839, total=   2.4s\n",
      "[CV] n_estimators=2066, min_samples_split=2, min_samples_leaf=4, max_features=auto, max_depth=40, bootstrap=True \n",
      "[CV]  n_estimators=511, min_samples_split=10, min_samples_leaf=4, max_features=sqrt, max_depth=110, bootstrap=False, score=0.6106978061655678, total=   2.4s\n",
      "[CV] n_estimators=200, min_samples_split=10, min_samples_leaf=2, max_features=auto, max_depth=40, bootstrap=True \n"
     ]
    },
    {
     "name": "stderr",
     "output_type": "stream",
     "text": [
      "/home/rmorse/anaconda3/lib/python3.6/site-packages/sklearn/metrics/classification.py:1135: UndefinedMetricWarning: F-score is ill-defined and being set to 0.0 in labels with no predicted samples.\n",
      "  'precision', 'predicted', average, warn_for)\n"
     ]
    },
    {
     "name": "stdout",
     "output_type": "stream",
     "text": [
      "[CV]  n_estimators=200, min_samples_split=10, min_samples_leaf=2, max_features=auto, max_depth=40, bootstrap=True, score=0.5972001462139569, total=   0.7s\n",
      "[CV] n_estimators=200, min_samples_split=10, min_samples_leaf=2, max_features=auto, max_depth=40, bootstrap=True \n",
      "[CV]  n_estimators=200, min_samples_split=10, min_samples_leaf=2, max_features=auto, max_depth=40, bootstrap=True, score=0.7172540053388556, total=   0.7s\n",
      "[CV] n_estimators=200, min_samples_split=10, min_samples_leaf=2, max_features=auto, max_depth=40, bootstrap=True \n",
      "[CV]  n_estimators=200, min_samples_split=10, min_samples_leaf=2, max_features=auto, max_depth=40, bootstrap=True, score=0.5836137162053755, total=   0.7s\n",
      "[CV] n_estimators=2377, min_samples_split=2, min_samples_leaf=1, max_features=sqrt, max_depth=110, bootstrap=False \n",
      "[CV]  n_estimators=2066, min_samples_split=2, min_samples_leaf=4, max_features=auto, max_depth=40, bootstrap=True, score=0.6103933809899293, total=   7.2s\n",
      "[CV] n_estimators=2377, min_samples_split=2, min_samples_leaf=1, max_features=sqrt, max_depth=110, bootstrap=False \n"
     ]
    },
    {
     "name": "stderr",
     "output_type": "stream",
     "text": [
      "/home/rmorse/anaconda3/lib/python3.6/site-packages/sklearn/metrics/classification.py:1135: UndefinedMetricWarning: F-score is ill-defined and being set to 0.0 in labels with no predicted samples.\n",
      "  'precision', 'predicted', average, warn_for)\n"
     ]
    },
    {
     "name": "stdout",
     "output_type": "stream",
     "text": [
      "[CV]  n_estimators=2066, min_samples_split=2, min_samples_leaf=4, max_features=auto, max_depth=40, bootstrap=True, score=0.7445111018887881, total=   7.1s\n",
      "[CV] n_estimators=2377, min_samples_split=2, min_samples_leaf=1, max_features=sqrt, max_depth=110, bootstrap=False \n",
      "[CV]  n_estimators=2066, min_samples_split=2, min_samples_leaf=4, max_features=auto, max_depth=40, bootstrap=True, score=0.5778183377786728, total=   7.1s\n",
      "[CV] n_estimators=1755, min_samples_split=10, min_samples_leaf=2, max_features=auto, max_depth=70, bootstrap=False \n",
      "[CV]  n_estimators=2377, min_samples_split=2, min_samples_leaf=1, max_features=sqrt, max_depth=110, bootstrap=False, score=0.6264410919677169, total=  13.2s\n",
      "[CV] n_estimators=1755, min_samples_split=10, min_samples_leaf=2, max_features=auto, max_depth=70, bootstrap=False \n",
      "[CV]  n_estimators=1755, min_samples_split=10, min_samples_leaf=2, max_features=auto, max_depth=70, bootstrap=False, score=0.6294674682043102, total=   8.7s\n",
      "[CV] n_estimators=1755, min_samples_split=10, min_samples_leaf=2, max_features=auto, max_depth=70, bootstrap=False \n",
      "[CV]  n_estimators=2377, min_samples_split=2, min_samples_leaf=1, max_features=sqrt, max_depth=110, bootstrap=False, score=0.7705234472360238, total=  13.2s\n",
      "[CV] n_estimators=1133, min_samples_split=2, min_samples_leaf=2, max_features=sqrt, max_depth=20, bootstrap=False \n",
      "[CV]  n_estimators=2377, min_samples_split=2, min_samples_leaf=1, max_features=sqrt, max_depth=110, bootstrap=False, score=0.6527045383901552, total=  12.9s\n",
      "[CV] n_estimators=1133, min_samples_split=2, min_samples_leaf=2, max_features=sqrt, max_depth=20, bootstrap=False \n",
      "[CV]  n_estimators=1755, min_samples_split=10, min_samples_leaf=2, max_features=auto, max_depth=70, bootstrap=False, score=0.7481032818631864, total=   8.6s\n",
      "[CV] n_estimators=1133, min_samples_split=2, min_samples_leaf=2, max_features=sqrt, max_depth=20, bootstrap=False \n",
      "[CV]  n_estimators=1755, min_samples_split=10, min_samples_leaf=2, max_features=auto, max_depth=70, bootstrap=False, score=0.6386895067316768, total=   8.5s\n",
      "[CV] n_estimators=200, min_samples_split=5, min_samples_leaf=2, max_features=auto, max_depth=50, bootstrap=True \n",
      "[CV]  n_estimators=1133, min_samples_split=2, min_samples_leaf=2, max_features=sqrt, max_depth=20, bootstrap=False, score=0.629771968632439, total=   5.9s\n",
      "[CV] n_estimators=200, min_samples_split=5, min_samples_leaf=2, max_features=auto, max_depth=50, bootstrap=True \n",
      "[CV]  n_estimators=200, min_samples_split=5, min_samples_leaf=2, max_features=auto, max_depth=50, bootstrap=True, score=0.619180483470755, total=   0.7s\n",
      "[CV] n_estimators=200, min_samples_split=5, min_samples_leaf=2, max_features=auto, max_depth=50, bootstrap=True \n",
      "[CV]  n_estimators=200, min_samples_split=5, min_samples_leaf=2, max_features=auto, max_depth=50, bootstrap=True, score=0.7511078139215749, total=   0.8s\n",
      "[CV] n_estimators=2377, min_samples_split=5, min_samples_leaf=8, max_features=auto, max_depth=40, bootstrap=True \n",
      "[CV]  n_estimators=1133, min_samples_split=2, min_samples_leaf=2, max_features=sqrt, max_depth=20, bootstrap=False, score=0.7682350401400118, total=   5.9s\n",
      "[CV] n_estimators=2377, min_samples_split=5, min_samples_leaf=8, max_features=auto, max_depth=40, bootstrap=True \n",
      "[CV]  n_estimators=200, min_samples_split=5, min_samples_leaf=2, max_features=auto, max_depth=50, bootstrap=True, score=0.5843306411122268, total=   0.8s\n",
      "[CV] n_estimators=2377, min_samples_split=5, min_samples_leaf=8, max_features=auto, max_depth=40, bootstrap=True \n",
      "[CV]  n_estimators=1133, min_samples_split=2, min_samples_leaf=2, max_features=sqrt, max_depth=20, bootstrap=False, score=0.6457782461086597, total=   5.8s\n",
      "[CV] n_estimators=511, min_samples_split=5, min_samples_leaf=2, max_features=auto, max_depth=70, bootstrap=True \n",
      "[CV]  n_estimators=511, min_samples_split=5, min_samples_leaf=2, max_features=auto, max_depth=70, bootstrap=True, score=0.6024347579372064, total=   1.9s\n",
      "[CV] n_estimators=511, min_samples_split=5, min_samples_leaf=2, max_features=auto, max_depth=70, bootstrap=True \n"
     ]
    },
    {
     "name": "stderr",
     "output_type": "stream",
     "text": [
      "/home/rmorse/anaconda3/lib/python3.6/site-packages/sklearn/metrics/classification.py:1135: UndefinedMetricWarning: F-score is ill-defined and being set to 0.0 in labels with no predicted samples.\n",
      "  'precision', 'predicted', average, warn_for)\n",
      "/home/rmorse/anaconda3/lib/python3.6/site-packages/sklearn/metrics/classification.py:1135: UndefinedMetricWarning: F-score is ill-defined and being set to 0.0 in labels with no predicted samples.\n",
      "  'precision', 'predicted', average, warn_for)\n"
     ]
    },
    {
     "name": "stdout",
     "output_type": "stream",
     "text": [
      "[CV]  n_estimators=2377, min_samples_split=5, min_samples_leaf=8, max_features=auto, max_depth=40, bootstrap=True, score=0.524069024873869, total=   7.4s\n",
      "[CV] n_estimators=511, min_samples_split=5, min_samples_leaf=2, max_features=auto, max_depth=70, bootstrap=True \n",
      "[CV]  n_estimators=2377, min_samples_split=5, min_samples_leaf=8, max_features=auto, max_depth=40, bootstrap=True, score=0.6985346149119372, total=   7.4s\n",
      "[CV] n_estimators=200, min_samples_split=5, min_samples_leaf=2, max_features=auto, max_depth=10, bootstrap=True \n",
      "[CV]  n_estimators=2377, min_samples_split=5, min_samples_leaf=8, max_features=auto, max_depth=40, bootstrap=True, score=0.5006700378346055, total=   7.4s\n",
      "[CV] n_estimators=200, min_samples_split=5, min_samples_leaf=2, max_features=auto, max_depth=10, bootstrap=True \n",
      "[CV]  n_estimators=200, min_samples_split=5, min_samples_leaf=2, max_features=auto, max_depth=10, bootstrap=True, score=0.6032777714208026, total=   0.7s\n",
      "[CV] n_estimators=200, min_samples_split=5, min_samples_leaf=2, max_features=auto, max_depth=10, bootstrap=True \n",
      "[CV]  n_estimators=511, min_samples_split=5, min_samples_leaf=2, max_features=auto, max_depth=70, bootstrap=True, score=0.7497838339427073, total=   1.9s\n",
      "[CV] n_estimators=822, min_samples_split=5, min_samples_leaf=1, max_features=sqrt, max_depth=80, bootstrap=True \n",
      "[CV]  n_estimators=200, min_samples_split=5, min_samples_leaf=2, max_features=auto, max_depth=10, bootstrap=True, score=0.73611466696956, total=   0.7s\n",
      "[CV] n_estimators=822, min_samples_split=5, min_samples_leaf=1, max_features=sqrt, max_depth=80, bootstrap=True \n",
      "[CV]  n_estimators=200, min_samples_split=5, min_samples_leaf=2, max_features=auto, max_depth=10, bootstrap=True, score=0.6346062800164259, total=   0.7s\n",
      "[CV] n_estimators=822, min_samples_split=5, min_samples_leaf=1, max_features=sqrt, max_depth=80, bootstrap=True \n",
      "[CV]  n_estimators=511, min_samples_split=5, min_samples_leaf=2, max_features=auto, max_depth=70, bootstrap=True, score=0.6338145528207981, total=   1.9s\n",
      "[CV] n_estimators=2688, min_samples_split=5, min_samples_leaf=4, max_features=sqrt, max_depth=20, bootstrap=False \n",
      "[CV]  n_estimators=822, min_samples_split=5, min_samples_leaf=1, max_features=sqrt, max_depth=80, bootstrap=True, score=0.6198934021035178, total=   3.1s\n",
      "[CV] n_estimators=2688, min_samples_split=5, min_samples_leaf=4, max_features=sqrt, max_depth=20, bootstrap=False \n",
      "[CV]  n_estimators=822, min_samples_split=5, min_samples_leaf=1, max_features=sqrt, max_depth=80, bootstrap=True, score=0.7670434828119429, total=   3.4s\n",
      "[CV] n_estimators=2688, min_samples_split=5, min_samples_leaf=4, max_features=sqrt, max_depth=20, bootstrap=False \n",
      "[CV]  n_estimators=822, min_samples_split=5, min_samples_leaf=1, max_features=sqrt, max_depth=80, bootstrap=True, score=0.6453445640884832, total=   3.2s\n",
      "[CV] n_estimators=822, min_samples_split=15, min_samples_leaf=2, max_features=sqrt, max_depth=80, bootstrap=False \n",
      "[CV]  n_estimators=822, min_samples_split=15, min_samples_leaf=2, max_features=sqrt, max_depth=80, bootstrap=False, score=0.6163045959362425, total=   3.9s\n",
      "[CV] n_estimators=822, min_samples_split=15, min_samples_leaf=2, max_features=sqrt, max_depth=80, bootstrap=False \n",
      "[CV]  n_estimators=822, min_samples_split=15, min_samples_leaf=2, max_features=sqrt, max_depth=80, bootstrap=False, score=0.7462415481921932, total=   3.8s\n",
      "[CV] n_estimators=822, min_samples_split=15, min_samples_leaf=2, max_features=sqrt, max_depth=80, bootstrap=False \n",
      "[CV]  n_estimators=2688, min_samples_split=5, min_samples_leaf=4, max_features=sqrt, max_depth=20, bootstrap=False, score=0.6169310080956371, total=  12.7s\n",
      "[CV] n_estimators=200, min_samples_split=2, min_samples_leaf=1, max_features=auto, max_depth=60, bootstrap=True \n",
      "[CV]  n_estimators=200, min_samples_split=2, min_samples_leaf=1, max_features=auto, max_depth=60, bootstrap=True, score=0.6053505024518138, total=   0.8s\n",
      "[CV] n_estimators=200, min_samples_split=2, min_samples_leaf=1, max_features=auto, max_depth=60, bootstrap=True \n",
      "[CV]  n_estimators=822, min_samples_split=15, min_samples_leaf=2, max_features=sqrt, max_depth=80, bootstrap=False, score=0.616807553441922, total=   3.8s\n",
      "[CV] n_estimators=200, min_samples_split=2, min_samples_leaf=1, max_features=auto, max_depth=60, bootstrap=True \n",
      "[CV]  n_estimators=200, min_samples_split=2, min_samples_leaf=1, max_features=auto, max_depth=60, bootstrap=True, score=0.7518365632899588, total=   0.8s\n",
      "[CV] n_estimators=822, min_samples_split=10, min_samples_leaf=8, max_features=sqrt, max_depth=60, bootstrap=True \n",
      "[CV]  n_estimators=2688, min_samples_split=5, min_samples_leaf=4, max_features=sqrt, max_depth=20, bootstrap=False, score=0.750741914065947, total=  12.7s\n",
      "[CV] n_estimators=822, min_samples_split=10, min_samples_leaf=8, max_features=sqrt, max_depth=60, bootstrap=True \n",
      "[CV]  n_estimators=200, min_samples_split=2, min_samples_leaf=1, max_features=auto, max_depth=60, bootstrap=True, score=0.6442052473662219, total=   0.8s\n",
      "[CV] n_estimators=822, min_samples_split=10, min_samples_leaf=8, max_features=sqrt, max_depth=60, bootstrap=True \n",
      "[CV]  n_estimators=2688, min_samples_split=5, min_samples_leaf=4, max_features=sqrt, max_depth=20, bootstrap=False, score=0.6287754151721623, total=  12.6s\n",
      "[CV] n_estimators=2066, min_samples_split=15, min_samples_leaf=1, max_features=sqrt, max_depth=110, bootstrap=False \n"
     ]
    },
    {
     "name": "stderr",
     "output_type": "stream",
     "text": [
      "/home/rmorse/anaconda3/lib/python3.6/site-packages/sklearn/metrics/classification.py:1135: UndefinedMetricWarning: F-score is ill-defined and being set to 0.0 in labels with no predicted samples.\n",
      "  'precision', 'predicted', average, warn_for)\n"
     ]
    },
    {
     "name": "stdout",
     "output_type": "stream",
     "text": [
      "[CV]  n_estimators=822, min_samples_split=10, min_samples_leaf=8, max_features=sqrt, max_depth=60, bootstrap=True, score=0.5385542690493191, total=   2.6s\n",
      "[CV] n_estimators=2066, min_samples_split=15, min_samples_leaf=1, max_features=sqrt, max_depth=110, bootstrap=False \n",
      "[CV]  n_estimators=822, min_samples_split=10, min_samples_leaf=8, max_features=sqrt, max_depth=60, bootstrap=True, score=0.6994545849805186, total=   2.6s\n",
      "[CV] n_estimators=2066, min_samples_split=15, min_samples_leaf=1, max_features=sqrt, max_depth=110, bootstrap=False \n"
     ]
    },
    {
     "name": "stderr",
     "output_type": "stream",
     "text": [
      "/home/rmorse/anaconda3/lib/python3.6/site-packages/sklearn/metrics/classification.py:1135: UndefinedMetricWarning: F-score is ill-defined and being set to 0.0 in labels with no predicted samples.\n",
      "  'precision', 'predicted', average, warn_for)\n"
     ]
    },
    {
     "name": "stdout",
     "output_type": "stream",
     "text": [
      "[CV]  n_estimators=822, min_samples_split=10, min_samples_leaf=8, max_features=sqrt, max_depth=60, bootstrap=True, score=0.5065897766605086, total=   2.6s\n",
      "[CV] n_estimators=1133, min_samples_split=10, min_samples_leaf=1, max_features=sqrt, max_depth=10, bootstrap=False \n",
      "[CV]  n_estimators=1133, min_samples_split=10, min_samples_leaf=1, max_features=sqrt, max_depth=10, bootstrap=False, score=0.62235132722469, total=   5.5s\n",
      "[CV] n_estimators=1133, min_samples_split=10, min_samples_leaf=1, max_features=sqrt, max_depth=10, bootstrap=False \n",
      "[CV]  n_estimators=2066, min_samples_split=15, min_samples_leaf=1, max_features=sqrt, max_depth=110, bootstrap=False, score=0.6235140097768904, total=  10.1s\n",
      "[CV] n_estimators=1133, min_samples_split=10, min_samples_leaf=1, max_features=sqrt, max_depth=10, bootstrap=False \n",
      "[CV]  n_estimators=2066, min_samples_split=15, min_samples_leaf=1, max_features=sqrt, max_depth=110, bootstrap=False, score=0.7471542635393285, total=  10.0s\n",
      "[CV] n_estimators=3000, min_samples_split=10, min_samples_leaf=4, max_features=auto, max_depth=70, bootstrap=False \n",
      "[CV]  n_estimators=2066, min_samples_split=15, min_samples_leaf=1, max_features=sqrt, max_depth=110, bootstrap=False, score=0.6331653100795416, total=  10.0s\n",
      "[CV] n_estimators=3000, min_samples_split=10, min_samples_leaf=4, max_features=auto, max_depth=70, bootstrap=False \n",
      "[CV]  n_estimators=1133, min_samples_split=10, min_samples_leaf=1, max_features=sqrt, max_depth=10, bootstrap=False, score=0.7517206021879751, total=   5.6s\n",
      "[CV] n_estimators=3000, min_samples_split=10, min_samples_leaf=4, max_features=auto, max_depth=70, bootstrap=False \n",
      "[CV]  n_estimators=1133, min_samples_split=10, min_samples_leaf=1, max_features=sqrt, max_depth=10, bootstrap=False, score=0.6347368160908727, total=   5.5s\n",
      "[CV] n_estimators=200, min_samples_split=15, min_samples_leaf=2, max_features=auto, max_depth=20, bootstrap=False \n",
      "[CV]  n_estimators=200, min_samples_split=15, min_samples_leaf=2, max_features=auto, max_depth=20, bootstrap=False, score=0.5995081546665988, total=   0.9s\n",
      "[CV] n_estimators=200, min_samples_split=15, min_samples_leaf=2, max_features=auto, max_depth=20, bootstrap=False \n",
      "[CV]  n_estimators=200, min_samples_split=15, min_samples_leaf=2, max_features=auto, max_depth=20, bootstrap=False, score=0.730391646872296, total=   1.0s\n",
      "[CV] n_estimators=200, min_samples_split=15, min_samples_leaf=2, max_features=auto, max_depth=20, bootstrap=False \n",
      "[CV]  n_estimators=200, min_samples_split=15, min_samples_leaf=2, max_features=auto, max_depth=20, bootstrap=False, score=0.5911246796908778, total=   0.9s\n",
      "[CV] n_estimators=1133, min_samples_split=10, min_samples_leaf=1, max_features=sqrt, max_depth=50, bootstrap=False \n",
      "[CV]  n_estimators=1133, min_samples_split=10, min_samples_leaf=1, max_features=sqrt, max_depth=50, bootstrap=False, score=0.6153594182921247, total=   5.7s\n",
      "[CV] n_estimators=1133, min_samples_split=10, min_samples_leaf=1, max_features=sqrt, max_depth=50, bootstrap=False \n",
      "[CV]  n_estimators=3000, min_samples_split=10, min_samples_leaf=4, max_features=auto, max_depth=70, bootstrap=False, score=0.6116261549252082, total=  14.1s\n",
      "[CV] n_estimators=1133, min_samples_split=10, min_samples_leaf=1, max_features=sqrt, max_depth=50, bootstrap=False \n",
      "[CV]  n_estimators=3000, min_samples_split=10, min_samples_leaf=4, max_features=auto, max_depth=70, bootstrap=False, score=0.7501009536933926, total=  14.2s\n",
      "[CV] n_estimators=2688, min_samples_split=15, min_samples_leaf=8, max_features=auto, max_depth=50, bootstrap=True \n",
      "[CV]  n_estimators=3000, min_samples_split=10, min_samples_leaf=4, max_features=auto, max_depth=70, bootstrap=False, score=0.6292985723666537, total=  14.0s\n",
      "[CV] n_estimators=2688, min_samples_split=15, min_samples_leaf=8, max_features=auto, max_depth=50, bootstrap=True \n",
      "[CV]  n_estimators=1133, min_samples_split=10, min_samples_leaf=1, max_features=sqrt, max_depth=50, bootstrap=False, score=0.7531110729331677, total=   5.8s\n",
      "[CV] n_estimators=2688, min_samples_split=15, min_samples_leaf=8, max_features=auto, max_depth=50, bootstrap=True \n",
      "[CV]  n_estimators=1133, min_samples_split=10, min_samples_leaf=1, max_features=sqrt, max_depth=50, bootstrap=False, score=0.6320911321979917, total=   5.7s\n",
      "[CV] n_estimators=1133, min_samples_split=15, min_samples_leaf=4, max_features=sqrt, max_depth=100, bootstrap=True \n"
     ]
    },
    {
     "name": "stderr",
     "output_type": "stream",
     "text": [
      "/home/rmorse/anaconda3/lib/python3.6/site-packages/sklearn/metrics/classification.py:1135: UndefinedMetricWarning: F-score is ill-defined and being set to 0.0 in labels with no predicted samples.\n",
      "  'precision', 'predicted', average, warn_for)\n"
     ]
    },
    {
     "name": "stdout",
     "output_type": "stream",
     "text": [
      "[CV]  n_estimators=2688, min_samples_split=15, min_samples_leaf=8, max_features=auto, max_depth=50, bootstrap=True, score=0.5235030913949243, total=   8.4s\n",
      "[CV] n_estimators=1133, min_samples_split=15, min_samples_leaf=4, max_features=sqrt, max_depth=100, bootstrap=True \n"
     ]
    },
    {
     "name": "stderr",
     "output_type": "stream",
     "text": [
      "/home/rmorse/anaconda3/lib/python3.6/site-packages/sklearn/metrics/classification.py:1135: UndefinedMetricWarning: F-score is ill-defined and being set to 0.0 in labels with no predicted samples.\n",
      "  'precision', 'predicted', average, warn_for)\n"
     ]
    },
    {
     "name": "stdout",
     "output_type": "stream",
     "text": [
      "[CV]  n_estimators=1133, min_samples_split=15, min_samples_leaf=4, max_features=sqrt, max_depth=100, bootstrap=True, score=0.5651425020610992, total=   3.9s\n",
      "[CV] n_estimators=1133, min_samples_split=15, min_samples_leaf=4, max_features=sqrt, max_depth=100, bootstrap=True \n",
      "[CV]  n_estimators=2688, min_samples_split=15, min_samples_leaf=8, max_features=auto, max_depth=50, bootstrap=True, score=0.698493039426267, total=   8.4s\n",
      "[CV] n_estimators=2377, min_samples_split=15, min_samples_leaf=4, max_features=auto, max_depth=20, bootstrap=True \n"
     ]
    },
    {
     "name": "stderr",
     "output_type": "stream",
     "text": [
      "/home/rmorse/anaconda3/lib/python3.6/site-packages/sklearn/metrics/classification.py:1135: UndefinedMetricWarning: F-score is ill-defined and being set to 0.0 in labels with no predicted samples.\n",
      "  'precision', 'predicted', average, warn_for)\n"
     ]
    },
    {
     "name": "stdout",
     "output_type": "stream",
     "text": [
      "[CV]  n_estimators=2688, min_samples_split=15, min_samples_leaf=8, max_features=auto, max_depth=50, bootstrap=True, score=0.5136990274058911, total=   8.4s\n",
      "[CV] n_estimators=2377, min_samples_split=15, min_samples_leaf=4, max_features=auto, max_depth=20, bootstrap=True \n",
      "[CV]  n_estimators=1133, min_samples_split=15, min_samples_leaf=4, max_features=sqrt, max_depth=100, bootstrap=True, score=0.7107056672556741, total=   3.7s\n",
      "[CV] n_estimators=2377, min_samples_split=15, min_samples_leaf=4, max_features=auto, max_depth=20, bootstrap=True \n"
     ]
    },
    {
     "name": "stderr",
     "output_type": "stream",
     "text": [
      "/home/rmorse/anaconda3/lib/python3.6/site-packages/sklearn/metrics/classification.py:1135: UndefinedMetricWarning: F-score is ill-defined and being set to 0.0 in labels with no predicted samples.\n",
      "  'precision', 'predicted', average, warn_for)\n"
     ]
    },
    {
     "name": "stdout",
     "output_type": "stream",
     "text": [
      "[CV]  n_estimators=1133, min_samples_split=15, min_samples_leaf=4, max_features=sqrt, max_depth=100, bootstrap=True, score=0.5375203859840886, total=   3.8s\n",
      "[CV] n_estimators=1133, min_samples_split=10, min_samples_leaf=8, max_features=sqrt, max_depth=30, bootstrap=False \n"
     ]
    },
    {
     "name": "stderr",
     "output_type": "stream",
     "text": [
      "/home/rmorse/anaconda3/lib/python3.6/site-packages/sklearn/metrics/classification.py:1135: UndefinedMetricWarning: F-score is ill-defined and being set to 0.0 in labels with no predicted samples.\n",
      "  'precision', 'predicted', average, warn_for)\n"
     ]
    },
    {
     "name": "stdout",
     "output_type": "stream",
     "text": [
      "[CV]  n_estimators=1133, min_samples_split=10, min_samples_leaf=8, max_features=sqrt, max_depth=30, bootstrap=False, score=0.5834655017295849, total=   4.8s\n",
      "[CV] n_estimators=1133, min_samples_split=10, min_samples_leaf=8, max_features=sqrt, max_depth=30, bootstrap=False \n",
      "[CV]  n_estimators=2377, min_samples_split=15, min_samples_leaf=4, max_features=auto, max_depth=20, bootstrap=True, score=0.5709087324109189, total=   7.9s\n",
      "[CV] n_estimators=1133, min_samples_split=10, min_samples_leaf=8, max_features=sqrt, max_depth=30, bootstrap=False \n"
     ]
    },
    {
     "name": "stderr",
     "output_type": "stream",
     "text": [
      "/home/rmorse/anaconda3/lib/python3.6/site-packages/sklearn/metrics/classification.py:1135: UndefinedMetricWarning: F-score is ill-defined and being set to 0.0 in labels with no predicted samples.\n",
      "  'precision', 'predicted', average, warn_for)\n"
     ]
    },
    {
     "name": "stdout",
     "output_type": "stream",
     "text": [
      "[CV]  n_estimators=2377, min_samples_split=15, min_samples_leaf=4, max_features=auto, max_depth=20, bootstrap=True, score=0.7204030664383627, total=   7.8s\n",
      "[CV] n_estimators=1133, min_samples_split=10, min_samples_leaf=2, max_features=sqrt, max_depth=20, bootstrap=True \n",
      "[CV]  n_estimators=2377, min_samples_split=15, min_samples_leaf=4, max_features=auto, max_depth=20, bootstrap=True, score=0.548068438058488, total=   7.9s\n",
      "[CV] n_estimators=1133, min_samples_split=10, min_samples_leaf=2, max_features=sqrt, max_depth=20, bootstrap=True \n"
     ]
    },
    {
     "name": "stderr",
     "output_type": "stream",
     "text": [
      "/home/rmorse/anaconda3/lib/python3.6/site-packages/sklearn/metrics/classification.py:1135: UndefinedMetricWarning: F-score is ill-defined and being set to 0.0 in labels with no predicted samples.\n",
      "  'precision', 'predicted', average, warn_for)\n"
     ]
    },
    {
     "name": "stdout",
     "output_type": "stream",
     "text": [
      "[CV]  n_estimators=1133, min_samples_split=10, min_samples_leaf=8, max_features=sqrt, max_depth=30, bootstrap=False, score=0.7164469502150083, total=   4.8s\n",
      "[CV] n_estimators=1133, min_samples_split=10, min_samples_leaf=2, max_features=sqrt, max_depth=20, bootstrap=True \n",
      "[CV]  n_estimators=1133, min_samples_split=10, min_samples_leaf=8, max_features=sqrt, max_depth=30, bootstrap=False, score=0.5594514901148482, total=   4.7s\n",
      "[CV] n_estimators=1133, min_samples_split=15, min_samples_leaf=2, max_features=sqrt, max_depth=50, bootstrap=False \n",
      "[CV]  n_estimators=1133, min_samples_split=10, min_samples_leaf=2, max_features=sqrt, max_depth=20, bootstrap=True, score=0.5891955122933141, total=   4.0s\n",
      "[CV] n_estimators=1133, min_samples_split=15, min_samples_leaf=2, max_features=sqrt, max_depth=50, bootstrap=False \n",
      "[CV]  n_estimators=1133, min_samples_split=10, min_samples_leaf=2, max_features=sqrt, max_depth=20, bootstrap=True, score=0.7354705527183618, total=   4.0s\n",
      "[CV] n_estimators=1133, min_samples_split=15, min_samples_leaf=2, max_features=sqrt, max_depth=50, bootstrap=False \n"
     ]
    },
    {
     "name": "stderr",
     "output_type": "stream",
     "text": [
      "/home/rmorse/anaconda3/lib/python3.6/site-packages/sklearn/metrics/classification.py:1135: UndefinedMetricWarning: F-score is ill-defined and being set to 0.0 in labels with no predicted samples.\n",
      "  'precision', 'predicted', average, warn_for)\n"
     ]
    },
    {
     "name": "stdout",
     "output_type": "stream",
     "text": [
      "[CV]  n_estimators=1133, min_samples_split=10, min_samples_leaf=2, max_features=sqrt, max_depth=20, bootstrap=True, score=0.6014966383555289, total=   4.0s\n",
      "[CV] n_estimators=2688, min_samples_split=5, min_samples_leaf=4, max_features=sqrt, max_depth=70, bootstrap=False \n",
      "[CV]  n_estimators=1133, min_samples_split=15, min_samples_leaf=2, max_features=sqrt, max_depth=50, bootstrap=False, score=0.5997170286068825, total=   5.4s\n",
      "[CV] n_estimators=2688, min_samples_split=5, min_samples_leaf=4, max_features=sqrt, max_depth=70, bootstrap=False \n",
      "[CV]  n_estimators=1133, min_samples_split=15, min_samples_leaf=2, max_features=sqrt, max_depth=50, bootstrap=False, score=0.7272895920518834, total=   5.4s\n",
      "[CV] n_estimators=2688, min_samples_split=5, min_samples_leaf=4, max_features=sqrt, max_depth=70, bootstrap=False \n",
      "[CV]  n_estimators=1133, min_samples_split=15, min_samples_leaf=2, max_features=sqrt, max_depth=50, bootstrap=False, score=0.6273053536420874, total=   5.4s\n",
      "[CV] n_estimators=1444, min_samples_split=5, min_samples_leaf=2, max_features=sqrt, max_depth=80, bootstrap=False \n",
      "[CV]  n_estimators=1444, min_samples_split=5, min_samples_leaf=2, max_features=sqrt, max_depth=80, bootstrap=False, score=0.6092897660236328, total=   7.5s\n",
      "[CV] n_estimators=1444, min_samples_split=5, min_samples_leaf=2, max_features=sqrt, max_depth=80, bootstrap=False \n",
      "[CV]  n_estimators=2688, min_samples_split=5, min_samples_leaf=4, max_features=sqrt, max_depth=70, bootstrap=False, score=0.6186625968097418, total=  12.9s\n",
      "[CV] n_estimators=1444, min_samples_split=5, min_samples_leaf=2, max_features=sqrt, max_depth=80, bootstrap=False \n",
      "[CV]  n_estimators=2688, min_samples_split=5, min_samples_leaf=4, max_features=sqrt, max_depth=70, bootstrap=False, score=0.7520323109253013, total=  12.8s\n",
      "[CV] n_estimators=822, min_samples_split=10, min_samples_leaf=2, max_features=auto, max_depth=90, bootstrap=True \n",
      "[CV]  n_estimators=2688, min_samples_split=5, min_samples_leaf=4, max_features=sqrt, max_depth=70, bootstrap=False, score=0.6212953267362797, total=  12.8s\n",
      "[CV] n_estimators=822, min_samples_split=10, min_samples_leaf=2, max_features=auto, max_depth=90, bootstrap=True \n",
      "[CV]  n_estimators=822, min_samples_split=10, min_samples_leaf=2, max_features=auto, max_depth=90, bootstrap=True, score=0.6022805413979555, total=   2.9s\n",
      "[CV] n_estimators=822, min_samples_split=10, min_samples_leaf=2, max_features=auto, max_depth=90, bootstrap=True \n",
      "[CV]  n_estimators=1444, min_samples_split=5, min_samples_leaf=2, max_features=sqrt, max_depth=80, bootstrap=False, score=0.7584958734135205, total=   7.6s\n",
      "[CV] n_estimators=511, min_samples_split=2, min_samples_leaf=1, max_features=sqrt, max_depth=100, bootstrap=False \n",
      "[CV]  n_estimators=822, min_samples_split=10, min_samples_leaf=2, max_features=auto, max_depth=90, bootstrap=True, score=0.7427636543410333, total=   3.0s\n",
      "[CV] n_estimators=511, min_samples_split=2, min_samples_leaf=1, max_features=sqrt, max_depth=100, bootstrap=False \n"
     ]
    },
    {
     "name": "stderr",
     "output_type": "stream",
     "text": [
      "/home/rmorse/anaconda3/lib/python3.6/site-packages/sklearn/metrics/classification.py:1135: UndefinedMetricWarning: F-score is ill-defined and being set to 0.0 in labels with no predicted samples.\n",
      "  'precision', 'predicted', average, warn_for)\n"
     ]
    },
    {
     "name": "stdout",
     "output_type": "stream",
     "text": [
      "[CV]  n_estimators=1444, min_samples_split=5, min_samples_leaf=2, max_features=sqrt, max_depth=80, bootstrap=False, score=0.6469606649479241, total=   7.4s\n",
      "[CV] n_estimators=511, min_samples_split=2, min_samples_leaf=1, max_features=sqrt, max_depth=100, bootstrap=False \n",
      "[CV]  n_estimators=822, min_samples_split=10, min_samples_leaf=2, max_features=auto, max_depth=90, bootstrap=True, score=0.6068229513244892, total=   2.9s\n",
      "[CV] n_estimators=822, min_samples_split=2, min_samples_leaf=1, max_features=sqrt, max_depth=110, bootstrap=True \n",
      "[CV]  n_estimators=511, min_samples_split=2, min_samples_leaf=1, max_features=sqrt, max_depth=100, bootstrap=False, score=0.6185925570432618, total=   2.9s\n",
      "[CV] n_estimators=822, min_samples_split=2, min_samples_leaf=1, max_features=sqrt, max_depth=110, bootstrap=True \n",
      "[CV]  n_estimators=511, min_samples_split=2, min_samples_leaf=1, max_features=sqrt, max_depth=100, bootstrap=False, score=0.7670303892555045, total=   2.9s\n",
      "[CV] n_estimators=822, min_samples_split=2, min_samples_leaf=1, max_features=sqrt, max_depth=110, bootstrap=True \n",
      "[CV]  n_estimators=511, min_samples_split=2, min_samples_leaf=1, max_features=sqrt, max_depth=100, bootstrap=False, score=0.6480927923046614, total=   2.8s\n",
      "[CV] n_estimators=3000, min_samples_split=5, min_samples_leaf=1, max_features=auto, max_depth=110, bootstrap=False \n",
      "[CV]  n_estimators=822, min_samples_split=2, min_samples_leaf=1, max_features=sqrt, max_depth=110, bootstrap=True, score=0.6301556870166868, total=   3.3s\n",
      "[CV] n_estimators=3000, min_samples_split=5, min_samples_leaf=1, max_features=auto, max_depth=110, bootstrap=False \n",
      "[CV]  n_estimators=822, min_samples_split=2, min_samples_leaf=1, max_features=sqrt, max_depth=110, bootstrap=True, score=0.7709886726871822, total=   3.3s\n",
      "[CV] n_estimators=3000, min_samples_split=5, min_samples_leaf=1, max_features=auto, max_depth=110, bootstrap=False \n",
      "[CV]  n_estimators=822, min_samples_split=2, min_samples_leaf=1, max_features=sqrt, max_depth=110, bootstrap=True, score=0.6518064492303718, total=   3.3s\n",
      "[CV] n_estimators=2688, min_samples_split=5, min_samples_leaf=4, max_features=sqrt, max_depth=50, bootstrap=False \n",
      "[CV]  n_estimators=2688, min_samples_split=5, min_samples_leaf=4, max_features=sqrt, max_depth=50, bootstrap=False, score=0.6208911708046079, total=  12.9s\n",
      "[CV] n_estimators=2688, min_samples_split=5, min_samples_leaf=4, max_features=sqrt, max_depth=50, bootstrap=False \n",
      "[CV]  n_estimators=3000, min_samples_split=5, min_samples_leaf=1, max_features=auto, max_depth=110, bootstrap=False, score=0.6304801179320085, total=  16.3s\n",
      "[CV] n_estimators=2688, min_samples_split=5, min_samples_leaf=4, max_features=sqrt, max_depth=50, bootstrap=False \n",
      "[CV]  n_estimators=3000, min_samples_split=5, min_samples_leaf=1, max_features=auto, max_depth=110, bootstrap=False, score=0.7700467870698742, total=  16.1s\n",
      "[CV] n_estimators=822, min_samples_split=15, min_samples_leaf=1, max_features=sqrt, max_depth=70, bootstrap=True \n",
      "[CV]  n_estimators=3000, min_samples_split=5, min_samples_leaf=1, max_features=auto, max_depth=110, bootstrap=False, score=0.6449524987452656, total=  15.9s\n",
      "[CV] n_estimators=822, min_samples_split=15, min_samples_leaf=1, max_features=sqrt, max_depth=70, bootstrap=True \n",
      "[CV]  n_estimators=822, min_samples_split=15, min_samples_leaf=1, max_features=sqrt, max_depth=70, bootstrap=True, score=0.5911510306483274, total=   3.0s\n",
      "[CV] n_estimators=822, min_samples_split=15, min_samples_leaf=1, max_features=sqrt, max_depth=70, bootstrap=True \n",
      "[CV]  n_estimators=822, min_samples_split=15, min_samples_leaf=1, max_features=sqrt, max_depth=70, bootstrap=True, score=0.7438190063979537, total=   2.9s\n",
      "[CV] n_estimators=2688, min_samples_split=2, min_samples_leaf=4, max_features=auto, max_depth=30, bootstrap=False \n"
     ]
    },
    {
     "name": "stderr",
     "output_type": "stream",
     "text": [
      "/home/rmorse/anaconda3/lib/python3.6/site-packages/sklearn/metrics/classification.py:1135: UndefinedMetricWarning: F-score is ill-defined and being set to 0.0 in labels with no predicted samples.\n",
      "  'precision', 'predicted', average, warn_for)\n"
     ]
    },
    {
     "name": "stdout",
     "output_type": "stream",
     "text": [
      "[CV]  n_estimators=822, min_samples_split=15, min_samples_leaf=1, max_features=sqrt, max_depth=70, bootstrap=True, score=0.5717201677125892, total=   2.9s\n",
      "[CV] n_estimators=2688, min_samples_split=2, min_samples_leaf=4, max_features=auto, max_depth=30, bootstrap=False \n",
      "[CV]  n_estimators=2688, min_samples_split=5, min_samples_leaf=4, max_features=sqrt, max_depth=50, bootstrap=False, score=0.7493355171048726, total=  12.9s\n",
      "[CV] n_estimators=2688, min_samples_split=2, min_samples_leaf=4, max_features=auto, max_depth=30, bootstrap=False \n",
      "[CV]  n_estimators=2688, min_samples_split=5, min_samples_leaf=4, max_features=sqrt, max_depth=50, bootstrap=False, score=0.6470356688493947, total=  13.0s\n",
      "[CV] n_estimators=2377, min_samples_split=5, min_samples_leaf=4, max_features=sqrt, max_depth=50, bootstrap=False \n",
      "[CV]  n_estimators=2688, min_samples_split=2, min_samples_leaf=4, max_features=auto, max_depth=30, bootstrap=False, score=0.6165616456750829, total=  12.9s\n",
      "[CV] n_estimators=2377, min_samples_split=5, min_samples_leaf=4, max_features=sqrt, max_depth=50, bootstrap=False \n",
      "[CV]  n_estimators=2688, min_samples_split=2, min_samples_leaf=4, max_features=auto, max_depth=30, bootstrap=False, score=0.7520944388698432, total=  12.8s\n",
      "[CV] n_estimators=2377, min_samples_split=5, min_samples_leaf=4, max_features=sqrt, max_depth=50, bootstrap=False \n",
      "[CV]  n_estimators=2377, min_samples_split=5, min_samples_leaf=4, max_features=sqrt, max_depth=50, bootstrap=False, score=0.6175379297955415, total=  11.6s\n",
      "[CV] n_estimators=822, min_samples_split=10, min_samples_leaf=2, max_features=sqrt, max_depth=100, bootstrap=True \n",
      "[CV]  n_estimators=2688, min_samples_split=2, min_samples_leaf=4, max_features=auto, max_depth=30, bootstrap=False, score=0.6321772353086622, total=  12.9s\n",
      "[CV] n_estimators=822, min_samples_split=10, min_samples_leaf=2, max_features=sqrt, max_depth=100, bootstrap=True \n",
      "[CV]  n_estimators=822, min_samples_split=10, min_samples_leaf=2, max_features=sqrt, max_depth=100, bootstrap=True, score=0.6006295975648485, total=   3.0s\n",
      "[CV] n_estimators=822, min_samples_split=10, min_samples_leaf=2, max_features=sqrt, max_depth=100, bootstrap=True \n",
      "[CV]  n_estimators=822, min_samples_split=10, min_samples_leaf=2, max_features=sqrt, max_depth=100, bootstrap=True, score=0.7490702903884154, total=   2.9s\n",
      "[CV] n_estimators=2066, min_samples_split=15, min_samples_leaf=8, max_features=sqrt, max_depth=110, bootstrap=False \n",
      "[CV]  n_estimators=2377, min_samples_split=5, min_samples_leaf=4, max_features=sqrt, max_depth=50, bootstrap=False, score=0.7498886153219507, total=  11.5s\n",
      "[CV] n_estimators=2066, min_samples_split=15, min_samples_leaf=8, max_features=sqrt, max_depth=110, bootstrap=False \n",
      "[CV]  n_estimators=2377, min_samples_split=5, min_samples_leaf=4, max_features=sqrt, max_depth=50, bootstrap=False, score=0.6312064145587627, total=  11.4s\n",
      "[CV] n_estimators=2066, min_samples_split=15, min_samples_leaf=8, max_features=sqrt, max_depth=110, bootstrap=False \n"
     ]
    },
    {
     "name": "stderr",
     "output_type": "stream",
     "text": [
      "/home/rmorse/anaconda3/lib/python3.6/site-packages/sklearn/metrics/classification.py:1135: UndefinedMetricWarning: F-score is ill-defined and being set to 0.0 in labels with no predicted samples.\n",
      "  'precision', 'predicted', average, warn_for)\n"
     ]
    },
    {
     "name": "stdout",
     "output_type": "stream",
     "text": [
      "[CV]  n_estimators=822, min_samples_split=10, min_samples_leaf=2, max_features=sqrt, max_depth=100, bootstrap=True, score=0.5920335266955669, total=   3.0s\n",
      "[CV] n_estimators=200, min_samples_split=10, min_samples_leaf=4, max_features=sqrt, max_depth=10, bootstrap=False \n",
      "[CV]  n_estimators=200, min_samples_split=10, min_samples_leaf=4, max_features=sqrt, max_depth=10, bootstrap=False, score=0.602660295705625, total=   0.9s\n",
      "[CV] n_estimators=200, min_samples_split=10, min_samples_leaf=4, max_features=sqrt, max_depth=10, bootstrap=False \n",
      "[CV]  n_estimators=200, min_samples_split=10, min_samples_leaf=4, max_features=sqrt, max_depth=10, bootstrap=False, score=0.75446972429968, total=   0.9s\n",
      "[CV] n_estimators=200, min_samples_split=10, min_samples_leaf=4, max_features=sqrt, max_depth=10, bootstrap=False \n",
      "[CV]  n_estimators=200, min_samples_split=10, min_samples_leaf=4, max_features=sqrt, max_depth=10, bootstrap=False, score=0.6452813664870888, total=   0.9s\n",
      "[CV] n_estimators=1133, min_samples_split=10, min_samples_leaf=4, max_features=auto, max_depth=80, bootstrap=False \n",
      "[CV]  n_estimators=2066, min_samples_split=15, min_samples_leaf=8, max_features=sqrt, max_depth=110, bootstrap=False, score=0.58153654291877, total=   8.8s\n",
      "[CV] n_estimators=1133, min_samples_split=10, min_samples_leaf=4, max_features=auto, max_depth=80, bootstrap=False \n",
      "[CV]  n_estimators=2066, min_samples_split=15, min_samples_leaf=8, max_features=sqrt, max_depth=110, bootstrap=False, score=0.7156776188733417, total=   8.7s\n",
      "[CV] n_estimators=1133, min_samples_split=10, min_samples_leaf=4, max_features=auto, max_depth=80, bootstrap=False \n"
     ]
    },
    {
     "name": "stderr",
     "output_type": "stream",
     "text": [
      "/home/rmorse/anaconda3/lib/python3.6/site-packages/sklearn/metrics/classification.py:1135: UndefinedMetricWarning: F-score is ill-defined and being set to 0.0 in labels with no predicted samples.\n",
      "  'precision', 'predicted', average, warn_for)\n"
     ]
    },
    {
     "name": "stdout",
     "output_type": "stream",
     "text": [
      "[CV]  n_estimators=1133, min_samples_split=10, min_samples_leaf=4, max_features=auto, max_depth=80, bootstrap=False, score=0.603273219277078, total=   5.3s\n",
      "[CV] n_estimators=200, min_samples_split=2, min_samples_leaf=2, max_features=sqrt, max_depth=80, bootstrap=False \n",
      "[CV]  n_estimators=2066, min_samples_split=15, min_samples_leaf=8, max_features=sqrt, max_depth=110, bootstrap=False, score=0.565010954634115, total=   8.7s\n",
      "[CV] n_estimators=200, min_samples_split=2, min_samples_leaf=2, max_features=sqrt, max_depth=80, bootstrap=False \n",
      "[CV]  n_estimators=200, min_samples_split=2, min_samples_leaf=2, max_features=sqrt, max_depth=80, bootstrap=False, score=0.6053352699196118, total=   1.1s\n",
      "[CV] n_estimators=200, min_samples_split=2, min_samples_leaf=2, max_features=sqrt, max_depth=80, bootstrap=False \n",
      "[CV]  n_estimators=200, min_samples_split=2, min_samples_leaf=2, max_features=sqrt, max_depth=80, bootstrap=False, score=0.7498415802291963, total=   1.0s\n",
      "[CV] n_estimators=1444, min_samples_split=15, min_samples_leaf=4, max_features=sqrt, max_depth=50, bootstrap=False \n",
      "[CV]  n_estimators=200, min_samples_split=2, min_samples_leaf=2, max_features=sqrt, max_depth=80, bootstrap=False, score=0.6604036687182522, total=   1.0s\n",
      "[CV] n_estimators=1444, min_samples_split=15, min_samples_leaf=4, max_features=sqrt, max_depth=50, bootstrap=False \n",
      "[CV]  n_estimators=1133, min_samples_split=10, min_samples_leaf=4, max_features=auto, max_depth=80, bootstrap=False, score=0.740138060187828, total=   5.3s\n",
      "[CV] n_estimators=1444, min_samples_split=15, min_samples_leaf=4, max_features=sqrt, max_depth=50, bootstrap=False \n",
      "[CV]  n_estimators=1133, min_samples_split=10, min_samples_leaf=4, max_features=auto, max_depth=80, bootstrap=False, score=0.6316661815499022, total=   5.4s\n",
      "[CV] n_estimators=2377, min_samples_split=5, min_samples_leaf=4, max_features=auto, max_depth=20, bootstrap=False \n",
      "[CV]  n_estimators=1444, min_samples_split=15, min_samples_leaf=4, max_features=sqrt, max_depth=50, bootstrap=False, score=0.5999178105926837, total=   6.6s\n",
      "[CV] n_estimators=2377, min_samples_split=5, min_samples_leaf=4, max_features=auto, max_depth=20, bootstrap=False \n",
      "[CV]  n_estimators=1444, min_samples_split=15, min_samples_leaf=4, max_features=sqrt, max_depth=50, bootstrap=False, score=0.7373314275485461, total=   6.6s\n",
      "[CV] n_estimators=2377, min_samples_split=5, min_samples_leaf=4, max_features=auto, max_depth=20, bootstrap=False \n",
      "[CV]  n_estimators=1444, min_samples_split=15, min_samples_leaf=4, max_features=sqrt, max_depth=50, bootstrap=False, score=0.5845483557201583, total=   6.5s\n",
      "[CV] n_estimators=1444, min_samples_split=15, min_samples_leaf=1, max_features=auto, max_depth=70, bootstrap=False \n",
      "[CV]  n_estimators=2377, min_samples_split=5, min_samples_leaf=4, max_features=auto, max_depth=20, bootstrap=False, score=0.5962266282722404, total=  11.4s\n",
      "[CV] n_estimators=1444, min_samples_split=15, min_samples_leaf=1, max_features=auto, max_depth=70, bootstrap=False \n",
      "[CV]  n_estimators=1444, min_samples_split=15, min_samples_leaf=1, max_features=auto, max_depth=70, bootstrap=False, score=0.6207137532261565, total=   7.1s\n",
      "[CV] n_estimators=1444, min_samples_split=15, min_samples_leaf=1, max_features=auto, max_depth=70, bootstrap=False \n",
      "[CV]  n_estimators=2377, min_samples_split=5, min_samples_leaf=4, max_features=auto, max_depth=20, bootstrap=False, score=0.7517868833582633, total=  11.4s\n",
      "[CV] n_estimators=2066, min_samples_split=10, min_samples_leaf=4, max_features=auto, max_depth=10, bootstrap=False \n",
      "[CV]  n_estimators=2377, min_samples_split=5, min_samples_leaf=4, max_features=auto, max_depth=20, bootstrap=False, score=0.6209664706407793, total=  11.2s\n",
      "[CV] n_estimators=2066, min_samples_split=10, min_samples_leaf=4, max_features=auto, max_depth=10, bootstrap=False \n",
      "[CV]  n_estimators=1444, min_samples_split=15, min_samples_leaf=1, max_features=auto, max_depth=70, bootstrap=False, score=0.7435898182349128, total=   7.1s\n",
      "[CV] n_estimators=2066, min_samples_split=10, min_samples_leaf=4, max_features=auto, max_depth=10, bootstrap=False \n",
      "[CV]  n_estimators=1444, min_samples_split=15, min_samples_leaf=1, max_features=auto, max_depth=70, bootstrap=False, score=0.6144994100266232, total=   7.0s\n",
      "[CV] n_estimators=822, min_samples_split=5, min_samples_leaf=8, max_features=auto, max_depth=50, bootstrap=True \n"
     ]
    },
    {
     "name": "stderr",
     "output_type": "stream",
     "text": [
      "/home/rmorse/anaconda3/lib/python3.6/site-packages/sklearn/metrics/classification.py:1135: UndefinedMetricWarning: F-score is ill-defined and being set to 0.0 in labels with no predicted samples.\n",
      "  'precision', 'predicted', average, warn_for)\n"
     ]
    },
    {
     "name": "stdout",
     "output_type": "stream",
     "text": [
      "[CV]  n_estimators=822, min_samples_split=5, min_samples_leaf=8, max_features=auto, max_depth=50, bootstrap=True, score=0.5358491015038426, total=   2.5s\n",
      "[CV] n_estimators=822, min_samples_split=5, min_samples_leaf=8, max_features=auto, max_depth=50, bootstrap=True \n",
      "[CV]  n_estimators=822, min_samples_split=5, min_samples_leaf=8, max_features=auto, max_depth=50, bootstrap=True, score=0.6827098453193975, total=   2.6s\n",
      "[CV] n_estimators=822, min_samples_split=5, min_samples_leaf=8, max_features=auto, max_depth=50, bootstrap=True \n",
      "[CV]  n_estimators=2066, min_samples_split=10, min_samples_leaf=4, max_features=auto, max_depth=10, bootstrap=False, score=0.6100148825842935, total=   9.5s\n",
      "[CV] n_estimators=3000, min_samples_split=5, min_samples_leaf=4, max_features=auto, max_depth=110, bootstrap=True \n",
      "[CV]  n_estimators=2066, min_samples_split=10, min_samples_leaf=4, max_features=auto, max_depth=10, bootstrap=False, score=0.7339290318474383, total=   9.5s\n",
      "[CV] n_estimators=3000, min_samples_split=5, min_samples_leaf=4, max_features=auto, max_depth=110, bootstrap=True \n"
     ]
    },
    {
     "name": "stderr",
     "output_type": "stream",
     "text": [
      "/home/rmorse/anaconda3/lib/python3.6/site-packages/sklearn/metrics/classification.py:1135: UndefinedMetricWarning: F-score is ill-defined and being set to 0.0 in labels with no predicted samples.\n",
      "  'precision', 'predicted', average, warn_for)\n"
     ]
    },
    {
     "name": "stdout",
     "output_type": "stream",
     "text": [
      "[CV]  n_estimators=822, min_samples_split=5, min_samples_leaf=8, max_features=auto, max_depth=50, bootstrap=True, score=0.48466659684495655, total=   2.5s\n",
      "[CV] n_estimators=3000, min_samples_split=5, min_samples_leaf=4, max_features=auto, max_depth=110, bootstrap=True \n",
      "[CV]  n_estimators=2066, min_samples_split=10, min_samples_leaf=4, max_features=auto, max_depth=10, bootstrap=False, score=0.6037068341230476, total=   9.6s\n",
      "[CV] n_estimators=1755, min_samples_split=2, min_samples_leaf=1, max_features=auto, max_depth=100, bootstrap=True \n",
      "[CV]  n_estimators=1755, min_samples_split=2, min_samples_leaf=1, max_features=auto, max_depth=100, bootstrap=True, score=0.6380225405166025, total=   6.9s\n",
      "[CV] n_estimators=1755, min_samples_split=2, min_samples_leaf=1, max_features=auto, max_depth=100, bootstrap=True \n",
      "[CV]  n_estimators=3000, min_samples_split=5, min_samples_leaf=4, max_features=auto, max_depth=110, bootstrap=True, score=0.6039336545522264, total=  10.2s\n",
      "[CV] n_estimators=1755, min_samples_split=2, min_samples_leaf=1, max_features=auto, max_depth=100, bootstrap=True \n",
      "[CV]  n_estimators=3000, min_samples_split=5, min_samples_leaf=4, max_features=auto, max_depth=110, bootstrap=True, score=0.7479038649631099, total=  10.4s\n",
      "[CV] n_estimators=1444, min_samples_split=15, min_samples_leaf=4, max_features=auto, max_depth=40, bootstrap=True \n"
     ]
    },
    {
     "name": "stderr",
     "output_type": "stream",
     "text": [
      "/home/rmorse/anaconda3/lib/python3.6/site-packages/sklearn/metrics/classification.py:1135: UndefinedMetricWarning: F-score is ill-defined and being set to 0.0 in labels with no predicted samples.\n",
      "  'precision', 'predicted', average, warn_for)\n"
     ]
    },
    {
     "name": "stdout",
     "output_type": "stream",
     "text": [
      "[CV]  n_estimators=3000, min_samples_split=5, min_samples_leaf=4, max_features=auto, max_depth=110, bootstrap=True, score=0.5732304193632501, total=  10.3s\n",
      "[CV] n_estimators=1444, min_samples_split=15, min_samples_leaf=4, max_features=auto, max_depth=40, bootstrap=True \n"
     ]
    },
    {
     "name": "stderr",
     "output_type": "stream",
     "text": [
      "/home/rmorse/anaconda3/lib/python3.6/site-packages/sklearn/metrics/classification.py:1135: UndefinedMetricWarning: F-score is ill-defined and being set to 0.0 in labels with no predicted samples.\n",
      "  'precision', 'predicted', average, warn_for)\n"
     ]
    },
    {
     "name": "stdout",
     "output_type": "stream",
     "text": [
      "[CV]  n_estimators=1444, min_samples_split=15, min_samples_leaf=4, max_features=auto, max_depth=40, bootstrap=True, score=0.5772875140197334, total=   4.8s\n",
      "[CV] n_estimators=1444, min_samples_split=15, min_samples_leaf=4, max_features=auto, max_depth=40, bootstrap=True \n",
      "[CV]  n_estimators=1755, min_samples_split=2, min_samples_leaf=1, max_features=auto, max_depth=100, bootstrap=True, score=0.7755848474202165, total=   7.2s\n",
      "[CV] n_estimators=2377, min_samples_split=10, min_samples_leaf=4, max_features=auto, max_depth=110, bootstrap=False \n",
      "[CV]  n_estimators=1755, min_samples_split=2, min_samples_leaf=1, max_features=auto, max_depth=100, bootstrap=True, score=0.6449336918502396, total=   7.0s\n",
      "[CV] n_estimators=2377, min_samples_split=10, min_samples_leaf=4, max_features=auto, max_depth=110, bootstrap=False \n",
      "[CV]  n_estimators=1444, min_samples_split=15, min_samples_leaf=4, max_features=auto, max_depth=40, bootstrap=True, score=0.7053776228426439, total=   4.8s\n",
      "[CV] n_estimators=2377, min_samples_split=10, min_samples_leaf=4, max_features=auto, max_depth=110, bootstrap=False \n"
     ]
    },
    {
     "name": "stderr",
     "output_type": "stream",
     "text": [
      "/home/rmorse/anaconda3/lib/python3.6/site-packages/sklearn/metrics/classification.py:1135: UndefinedMetricWarning: F-score is ill-defined and being set to 0.0 in labels with no predicted samples.\n",
      "  'precision', 'predicted', average, warn_for)\n"
     ]
    },
    {
     "name": "stdout",
     "output_type": "stream",
     "text": [
      "[CV]  n_estimators=1444, min_samples_split=15, min_samples_leaf=4, max_features=auto, max_depth=40, bootstrap=True, score=0.5495889083887202, total=   4.8s\n",
      "[CV] n_estimators=511, min_samples_split=15, min_samples_leaf=2, max_features=sqrt, max_depth=50, bootstrap=True \n"
     ]
    },
    {
     "name": "stderr",
     "output_type": "stream",
     "text": [
      "/home/rmorse/anaconda3/lib/python3.6/site-packages/sklearn/metrics/classification.py:1135: UndefinedMetricWarning: F-score is ill-defined and being set to 0.0 in labels with no predicted samples.\n",
      "  'precision', 'predicted', average, warn_for)\n"
     ]
    },
    {
     "name": "stdout",
     "output_type": "stream",
     "text": [
      "[CV]  n_estimators=511, min_samples_split=15, min_samples_leaf=2, max_features=sqrt, max_depth=50, bootstrap=True, score=0.5837023918088964, total=   1.7s\n",
      "[CV] n_estimators=511, min_samples_split=15, min_samples_leaf=2, max_features=sqrt, max_depth=50, bootstrap=True \n",
      "[CV]  n_estimators=511, min_samples_split=15, min_samples_leaf=2, max_features=sqrt, max_depth=50, bootstrap=True, score=0.7024420348678888, total=   1.7s\n",
      "[CV] n_estimators=511, min_samples_split=15, min_samples_leaf=2, max_features=sqrt, max_depth=50, bootstrap=True \n"
     ]
    },
    {
     "name": "stderr",
     "output_type": "stream",
     "text": [
      "/home/rmorse/anaconda3/lib/python3.6/site-packages/sklearn/metrics/classification.py:1135: UndefinedMetricWarning: F-score is ill-defined and being set to 0.0 in labels with no predicted samples.\n",
      "  'precision', 'predicted', average, warn_for)\n"
     ]
    },
    {
     "name": "stdout",
     "output_type": "stream",
     "text": [
      "[CV]  n_estimators=511, min_samples_split=15, min_samples_leaf=2, max_features=sqrt, max_depth=50, bootstrap=True, score=0.5511058605951203, total=   1.7s\n",
      "[CV] n_estimators=1133, min_samples_split=10, min_samples_leaf=4, max_features=sqrt, max_depth=70, bootstrap=True \n",
      "[CV]  n_estimators=2377, min_samples_split=10, min_samples_leaf=4, max_features=auto, max_depth=110, bootstrap=False, score=0.6040771346492073, total=  11.2s\n",
      "[CV] n_estimators=1133, min_samples_split=10, min_samples_leaf=4, max_features=sqrt, max_depth=70, bootstrap=True \n",
      "[CV]  n_estimators=2377, min_samples_split=10, min_samples_leaf=4, max_features=auto, max_depth=110, bootstrap=False, score=0.7461022269370285, total=  11.0s\n",
      "[CV] n_estimators=1133, min_samples_split=10, min_samples_leaf=4, max_features=sqrt, max_depth=70, bootstrap=True \n",
      "[CV]  n_estimators=2377, min_samples_split=10, min_samples_leaf=4, max_features=auto, max_depth=110, bootstrap=False, score=0.6156741711936402, total=  11.0s\n",
      "[CV] n_estimators=2377, min_samples_split=15, min_samples_leaf=2, max_features=auto, max_depth=90, bootstrap=False \n",
      "[CV]  n_estimators=1133, min_samples_split=10, min_samples_leaf=4, max_features=sqrt, max_depth=70, bootstrap=True, score=0.5956650317617463, total=   3.9s\n",
      "[CV] n_estimators=2377, min_samples_split=15, min_samples_leaf=2, max_features=auto, max_depth=90, bootstrap=False \n",
      "[CV]  n_estimators=1133, min_samples_split=10, min_samples_leaf=4, max_features=sqrt, max_depth=70, bootstrap=True, score=0.7358262548241412, total=   3.9s\n",
      "[CV] n_estimators=2377, min_samples_split=15, min_samples_leaf=2, max_features=auto, max_depth=90, bootstrap=False \n"
     ]
    },
    {
     "name": "stderr",
     "output_type": "stream",
     "text": [
      "/home/rmorse/anaconda3/lib/python3.6/site-packages/sklearn/metrics/classification.py:1135: UndefinedMetricWarning: F-score is ill-defined and being set to 0.0 in labels with no predicted samples.\n",
      "  'precision', 'predicted', average, warn_for)\n"
     ]
    },
    {
     "name": "stdout",
     "output_type": "stream",
     "text": [
      "[CV]  n_estimators=1133, min_samples_split=10, min_samples_leaf=4, max_features=sqrt, max_depth=70, bootstrap=True, score=0.5585390902238369, total=   3.8s\n",
      "[CV] n_estimators=822, min_samples_split=2, min_samples_leaf=1, max_features=sqrt, max_depth=90, bootstrap=True \n",
      "[CV]  n_estimators=822, min_samples_split=2, min_samples_leaf=1, max_features=sqrt, max_depth=90, bootstrap=True, score=0.6258007671578257, total=   3.3s\n",
      "[CV] n_estimators=822, min_samples_split=2, min_samples_leaf=1, max_features=sqrt, max_depth=90, bootstrap=True \n",
      "[CV]  n_estimators=822, min_samples_split=2, min_samples_leaf=1, max_features=sqrt, max_depth=90, bootstrap=True, score=0.7692135038901301, total=   3.3s\n",
      "[CV] n_estimators=822, min_samples_split=2, min_samples_leaf=1, max_features=sqrt, max_depth=90, bootstrap=True \n",
      "[CV]  n_estimators=2377, min_samples_split=15, min_samples_leaf=2, max_features=auto, max_depth=90, bootstrap=False, score=0.6103154221945903, total=  11.4s\n",
      "[CV] n_estimators=1133, min_samples_split=2, min_samples_leaf=1, max_features=sqrt, max_depth=50, bootstrap=True \n",
      "[CV]  n_estimators=2377, min_samples_split=15, min_samples_leaf=2, max_features=auto, max_depth=90, bootstrap=False, score=0.7413488188237468, total=  11.4s\n",
      "[CV] n_estimators=1133, min_samples_split=2, min_samples_leaf=1, max_features=sqrt, max_depth=50, bootstrap=True \n",
      "[CV]  n_estimators=822, min_samples_split=2, min_samples_leaf=1, max_features=sqrt, max_depth=90, bootstrap=True, score=0.6442894946087959, total=   3.4s\n",
      "[CV] n_estimators=1133, min_samples_split=2, min_samples_leaf=1, max_features=sqrt, max_depth=50, bootstrap=True \n",
      "[CV]  n_estimators=2377, min_samples_split=15, min_samples_leaf=2, max_features=auto, max_depth=90, bootstrap=False, score=0.617995862007397, total=  11.4s\n",
      "[CV] n_estimators=2066, min_samples_split=2, min_samples_leaf=8, max_features=sqrt, max_depth=40, bootstrap=False \n",
      "[CV]  n_estimators=1133, min_samples_split=2, min_samples_leaf=1, max_features=sqrt, max_depth=50, bootstrap=True, score=0.6082296876679893, total=   4.7s\n",
      "[CV] n_estimators=2066, min_samples_split=2, min_samples_leaf=8, max_features=sqrt, max_depth=40, bootstrap=False \n",
      "[CV]  n_estimators=1133, min_samples_split=2, min_samples_leaf=1, max_features=sqrt, max_depth=50, bootstrap=True, score=0.7754054640445307, total=   4.6s\n",
      "[CV] n_estimators=2066, min_samples_split=2, min_samples_leaf=8, max_features=sqrt, max_depth=40, bootstrap=False \n",
      "[CV]  n_estimators=1133, min_samples_split=2, min_samples_leaf=1, max_features=sqrt, max_depth=50, bootstrap=True, score=0.6538677523704917, total=   4.6s\n",
      "[CV] n_estimators=2377, min_samples_split=2, min_samples_leaf=4, max_features=sqrt, max_depth=100, bootstrap=True \n",
      "[CV]  n_estimators=2066, min_samples_split=2, min_samples_leaf=8, max_features=sqrt, max_depth=40, bootstrap=False, score=0.596352887390598, total=   8.8s\n",
      "[CV] n_estimators=2377, min_samples_split=2, min_samples_leaf=4, max_features=sqrt, max_depth=100, bootstrap=True \n",
      "[CV]  n_estimators=2066, min_samples_split=2, min_samples_leaf=8, max_features=sqrt, max_depth=40, bootstrap=False, score=0.7128806115766604, total=   8.8s\n",
      "[CV] n_estimators=2377, min_samples_split=2, min_samples_leaf=4, max_features=sqrt, max_depth=100, bootstrap=True \n"
     ]
    },
    {
     "name": "stderr",
     "output_type": "stream",
     "text": [
      "/home/rmorse/anaconda3/lib/python3.6/site-packages/sklearn/metrics/classification.py:1135: UndefinedMetricWarning: F-score is ill-defined and being set to 0.0 in labels with no predicted samples.\n",
      "  'precision', 'predicted', average, warn_for)\n"
     ]
    },
    {
     "name": "stdout",
     "output_type": "stream",
     "text": [
      "[CV]  n_estimators=2066, min_samples_split=2, min_samples_leaf=8, max_features=sqrt, max_depth=40, bootstrap=False, score=0.5519603473650044, total=   8.7s\n",
      "[CV] n_estimators=2688, min_samples_split=2, min_samples_leaf=2, max_features=sqrt, max_depth=20, bootstrap=False \n",
      "[CV]  n_estimators=2377, min_samples_split=2, min_samples_leaf=4, max_features=sqrt, max_depth=100, bootstrap=True, score=0.5922822727828424, total=   8.2s\n",
      "[CV] n_estimators=2688, min_samples_split=2, min_samples_leaf=2, max_features=sqrt, max_depth=20, bootstrap=False \n",
      "[CV]  n_estimators=2377, min_samples_split=2, min_samples_leaf=4, max_features=sqrt, max_depth=100, bootstrap=True, score=0.7425188100539997, total=   8.2s\n",
      "[CV] n_estimators=2688, min_samples_split=2, min_samples_leaf=2, max_features=sqrt, max_depth=20, bootstrap=False \n"
     ]
    },
    {
     "name": "stderr",
     "output_type": "stream",
     "text": [
      "/home/rmorse/anaconda3/lib/python3.6/site-packages/sklearn/metrics/classification.py:1135: UndefinedMetricWarning: F-score is ill-defined and being set to 0.0 in labels with no predicted samples.\n",
      "  'precision', 'predicted', average, warn_for)\n"
     ]
    },
    {
     "name": "stdout",
     "output_type": "stream",
     "text": [
      "[CV]  n_estimators=2377, min_samples_split=2, min_samples_leaf=4, max_features=sqrt, max_depth=100, bootstrap=True, score=0.5828885444488795, total=   8.2s\n",
      "[CV] n_estimators=1755, min_samples_split=10, min_samples_leaf=4, max_features=sqrt, max_depth=50, bootstrap=False \n",
      "[CV]  n_estimators=2688, min_samples_split=2, min_samples_leaf=2, max_features=sqrt, max_depth=20, bootstrap=False, score=0.6212258722092027, total=  14.1s\n",
      "[CV] n_estimators=1755, min_samples_split=10, min_samples_leaf=4, max_features=sqrt, max_depth=50, bootstrap=False \n",
      "[CV]  n_estimators=2688, min_samples_split=2, min_samples_leaf=2, max_features=sqrt, max_depth=20, bootstrap=False, score=0.7643703251277449, total=  14.0s\n",
      "[CV] n_estimators=1755, min_samples_split=10, min_samples_leaf=4, max_features=sqrt, max_depth=50, bootstrap=False \n",
      "[CV]  n_estimators=1755, min_samples_split=10, min_samples_leaf=4, max_features=sqrt, max_depth=50, bootstrap=False, score=0.6165627181335303, total=   8.2s\n",
      "[CV] n_estimators=3000, min_samples_split=15, min_samples_leaf=1, max_features=sqrt, max_depth=90, bootstrap=True \n",
      "[CV]  n_estimators=2688, min_samples_split=2, min_samples_leaf=2, max_features=sqrt, max_depth=20, bootstrap=False, score=0.642952774001552, total=  13.8s\n",
      "[CV] n_estimators=3000, min_samples_split=15, min_samples_leaf=1, max_features=sqrt, max_depth=90, bootstrap=True \n",
      "[CV]  n_estimators=1755, min_samples_split=10, min_samples_leaf=4, max_features=sqrt, max_depth=50, bootstrap=False, score=0.7470903806253459, total=   8.2s\n",
      "[CV] n_estimators=3000, min_samples_split=15, min_samples_leaf=1, max_features=sqrt, max_depth=90, bootstrap=True \n",
      "[CV]  n_estimators=1755, min_samples_split=10, min_samples_leaf=4, max_features=sqrt, max_depth=50, bootstrap=False, score=0.624404863302001, total=   8.1s\n",
      "[CV] n_estimators=2377, min_samples_split=15, min_samples_leaf=8, max_features=auto, max_depth=90, bootstrap=False \n"
     ]
    },
    {
     "name": "stderr",
     "output_type": "stream",
     "text": [
      "/home/rmorse/anaconda3/lib/python3.6/site-packages/sklearn/metrics/classification.py:1135: UndefinedMetricWarning: F-score is ill-defined and being set to 0.0 in labels with no predicted samples.\n",
      "  'precision', 'predicted', average, warn_for)\n"
     ]
    },
    {
     "name": "stdout",
     "output_type": "stream",
     "text": [
      "[CV]  n_estimators=3000, min_samples_split=15, min_samples_leaf=1, max_features=sqrt, max_depth=90, bootstrap=True, score=0.5836544155551828, total=  10.6s\n",
      "[CV] n_estimators=2377, min_samples_split=15, min_samples_leaf=8, max_features=auto, max_depth=90, bootstrap=False \n",
      "[CV]  n_estimators=3000, min_samples_split=15, min_samples_leaf=1, max_features=sqrt, max_depth=90, bootstrap=True, score=0.7234282575268806, total=  10.5s\n",
      "[CV] n_estimators=2377, min_samples_split=15, min_samples_leaf=8, max_features=auto, max_depth=90, bootstrap=False \n"
     ]
    },
    {
     "name": "stderr",
     "output_type": "stream",
     "text": [
      "/home/rmorse/anaconda3/lib/python3.6/site-packages/sklearn/metrics/classification.py:1135: UndefinedMetricWarning: F-score is ill-defined and being set to 0.0 in labels with no predicted samples.\n",
      "  'precision', 'predicted', average, warn_for)\n"
     ]
    },
    {
     "name": "stdout",
     "output_type": "stream",
     "text": [
      "[CV]  n_estimators=2377, min_samples_split=15, min_samples_leaf=8, max_features=auto, max_depth=90, bootstrap=False, score=0.5817897472294703, total=  10.0s\n",
      "[CV] n_estimators=1444, min_samples_split=10, min_samples_leaf=8, max_features=sqrt, max_depth=90, bootstrap=True \n",
      "[CV]  n_estimators=3000, min_samples_split=15, min_samples_leaf=1, max_features=sqrt, max_depth=90, bootstrap=True, score=0.5628865410475318, total=  10.6s\n",
      "[CV] n_estimators=1444, min_samples_split=10, min_samples_leaf=8, max_features=sqrt, max_depth=90, bootstrap=True \n",
      "[CV]  n_estimators=2377, min_samples_split=15, min_samples_leaf=8, max_features=auto, max_depth=90, bootstrap=False, score=0.7112411430233833, total=  10.0s\n",
      "[CV] n_estimators=1444, min_samples_split=10, min_samples_leaf=8, max_features=sqrt, max_depth=90, bootstrap=True \n"
     ]
    },
    {
     "name": "stderr",
     "output_type": "stream",
     "text": [
      "/home/rmorse/anaconda3/lib/python3.6/site-packages/sklearn/metrics/classification.py:1135: UndefinedMetricWarning: F-score is ill-defined and being set to 0.0 in labels with no predicted samples.\n",
      "  'precision', 'predicted', average, warn_for)\n"
     ]
    },
    {
     "name": "stdout",
     "output_type": "stream",
     "text": [
      "[CV]  n_estimators=1444, min_samples_split=10, min_samples_leaf=8, max_features=sqrt, max_depth=90, bootstrap=True, score=0.5308342652275343, total=   4.4s\n",
      "[CV] n_estimators=2377, min_samples_split=5, min_samples_leaf=2, max_features=sqrt, max_depth=10, bootstrap=True \n",
      "[CV]  n_estimators=1444, min_samples_split=10, min_samples_leaf=8, max_features=sqrt, max_depth=90, bootstrap=True, score=0.6982915311340934, total=   4.4s\n",
      "[CV] n_estimators=2377, min_samples_split=5, min_samples_leaf=2, max_features=sqrt, max_depth=10, bootstrap=True \n",
      "[CV]  n_estimators=2377, min_samples_split=15, min_samples_leaf=8, max_features=auto, max_depth=90, bootstrap=False, score=0.5669359149703813, total=  10.0s\n",
      "[CV] n_estimators=2377, min_samples_split=5, min_samples_leaf=2, max_features=sqrt, max_depth=10, bootstrap=True \n"
     ]
    },
    {
     "name": "stderr",
     "output_type": "stream",
     "text": [
      "/home/rmorse/anaconda3/lib/python3.6/site-packages/sklearn/metrics/classification.py:1135: UndefinedMetricWarning: F-score is ill-defined and being set to 0.0 in labels with no predicted samples.\n",
      "  'precision', 'predicted', average, warn_for)\n"
     ]
    },
    {
     "name": "stdout",
     "output_type": "stream",
     "text": [
      "[CV]  n_estimators=1444, min_samples_split=10, min_samples_leaf=8, max_features=sqrt, max_depth=90, bootstrap=True, score=0.5047515736916837, total=   4.4s\n",
      "[CV] n_estimators=822, min_samples_split=15, min_samples_leaf=4, max_features=sqrt, max_depth=20, bootstrap=True \n",
      "[CV]  n_estimators=822, min_samples_split=15, min_samples_leaf=4, max_features=sqrt, max_depth=20, bootstrap=True, score=0.5756893117661703, total=   2.7s\n",
      "[CV] n_estimators=822, min_samples_split=15, min_samples_leaf=4, max_features=sqrt, max_depth=20, bootstrap=True \n",
      "[CV]  n_estimators=2377, min_samples_split=5, min_samples_leaf=2, max_features=sqrt, max_depth=10, bootstrap=True, score=0.6185414814771097, total=   8.8s\n",
      "[CV] n_estimators=822, min_samples_split=15, min_samples_leaf=4, max_features=sqrt, max_depth=20, bootstrap=True \n",
      "[CV]  n_estimators=2377, min_samples_split=5, min_samples_leaf=2, max_features=sqrt, max_depth=10, bootstrap=True, score=0.755396454318014, total=   8.7s\n",
      "[CV] n_estimators=1444, min_samples_split=15, min_samples_leaf=2, max_features=sqrt, max_depth=70, bootstrap=True \n",
      "[CV]  n_estimators=822, min_samples_split=15, min_samples_leaf=4, max_features=sqrt, max_depth=20, bootstrap=True, score=0.7143929677992863, total=   2.8s\n",
      "[CV] n_estimators=1444, min_samples_split=15, min_samples_leaf=2, max_features=sqrt, max_depth=70, bootstrap=True \n"
     ]
    },
    {
     "name": "stderr",
     "output_type": "stream",
     "text": [
      "/home/rmorse/anaconda3/lib/python3.6/site-packages/sklearn/metrics/classification.py:1135: UndefinedMetricWarning: F-score is ill-defined and being set to 0.0 in labels with no predicted samples.\n",
      "  'precision', 'predicted', average, warn_for)\n"
     ]
    },
    {
     "name": "stdout",
     "output_type": "stream",
     "text": [
      "[CV]  n_estimators=822, min_samples_split=15, min_samples_leaf=4, max_features=sqrt, max_depth=20, bootstrap=True, score=0.5425136007913216, total=   2.7s\n",
      "[CV] n_estimators=1444, min_samples_split=15, min_samples_leaf=2, max_features=sqrt, max_depth=70, bootstrap=True \n",
      "[CV]  n_estimators=2377, min_samples_split=5, min_samples_leaf=2, max_features=sqrt, max_depth=10, bootstrap=True, score=0.6190903256638135, total=   8.7s\n",
      "[CV] n_estimators=3000, min_samples_split=5, min_samples_leaf=1, max_features=auto, max_depth=50, bootstrap=False \n"
     ]
    },
    {
     "name": "stderr",
     "output_type": "stream",
     "text": [
      "/home/rmorse/anaconda3/lib/python3.6/site-packages/sklearn/metrics/classification.py:1135: UndefinedMetricWarning: F-score is ill-defined and being set to 0.0 in labels with no predicted samples.\n",
      "  'precision', 'predicted', average, warn_for)\n"
     ]
    },
    {
     "name": "stdout",
     "output_type": "stream",
     "text": [
      "[CV]  n_estimators=1444, min_samples_split=15, min_samples_leaf=2, max_features=sqrt, max_depth=70, bootstrap=True, score=0.583418422547462, total=   4.9s\n",
      "[CV] n_estimators=3000, min_samples_split=5, min_samples_leaf=1, max_features=auto, max_depth=50, bootstrap=False \n",
      "[CV]  n_estimators=1444, min_samples_split=15, min_samples_leaf=2, max_features=sqrt, max_depth=70, bootstrap=True, score=0.7310778521313672, total=   5.0s\n",
      "[CV] n_estimators=3000, min_samples_split=5, min_samples_leaf=1, max_features=auto, max_depth=50, bootstrap=False \n"
     ]
    },
    {
     "name": "stderr",
     "output_type": "stream",
     "text": [
      "/home/rmorse/anaconda3/lib/python3.6/site-packages/sklearn/metrics/classification.py:1135: UndefinedMetricWarning: F-score is ill-defined and being set to 0.0 in labels with no predicted samples.\n",
      "  'precision', 'predicted', average, warn_for)\n"
     ]
    },
    {
     "name": "stdout",
     "output_type": "stream",
     "text": [
      "[CV]  n_estimators=1444, min_samples_split=15, min_samples_leaf=2, max_features=sqrt, max_depth=70, bootstrap=True, score=0.563921564847839, total=   4.9s\n",
      "[CV] n_estimators=2066, min_samples_split=5, min_samples_leaf=2, max_features=auto, max_depth=50, bootstrap=False \n",
      "[CV]  n_estimators=2066, min_samples_split=5, min_samples_leaf=2, max_features=auto, max_depth=50, bootstrap=False, score=0.6228412204687405, total=  10.5s\n",
      "[CV] n_estimators=2066, min_samples_split=5, min_samples_leaf=2, max_features=auto, max_depth=50, bootstrap=False \n",
      "[CV]  n_estimators=3000, min_samples_split=5, min_samples_leaf=1, max_features=auto, max_depth=50, bootstrap=False, score=0.6226951177477492, total=  15.9s\n",
      "[CV] n_estimators=2066, min_samples_split=5, min_samples_leaf=2, max_features=auto, max_depth=50, bootstrap=False \n",
      "[CV]  n_estimators=3000, min_samples_split=5, min_samples_leaf=1, max_features=auto, max_depth=50, bootstrap=False, score=0.644881151146093, total=  15.8s\n",
      "[CV] n_estimators=3000, min_samples_split=15, min_samples_leaf=2, max_features=auto, max_depth=10, bootstrap=True \n",
      "[CV]  n_estimators=3000, min_samples_split=5, min_samples_leaf=1, max_features=auto, max_depth=50, bootstrap=False, score=0.7642262378372666, total=  16.1s\n",
      "[CV] n_estimators=3000, min_samples_split=15, min_samples_leaf=2, max_features=auto, max_depth=10, bootstrap=True \n",
      "[CV]  n_estimators=2066, min_samples_split=5, min_samples_leaf=2, max_features=auto, max_depth=50, bootstrap=False, score=0.7603269080939927, total=  10.6s\n",
      "[CV] n_estimators=3000, min_samples_split=15, min_samples_leaf=2, max_features=auto, max_depth=10, bootstrap=True \n",
      "[CV]  n_estimators=2066, min_samples_split=5, min_samples_leaf=2, max_features=auto, max_depth=50, bootstrap=False, score=0.6488617396029176, total=  10.6s\n",
      "[CV] n_estimators=1444, min_samples_split=2, min_samples_leaf=8, max_features=auto, max_depth=100, bootstrap=False \n"
     ]
    },
    {
     "name": "stderr",
     "output_type": "stream",
     "text": [
      "[Parallel(n_jobs=-1)]: Done 504 tasks      | elapsed: 15.3min\n",
      "/home/rmorse/anaconda3/lib/python3.6/site-packages/sklearn/metrics/classification.py:1135: UndefinedMetricWarning: F-score is ill-defined and being set to 0.0 in labels with no predicted samples.\n",
      "  'precision', 'predicted', average, warn_for)\n"
     ]
    },
    {
     "name": "stdout",
     "output_type": "stream",
     "text": [
      "[CV]  n_estimators=3000, min_samples_split=15, min_samples_leaf=2, max_features=auto, max_depth=10, bootstrap=True, score=0.5808953617420277, total=  10.2s\n",
      "[CV] n_estimators=1444, min_samples_split=2, min_samples_leaf=8, max_features=auto, max_depth=100, bootstrap=False \n",
      "[CV]  n_estimators=3000, min_samples_split=15, min_samples_leaf=2, max_features=auto, max_depth=10, bootstrap=True, score=0.7125935071904443, total=  10.1s\n",
      "[CV] n_estimators=1444, min_samples_split=2, min_samples_leaf=8, max_features=auto, max_depth=100, bootstrap=False \n",
      "[CV]  n_estimators=1444, min_samples_split=2, min_samples_leaf=8, max_features=auto, max_depth=100, bootstrap=False, score=0.5885734770809566, total=   6.1s\n",
      "[CV] n_estimators=1133, min_samples_split=10, min_samples_leaf=4, max_features=auto, max_depth=110, bootstrap=True \n"
     ]
    },
    {
     "name": "stderr",
     "output_type": "stream",
     "text": [
      "/home/rmorse/anaconda3/lib/python3.6/site-packages/sklearn/metrics/classification.py:1135: UndefinedMetricWarning: F-score is ill-defined and being set to 0.0 in labels with no predicted samples.\n",
      "  'precision', 'predicted', average, warn_for)\n"
     ]
    },
    {
     "name": "stdout",
     "output_type": "stream",
     "text": [
      "[CV]  n_estimators=1444, min_samples_split=2, min_samples_leaf=8, max_features=auto, max_depth=100, bootstrap=False, score=0.5534523853987753, total=   6.0s\n",
      "[CV] n_estimators=1133, min_samples_split=10, min_samples_leaf=4, max_features=auto, max_depth=110, bootstrap=True \n",
      "[CV]  n_estimators=1444, min_samples_split=2, min_samples_leaf=8, max_features=auto, max_depth=100, bootstrap=False, score=0.7218231176891198, total=   6.1s\n",
      "[CV] n_estimators=1133, min_samples_split=10, min_samples_leaf=4, max_features=auto, max_depth=110, bootstrap=True \n"
     ]
    },
    {
     "name": "stderr",
     "output_type": "stream",
     "text": [
      "/home/rmorse/anaconda3/lib/python3.6/site-packages/sklearn/metrics/classification.py:1135: UndefinedMetricWarning: F-score is ill-defined and being set to 0.0 in labels with no predicted samples.\n",
      "  'precision', 'predicted', average, warn_for)\n"
     ]
    },
    {
     "name": "stdout",
     "output_type": "stream",
     "text": [
      "[CV]  n_estimators=3000, min_samples_split=15, min_samples_leaf=2, max_features=auto, max_depth=10, bootstrap=True, score=0.5521116590330973, total=  10.1s\n",
      "[CV] n_estimators=822, min_samples_split=5, min_samples_leaf=8, max_features=auto, max_depth=60, bootstrap=True \n",
      "[CV]  n_estimators=1133, min_samples_split=10, min_samples_leaf=4, max_features=auto, max_depth=110, bootstrap=True, score=0.5957595072769825, total=   3.9s\n",
      "[CV] n_estimators=822, min_samples_split=5, min_samples_leaf=8, max_features=auto, max_depth=60, bootstrap=True \n"
     ]
    },
    {
     "name": "stderr",
     "output_type": "stream",
     "text": [
      "/home/rmorse/anaconda3/lib/python3.6/site-packages/sklearn/metrics/classification.py:1135: UndefinedMetricWarning: F-score is ill-defined and being set to 0.0 in labels with no predicted samples.\n",
      "  'precision', 'predicted', average, warn_for)\n"
     ]
    },
    {
     "name": "stdout",
     "output_type": "stream",
     "text": [
      "[CV]  n_estimators=1133, min_samples_split=10, min_samples_leaf=4, max_features=auto, max_depth=110, bootstrap=True, score=0.737479856274595, total=   3.8s\n",
      "[CV] n_estimators=822, min_samples_split=5, min_samples_leaf=8, max_features=auto, max_depth=60, bootstrap=True \n",
      "[CV]  n_estimators=1133, min_samples_split=10, min_samples_leaf=4, max_features=auto, max_depth=110, bootstrap=True, score=0.5776350027514353, total=   3.8s\n",
      "[CV] n_estimators=1444, min_samples_split=5, min_samples_leaf=1, max_features=auto, max_depth=90, bootstrap=True \n"
     ]
    },
    {
     "name": "stderr",
     "output_type": "stream",
     "text": [
      "/home/rmorse/anaconda3/lib/python3.6/site-packages/sklearn/metrics/classification.py:1135: UndefinedMetricWarning: F-score is ill-defined and being set to 0.0 in labels with no predicted samples.\n",
      "  'precision', 'predicted', average, warn_for)\n"
     ]
    },
    {
     "name": "stdout",
     "output_type": "stream",
     "text": [
      "[CV]  n_estimators=822, min_samples_split=5, min_samples_leaf=8, max_features=auto, max_depth=60, bootstrap=True, score=0.5548259354487001, total=   2.5s\n",
      "[CV] n_estimators=1444, min_samples_split=5, min_samples_leaf=1, max_features=auto, max_depth=90, bootstrap=True \n",
      "[CV]  n_estimators=822, min_samples_split=5, min_samples_leaf=8, max_features=auto, max_depth=60, bootstrap=True, score=0.6824756834834703, total=   2.5s\n",
      "[CV] n_estimators=1444, min_samples_split=5, min_samples_leaf=1, max_features=auto, max_depth=90, bootstrap=True \n"
     ]
    },
    {
     "name": "stderr",
     "output_type": "stream",
     "text": [
      "/home/rmorse/anaconda3/lib/python3.6/site-packages/sklearn/metrics/classification.py:1135: UndefinedMetricWarning: F-score is ill-defined and being set to 0.0 in labels with no predicted samples.\n",
      "  'precision', 'predicted', average, warn_for)\n"
     ]
    },
    {
     "name": "stdout",
     "output_type": "stream",
     "text": [
      "[CV]  n_estimators=822, min_samples_split=5, min_samples_leaf=8, max_features=auto, max_depth=60, bootstrap=True, score=0.5085526999918752, total=   2.5s\n",
      "[CV] n_estimators=1133, min_samples_split=15, min_samples_leaf=2, max_features=sqrt, max_depth=10, bootstrap=True \n",
      "[CV]  n_estimators=1444, min_samples_split=5, min_samples_leaf=1, max_features=auto, max_depth=90, bootstrap=True, score=0.623580507104778, total=   5.6s\n",
      "[CV] n_estimators=1133, min_samples_split=15, min_samples_leaf=2, max_features=sqrt, max_depth=10, bootstrap=True \n",
      "[CV]  n_estimators=1444, min_samples_split=5, min_samples_leaf=1, max_features=auto, max_depth=90, bootstrap=True, score=0.7622983109923966, total=   5.6s\n",
      "[CV] n_estimators=1133, min_samples_split=15, min_samples_leaf=2, max_features=sqrt, max_depth=10, bootstrap=True \n",
      "[CV]  n_estimators=1444, min_samples_split=5, min_samples_leaf=1, max_features=auto, max_depth=90, bootstrap=True, score=0.6350667814366857, total=   5.5s\n",
      "[CV] n_estimators=200, min_samples_split=2, min_samples_leaf=8, max_features=sqrt, max_depth=110, bootstrap=True \n"
     ]
    },
    {
     "name": "stderr",
     "output_type": "stream",
     "text": [
      "/home/rmorse/anaconda3/lib/python3.6/site-packages/sklearn/metrics/classification.py:1135: UndefinedMetricWarning: F-score is ill-defined and being set to 0.0 in labels with no predicted samples.\n",
      "  'precision', 'predicted', average, warn_for)\n"
     ]
    },
    {
     "name": "stdout",
     "output_type": "stream",
     "text": [
      "[CV]  n_estimators=1133, min_samples_split=15, min_samples_leaf=2, max_features=sqrt, max_depth=10, bootstrap=True, score=0.5763670522174046, total=   3.9s\n",
      "[CV] n_estimators=200, min_samples_split=2, min_samples_leaf=8, max_features=sqrt, max_depth=110, bootstrap=True \n"
     ]
    },
    {
     "name": "stderr",
     "output_type": "stream",
     "text": [
      "/home/rmorse/anaconda3/lib/python3.6/site-packages/sklearn/metrics/classification.py:1135: UndefinedMetricWarning: F-score is ill-defined and being set to 0.0 in labels with no predicted samples.\n",
      "  'precision', 'predicted', average, warn_for)\n"
     ]
    },
    {
     "name": "stdout",
     "output_type": "stream",
     "text": [
      "[CV]  n_estimators=200, min_samples_split=2, min_samples_leaf=8, max_features=sqrt, max_depth=110, bootstrap=True, score=0.5067379064358032, total=   0.6s\n",
      "[CV] n_estimators=200, min_samples_split=2, min_samples_leaf=8, max_features=sqrt, max_depth=110, bootstrap=True \n",
      "[CV]  n_estimators=200, min_samples_split=2, min_samples_leaf=8, max_features=sqrt, max_depth=110, bootstrap=True, score=0.7015598692176609, total=   0.6s\n",
      "[CV] n_estimators=1133, min_samples_split=15, min_samples_leaf=2, max_features=sqrt, max_depth=40, bootstrap=True \n"
     ]
    },
    {
     "name": "stderr",
     "output_type": "stream",
     "text": [
      "/home/rmorse/anaconda3/lib/python3.6/site-packages/sklearn/metrics/classification.py:1135: UndefinedMetricWarning: F-score is ill-defined and being set to 0.0 in labels with no predicted samples.\n",
      "  'precision', 'predicted', average, warn_for)\n"
     ]
    },
    {
     "name": "stdout",
     "output_type": "stream",
     "text": [
      "[CV]  n_estimators=200, min_samples_split=2, min_samples_leaf=8, max_features=sqrt, max_depth=110, bootstrap=True, score=0.45732035800456855, total=   0.6s\n",
      "[CV] n_estimators=1133, min_samples_split=15, min_samples_leaf=2, max_features=sqrt, max_depth=40, bootstrap=True \n"
     ]
    },
    {
     "name": "stderr",
     "output_type": "stream",
     "text": [
      "/home/rmorse/anaconda3/lib/python3.6/site-packages/sklearn/metrics/classification.py:1135: UndefinedMetricWarning: F-score is ill-defined and being set to 0.0 in labels with no predicted samples.\n",
      "  'precision', 'predicted', average, warn_for)\n"
     ]
    },
    {
     "name": "stdout",
     "output_type": "stream",
     "text": [
      "[CV]  n_estimators=1133, min_samples_split=15, min_samples_leaf=2, max_features=sqrt, max_depth=10, bootstrap=True, score=0.7230247556783566, total=   3.9s\n",
      "[CV] n_estimators=1133, min_samples_split=15, min_samples_leaf=2, max_features=sqrt, max_depth=40, bootstrap=True \n",
      "[CV]  n_estimators=1133, min_samples_split=15, min_samples_leaf=2, max_features=sqrt, max_depth=10, bootstrap=True, score=0.5554581196470749, total=   3.8s\n",
      "[CV] n_estimators=2688, min_samples_split=5, min_samples_leaf=4, max_features=auto, max_depth=100, bootstrap=False \n"
     ]
    },
    {
     "name": "stderr",
     "output_type": "stream",
     "text": [
      "/home/rmorse/anaconda3/lib/python3.6/site-packages/sklearn/metrics/classification.py:1135: UndefinedMetricWarning: F-score is ill-defined and being set to 0.0 in labels with no predicted samples.\n",
      "  'precision', 'predicted', average, warn_for)\n"
     ]
    },
    {
     "name": "stdout",
     "output_type": "stream",
     "text": [
      "[CV]  n_estimators=1133, min_samples_split=15, min_samples_leaf=2, max_features=sqrt, max_depth=40, bootstrap=True, score=0.5885899884850299, total=   3.9s\n",
      "[CV] n_estimators=2688, min_samples_split=5, min_samples_leaf=4, max_features=auto, max_depth=100, bootstrap=False \n",
      "[CV]  n_estimators=1133, min_samples_split=15, min_samples_leaf=2, max_features=sqrt, max_depth=40, bootstrap=True, score=0.7357527025314614, total=   3.9s\n",
      "[CV] n_estimators=2688, min_samples_split=5, min_samples_leaf=4, max_features=auto, max_depth=100, bootstrap=False \n"
     ]
    },
    {
     "name": "stderr",
     "output_type": "stream",
     "text": [
      "/home/rmorse/anaconda3/lib/python3.6/site-packages/sklearn/metrics/classification.py:1135: UndefinedMetricWarning: F-score is ill-defined and being set to 0.0 in labels with no predicted samples.\n",
      "  'precision', 'predicted', average, warn_for)\n"
     ]
    },
    {
     "name": "stdout",
     "output_type": "stream",
     "text": [
      "[CV]  n_estimators=1133, min_samples_split=15, min_samples_leaf=2, max_features=sqrt, max_depth=40, bootstrap=True, score=0.5513281906395063, total=   3.9s\n",
      "[CV] n_estimators=3000, min_samples_split=15, min_samples_leaf=4, max_features=auto, max_depth=40, bootstrap=True \n",
      "[CV]  n_estimators=2688, min_samples_split=5, min_samples_leaf=4, max_features=auto, max_depth=100, bootstrap=False, score=0.6054498360085859, total=  12.7s\n",
      "[CV] n_estimators=3000, min_samples_split=15, min_samples_leaf=4, max_features=auto, max_depth=40, bootstrap=True \n"
     ]
    },
    {
     "name": "stderr",
     "output_type": "stream",
     "text": [
      "/home/rmorse/anaconda3/lib/python3.6/site-packages/sklearn/metrics/classification.py:1135: UndefinedMetricWarning: F-score is ill-defined and being set to 0.0 in labels with no predicted samples.\n",
      "  'precision', 'predicted', average, warn_for)\n"
     ]
    },
    {
     "name": "stdout",
     "output_type": "stream",
     "text": [
      "[CV]  n_estimators=3000, min_samples_split=15, min_samples_leaf=4, max_features=auto, max_depth=40, bootstrap=True, score=0.5624040288128951, total=   9.9s\n",
      "[CV] n_estimators=3000, min_samples_split=15, min_samples_leaf=4, max_features=auto, max_depth=40, bootstrap=True \n",
      "[CV]  n_estimators=2688, min_samples_split=5, min_samples_leaf=4, max_features=auto, max_depth=100, bootstrap=False, score=0.7500803810360311, total=  12.8s\n",
      "[CV] n_estimators=511, min_samples_split=10, min_samples_leaf=2, max_features=auto, max_depth=50, bootstrap=False \n",
      "[CV]  n_estimators=2688, min_samples_split=5, min_samples_leaf=4, max_features=auto, max_depth=100, bootstrap=False, score=0.6331156564554845, total=  12.7s\n",
      "[CV] n_estimators=511, min_samples_split=10, min_samples_leaf=2, max_features=auto, max_depth=50, bootstrap=False \n",
      "[CV]  n_estimators=511, min_samples_split=10, min_samples_leaf=2, max_features=auto, max_depth=50, bootstrap=False, score=0.5992330949514788, total=   2.5s\n",
      "[CV] n_estimators=511, min_samples_split=10, min_samples_leaf=2, max_features=auto, max_depth=50, bootstrap=False \n",
      "[CV]  n_estimators=511, min_samples_split=10, min_samples_leaf=2, max_features=auto, max_depth=50, bootstrap=False, score=0.7491825954938542, total=   2.5s\n",
      "[CV] n_estimators=1444, min_samples_split=15, min_samples_leaf=4, max_features=auto, max_depth=20, bootstrap=False \n",
      "[CV]  n_estimators=511, min_samples_split=10, min_samples_leaf=2, max_features=auto, max_depth=50, bootstrap=False, score=0.6288185496091175, total=   2.5s\n",
      "[CV] n_estimators=1444, min_samples_split=15, min_samples_leaf=4, max_features=auto, max_depth=20, bootstrap=False \n",
      "[CV]  n_estimators=3000, min_samples_split=15, min_samples_leaf=4, max_features=auto, max_depth=40, bootstrap=True, score=0.7155251147095376, total=   9.9s\n",
      "[CV] n_estimators=1444, min_samples_split=15, min_samples_leaf=4, max_features=auto, max_depth=20, bootstrap=False \n"
     ]
    },
    {
     "name": "stderr",
     "output_type": "stream",
     "text": [
      "/home/rmorse/anaconda3/lib/python3.6/site-packages/sklearn/metrics/classification.py:1135: UndefinedMetricWarning: F-score is ill-defined and being set to 0.0 in labels with no predicted samples.\n",
      "  'precision', 'predicted', average, warn_for)\n"
     ]
    },
    {
     "name": "stdout",
     "output_type": "stream",
     "text": [
      "[CV]  n_estimators=1444, min_samples_split=15, min_samples_leaf=4, max_features=auto, max_depth=20, bootstrap=False, score=0.593914977987867, total=   6.5s\n",
      "[CV] n_estimators=200, min_samples_split=5, min_samples_leaf=1, max_features=auto, max_depth=50, bootstrap=False \n",
      "[CV]  n_estimators=3000, min_samples_split=15, min_samples_leaf=4, max_features=auto, max_depth=40, bootstrap=True, score=0.5491323853332868, total=   9.9s\n",
      "[CV] n_estimators=200, min_samples_split=5, min_samples_leaf=1, max_features=auto, max_depth=50, bootstrap=False \n",
      "[CV]  n_estimators=200, min_samples_split=5, min_samples_leaf=1, max_features=auto, max_depth=50, bootstrap=False, score=0.6319704905732988, total=   1.1s\n",
      "[CV] n_estimators=200, min_samples_split=5, min_samples_leaf=1, max_features=auto, max_depth=50, bootstrap=False \n",
      "[CV]  n_estimators=200, min_samples_split=5, min_samples_leaf=1, max_features=auto, max_depth=50, bootstrap=False, score=0.7552148973833184, total=   1.1s\n",
      "[CV] n_estimators=2688, min_samples_split=10, min_samples_leaf=4, max_features=auto, max_depth=110, bootstrap=False \n",
      "[CV]  n_estimators=200, min_samples_split=5, min_samples_leaf=1, max_features=auto, max_depth=50, bootstrap=False, score=0.636088286733153, total=   1.1s\n",
      "[CV] n_estimators=2688, min_samples_split=10, min_samples_leaf=4, max_features=auto, max_depth=110, bootstrap=False \n",
      "[CV]  n_estimators=1444, min_samples_split=15, min_samples_leaf=4, max_features=auto, max_depth=20, bootstrap=False, score=0.7359213044104567, total=   6.7s\n",
      "[CV] n_estimators=2688, min_samples_split=10, min_samples_leaf=4, max_features=auto, max_depth=110, bootstrap=False \n"
     ]
    },
    {
     "name": "stderr",
     "output_type": "stream",
     "text": [
      "/home/rmorse/anaconda3/lib/python3.6/site-packages/sklearn/metrics/classification.py:1135: UndefinedMetricWarning: F-score is ill-defined and being set to 0.0 in labels with no predicted samples.\n",
      "  'precision', 'predicted', average, warn_for)\n"
     ]
    },
    {
     "name": "stdout",
     "output_type": "stream",
     "text": [
      "[CV]  n_estimators=1444, min_samples_split=15, min_samples_leaf=4, max_features=auto, max_depth=20, bootstrap=False, score=0.588205188357383, total=   6.4s\n",
      "[CV] n_estimators=200, min_samples_split=2, min_samples_leaf=2, max_features=sqrt, max_depth=90, bootstrap=False \n",
      "[CV]  n_estimators=200, min_samples_split=2, min_samples_leaf=2, max_features=sqrt, max_depth=90, bootstrap=False, score=0.630486378365609, total=   1.0s\n",
      "[CV] n_estimators=200, min_samples_split=2, min_samples_leaf=2, max_features=sqrt, max_depth=90, bootstrap=False \n",
      "[CV]  n_estimators=200, min_samples_split=2, min_samples_leaf=2, max_features=sqrt, max_depth=90, bootstrap=False, score=0.7401580192905971, total=   1.0s\n",
      "[CV] n_estimators=200, min_samples_split=2, min_samples_leaf=2, max_features=sqrt, max_depth=90, bootstrap=False \n",
      "[CV]  n_estimators=200, min_samples_split=2, min_samples_leaf=2, max_features=sqrt, max_depth=90, bootstrap=False, score=0.6094253760136368, total=   1.0s\n",
      "[CV] n_estimators=822, min_samples_split=10, min_samples_leaf=1, max_features=auto, max_depth=40, bootstrap=True \n",
      "[CV]  n_estimators=822, min_samples_split=10, min_samples_leaf=1, max_features=auto, max_depth=40, bootstrap=True, score=0.6240474282829112, total=   3.0s\n",
      "[CV] n_estimators=822, min_samples_split=10, min_samples_leaf=1, max_features=auto, max_depth=40, bootstrap=True \n",
      "[CV]  n_estimators=2688, min_samples_split=10, min_samples_leaf=4, max_features=auto, max_depth=110, bootstrap=False, score=0.6193027985346877, total=  12.6s\n",
      "[CV] n_estimators=822, min_samples_split=10, min_samples_leaf=1, max_features=auto, max_depth=40, bootstrap=True \n",
      "[CV]  n_estimators=2688, min_samples_split=10, min_samples_leaf=4, max_features=auto, max_depth=110, bootstrap=False, score=0.757269333655891, total=  12.6s\n",
      "[CV] n_estimators=822, min_samples_split=5, min_samples_leaf=1, max_features=auto, max_depth=90, bootstrap=True \n",
      "[CV]  n_estimators=2688, min_samples_split=10, min_samples_leaf=4, max_features=auto, max_depth=110, bootstrap=False, score=0.6178090456412287, total=  12.4s\n",
      "[CV] n_estimators=822, min_samples_split=5, min_samples_leaf=1, max_features=auto, max_depth=90, bootstrap=True \n",
      "[CV]  n_estimators=822, min_samples_split=10, min_samples_leaf=1, max_features=auto, max_depth=40, bootstrap=True, score=0.7475054566319775, total=   3.0s\n",
      "[CV] n_estimators=822, min_samples_split=5, min_samples_leaf=1, max_features=auto, max_depth=90, bootstrap=True \n"
     ]
    },
    {
     "name": "stderr",
     "output_type": "stream",
     "text": [
      "/home/rmorse/anaconda3/lib/python3.6/site-packages/sklearn/metrics/classification.py:1135: UndefinedMetricWarning: F-score is ill-defined and being set to 0.0 in labels with no predicted samples.\n",
      "  'precision', 'predicted', average, warn_for)\n"
     ]
    },
    {
     "name": "stdout",
     "output_type": "stream",
     "text": [
      "[CV]  n_estimators=822, min_samples_split=10, min_samples_leaf=1, max_features=auto, max_depth=40, bootstrap=True, score=0.6150110408277321, total=   3.0s\n",
      "[CV] n_estimators=1444, min_samples_split=2, min_samples_leaf=8, max_features=auto, max_depth=30, bootstrap=True \n",
      "[CV]  n_estimators=822, min_samples_split=5, min_samples_leaf=1, max_features=auto, max_depth=90, bootstrap=True, score=0.6122241455102411, total=   3.2s\n",
      "[CV] n_estimators=1444, min_samples_split=2, min_samples_leaf=8, max_features=auto, max_depth=30, bootstrap=True \n",
      "[CV]  n_estimators=822, min_samples_split=5, min_samples_leaf=1, max_features=auto, max_depth=90, bootstrap=True, score=0.6317697359913321, total=   3.1s\n",
      "[CV] n_estimators=1444, min_samples_split=2, min_samples_leaf=8, max_features=auto, max_depth=30, bootstrap=True \n",
      "[CV]  n_estimators=822, min_samples_split=5, min_samples_leaf=1, max_features=auto, max_depth=90, bootstrap=True, score=0.7633254885535921, total=   3.2s\n",
      "[CV] n_estimators=2688, min_samples_split=15, min_samples_leaf=1, max_features=auto, max_depth=90, bootstrap=True \n"
     ]
    },
    {
     "name": "stderr",
     "output_type": "stream",
     "text": [
      "/home/rmorse/anaconda3/lib/python3.6/site-packages/sklearn/metrics/classification.py:1135: UndefinedMetricWarning: F-score is ill-defined and being set to 0.0 in labels with no predicted samples.\n",
      "  'precision', 'predicted', average, warn_for)\n"
     ]
    },
    {
     "name": "stdout",
     "output_type": "stream",
     "text": [
      "[CV]  n_estimators=1444, min_samples_split=2, min_samples_leaf=8, max_features=auto, max_depth=30, bootstrap=True, score=0.5087205070181866, total=   4.5s\n",
      "[CV] n_estimators=2688, min_samples_split=15, min_samples_leaf=1, max_features=auto, max_depth=90, bootstrap=True \n"
     ]
    },
    {
     "name": "stderr",
     "output_type": "stream",
     "text": [
      "/home/rmorse/anaconda3/lib/python3.6/site-packages/sklearn/metrics/classification.py:1135: UndefinedMetricWarning: F-score is ill-defined and being set to 0.0 in labels with no predicted samples.\n",
      "  'precision', 'predicted', average, warn_for)\n"
     ]
    },
    {
     "name": "stdout",
     "output_type": "stream",
     "text": [
      "[CV]  n_estimators=1444, min_samples_split=2, min_samples_leaf=8, max_features=auto, max_depth=30, bootstrap=True, score=0.6878674469686058, total=   4.5s\n",
      "[CV] n_estimators=2688, min_samples_split=15, min_samples_leaf=1, max_features=auto, max_depth=90, bootstrap=True \n",
      "[CV]  n_estimators=1444, min_samples_split=2, min_samples_leaf=8, max_features=auto, max_depth=30, bootstrap=True, score=0.48239552735654256, total=   4.4s\n",
      "[CV] n_estimators=3000, min_samples_split=5, min_samples_leaf=4, max_features=sqrt, max_depth=80, bootstrap=True \n"
     ]
    },
    {
     "name": "stderr",
     "output_type": "stream",
     "text": [
      "/home/rmorse/anaconda3/lib/python3.6/site-packages/sklearn/metrics/classification.py:1135: UndefinedMetricWarning: F-score is ill-defined and being set to 0.0 in labels with no predicted samples.\n",
      "  'precision', 'predicted', average, warn_for)\n"
     ]
    },
    {
     "name": "stdout",
     "output_type": "stream",
     "text": [
      "[CV]  n_estimators=2688, min_samples_split=15, min_samples_leaf=1, max_features=auto, max_depth=90, bootstrap=True, score=0.5867027175168674, total=   9.3s\n",
      "[CV] n_estimators=3000, min_samples_split=5, min_samples_leaf=4, max_features=sqrt, max_depth=80, bootstrap=True \n"
     ]
    },
    {
     "name": "stderr",
     "output_type": "stream",
     "text": [
      "/home/rmorse/anaconda3/lib/python3.6/site-packages/sklearn/metrics/classification.py:1135: UndefinedMetricWarning: F-score is ill-defined and being set to 0.0 in labels with no predicted samples.\n",
      "  'precision', 'predicted', average, warn_for)\n"
     ]
    },
    {
     "name": "stdout",
     "output_type": "stream",
     "text": [
      "[CV]  n_estimators=2688, min_samples_split=15, min_samples_leaf=1, max_features=auto, max_depth=90, bootstrap=True, score=0.7275876296171329, total=   9.3s\n",
      "[CV] n_estimators=3000, min_samples_split=5, min_samples_leaf=4, max_features=sqrt, max_depth=80, bootstrap=True \n",
      "[CV]  n_estimators=2688, min_samples_split=15, min_samples_leaf=1, max_features=auto, max_depth=90, bootstrap=True, score=0.5656252271868971, total=   9.4s\n",
      "[CV] n_estimators=2377, min_samples_split=10, min_samples_leaf=1, max_features=sqrt, max_depth=80, bootstrap=False \n",
      "[CV]  n_estimators=3000, min_samples_split=5, min_samples_leaf=4, max_features=sqrt, max_depth=80, bootstrap=True, score=0.601874774781701, total=  10.3s\n",
      "[CV] n_estimators=2377, min_samples_split=10, min_samples_leaf=1, max_features=sqrt, max_depth=80, bootstrap=False \n",
      "[CV]  n_estimators=3000, min_samples_split=5, min_samples_leaf=4, max_features=sqrt, max_depth=80, bootstrap=True, score=0.7425709411180832, total=  10.3s\n",
      "[CV] n_estimators=2377, min_samples_split=10, min_samples_leaf=1, max_features=sqrt, max_depth=80, bootstrap=False \n"
     ]
    },
    {
     "name": "stderr",
     "output_type": "stream",
     "text": [
      "/home/rmorse/anaconda3/lib/python3.6/site-packages/sklearn/metrics/classification.py:1135: UndefinedMetricWarning: F-score is ill-defined and being set to 0.0 in labels with no predicted samples.\n",
      "  'precision', 'predicted', average, warn_for)\n"
     ]
    },
    {
     "name": "stdout",
     "output_type": "stream",
     "text": [
      "[CV]  n_estimators=3000, min_samples_split=5, min_samples_leaf=4, max_features=sqrt, max_depth=80, bootstrap=True, score=0.5755734976907627, total=  10.3s\n",
      "[CV] n_estimators=511, min_samples_split=2, min_samples_leaf=4, max_features=auto, max_depth=90, bootstrap=False \n",
      "[CV]  n_estimators=2377, min_samples_split=10, min_samples_leaf=1, max_features=sqrt, max_depth=80, bootstrap=False, score=0.6204388725410409, total=  12.1s\n",
      "[CV] n_estimators=511, min_samples_split=2, min_samples_leaf=4, max_features=auto, max_depth=90, bootstrap=False \n",
      "[CV]  n_estimators=511, min_samples_split=2, min_samples_leaf=4, max_features=auto, max_depth=90, bootstrap=False, score=0.6145213549154444, total=   2.4s\n",
      "[CV] n_estimators=511, min_samples_split=2, min_samples_leaf=4, max_features=auto, max_depth=90, bootstrap=False \n",
      "[CV]  n_estimators=2377, min_samples_split=10, min_samples_leaf=1, max_features=sqrt, max_depth=80, bootstrap=False, score=0.7685671973504791, total=  12.2s\n",
      "[CV] n_estimators=2688, min_samples_split=2, min_samples_leaf=1, max_features=auto, max_depth=60, bootstrap=True \n",
      "[CV]  n_estimators=511, min_samples_split=2, min_samples_leaf=4, max_features=auto, max_depth=90, bootstrap=False, score=0.7341927133755888, total=   2.4s\n",
      "[CV] n_estimators=2688, min_samples_split=2, min_samples_leaf=1, max_features=auto, max_depth=60, bootstrap=True \n",
      "[CV]  n_estimators=511, min_samples_split=2, min_samples_leaf=4, max_features=auto, max_depth=90, bootstrap=False, score=0.6276137789868107, total=   2.4s\n",
      "[CV] n_estimators=2688, min_samples_split=2, min_samples_leaf=1, max_features=auto, max_depth=60, bootstrap=True \n",
      "[CV]  n_estimators=2377, min_samples_split=10, min_samples_leaf=1, max_features=sqrt, max_depth=80, bootstrap=False, score=0.6364631678526982, total=  11.9s\n",
      "[CV] n_estimators=2377, min_samples_split=15, min_samples_leaf=1, max_features=sqrt, max_depth=60, bootstrap=False \n",
      "[CV]  n_estimators=2688, min_samples_split=2, min_samples_leaf=1, max_features=auto, max_depth=60, bootstrap=True, score=0.6252143890397447, total=  10.7s\n",
      "[CV] n_estimators=2377, min_samples_split=15, min_samples_leaf=1, max_features=sqrt, max_depth=60, bootstrap=False \n",
      "[CV]  n_estimators=2688, min_samples_split=2, min_samples_leaf=1, max_features=auto, max_depth=60, bootstrap=True, score=0.7823868883429711, total=  10.8s\n",
      "[CV] n_estimators=2377, min_samples_split=15, min_samples_leaf=1, max_features=sqrt, max_depth=60, bootstrap=False \n",
      "[CV]  n_estimators=2688, min_samples_split=2, min_samples_leaf=1, max_features=auto, max_depth=60, bootstrap=True, score=0.6362638421775233, total=  10.6s\n",
      "[CV] n_estimators=822, min_samples_split=10, min_samples_leaf=1, max_features=auto, max_depth=110, bootstrap=False \n",
      "[CV]  n_estimators=2377, min_samples_split=15, min_samples_leaf=1, max_features=sqrt, max_depth=60, bootstrap=False, score=0.6288016642563521, total=  11.4s\n",
      "[CV] n_estimators=822, min_samples_split=10, min_samples_leaf=1, max_features=auto, max_depth=110, bootstrap=False \n",
      "[CV]  n_estimators=822, min_samples_split=10, min_samples_leaf=1, max_features=auto, max_depth=110, bootstrap=False, score=0.6049117595854437, total=   4.2s\n",
      "[CV] n_estimators=822, min_samples_split=10, min_samples_leaf=1, max_features=auto, max_depth=110, bootstrap=False \n",
      "[CV]  n_estimators=822, min_samples_split=10, min_samples_leaf=1, max_features=auto, max_depth=110, bootstrap=False, score=0.7665498696309276, total=   4.2s\n",
      "[CV] n_estimators=3000, min_samples_split=15, min_samples_leaf=1, max_features=sqrt, max_depth=40, bootstrap=False \n",
      "[CV]  n_estimators=822, min_samples_split=10, min_samples_leaf=1, max_features=auto, max_depth=110, bootstrap=False, score=0.6313665415204788, total=   4.1s\n",
      "[CV] n_estimators=3000, min_samples_split=15, min_samples_leaf=1, max_features=sqrt, max_depth=40, bootstrap=False \n",
      "[CV]  n_estimators=2377, min_samples_split=15, min_samples_leaf=1, max_features=sqrt, max_depth=60, bootstrap=False, score=0.739766975784495, total=  11.6s\n",
      "[CV] n_estimators=3000, min_samples_split=15, min_samples_leaf=1, max_features=sqrt, max_depth=40, bootstrap=False \n",
      "[CV]  n_estimators=2377, min_samples_split=15, min_samples_leaf=1, max_features=sqrt, max_depth=60, bootstrap=False, score=0.6076125744974263, total=  11.3s\n",
      "[CV] n_estimators=2688, min_samples_split=5, min_samples_leaf=2, max_features=sqrt, max_depth=20, bootstrap=True \n",
      "[CV]  n_estimators=2688, min_samples_split=5, min_samples_leaf=2, max_features=sqrt, max_depth=20, bootstrap=True, score=0.6118943998677971, total=  10.0s\n",
      "[CV] n_estimators=2688, min_samples_split=5, min_samples_leaf=2, max_features=sqrt, max_depth=20, bootstrap=True \n",
      "[CV]  n_estimators=3000, min_samples_split=15, min_samples_leaf=1, max_features=sqrt, max_depth=40, bootstrap=False, score=0.6248771696140117, total=  14.4s\n",
      "[CV] n_estimators=2688, min_samples_split=5, min_samples_leaf=2, max_features=sqrt, max_depth=20, bootstrap=True \n",
      "[CV]  n_estimators=3000, min_samples_split=15, min_samples_leaf=1, max_features=sqrt, max_depth=40, bootstrap=False, score=0.7448678648099774, total=  14.6s\n",
      "[CV] n_estimators=3000, min_samples_split=5, min_samples_leaf=4, max_features=sqrt, max_depth=10, bootstrap=False \n",
      "[CV]  n_estimators=3000, min_samples_split=15, min_samples_leaf=1, max_features=sqrt, max_depth=40, bootstrap=False, score=0.610013383889213, total=  14.4s\n",
      "[CV] n_estimators=3000, min_samples_split=5, min_samples_leaf=4, max_features=sqrt, max_depth=10, bootstrap=False \n",
      "[CV]  n_estimators=2688, min_samples_split=5, min_samples_leaf=2, max_features=sqrt, max_depth=20, bootstrap=True, score=0.7620389987644833, total=  10.1s\n",
      "[CV] n_estimators=3000, min_samples_split=5, min_samples_leaf=4, max_features=sqrt, max_depth=10, bootstrap=False \n",
      "[CV]  n_estimators=2688, min_samples_split=5, min_samples_leaf=2, max_features=sqrt, max_depth=20, bootstrap=True, score=0.6136089897097855, total=   9.9s\n",
      "[CV] n_estimators=2066, min_samples_split=5, min_samples_leaf=8, max_features=auto, max_depth=100, bootstrap=True \n",
      "[CV]  n_estimators=3000, min_samples_split=5, min_samples_leaf=4, max_features=sqrt, max_depth=10, bootstrap=False, score=0.608128427967416, total=  14.2s\n",
      "[CV] n_estimators=2066, min_samples_split=5, min_samples_leaf=8, max_features=auto, max_depth=100, bootstrap=True \n"
     ]
    },
    {
     "name": "stderr",
     "output_type": "stream",
     "text": [
      "/home/rmorse/anaconda3/lib/python3.6/site-packages/sklearn/metrics/classification.py:1135: UndefinedMetricWarning: F-score is ill-defined and being set to 0.0 in labels with no predicted samples.\n",
      "  'precision', 'predicted', average, warn_for)\n"
     ]
    },
    {
     "name": "stdout",
     "output_type": "stream",
     "text": [
      "[CV]  n_estimators=3000, min_samples_split=5, min_samples_leaf=4, max_features=sqrt, max_depth=10, bootstrap=False, score=0.7443219370593842, total=  14.0s\n",
      "[CV] n_estimators=2066, min_samples_split=5, min_samples_leaf=8, max_features=auto, max_depth=100, bootstrap=True \n",
      "[CV]  n_estimators=2066, min_samples_split=5, min_samples_leaf=8, max_features=auto, max_depth=100, bootstrap=True, score=0.5333430191055938, total=   6.4s\n",
      "[CV] n_estimators=822, min_samples_split=10, min_samples_leaf=4, max_features=sqrt, max_depth=70, bootstrap=False \n",
      "[CV]  n_estimators=822, min_samples_split=10, min_samples_leaf=4, max_features=sqrt, max_depth=70, bootstrap=False, score=0.6099222144426486, total=   3.8s\n",
      "[CV] n_estimators=822, min_samples_split=10, min_samples_leaf=4, max_features=sqrt, max_depth=70, bootstrap=False \n",
      "[CV]  n_estimators=2066, min_samples_split=5, min_samples_leaf=8, max_features=auto, max_depth=100, bootstrap=True, score=0.6937604501823564, total=   6.4s\n",
      "[CV] n_estimators=822, min_samples_split=10, min_samples_leaf=4, max_features=sqrt, max_depth=70, bootstrap=False \n"
     ]
    },
    {
     "name": "stderr",
     "output_type": "stream",
     "text": [
      "/home/rmorse/anaconda3/lib/python3.6/site-packages/sklearn/metrics/classification.py:1135: UndefinedMetricWarning: F-score is ill-defined and being set to 0.0 in labels with no predicted samples.\n",
      "  'precision', 'predicted', average, warn_for)\n"
     ]
    },
    {
     "name": "stdout",
     "output_type": "stream",
     "text": [
      "[CV]  n_estimators=2066, min_samples_split=5, min_samples_leaf=8, max_features=auto, max_depth=100, bootstrap=True, score=0.49365481832148506, total=   6.4s\n",
      "[CV] n_estimators=1444, min_samples_split=15, min_samples_leaf=1, max_features=auto, max_depth=90, bootstrap=True \n",
      "[CV]  n_estimators=3000, min_samples_split=5, min_samples_leaf=4, max_features=sqrt, max_depth=10, bootstrap=False, score=0.6307610319174795, total=  13.9s\n",
      "[CV] n_estimators=1444, min_samples_split=15, min_samples_leaf=1, max_features=auto, max_depth=90, bootstrap=True \n",
      "[CV]  n_estimators=822, min_samples_split=10, min_samples_leaf=4, max_features=sqrt, max_depth=70, bootstrap=False, score=0.7582715054084811, total=   3.8s\n",
      "[CV] n_estimators=1444, min_samples_split=15, min_samples_leaf=1, max_features=auto, max_depth=90, bootstrap=True \n",
      "[CV]  n_estimators=822, min_samples_split=10, min_samples_leaf=4, max_features=sqrt, max_depth=70, bootstrap=False, score=0.6202117659393055, total=   3.8s\n",
      "[CV] n_estimators=200, min_samples_split=10, min_samples_leaf=4, max_features=auto, max_depth=10, bootstrap=False \n",
      "[CV]  n_estimators=200, min_samples_split=10, min_samples_leaf=4, max_features=auto, max_depth=10, bootstrap=False, score=0.587122089210687, total=   0.9s\n",
      "[CV] n_estimators=200, min_samples_split=10, min_samples_leaf=4, max_features=auto, max_depth=10, bootstrap=False \n",
      "[CV]  n_estimators=200, min_samples_split=10, min_samples_leaf=4, max_features=auto, max_depth=10, bootstrap=False, score=0.7569691266984896, total=   0.9s\n",
      "[CV] n_estimators=200, min_samples_split=10, min_samples_leaf=4, max_features=auto, max_depth=10, bootstrap=False \n"
     ]
    },
    {
     "name": "stderr",
     "output_type": "stream",
     "text": [
      "/home/rmorse/anaconda3/lib/python3.6/site-packages/sklearn/metrics/classification.py:1135: UndefinedMetricWarning: F-score is ill-defined and being set to 0.0 in labels with no predicted samples.\n",
      "  'precision', 'predicted', average, warn_for)\n"
     ]
    },
    {
     "name": "stdout",
     "output_type": "stream",
     "text": [
      "[CV]  n_estimators=200, min_samples_split=10, min_samples_leaf=4, max_features=auto, max_depth=10, bootstrap=False, score=0.6001708492638993, total=   0.9s\n",
      "[CV]  n_estimators=1444, min_samples_split=15, min_samples_leaf=1, max_features=auto, max_depth=90, bootstrap=True, score=0.5797726762638336, total=   5.1s\n",
      "[CV]  n_estimators=1444, min_samples_split=15, min_samples_leaf=1, max_features=auto, max_depth=90, bootstrap=True, score=0.7141813511840103, total=   5.1s\n"
     ]
    },
    {
     "name": "stderr",
     "output_type": "stream",
     "text": [
      "/home/rmorse/anaconda3/lib/python3.6/site-packages/sklearn/metrics/classification.py:1135: UndefinedMetricWarning: F-score is ill-defined and being set to 0.0 in labels with no predicted samples.\n",
      "  'precision', 'predicted', average, warn_for)\n"
     ]
    },
    {
     "name": "stdout",
     "output_type": "stream",
     "text": [
      "[CV]  n_estimators=1444, min_samples_split=15, min_samples_leaf=1, max_features=auto, max_depth=90, bootstrap=True, score=0.5634743606958047, total=   4.9s\n"
     ]
    },
    {
     "name": "stderr",
     "output_type": "stream",
     "text": [
      "[Parallel(n_jobs=-1)]: Done 600 out of 600 | elapsed: 18.1min finished\n"
     ]
    },
    {
     "name": "stdout",
     "output_type": "stream",
     "text": [
      "{'n_estimators': 1755, 'min_samples_split': 2, 'min_samples_leaf': 1, 'max_features': 'auto', 'max_depth': 100, 'bootstrap': True}\n"
     ]
    },
    {
     "ename": "NameError",
     "evalue": "name 'mistake' is not defined",
     "output_type": "error",
     "traceback": [
      "\u001b[0;31m---------------------------------------------------------------------------\u001b[0m",
      "\u001b[0;31mNameError\u001b[0m                                 Traceback (most recent call last)",
      "\u001b[0;32m<timed exec>\u001b[0m in \u001b[0;36m<module>\u001b[0;34m()\u001b[0m\n",
      "\u001b[0;31mNameError\u001b[0m: name 'mistake' is not defined"
     ]
    }
   ],
   "source": [
    "%%time\n",
    "if grid_search:\n",
    "    esti = RandomForestClassifier()\n",
    "\n",
    "\n",
    "    \n",
    "    n_estimators = [int(x) for x in np.linspace(start = 200, stop = 3000, num = 10)]\n",
    "    max_features = ['auto', 'sqrt']\n",
    "    max_depth = [int(x) for x in np.linspace(10, 110, num = 11)]\n",
    "    min_samples_split = [2, 5, 10, 15]\n",
    "    min_samples_leaf = [1, 2, 4, 8]\n",
    "    bootstrap = [True, False]\n",
    "    \n",
    "    \n",
    "    random_grid = {'n_estimators': n_estimators,\n",
    "               'max_features': max_features,\n",
    "               'max_depth': max_depth,\n",
    "               'min_samples_split': min_samples_split,\n",
    "               'min_samples_leaf': min_samples_leaf,\n",
    "               'bootstrap': bootstrap}\n",
    "    \n",
    "    clf = RandomizedSearchCV(estimator = esti, n_iter=200, param_distributions = random_grid,\n",
    "                              n_jobs=-1, scoring='f1_macro', cv = 3, verbose=3, \n",
    "                              random_state = random_seed_state)\n",
    "    \n",
    "    clf.fit(X, y)\n",
    "    print(clf.best_params_)\n",
    "    mistake"
   ]
  },
  {
   "cell_type": "markdown",
   "metadata": {},
   "source": [
    "The best paramaters from the randomised grid search were the following:\n",
    "{'n_estimators': 1755, 'min_samples_split': 2, 'min_samples_leaf': 1, 'max_features': 'auto', 'max_depth': 100, 'bootstrap': True}\n",
    "\n",
    "randomised grid search took ~18 mins for 600 fits"
   ]
  },
  {
   "cell_type": "code",
   "execution_count": 39,
   "metadata": {},
   "outputs": [
    {
     "name": "stdout",
     "output_type": "stream",
     "text": [
      "Fitting 3 folds for each of 81 candidates, totalling 243 fits\n",
      "[CV] max_depth=80, min_samples_leaf=1, min_samples_split=2, n_estimators=1600 \n",
      "[CV] max_depth=80, min_samples_leaf=1, min_samples_split=2, n_estimators=1600 \n",
      "[CV] max_depth=80, min_samples_leaf=1, min_samples_split=2, n_estimators=1600 \n",
      "[CV] max_depth=80, min_samples_leaf=1, min_samples_split=2, n_estimators=1700 \n",
      "[CV]  max_depth=80, min_samples_leaf=1, min_samples_split=2, n_estimators=1600, score=0.6497736196086396, total=   6.3s\n",
      "[CV] max_depth=80, min_samples_leaf=1, min_samples_split=2, n_estimators=1700 \n",
      "[CV]  max_depth=80, min_samples_leaf=1, min_samples_split=2, n_estimators=1600, score=0.6236455966889511, total=   6.4s\n",
      "[CV] max_depth=80, min_samples_leaf=1, min_samples_split=2, n_estimators=1700 \n",
      "[CV]  max_depth=80, min_samples_leaf=1, min_samples_split=2, n_estimators=1600, score=0.7657550635492189, total=   6.4s\n",
      "[CV] max_depth=80, min_samples_leaf=1, min_samples_split=2, n_estimators=1800 \n",
      "[CV]  max_depth=80, min_samples_leaf=1, min_samples_split=2, n_estimators=1700, score=0.6235219802233374, total=   6.8s\n",
      "[CV] max_depth=80, min_samples_leaf=1, min_samples_split=2, n_estimators=1800 \n",
      "[CV]  max_depth=80, min_samples_leaf=1, min_samples_split=2, n_estimators=1700, score=0.6469354786749322, total=   6.7s\n",
      "[CV] max_depth=80, min_samples_leaf=1, min_samples_split=2, n_estimators=1800 \n",
      "[CV]  max_depth=80, min_samples_leaf=1, min_samples_split=2, n_estimators=1700, score=0.7688629927137742, total=   6.8s\n",
      "[CV] max_depth=80, min_samples_leaf=1, min_samples_split=3, n_estimators=1600 \n",
      "[CV]  max_depth=80, min_samples_leaf=1, min_samples_split=2, n_estimators=1800, score=0.6306875764683906, total=   7.2s\n",
      "[CV] max_depth=80, min_samples_leaf=1, min_samples_split=3, n_estimators=1600 \n",
      "[CV]  max_depth=80, min_samples_leaf=1, min_samples_split=2, n_estimators=1800, score=0.778904059989052, total=   7.2s\n",
      "[CV] max_depth=80, min_samples_leaf=1, min_samples_split=3, n_estimators=1600 \n",
      "[CV]  max_depth=80, min_samples_leaf=1, min_samples_split=3, n_estimators=1600, score=0.6190386596601826, total=   6.3s\n",
      "[CV] max_depth=80, min_samples_leaf=1, min_samples_split=3, n_estimators=1700 \n",
      "[CV]  max_depth=80, min_samples_leaf=1, min_samples_split=3, n_estimators=1600, score=0.770465560676219, total=   6.4s\n",
      "[CV] max_depth=80, min_samples_leaf=1, min_samples_split=3, n_estimators=1700 \n",
      "[CV]  max_depth=80, min_samples_leaf=1, min_samples_split=2, n_estimators=1800, score=0.6520208512873481, total=   7.1s\n",
      "[CV] max_depth=80, min_samples_leaf=1, min_samples_split=3, n_estimators=1700 \n",
      "[CV]  max_depth=80, min_samples_leaf=1, min_samples_split=3, n_estimators=1600, score=0.6296052846593585, total=   6.2s\n",
      "[CV] max_depth=80, min_samples_leaf=1, min_samples_split=3, n_estimators=1800 \n",
      "[CV]  max_depth=80, min_samples_leaf=1, min_samples_split=3, n_estimators=1700, score=0.6207221985444895, total=   6.6s\n",
      "[CV] max_depth=80, min_samples_leaf=1, min_samples_split=3, n_estimators=1800 \n",
      "[CV]  max_depth=80, min_samples_leaf=1, min_samples_split=3, n_estimators=1700, score=0.784310441365607, total=   6.7s\n",
      "[CV] max_depth=80, min_samples_leaf=1, min_samples_split=3, n_estimators=1800 \n",
      "[CV]  max_depth=80, min_samples_leaf=1, min_samples_split=3, n_estimators=1700, score=0.6357098274788316, total=   6.6s\n",
      "[CV] max_depth=80, min_samples_leaf=1, min_samples_split=4, n_estimators=1600 \n",
      "[CV]  max_depth=80, min_samples_leaf=1, min_samples_split=3, n_estimators=1800, score=0.6196511595417797, total=   7.0s\n",
      "[CV] max_depth=80, min_samples_leaf=1, min_samples_split=4, n_estimators=1600 \n",
      "[CV]  max_depth=80, min_samples_leaf=1, min_samples_split=4, n_estimators=1600, score=0.623004231624222, total=   6.3s\n",
      "[CV] max_depth=80, min_samples_leaf=1, min_samples_split=4, n_estimators=1600 \n",
      "[CV]  max_depth=80, min_samples_leaf=1, min_samples_split=3, n_estimators=1800, score=0.7722164486835291, total=   7.2s\n",
      "[CV] max_depth=80, min_samples_leaf=1, min_samples_split=4, n_estimators=1700 \n",
      "[CV]  max_depth=80, min_samples_leaf=1, min_samples_split=4, n_estimators=1600, score=0.770618420720188, total=   6.3s\n",
      "[CV] max_depth=80, min_samples_leaf=1, min_samples_split=4, n_estimators=1700 \n",
      "[CV]  max_depth=80, min_samples_leaf=1, min_samples_split=3, n_estimators=1800, score=0.6415021247597704, total=   7.1s\n",
      "[CV] max_depth=80, min_samples_leaf=1, min_samples_split=4, n_estimators=1700 \n",
      "[CV]  max_depth=80, min_samples_leaf=1, min_samples_split=4, n_estimators=1600, score=0.6427110439958073, total=   6.3s\n",
      "[CV] max_depth=80, min_samples_leaf=1, min_samples_split=4, n_estimators=1800 \n",
      "[CV]  max_depth=80, min_samples_leaf=1, min_samples_split=4, n_estimators=1700, score=0.6227826921997761, total=   6.8s\n",
      "[CV] max_depth=80, min_samples_leaf=1, min_samples_split=4, n_estimators=1800 \n",
      "[CV]  max_depth=80, min_samples_leaf=1, min_samples_split=4, n_estimators=1700, score=0.76753145960604, total=   6.8s\n",
      "[CV] max_depth=80, min_samples_leaf=1, min_samples_split=4, n_estimators=1800 \n",
      "[CV]  max_depth=80, min_samples_leaf=1, min_samples_split=4, n_estimators=1700, score=0.633056313354118, total=   6.8s\n",
      "[CV] max_depth=80, min_samples_leaf=2, min_samples_split=2, n_estimators=1600 \n"
     ]
    },
    {
     "name": "stderr",
     "output_type": "stream",
     "text": [
      "[Parallel(n_jobs=-1)]: Done  24 tasks      | elapsed:   43.6s\n"
     ]
    },
    {
     "name": "stdout",
     "output_type": "stream",
     "text": [
      "[CV]  max_depth=80, min_samples_leaf=1, min_samples_split=4, n_estimators=1800, score=0.6345753363286855, total=   7.0s\n",
      "[CV] max_depth=80, min_samples_leaf=2, min_samples_split=2, n_estimators=1600 \n",
      "[CV]  max_depth=80, min_samples_leaf=2, min_samples_split=2, n_estimators=1600, score=0.6151601614480872, total=   6.0s\n",
      "[CV] max_depth=80, min_samples_leaf=2, min_samples_split=2, n_estimators=1600 \n",
      "[CV]  max_depth=80, min_samples_leaf=1, min_samples_split=4, n_estimators=1800, score=0.773448121358634, total=   7.1s\n",
      "[CV] max_depth=80, min_samples_leaf=2, min_samples_split=2, n_estimators=1700 \n",
      "[CV]  max_depth=80, min_samples_leaf=1, min_samples_split=4, n_estimators=1800, score=0.6410040943705737, total=   7.0s\n",
      "[CV] max_depth=80, min_samples_leaf=2, min_samples_split=2, n_estimators=1700 \n",
      "[CV]  max_depth=80, min_samples_leaf=2, min_samples_split=2, n_estimators=1600, score=0.769831003463399, total=   6.0s\n",
      "[CV] max_depth=80, min_samples_leaf=2, min_samples_split=2, n_estimators=1700 \n",
      "[CV]  max_depth=80, min_samples_leaf=2, min_samples_split=2, n_estimators=1600, score=0.623835693889315, total=   5.9s\n",
      "[CV] max_depth=80, min_samples_leaf=2, min_samples_split=2, n_estimators=1800 \n",
      "[CV]  max_depth=80, min_samples_leaf=2, min_samples_split=2, n_estimators=1700, score=0.6283393017456521, total=   6.3s\n",
      "[CV] max_depth=80, min_samples_leaf=2, min_samples_split=2, n_estimators=1800 \n",
      "[CV]  max_depth=80, min_samples_leaf=2, min_samples_split=2, n_estimators=1700, score=0.7639727806900161, total=   6.4s\n",
      "[CV] max_depth=80, min_samples_leaf=2, min_samples_split=2, n_estimators=1800 \n",
      "[CV]  max_depth=80, min_samples_leaf=2, min_samples_split=2, n_estimators=1700, score=0.6302866607193905, total=   6.3s\n",
      "[CV] max_depth=80, min_samples_leaf=2, min_samples_split=3, n_estimators=1600 \n",
      "[CV]  max_depth=80, min_samples_leaf=2, min_samples_split=2, n_estimators=1800, score=0.6161965546825583, total=   6.7s\n",
      "[CV] max_depth=80, min_samples_leaf=2, min_samples_split=3, n_estimators=1600 \n",
      "[CV]  max_depth=80, min_samples_leaf=2, min_samples_split=2, n_estimators=1800, score=0.7710871353644729, total=   6.8s\n",
      "[CV] max_depth=80, min_samples_leaf=2, min_samples_split=3, n_estimators=1600 \n",
      "[CV]  max_depth=80, min_samples_leaf=2, min_samples_split=2, n_estimators=1800, score=0.624608943042433, total=   6.7s\n",
      "[CV] max_depth=80, min_samples_leaf=2, min_samples_split=3, n_estimators=1700 \n",
      "[CV]  max_depth=80, min_samples_leaf=2, min_samples_split=3, n_estimators=1600, score=0.6184229583068336, total=   6.0s\n",
      "[CV] max_depth=80, min_samples_leaf=2, min_samples_split=3, n_estimators=1700 \n",
      "[CV]  max_depth=80, min_samples_leaf=2, min_samples_split=3, n_estimators=1600, score=0.7715242511665639, total=   6.1s\n",
      "[CV] max_depth=80, min_samples_leaf=2, min_samples_split=3, n_estimators=1700 \n",
      "[CV]  max_depth=80, min_samples_leaf=2, min_samples_split=3, n_estimators=1600, score=0.6351214459080652, total=   5.9s\n",
      "[CV] max_depth=80, min_samples_leaf=2, min_samples_split=3, n_estimators=1800 \n",
      "[CV]  max_depth=80, min_samples_leaf=2, min_samples_split=3, n_estimators=1700, score=0.6315948062260706, total=   6.3s\n",
      "[CV] max_depth=80, min_samples_leaf=2, min_samples_split=3, n_estimators=1800 \n",
      "[CV]  max_depth=80, min_samples_leaf=2, min_samples_split=3, n_estimators=1700, score=0.7726505557216887, total=   6.4s\n",
      "[CV] max_depth=80, min_samples_leaf=2, min_samples_split=3, n_estimators=1800 \n",
      "[CV]  max_depth=80, min_samples_leaf=2, min_samples_split=3, n_estimators=1700, score=0.6307594875993289, total=   6.4s\n",
      "[CV] max_depth=80, min_samples_leaf=2, min_samples_split=4, n_estimators=1600 \n",
      "[CV]  max_depth=80, min_samples_leaf=2, min_samples_split=3, n_estimators=1800, score=0.6168762068724627, total=   6.7s\n",
      "[CV] max_depth=80, min_samples_leaf=2, min_samples_split=4, n_estimators=1600 \n",
      "[CV]  max_depth=80, min_samples_leaf=2, min_samples_split=3, n_estimators=1800, score=0.7675684177076257, total=   6.8s\n",
      "[CV] max_depth=80, min_samples_leaf=2, min_samples_split=4, n_estimators=1600 \n",
      "[CV]  max_depth=80, min_samples_leaf=2, min_samples_split=4, n_estimators=1600, score=0.6237419960784744, total=   6.1s\n",
      "[CV] max_depth=80, min_samples_leaf=2, min_samples_split=4, n_estimators=1700 \n",
      "[CV]  max_depth=80, min_samples_leaf=2, min_samples_split=3, n_estimators=1800, score=0.64550942491661, total=   6.7s\n",
      "[CV] max_depth=80, min_samples_leaf=2, min_samples_split=4, n_estimators=1700 \n",
      "[CV]  max_depth=80, min_samples_leaf=2, min_samples_split=4, n_estimators=1600, score=0.7623856882886335, total=   6.0s\n",
      "[CV] max_depth=80, min_samples_leaf=2, min_samples_split=4, n_estimators=1700 \n",
      "[CV]  max_depth=80, min_samples_leaf=2, min_samples_split=4, n_estimators=1600, score=0.6433213147828277, total=   6.0s\n",
      "[CV] max_depth=80, min_samples_leaf=2, min_samples_split=4, n_estimators=1800 \n",
      "[CV]  max_depth=80, min_samples_leaf=2, min_samples_split=4, n_estimators=1700, score=0.6192596656693394, total=   6.4s\n",
      "[CV] max_depth=80, min_samples_leaf=2, min_samples_split=4, n_estimators=1800 \n",
      "[CV]  max_depth=80, min_samples_leaf=2, min_samples_split=4, n_estimators=1700, score=0.7480444970547515, total=   6.4s\n",
      "[CV] max_depth=80, min_samples_leaf=2, min_samples_split=4, n_estimators=1800 \n",
      "[CV]  max_depth=80, min_samples_leaf=2, min_samples_split=4, n_estimators=1700, score=0.6219614711293052, total=   6.3s\n",
      "[CV] max_depth=80, min_samples_leaf=3, min_samples_split=2, n_estimators=1600 \n",
      "[CV]  max_depth=80, min_samples_leaf=2, min_samples_split=4, n_estimators=1800, score=0.619853544247036, total=   6.8s\n",
      "[CV] max_depth=80, min_samples_leaf=3, min_samples_split=2, n_estimators=1600 \n",
      "[CV]  max_depth=80, min_samples_leaf=2, min_samples_split=4, n_estimators=1800, score=0.7644527238483332, total=   6.8s\n",
      "[CV] max_depth=80, min_samples_leaf=3, min_samples_split=2, n_estimators=1600 \n",
      "[CV]  max_depth=80, min_samples_leaf=3, min_samples_split=2, n_estimators=1600, score=0.6065554676960226, total=   5.7s\n",
      "[CV] max_depth=80, min_samples_leaf=3, min_samples_split=2, n_estimators=1700 \n",
      "[CV]  max_depth=80, min_samples_leaf=2, min_samples_split=4, n_estimators=1800, score=0.6310660848526615, total=   7.0s\n",
      "[CV] max_depth=80, min_samples_leaf=3, min_samples_split=2, n_estimators=1700 \n",
      "[CV]  max_depth=80, min_samples_leaf=3, min_samples_split=2, n_estimators=1600, score=0.7579081105449209, total=   5.7s\n",
      "[CV] max_depth=80, min_samples_leaf=3, min_samples_split=2, n_estimators=1700 \n"
     ]
    },
    {
     "name": "stderr",
     "output_type": "stream",
     "text": [
      "/home/rmorse/anaconda3/lib/python3.6/site-packages/sklearn/metrics/classification.py:1135: UndefinedMetricWarning: F-score is ill-defined and being set to 0.0 in labels with no predicted samples.\n",
      "  'precision', 'predicted', average, warn_for)\n"
     ]
    },
    {
     "name": "stdout",
     "output_type": "stream",
     "text": [
      "[CV]  max_depth=80, min_samples_leaf=3, min_samples_split=2, n_estimators=1600, score=0.6020296624513564, total=   5.8s\n",
      "[CV] max_depth=80, min_samples_leaf=3, min_samples_split=2, n_estimators=1800 \n",
      "[CV]  max_depth=80, min_samples_leaf=3, min_samples_split=2, n_estimators=1700, score=0.6027304622154611, total=   6.1s\n",
      "[CV] max_depth=80, min_samples_leaf=3, min_samples_split=2, n_estimators=1800 \n",
      "[CV]  max_depth=80, min_samples_leaf=3, min_samples_split=2, n_estimators=1700, score=0.7629745107741743, total=   6.2s\n",
      "[CV] max_depth=80, min_samples_leaf=3, min_samples_split=2, n_estimators=1800 \n"
     ]
    },
    {
     "name": "stderr",
     "output_type": "stream",
     "text": [
      "/home/rmorse/anaconda3/lib/python3.6/site-packages/sklearn/metrics/classification.py:1135: UndefinedMetricWarning: F-score is ill-defined and being set to 0.0 in labels with no predicted samples.\n",
      "  'precision', 'predicted', average, warn_for)\n"
     ]
    },
    {
     "name": "stdout",
     "output_type": "stream",
     "text": [
      "[CV]  max_depth=80, min_samples_leaf=3, min_samples_split=2, n_estimators=1700, score=0.6158990095988806, total=   6.1s\n",
      "[CV] max_depth=80, min_samples_leaf=3, min_samples_split=3, n_estimators=1600 \n",
      "[CV]  max_depth=80, min_samples_leaf=3, min_samples_split=2, n_estimators=1800, score=0.6091311112137155, total=   6.5s\n",
      "[CV] max_depth=80, min_samples_leaf=3, min_samples_split=3, n_estimators=1600 \n",
      "[CV]  max_depth=80, min_samples_leaf=3, min_samples_split=2, n_estimators=1800, score=0.7518421390418888, total=   6.5s\n",
      "[CV] max_depth=80, min_samples_leaf=3, min_samples_split=3, n_estimators=1600 \n",
      "[CV]  max_depth=80, min_samples_leaf=3, min_samples_split=2, n_estimators=1800, score=0.6234510908305976, total=   6.4s\n",
      "[CV] max_depth=80, min_samples_leaf=3, min_samples_split=3, n_estimators=1700 \n",
      "[CV]  max_depth=80, min_samples_leaf=3, min_samples_split=3, n_estimators=1600, score=0.6093956739475831, total=   5.7s\n",
      "[CV] max_depth=80, min_samples_leaf=3, min_samples_split=3, n_estimators=1700 \n"
     ]
    },
    {
     "name": "stderr",
     "output_type": "stream",
     "text": [
      "/home/rmorse/anaconda3/lib/python3.6/site-packages/sklearn/metrics/classification.py:1135: UndefinedMetricWarning: F-score is ill-defined and being set to 0.0 in labels with no predicted samples.\n",
      "  'precision', 'predicted', average, warn_for)\n"
     ]
    },
    {
     "name": "stdout",
     "output_type": "stream",
     "text": [
      "[CV]  max_depth=80, min_samples_leaf=3, min_samples_split=3, n_estimators=1600, score=0.7517018548772191, total=   5.8s\n",
      "[CV] max_depth=80, min_samples_leaf=3, min_samples_split=3, n_estimators=1700 \n",
      "[CV]  max_depth=80, min_samples_leaf=3, min_samples_split=3, n_estimators=1600, score=0.6034809796708089, total=   5.7s\n",
      "[CV] max_depth=80, min_samples_leaf=3, min_samples_split=3, n_estimators=1800 \n",
      "[CV]  max_depth=80, min_samples_leaf=3, min_samples_split=3, n_estimators=1700, score=0.7556028506274857, total=   6.1s\n",
      "[CV] max_depth=80, min_samples_leaf=3, min_samples_split=3, n_estimators=1800 \n",
      "[CV]  max_depth=80, min_samples_leaf=3, min_samples_split=3, n_estimators=1700, score=0.6058556317652216, total=   6.1s\n",
      "[CV] max_depth=80, min_samples_leaf=3, min_samples_split=3, n_estimators=1800 \n"
     ]
    },
    {
     "name": "stderr",
     "output_type": "stream",
     "text": [
      "/home/rmorse/anaconda3/lib/python3.6/site-packages/sklearn/metrics/classification.py:1135: UndefinedMetricWarning: F-score is ill-defined and being set to 0.0 in labels with no predicted samples.\n",
      "  'precision', 'predicted', average, warn_for)\n"
     ]
    },
    {
     "name": "stdout",
     "output_type": "stream",
     "text": [
      "[CV]  max_depth=80, min_samples_leaf=3, min_samples_split=3, n_estimators=1700, score=0.5983278687804331, total=   6.1s\n",
      "[CV] max_depth=80, min_samples_leaf=3, min_samples_split=4, n_estimators=1600 \n",
      "[CV]  max_depth=80, min_samples_leaf=3, min_samples_split=3, n_estimators=1800, score=0.6078938030583216, total=   6.4s\n",
      "[CV] max_depth=80, min_samples_leaf=3, min_samples_split=4, n_estimators=1600 \n",
      "[CV]  max_depth=80, min_samples_leaf=3, min_samples_split=3, n_estimators=1800, score=0.7616441554610147, total=   6.4s\n",
      "[CV] max_depth=80, min_samples_leaf=3, min_samples_split=4, n_estimators=1600 \n",
      "[CV]  max_depth=80, min_samples_leaf=3, min_samples_split=3, n_estimators=1800, score=0.620071111957244, total=   6.4s\n",
      "[CV] max_depth=80, min_samples_leaf=3, min_samples_split=4, n_estimators=1700 \n",
      "[CV]  max_depth=80, min_samples_leaf=3, min_samples_split=4, n_estimators=1600, score=0.6115199784532005, total=   5.7s\n",
      "[CV] max_depth=80, min_samples_leaf=3, min_samples_split=4, n_estimators=1700 \n",
      "[CV]  max_depth=80, min_samples_leaf=3, min_samples_split=4, n_estimators=1600, score=0.752359649314608, total=   5.7s\n",
      "[CV] max_depth=80, min_samples_leaf=3, min_samples_split=4, n_estimators=1700 \n"
     ]
    },
    {
     "name": "stderr",
     "output_type": "stream",
     "text": [
      "/home/rmorse/anaconda3/lib/python3.6/site-packages/sklearn/metrics/classification.py:1135: UndefinedMetricWarning: F-score is ill-defined and being set to 0.0 in labels with no predicted samples.\n",
      "  'precision', 'predicted', average, warn_for)\n"
     ]
    },
    {
     "name": "stdout",
     "output_type": "stream",
     "text": [
      "[CV]  max_depth=80, min_samples_leaf=3, min_samples_split=4, n_estimators=1600, score=0.5887348694018154, total=   5.6s\n",
      "[CV] max_depth=80, min_samples_leaf=3, min_samples_split=4, n_estimators=1800 \n",
      "[CV]  max_depth=80, min_samples_leaf=3, min_samples_split=4, n_estimators=1700, score=0.6102837454258261, total=   6.1s\n",
      "[CV] max_depth=80, min_samples_leaf=3, min_samples_split=4, n_estimators=1800 \n",
      "[CV]  max_depth=80, min_samples_leaf=3, min_samples_split=4, n_estimators=1700, score=0.7568509316539525, total=   6.1s\n",
      "[CV] max_depth=80, min_samples_leaf=3, min_samples_split=4, n_estimators=1800 \n"
     ]
    },
    {
     "name": "stderr",
     "output_type": "stream",
     "text": [
      "/home/rmorse/anaconda3/lib/python3.6/site-packages/sklearn/metrics/classification.py:1135: UndefinedMetricWarning: F-score is ill-defined and being set to 0.0 in labels with no predicted samples.\n",
      "  'precision', 'predicted', average, warn_for)\n"
     ]
    },
    {
     "name": "stdout",
     "output_type": "stream",
     "text": [
      "[CV]  max_depth=80, min_samples_leaf=3, min_samples_split=4, n_estimators=1700, score=0.6016177196449978, total=   6.0s\n",
      "[CV] max_depth=100, min_samples_leaf=1, min_samples_split=2, n_estimators=1600 \n",
      "[CV]  max_depth=80, min_samples_leaf=3, min_samples_split=4, n_estimators=1800, score=0.6051120491695957, total=   6.4s\n",
      "[CV] max_depth=100, min_samples_leaf=1, min_samples_split=2, n_estimators=1600 \n",
      "[CV]  max_depth=80, min_samples_leaf=3, min_samples_split=4, n_estimators=1800, score=0.7508266637558255, total=   6.4s\n",
      "[CV] max_depth=100, min_samples_leaf=1, min_samples_split=2, n_estimators=1600 \n"
     ]
    },
    {
     "name": "stderr",
     "output_type": "stream",
     "text": [
      "/home/rmorse/anaconda3/lib/python3.6/site-packages/sklearn/metrics/classification.py:1135: UndefinedMetricWarning: F-score is ill-defined and being set to 0.0 in labels with no predicted samples.\n",
      "  'precision', 'predicted', average, warn_for)\n"
     ]
    },
    {
     "name": "stdout",
     "output_type": "stream",
     "text": [
      "[CV]  max_depth=80, min_samples_leaf=3, min_samples_split=4, n_estimators=1800, score=0.6040193046799631, total=   6.4s\n",
      "[CV] max_depth=100, min_samples_leaf=1, min_samples_split=2, n_estimators=1700 \n",
      "[CV]  max_depth=100, min_samples_leaf=1, min_samples_split=2, n_estimators=1600, score=0.6311455737841242, total=   6.3s\n",
      "[CV] max_depth=100, min_samples_leaf=1, min_samples_split=2, n_estimators=1700 \n",
      "[CV]  max_depth=100, min_samples_leaf=1, min_samples_split=2, n_estimators=1600, score=0.771472441980526, total=   6.4s\n",
      "[CV] max_depth=100, min_samples_leaf=1, min_samples_split=2, n_estimators=1700 \n",
      "[CV]  max_depth=100, min_samples_leaf=1, min_samples_split=2, n_estimators=1600, score=0.6470303108243207, total=   6.3s\n",
      "[CV] max_depth=100, min_samples_leaf=1, min_samples_split=2, n_estimators=1800 \n",
      "[CV]  max_depth=100, min_samples_leaf=1, min_samples_split=2, n_estimators=1700, score=0.6197679737580701, total=   6.8s\n",
      "[CV] max_depth=100, min_samples_leaf=1, min_samples_split=2, n_estimators=1800 \n",
      "[CV]  max_depth=100, min_samples_leaf=1, min_samples_split=2, n_estimators=1700, score=0.7826583132863273, total=   6.8s\n",
      "[CV] max_depth=100, min_samples_leaf=1, min_samples_split=2, n_estimators=1800 \n",
      "[CV]  max_depth=100, min_samples_leaf=1, min_samples_split=2, n_estimators=1700, score=0.6357226855710025, total=   6.7s\n",
      "[CV] max_depth=100, min_samples_leaf=1, min_samples_split=3, n_estimators=1600 \n",
      "[CV]  max_depth=100, min_samples_leaf=1, min_samples_split=2, n_estimators=1800, score=0.6238861336490102, total=   7.2s\n",
      "[CV] max_depth=100, min_samples_leaf=1, min_samples_split=3, n_estimators=1600 \n",
      "[CV]  max_depth=100, min_samples_leaf=1, min_samples_split=2, n_estimators=1800, score=0.7751686324393205, total=   7.2s\n",
      "[CV] max_depth=100, min_samples_leaf=1, min_samples_split=3, n_estimators=1600 \n",
      "[CV]  max_depth=100, min_samples_leaf=1, min_samples_split=2, n_estimators=1800, score=0.6277312316360244, total=   7.1s\n",
      "[CV] max_depth=100, min_samples_leaf=1, min_samples_split=3, n_estimators=1700 \n",
      "[CV]  max_depth=100, min_samples_leaf=1, min_samples_split=3, n_estimators=1600, score=0.6289520344548171, total=   6.3s\n",
      "[CV] max_depth=100, min_samples_leaf=1, min_samples_split=3, n_estimators=1700 \n",
      "[CV]  max_depth=100, min_samples_leaf=1, min_samples_split=3, n_estimators=1600, score=0.7651102192396558, total=   6.4s\n",
      "[CV] max_depth=100, min_samples_leaf=1, min_samples_split=3, n_estimators=1700 \n",
      "[CV]  max_depth=100, min_samples_leaf=1, min_samples_split=3, n_estimators=1600, score=0.6407250061361296, total=   6.3s\n",
      "[CV] max_depth=100, min_samples_leaf=1, min_samples_split=3, n_estimators=1800 \n",
      "[CV]  max_depth=100, min_samples_leaf=1, min_samples_split=3, n_estimators=1700, score=0.6351126062426063, total=   6.7s\n",
      "[CV] max_depth=100, min_samples_leaf=1, min_samples_split=3, n_estimators=1800 \n",
      "[CV]  max_depth=100, min_samples_leaf=1, min_samples_split=3, n_estimators=1700, score=0.780115032685715, total=   6.7s\n",
      "[CV] max_depth=100, min_samples_leaf=1, min_samples_split=3, n_estimators=1800 \n",
      "[CV]  max_depth=100, min_samples_leaf=1, min_samples_split=3, n_estimators=1700, score=0.6501917568430041, total=   6.7s\n",
      "[CV] max_depth=100, min_samples_leaf=1, min_samples_split=4, n_estimators=1600 \n",
      "[CV]  max_depth=100, min_samples_leaf=1, min_samples_split=3, n_estimators=1800, score=0.6220322177658979, total=   7.1s\n",
      "[CV] max_depth=100, min_samples_leaf=1, min_samples_split=4, n_estimators=1600 \n",
      "[CV]  max_depth=100, min_samples_leaf=1, min_samples_split=3, n_estimators=1800, score=0.6580343082392992, total=   7.0s\n",
      "[CV] max_depth=100, min_samples_leaf=1, min_samples_split=4, n_estimators=1600 \n",
      "[CV]  max_depth=100, min_samples_leaf=1, min_samples_split=3, n_estimators=1800, score=0.7573414709700436, total=   7.1s\n",
      "[CV] max_depth=100, min_samples_leaf=1, min_samples_split=4, n_estimators=1700 \n",
      "[CV]  max_depth=100, min_samples_leaf=1, min_samples_split=4, n_estimators=1600, score=0.6310539602933196, total=   6.2s\n",
      "[CV] max_depth=100, min_samples_leaf=1, min_samples_split=4, n_estimators=1700 \n",
      "[CV]  max_depth=100, min_samples_leaf=1, min_samples_split=4, n_estimators=1600, score=0.7862429420201146, total=   6.2s\n",
      "[CV] max_depth=100, min_samples_leaf=1, min_samples_split=4, n_estimators=1700 \n",
      "[CV]  max_depth=100, min_samples_leaf=1, min_samples_split=4, n_estimators=1600, score=0.6413751955634186, total=   6.1s\n",
      "[CV] max_depth=100, min_samples_leaf=1, min_samples_split=4, n_estimators=1800 \n",
      "[CV]  max_depth=100, min_samples_leaf=1, min_samples_split=4, n_estimators=1700, score=0.6215418546743642, total=   6.6s\n",
      "[CV] max_depth=100, min_samples_leaf=1, min_samples_split=4, n_estimators=1800 \n",
      "[CV]  max_depth=100, min_samples_leaf=1, min_samples_split=4, n_estimators=1700, score=0.7864111750424922, total=   6.6s\n",
      "[CV] max_depth=100, min_samples_leaf=1, min_samples_split=4, n_estimators=1800 \n"
     ]
    },
    {
     "name": "stderr",
     "output_type": "stream",
     "text": [
      "/home/rmorse/anaconda3/lib/python3.6/site-packages/sklearn/metrics/classification.py:1135: UndefinedMetricWarning: F-score is ill-defined and being set to 0.0 in labels with no predicted samples.\n",
      "  'precision', 'predicted', average, warn_for)\n"
     ]
    },
    {
     "name": "stdout",
     "output_type": "stream",
     "text": [
      "[CV]  max_depth=100, min_samples_leaf=1, min_samples_split=4, n_estimators=1700, score=0.6213621746058363, total=   6.6s\n",
      "[CV] max_depth=100, min_samples_leaf=2, min_samples_split=2, n_estimators=1600 \n",
      "[CV]  max_depth=100, min_samples_leaf=1, min_samples_split=4, n_estimators=1800, score=0.6227544258287565, total=   7.0s\n",
      "[CV] max_depth=100, min_samples_leaf=2, min_samples_split=2, n_estimators=1600 \n",
      "[CV]  max_depth=100, min_samples_leaf=1, min_samples_split=4, n_estimators=1800, score=0.7744711762840791, total=   7.1s\n",
      "[CV] max_depth=100, min_samples_leaf=2, min_samples_split=2, n_estimators=1600 \n",
      "[CV]  max_depth=100, min_samples_leaf=1, min_samples_split=4, n_estimators=1800, score=0.6397126955991588, total=   7.0s\n",
      "[CV] max_depth=100, min_samples_leaf=2, min_samples_split=2, n_estimators=1700 \n",
      "[CV]  max_depth=100, min_samples_leaf=2, min_samples_split=2, n_estimators=1600, score=0.6021940751403021, total=   5.9s\n",
      "[CV] max_depth=100, min_samples_leaf=2, min_samples_split=2, n_estimators=1700 \n",
      "[CV]  max_depth=100, min_samples_leaf=2, min_samples_split=2, n_estimators=1600, score=0.7645279571236135, total=   6.0s\n",
      "[CV] max_depth=100, min_samples_leaf=2, min_samples_split=2, n_estimators=1700 \n",
      "[CV]  max_depth=100, min_samples_leaf=2, min_samples_split=2, n_estimators=1600, score=0.625636349310507, total=   6.0s\n",
      "[CV] max_depth=100, min_samples_leaf=2, min_samples_split=2, n_estimators=1800 \n",
      "[CV]  max_depth=100, min_samples_leaf=2, min_samples_split=2, n_estimators=1700, score=0.6094028234252653, total=   6.5s\n",
      "[CV] max_depth=100, min_samples_leaf=2, min_samples_split=2, n_estimators=1800 \n",
      "[CV]  max_depth=100, min_samples_leaf=2, min_samples_split=2, n_estimators=1700, score=0.7632630589329028, total=   6.5s\n",
      "[CV] max_depth=100, min_samples_leaf=2, min_samples_split=2, n_estimators=1800 \n",
      "[CV]  max_depth=100, min_samples_leaf=2, min_samples_split=2, n_estimators=1700, score=0.6422657519043119, total=   6.3s\n",
      "[CV] max_depth=100, min_samples_leaf=2, min_samples_split=3, n_estimators=1600 \n",
      "[CV]  max_depth=100, min_samples_leaf=2, min_samples_split=2, n_estimators=1800, score=0.6141405272119966, total=   6.9s\n",
      "[CV] max_depth=100, min_samples_leaf=2, min_samples_split=3, n_estimators=1600 \n",
      "[CV]  max_depth=100, min_samples_leaf=2, min_samples_split=2, n_estimators=1800, score=0.7652040975225511, total=   6.8s\n",
      "[CV] max_depth=100, min_samples_leaf=2, min_samples_split=3, n_estimators=1600 \n",
      "[CV]  max_depth=100, min_samples_leaf=2, min_samples_split=2, n_estimators=1800, score=0.6310322203331772, total=   6.7s\n",
      "[CV] max_depth=100, min_samples_leaf=2, min_samples_split=3, n_estimators=1700 \n",
      "[CV]  max_depth=100, min_samples_leaf=2, min_samples_split=3, n_estimators=1600, score=0.6142019907212629, total=   6.0s\n",
      "[CV] max_depth=100, min_samples_leaf=2, min_samples_split=3, n_estimators=1700 \n",
      "[CV]  max_depth=100, min_samples_leaf=2, min_samples_split=3, n_estimators=1600, score=0.7677286011242104, total=   6.0s\n",
      "[CV] max_depth=100, min_samples_leaf=2, min_samples_split=3, n_estimators=1700 \n",
      "[CV]  max_depth=100, min_samples_leaf=2, min_samples_split=3, n_estimators=1600, score=0.6373371216756925, total=   6.0s\n",
      "[CV] max_depth=100, min_samples_leaf=2, min_samples_split=3, n_estimators=1800 \n"
     ]
    },
    {
     "name": "stderr",
     "output_type": "stream",
     "text": [
      "[Parallel(n_jobs=-1)]: Done 120 tasks      | elapsed:  3.5min\n"
     ]
    },
    {
     "name": "stdout",
     "output_type": "stream",
     "text": [
      "[CV]  max_depth=100, min_samples_leaf=2, min_samples_split=3, n_estimators=1700, score=0.6175479587325411, total=   6.4s\n",
      "[CV] max_depth=100, min_samples_leaf=2, min_samples_split=3, n_estimators=1800 \n",
      "[CV]  max_depth=100, min_samples_leaf=2, min_samples_split=3, n_estimators=1700, score=0.7613230492108652, total=   6.4s\n",
      "[CV] max_depth=100, min_samples_leaf=2, min_samples_split=3, n_estimators=1800 \n"
     ]
    },
    {
     "name": "stderr",
     "output_type": "stream",
     "text": [
      "/home/rmorse/anaconda3/lib/python3.6/site-packages/sklearn/metrics/classification.py:1135: UndefinedMetricWarning: F-score is ill-defined and being set to 0.0 in labels with no predicted samples.\n",
      "  'precision', 'predicted', average, warn_for)\n"
     ]
    },
    {
     "name": "stdout",
     "output_type": "stream",
     "text": [
      "[CV]  max_depth=100, min_samples_leaf=2, min_samples_split=3, n_estimators=1700, score=0.6204873600580083, total=   6.4s\n",
      "[CV] max_depth=100, min_samples_leaf=2, min_samples_split=4, n_estimators=1600 \n",
      "[CV]  max_depth=100, min_samples_leaf=2, min_samples_split=3, n_estimators=1800, score=0.62390705148535, total=   6.8s\n",
      "[CV] max_depth=100, min_samples_leaf=2, min_samples_split=4, n_estimators=1600 \n",
      "[CV]  max_depth=100, min_samples_leaf=2, min_samples_split=3, n_estimators=1800, score=0.7670306197260078, total=   6.9s\n",
      "[CV] max_depth=100, min_samples_leaf=2, min_samples_split=4, n_estimators=1600 \n",
      "[CV]  max_depth=100, min_samples_leaf=2, min_samples_split=3, n_estimators=1800, score=0.6451487965409268, total=   6.8s\n",
      "[CV] max_depth=100, min_samples_leaf=2, min_samples_split=4, n_estimators=1700 \n",
      "[CV]  max_depth=100, min_samples_leaf=2, min_samples_split=4, n_estimators=1600, score=0.6175270830741766, total=   6.1s\n",
      "[CV] max_depth=100, min_samples_leaf=2, min_samples_split=4, n_estimators=1700 \n",
      "[CV]  max_depth=100, min_samples_leaf=2, min_samples_split=4, n_estimators=1600, score=0.763875734429287, total=   6.2s\n",
      "[CV] max_depth=100, min_samples_leaf=2, min_samples_split=4, n_estimators=1700 \n",
      "[CV]  max_depth=100, min_samples_leaf=2, min_samples_split=4, n_estimators=1600, score=0.6304182206560196, total=   5.9s\n",
      "[CV] max_depth=100, min_samples_leaf=2, min_samples_split=4, n_estimators=1800 \n",
      "[CV]  max_depth=100, min_samples_leaf=2, min_samples_split=4, n_estimators=1700, score=0.6131086137639814, total=   6.4s\n",
      "[CV] max_depth=100, min_samples_leaf=2, min_samples_split=4, n_estimators=1800 \n",
      "[CV]  max_depth=100, min_samples_leaf=2, min_samples_split=4, n_estimators=1700, score=0.7543108231514091, total=   6.4s\n",
      "[CV] max_depth=100, min_samples_leaf=2, min_samples_split=4, n_estimators=1800 \n",
      "[CV]  max_depth=100, min_samples_leaf=2, min_samples_split=4, n_estimators=1700, score=0.6427419517001689, total=   6.3s\n",
      "[CV] max_depth=100, min_samples_leaf=3, min_samples_split=2, n_estimators=1600 \n",
      "[CV]  max_depth=100, min_samples_leaf=2, min_samples_split=4, n_estimators=1800, score=0.6132199225354228, total=   6.8s\n",
      "[CV] max_depth=100, min_samples_leaf=3, min_samples_split=2, n_estimators=1600 \n",
      "[CV]  max_depth=100, min_samples_leaf=2, min_samples_split=4, n_estimators=1800, score=0.750162925340788, total=   6.7s\n",
      "[CV] max_depth=100, min_samples_leaf=3, min_samples_split=2, n_estimators=1600 \n",
      "[CV]  max_depth=100, min_samples_leaf=2, min_samples_split=4, n_estimators=1800, score=0.6398006243892682, total=   6.7s\n",
      "[CV] max_depth=100, min_samples_leaf=3, min_samples_split=2, n_estimators=1700 \n",
      "[CV]  max_depth=100, min_samples_leaf=3, min_samples_split=2, n_estimators=1600, score=0.6036461386510323, total=   5.7s\n",
      "[CV] max_depth=100, min_samples_leaf=3, min_samples_split=2, n_estimators=1700 \n",
      "[CV]  max_depth=100, min_samples_leaf=3, min_samples_split=2, n_estimators=1600, score=0.752377168869787, total=   5.7s\n",
      "[CV] max_depth=100, min_samples_leaf=3, min_samples_split=2, n_estimators=1700 \n"
     ]
    },
    {
     "name": "stderr",
     "output_type": "stream",
     "text": [
      "/home/rmorse/anaconda3/lib/python3.6/site-packages/sklearn/metrics/classification.py:1135: UndefinedMetricWarning: F-score is ill-defined and being set to 0.0 in labels with no predicted samples.\n",
      "  'precision', 'predicted', average, warn_for)\n"
     ]
    },
    {
     "name": "stdout",
     "output_type": "stream",
     "text": [
      "[CV]  max_depth=100, min_samples_leaf=3, min_samples_split=2, n_estimators=1600, score=0.6159019631774615, total=   5.6s\n",
      "[CV] max_depth=100, min_samples_leaf=3, min_samples_split=2, n_estimators=1800 \n",
      "[CV]  max_depth=100, min_samples_leaf=3, min_samples_split=2, n_estimators=1700, score=0.6144062891438326, total=   6.0s\n",
      "[CV] max_depth=100, min_samples_leaf=3, min_samples_split=2, n_estimators=1800 \n",
      "[CV]  max_depth=100, min_samples_leaf=3, min_samples_split=2, n_estimators=1700, score=0.7501056036342867, total=   6.1s\n",
      "[CV] max_depth=100, min_samples_leaf=3, min_samples_split=2, n_estimators=1800 \n",
      "[CV]  max_depth=100, min_samples_leaf=3, min_samples_split=2, n_estimators=1700, score=0.6210354399119039, total=   6.0s\n",
      "[CV] max_depth=100, min_samples_leaf=3, min_samples_split=3, n_estimators=1600 \n",
      "[CV]  max_depth=100, min_samples_leaf=3, min_samples_split=2, n_estimators=1800, score=0.6061466463723194, total=   6.4s\n",
      "[CV] max_depth=100, min_samples_leaf=3, min_samples_split=3, n_estimators=1600 \n",
      "[CV]  max_depth=100, min_samples_leaf=3, min_samples_split=2, n_estimators=1800, score=0.6174983428632145, total=   6.4s\n",
      "[CV] max_depth=100, min_samples_leaf=3, min_samples_split=3, n_estimators=1600 \n",
      "[CV]  max_depth=100, min_samples_leaf=3, min_samples_split=2, n_estimators=1800, score=0.7541834190368774, total=   6.5s\n",
      "[CV] max_depth=100, min_samples_leaf=3, min_samples_split=3, n_estimators=1700 \n",
      "[CV]  max_depth=100, min_samples_leaf=3, min_samples_split=3, n_estimators=1600, score=0.589179975121683, total=   5.7s\n",
      "[CV] max_depth=100, min_samples_leaf=3, min_samples_split=3, n_estimators=1700 \n",
      "[CV]  max_depth=100, min_samples_leaf=3, min_samples_split=3, n_estimators=1600, score=0.7540320712771532, total=   5.7s\n",
      "[CV] max_depth=100, min_samples_leaf=3, min_samples_split=3, n_estimators=1700 \n"
     ]
    },
    {
     "name": "stderr",
     "output_type": "stream",
     "text": [
      "/home/rmorse/anaconda3/lib/python3.6/site-packages/sklearn/metrics/classification.py:1135: UndefinedMetricWarning: F-score is ill-defined and being set to 0.0 in labels with no predicted samples.\n",
      "  'precision', 'predicted', average, warn_for)\n"
     ]
    },
    {
     "name": "stdout",
     "output_type": "stream",
     "text": [
      "[CV]  max_depth=100, min_samples_leaf=3, min_samples_split=3, n_estimators=1600, score=0.6098474516608586, total=   5.7s\n",
      "[CV] max_depth=100, min_samples_leaf=3, min_samples_split=3, n_estimators=1800 \n",
      "[CV]  max_depth=100, min_samples_leaf=3, min_samples_split=3, n_estimators=1700, score=0.5920203207034479, total=   6.1s\n",
      "[CV] max_depth=100, min_samples_leaf=3, min_samples_split=3, n_estimators=1800 \n",
      "[CV]  max_depth=100, min_samples_leaf=3, min_samples_split=3, n_estimators=1700, score=0.7612941869850893, total=   6.1s\n",
      "[CV] max_depth=100, min_samples_leaf=3, min_samples_split=3, n_estimators=1800 \n"
     ]
    },
    {
     "name": "stderr",
     "output_type": "stream",
     "text": [
      "/home/rmorse/anaconda3/lib/python3.6/site-packages/sklearn/metrics/classification.py:1135: UndefinedMetricWarning: F-score is ill-defined and being set to 0.0 in labels with no predicted samples.\n",
      "  'precision', 'predicted', average, warn_for)\n"
     ]
    },
    {
     "name": "stdout",
     "output_type": "stream",
     "text": [
      "[CV]  max_depth=100, min_samples_leaf=3, min_samples_split=3, n_estimators=1700, score=0.6124701295064078, total=   6.1s\n",
      "[CV] max_depth=100, min_samples_leaf=3, min_samples_split=4, n_estimators=1600 \n",
      "[CV]  max_depth=100, min_samples_leaf=3, min_samples_split=3, n_estimators=1800, score=0.6131524239003983, total=   6.5s\n",
      "[CV] max_depth=100, min_samples_leaf=3, min_samples_split=4, n_estimators=1600 \n",
      "[CV]  max_depth=100, min_samples_leaf=3, min_samples_split=3, n_estimators=1800, score=0.755776643249014, total=   6.5s\n",
      "[CV] max_depth=100, min_samples_leaf=3, min_samples_split=4, n_estimators=1600 \n"
     ]
    },
    {
     "name": "stderr",
     "output_type": "stream",
     "text": [
      "/home/rmorse/anaconda3/lib/python3.6/site-packages/sklearn/metrics/classification.py:1135: UndefinedMetricWarning: F-score is ill-defined and being set to 0.0 in labels with no predicted samples.\n",
      "  'precision', 'predicted', average, warn_for)\n"
     ]
    },
    {
     "name": "stdout",
     "output_type": "stream",
     "text": [
      "[CV]  max_depth=100, min_samples_leaf=3, min_samples_split=3, n_estimators=1800, score=0.6085911516736878, total=   6.5s\n",
      "[CV] max_depth=100, min_samples_leaf=3, min_samples_split=4, n_estimators=1700 \n",
      "[CV]  max_depth=100, min_samples_leaf=3, min_samples_split=4, n_estimators=1600, score=0.620916347165392, total=   5.7s\n",
      "[CV] max_depth=100, min_samples_leaf=3, min_samples_split=4, n_estimators=1700 \n"
     ]
    },
    {
     "name": "stderr",
     "output_type": "stream",
     "text": [
      "/home/rmorse/anaconda3/lib/python3.6/site-packages/sklearn/metrics/classification.py:1135: UndefinedMetricWarning: F-score is ill-defined and being set to 0.0 in labels with no predicted samples.\n",
      "  'precision', 'predicted', average, warn_for)\n"
     ]
    },
    {
     "name": "stdout",
     "output_type": "stream",
     "text": [
      "[CV]  max_depth=100, min_samples_leaf=3, min_samples_split=4, n_estimators=1600, score=0.7588384295989365, total=   5.8s\n",
      "[CV] max_depth=100, min_samples_leaf=3, min_samples_split=4, n_estimators=1700 \n",
      "[CV]  max_depth=100, min_samples_leaf=3, min_samples_split=4, n_estimators=1600, score=0.6020549617704366, total=   5.7s\n",
      "[CV] max_depth=100, min_samples_leaf=3, min_samples_split=4, n_estimators=1800 \n",
      "[CV]  max_depth=100, min_samples_leaf=3, min_samples_split=4, n_estimators=1700, score=0.6090917838690576, total=   6.1s\n",
      "[CV] max_depth=100, min_samples_leaf=3, min_samples_split=4, n_estimators=1800 \n",
      "[CV]  max_depth=100, min_samples_leaf=3, min_samples_split=4, n_estimators=1700, score=0.7453166039226449, total=   6.1s\n",
      "[CV] max_depth=100, min_samples_leaf=3, min_samples_split=4, n_estimators=1800 \n"
     ]
    },
    {
     "name": "stderr",
     "output_type": "stream",
     "text": [
      "/home/rmorse/anaconda3/lib/python3.6/site-packages/sklearn/metrics/classification.py:1135: UndefinedMetricWarning: F-score is ill-defined and being set to 0.0 in labels with no predicted samples.\n",
      "  'precision', 'predicted', average, warn_for)\n"
     ]
    },
    {
     "name": "stdout",
     "output_type": "stream",
     "text": [
      "[CV]  max_depth=100, min_samples_leaf=3, min_samples_split=4, n_estimators=1700, score=0.6002549233113991, total=   6.0s\n",
      "[CV] max_depth=120, min_samples_leaf=1, min_samples_split=2, n_estimators=1600 \n",
      "[CV]  max_depth=100, min_samples_leaf=3, min_samples_split=4, n_estimators=1800, score=0.6123008845632534, total=   6.4s\n",
      "[CV] max_depth=120, min_samples_leaf=1, min_samples_split=2, n_estimators=1600 \n",
      "[CV]  max_depth=100, min_samples_leaf=3, min_samples_split=4, n_estimators=1800, score=0.7573663230164326, total=   6.5s\n",
      "[CV] max_depth=120, min_samples_leaf=1, min_samples_split=2, n_estimators=1600 \n",
      "[CV]  max_depth=100, min_samples_leaf=3, min_samples_split=4, n_estimators=1800, score=0.6110203255034463, total=   6.3s\n",
      "[CV] max_depth=120, min_samples_leaf=1, min_samples_split=2, n_estimators=1700 \n",
      "[CV]  max_depth=120, min_samples_leaf=1, min_samples_split=2, n_estimators=1600, score=0.6155706680209514, total=   6.3s\n",
      "[CV] max_depth=120, min_samples_leaf=1, min_samples_split=2, n_estimators=1700 \n",
      "[CV]  max_depth=120, min_samples_leaf=1, min_samples_split=2, n_estimators=1600, score=0.7677124172501746, total=   6.3s\n",
      "[CV] max_depth=120, min_samples_leaf=1, min_samples_split=2, n_estimators=1700 \n",
      "[CV]  max_depth=120, min_samples_leaf=1, min_samples_split=2, n_estimators=1600, score=0.6517244410129308, total=   6.3s\n",
      "[CV] max_depth=120, min_samples_leaf=1, min_samples_split=2, n_estimators=1800 \n",
      "[CV]  max_depth=120, min_samples_leaf=1, min_samples_split=2, n_estimators=1700, score=0.6261939099064268, total=   6.8s\n",
      "[CV] max_depth=120, min_samples_leaf=1, min_samples_split=2, n_estimators=1800 \n",
      "[CV]  max_depth=120, min_samples_leaf=1, min_samples_split=2, n_estimators=1700, score=0.7649361648895195, total=   6.8s\n",
      "[CV] max_depth=120, min_samples_leaf=1, min_samples_split=2, n_estimators=1800 \n",
      "[CV]  max_depth=120, min_samples_leaf=1, min_samples_split=2, n_estimators=1700, score=0.654316193831012, total=   6.8s\n",
      "[CV] max_depth=120, min_samples_leaf=1, min_samples_split=3, n_estimators=1600 \n",
      "[CV]  max_depth=120, min_samples_leaf=1, min_samples_split=2, n_estimators=1800, score=0.6378218107255218, total=   7.2s\n",
      "[CV] max_depth=120, min_samples_leaf=1, min_samples_split=3, n_estimators=1600 \n",
      "[CV]  max_depth=120, min_samples_leaf=1, min_samples_split=2, n_estimators=1800, score=0.7790219581826827, total=   7.2s\n",
      "[CV] max_depth=120, min_samples_leaf=1, min_samples_split=3, n_estimators=1600 \n"
     ]
    },
    {
     "name": "stderr",
     "output_type": "stream",
     "text": [
      "/home/rmorse/anaconda3/lib/python3.6/site-packages/sklearn/metrics/classification.py:1135: UndefinedMetricWarning: F-score is ill-defined and being set to 0.0 in labels with no predicted samples.\n",
      "  'precision', 'predicted', average, warn_for)\n"
     ]
    },
    {
     "name": "stdout",
     "output_type": "stream",
     "text": [
      "[CV]  max_depth=120, min_samples_leaf=1, min_samples_split=3, n_estimators=1600, score=0.6301092734066018, total=   6.3s\n",
      "[CV] max_depth=120, min_samples_leaf=1, min_samples_split=3, n_estimators=1700 \n",
      "[CV]  max_depth=120, min_samples_leaf=1, min_samples_split=2, n_estimators=1800, score=0.6253941072043122, total=   7.1s\n",
      "[CV] max_depth=120, min_samples_leaf=1, min_samples_split=3, n_estimators=1700 \n",
      "[CV]  max_depth=120, min_samples_leaf=1, min_samples_split=3, n_estimators=1600, score=0.7660190757407974, total=   6.3s\n",
      "[CV] max_depth=120, min_samples_leaf=1, min_samples_split=3, n_estimators=1700 \n",
      "[CV]  max_depth=120, min_samples_leaf=1, min_samples_split=3, n_estimators=1600, score=0.6311534460810454, total=   6.3s\n",
      "[CV] max_depth=120, min_samples_leaf=1, min_samples_split=3, n_estimators=1800 \n",
      "[CV]  max_depth=120, min_samples_leaf=1, min_samples_split=3, n_estimators=1700, score=0.6259659621620108, total=   6.7s\n",
      "[CV] max_depth=120, min_samples_leaf=1, min_samples_split=3, n_estimators=1800 \n",
      "[CV]  max_depth=120, min_samples_leaf=1, min_samples_split=3, n_estimators=1700, score=0.769162039903668, total=   6.8s\n",
      "[CV] max_depth=120, min_samples_leaf=1, min_samples_split=3, n_estimators=1800 \n",
      "[CV]  max_depth=120, min_samples_leaf=1, min_samples_split=3, n_estimators=1700, score=0.6447309577898589, total=   6.7s\n",
      "[CV] max_depth=120, min_samples_leaf=1, min_samples_split=4, n_estimators=1600 \n",
      "[CV]  max_depth=120, min_samples_leaf=1, min_samples_split=3, n_estimators=1800, score=0.6316796405081504, total=   7.1s\n",
      "[CV] max_depth=120, min_samples_leaf=1, min_samples_split=4, n_estimators=1600 \n",
      "[CV]  max_depth=120, min_samples_leaf=1, min_samples_split=3, n_estimators=1800, score=0.7726774207507761, total=   7.2s\n",
      "[CV] max_depth=120, min_samples_leaf=1, min_samples_split=4, n_estimators=1600 \n",
      "[CV]  max_depth=120, min_samples_leaf=1, min_samples_split=3, n_estimators=1800, score=0.6352881973488316, total=   7.1s\n",
      "[CV] max_depth=120, min_samples_leaf=1, min_samples_split=4, n_estimators=1700 \n",
      "[CV]  max_depth=120, min_samples_leaf=1, min_samples_split=4, n_estimators=1600, score=0.6191502940509999, total=   6.2s\n",
      "[CV] max_depth=120, min_samples_leaf=1, min_samples_split=4, n_estimators=1700 \n",
      "[CV]  max_depth=120, min_samples_leaf=1, min_samples_split=4, n_estimators=1600, score=0.7731916713023976, total=   6.3s\n",
      "[CV] max_depth=120, min_samples_leaf=1, min_samples_split=4, n_estimators=1700 \n",
      "[CV]  max_depth=120, min_samples_leaf=1, min_samples_split=4, n_estimators=1600, score=0.6355272735236036, total=   6.2s\n",
      "[CV] max_depth=120, min_samples_leaf=1, min_samples_split=4, n_estimators=1800 \n",
      "[CV]  max_depth=120, min_samples_leaf=1, min_samples_split=4, n_estimators=1700, score=0.6191098856239691, total=   6.6s\n",
      "[CV] max_depth=120, min_samples_leaf=1, min_samples_split=4, n_estimators=1800 \n",
      "[CV]  max_depth=120, min_samples_leaf=1, min_samples_split=4, n_estimators=1700, score=0.7710977339472683, total=   6.7s\n",
      "[CV] max_depth=120, min_samples_leaf=1, min_samples_split=4, n_estimators=1800 \n",
      "[CV]  max_depth=120, min_samples_leaf=1, min_samples_split=4, n_estimators=1700, score=0.6398005798288636, total=   6.5s\n",
      "[CV] max_depth=120, min_samples_leaf=2, min_samples_split=2, n_estimators=1600 \n",
      "[CV]  max_depth=120, min_samples_leaf=1, min_samples_split=4, n_estimators=1800, score=0.6291921269887887, total=   7.0s\n",
      "[CV] max_depth=120, min_samples_leaf=2, min_samples_split=2, n_estimators=1600 \n",
      "[CV]  max_depth=120, min_samples_leaf=1, min_samples_split=4, n_estimators=1800, score=0.766548976024576, total=   7.0s\n",
      "[CV] max_depth=120, min_samples_leaf=2, min_samples_split=2, n_estimators=1600 \n",
      "[CV]  max_depth=120, min_samples_leaf=1, min_samples_split=4, n_estimators=1800, score=0.630941304202806, total=   6.9s\n",
      "[CV] max_depth=120, min_samples_leaf=2, min_samples_split=2, n_estimators=1700 \n",
      "[CV]  max_depth=120, min_samples_leaf=2, min_samples_split=2, n_estimators=1600, score=0.6158587836657682, total=   6.0s\n",
      "[CV] max_depth=120, min_samples_leaf=2, min_samples_split=2, n_estimators=1700 \n",
      "[CV]  max_depth=120, min_samples_leaf=2, min_samples_split=2, n_estimators=1600, score=0.7753019737900685, total=   6.0s\n",
      "[CV] max_depth=120, min_samples_leaf=2, min_samples_split=2, n_estimators=1700 \n",
      "[CV]  max_depth=120, min_samples_leaf=2, min_samples_split=2, n_estimators=1600, score=0.6301665534912934, total=   5.9s\n",
      "[CV] max_depth=120, min_samples_leaf=2, min_samples_split=2, n_estimators=1800 \n",
      "[CV]  max_depth=120, min_samples_leaf=2, min_samples_split=2, n_estimators=1700, score=0.6086772471125411, total=   6.4s\n",
      "[CV] max_depth=120, min_samples_leaf=2, min_samples_split=2, n_estimators=1800 \n",
      "[CV]  max_depth=120, min_samples_leaf=2, min_samples_split=2, n_estimators=1700, score=0.7637914965210827, total=   6.5s\n",
      "[CV] max_depth=120, min_samples_leaf=2, min_samples_split=2, n_estimators=1800 \n",
      "[CV]  max_depth=120, min_samples_leaf=2, min_samples_split=2, n_estimators=1700, score=0.6275779175058468, total=   6.4s\n",
      "[CV] max_depth=120, min_samples_leaf=2, min_samples_split=3, n_estimators=1600 \n",
      "[CV]  max_depth=120, min_samples_leaf=2, min_samples_split=2, n_estimators=1800, score=0.6103162239895974, total=   6.9s\n",
      "[CV] max_depth=120, min_samples_leaf=2, min_samples_split=3, n_estimators=1600 \n"
     ]
    },
    {
     "name": "stderr",
     "output_type": "stream",
     "text": [
      "/home/rmorse/anaconda3/lib/python3.6/site-packages/sklearn/metrics/classification.py:1135: UndefinedMetricWarning: F-score is ill-defined and being set to 0.0 in labels with no predicted samples.\n",
      "  'precision', 'predicted', average, warn_for)\n"
     ]
    },
    {
     "name": "stdout",
     "output_type": "stream",
     "text": [
      "[CV]  max_depth=120, min_samples_leaf=2, min_samples_split=2, n_estimators=1800, score=0.7708324737325506, total=   6.9s\n",
      "[CV] max_depth=120, min_samples_leaf=2, min_samples_split=3, n_estimators=1600 \n",
      "[CV]  max_depth=120, min_samples_leaf=2, min_samples_split=2, n_estimators=1800, score=0.6231937998790555, total=   6.9s\n",
      "[CV] max_depth=120, min_samples_leaf=2, min_samples_split=3, n_estimators=1700 \n",
      "[CV]  max_depth=120, min_samples_leaf=2, min_samples_split=3, n_estimators=1600, score=0.6130485075276253, total=   6.0s\n",
      "[CV] max_depth=120, min_samples_leaf=2, min_samples_split=3, n_estimators=1700 \n",
      "[CV]  max_depth=120, min_samples_leaf=2, min_samples_split=3, n_estimators=1600, score=0.7587102996577028, total=   6.1s\n",
      "[CV] max_depth=120, min_samples_leaf=2, min_samples_split=3, n_estimators=1700 \n"
     ]
    },
    {
     "name": "stderr",
     "output_type": "stream",
     "text": [
      "/home/rmorse/anaconda3/lib/python3.6/site-packages/sklearn/metrics/classification.py:1135: UndefinedMetricWarning: F-score is ill-defined and being set to 0.0 in labels with no predicted samples.\n",
      "  'precision', 'predicted', average, warn_for)\n"
     ]
    },
    {
     "name": "stdout",
     "output_type": "stream",
     "text": [
      "[CV]  max_depth=120, min_samples_leaf=2, min_samples_split=3, n_estimators=1600, score=0.6215185118611211, total=   5.9s\n",
      "[CV] max_depth=120, min_samples_leaf=2, min_samples_split=3, n_estimators=1800 \n",
      "[CV]  max_depth=120, min_samples_leaf=2, min_samples_split=3, n_estimators=1700, score=0.622865299338923, total=   6.4s\n",
      "[CV] max_depth=120, min_samples_leaf=2, min_samples_split=3, n_estimators=1800 \n",
      "[CV]  max_depth=120, min_samples_leaf=2, min_samples_split=3, n_estimators=1700, score=0.7692818462396371, total=   6.4s\n",
      "[CV] max_depth=120, min_samples_leaf=2, min_samples_split=3, n_estimators=1800 \n",
      "[CV]  max_depth=120, min_samples_leaf=2, min_samples_split=3, n_estimators=1700, score=0.6286294070534938, total=   6.3s\n",
      "[CV] max_depth=120, min_samples_leaf=2, min_samples_split=4, n_estimators=1600 \n",
      "[CV]  max_depth=120, min_samples_leaf=2, min_samples_split=3, n_estimators=1800, score=0.6323775389859212, total=   6.7s\n",
      "[CV] max_depth=120, min_samples_leaf=2, min_samples_split=4, n_estimators=1600 \n",
      "[CV]  max_depth=120, min_samples_leaf=2, min_samples_split=3, n_estimators=1800, score=0.7571039461921355, total=   6.7s\n",
      "[CV] max_depth=120, min_samples_leaf=2, min_samples_split=4, n_estimators=1600 \n",
      "[CV]  max_depth=120, min_samples_leaf=2, min_samples_split=4, n_estimators=1600, score=0.6161909471601412, total=   5.9s\n",
      "[CV] max_depth=120, min_samples_leaf=2, min_samples_split=4, n_estimators=1700 \n",
      "[CV]  max_depth=120, min_samples_leaf=2, min_samples_split=3, n_estimators=1800, score=0.6358203559438574, total=   6.6s\n",
      "[CV] max_depth=120, min_samples_leaf=2, min_samples_split=4, n_estimators=1700 \n",
      "[CV]  max_depth=120, min_samples_leaf=2, min_samples_split=4, n_estimators=1600, score=0.7688716305396046, total=   6.0s\n",
      "[CV] max_depth=120, min_samples_leaf=2, min_samples_split=4, n_estimators=1700 \n",
      "[CV]  max_depth=120, min_samples_leaf=2, min_samples_split=4, n_estimators=1600, score=0.6318157972007318, total=   6.0s\n",
      "[CV] max_depth=120, min_samples_leaf=2, min_samples_split=4, n_estimators=1800 \n",
      "[CV]  max_depth=120, min_samples_leaf=2, min_samples_split=4, n_estimators=1700, score=0.6274191036350124, total=   6.4s\n",
      "[CV] max_depth=120, min_samples_leaf=2, min_samples_split=4, n_estimators=1800 \n",
      "[CV]  max_depth=120, min_samples_leaf=2, min_samples_split=4, n_estimators=1700, score=0.7687846757271686, total=   6.4s\n",
      "[CV] max_depth=120, min_samples_leaf=2, min_samples_split=4, n_estimators=1800 \n",
      "[CV]  max_depth=120, min_samples_leaf=2, min_samples_split=4, n_estimators=1700, score=0.6274477396565783, total=   6.3s\n",
      "[CV] max_depth=120, min_samples_leaf=3, min_samples_split=2, n_estimators=1600 \n",
      "[CV]  max_depth=120, min_samples_leaf=2, min_samples_split=4, n_estimators=1800, score=0.6239589673338888, total=   6.7s\n",
      "[CV] max_depth=120, min_samples_leaf=3, min_samples_split=2, n_estimators=1600 \n",
      "[CV]  max_depth=120, min_samples_leaf=2, min_samples_split=4, n_estimators=1800, score=0.7614645591165536, total=   6.7s\n",
      "[CV] max_depth=120, min_samples_leaf=3, min_samples_split=2, n_estimators=1600 \n",
      "[CV]  max_depth=120, min_samples_leaf=2, min_samples_split=4, n_estimators=1800, score=0.6259758112752668, total=   6.7s\n",
      "[CV] max_depth=120, min_samples_leaf=3, min_samples_split=2, n_estimators=1700 \n",
      "[CV]  max_depth=120, min_samples_leaf=3, min_samples_split=2, n_estimators=1600, score=0.6184056250133072, total=   5.7s\n",
      "[CV] max_depth=120, min_samples_leaf=3, min_samples_split=2, n_estimators=1700 \n",
      "[CV]  max_depth=120, min_samples_leaf=3, min_samples_split=2, n_estimators=1600, score=0.7580264704268089, total=   5.7s\n",
      "[CV] max_depth=120, min_samples_leaf=3, min_samples_split=2, n_estimators=1700 \n",
      "[CV]  max_depth=120, min_samples_leaf=3, min_samples_split=2, n_estimators=1600, score=0.6068330115870556, total=   5.7s\n",
      "[CV] max_depth=120, min_samples_leaf=3, min_samples_split=2, n_estimators=1800 \n",
      "[CV]  max_depth=120, min_samples_leaf=3, min_samples_split=2, n_estimators=1700, score=0.6108789336732738, total=   6.0s\n",
      "[CV] max_depth=120, min_samples_leaf=3, min_samples_split=2, n_estimators=1800 \n",
      "[CV]  max_depth=120, min_samples_leaf=3, min_samples_split=2, n_estimators=1700, score=0.7502552941083123, total=   6.1s\n",
      "[CV] max_depth=120, min_samples_leaf=3, min_samples_split=2, n_estimators=1800 \n"
     ]
    },
    {
     "name": "stderr",
     "output_type": "stream",
     "text": [
      "/home/rmorse/anaconda3/lib/python3.6/site-packages/sklearn/metrics/classification.py:1135: UndefinedMetricWarning: F-score is ill-defined and being set to 0.0 in labels with no predicted samples.\n",
      "  'precision', 'predicted', average, warn_for)\n"
     ]
    },
    {
     "name": "stdout",
     "output_type": "stream",
     "text": [
      "[CV]  max_depth=120, min_samples_leaf=3, min_samples_split=2, n_estimators=1700, score=0.6056161581868453, total=   6.0s\n",
      "[CV] max_depth=120, min_samples_leaf=3, min_samples_split=3, n_estimators=1600 \n",
      "[CV]  max_depth=120, min_samples_leaf=3, min_samples_split=2, n_estimators=1800, score=0.6236108143013837, total=   6.4s\n",
      "[CV] max_depth=120, min_samples_leaf=3, min_samples_split=3, n_estimators=1600 \n",
      "[CV]  max_depth=120, min_samples_leaf=3, min_samples_split=2, n_estimators=1800, score=0.7544067370084696, total=   6.5s\n",
      "[CV] max_depth=120, min_samples_leaf=3, min_samples_split=3, n_estimators=1600 \n"
     ]
    },
    {
     "name": "stderr",
     "output_type": "stream",
     "text": [
      "/home/rmorse/anaconda3/lib/python3.6/site-packages/sklearn/metrics/classification.py:1135: UndefinedMetricWarning: F-score is ill-defined and being set to 0.0 in labels with no predicted samples.\n",
      "  'precision', 'predicted', average, warn_for)\n"
     ]
    },
    {
     "name": "stdout",
     "output_type": "stream",
     "text": [
      "[CV]  max_depth=120, min_samples_leaf=3, min_samples_split=2, n_estimators=1800, score=0.6194707959777858, total=   6.4s\n",
      "[CV] max_depth=120, min_samples_leaf=3, min_samples_split=3, n_estimators=1700 \n",
      "[CV]  max_depth=120, min_samples_leaf=3, min_samples_split=3, n_estimators=1600, score=0.5930228611553973, total=   5.7s\n",
      "[CV] max_depth=120, min_samples_leaf=3, min_samples_split=3, n_estimators=1700 \n",
      "[CV]  max_depth=120, min_samples_leaf=3, min_samples_split=3, n_estimators=1600, score=0.7606182045424639, total=   5.8s\n",
      "[CV] max_depth=120, min_samples_leaf=3, min_samples_split=3, n_estimators=1700 \n",
      "[CV]  max_depth=120, min_samples_leaf=3, min_samples_split=3, n_estimators=1600, score=0.6335477173677543, total=   5.7s\n",
      "[CV] max_depth=120, min_samples_leaf=3, min_samples_split=3, n_estimators=1800 \n",
      "[CV]  max_depth=120, min_samples_leaf=3, min_samples_split=3, n_estimators=1700, score=0.6141686852236448, total=   6.2s\n",
      "[CV] max_depth=120, min_samples_leaf=3, min_samples_split=3, n_estimators=1800 \n",
      "[CV]  max_depth=120, min_samples_leaf=3, min_samples_split=3, n_estimators=1700, score=0.7528782106294263, total=   6.2s\n",
      "[CV] max_depth=120, min_samples_leaf=3, min_samples_split=3, n_estimators=1800 \n"
     ]
    },
    {
     "name": "stderr",
     "output_type": "stream",
     "text": [
      "/home/rmorse/anaconda3/lib/python3.6/site-packages/sklearn/metrics/classification.py:1135: UndefinedMetricWarning: F-score is ill-defined and being set to 0.0 in labels with no predicted samples.\n",
      "  'precision', 'predicted', average, warn_for)\n"
     ]
    },
    {
     "name": "stdout",
     "output_type": "stream",
     "text": [
      "[CV]  max_depth=120, min_samples_leaf=3, min_samples_split=3, n_estimators=1700, score=0.6059077082885105, total=   6.1s\n",
      "[CV] max_depth=120, min_samples_leaf=3, min_samples_split=4, n_estimators=1600 \n",
      "[CV]  max_depth=120, min_samples_leaf=3, min_samples_split=3, n_estimators=1800, score=0.611991559054028, total=   6.5s\n",
      "[CV] max_depth=120, min_samples_leaf=3, min_samples_split=4, n_estimators=1600 \n"
     ]
    },
    {
     "name": "stderr",
     "output_type": "stream",
     "text": [
      "/home/rmorse/anaconda3/lib/python3.6/site-packages/sklearn/metrics/classification.py:1135: UndefinedMetricWarning: F-score is ill-defined and being set to 0.0 in labels with no predicted samples.\n",
      "  'precision', 'predicted', average, warn_for)\n"
     ]
    },
    {
     "name": "stdout",
     "output_type": "stream",
     "text": [
      "[CV]  max_depth=120, min_samples_leaf=3, min_samples_split=3, n_estimators=1800, score=0.7420269695708278, total=   6.4s\n",
      "[CV] max_depth=120, min_samples_leaf=3, min_samples_split=4, n_estimators=1600 \n",
      "[CV]  max_depth=120, min_samples_leaf=3, min_samples_split=3, n_estimators=1800, score=0.5965281364753516, total=   6.4s\n",
      "[CV] max_depth=120, min_samples_leaf=3, min_samples_split=4, n_estimators=1700 \n",
      "[CV]  max_depth=120, min_samples_leaf=3, min_samples_split=4, n_estimators=1600, score=0.6085242147771581, total=   5.7s\n",
      "[CV] max_depth=120, min_samples_leaf=3, min_samples_split=4, n_estimators=1700 \n",
      "[CV]  max_depth=120, min_samples_leaf=3, min_samples_split=4, n_estimators=1600, score=0.7442124723560604, total=   5.7s\n",
      "[CV] max_depth=120, min_samples_leaf=3, min_samples_split=4, n_estimators=1700 \n"
     ]
    },
    {
     "name": "stderr",
     "output_type": "stream",
     "text": [
      "/home/rmorse/anaconda3/lib/python3.6/site-packages/sklearn/metrics/classification.py:1135: UndefinedMetricWarning: F-score is ill-defined and being set to 0.0 in labels with no predicted samples.\n",
      "  'precision', 'predicted', average, warn_for)\n"
     ]
    },
    {
     "name": "stdout",
     "output_type": "stream",
     "text": [
      "[CV]  max_depth=120, min_samples_leaf=3, min_samples_split=4, n_estimators=1600, score=0.5969215283053064, total=   5.7s\n",
      "[CV] max_depth=120, min_samples_leaf=3, min_samples_split=4, n_estimators=1800 \n",
      "[CV]  max_depth=120, min_samples_leaf=3, min_samples_split=4, n_estimators=1700, score=0.6170470828072245, total=   6.1s\n",
      "[CV] max_depth=120, min_samples_leaf=3, min_samples_split=4, n_estimators=1800 \n",
      "[CV]  max_depth=120, min_samples_leaf=3, min_samples_split=4, n_estimators=1700, score=0.7505934580802505, total=   6.1s\n",
      "[CV] max_depth=120, min_samples_leaf=3, min_samples_split=4, n_estimators=1800 \n",
      "[CV]  max_depth=120, min_samples_leaf=3, min_samples_split=4, n_estimators=1700, score=0.6031317751077874, total=   6.0s\n",
      "[CV]  max_depth=120, min_samples_leaf=3, min_samples_split=4, n_estimators=1800, score=0.6051230904688605, total=   6.4s\n",
      "[CV]  max_depth=120, min_samples_leaf=3, min_samples_split=4, n_estimators=1800, score=0.7437953250513699, total=   6.4s\n",
      "[CV]  max_depth=120, min_samples_leaf=3, min_samples_split=4, n_estimators=1800, score=0.6075421368225981, total=   6.3s\n"
     ]
    },
    {
     "name": "stderr",
     "output_type": "stream",
     "text": [
      "[Parallel(n_jobs=-1)]: Done 243 out of 243 | elapsed:  7.0min finished\n"
     ]
    },
    {
     "name": "stdout",
     "output_type": "stream",
     "text": [
      "{'max_depth': 100, 'min_samples_leaf': 1, 'min_samples_split': 3, 'n_estimators': 1700}\n"
     ]
    },
    {
     "ename": "NameError",
     "evalue": "name 'mistake' is not defined",
     "output_type": "error",
     "traceback": [
      "\u001b[0;31m---------------------------------------------------------------------------\u001b[0m",
      "\u001b[0;31mNameError\u001b[0m                                 Traceback (most recent call last)",
      "\u001b[0;32m<timed exec>\u001b[0m in \u001b[0;36m<module>\u001b[0;34m()\u001b[0m\n",
      "\u001b[0;31mNameError\u001b[0m: name 'mistake' is not defined"
     ]
    }
   ],
   "source": [
    "%%time\n",
    "if grid_search:\n",
    "    esti = RandomForestClassifier(bootstrap = True, max_features = 'auto')\n",
    "\n",
    "    n_estimators = [1600, 1700, 1800]\n",
    "    max_depth = [80, 100, 120]\n",
    "    min_samples_split = [2, 3, 4]\n",
    "    min_samples_leaf = [1, 2, 3]\n",
    "    \n",
    "    \n",
    "    random_grid = {'n_estimators': n_estimators,\n",
    "               'max_depth': max_depth,\n",
    "               'min_samples_split': min_samples_split,\n",
    "               'min_samples_leaf': min_samples_leaf,\n",
    "                  }\n",
    "    \n",
    "    clf = GridSearchCV(estimator = esti, param_grid= random_grid,\n",
    "                              n_jobs=-1, scoring='f1_macro', cv = 3, verbose=3)\n",
    "    clf.fit(X, y)\n",
    "    print(clf.best_params_)\n",
    "    mistake"
   ]
  },
  {
   "cell_type": "markdown",
   "metadata": {},
   "source": [
    "Best paramters identified by gridsearch were:\n",
    "{'max_depth': 100, 'min_samples_leaf': 1, 'min_samples_split': 3, 'n_estimators': 1700}\n",
    "\n",
    "so final best paramaters are\n",
    "\n",
    "{'n_estimators': 1700 'min_samples_split': 3, 'min_samples_leaf': 1, 'max_features': 'auto', 'max_depth': 100, 'bootstrap': True}\n",
    "\n",
    "it took  7 mins for 243 fits"
   ]
  },
  {
   "cell_type": "markdown",
   "metadata": {},
   "source": [
    "### Carry out 10-f0ld stratified cross validation, class f1 scores and macro f1 scores with weighted averages are calculated"
   ]
  },
  {
   "cell_type": "code",
   "execution_count": 40,
   "metadata": {},
   "outputs": [
    {
     "name": "stdout",
     "output_type": "stream",
     "text": [
      "making model:\n",
      "1\n",
      "making model:\n",
      "2\n"
     ]
    },
    {
     "name": "stderr",
     "output_type": "stream",
     "text": [
      "/home/rmorse/anaconda3/lib/python3.6/site-packages/sklearn/metrics/classification.py:1135: UndefinedMetricWarning: F-score is ill-defined and being set to 0.0 in labels with no predicted samples.\n",
      "  'precision', 'predicted', average, warn_for)\n",
      "/home/rmorse/anaconda3/lib/python3.6/site-packages/sklearn/metrics/classification.py:1135: UndefinedMetricWarning: F-score is ill-defined and being set to 0.0 in labels with no predicted samples.\n",
      "  'precision', 'predicted', average, warn_for)\n"
     ]
    },
    {
     "name": "stdout",
     "output_type": "stream",
     "text": [
      "making model:\n",
      "3\n",
      "making model:\n",
      "4\n",
      "making model:\n",
      "5\n"
     ]
    },
    {
     "name": "stderr",
     "output_type": "stream",
     "text": [
      "/home/rmorse/anaconda3/lib/python3.6/site-packages/sklearn/metrics/classification.py:1135: UndefinedMetricWarning: F-score is ill-defined and being set to 0.0 in labels with no predicted samples.\n",
      "  'precision', 'predicted', average, warn_for)\n",
      "/home/rmorse/anaconda3/lib/python3.6/site-packages/sklearn/metrics/classification.py:1135: UndefinedMetricWarning: F-score is ill-defined and being set to 0.0 in labels with no predicted samples.\n",
      "  'precision', 'predicted', average, warn_for)\n"
     ]
    },
    {
     "name": "stdout",
     "output_type": "stream",
     "text": [
      "making model:\n",
      "6\n"
     ]
    },
    {
     "name": "stderr",
     "output_type": "stream",
     "text": [
      "/home/rmorse/anaconda3/lib/python3.6/site-packages/sklearn/metrics/classification.py:1135: UndefinedMetricWarning: F-score is ill-defined and being set to 0.0 in labels with no predicted samples.\n",
      "  'precision', 'predicted', average, warn_for)\n",
      "/home/rmorse/anaconda3/lib/python3.6/site-packages/sklearn/metrics/classification.py:1135: UndefinedMetricWarning: F-score is ill-defined and being set to 0.0 in labels with no predicted samples.\n",
      "  'precision', 'predicted', average, warn_for)\n"
     ]
    },
    {
     "name": "stdout",
     "output_type": "stream",
     "text": [
      "making model:\n",
      "7\n",
      "making model:\n",
      "8\n"
     ]
    },
    {
     "name": "stderr",
     "output_type": "stream",
     "text": [
      "/home/rmorse/anaconda3/lib/python3.6/site-packages/sklearn/metrics/classification.py:1135: UndefinedMetricWarning: F-score is ill-defined and being set to 0.0 in labels with no predicted samples.\n",
      "  'precision', 'predicted', average, warn_for)\n",
      "/home/rmorse/anaconda3/lib/python3.6/site-packages/sklearn/metrics/classification.py:1135: UndefinedMetricWarning: F-score is ill-defined and being set to 0.0 in labels with no predicted samples.\n",
      "  'precision', 'predicted', average, warn_for)\n"
     ]
    },
    {
     "name": "stdout",
     "output_type": "stream",
     "text": [
      "making model:\n",
      "9\n",
      "making model:\n",
      "10\n"
     ]
    },
    {
     "name": "stderr",
     "output_type": "stream",
     "text": [
      "/home/rmorse/anaconda3/lib/python3.6/site-packages/sklearn/metrics/classification.py:1135: UndefinedMetricWarning: F-score is ill-defined and being set to 0.0 in labels with no predicted samples.\n",
      "  'precision', 'predicted', average, warn_for)\n",
      "/home/rmorse/anaconda3/lib/python3.6/site-packages/sklearn/metrics/classification.py:1135: UndefinedMetricWarning: F-score is ill-defined and being set to 0.0 in labels with no predicted samples.\n",
      "  'precision', 'predicted', average, warn_for)\n"
     ]
    }
   ],
   "source": [
    "esti = RandomForestClassifier(n_estimators=1700, random_state = random_seed_state, n_jobs=-1, \n",
    "                              min_samples_split =  3, min_samples_leaf = 1, max_features = 'auto', \n",
    "                              max_depth = 100, bootstrap =  True)\n",
    "skf = StratifiedKFold(n_splits=10, random_state=random_seed_state)\n",
    "skf.get_n_splits(X, y)\n",
    "class_f1_scores = []\n",
    "macro_f1_scores = []\n",
    "accuracy_scores = []\n",
    "feat_imp =[]\n",
    "f1_dict = {}\n",
    "feat_imp_dict = {}\n",
    "count = 0\n",
    "for train_index, test_index in skf.split(X, y):\n",
    "    count = count + 1\n",
    "    print('making model:')\n",
    "    key = 'round' + str(count)\n",
    "    print(count)\n",
    "    X_train, X_test = X[train_index], X[test_index]\n",
    "    y_train, y_test = y[train_index], y[test_index]\n",
    "    esti.fit(X_train, y_train)\n",
    "    y_pred = esti.predict(X_test)\n",
    "    class_f1_scores = f1_score(y_test, y_pred, average = None)\n",
    "    accuracy = accuracy_score(y_test, y_pred)\n",
    "    accuracy_scores.append(accuracy)\n",
    "    macro_f1_scores.append(f1_score(y_test, y_pred, average = 'weighted'))\n",
    "    f1_dict[key] = class_f1_scores \n",
    "    feat_imp_dict[key] = esti.feature_importances_"
   ]
  },
  {
   "cell_type": "code",
   "execution_count": 41,
   "metadata": {},
   "outputs": [],
   "source": [
    "f1_df = pd.DataFrame(data = f1_dict)\n"
   ]
  },
  {
   "cell_type": "code",
   "execution_count": 42,
   "metadata": {},
   "outputs": [
    {
     "name": "stdout",
     "output_type": "stream",
     "text": [
      "25\n",
      "25\n",
      "25\n",
      "25\n",
      "25\n",
      "25\n",
      "25\n",
      "25\n",
      "25\n",
      "25\n"
     ]
    }
   ],
   "source": [
    "for key in f1_dict:\n",
    "    print(len(f1_dict[key]))"
   ]
  },
  {
   "cell_type": "markdown",
   "metadata": {},
   "source": [
    "### Below are the encodings for the class variable"
   ]
  },
  {
   "cell_type": "code",
   "execution_count": 43,
   "metadata": {},
   "outputs": [
    {
     "name": "stdout",
     "output_type": "stream",
     "text": [
      "[ 0  1  2  3  4  5  6  7  8  9 10 11 12 13 14 15 16 17 18 19 20 21 22 23\n",
      " 24]\n",
      "['FH', 'ER', 'WW', 'TC', 'CS', 'KQ', 'AR', 'SL', 'FG', 'WB', 'BX', 'PF', 'WH', 'SQ', 'WN', 'BH', 'PH', 'LB', 'AB', 'LV', 'SE', 'BA', 'SV', 'WA', 'MM']\n"
     ]
    }
   ],
   "source": [
    "print(train_data_formodel['class'].unique())\n",
    "print(list(uniques))"
   ]
  },
  {
   "cell_type": "code",
   "execution_count": 44,
   "metadata": {},
   "outputs": [],
   "source": [
    "f1_df_final = pd.concat([f1_df, pd.Series(uniques)], axis = 1)"
   ]
  },
  {
   "cell_type": "code",
   "execution_count": 45,
   "metadata": {},
   "outputs": [],
   "source": [
    "f1_df_final.rename(columns={0:'class'}, inplace=True)\n",
    "f1_df_final.set_index('class', drop = True, inplace = True)"
   ]
  },
  {
   "cell_type": "markdown",
   "metadata": {},
   "source": [
    "### Boxplot showing the distribution of class f1 scores from 10 models"
   ]
  },
  {
   "cell_type": "code",
   "execution_count": 46,
   "metadata": {},
   "outputs": [
    {
     "data": {
      "image/png": "[encoded data removed]",
      "text/plain": [
       "<Figure size 842.4x595.44 with 1 Axes>"
      ]
     },
     "metadata": {},
     "output_type": "display_data"
    }
   ],
   "source": [
    "sns.set(rc={'figure.figsize':(11.7,8.27)})\n",
    "plot = sns.boxplot(data = f1_df_final.T)\n",
    "plot.set_title('F1 scores for each site', fontdict={'fontsize': 14})\n",
    "plot.set_ylabel('F1 score', fontdict={'fontsize': 11})\n",
    "plot.set_xlabel(\"Bedrock site or superficial site\", fontdict={'fontsize': 11})\n",
    "\n",
    "if save_plots == True:\n",
    "    fig = plot.get_figure()\n",
    "    fig.savefig('output/site_specific_f1_scores.png')"
   ]
  },
  {
   "cell_type": "code",
   "execution_count": 47,
   "metadata": {},
   "outputs": [],
   "source": [
    "#pd.DataFrame(data = f1_df_final.T.median()).to_csv('output/median_class_f1_scores.csv')"
   ]
  },
  {
   "cell_type": "markdown",
   "metadata": {},
   "source": [
    "### Boxplot showing the macro F1 score with weighted averages"
   ]
  },
  {
   "cell_type": "code",
   "execution_count": 48,
   "metadata": {},
   "outputs": [
    {
     "data": {
      "image/png": "[encoded data removed]",
      "text/plain": [
       "<Figure size 842.4x595.44 with 1 Axes>"
      ]
     },
     "metadata": {},
     "output_type": "display_data"
    }
   ],
   "source": [
    "plot = sns.boxplot(macro_f1_scores)\n",
    "plot.set_title('Average-weighted macro-f1 score', fontdict={'fontsize': 14})\n",
    "plot.set_xlabel(\"F1-score\", fontdict={'fontsize': 11})\n",
    "\n",
    "if save_plots == True:\n",
    "    fig = plot.get_figure()\n",
    "    fig.savefig('output/macro_f1_scores.png')"
   ]
  },
  {
   "cell_type": "code",
   "execution_count": 49,
   "metadata": {},
   "outputs": [],
   "source": [
    "#pd.Series(pd.Series(macro_f1_scores).median()).to_csv('output/median_macro_f1.csv')"
   ]
  },
  {
   "cell_type": "code",
   "execution_count": null,
   "metadata": {},
   "outputs": [],
   "source": [
    "pd.Series(macro_f1_scores).median()"
   ]
  },
  {
   "cell_type": "markdown",
   "metadata": {},
   "source": [
    "### Boxplot showing accuracy scores"
   ]
  },
  {
   "cell_type": "code",
   "execution_count": null,
   "metadata": {},
   "outputs": [],
   "source": [
    "sns.boxplot(accuracy_scores)"
   ]
  },
  {
   "cell_type": "markdown",
   "metadata": {},
   "source": [
    "### Get feature importances"
   ]
  },
  {
   "cell_type": "markdown",
   "metadata": {},
   "source": [
    "feat_imp_df = pd.DataFrame(data = feat_imp_dict)\n",
    "feat_imp_df.head()"
   ]
  },
  {
   "cell_type": "markdown",
   "metadata": {},
   "source": [
    "feat_imp_df_final = pd.concat([feat_imp_df, pd.Series(my_data[my_data.columns.values[9:-1]].columns.values)], axis = 1)\n",
    "feat_imp_df_final.rename(columns = {0:'element'}, inplace = True )\n",
    "feat_imp_df_final.head()"
   ]
  },
  {
   "cell_type": "markdown",
   "metadata": {},
   "source": [
    "feat_imp_df_final.set_index('element', inplace=True)\n"
   ]
  },
  {
   "cell_type": "markdown",
   "metadata": {},
   "source": [
    "feat_imp_df_final_plot = feat_imp_df_final.T"
   ]
  },
  {
   "cell_type": "markdown",
   "metadata": {},
   "source": [
    "feat_imp_df_final_plot\n",
    "\n",
    "elements = feat_imp_df_final_plot.columns.values \n",
    "mean_feature_importance = []\n",
    "for col in list(feat_imp_df_final_plot.columns.values):\n",
    "    mean_feature_importance.append(feat_imp_df_final_plot[col].mean())\n",
    "    "
   ]
  },
  {
   "cell_type": "markdown",
   "metadata": {},
   "source": [
    "mean_feature_importance_df = pd.concat([pd.Series(elements), pd.Series(mean_feature_importance)], axis = 1)"
   ]
  },
  {
   "cell_type": "markdown",
   "metadata": {},
   "source": [
    "mean_feature_importance_df.rename(columns={0:'elements', 1:'mean_importance'}, inplace=True)"
   ]
  },
  {
   "cell_type": "markdown",
   "metadata": {},
   "source": [
    "mean_feature_importance_df.sort_values(by='mean_importance', ascending=False, inplace=True)"
   ]
  },
  {
   "cell_type": "markdown",
   "metadata": {},
   "source": [
    "ordered_col_names = list(mean_feature_importance_df['elements'])"
   ]
  },
  {
   "cell_type": "markdown",
   "metadata": {},
   "source": [
    "sns.set_style(\"whitegrid\")\n",
    "sns.set_style()\n",
    "sns.set(rc={'figure.figsize':(20,20)})\n",
    "plot = sns.boxplot(data = feat_imp_df_final_plot[ordered_col_names])\n",
    "plot.set_xticklabels(plot.get_xticklabels(),rotation=90, ha = 'left')\n",
    "plot.set_title('Feature (element) importance', fontdict={'fontsize': 20})\n",
    "plot.set_ylabel('Feature importance', fontdict={'fontsize': 15})\n",
    "plot.set_xlabel(\"Element\", fontdict={'fontsize': 15})\n",
    "\n",
    "if save_plots == True:\n",
    "    fig = plot.get_figure()\n",
    "    fig.savefig('output/feature_importances.png')"
   ]
  },
  {
   "cell_type": "markdown",
   "metadata": {},
   "source": [
    "### Model is built for predicting source of artefacts "
   ]
  },
  {
   "cell_type": "markdown",
   "metadata": {},
   "source": [
    "esti_final = RandomForestClassifier(n_estimators=2000, random_state = random_seed_state)"
   ]
  },
  {
   "cell_type": "markdown",
   "metadata": {},
   "source": [
    "esti_final.fit(X, y)"
   ]
  },
  {
   "cell_type": "code",
   "execution_count": null,
   "metadata": {},
   "outputs": [],
   "source": [
    "if pickle_model == True:\n",
    "    pickle.dump(esti_final, open(pickle_file_path+'.sav', 'wb'))"
   ]
  },
  {
   "cell_type": "markdown",
   "metadata": {},
   "source": [
    "print(train_data_formodel['class'].unique())\n",
    "print(uniques)"
   ]
  },
  {
   "cell_type": "markdown",
   "metadata": {},
   "source": [
    "df_for_identifiers = test_data.copy(deep = True)\n",
    "identifiers =  df_for_identifiers['Analysis']"
   ]
  },
  {
   "cell_type": "markdown",
   "metadata": {},
   "source": [
    "### Predictions are made for the artefacts"
   ]
  },
  {
   "cell_type": "markdown",
   "metadata": {},
   "source": [
    "y_pred = esti_final.predict(np.array(test_data[test_data.columns.values[9:-1]]))\n",
    "\n",
    "y_pred_proba = esti_final.predict_proba(np.array(test_data[test_data.columns.values[9:-1]]))\n"
   ]
  },
  {
   "cell_type": "markdown",
   "metadata": {},
   "source": [
    "probabilities_df = pd.DataFrame(data = y_pred_proba, columns = uniques)\n",
    "probabilities_df_final = pd.concat([probabilities_df, pd.Series(list(identifiers))], axis = 1)"
   ]
  },
  {
   "cell_type": "markdown",
   "metadata": {},
   "source": [
    "probabilities_df_final.rename(columns = {0:'identifier'}, inplace=True)"
   ]
  },
  {
   "cell_type": "markdown",
   "metadata": {},
   "source": [
    "final_pred_df = pd.concat([pd.Series(y_pred), probabilities_df_final], axis = 1)"
   ]
  },
  {
   "cell_type": "markdown",
   "metadata": {},
   "source": [
    "final_pred_df.rename(columns={0:'class_number'}, inplace = True)"
   ]
  },
  {
   "cell_type": "markdown",
   "metadata": {},
   "source": [
    "### predictions are outputted as csv file"
   ]
  },
  {
   "cell_type": "markdown",
   "metadata": {},
   "source": [
    "final_pred_df.to_csv('output/predictions.csv')\n"
   ]
  },
  {
   "cell_type": "markdown",
   "metadata": {},
   "source": [
    "uniques_list = list(uniques)\n",
    "def get_pred_names(row):\n",
    "    return(uniques_list[row['class_number']])\n",
    "final_pred_df['class_predictions'] = final_pred_df.apply(get_pred_names, axis = 1)"
   ]
  },
  {
   "cell_type": "markdown",
   "metadata": {},
   "source": [
    "final_pred_df.head()"
   ]
  }
 ],
 "metadata": {
  "kernelspec": {
   "display_name": "Python 3",
   "language": "python",
   "name": "python3"
  },
  "language_info": {
   "codemirror_mode": {
    "name": "ipython",
    "version": 3
   },
   "file_extension": ".py",
   "mimetype": "text/x-python",
   "name": "python",
   "nbconvert_exporter": "python",
   "pygments_lexer": "ipython3",
   "version": "3.6.5"
  }
 },
 "nbformat": 4,
 "nbformat_minor": 2
}
