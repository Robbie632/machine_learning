{
 "cells": [
  {
   "cell_type": "code",
   "execution_count": null,
   "metadata": {},
   "outputs": [],
   "source": []
  },
  {
   "cell_type": "markdown",
   "metadata": {},
   "source": [
    "# data preproccessing\n"
   ]
  },
  {
   "cell_type": "markdown",
   "metadata": {},
   "source": [
    "## import modules and configure notebook"
   ]
  },
  {
   "cell_type": "code",
   "execution_count": 1,
   "metadata": {},
   "outputs": [
    {
     "name": "stderr",
     "output_type": "stream",
     "text": [
      "/Users/robbie.morse/anaconda3/lib/python3.7/site-packages/tqdm/autonotebook/__init__.py:14: TqdmExperimentalWarning: Using `tqdm.autonotebook.tqdm` in notebook mode. Use `tqdm.tqdm` instead to force console mode (e.g. in jupyter console)\n",
      "  \" (e.g. in jupyter console)\", TqdmExperimentalWarning)\n"
     ]
    }
   ],
   "source": [
    "import pandas as pd\n",
    "import numpy as np\n",
    "import swifter\n",
    "import seaborn as sns\n",
    "pd.set_option('max.rows', None)\n",
    "pd.set_option('max.columns', None)\n",
    "\n",
    "\n",
    "from sklearn.decomposition import PCA \n",
    "from sklearn.manifold import TSNE\n",
    "from sklearn.preprocessing import StandardScaler\n",
    "%matplotlib inline"
   ]
  },
  {
   "cell_type": "markdown",
   "metadata": {},
   "source": [
    "### configurations\n",
    "* data_input_path -> string, filepath to data to be read in\n",
    "\n",
    "* grouping -> boolean, if set to True them many sites are grouped\n",
    "* reduced_grouping -> boolean, if set to True then less sites grouped, only bedrock sites 'WB' and 'BX are grouped into one class and superficial sites 'SV' and 'SE' are grouped into one class.\n",
    "* raw -> boolean, if set to True then no grouping done\n",
    "* drop_semi_bedrock ->  True|False, if set to True then some bedrock sites deemed to be semi-bedrock sites are not used for classification\n",
    "\n"
   ]
  },
  {
   "cell_type": "code",
   "execution_count": 2,
   "metadata": {},
   "outputs": [],
   "source": [
    "data_input_path = '../data/raw_data.csv'\n",
    "\n",
    "\n",
    "grouping = False\n",
    "\n",
    "reduced_grouping = False\n",
    "raw = False\n",
    "drop_semi_bedrock = False\n"
   ]
  },
  {
   "cell_type": "markdown",
   "metadata": {},
   "source": [
    "### Import data"
   ]
  },
  {
   "cell_type": "code",
   "execution_count": 3,
   "metadata": {},
   "outputs": [],
   "source": [
    "my_data = pd.read_csv(data_input_path)"
   ]
  },
  {
   "cell_type": "code",
   "execution_count": 5,
   "metadata": {},
   "outputs": [
    {
     "data": {
      "text/plain": [
       "Bedrock        808\n",
       "Superficial    435\n",
       "Artefacts      363\n",
       "Name: Geology, dtype: int64"
      ]
     },
     "execution_count": 5,
     "metadata": {},
     "output_type": "execute_result"
    }
   ],
   "source": [
    "my_data.Geology.value_counts()"
   ]
  },
  {
   "cell_type": "markdown",
   "metadata": {},
   "source": [
    "### features"
   ]
  },
  {
   "cell_type": "code",
   "execution_count": 4,
   "metadata": {},
   "outputs": [
    {
     "data": {
      "text/plain": [
       "array(['Li7', 'Be9', 'B11', 'Mg24', 'Al27', 'Si28', 'P31', 'S33', 'K39',\n",
       "       'Ca42', 'Sc45', 'Ti47', 'V51', 'Cr52', 'Mn55', 'Fe56', 'Co59',\n",
       "       'Ni60', 'Cu63', 'Zn68', 'Ga69', 'Ge72', 'As75', 'Rb85', 'Sr88',\n",
       "       'Y89', 'Zr90', 'Nb93', 'Mo95', 'Cd111', 'In115', 'Sn118', 'Cs133',\n",
       "       'Ba137', 'La139', 'Ce140', 'Pr141', 'Nd146', 'Sm147', 'Eu153',\n",
       "       'Gd157', 'Tb159', 'Dy163', 'Ho165', 'Er166', 'Tm169', 'Yb172',\n",
       "       'Lu175', 'Hf178', 'Ta181', 'Pb208', 'Th232'], dtype=object)"
      ]
     },
     "execution_count": 4,
     "metadata": {},
     "output_type": "execute_result"
    }
   ],
   "source": [
    "my_data.columns.values[9:-1]"
   ]
  },
  {
   "cell_type": "markdown",
   "metadata": {},
   "source": [
    "### raw sample names including sample sites and artefacts"
   ]
  },
  {
   "cell_type": "code",
   "execution_count": 5,
   "metadata": {},
   "outputs": [
    {
     "data": {
      "text/plain": [
       "array(['FH', 'ER', 'WW', 'TC', 'CS', 'BC', 'KQ', 'AR', 'SL', 'FG', 'WB',\n",
       "       'BX', 'PF', 'BM', 'WH', 'SQ', 'BP', 'WN', 'BH', 'PH', 'LB', 'AB',\n",
       "       'LV', 'BR', 'KY', 'BF', 'ST', 'SH', 'CF', 'BG', 'AC', 'CR', 'GH',\n",
       "       'PX', 'WF', 'DH', 'NMAG_Gold', 'NMW_Gold', 'NMWGwern', 'UBSS',\n",
       "       'Cefn', 'Stockley', 'Pucha', 'Woodbury', 'Pimple', 'Wellington',\n",
       "       'Lyonshall', 'SymondsYatE', 'Madawg', nan], dtype=object)"
      ]
     },
     "execution_count": 5,
     "metadata": {},
     "output_type": "execute_result"
    }
   ],
   "source": [
    "my_data['Site'].unique()"
   ]
  },
  {
   "cell_type": "markdown",
   "metadata": {},
   "source": [
    "### define functions for making target classes for classification"
   ]
  },
  {
   "cell_type": "code",
   "execution_count": 6,
   "metadata": {},
   "outputs": [],
   "source": [
    "\n",
    "def make_classes_grouped(row):\n",
    "    if row['Geology'] == 'Bedrock':\n",
    "        if row['Site'] == 'WB' or row['Site'] == 'BX':\n",
    "            return('WB_BX')\n",
    "        elif row['Site'] == 'BC' or row['Site'] == 'CS':\n",
    "            return('BC_CS')\n",
    "        elif row['Site'] == 'SQ' or row['Site'] == 'BP':\n",
    "            return('SQ_BP')\n",
    "        else:\n",
    "            return(row['Site'])\n",
    "    elif row['Geology'] == 'Superficial':\n",
    "        if row['Region'] == 'SV' or row['Region'] == 'SE':\n",
    "            return('SV_SE')\n",
    "        else:\n",
    "            return(row['Region'])\n",
    "        \n",
    "def make_classes_grouped_reduced(row):\n",
    "    if row['Geology'] == 'Bedrock':\n",
    "        if row['Site'] == 'WB' or row['Site'] == 'BX':\n",
    "            return('WB_BX')\n",
    "        else:\n",
    "            return(row['Site'])\n",
    "    elif row['Geology'] == 'Superficial':\n",
    "        if row['Region'] == 'SV' or row['Region'] == 'SE':\n",
    "            return('SV_SE')\n",
    "        else:\n",
    "            return(row['Region'])\n",
    "\n",
    "def make_classes_raw(row):\n",
    "    if row['Geology'] == 'Bedrock':\n",
    "        return(row['Site'])\n",
    "    elif row['Geology'] == 'Superficial':\n",
    "        return(row['Region'])\n",
    "\n",
    "\n",
    "\n",
    "     "
   ]
  },
  {
   "cell_type": "markdown",
   "metadata": {},
   "source": [
    "### targets for classification are made"
   ]
  },
  {
   "cell_type": "code",
   "execution_count": 7,
   "metadata": {},
   "outputs": [],
   "source": [
    "my_data['class'] = 'init'   \n",
    "\n",
    "if grouping:\n",
    "    my_data['class'] = my_data.apply(make_classes_grouped, axis = 1)\n",
    "elif grouping_reduced:\n",
    "    my_data['class'] = my_data.apply(make_classes_grouped_reduced, axis = 1)\n",
    "elif raw:\n",
    "    my_data['class'] = my_data.apply(make_classes_raw, axis = 1)\n",
    "\n",
    "    \n"
   ]
  },
  {
   "cell_type": "code",
   "execution_count": 8,
   "metadata": {},
   "outputs": [],
   "source": [
    "if drop_semi_bedrock:\n",
    "    my_data = my_data[(my_data['class'] != 'BM') & (my_data['class'] != 'BC') & (my_data['class'] != 'BP') ]"
   ]
  },
  {
   "cell_type": "markdown",
   "metadata": {},
   "source": [
    "### remove '<' signs and commas from feature values"
   ]
  },
  {
   "cell_type": "code",
   "execution_count": 9,
   "metadata": {},
   "outputs": [
    {
     "data": {
      "application/vnd.jupyter.widget-view+json": {
       "model_id": "366b3a787f6b447abc9f48c83c14c075",
       "version_major": 2,
       "version_minor": 0
      },
      "text/plain": [
       "HBox(children=(IntProgress(value=0, description='Pandas Apply', max=1597, style=ProgressStyle(description_widt…"
      ]
     },
     "metadata": {},
     "output_type": "display_data"
    },
    {
     "name": "stdout",
     "output_type": "stream",
     "text": [
      "\n"
     ]
    },
    {
     "data": {
      "application/vnd.jupyter.widget-view+json": {
       "model_id": "faec2010932c48fb87f1bcdee3f97ba0",
       "version_major": 2,
       "version_minor": 0
      },
      "text/plain": [
       "HBox(children=(IntProgress(value=0, description='Pandas Apply', max=1597, style=ProgressStyle(description_widt…"
      ]
     },
     "metadata": {},
     "output_type": "display_data"
    },
    {
     "name": "stdout",
     "output_type": "stream",
     "text": [
      "\n"
     ]
    },
    {
     "data": {
      "application/vnd.jupyter.widget-view+json": {
       "model_id": "13459cd3210d4b918be30e4aab247739",
       "version_major": 2,
       "version_minor": 0
      },
      "text/plain": [
       "HBox(children=(IntProgress(value=0, description='Pandas Apply', max=1597, style=ProgressStyle(description_widt…"
      ]
     },
     "metadata": {},
     "output_type": "display_data"
    },
    {
     "name": "stdout",
     "output_type": "stream",
     "text": [
      "\n"
     ]
    },
    {
     "data": {
      "application/vnd.jupyter.widget-view+json": {
       "model_id": "861c59065af84eca8b1fb9c9b1a8e66f",
       "version_major": 2,
       "version_minor": 0
      },
      "text/plain": [
       "HBox(children=(IntProgress(value=0, description='Pandas Apply', max=1597, style=ProgressStyle(description_widt…"
      ]
     },
     "metadata": {},
     "output_type": "display_data"
    },
    {
     "name": "stdout",
     "output_type": "stream",
     "text": [
      "\n"
     ]
    },
    {
     "data": {
      "application/vnd.jupyter.widget-view+json": {
       "model_id": "adb11654f1c045aea0dd4db1cb1a0ce3",
       "version_major": 2,
       "version_minor": 0
      },
      "text/plain": [
       "HBox(children=(IntProgress(value=0, description='Pandas Apply', max=1597, style=ProgressStyle(description_widt…"
      ]
     },
     "metadata": {},
     "output_type": "display_data"
    },
    {
     "name": "stdout",
     "output_type": "stream",
     "text": [
      "\n"
     ]
    },
    {
     "data": {
      "application/vnd.jupyter.widget-view+json": {
       "model_id": "b15ebe41c12848f7a3099b69fa170e39",
       "version_major": 2,
       "version_minor": 0
      },
      "text/plain": [
       "HBox(children=(IntProgress(value=0, description='Pandas Apply', max=1597, style=ProgressStyle(description_widt…"
      ]
     },
     "metadata": {},
     "output_type": "display_data"
    },
    {
     "name": "stdout",
     "output_type": "stream",
     "text": [
      "\n"
     ]
    },
    {
     "data": {
      "application/vnd.jupyter.widget-view+json": {
       "model_id": "040dd90b256b45aaba32bbd972b7fbc9",
       "version_major": 2,
       "version_minor": 0
      },
      "text/plain": [
       "HBox(children=(IntProgress(value=0, description='Pandas Apply', max=1597, style=ProgressStyle(description_widt…"
      ]
     },
     "metadata": {},
     "output_type": "display_data"
    },
    {
     "name": "stdout",
     "output_type": "stream",
     "text": [
      "\n"
     ]
    },
    {
     "data": {
      "application/vnd.jupyter.widget-view+json": {
       "model_id": "5f34b0238c894f549495aeab8bc47f5c",
       "version_major": 2,
       "version_minor": 0
      },
      "text/plain": [
       "HBox(children=(IntProgress(value=0, description='Pandas Apply', max=1597, style=ProgressStyle(description_widt…"
      ]
     },
     "metadata": {},
     "output_type": "display_data"
    },
    {
     "name": "stdout",
     "output_type": "stream",
     "text": [
      "\n"
     ]
    },
    {
     "data": {
      "application/vnd.jupyter.widget-view+json": {
       "model_id": "f40d9a141e764c55935689b5eb528cbe",
       "version_major": 2,
       "version_minor": 0
      },
      "text/plain": [
       "HBox(children=(IntProgress(value=0, description='Pandas Apply', max=1597, style=ProgressStyle(description_widt…"
      ]
     },
     "metadata": {},
     "output_type": "display_data"
    },
    {
     "name": "stdout",
     "output_type": "stream",
     "text": [
      "\n"
     ]
    },
    {
     "data": {
      "application/vnd.jupyter.widget-view+json": {
       "model_id": "f6cc180ea0ea475db01f10b6f0a320ba",
       "version_major": 2,
       "version_minor": 0
      },
      "text/plain": [
       "HBox(children=(IntProgress(value=0, description='Pandas Apply', max=1597, style=ProgressStyle(description_widt…"
      ]
     },
     "metadata": {},
     "output_type": "display_data"
    },
    {
     "name": "stdout",
     "output_type": "stream",
     "text": [
      "\n"
     ]
    },
    {
     "data": {
      "application/vnd.jupyter.widget-view+json": {
       "model_id": "3586eed21c254487b038c6e48136414f",
       "version_major": 2,
       "version_minor": 0
      },
      "text/plain": [
       "HBox(children=(IntProgress(value=0, description='Pandas Apply', max=1597, style=ProgressStyle(description_widt…"
      ]
     },
     "metadata": {},
     "output_type": "display_data"
    },
    {
     "name": "stdout",
     "output_type": "stream",
     "text": [
      "\n"
     ]
    },
    {
     "data": {
      "application/vnd.jupyter.widget-view+json": {
       "model_id": "be8b96c439ee4330973bdea71f0ef268",
       "version_major": 2,
       "version_minor": 0
      },
      "text/plain": [
       "HBox(children=(IntProgress(value=0, description='Pandas Apply', max=1597, style=ProgressStyle(description_widt…"
      ]
     },
     "metadata": {},
     "output_type": "display_data"
    },
    {
     "name": "stdout",
     "output_type": "stream",
     "text": [
      "\n"
     ]
    },
    {
     "data": {
      "application/vnd.jupyter.widget-view+json": {
       "model_id": "1503340f0c354f269012044681652ec1",
       "version_major": 2,
       "version_minor": 0
      },
      "text/plain": [
       "HBox(children=(IntProgress(value=0, description='Pandas Apply', max=1597, style=ProgressStyle(description_widt…"
      ]
     },
     "metadata": {},
     "output_type": "display_data"
    },
    {
     "name": "stdout",
     "output_type": "stream",
     "text": [
      "\n"
     ]
    },
    {
     "data": {
      "application/vnd.jupyter.widget-view+json": {
       "model_id": "aeddb588946440968fb4bd292c4c6bcb",
       "version_major": 2,
       "version_minor": 0
      },
      "text/plain": [
       "HBox(children=(IntProgress(value=0, description='Pandas Apply', max=1597, style=ProgressStyle(description_widt…"
      ]
     },
     "metadata": {},
     "output_type": "display_data"
    },
    {
     "name": "stdout",
     "output_type": "stream",
     "text": [
      "\n"
     ]
    },
    {
     "data": {
      "application/vnd.jupyter.widget-view+json": {
       "model_id": "26dd5357334444e4bc9651f5d45914d4",
       "version_major": 2,
       "version_minor": 0
      },
      "text/plain": [
       "HBox(children=(IntProgress(value=0, description='Pandas Apply', max=1597, style=ProgressStyle(description_widt…"
      ]
     },
     "metadata": {},
     "output_type": "display_data"
    },
    {
     "name": "stdout",
     "output_type": "stream",
     "text": [
      "\n"
     ]
    },
    {
     "data": {
      "application/vnd.jupyter.widget-view+json": {
       "model_id": "a3544dbb0ce44298b5d8a416e700263a",
       "version_major": 2,
       "version_minor": 0
      },
      "text/plain": [
       "HBox(children=(IntProgress(value=0, description='Pandas Apply', max=1597, style=ProgressStyle(description_widt…"
      ]
     },
     "metadata": {},
     "output_type": "display_data"
    },
    {
     "name": "stdout",
     "output_type": "stream",
     "text": [
      "\n"
     ]
    },
    {
     "data": {
      "application/vnd.jupyter.widget-view+json": {
       "model_id": "7c98f345f385433fb688a5a7367337b3",
       "version_major": 2,
       "version_minor": 0
      },
      "text/plain": [
       "HBox(children=(IntProgress(value=0, description='Pandas Apply', max=1597, style=ProgressStyle(description_widt…"
      ]
     },
     "metadata": {},
     "output_type": "display_data"
    },
    {
     "name": "stdout",
     "output_type": "stream",
     "text": [
      "\n"
     ]
    },
    {
     "data": {
      "application/vnd.jupyter.widget-view+json": {
       "model_id": "2bbc80df64e74da6bd6b621b9683f52d",
       "version_major": 2,
       "version_minor": 0
      },
      "text/plain": [
       "HBox(children=(IntProgress(value=0, description='Pandas Apply', max=1597, style=ProgressStyle(description_widt…"
      ]
     },
     "metadata": {},
     "output_type": "display_data"
    },
    {
     "name": "stdout",
     "output_type": "stream",
     "text": [
      "\n"
     ]
    },
    {
     "data": {
      "application/vnd.jupyter.widget-view+json": {
       "model_id": "5b62d75479f14d1a95d1f2be050e528f",
       "version_major": 2,
       "version_minor": 0
      },
      "text/plain": [
       "HBox(children=(IntProgress(value=0, description='Pandas Apply', max=1597, style=ProgressStyle(description_widt…"
      ]
     },
     "metadata": {},
     "output_type": "display_data"
    },
    {
     "name": "stdout",
     "output_type": "stream",
     "text": [
      "\n"
     ]
    },
    {
     "data": {
      "application/vnd.jupyter.widget-view+json": {
       "model_id": "a83099fef4e14dd9aa18c1a01befbb0a",
       "version_major": 2,
       "version_minor": 0
      },
      "text/plain": [
       "HBox(children=(IntProgress(value=0, description='Pandas Apply', max=1597, style=ProgressStyle(description_widt…"
      ]
     },
     "metadata": {},
     "output_type": "display_data"
    },
    {
     "name": "stdout",
     "output_type": "stream",
     "text": [
      "\n"
     ]
    },
    {
     "data": {
      "application/vnd.jupyter.widget-view+json": {
       "model_id": "bfc2c56a728f493c94a699bfc60210e7",
       "version_major": 2,
       "version_minor": 0
      },
      "text/plain": [
       "HBox(children=(IntProgress(value=0, description='Pandas Apply', max=1597, style=ProgressStyle(description_widt…"
      ]
     },
     "metadata": {},
     "output_type": "display_data"
    },
    {
     "name": "stdout",
     "output_type": "stream",
     "text": [
      "\n"
     ]
    },
    {
     "data": {
      "application/vnd.jupyter.widget-view+json": {
       "model_id": "02687e375626493fac779c03b35e2108",
       "version_major": 2,
       "version_minor": 0
      },
      "text/plain": [
       "HBox(children=(IntProgress(value=0, description='Pandas Apply', max=1597, style=ProgressStyle(description_widt…"
      ]
     },
     "metadata": {},
     "output_type": "display_data"
    },
    {
     "name": "stdout",
     "output_type": "stream",
     "text": [
      "\n"
     ]
    },
    {
     "data": {
      "application/vnd.jupyter.widget-view+json": {
       "model_id": "478bbb3a4069488790f9f8cf3973d0ae",
       "version_major": 2,
       "version_minor": 0
      },
      "text/plain": [
       "HBox(children=(IntProgress(value=0, description='Pandas Apply', max=1597, style=ProgressStyle(description_widt…"
      ]
     },
     "metadata": {},
     "output_type": "display_data"
    },
    {
     "name": "stdout",
     "output_type": "stream",
     "text": [
      "\n"
     ]
    },
    {
     "data": {
      "application/vnd.jupyter.widget-view+json": {
       "model_id": "9f0c1c9c5414432ead6ed82c7b0858ec",
       "version_major": 2,
       "version_minor": 0
      },
      "text/plain": [
       "HBox(children=(IntProgress(value=0, description='Pandas Apply', max=1597, style=ProgressStyle(description_widt…"
      ]
     },
     "metadata": {},
     "output_type": "display_data"
    },
    {
     "name": "stdout",
     "output_type": "stream",
     "text": [
      "\n"
     ]
    },
    {
     "data": {
      "application/vnd.jupyter.widget-view+json": {
       "model_id": "b76734593cd0419396a15c9e02b81fc1",
       "version_major": 2,
       "version_minor": 0
      },
      "text/plain": [
       "HBox(children=(IntProgress(value=0, description='Pandas Apply', max=1597, style=ProgressStyle(description_widt…"
      ]
     },
     "metadata": {},
     "output_type": "display_data"
    },
    {
     "name": "stdout",
     "output_type": "stream",
     "text": [
      "\n"
     ]
    },
    {
     "data": {
      "application/vnd.jupyter.widget-view+json": {
       "model_id": "4e082c29c46c4e20871196f97e2a8165",
       "version_major": 2,
       "version_minor": 0
      },
      "text/plain": [
       "HBox(children=(IntProgress(value=0, description='Pandas Apply', max=1597, style=ProgressStyle(description_widt…"
      ]
     },
     "metadata": {},
     "output_type": "display_data"
    },
    {
     "name": "stdout",
     "output_type": "stream",
     "text": [
      "\n"
     ]
    },
    {
     "data": {
      "application/vnd.jupyter.widget-view+json": {
       "model_id": "88ef9bda46cf42bfad345c6772ccaf81",
       "version_major": 2,
       "version_minor": 0
      },
      "text/plain": [
       "HBox(children=(IntProgress(value=0, description='Pandas Apply', max=1597, style=ProgressStyle(description_widt…"
      ]
     },
     "metadata": {},
     "output_type": "display_data"
    },
    {
     "name": "stdout",
     "output_type": "stream",
     "text": [
      "\n"
     ]
    },
    {
     "data": {
      "application/vnd.jupyter.widget-view+json": {
       "model_id": "f5253aa9c4734469bb8fd132eab8929c",
       "version_major": 2,
       "version_minor": 0
      },
      "text/plain": [
       "HBox(children=(IntProgress(value=0, description='Pandas Apply', max=1597, style=ProgressStyle(description_widt…"
      ]
     },
     "metadata": {},
     "output_type": "display_data"
    },
    {
     "name": "stdout",
     "output_type": "stream",
     "text": [
      "\n"
     ]
    },
    {
     "data": {
      "application/vnd.jupyter.widget-view+json": {
       "model_id": "bc035154e0634d15b50b17773d48eaf3",
       "version_major": 2,
       "version_minor": 0
      },
      "text/plain": [
       "HBox(children=(IntProgress(value=0, description='Pandas Apply', max=1597, style=ProgressStyle(description_widt…"
      ]
     },
     "metadata": {},
     "output_type": "display_data"
    },
    {
     "name": "stdout",
     "output_type": "stream",
     "text": [
      "\n"
     ]
    },
    {
     "data": {
      "application/vnd.jupyter.widget-view+json": {
       "model_id": "8ec6c5c9916b4700b61973ac40acc9de",
       "version_major": 2,
       "version_minor": 0
      },
      "text/plain": [
       "HBox(children=(IntProgress(value=0, description='Pandas Apply', max=1597, style=ProgressStyle(description_widt…"
      ]
     },
     "metadata": {},
     "output_type": "display_data"
    },
    {
     "name": "stdout",
     "output_type": "stream",
     "text": [
      "\n"
     ]
    },
    {
     "data": {
      "application/vnd.jupyter.widget-view+json": {
       "model_id": "939dbae6e969420f9db30ae2cd05e9ba",
       "version_major": 2,
       "version_minor": 0
      },
      "text/plain": [
       "HBox(children=(IntProgress(value=0, description='Pandas Apply', max=1597, style=ProgressStyle(description_widt…"
      ]
     },
     "metadata": {},
     "output_type": "display_data"
    },
    {
     "name": "stdout",
     "output_type": "stream",
     "text": [
      "\n"
     ]
    },
    {
     "data": {
      "application/vnd.jupyter.widget-view+json": {
       "model_id": "6e3510137ca442359ade8ab553afaf12",
       "version_major": 2,
       "version_minor": 0
      },
      "text/plain": [
       "HBox(children=(IntProgress(value=0, description='Pandas Apply', max=1597, style=ProgressStyle(description_widt…"
      ]
     },
     "metadata": {},
     "output_type": "display_data"
    },
    {
     "name": "stdout",
     "output_type": "stream",
     "text": [
      "\n"
     ]
    },
    {
     "data": {
      "application/vnd.jupyter.widget-view+json": {
       "model_id": "03df2e350de648c4b6e1d56214b8d221",
       "version_major": 2,
       "version_minor": 0
      },
      "text/plain": [
       "HBox(children=(IntProgress(value=0, description='Pandas Apply', max=1597, style=ProgressStyle(description_widt…"
      ]
     },
     "metadata": {},
     "output_type": "display_data"
    },
    {
     "name": "stdout",
     "output_type": "stream",
     "text": [
      "\n"
     ]
    },
    {
     "data": {
      "application/vnd.jupyter.widget-view+json": {
       "model_id": "844ef4280d2a4c29b9b0ca779ff985cd",
       "version_major": 2,
       "version_minor": 0
      },
      "text/plain": [
       "HBox(children=(IntProgress(value=0, description='Pandas Apply', max=1597, style=ProgressStyle(description_widt…"
      ]
     },
     "metadata": {},
     "output_type": "display_data"
    },
    {
     "name": "stdout",
     "output_type": "stream",
     "text": [
      "\n"
     ]
    },
    {
     "data": {
      "application/vnd.jupyter.widget-view+json": {
       "model_id": "cb656cbeb60741119cda5d0814c92132",
       "version_major": 2,
       "version_minor": 0
      },
      "text/plain": [
       "HBox(children=(IntProgress(value=0, description='Pandas Apply', max=1597, style=ProgressStyle(description_widt…"
      ]
     },
     "metadata": {},
     "output_type": "display_data"
    },
    {
     "name": "stdout",
     "output_type": "stream",
     "text": [
      "\n"
     ]
    },
    {
     "data": {
      "application/vnd.jupyter.widget-view+json": {
       "model_id": "01faa6d7609b44a69fd637662ff1d393",
       "version_major": 2,
       "version_minor": 0
      },
      "text/plain": [
       "HBox(children=(IntProgress(value=0, description='Pandas Apply', max=1597, style=ProgressStyle(description_widt…"
      ]
     },
     "metadata": {},
     "output_type": "display_data"
    },
    {
     "name": "stdout",
     "output_type": "stream",
     "text": [
      "\n"
     ]
    },
    {
     "data": {
      "application/vnd.jupyter.widget-view+json": {
       "model_id": "2877484922a4439f9ac7876d7ab8a0d5",
       "version_major": 2,
       "version_minor": 0
      },
      "text/plain": [
       "HBox(children=(IntProgress(value=0, description='Pandas Apply', max=1597, style=ProgressStyle(description_widt…"
      ]
     },
     "metadata": {},
     "output_type": "display_data"
    },
    {
     "name": "stdout",
     "output_type": "stream",
     "text": [
      "\n"
     ]
    },
    {
     "data": {
      "application/vnd.jupyter.widget-view+json": {
       "model_id": "7a062ff2149542f5af617b46982f851f",
       "version_major": 2,
       "version_minor": 0
      },
      "text/plain": [
       "HBox(children=(IntProgress(value=0, description='Pandas Apply', max=1597, style=ProgressStyle(description_widt…"
      ]
     },
     "metadata": {},
     "output_type": "display_data"
    },
    {
     "name": "stdout",
     "output_type": "stream",
     "text": [
      "\n"
     ]
    },
    {
     "data": {
      "application/vnd.jupyter.widget-view+json": {
       "model_id": "325a09b1d37e42cfbfd677473a55e494",
       "version_major": 2,
       "version_minor": 0
      },
      "text/plain": [
       "HBox(children=(IntProgress(value=0, description='Pandas Apply', max=1597, style=ProgressStyle(description_widt…"
      ]
     },
     "metadata": {},
     "output_type": "display_data"
    },
    {
     "name": "stdout",
     "output_type": "stream",
     "text": [
      "\n"
     ]
    },
    {
     "data": {
      "application/vnd.jupyter.widget-view+json": {
       "model_id": "586b19f9eb1049e8b174f43eef7e4dc5",
       "version_major": 2,
       "version_minor": 0
      },
      "text/plain": [
       "HBox(children=(IntProgress(value=0, description='Pandas Apply', max=1597, style=ProgressStyle(description_widt…"
      ]
     },
     "metadata": {},
     "output_type": "display_data"
    },
    {
     "name": "stdout",
     "output_type": "stream",
     "text": [
      "\n"
     ]
    },
    {
     "data": {
      "application/vnd.jupyter.widget-view+json": {
       "model_id": "54568fa562ab4b3394782a7ce37be8bc",
       "version_major": 2,
       "version_minor": 0
      },
      "text/plain": [
       "HBox(children=(IntProgress(value=0, description='Pandas Apply', max=1597, style=ProgressStyle(description_widt…"
      ]
     },
     "metadata": {},
     "output_type": "display_data"
    },
    {
     "name": "stdout",
     "output_type": "stream",
     "text": [
      "\n"
     ]
    },
    {
     "data": {
      "application/vnd.jupyter.widget-view+json": {
       "model_id": "f5d27746967c4d088f1606fbb357f177",
       "version_major": 2,
       "version_minor": 0
      },
      "text/plain": [
       "HBox(children=(IntProgress(value=0, description='Pandas Apply', max=1597, style=ProgressStyle(description_widt…"
      ]
     },
     "metadata": {},
     "output_type": "display_data"
    },
    {
     "name": "stdout",
     "output_type": "stream",
     "text": [
      "\n"
     ]
    },
    {
     "data": {
      "application/vnd.jupyter.widget-view+json": {
       "model_id": "7ecf11d1fc5344079a6f003d1ebaf02d",
       "version_major": 2,
       "version_minor": 0
      },
      "text/plain": [
       "HBox(children=(IntProgress(value=0, description='Pandas Apply', max=1597, style=ProgressStyle(description_widt…"
      ]
     },
     "metadata": {},
     "output_type": "display_data"
    },
    {
     "name": "stdout",
     "output_type": "stream",
     "text": [
      "\n"
     ]
    },
    {
     "data": {
      "application/vnd.jupyter.widget-view+json": {
       "model_id": "8b458fd0be5647489832a40e26cb5ced",
       "version_major": 2,
       "version_minor": 0
      },
      "text/plain": [
       "HBox(children=(IntProgress(value=0, description='Pandas Apply', max=1597, style=ProgressStyle(description_widt…"
      ]
     },
     "metadata": {},
     "output_type": "display_data"
    },
    {
     "name": "stdout",
     "output_type": "stream",
     "text": [
      "\n"
     ]
    },
    {
     "data": {
      "application/vnd.jupyter.widget-view+json": {
       "model_id": "d1d2713068db4659941aae0738b84d61",
       "version_major": 2,
       "version_minor": 0
      },
      "text/plain": [
       "HBox(children=(IntProgress(value=0, description='Pandas Apply', max=1597, style=ProgressStyle(description_widt…"
      ]
     },
     "metadata": {},
     "output_type": "display_data"
    },
    {
     "name": "stdout",
     "output_type": "stream",
     "text": [
      "\n"
     ]
    },
    {
     "data": {
      "application/vnd.jupyter.widget-view+json": {
       "model_id": "81110539aeb542739d1aec6f5743a4c9",
       "version_major": 2,
       "version_minor": 0
      },
      "text/plain": [
       "HBox(children=(IntProgress(value=0, description='Pandas Apply', max=1597, style=ProgressStyle(description_widt…"
      ]
     },
     "metadata": {},
     "output_type": "display_data"
    },
    {
     "name": "stdout",
     "output_type": "stream",
     "text": [
      "\n"
     ]
    },
    {
     "data": {
      "application/vnd.jupyter.widget-view+json": {
       "model_id": "0d9418ed1def4bc4a09b2cec9101fbc8",
       "version_major": 2,
       "version_minor": 0
      },
      "text/plain": [
       "HBox(children=(IntProgress(value=0, description='Pandas Apply', max=1597, style=ProgressStyle(description_widt…"
      ]
     },
     "metadata": {},
     "output_type": "display_data"
    },
    {
     "name": "stdout",
     "output_type": "stream",
     "text": [
      "\n"
     ]
    },
    {
     "data": {
      "application/vnd.jupyter.widget-view+json": {
       "model_id": "4054d3375b1f4ec0a227f8a950def12a",
       "version_major": 2,
       "version_minor": 0
      },
      "text/plain": [
       "HBox(children=(IntProgress(value=0, description='Pandas Apply', max=1597, style=ProgressStyle(description_widt…"
      ]
     },
     "metadata": {},
     "output_type": "display_data"
    },
    {
     "name": "stdout",
     "output_type": "stream",
     "text": [
      "\n"
     ]
    },
    {
     "data": {
      "application/vnd.jupyter.widget-view+json": {
       "model_id": "2c32cc692dda4461880f7693491f2ee1",
       "version_major": 2,
       "version_minor": 0
      },
      "text/plain": [
       "HBox(children=(IntProgress(value=0, description='Pandas Apply', max=1597, style=ProgressStyle(description_widt…"
      ]
     },
     "metadata": {},
     "output_type": "display_data"
    },
    {
     "name": "stdout",
     "output_type": "stream",
     "text": [
      "\n"
     ]
    },
    {
     "data": {
      "application/vnd.jupyter.widget-view+json": {
       "model_id": "1709931012f64d4d8015224bab3e1630",
       "version_major": 2,
       "version_minor": 0
      },
      "text/plain": [
       "HBox(children=(IntProgress(value=0, description='Pandas Apply', max=1597, style=ProgressStyle(description_widt…"
      ]
     },
     "metadata": {},
     "output_type": "display_data"
    },
    {
     "name": "stdout",
     "output_type": "stream",
     "text": [
      "\n"
     ]
    },
    {
     "data": {
      "application/vnd.jupyter.widget-view+json": {
       "model_id": "7c6682480f78451a97451d802da9e49e",
       "version_major": 2,
       "version_minor": 0
      },
      "text/plain": [
       "HBox(children=(IntProgress(value=0, description='Pandas Apply', max=1597, style=ProgressStyle(description_widt…"
      ]
     },
     "metadata": {},
     "output_type": "display_data"
    },
    {
     "name": "stdout",
     "output_type": "stream",
     "text": [
      "\n"
     ]
    },
    {
     "data": {
      "application/vnd.jupyter.widget-view+json": {
       "model_id": "26e152a220fd4445af5f711a6eb20155",
       "version_major": 2,
       "version_minor": 0
      },
      "text/plain": [
       "HBox(children=(IntProgress(value=0, description='Pandas Apply', max=1597, style=ProgressStyle(description_widt…"
      ]
     },
     "metadata": {},
     "output_type": "display_data"
    },
    {
     "name": "stdout",
     "output_type": "stream",
     "text": [
      "\n"
     ]
    },
    {
     "data": {
      "application/vnd.jupyter.widget-view+json": {
       "model_id": "8534a125eda84634ae81284e1a4c7118",
       "version_major": 2,
       "version_minor": 0
      },
      "text/plain": [
       "HBox(children=(IntProgress(value=0, description='Pandas Apply', max=1597, style=ProgressStyle(description_widt…"
      ]
     },
     "metadata": {},
     "output_type": "display_data"
    },
    {
     "name": "stdout",
     "output_type": "stream",
     "text": [
      "\n"
     ]
    }
   ],
   "source": [
    "for column_name in my_data.columns.values[9:-1]:\n",
    "    def fill_less_than(row):\n",
    "        if 'DL' in  str(row[column_name]):\n",
    "            return(np.nan)\n",
    "        if '<' in str(row[column_name]):\n",
    "            return(float(row[column_name].replace('<', '').replace(',', '')))\n",
    "        else:\n",
    "            return(float(row[column_name]))\n",
    "    my_data[column_name] = my_data.swifter.apply(fill_less_than, axis = 1)"
   ]
  },
  {
   "cell_type": "markdown",
   "metadata": {},
   "source": [
    "### remove rows where there are all element abundances are na values "
   ]
  },
  {
   "cell_type": "code",
   "execution_count": 10,
   "metadata": {},
   "outputs": [],
   "source": [
    "my_data = my_data.dropna(subset=my_data.columns.values[9:-1], how = 'all' , axis = 0)"
   ]
  },
  {
   "cell_type": "markdown",
   "metadata": {},
   "source": [
    "### Impute na values with feature mean"
   ]
  },
  {
   "cell_type": "code",
   "execution_count": 11,
   "metadata": {},
   "outputs": [],
   "source": [
    "for column_name in my_data.columns.values[9:-1]:\n",
    "    my_data[column_name] = my_data[column_name].fillna(my_data[column_name].mean()) "
   ]
  },
  {
   "cell_type": "markdown",
   "metadata": {},
   "source": [
    "### Outliers defined as any values that exceed 2 standard deviations from the mean, such values are changed to the mean for that variable"
   ]
  },
  {
   "cell_type": "code",
   "execution_count": 12,
   "metadata": {},
   "outputs": [],
   "source": [
    "std_dict = {}\n",
    "mean_dict = {}\n",
    "median_dict = {}\n",
    "\n",
    "for col in my_data.columns.values[9:-1]:\n",
    "    std_dict[col] = my_data[col].std()\n",
    "    \n",
    "for col in my_data.columns.values[9:-1]:\n",
    "    mean_dict[col] = my_data[col].mean()\n",
    "    \n",
    "for col in my_data.columns.values[9:-1]:\n",
    "    median_dict[col] = my_data[col].median()\n",
    "    "
   ]
  },
  {
   "cell_type": "code",
   "execution_count": 13,
   "metadata": {},
   "outputs": [
    {
     "data": {
      "application/vnd.jupyter.widget-view+json": {
       "model_id": "915fec0b24f940bb87f66ff070d8cb35",
       "version_major": 2,
       "version_minor": 0
      },
      "text/plain": [
       "HBox(children=(IntProgress(value=0, description='Pandas Apply', max=1566, style=ProgressStyle(description_widt…"
      ]
     },
     "metadata": {},
     "output_type": "display_data"
    },
    {
     "name": "stdout",
     "output_type": "stream",
     "text": [
      "\n"
     ]
    },
    {
     "data": {
      "application/vnd.jupyter.widget-view+json": {
       "model_id": "faaa52bc3e7841eeb0be56d1fdab498f",
       "version_major": 2,
       "version_minor": 0
      },
      "text/plain": [
       "HBox(children=(IntProgress(value=0, description='Pandas Apply', max=1566, style=ProgressStyle(description_widt…"
      ]
     },
     "metadata": {},
     "output_type": "display_data"
    },
    {
     "name": "stdout",
     "output_type": "stream",
     "text": [
      "\n"
     ]
    },
    {
     "data": {
      "application/vnd.jupyter.widget-view+json": {
       "model_id": "9934ba4cd92b487ca985668c405d3571",
       "version_major": 2,
       "version_minor": 0
      },
      "text/plain": [
       "HBox(children=(IntProgress(value=0, description='Pandas Apply', max=1566, style=ProgressStyle(description_widt…"
      ]
     },
     "metadata": {},
     "output_type": "display_data"
    },
    {
     "name": "stdout",
     "output_type": "stream",
     "text": [
      "\n"
     ]
    },
    {
     "data": {
      "application/vnd.jupyter.widget-view+json": {
       "model_id": "c35283852abe40ceba73f8020335ed88",
       "version_major": 2,
       "version_minor": 0
      },
      "text/plain": [
       "HBox(children=(IntProgress(value=0, description='Pandas Apply', max=1566, style=ProgressStyle(description_widt…"
      ]
     },
     "metadata": {},
     "output_type": "display_data"
    },
    {
     "name": "stdout",
     "output_type": "stream",
     "text": [
      "\n"
     ]
    },
    {
     "data": {
      "application/vnd.jupyter.widget-view+json": {
       "model_id": "87f258de8b0b48f09cd6a43ee3582030",
       "version_major": 2,
       "version_minor": 0
      },
      "text/plain": [
       "HBox(children=(IntProgress(value=0, description='Pandas Apply', max=1566, style=ProgressStyle(description_widt…"
      ]
     },
     "metadata": {},
     "output_type": "display_data"
    },
    {
     "name": "stdout",
     "output_type": "stream",
     "text": [
      "\n"
     ]
    },
    {
     "data": {
      "application/vnd.jupyter.widget-view+json": {
       "model_id": "456ac4a8afc74d1db29e97cb82550a68",
       "version_major": 2,
       "version_minor": 0
      },
      "text/plain": [
       "HBox(children=(IntProgress(value=0, description='Pandas Apply', max=1566, style=ProgressStyle(description_widt…"
      ]
     },
     "metadata": {},
     "output_type": "display_data"
    },
    {
     "name": "stdout",
     "output_type": "stream",
     "text": [
      "\n"
     ]
    },
    {
     "data": {
      "application/vnd.jupyter.widget-view+json": {
       "model_id": "00836089bfec484c8c66775ae00d4714",
       "version_major": 2,
       "version_minor": 0
      },
      "text/plain": [
       "HBox(children=(IntProgress(value=0, description='Pandas Apply', max=1566, style=ProgressStyle(description_widt…"
      ]
     },
     "metadata": {},
     "output_type": "display_data"
    },
    {
     "name": "stdout",
     "output_type": "stream",
     "text": [
      "\n"
     ]
    },
    {
     "data": {
      "application/vnd.jupyter.widget-view+json": {
       "model_id": "84bef1f0efe34ae892100cfe9a5d9f5d",
       "version_major": 2,
       "version_minor": 0
      },
      "text/plain": [
       "HBox(children=(IntProgress(value=0, description='Pandas Apply', max=1566, style=ProgressStyle(description_widt…"
      ]
     },
     "metadata": {},
     "output_type": "display_data"
    },
    {
     "name": "stdout",
     "output_type": "stream",
     "text": [
      "\n"
     ]
    },
    {
     "data": {
      "application/vnd.jupyter.widget-view+json": {
       "model_id": "ab2ae74dc90142009aefb5ce14d42074",
       "version_major": 2,
       "version_minor": 0
      },
      "text/plain": [
       "HBox(children=(IntProgress(value=0, description='Pandas Apply', max=1566, style=ProgressStyle(description_widt…"
      ]
     },
     "metadata": {},
     "output_type": "display_data"
    },
    {
     "name": "stdout",
     "output_type": "stream",
     "text": [
      "\n"
     ]
    },
    {
     "data": {
      "application/vnd.jupyter.widget-view+json": {
       "model_id": "bb60bec5871c47b9a193cd0a3d815361",
       "version_major": 2,
       "version_minor": 0
      },
      "text/plain": [
       "HBox(children=(IntProgress(value=0, description='Pandas Apply', max=1566, style=ProgressStyle(description_widt…"
      ]
     },
     "metadata": {},
     "output_type": "display_data"
    },
    {
     "name": "stdout",
     "output_type": "stream",
     "text": [
      "\n"
     ]
    },
    {
     "data": {
      "application/vnd.jupyter.widget-view+json": {
       "model_id": "7a0c91dd0d2e41df80bb87080e71ef18",
       "version_major": 2,
       "version_minor": 0
      },
      "text/plain": [
       "HBox(children=(IntProgress(value=0, description='Pandas Apply', max=1566, style=ProgressStyle(description_widt…"
      ]
     },
     "metadata": {},
     "output_type": "display_data"
    },
    {
     "name": "stdout",
     "output_type": "stream",
     "text": [
      "\n"
     ]
    },
    {
     "data": {
      "application/vnd.jupyter.widget-view+json": {
       "model_id": "57dcb7665c5242a3b0b92d2029b5ebf9",
       "version_major": 2,
       "version_minor": 0
      },
      "text/plain": [
       "HBox(children=(IntProgress(value=0, description='Pandas Apply', max=1566, style=ProgressStyle(description_widt…"
      ]
     },
     "metadata": {},
     "output_type": "display_data"
    },
    {
     "name": "stdout",
     "output_type": "stream",
     "text": [
      "\n"
     ]
    },
    {
     "data": {
      "application/vnd.jupyter.widget-view+json": {
       "model_id": "995b2b51efde403088840e8a9abfaae9",
       "version_major": 2,
       "version_minor": 0
      },
      "text/plain": [
       "HBox(children=(IntProgress(value=0, description='Pandas Apply', max=1566, style=ProgressStyle(description_widt…"
      ]
     },
     "metadata": {},
     "output_type": "display_data"
    },
    {
     "name": "stdout",
     "output_type": "stream",
     "text": [
      "\n"
     ]
    },
    {
     "data": {
      "application/vnd.jupyter.widget-view+json": {
       "model_id": "982d0db9b2a247b5a659077bd60c129f",
       "version_major": 2,
       "version_minor": 0
      },
      "text/plain": [
       "HBox(children=(IntProgress(value=0, description='Pandas Apply', max=1566, style=ProgressStyle(description_widt…"
      ]
     },
     "metadata": {},
     "output_type": "display_data"
    },
    {
     "name": "stdout",
     "output_type": "stream",
     "text": [
      "\n"
     ]
    },
    {
     "data": {
      "application/vnd.jupyter.widget-view+json": {
       "model_id": "c1d5ee6a1b014ae98d482505a7733463",
       "version_major": 2,
       "version_minor": 0
      },
      "text/plain": [
       "HBox(children=(IntProgress(value=0, description='Pandas Apply', max=1566, style=ProgressStyle(description_widt…"
      ]
     },
     "metadata": {},
     "output_type": "display_data"
    },
    {
     "name": "stdout",
     "output_type": "stream",
     "text": [
      "\n"
     ]
    },
    {
     "data": {
      "application/vnd.jupyter.widget-view+json": {
       "model_id": "6660ba8f5e314abc8fb9fea8093f95c9",
       "version_major": 2,
       "version_minor": 0
      },
      "text/plain": [
       "HBox(children=(IntProgress(value=0, description='Pandas Apply', max=1566, style=ProgressStyle(description_widt…"
      ]
     },
     "metadata": {},
     "output_type": "display_data"
    },
    {
     "name": "stdout",
     "output_type": "stream",
     "text": [
      "\n"
     ]
    },
    {
     "data": {
      "application/vnd.jupyter.widget-view+json": {
       "model_id": "ce72c9052f404f588690dc6c9c758f1e",
       "version_major": 2,
       "version_minor": 0
      },
      "text/plain": [
       "HBox(children=(IntProgress(value=0, description='Pandas Apply', max=1566, style=ProgressStyle(description_widt…"
      ]
     },
     "metadata": {},
     "output_type": "display_data"
    },
    {
     "name": "stdout",
     "output_type": "stream",
     "text": [
      "\n"
     ]
    },
    {
     "data": {
      "application/vnd.jupyter.widget-view+json": {
       "model_id": "4fc6ec22446c467eb84d0e007148460c",
       "version_major": 2,
       "version_minor": 0
      },
      "text/plain": [
       "HBox(children=(IntProgress(value=0, description='Pandas Apply', max=1566, style=ProgressStyle(description_widt…"
      ]
     },
     "metadata": {},
     "output_type": "display_data"
    },
    {
     "name": "stdout",
     "output_type": "stream",
     "text": [
      "\n"
     ]
    },
    {
     "data": {
      "application/vnd.jupyter.widget-view+json": {
       "model_id": "5d4d7a45c8844258b10b44488b66ae89",
       "version_major": 2,
       "version_minor": 0
      },
      "text/plain": [
       "HBox(children=(IntProgress(value=0, description='Pandas Apply', max=1566, style=ProgressStyle(description_widt…"
      ]
     },
     "metadata": {},
     "output_type": "display_data"
    },
    {
     "name": "stdout",
     "output_type": "stream",
     "text": [
      "\n"
     ]
    },
    {
     "data": {
      "application/vnd.jupyter.widget-view+json": {
       "model_id": "0e8bda937ff24659ae804e53912c70fe",
       "version_major": 2,
       "version_minor": 0
      },
      "text/plain": [
       "HBox(children=(IntProgress(value=0, description='Pandas Apply', max=1566, style=ProgressStyle(description_widt…"
      ]
     },
     "metadata": {},
     "output_type": "display_data"
    },
    {
     "name": "stdout",
     "output_type": "stream",
     "text": [
      "\n"
     ]
    },
    {
     "data": {
      "application/vnd.jupyter.widget-view+json": {
       "model_id": "91ea7a1a386649fa8576b8fa5ac393bf",
       "version_major": 2,
       "version_minor": 0
      },
      "text/plain": [
       "HBox(children=(IntProgress(value=0, description='Pandas Apply', max=1566, style=ProgressStyle(description_widt…"
      ]
     },
     "metadata": {},
     "output_type": "display_data"
    },
    {
     "name": "stdout",
     "output_type": "stream",
     "text": [
      "\n"
     ]
    },
    {
     "data": {
      "application/vnd.jupyter.widget-view+json": {
       "model_id": "e403c8ce2e49400cb0d5b4062bd11d5e",
       "version_major": 2,
       "version_minor": 0
      },
      "text/plain": [
       "HBox(children=(IntProgress(value=0, description='Pandas Apply', max=1566, style=ProgressStyle(description_widt…"
      ]
     },
     "metadata": {},
     "output_type": "display_data"
    },
    {
     "name": "stdout",
     "output_type": "stream",
     "text": [
      "\n"
     ]
    },
    {
     "data": {
      "application/vnd.jupyter.widget-view+json": {
       "model_id": "e0815b1b95ec488e9b4f33c446db3c91",
       "version_major": 2,
       "version_minor": 0
      },
      "text/plain": [
       "HBox(children=(IntProgress(value=0, description='Pandas Apply', max=1566, style=ProgressStyle(description_widt…"
      ]
     },
     "metadata": {},
     "output_type": "display_data"
    },
    {
     "name": "stdout",
     "output_type": "stream",
     "text": [
      "\n"
     ]
    },
    {
     "data": {
      "application/vnd.jupyter.widget-view+json": {
       "model_id": "c8c4f9fcb1d946cbbee17f03f7045021",
       "version_major": 2,
       "version_minor": 0
      },
      "text/plain": [
       "HBox(children=(IntProgress(value=0, description='Pandas Apply', max=1566, style=ProgressStyle(description_widt…"
      ]
     },
     "metadata": {},
     "output_type": "display_data"
    },
    {
     "name": "stdout",
     "output_type": "stream",
     "text": [
      "\n"
     ]
    },
    {
     "data": {
      "application/vnd.jupyter.widget-view+json": {
       "model_id": "22e320bd724d4b3cbcf0e67a8bc5b1c3",
       "version_major": 2,
       "version_minor": 0
      },
      "text/plain": [
       "HBox(children=(IntProgress(value=0, description='Pandas Apply', max=1566, style=ProgressStyle(description_widt…"
      ]
     },
     "metadata": {},
     "output_type": "display_data"
    },
    {
     "name": "stdout",
     "output_type": "stream",
     "text": [
      "\n"
     ]
    },
    {
     "data": {
      "application/vnd.jupyter.widget-view+json": {
       "model_id": "da54c2953d954c6a963e56b450f2f992",
       "version_major": 2,
       "version_minor": 0
      },
      "text/plain": [
       "HBox(children=(IntProgress(value=0, description='Pandas Apply', max=1566, style=ProgressStyle(description_widt…"
      ]
     },
     "metadata": {},
     "output_type": "display_data"
    },
    {
     "name": "stdout",
     "output_type": "stream",
     "text": [
      "\n"
     ]
    },
    {
     "data": {
      "application/vnd.jupyter.widget-view+json": {
       "model_id": "5c5738f56c5b447f910b5ebe30507f27",
       "version_major": 2,
       "version_minor": 0
      },
      "text/plain": [
       "HBox(children=(IntProgress(value=0, description='Pandas Apply', max=1566, style=ProgressStyle(description_widt…"
      ]
     },
     "metadata": {},
     "output_type": "display_data"
    },
    {
     "name": "stdout",
     "output_type": "stream",
     "text": [
      "\n"
     ]
    },
    {
     "data": {
      "application/vnd.jupyter.widget-view+json": {
       "model_id": "b03cbabea9ac406c9191e4de7f7ea1ce",
       "version_major": 2,
       "version_minor": 0
      },
      "text/plain": [
       "HBox(children=(IntProgress(value=0, description='Pandas Apply', max=1566, style=ProgressStyle(description_widt…"
      ]
     },
     "metadata": {},
     "output_type": "display_data"
    },
    {
     "name": "stdout",
     "output_type": "stream",
     "text": [
      "\n"
     ]
    },
    {
     "data": {
      "application/vnd.jupyter.widget-view+json": {
       "model_id": "d2d29188c52e478cbe863ab3759a4904",
       "version_major": 2,
       "version_minor": 0
      },
      "text/plain": [
       "HBox(children=(IntProgress(value=0, description='Pandas Apply', max=1566, style=ProgressStyle(description_widt…"
      ]
     },
     "metadata": {},
     "output_type": "display_data"
    },
    {
     "name": "stdout",
     "output_type": "stream",
     "text": [
      "\n"
     ]
    },
    {
     "data": {
      "application/vnd.jupyter.widget-view+json": {
       "model_id": "9fd705a5f9d34b15abda5363ce48a77a",
       "version_major": 2,
       "version_minor": 0
      },
      "text/plain": [
       "HBox(children=(IntProgress(value=0, description='Pandas Apply', max=1566, style=ProgressStyle(description_widt…"
      ]
     },
     "metadata": {},
     "output_type": "display_data"
    },
    {
     "name": "stdout",
     "output_type": "stream",
     "text": [
      "\n"
     ]
    },
    {
     "data": {
      "application/vnd.jupyter.widget-view+json": {
       "model_id": "e2c1fc8ffbcf41d8baac64a37a08fe74",
       "version_major": 2,
       "version_minor": 0
      },
      "text/plain": [
       "HBox(children=(IntProgress(value=0, description='Pandas Apply', max=1566, style=ProgressStyle(description_widt…"
      ]
     },
     "metadata": {},
     "output_type": "display_data"
    },
    {
     "name": "stdout",
     "output_type": "stream",
     "text": [
      "\n"
     ]
    },
    {
     "data": {
      "application/vnd.jupyter.widget-view+json": {
       "model_id": "eff1dddc950749c5a2b74e6014642329",
       "version_major": 2,
       "version_minor": 0
      },
      "text/plain": [
       "HBox(children=(IntProgress(value=0, description='Pandas Apply', max=1566, style=ProgressStyle(description_widt…"
      ]
     },
     "metadata": {},
     "output_type": "display_data"
    },
    {
     "name": "stdout",
     "output_type": "stream",
     "text": [
      "\n"
     ]
    },
    {
     "data": {
      "application/vnd.jupyter.widget-view+json": {
       "model_id": "c743c653486d4a0595cebd8e3ae4eb10",
       "version_major": 2,
       "version_minor": 0
      },
      "text/plain": [
       "HBox(children=(IntProgress(value=0, description='Pandas Apply', max=1566, style=ProgressStyle(description_widt…"
      ]
     },
     "metadata": {},
     "output_type": "display_data"
    },
    {
     "name": "stdout",
     "output_type": "stream",
     "text": [
      "\n"
     ]
    },
    {
     "data": {
      "application/vnd.jupyter.widget-view+json": {
       "model_id": "fec38a6c3d93471e9951a65fa4446993",
       "version_major": 2,
       "version_minor": 0
      },
      "text/plain": [
       "HBox(children=(IntProgress(value=0, description='Pandas Apply', max=1566, style=ProgressStyle(description_widt…"
      ]
     },
     "metadata": {},
     "output_type": "display_data"
    },
    {
     "name": "stdout",
     "output_type": "stream",
     "text": [
      "\n"
     ]
    },
    {
     "data": {
      "application/vnd.jupyter.widget-view+json": {
       "model_id": "0b699fcae43d4101b0bfaa9bcce9c4a0",
       "version_major": 2,
       "version_minor": 0
      },
      "text/plain": [
       "HBox(children=(IntProgress(value=0, description='Pandas Apply', max=1566, style=ProgressStyle(description_widt…"
      ]
     },
     "metadata": {},
     "output_type": "display_data"
    },
    {
     "name": "stdout",
     "output_type": "stream",
     "text": [
      "\n"
     ]
    },
    {
     "data": {
      "application/vnd.jupyter.widget-view+json": {
       "model_id": "6b5c4d942830422cbac071d84fb06d6a",
       "version_major": 2,
       "version_minor": 0
      },
      "text/plain": [
       "HBox(children=(IntProgress(value=0, description='Pandas Apply', max=1566, style=ProgressStyle(description_widt…"
      ]
     },
     "metadata": {},
     "output_type": "display_data"
    },
    {
     "name": "stdout",
     "output_type": "stream",
     "text": [
      "\n"
     ]
    },
    {
     "data": {
      "application/vnd.jupyter.widget-view+json": {
       "model_id": "17e6b15fa1cc4b41a53d3818a6b85265",
       "version_major": 2,
       "version_minor": 0
      },
      "text/plain": [
       "HBox(children=(IntProgress(value=0, description='Pandas Apply', max=1566, style=ProgressStyle(description_widt…"
      ]
     },
     "metadata": {},
     "output_type": "display_data"
    },
    {
     "name": "stdout",
     "output_type": "stream",
     "text": [
      "\n"
     ]
    },
    {
     "data": {
      "application/vnd.jupyter.widget-view+json": {
       "model_id": "9ad23f501179461abb415f8efffe24d4",
       "version_major": 2,
       "version_minor": 0
      },
      "text/plain": [
       "HBox(children=(IntProgress(value=0, description='Pandas Apply', max=1566, style=ProgressStyle(description_widt…"
      ]
     },
     "metadata": {},
     "output_type": "display_data"
    },
    {
     "name": "stdout",
     "output_type": "stream",
     "text": [
      "\n"
     ]
    },
    {
     "data": {
      "application/vnd.jupyter.widget-view+json": {
       "model_id": "f7e292594ca74730ad22d8d9ac11e0bb",
       "version_major": 2,
       "version_minor": 0
      },
      "text/plain": [
       "HBox(children=(IntProgress(value=0, description='Pandas Apply', max=1566, style=ProgressStyle(description_widt…"
      ]
     },
     "metadata": {},
     "output_type": "display_data"
    },
    {
     "name": "stdout",
     "output_type": "stream",
     "text": [
      "\n"
     ]
    },
    {
     "data": {
      "application/vnd.jupyter.widget-view+json": {
       "model_id": "1519d915ba214d3c8450dca2a1580cbd",
       "version_major": 2,
       "version_minor": 0
      },
      "text/plain": [
       "HBox(children=(IntProgress(value=0, description='Pandas Apply', max=1566, style=ProgressStyle(description_widt…"
      ]
     },
     "metadata": {},
     "output_type": "display_data"
    },
    {
     "name": "stdout",
     "output_type": "stream",
     "text": [
      "\n"
     ]
    },
    {
     "data": {
      "application/vnd.jupyter.widget-view+json": {
       "model_id": "12667e6367cc45488b3b0dbec38103a2",
       "version_major": 2,
       "version_minor": 0
      },
      "text/plain": [
       "HBox(children=(IntProgress(value=0, description='Pandas Apply', max=1566, style=ProgressStyle(description_widt…"
      ]
     },
     "metadata": {},
     "output_type": "display_data"
    },
    {
     "name": "stdout",
     "output_type": "stream",
     "text": [
      "\n"
     ]
    },
    {
     "data": {
      "application/vnd.jupyter.widget-view+json": {
       "model_id": "77bc44faf54d4998a6778b1b61c21daa",
       "version_major": 2,
       "version_minor": 0
      },
      "text/plain": [
       "HBox(children=(IntProgress(value=0, description='Pandas Apply', max=1566, style=ProgressStyle(description_widt…"
      ]
     },
     "metadata": {},
     "output_type": "display_data"
    },
    {
     "name": "stdout",
     "output_type": "stream",
     "text": [
      "\n"
     ]
    },
    {
     "data": {
      "application/vnd.jupyter.widget-view+json": {
       "model_id": "0f8e6437f78e4023bd6ea9c5bfa4bc24",
       "version_major": 2,
       "version_minor": 0
      },
      "text/plain": [
       "HBox(children=(IntProgress(value=0, description='Pandas Apply', max=1566, style=ProgressStyle(description_widt…"
      ]
     },
     "metadata": {},
     "output_type": "display_data"
    },
    {
     "name": "stdout",
     "output_type": "stream",
     "text": [
      "\n"
     ]
    },
    {
     "data": {
      "application/vnd.jupyter.widget-view+json": {
       "model_id": "3e6a439be59a4dddbf789ecf6983c594",
       "version_major": 2,
       "version_minor": 0
      },
      "text/plain": [
       "HBox(children=(IntProgress(value=0, description='Pandas Apply', max=1566, style=ProgressStyle(description_widt…"
      ]
     },
     "metadata": {},
     "output_type": "display_data"
    },
    {
     "name": "stdout",
     "output_type": "stream",
     "text": [
      "\n"
     ]
    },
    {
     "data": {
      "application/vnd.jupyter.widget-view+json": {
       "model_id": "c51a42118d694a5190249a308c7ae422",
       "version_major": 2,
       "version_minor": 0
      },
      "text/plain": [
       "HBox(children=(IntProgress(value=0, description='Pandas Apply', max=1566, style=ProgressStyle(description_widt…"
      ]
     },
     "metadata": {},
     "output_type": "display_data"
    },
    {
     "name": "stdout",
     "output_type": "stream",
     "text": [
      "\n"
     ]
    },
    {
     "data": {
      "application/vnd.jupyter.widget-view+json": {
       "model_id": "712446c1829645618dc1723ec0834c24",
       "version_major": 2,
       "version_minor": 0
      },
      "text/plain": [
       "HBox(children=(IntProgress(value=0, description='Pandas Apply', max=1566, style=ProgressStyle(description_widt…"
      ]
     },
     "metadata": {},
     "output_type": "display_data"
    },
    {
     "name": "stdout",
     "output_type": "stream",
     "text": [
      "\n"
     ]
    },
    {
     "data": {
      "application/vnd.jupyter.widget-view+json": {
       "model_id": "f32d096dae0f4f0e89b02631a2c7d2d9",
       "version_major": 2,
       "version_minor": 0
      },
      "text/plain": [
       "HBox(children=(IntProgress(value=0, description='Pandas Apply', max=1566, style=ProgressStyle(description_widt…"
      ]
     },
     "metadata": {},
     "output_type": "display_data"
    },
    {
     "name": "stdout",
     "output_type": "stream",
     "text": [
      "\n"
     ]
    },
    {
     "data": {
      "application/vnd.jupyter.widget-view+json": {
       "model_id": "bb18db41ef1b477286ad3f02db862735",
       "version_major": 2,
       "version_minor": 0
      },
      "text/plain": [
       "HBox(children=(IntProgress(value=0, description='Pandas Apply', max=1566, style=ProgressStyle(description_widt…"
      ]
     },
     "metadata": {},
     "output_type": "display_data"
    },
    {
     "name": "stdout",
     "output_type": "stream",
     "text": [
      "\n"
     ]
    },
    {
     "data": {
      "application/vnd.jupyter.widget-view+json": {
       "model_id": "b4f32a75a1e148b7aa6c075ec2dc7d02",
       "version_major": 2,
       "version_minor": 0
      },
      "text/plain": [
       "HBox(children=(IntProgress(value=0, description='Pandas Apply', max=1566, style=ProgressStyle(description_widt…"
      ]
     },
     "metadata": {},
     "output_type": "display_data"
    },
    {
     "name": "stdout",
     "output_type": "stream",
     "text": [
      "\n"
     ]
    },
    {
     "data": {
      "application/vnd.jupyter.widget-view+json": {
       "model_id": "1dbb8bac475741b0aa464d1ca6a59daf",
       "version_major": 2,
       "version_minor": 0
      },
      "text/plain": [
       "HBox(children=(IntProgress(value=0, description='Pandas Apply', max=1566, style=ProgressStyle(description_widt…"
      ]
     },
     "metadata": {},
     "output_type": "display_data"
    },
    {
     "name": "stdout",
     "output_type": "stream",
     "text": [
      "\n"
     ]
    },
    {
     "data": {
      "application/vnd.jupyter.widget-view+json": {
       "model_id": "f902fbb90bc946cc9974742e7d3ea65a",
       "version_major": 2,
       "version_minor": 0
      },
      "text/plain": [
       "HBox(children=(IntProgress(value=0, description='Pandas Apply', max=1566, style=ProgressStyle(description_widt…"
      ]
     },
     "metadata": {},
     "output_type": "display_data"
    },
    {
     "name": "stdout",
     "output_type": "stream",
     "text": [
      "\n"
     ]
    },
    {
     "data": {
      "application/vnd.jupyter.widget-view+json": {
       "model_id": "4ec35b79f98e4250ba8b41c9a2344b8d",
       "version_major": 2,
       "version_minor": 0
      },
      "text/plain": [
       "HBox(children=(IntProgress(value=0, description='Pandas Apply', max=1566, style=ProgressStyle(description_widt…"
      ]
     },
     "metadata": {},
     "output_type": "display_data"
    },
    {
     "name": "stdout",
     "output_type": "stream",
     "text": [
      "\n"
     ]
    },
    {
     "data": {
      "application/vnd.jupyter.widget-view+json": {
       "model_id": "d91a7ecc2bbd4792b7e1ee4320efd61d",
       "version_major": 2,
       "version_minor": 0
      },
      "text/plain": [
       "HBox(children=(IntProgress(value=0, description='Pandas Apply', max=1566, style=ProgressStyle(description_widt…"
      ]
     },
     "metadata": {},
     "output_type": "display_data"
    },
    {
     "name": "stdout",
     "output_type": "stream",
     "text": [
      "\n"
     ]
    }
   ],
   "source": [
    "for col_name in my_data.columns.values[9:-1]:\n",
    "    def impute_outliers(row):\n",
    "        if np.abs(row[col_name] - mean_dict[col_name]) > 2*(std_dict[col_name]):\n",
    "            return(mean_dict[col_name])\n",
    "        else:\n",
    "            return(row[col_name])\n",
    "    my_data[col_name]= my_data.swifter.apply(impute_outliers, axis = 1)"
   ]
  },
  {
   "cell_type": "markdown",
   "metadata": {},
   "source": [
    "### split data into 'train_data' and 'test_data', the former consists of samples from known geological sites and the latter from flint artefacts fow which the original geological source site is unknown and to be predicted."
   ]
  },
  {
   "cell_type": "code",
   "execution_count": 14,
   "metadata": {},
   "outputs": [],
   "source": [
    "train_data = my_data[(my_data['Geology']== 'Bedrock') | (my_data['Geology'] == 'Superficial')]\n",
    "test_data = my_data[my_data['Geology']=='Artefacts']\n"
   ]
  },
  {
   "cell_type": "markdown",
   "metadata": {},
   "source": [
    "### label encode the class to be predicted"
   ]
  },
  {
   "cell_type": "markdown",
   "metadata": {},
   "source": [
    "### 'training_data' is split into two datasets, one consisting of samples from superficial sites and one containing samples from bedrock sites."
   ]
  },
  {
   "cell_type": "code",
   "execution_count": 15,
   "metadata": {},
   "outputs": [],
   "source": [
    "train_data_bedrock = train_data[train_data['Geology'] == 'Bedrock']\n",
    "train_data_superficial = train_data[train_data['Geology'] == 'Superficial']"
   ]
  },
  {
   "cell_type": "markdown",
   "metadata": {},
   "source": [
    "### four datasets are created, one containing all train data (bedrock and superficial types), one containing just bedrock types, one containing just superficial types and one containing the artefacts"
   ]
  },
  {
   "cell_type": "code",
   "execution_count": 16,
   "metadata": {},
   "outputs": [],
   "source": [
    "element_data_train = train_data[train_data.columns.values[9:-1]]\n",
    "element_data_train_bedrock = train_data_bedrock[train_data.columns.values[9:-1]]\n",
    "element_data_train_superficial = train_data_superficial[train_data.columns.values[9:-1]]\n",
    "element_data_test = test_data[test_data.columns.values[9:-1]]"
   ]
  },
  {
   "cell_type": "markdown",
   "metadata": {},
   "source": [
    "### features are standardised"
   ]
  },
  {
   "cell_type": "code",
   "execution_count": 17,
   "metadata": {},
   "outputs": [],
   "source": [
    "my_scaler_train = StandardScaler()\n",
    "my_scaler_train_bedrock = StandardScaler()\n",
    "my_scaler_train_superficial = StandardScaler()\n",
    "my_scaler_test = StandardScaler()"
   ]
  },
  {
   "cell_type": "code",
   "execution_count": 18,
   "metadata": {},
   "outputs": [],
   "source": [
    "element_data_train_scaled = my_scaler_train.fit_transform(element_data_train)\n",
    "element_data_train_bedrock_scaled = my_scaler_train_bedrock.fit_transform(element_data_train_bedrock)\n",
    "element_data_train_superficial_scaled = my_scaler_train_superficial.fit_transform(element_data_train_superficial)\n",
    "element_data_test_scaled = my_scaler_test.fit_transform(element_data_test)"
   ]
  },
  {
   "cell_type": "markdown",
   "metadata": {},
   "source": [
    "### The four datasets are transformed using Principal component analysis "
   ]
  },
  {
   "cell_type": "code",
   "execution_count": 19,
   "metadata": {},
   "outputs": [],
   "source": [
    "my_pca_train = PCA(n_components=element_data_train_scaled.shape[1])\n",
    "my_pca_train_bedrock = PCA(n_components=element_data_train_bedrock_scaled.shape[1])\n",
    "my_pca_train_superficial = PCA(n_components=element_data_train_superficial_scaled.shape[1])\n",
    "my_pca_test = PCA(n_components=element_data_test_scaled.shape[1])\n",
    "\n",
    "element_data_train_pca = my_pca_train.fit_transform(element_data_train_scaled)\n",
    "element_data_train_bedrock_pca = my_pca_train_bedrock.fit_transform(element_data_train_bedrock_scaled)\n",
    "element_data_train_superficial_pca = my_pca_train_superficial.fit_transform(element_data_train_superficial_scaled)\n",
    "element_data_test_pca = my_pca_test.fit_transform(element_data_test_scaled)"
   ]
  },
  {
   "cell_type": "markdown",
   "metadata": {},
   "source": [
    "### print details of PCA"
   ]
  },
  {
   "cell_type": "code",
   "execution_count": 20,
   "metadata": {},
   "outputs": [
    {
     "name": "stdout",
     "output_type": "stream",
     "text": [
      "PCA(copy=True, iterated_power='auto', n_components=53, random_state=None,\n",
      "  svd_solver='auto', tol=0.0, whiten=False)\n"
     ]
    }
   ],
   "source": [
    "print(my_pca_train)"
   ]
  },
  {
   "cell_type": "markdown",
   "metadata": {},
   "source": [
    "### the principal components for the four datasets are put into dataframes"
   ]
  },
  {
   "cell_type": "code",
   "execution_count": 21,
   "metadata": {},
   "outputs": [],
   "source": [
    "no_PCs = element_data_train_scaled.shape[1]\n",
    "PC_names = []\n",
    "for i in range(0, no_PCs):\n",
    "    number = i + 1\n",
    "    column_name = 'PC' + str(number)\n",
    "    PC_names.append(column_name)"
   ]
  },
  {
   "cell_type": "code",
   "execution_count": 22,
   "metadata": {},
   "outputs": [],
   "source": [
    "PC_df_train = pd.DataFrame(data = element_data_train_pca, columns = PC_names)\n",
    "PC_df_bedrock_train = pd.DataFrame(data = element_data_train_bedrock_pca, columns = PC_names)\n",
    "PC_df_superficial_train = pd.DataFrame(data = element_data_train_superficial_pca, columns = PC_names)\n",
    "PC_df_test = pd.DataFrame(data = element_data_test_pca, columns = PC_names)"
   ]
  },
  {
   "cell_type": "markdown",
   "metadata": {},
   "source": [
    "### T-Distributed Stochastic Neighbour Embedding is done on the four datasets"
   ]
  },
  {
   "cell_type": "code",
   "execution_count": 23,
   "metadata": {},
   "outputs": [
    {
     "name": "stdout",
     "output_type": "stream",
     "text": [
      "[t-SNE] Computing 91 nearest neighbors...\n",
      "[t-SNE] Indexed 1203 samples in 0.002s...\n",
      "[t-SNE] Computed neighbors for 1203 samples in 0.137s...\n",
      "[t-SNE] Computed conditional probabilities for sample 1000 / 1203\n",
      "[t-SNE] Computed conditional probabilities for sample 1203 / 1203\n",
      "[t-SNE] Mean sigma: 2.019373\n",
      "[t-SNE] Computed conditional probabilities in 0.038s\n",
      "[t-SNE] Iteration 50: error = 71.8921432, gradient norm = 0.1122597 (50 iterations in 3.497s)\n",
      "[t-SNE] Iteration 100: error = 73.1561279, gradient norm = 0.1041403 (50 iterations in 2.960s)\n",
      "[t-SNE] Iteration 150: error = 73.9018936, gradient norm = 0.1018578 (50 iterations in 1.668s)\n",
      "[t-SNE] Iteration 200: error = 73.7996216, gradient norm = 0.0753036 (50 iterations in 1.964s)\n",
      "[t-SNE] Iteration 250: error = 74.4157028, gradient norm = 0.0824604 (50 iterations in 2.115s)\n",
      "[t-SNE] KL divergence after 250 iterations with early exaggeration: 74.415703\n",
      "[t-SNE] Iteration 300: error = 1.4711682, gradient norm = 0.0005300 (50 iterations in 2.081s)\n",
      "[t-SNE] Iteration 350: error = 1.3635731, gradient norm = 0.0001675 (50 iterations in 2.393s)\n",
      "[t-SNE] Iteration 400: error = 1.3071600, gradient norm = 0.0004805 (50 iterations in 2.420s)\n",
      "[t-SNE] Iteration 450: error = 1.2751807, gradient norm = 0.0000750 (50 iterations in 2.532s)\n",
      "[t-SNE] Iteration 500: error = 1.2284886, gradient norm = 0.0000957 (50 iterations in 2.720s)\n",
      "[t-SNE] Iteration 550: error = 1.1796669, gradient norm = 0.0003235 (50 iterations in 2.898s)\n",
      "[t-SNE] Iteration 600: error = 1.1238624, gradient norm = 0.0002263 (50 iterations in 3.209s)\n",
      "[t-SNE] Iteration 650: error = 1.1130623, gradient norm = 0.0000613 (50 iterations in 3.268s)\n",
      "[t-SNE] Iteration 700: error = 1.1100763, gradient norm = 0.0000328 (50 iterations in 3.343s)\n",
      "[t-SNE] Iteration 750: error = 1.1048988, gradient norm = 0.0000345 (50 iterations in 3.215s)\n",
      "[t-SNE] Iteration 800: error = 1.0931101, gradient norm = 0.0001686 (50 iterations in 3.142s)\n",
      "[t-SNE] Iteration 850: error = 1.0894835, gradient norm = 0.0000268 (50 iterations in 3.044s)\n",
      "[t-SNE] Iteration 900: error = 1.0879847, gradient norm = 0.0000226 (50 iterations in 2.834s)\n",
      "[t-SNE] Iteration 950: error = 1.0868435, gradient norm = 0.0000199 (50 iterations in 2.700s)\n",
      "[t-SNE] Iteration 1000: error = 1.0851824, gradient norm = 0.0000180 (50 iterations in 2.592s)\n",
      "[t-SNE] Iteration 1050: error = 1.0829842, gradient norm = 0.0000159 (50 iterations in 2.345s)\n",
      "[t-SNE] Iteration 1100: error = 1.0799533, gradient norm = 0.0000147 (50 iterations in 2.146s)\n",
      "[t-SNE] Iteration 1150: error = 1.0741717, gradient norm = 0.0000150 (50 iterations in 1.920s)\n",
      "[t-SNE] Iteration 1200: error = 1.0507962, gradient norm = 0.0001674 (50 iterations in 1.541s)\n",
      "[t-SNE] Iteration 1250: error = 1.0497916, gradient norm = 0.0000173 (50 iterations in 1.361s)\n",
      "[t-SNE] Iteration 1300: error = 1.0495622, gradient norm = 0.0000133 (50 iterations in 1.382s)\n",
      "[t-SNE] Iteration 1350: error = 1.0493306, gradient norm = 0.0000128 (50 iterations in 1.383s)\n",
      "[t-SNE] Iteration 1400: error = 1.0493773, gradient norm = 0.0000108 (50 iterations in 1.352s)\n",
      "[t-SNE] Iteration 1450: error = 1.0495417, gradient norm = 0.0000099 (50 iterations in 1.361s)\n",
      "[t-SNE] Iteration 1500: error = 1.0497240, gradient norm = 0.0000099 (50 iterations in 1.359s)\n",
      "[t-SNE] Iteration 1550: error = 1.0497956, gradient norm = 0.0000091 (50 iterations in 1.349s)\n",
      "[t-SNE] Iteration 1600: error = 1.0497482, gradient norm = 0.0000082 (50 iterations in 1.390s)\n",
      "[t-SNE] Iteration 1650: error = 1.0497605, gradient norm = 0.0000076 (50 iterations in 1.392s)\n",
      "[t-SNE] Iteration 1700: error = 1.0499141, gradient norm = 0.0000072 (50 iterations in 1.408s)\n",
      "[t-SNE] Iteration 1700: did not make any progress during the last 300 episodes. Finished.\n",
      "[t-SNE] KL divergence after 1700 iterations: 1.049914\n",
      "[t-SNE] Computing 91 nearest neighbors...\n",
      "[t-SNE] Indexed 771 samples in 0.001s...\n",
      "[t-SNE] Computed neighbors for 771 samples in 0.052s...\n",
      "[t-SNE] Computed conditional probabilities for sample 771 / 771\n",
      "[t-SNE] Mean sigma: 2.142923\n",
      "[t-SNE] Computed conditional probabilities in 0.023s\n",
      "[t-SNE] Iteration 50: error = 78.6086578, gradient norm = 0.2246729 (50 iterations in 1.291s)\n",
      "[t-SNE] Iteration 100: error = 83.4597855, gradient norm = 0.1981987 (50 iterations in 1.021s)\n",
      "[t-SNE] Iteration 150: error = 86.3644028, gradient norm = 0.1803646 (50 iterations in 0.882s)\n",
      "[t-SNE] Iteration 200: error = 89.7151566, gradient norm = 0.1675537 (50 iterations in 0.954s)\n",
      "[t-SNE] Iteration 250: error = 92.9877777, gradient norm = 0.1655090 (50 iterations in 1.033s)\n",
      "[t-SNE] KL divergence after 250 iterations with early exaggeration: 92.987778\n",
      "[t-SNE] Iteration 300: error = 2.6473098, gradient norm = 0.0007669 (50 iterations in 1.110s)\n",
      "[t-SNE] Iteration 350: error = 2.3052475, gradient norm = 0.0003292 (50 iterations in 1.313s)\n",
      "[t-SNE] Iteration 400: error = 2.1045580, gradient norm = 0.0001524 (50 iterations in 1.334s)\n",
      "[t-SNE] Iteration 450: error = 1.9734551, gradient norm = 0.0001111 (50 iterations in 1.263s)\n",
      "[t-SNE] Iteration 500: error = 1.8772476, gradient norm = 0.0000801 (50 iterations in 1.266s)\n",
      "[t-SNE] Iteration 550: error = 1.8022766, gradient norm = 0.0001040 (50 iterations in 1.273s)\n",
      "[t-SNE] Iteration 600: error = 1.7397332, gradient norm = 0.0000563 (50 iterations in 1.329s)\n",
      "[t-SNE] Iteration 650: error = 1.6749932, gradient norm = 0.0000838 (50 iterations in 1.338s)\n",
      "[t-SNE] Iteration 700: error = 1.6183100, gradient norm = 0.0000551 (50 iterations in 1.414s)\n",
      "[t-SNE] Iteration 750: error = 1.5849271, gradient norm = 0.0000375 (50 iterations in 1.380s)\n",
      "[t-SNE] Iteration 800: error = 1.5601774, gradient norm = 0.0000288 (50 iterations in 1.482s)\n",
      "[t-SNE] Iteration 850: error = 1.5377693, gradient norm = 0.0000252 (50 iterations in 1.409s)\n",
      "[t-SNE] Iteration 900: error = 1.5161661, gradient norm = 0.0000228 (50 iterations in 1.430s)\n",
      "[t-SNE] Iteration 950: error = 1.4867373, gradient norm = 0.0000298 (50 iterations in 1.435s)\n",
      "[t-SNE] Iteration 1000: error = 1.4690536, gradient norm = 0.0000191 (50 iterations in 1.382s)\n",
      "[t-SNE] Iteration 1050: error = 1.4567947, gradient norm = 0.0000163 (50 iterations in 1.345s)\n",
      "[t-SNE] Iteration 1100: error = 1.4437966, gradient norm = 0.0000176 (50 iterations in 1.388s)\n",
      "[t-SNE] Iteration 1150: error = 1.4259431, gradient norm = 0.0000199 (50 iterations in 1.299s)\n",
      "[t-SNE] Iteration 1200: error = 1.4119402, gradient norm = 0.0000142 (50 iterations in 1.261s)\n",
      "[t-SNE] Iteration 1250: error = 1.4004294, gradient norm = 0.0000124 (50 iterations in 1.305s)\n",
      "[t-SNE] Iteration 1300: error = 1.3902096, gradient norm = 0.0000121 (50 iterations in 1.229s)\n",
      "[t-SNE] Iteration 1350: error = 1.3786209, gradient norm = 0.0000134 (50 iterations in 1.204s)\n",
      "[t-SNE] Iteration 1400: error = 1.3680515, gradient norm = 0.0000120 (50 iterations in 1.184s)\n",
      "[t-SNE] Iteration 1450: error = 1.3570406, gradient norm = 0.0000126 (50 iterations in 1.143s)\n",
      "[t-SNE] Iteration 1500: error = 1.3461728, gradient norm = 0.0000114 (50 iterations in 1.130s)\n",
      "[t-SNE] Iteration 1550: error = 1.3376660, gradient norm = 0.0000105 (50 iterations in 1.092s)\n",
      "[t-SNE] Iteration 1600: error = 1.3300644, gradient norm = 0.0000102 (50 iterations in 1.079s)\n",
      "[t-SNE] Iteration 1650: error = 1.3217791, gradient norm = 0.0000104 (50 iterations in 1.076s)\n",
      "[t-SNE] Iteration 1700: error = 1.3146317, gradient norm = 0.0000102 (50 iterations in 1.051s)\n",
      "[t-SNE] Iteration 1750: error = 1.3079730, gradient norm = 0.0000084 (50 iterations in 1.037s)\n",
      "[t-SNE] Iteration 1800: error = 1.3025327, gradient norm = 0.0000074 (50 iterations in 1.016s)\n",
      "[t-SNE] Iteration 1850: error = 1.2972653, gradient norm = 0.0000072 (50 iterations in 1.009s)\n",
      "[t-SNE] Iteration 1900: error = 1.2919211, gradient norm = 0.0000068 (50 iterations in 1.023s)\n",
      "[t-SNE] Iteration 1950: error = 1.2845671, gradient norm = 0.0000074 (50 iterations in 1.009s)\n",
      "[t-SNE] Iteration 2000: error = 1.2787417, gradient norm = 0.0000069 (50 iterations in 1.043s)\n",
      "[t-SNE] Iteration 2050: error = 1.2734814, gradient norm = 0.0000059 (50 iterations in 1.039s)\n",
      "[t-SNE] Iteration 2100: error = 1.2692537, gradient norm = 0.0000057 (50 iterations in 0.981s)\n",
      "[t-SNE] Iteration 2150: error = 1.2659647, gradient norm = 0.0000057 (50 iterations in 0.991s)\n",
      "[t-SNE] Iteration 2200: error = 1.2624419, gradient norm = 0.0000061 (50 iterations in 0.964s)\n",
      "[t-SNE] Iteration 2250: error = 1.2585523, gradient norm = 0.0000064 (50 iterations in 0.969s)\n",
      "[t-SNE] Iteration 2300: error = 1.2551054, gradient norm = 0.0000056 (50 iterations in 0.957s)\n",
      "[t-SNE] Iteration 2350: error = 1.2522138, gradient norm = 0.0000054 (50 iterations in 0.958s)\n",
      "[t-SNE] Iteration 2400: error = 1.2495621, gradient norm = 0.0000046 (50 iterations in 0.959s)\n",
      "[t-SNE] Iteration 2450: error = 1.2471496, gradient norm = 0.0000041 (50 iterations in 0.942s)\n",
      "[t-SNE] Iteration 2500: error = 1.2444921, gradient norm = 0.0000038 (50 iterations in 0.953s)\n",
      "[t-SNE] Iteration 2550: error = 1.2417389, gradient norm = 0.0000037 (50 iterations in 0.981s)\n",
      "[t-SNE] Iteration 2600: error = 1.2390585, gradient norm = 0.0000035 (50 iterations in 0.920s)\n",
      "[t-SNE] Iteration 2650: error = 1.2360075, gradient norm = 0.0000035 (50 iterations in 0.919s)\n",
      "[t-SNE] Iteration 2700: error = 1.2328184, gradient norm = 0.0000034 (50 iterations in 0.903s)\n",
      "[t-SNE] Iteration 2750: error = 1.2295970, gradient norm = 0.0000033 (50 iterations in 0.899s)\n",
      "[t-SNE] Iteration 2800: error = 1.2263472, gradient norm = 0.0000036 (50 iterations in 0.907s)\n",
      "[t-SNE] Iteration 2850: error = 1.2219111, gradient norm = 0.0000038 (50 iterations in 0.894s)\n",
      "[t-SNE] Iteration 2900: error = 1.2187568, gradient norm = 0.0000031 (50 iterations in 0.912s)\n",
      "[t-SNE] Iteration 2950: error = 1.2165117, gradient norm = 0.0000033 (50 iterations in 0.914s)\n",
      "[t-SNE] Iteration 3000: error = 1.2136039, gradient norm = 0.0000044 (50 iterations in 0.882s)\n",
      "[t-SNE] Iteration 3050: error = 1.2116674, gradient norm = 0.0000036 (50 iterations in 0.857s)\n",
      "[t-SNE] Iteration 3100: error = 1.2095392, gradient norm = 0.0000032 (50 iterations in 0.843s)\n",
      "[t-SNE] Iteration 3150: error = 1.2078806, gradient norm = 0.0000029 (50 iterations in 0.840s)\n",
      "[t-SNE] Iteration 3200: error = 1.2059906, gradient norm = 0.0000028 (50 iterations in 0.831s)\n",
      "[t-SNE] Iteration 3250: error = 1.2039335, gradient norm = 0.0000028 (50 iterations in 0.801s)\n",
      "[t-SNE] Iteration 3300: error = 1.2017931, gradient norm = 0.0000028 (50 iterations in 0.789s)\n",
      "[t-SNE] Iteration 3350: error = 1.1998436, gradient norm = 0.0000026 (50 iterations in 0.791s)\n",
      "[t-SNE] Iteration 3400: error = 1.1984664, gradient norm = 0.0000025 (50 iterations in 0.792s)\n",
      "[t-SNE] Iteration 3450: error = 1.1971494, gradient norm = 0.0000024 (50 iterations in 0.777s)\n",
      "[t-SNE] Iteration 3500: error = 1.1958896, gradient norm = 0.0000024 (50 iterations in 0.789s)\n",
      "[t-SNE] Iteration 3550: error = 1.1945084, gradient norm = 0.0000023 (50 iterations in 0.796s)\n",
      "[t-SNE] Iteration 3600: error = 1.1927828, gradient norm = 0.0000022 (50 iterations in 0.819s)\n",
      "[t-SNE] Iteration 3650: error = 1.1914269, gradient norm = 0.0000021 (50 iterations in 0.804s)\n",
      "[t-SNE] Iteration 3700: error = 1.1898556, gradient norm = 0.0000020 (50 iterations in 0.813s)\n",
      "[t-SNE] Iteration 3750: error = 1.1883137, gradient norm = 0.0000020 (50 iterations in 0.820s)\n",
      "[t-SNE] Iteration 3800: error = 1.1870536, gradient norm = 0.0000019 (50 iterations in 0.826s)\n",
      "[t-SNE] Iteration 3850: error = 1.1858273, gradient norm = 0.0000018 (50 iterations in 0.833s)\n",
      "[t-SNE] Iteration 3900: error = 1.1847308, gradient norm = 0.0000018 (50 iterations in 0.840s)\n",
      "[t-SNE] Iteration 3950: error = 1.1837070, gradient norm = 0.0000017 (50 iterations in 0.827s)\n",
      "[t-SNE] Iteration 4000: error = 1.1828688, gradient norm = 0.0000017 (50 iterations in 0.833s)\n",
      "[t-SNE] Iteration 4050: error = 1.1820726, gradient norm = 0.0000017 (50 iterations in 0.829s)\n",
      "[t-SNE] Iteration 4100: error = 1.1812822, gradient norm = 0.0000016 (50 iterations in 0.839s)\n",
      "[t-SNE] Iteration 4150: error = 1.1804550, gradient norm = 0.0000016 (50 iterations in 0.826s)\n",
      "[t-SNE] Iteration 4200: error = 1.1795378, gradient norm = 0.0000016 (50 iterations in 0.830s)\n",
      "[t-SNE] Iteration 4250: error = 1.1783603, gradient norm = 0.0000016 (50 iterations in 0.839s)\n",
      "[t-SNE] Iteration 4300: error = 1.1769007, gradient norm = 0.0000016 (50 iterations in 0.846s)\n",
      "[t-SNE] Iteration 4350: error = 1.1753969, gradient norm = 0.0000016 (50 iterations in 0.828s)\n",
      "[t-SNE] Iteration 4400: error = 1.1742133, gradient norm = 0.0000015 (50 iterations in 0.832s)\n",
      "[t-SNE] Iteration 4450: error = 1.1731393, gradient norm = 0.0000015 (50 iterations in 0.825s)\n",
      "[t-SNE] Iteration 4500: error = 1.1722319, gradient norm = 0.0000014 (50 iterations in 0.844s)\n",
      "[t-SNE] Iteration 4550: error = 1.1711748, gradient norm = 0.0000014 (50 iterations in 0.832s)\n",
      "[t-SNE] Iteration 4600: error = 1.1702176, gradient norm = 0.0000014 (50 iterations in 0.839s)\n",
      "[t-SNE] Iteration 4650: error = 1.1693897, gradient norm = 0.0000014 (50 iterations in 0.835s)\n",
      "[t-SNE] Iteration 4700: error = 1.1685317, gradient norm = 0.0000013 (50 iterations in 0.863s)\n",
      "[t-SNE] Iteration 4750: error = 1.1676414, gradient norm = 0.0000013 (50 iterations in 0.833s)\n",
      "[t-SNE] Iteration 4800: error = 1.1666802, gradient norm = 0.0000013 (50 iterations in 0.857s)\n",
      "[t-SNE] Iteration 4850: error = 1.1656253, gradient norm = 0.0000013 (50 iterations in 0.848s)\n",
      "[t-SNE] Iteration 4900: error = 1.1646369, gradient norm = 0.0000014 (50 iterations in 0.836s)\n",
      "[t-SNE] Iteration 4950: error = 1.1632495, gradient norm = 0.0000014 (50 iterations in 0.841s)\n",
      "[t-SNE] Iteration 5000: error = 1.1615093, gradient norm = 0.0000015 (50 iterations in 0.831s)\n",
      "[t-SNE] KL divergence after 5000 iterations: 1.161509\n",
      "[t-SNE] Computing 91 nearest neighbors...\n",
      "[t-SNE] Indexed 432 samples in 0.001s...\n",
      "[t-SNE] Computed neighbors for 432 samples in 0.017s...\n",
      "[t-SNE] Computed conditional probabilities for sample 432 / 432\n",
      "[t-SNE] Mean sigma: 2.294465\n",
      "[t-SNE] Computed conditional probabilities in 0.014s\n",
      "[t-SNE] Iteration 50: error = 89.2456131, gradient norm = 0.2857993 (50 iterations in 0.433s)\n",
      "[t-SNE] Iteration 100: error = 100.4059982, gradient norm = 0.2427590 (50 iterations in 0.423s)\n",
      "[t-SNE] Iteration 150: error = 110.3215637, gradient norm = 0.2157494 (50 iterations in 0.390s)\n",
      "[t-SNE] Iteration 200: error = 118.9221954, gradient norm = 0.1807285 (50 iterations in 0.410s)\n",
      "[t-SNE] Iteration 250: error = 125.9453354, gradient norm = 0.1669783 (50 iterations in 0.405s)\n",
      "[t-SNE] KL divergence after 250 iterations with early exaggeration: 125.945335\n",
      "[t-SNE] Iteration 300: error = 3.6468761, gradient norm = 0.0005960 (50 iterations in 0.433s)\n",
      "[t-SNE] Iteration 350: error = 3.1404049, gradient norm = 0.0002297 (50 iterations in 0.441s)\n",
      "[t-SNE] Iteration 400: error = 2.8884327, gradient norm = 0.0001253 (50 iterations in 0.431s)\n",
      "[t-SNE] Iteration 450: error = 2.7406554, gradient norm = 0.0000866 (50 iterations in 0.422s)\n",
      "[t-SNE] Iteration 500: error = 2.6309364, gradient norm = 0.0000673 (50 iterations in 0.423s)\n",
      "[t-SNE] Iteration 550: error = 2.5500522, gradient norm = 0.0000520 (50 iterations in 0.429s)\n",
      "[t-SNE] Iteration 600: error = 2.4830072, gradient norm = 0.0000427 (50 iterations in 0.430s)\n",
      "[t-SNE] Iteration 650: error = 2.4342232, gradient norm = 0.0000370 (50 iterations in 0.412s)\n",
      "[t-SNE] Iteration 700: error = 2.3885756, gradient norm = 0.0000320 (50 iterations in 0.414s)\n",
      "[t-SNE] Iteration 750: error = 2.3444898, gradient norm = 0.0000273 (50 iterations in 0.411s)\n",
      "[t-SNE] Iteration 800: error = 2.3064985, gradient norm = 0.0000242 (50 iterations in 0.416s)\n",
      "[t-SNE] Iteration 850: error = 2.2716563, gradient norm = 0.0000225 (50 iterations in 0.397s)\n",
      "[t-SNE] Iteration 900: error = 2.2365870, gradient norm = 0.0000206 (50 iterations in 0.390s)\n",
      "[t-SNE] Iteration 950: error = 2.2032154, gradient norm = 0.0000182 (50 iterations in 0.386s)\n",
      "[t-SNE] Iteration 1000: error = 2.1726608, gradient norm = 0.0000165 (50 iterations in 0.375s)\n",
      "[t-SNE] Iteration 1050: error = 2.1438441, gradient norm = 0.0000157 (50 iterations in 0.362s)\n",
      "[t-SNE] Iteration 1100: error = 2.1133463, gradient norm = 0.0000158 (50 iterations in 0.373s)\n",
      "[t-SNE] Iteration 1150: error = 2.0861113, gradient norm = 0.0000135 (50 iterations in 0.374s)\n",
      "[t-SNE] Iteration 1200: error = 2.0617149, gradient norm = 0.0000130 (50 iterations in 0.375s)\n",
      "[t-SNE] Iteration 1250: error = 2.0374184, gradient norm = 0.0000130 (50 iterations in 0.400s)\n",
      "[t-SNE] Iteration 1300: error = 2.0134218, gradient norm = 0.0000123 (50 iterations in 0.370s)\n",
      "[t-SNE] Iteration 1350: error = 1.9901320, gradient norm = 0.0000121 (50 iterations in 0.372s)\n",
      "[t-SNE] Iteration 1400: error = 1.9668669, gradient norm = 0.0000112 (50 iterations in 0.369s)\n",
      "[t-SNE] Iteration 1450: error = 1.9461838, gradient norm = 0.0000105 (50 iterations in 0.375s)\n",
      "[t-SNE] Iteration 1500: error = 1.9262135, gradient norm = 0.0000099 (50 iterations in 0.375s)\n",
      "[t-SNE] Iteration 1550: error = 1.9073073, gradient norm = 0.0000092 (50 iterations in 0.372s)\n",
      "[t-SNE] Iteration 1600: error = 1.8892217, gradient norm = 0.0000088 (50 iterations in 0.363s)\n",
      "[t-SNE] Iteration 1650: error = 1.8716881, gradient norm = 0.0000086 (50 iterations in 0.369s)\n",
      "[t-SNE] Iteration 1700: error = 1.8541518, gradient norm = 0.0000078 (50 iterations in 0.368s)\n",
      "[t-SNE] Iteration 1750: error = 1.8406879, gradient norm = 0.0000073 (50 iterations in 0.367s)\n",
      "[t-SNE] Iteration 1800: error = 1.8283212, gradient norm = 0.0000070 (50 iterations in 0.370s)\n",
      "[t-SNE] Iteration 1850: error = 1.8157766, gradient norm = 0.0000068 (50 iterations in 0.373s)\n",
      "[t-SNE] Iteration 1900: error = 1.8039941, gradient norm = 0.0000065 (50 iterations in 0.376s)\n",
      "[t-SNE] Iteration 1950: error = 1.7929286, gradient norm = 0.0000064 (50 iterations in 0.383s)\n",
      "[t-SNE] Iteration 2000: error = 1.7824157, gradient norm = 0.0000062 (50 iterations in 0.379s)\n",
      "[t-SNE] Iteration 2050: error = 1.7727798, gradient norm = 0.0000058 (50 iterations in 0.378s)\n",
      "[t-SNE] Iteration 2100: error = 1.7631238, gradient norm = 0.0000058 (50 iterations in 0.372s)\n",
      "[t-SNE] Iteration 2150: error = 1.7545316, gradient norm = 0.0000053 (50 iterations in 0.379s)\n",
      "[t-SNE] Iteration 2200: error = 1.7463806, gradient norm = 0.0000050 (50 iterations in 0.375s)\n",
      "[t-SNE] Iteration 2250: error = 1.7380023, gradient norm = 0.0000048 (50 iterations in 0.384s)\n",
      "[t-SNE] Iteration 2300: error = 1.7298671, gradient norm = 0.0000047 (50 iterations in 0.372s)\n",
      "[t-SNE] Iteration 2350: error = 1.7211645, gradient norm = 0.0000046 (50 iterations in 0.387s)\n",
      "[t-SNE] Iteration 2400: error = 1.7123456, gradient norm = 0.0000044 (50 iterations in 0.373s)\n",
      "[t-SNE] Iteration 2450: error = 1.7036380, gradient norm = 0.0000043 (50 iterations in 0.380s)\n",
      "[t-SNE] Iteration 2500: error = 1.6955700, gradient norm = 0.0000041 (50 iterations in 0.375s)\n",
      "[t-SNE] Iteration 2550: error = 1.6878700, gradient norm = 0.0000040 (50 iterations in 0.372s)\n",
      "[t-SNE] Iteration 2600: error = 1.6802572, gradient norm = 0.0000040 (50 iterations in 0.377s)\n",
      "[t-SNE] Iteration 2650: error = 1.6734482, gradient norm = 0.0000039 (50 iterations in 0.369s)\n",
      "[t-SNE] Iteration 2700: error = 1.6670561, gradient norm = 0.0000038 (50 iterations in 0.386s)\n",
      "[t-SNE] Iteration 2750: error = 1.6604118, gradient norm = 0.0000037 (50 iterations in 0.380s)\n",
      "[t-SNE] Iteration 2800: error = 1.6542714, gradient norm = 0.0000034 (50 iterations in 0.377s)\n",
      "[t-SNE] Iteration 2850: error = 1.6482880, gradient norm = 0.0000034 (50 iterations in 0.372s)\n",
      "[t-SNE] Iteration 2900: error = 1.6423738, gradient norm = 0.0000032 (50 iterations in 0.382s)\n",
      "[t-SNE] Iteration 2950: error = 1.6365300, gradient norm = 0.0000032 (50 iterations in 0.376s)\n",
      "[t-SNE] Iteration 3000: error = 1.6307749, gradient norm = 0.0000031 (50 iterations in 0.372s)\n",
      "[t-SNE] Iteration 3050: error = 1.6250414, gradient norm = 0.0000031 (50 iterations in 0.375s)\n",
      "[t-SNE] Iteration 3100: error = 1.6189940, gradient norm = 0.0000030 (50 iterations in 0.374s)\n",
      "[t-SNE] Iteration 3150: error = 1.6134651, gradient norm = 0.0000029 (50 iterations in 0.378s)\n",
      "[t-SNE] Iteration 3200: error = 1.6078846, gradient norm = 0.0000028 (50 iterations in 0.378s)\n",
      "[t-SNE] Iteration 3250: error = 1.6024058, gradient norm = 0.0000027 (50 iterations in 0.379s)\n",
      "[t-SNE] Iteration 3300: error = 1.5970199, gradient norm = 0.0000026 (50 iterations in 0.381s)\n",
      "[t-SNE] Iteration 3350: error = 1.5915469, gradient norm = 0.0000026 (50 iterations in 0.385s)\n",
      "[t-SNE] Iteration 3400: error = 1.5863847, gradient norm = 0.0000026 (50 iterations in 0.378s)\n",
      "[t-SNE] Iteration 3450: error = 1.5809067, gradient norm = 0.0000025 (50 iterations in 0.371s)\n",
      "[t-SNE] Iteration 3500: error = 1.5752405, gradient norm = 0.0000025 (50 iterations in 0.383s)\n",
      "[t-SNE] Iteration 3550: error = 1.5697705, gradient norm = 0.0000025 (50 iterations in 0.378s)\n",
      "[t-SNE] Iteration 3600: error = 1.5639415, gradient norm = 0.0000025 (50 iterations in 0.375s)\n",
      "[t-SNE] Iteration 3650: error = 1.5581938, gradient norm = 0.0000025 (50 iterations in 0.377s)\n",
      "[t-SNE] Iteration 3700: error = 1.5524155, gradient norm = 0.0000024 (50 iterations in 0.376s)\n",
      "[t-SNE] Iteration 3750: error = 1.5472199, gradient norm = 0.0000024 (50 iterations in 0.376s)\n",
      "[t-SNE] Iteration 3800: error = 1.5420619, gradient norm = 0.0000024 (50 iterations in 0.386s)\n",
      "[t-SNE] Iteration 3850: error = 1.5370365, gradient norm = 0.0000024 (50 iterations in 0.379s)\n",
      "[t-SNE] Iteration 3900: error = 1.5320903, gradient norm = 0.0000023 (50 iterations in 0.375s)\n",
      "[t-SNE] Iteration 3950: error = 1.5271008, gradient norm = 0.0000023 (50 iterations in 0.387s)\n",
      "[t-SNE] Iteration 4000: error = 1.5218477, gradient norm = 0.0000023 (50 iterations in 0.381s)\n",
      "[t-SNE] Iteration 4050: error = 1.5163910, gradient norm = 0.0000023 (50 iterations in 0.374s)\n",
      "[t-SNE] Iteration 4100: error = 1.5116469, gradient norm = 0.0000021 (50 iterations in 0.380s)\n",
      "[t-SNE] Iteration 4150: error = 1.5075588, gradient norm = 0.0000021 (50 iterations in 0.367s)\n",
      "[t-SNE] Iteration 4200: error = 1.5032351, gradient norm = 0.0000020 (50 iterations in 0.370s)\n",
      "[t-SNE] Iteration 4250: error = 1.4992490, gradient norm = 0.0000020 (50 iterations in 0.373s)\n",
      "[t-SNE] Iteration 4300: error = 1.4951851, gradient norm = 0.0000019 (50 iterations in 0.371s)\n",
      "[t-SNE] Iteration 4350: error = 1.4912322, gradient norm = 0.0000018 (50 iterations in 0.366s)\n",
      "[t-SNE] Iteration 4400: error = 1.4873688, gradient norm = 0.0000018 (50 iterations in 0.367s)\n",
      "[t-SNE] Iteration 4450: error = 1.4834360, gradient norm = 0.0000018 (50 iterations in 0.365s)\n",
      "[t-SNE] Iteration 4500: error = 1.4796406, gradient norm = 0.0000018 (50 iterations in 0.370s)\n",
      "[t-SNE] Iteration 4550: error = 1.4753973, gradient norm = 0.0000019 (50 iterations in 0.377s)\n",
      "[t-SNE] Iteration 4600: error = 1.4702579, gradient norm = 0.0000023 (50 iterations in 0.370s)\n",
      "[t-SNE] Iteration 4650: error = 1.4641774, gradient norm = 0.0000019 (50 iterations in 0.366s)\n",
      "[t-SNE] Iteration 4700: error = 1.4610459, gradient norm = 0.0000016 (50 iterations in 0.375s)\n",
      "[t-SNE] Iteration 4750: error = 1.4579166, gradient norm = 0.0000016 (50 iterations in 0.375s)\n",
      "[t-SNE] Iteration 4800: error = 1.4548666, gradient norm = 0.0000015 (50 iterations in 0.369s)\n",
      "[t-SNE] Iteration 4850: error = 1.4519866, gradient norm = 0.0000015 (50 iterations in 0.366s)\n",
      "[t-SNE] Iteration 4900: error = 1.4491068, gradient norm = 0.0000015 (50 iterations in 0.368s)\n",
      "[t-SNE] Iteration 4950: error = 1.4459090, gradient norm = 0.0000015 (50 iterations in 0.364s)\n",
      "[t-SNE] Iteration 5000: error = 1.4431089, gradient norm = 0.0000014 (50 iterations in 0.369s)\n",
      "[t-SNE] KL divergence after 5000 iterations: 1.443109\n",
      "[t-SNE] Computing 91 nearest neighbors...\n",
      "[t-SNE] Indexed 363 samples in 0.001s...\n",
      "[t-SNE] Computed neighbors for 363 samples in 0.013s...\n",
      "[t-SNE] Computed conditional probabilities for sample 363 / 363\n",
      "[t-SNE] Mean sigma: 2.412487\n",
      "[t-SNE] Computed conditional probabilities in 0.012s\n",
      "[t-SNE] Iteration 50: error = 90.6565933, gradient norm = 0.2926421 (50 iterations in 0.362s)\n",
      "[t-SNE] Iteration 100: error = 110.3242722, gradient norm = 0.2377129 (50 iterations in 0.329s)\n",
      "[t-SNE] Iteration 150: error = 123.6040192, gradient norm = 0.2240751 (50 iterations in 0.338s)\n",
      "[t-SNE] Iteration 200: error = 128.0761871, gradient norm = 0.1893900 (50 iterations in 0.323s)\n",
      "[t-SNE] Iteration 250: error = 132.4262238, gradient norm = 0.1760668 (50 iterations in 0.307s)\n",
      "[t-SNE] KL divergence after 250 iterations with early exaggeration: 132.426224\n",
      "[t-SNE] Iteration 300: error = 3.8740389, gradient norm = 0.0005579 (50 iterations in 0.313s)\n",
      "[t-SNE] Iteration 350: error = 3.3396986, gradient norm = 0.0002131 (50 iterations in 0.315s)\n",
      "[t-SNE] Iteration 400: error = 3.0836957, gradient norm = 0.0001258 (50 iterations in 0.315s)\n",
      "[t-SNE] Iteration 450: error = 2.8963840, gradient norm = 0.0000894 (50 iterations in 0.306s)\n",
      "[t-SNE] Iteration 500: error = 2.7659090, gradient norm = 0.0000641 (50 iterations in 0.313s)\n",
      "[t-SNE] Iteration 550: error = 2.6705596, gradient norm = 0.0000511 (50 iterations in 0.307s)\n",
      "[t-SNE] Iteration 600: error = 2.5951974, gradient norm = 0.0000423 (50 iterations in 0.305s)\n",
      "[t-SNE] Iteration 650: error = 2.5327830, gradient norm = 0.0000350 (50 iterations in 0.303s)\n",
      "[t-SNE] Iteration 700: error = 2.4830775, gradient norm = 0.0000301 (50 iterations in 0.297s)\n",
      "[t-SNE] Iteration 750: error = 2.4377093, gradient norm = 0.0000270 (50 iterations in 0.294s)\n",
      "[t-SNE] Iteration 800: error = 2.3997679, gradient norm = 0.0000238 (50 iterations in 0.296s)\n",
      "[t-SNE] Iteration 850: error = 2.3656082, gradient norm = 0.0000207 (50 iterations in 0.291s)\n",
      "[t-SNE] Iteration 900: error = 2.3362482, gradient norm = 0.0000189 (50 iterations in 0.296s)\n",
      "[t-SNE] Iteration 950: error = 2.3083014, gradient norm = 0.0000185 (50 iterations in 0.298s)\n",
      "[t-SNE] Iteration 1000: error = 2.2818122, gradient norm = 0.0000159 (50 iterations in 0.301s)\n",
      "[t-SNE] Iteration 1050: error = 2.2567127, gradient norm = 0.0000144 (50 iterations in 0.308s)\n",
      "[t-SNE] Iteration 1100: error = 2.2334499, gradient norm = 0.0000131 (50 iterations in 0.310s)\n",
      "[t-SNE] Iteration 1150: error = 2.2129343, gradient norm = 0.0000122 (50 iterations in 0.315s)\n",
      "[t-SNE] Iteration 1200: error = 2.1924453, gradient norm = 0.0000116 (50 iterations in 0.312s)\n",
      "[t-SNE] Iteration 1250: error = 2.1712651, gradient norm = 0.0000113 (50 iterations in 0.318s)\n",
      "[t-SNE] Iteration 1300: error = 2.1495688, gradient norm = 0.0000104 (50 iterations in 0.317s)\n",
      "[t-SNE] Iteration 1350: error = 2.1292844, gradient norm = 0.0000097 (50 iterations in 0.318s)\n",
      "[t-SNE] Iteration 1400: error = 2.1097481, gradient norm = 0.0000091 (50 iterations in 0.316s)\n",
      "[t-SNE] Iteration 1450: error = 2.0896227, gradient norm = 0.0000089 (50 iterations in 0.311s)\n",
      "[t-SNE] Iteration 1500: error = 2.0667229, gradient norm = 0.0000102 (50 iterations in 0.320s)\n",
      "[t-SNE] Iteration 1550: error = 2.0427167, gradient norm = 0.0000098 (50 iterations in 0.302s)\n",
      "[t-SNE] Iteration 1600: error = 2.0247490, gradient norm = 0.0000080 (50 iterations in 0.292s)\n",
      "[t-SNE] Iteration 1650: error = 2.0081313, gradient norm = 0.0000078 (50 iterations in 0.291s)\n",
      "[t-SNE] Iteration 1700: error = 1.9928589, gradient norm = 0.0000071 (50 iterations in 0.294s)\n",
      "[t-SNE] Iteration 1750: error = 1.9788213, gradient norm = 0.0000067 (50 iterations in 0.301s)\n",
      "[t-SNE] Iteration 1800: error = 1.9657525, gradient norm = 0.0000065 (50 iterations in 0.296s)\n",
      "[t-SNE] Iteration 1850: error = 1.9529361, gradient norm = 0.0000062 (50 iterations in 0.297s)\n",
      "[t-SNE] Iteration 1900: error = 1.9405818, gradient norm = 0.0000063 (50 iterations in 0.297s)\n",
      "[t-SNE] Iteration 1950: error = 1.9274384, gradient norm = 0.0000060 (50 iterations in 0.292s)\n",
      "[t-SNE] Iteration 2000: error = 1.9149458, gradient norm = 0.0000056 (50 iterations in 0.297s)\n",
      "[t-SNE] Iteration 2050: error = 1.9037575, gradient norm = 0.0000053 (50 iterations in 0.298s)\n",
      "[t-SNE] Iteration 2100: error = 1.8933797, gradient norm = 0.0000051 (50 iterations in 0.294s)\n",
      "[t-SNE] Iteration 2150: error = 1.8831556, gradient norm = 0.0000049 (50 iterations in 0.295s)\n",
      "[t-SNE] Iteration 2200: error = 1.8733759, gradient norm = 0.0000048 (50 iterations in 0.296s)\n",
      "[t-SNE] Iteration 2250: error = 1.8638762, gradient norm = 0.0000046 (50 iterations in 0.297s)\n",
      "[t-SNE] Iteration 2300: error = 1.8542328, gradient norm = 0.0000046 (50 iterations in 0.300s)\n",
      "[t-SNE] Iteration 2350: error = 1.8438776, gradient norm = 0.0000044 (50 iterations in 0.311s)\n",
      "[t-SNE] Iteration 2400: error = 1.8356805, gradient norm = 0.0000041 (50 iterations in 0.320s)\n",
      "[t-SNE] Iteration 2450: error = 1.8286030, gradient norm = 0.0000039 (50 iterations in 0.306s)\n",
      "[t-SNE] Iteration 2500: error = 1.8217350, gradient norm = 0.0000038 (50 iterations in 0.330s)\n",
      "[t-SNE] Iteration 2550: error = 1.8146822, gradient norm = 0.0000037 (50 iterations in 0.310s)\n",
      "[t-SNE] Iteration 2600: error = 1.8080553, gradient norm = 0.0000036 (50 iterations in 0.307s)\n",
      "[t-SNE] Iteration 2650: error = 1.8020533, gradient norm = 0.0000035 (50 iterations in 0.329s)\n",
      "[t-SNE] Iteration 2700: error = 1.7963033, gradient norm = 0.0000034 (50 iterations in 0.315s)\n",
      "[t-SNE] Iteration 2750: error = 1.7910354, gradient norm = 0.0000034 (50 iterations in 0.304s)\n",
      "[t-SNE] Iteration 2800: error = 1.7867033, gradient norm = 0.0000032 (50 iterations in 0.318s)\n",
      "[t-SNE] Iteration 2850: error = 1.7823288, gradient norm = 0.0000030 (50 iterations in 0.307s)\n",
      "[t-SNE] Iteration 2900: error = 1.7779815, gradient norm = 0.0000030 (50 iterations in 0.310s)\n",
      "[t-SNE] Iteration 2950: error = 1.7735572, gradient norm = 0.0000029 (50 iterations in 0.319s)\n",
      "[t-SNE] Iteration 3000: error = 1.7695342, gradient norm = 0.0000028 (50 iterations in 0.322s)\n",
      "[t-SNE] Iteration 3050: error = 1.7657082, gradient norm = 0.0000027 (50 iterations in 0.307s)\n",
      "[t-SNE] Iteration 3100: error = 1.7618581, gradient norm = 0.0000027 (50 iterations in 0.314s)\n",
      "[t-SNE] Iteration 3150: error = 1.7583129, gradient norm = 0.0000026 (50 iterations in 0.323s)\n",
      "[t-SNE] Iteration 3200: error = 1.7548027, gradient norm = 0.0000025 (50 iterations in 0.305s)\n",
      "[t-SNE] Iteration 3250: error = 1.7514256, gradient norm = 0.0000025 (50 iterations in 0.320s)\n",
      "[t-SNE] Iteration 3300: error = 1.7479929, gradient norm = 0.0000024 (50 iterations in 0.311s)\n",
      "[t-SNE] Iteration 3350: error = 1.7447038, gradient norm = 0.0000024 (50 iterations in 0.303s)\n",
      "[t-SNE] Iteration 3400: error = 1.7415750, gradient norm = 0.0000023 (50 iterations in 0.316s)\n",
      "[t-SNE] Iteration 3450: error = 1.7383963, gradient norm = 0.0000022 (50 iterations in 0.311s)\n",
      "[t-SNE] Iteration 3500: error = 1.7354598, gradient norm = 0.0000022 (50 iterations in 0.300s)\n",
      "[t-SNE] Iteration 3550: error = 1.7324003, gradient norm = 0.0000021 (50 iterations in 0.295s)\n",
      "[t-SNE] Iteration 3600: error = 1.7295215, gradient norm = 0.0000021 (50 iterations in 0.309s)\n",
      "[t-SNE] Iteration 3650: error = 1.7265584, gradient norm = 0.0000020 (50 iterations in 0.326s)\n",
      "[t-SNE] Iteration 3700: error = 1.7236829, gradient norm = 0.0000020 (50 iterations in 0.320s)\n",
      "[t-SNE] Iteration 3750: error = 1.7206627, gradient norm = 0.0000020 (50 iterations in 0.304s)\n",
      "[t-SNE] Iteration 3800: error = 1.7177937, gradient norm = 0.0000019 (50 iterations in 0.293s)\n",
      "[t-SNE] Iteration 3850: error = 1.7149495, gradient norm = 0.0000019 (50 iterations in 0.323s)\n",
      "[t-SNE] Iteration 3900: error = 1.7117400, gradient norm = 0.0000018 (50 iterations in 0.299s)\n",
      "[t-SNE] Iteration 3950: error = 1.7092340, gradient norm = 0.0000018 (50 iterations in 0.296s)\n",
      "[t-SNE] Iteration 4000: error = 1.7063819, gradient norm = 0.0000018 (50 iterations in 0.307s)\n",
      "[t-SNE] Iteration 4050: error = 1.7035468, gradient norm = 0.0000018 (50 iterations in 0.314s)\n",
      "[t-SNE] Iteration 4100: error = 1.7008711, gradient norm = 0.0000017 (50 iterations in 0.323s)\n",
      "[t-SNE] Iteration 4150: error = 1.6979502, gradient norm = 0.0000017 (50 iterations in 0.295s)\n",
      "[t-SNE] Iteration 4200: error = 1.6953288, gradient norm = 0.0000017 (50 iterations in 0.296s)\n",
      "[t-SNE] Iteration 4250: error = 1.6927072, gradient norm = 0.0000016 (50 iterations in 0.307s)\n",
      "[t-SNE] Iteration 4300: error = 1.6898800, gradient norm = 0.0000016 (50 iterations in 0.297s)\n",
      "[t-SNE] Iteration 4350: error = 1.6872705, gradient norm = 0.0000016 (50 iterations in 0.297s)\n",
      "[t-SNE] Iteration 4400: error = 1.6845294, gradient norm = 0.0000015 (50 iterations in 0.289s)\n",
      "[t-SNE] Iteration 4450: error = 1.6816232, gradient norm = 0.0000015 (50 iterations in 0.298s)\n",
      "[t-SNE] Iteration 4500: error = 1.6788483, gradient norm = 0.0000015 (50 iterations in 0.320s)\n",
      "[t-SNE] Iteration 4550: error = 1.6763234, gradient norm = 0.0000015 (50 iterations in 0.313s)\n",
      "[t-SNE] Iteration 4600: error = 1.6735971, gradient norm = 0.0000015 (50 iterations in 0.311s)\n",
      "[t-SNE] Iteration 4650: error = 1.6707921, gradient norm = 0.0000015 (50 iterations in 0.313s)\n",
      "[t-SNE] Iteration 4700: error = 1.6680646, gradient norm = 0.0000015 (50 iterations in 0.314s)\n",
      "[t-SNE] Iteration 4750: error = 1.6652123, gradient norm = 0.0000015 (50 iterations in 0.311s)\n",
      "[t-SNE] Iteration 4800: error = 1.6624715, gradient norm = 0.0000014 (50 iterations in 0.307s)\n",
      "[t-SNE] Iteration 4850: error = 1.6594849, gradient norm = 0.0000015 (50 iterations in 0.306s)\n",
      "[t-SNE] Iteration 4900: error = 1.6564800, gradient norm = 0.0000015 (50 iterations in 0.296s)\n",
      "[t-SNE] Iteration 4950: error = 1.6532098, gradient norm = 0.0000015 (50 iterations in 0.317s)\n",
      "[t-SNE] Iteration 5000: error = 1.6499057, gradient norm = 0.0000015 (50 iterations in 0.314s)\n",
      "[t-SNE] KL divergence after 5000 iterations: 1.649906\n"
     ]
    }
   ],
   "source": [
    "my_tsne_train = TSNE(n_components=3, n_iter=5000, verbose=3).fit_transform(element_data_train_scaled)\n",
    "my_tsne_bedrock_train = TSNE(n_components=3, n_iter=5000, verbose=3).fit_transform(element_data_train_bedrock_scaled)\n",
    "my_tsne_superficial_train = TSNE(n_components=3, n_iter=5000, verbose=3).fit_transform(element_data_train_superficial_scaled)\n",
    "my_tsne_test = TSNE(n_components=3, n_iter=5000, verbose=3).fit_transform(element_data_test_scaled)"
   ]
  },
  {
   "cell_type": "markdown",
   "metadata": {},
   "source": [
    "### the t-SNE dimensions for the four datasets are put into dataframes"
   ]
  },
  {
   "cell_type": "code",
   "execution_count": 43,
   "metadata": {},
   "outputs": [],
   "source": [
    "tsne_df_train = pd.DataFrame(data = my_tsne_train, columns = ['tsne1', 'tsne2', 'tsne3'])\n",
    "tsne_df_bedrock_train = pd.DataFrame(data = my_tsne_bedrock_train, columns = ['tsne1', 'tsne2', 'tsne3'])\n",
    "tsne_df_superficial_train = pd.DataFrame(data = my_tsne_superficial_train, columns = ['tsne1', 'tsne2', 'tsne3'])\n",
    "tsne_df_test = pd.DataFrame(data = my_tsne_test, columns = ['tsne1', 'tsne2', 'tsne3'])"
   ]
  },
  {
   "cell_type": "code",
   "execution_count": 44,
   "metadata": {},
   "outputs": [],
   "source": [
    "bedrock_data = train_data[train_data['Geology'] == 'Bedrock']\n",
    "superficial_data = train_data[train_data['Geology'] == 'Superficial'].reset_index(drop = True)\n",
    "artefact_data = test_data.reset_index(drop = True)"
   ]
  },
  {
   "cell_type": "code",
   "execution_count": 45,
   "metadata": {},
   "outputs": [],
   "source": [
    "tsne_df_train_labelled = pd.concat([tsne_df_train, train_data['class']], axis = 1)\n",
    "tsne_df_bedrock_train_labelled = pd.concat([tsne_df_bedrock_train, bedrock_data['class']], axis = 1)\n",
    "tsne_df_superficial_train_labelled = pd.concat([tsne_df_superficial_train, superficial_data['class']], axis = 1)\n",
    "tsne_df_test_labelled['class'] = 1"
   ]
  },
  {
   "cell_type": "markdown",
   "metadata": {},
   "source": [
    "### Do same as above cell but for PCA"
   ]
  },
  {
   "cell_type": "code",
   "execution_count": 48,
   "metadata": {},
   "outputs": [
    {
     "data": {
      "text/html": [
       "<div>\n",
       "<style scoped>\n",
       "    .dataframe tbody tr th:only-of-type {\n",
       "        vertical-align: middle;\n",
       "    }\n",
       "\n",
       "    .dataframe tbody tr th {\n",
       "        vertical-align: top;\n",
       "    }\n",
       "\n",
       "    .dataframe thead th {\n",
       "        text-align: right;\n",
       "    }\n",
       "</style>\n",
       "<table border=\"1\" class=\"dataframe\">\n",
       "  <thead>\n",
       "    <tr style=\"text-align: right;\">\n",
       "      <th></th>\n",
       "      <th>tsne1</th>\n",
       "      <th>tsne2</th>\n",
       "      <th>tsne3</th>\n",
       "      <th>class</th>\n",
       "    </tr>\n",
       "  </thead>\n",
       "  <tbody>\n",
       "    <tr>\n",
       "      <th>427</th>\n",
       "      <td>-9.646336</td>\n",
       "      <td>-42.683285</td>\n",
       "      <td>104.135300</td>\n",
       "      <td>MM</td>\n",
       "    </tr>\n",
       "    <tr>\n",
       "      <th>428</th>\n",
       "      <td>-5.957819</td>\n",
       "      <td>-50.054859</td>\n",
       "      <td>46.487656</td>\n",
       "      <td>MM</td>\n",
       "    </tr>\n",
       "    <tr>\n",
       "      <th>429</th>\n",
       "      <td>-268.466675</td>\n",
       "      <td>-135.111557</td>\n",
       "      <td>91.576485</td>\n",
       "      <td>MM</td>\n",
       "    </tr>\n",
       "    <tr>\n",
       "      <th>430</th>\n",
       "      <td>143.726837</td>\n",
       "      <td>169.244110</td>\n",
       "      <td>-50.207928</td>\n",
       "      <td>MM</td>\n",
       "    </tr>\n",
       "    <tr>\n",
       "      <th>431</th>\n",
       "      <td>175.026520</td>\n",
       "      <td>284.142242</td>\n",
       "      <td>-10.702388</td>\n",
       "      <td>MM</td>\n",
       "    </tr>\n",
       "  </tbody>\n",
       "</table>\n",
       "</div>"
      ],
      "text/plain": [
       "          tsne1       tsne2       tsne3 class\n",
       "427   -9.646336  -42.683285  104.135300    MM\n",
       "428   -5.957819  -50.054859   46.487656    MM\n",
       "429 -268.466675 -135.111557   91.576485    MM\n",
       "430  143.726837  169.244110  -50.207928    MM\n",
       "431  175.026520  284.142242  -10.702388    MM"
      ]
     },
     "execution_count": 48,
     "metadata": {},
     "output_type": "execute_result"
    }
   ],
   "source": [
    "tsne_df_superficial_train_labelled.tail()"
   ]
  },
  {
   "cell_type": "code",
   "execution_count": 49,
   "metadata": {},
   "outputs": [],
   "source": [
    "#tsne_df_train_labelled.to_csv('tsne_both.csv')\n",
    "#tsne_df_bedrock_train_labelled.to_csv('tsne_bedrock.csv')\n",
    "#tsne_df_superficial_train_labelled.to_csv('tsne_superficial.csv')\n",
    "#tsne_df_test_labelled.to_csv('tsne_artefacts.csv')"
   ]
  }
 ],
 "metadata": {
  "kernelspec": {
   "display_name": "Python 3",
   "language": "python",
   "name": "python3"
  },
  "language_info": {
   "codemirror_mode": {
    "name": "ipython",
    "version": 3
   },
   "file_extension": ".py",
   "mimetype": "text/x-python",
   "name": "python",
   "nbconvert_exporter": "python",
   "pygments_lexer": "ipython3",
   "version": "3.6.8"
  }
 },
 "nbformat": 4,
 "nbformat_minor": 2
}
