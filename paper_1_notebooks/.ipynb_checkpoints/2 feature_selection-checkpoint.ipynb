{
 "cells": [
  {
   "cell_type": "code",
   "execution_count": 61,
   "metadata": {},
   "outputs": [],
   "source": [
    "import pandas as pd\n",
    "import numpy as np\n",
    "import swifter\n",
    "import seaborn as sns\n",
    "import matplotlib.pyplot\n",
    "\n",
    "pd.set_option('max.rows', None)\n",
    "pd.set_option('max.columns', None)\n",
    "\n",
    "from sklearn.ensemble import RandomForestClassifier\n",
    "from sklearn.feature_selection import VarianceThreshold, RFECV\n",
    "from sklearn.model_selection import StratifiedKFold\n",
    "from sklearn.neural_network import MLPClassifier\n",
    "%matplotlib inline"
   ]
  },
  {
   "cell_type": "markdown",
   "metadata": {},
   "source": [
    "### load datasets"
   ]
  },
  {
   "cell_type": "code",
   "execution_count": 62,
   "metadata": {},
   "outputs": [],
   "source": [
    "%store -r train_data_formodel_transformed\n",
    "data = train_data_formodel_transformed\n",
    "%store -r test_data\n",
    "%store -r my_data\n",
    "%store -r uniques"
   ]
  },
  {
   "cell_type": "code",
   "execution_count": 63,
   "metadata": {},
   "outputs": [],
   "source": [
    "tsne_dims_train = pd.read_csv('../dim_red_components/tsne_df_train.csv')\n",
    "pca_dims_train = pd.read_csv('../dim_red_components/PC_df_train.csv')"
   ]
  },
  {
   "cell_type": "markdown",
   "metadata": {},
   "source": [
    "## Univariate feature selection\n",
    "\n",
    "### both train and test datasets are concatenated for the purposes of univariate feature selection"
   ]
  },
  {
   "cell_type": "markdown",
   "metadata": {},
   "source": [
    "total_data = pd.concat([train_data[train_data.columns.values[8:-1]], test_data[test_data.columns.values[8:-1]]], axis = 0)"
   ]
  },
  {
   "cell_type": "markdown",
   "metadata": {},
   "source": [
    "total_data.head()"
   ]
  },
  {
   "cell_type": "markdown",
   "metadata": {},
   "source": [
    "### Features with a variance above a defined threshold are identified"
   ]
  },
  {
   "cell_type": "markdown",
   "metadata": {},
   "source": [
    "my_variance_filter = VarianceThreshold(threshold=0.001)"
   ]
  },
  {
   "cell_type": "markdown",
   "metadata": {},
   "source": [
    "high_variance_data = my_variance_filter.fit_transform(total_data)"
   ]
  },
  {
   "cell_type": "markdown",
   "metadata": {},
   "source": [
    "high_variance_data_indexes = my_variance_filter.get_support()"
   ]
  },
  {
   "cell_type": "markdown",
   "metadata": {},
   "source": [
    "high_variance_data_indexes"
   ]
  },
  {
   "cell_type": "markdown",
   "metadata": {},
   "source": [
    "high_variance_col_names = total_data.columns.values[high_variance_data_indexes]"
   ]
  },
  {
   "cell_type": "markdown",
   "metadata": {},
   "source": [
    "print(high_variance_col_names)"
   ]
  },
  {
   "cell_type": "markdown",
   "metadata": {},
   "source": [
    "print('data shape before removal of low variance features')\n",
    "print(total_data.shape)\n",
    "print('data shape after removal of low variance features')\n",
    "print(high_variance_data.shape)"
   ]
  },
  {
   "cell_type": "markdown",
   "metadata": {},
   "source": [
    "# RFE, this isnt working yet, rankings all came out as 1"
   ]
  },
  {
   "cell_type": "code",
   "execution_count": 64,
   "metadata": {},
   "outputs": [
    {
     "data": {
      "text/html": [
       "<div>\n",
       "<style scoped>\n",
       "    .dataframe tbody tr th:only-of-type {\n",
       "        vertical-align: middle;\n",
       "    }\n",
       "\n",
       "    .dataframe tbody tr th {\n",
       "        vertical-align: top;\n",
       "    }\n",
       "\n",
       "    .dataframe thead th {\n",
       "        text-align: right;\n",
       "    }\n",
       "</style>\n",
       "<table border=\"1\" class=\"dataframe\">\n",
       "  <thead>\n",
       "    <tr style=\"text-align: right;\">\n",
       "      <th></th>\n",
       "      <th>Analysis</th>\n",
       "      <th>Geology</th>\n",
       "      <th>Province</th>\n",
       "      <th>Region</th>\n",
       "      <th>Site</th>\n",
       "      <th>SubSite</th>\n",
       "      <th>Formation</th>\n",
       "      <th>Band</th>\n",
       "      <th>Nodule</th>\n",
       "      <th>Li7</th>\n",
       "      <th>Be9</th>\n",
       "      <th>B11</th>\n",
       "      <th>Mg24</th>\n",
       "      <th>Al27</th>\n",
       "      <th>Si28</th>\n",
       "      <th>P31</th>\n",
       "      <th>S33</th>\n",
       "      <th>K39</th>\n",
       "      <th>Ca42</th>\n",
       "      <th>Sc45</th>\n",
       "      <th>Ti47</th>\n",
       "      <th>V51</th>\n",
       "      <th>Cr52</th>\n",
       "      <th>Mn55</th>\n",
       "      <th>Fe56</th>\n",
       "      <th>Co59</th>\n",
       "      <th>Ni60</th>\n",
       "      <th>Cu63</th>\n",
       "      <th>Zn68</th>\n",
       "      <th>Ga69</th>\n",
       "      <th>Ge72</th>\n",
       "      <th>As75</th>\n",
       "      <th>Rb85</th>\n",
       "      <th>Sr88</th>\n",
       "      <th>Y89</th>\n",
       "      <th>Zr90</th>\n",
       "      <th>Nb93</th>\n",
       "      <th>Mo95</th>\n",
       "      <th>Cd111</th>\n",
       "      <th>In115</th>\n",
       "      <th>Sn118</th>\n",
       "      <th>Cs133</th>\n",
       "      <th>Ba137</th>\n",
       "      <th>La139</th>\n",
       "      <th>Ce140</th>\n",
       "      <th>Pr141</th>\n",
       "      <th>Nd146</th>\n",
       "      <th>Sm147</th>\n",
       "      <th>Eu153</th>\n",
       "      <th>Gd157</th>\n",
       "      <th>Tb159</th>\n",
       "      <th>Dy163</th>\n",
       "      <th>Ho165</th>\n",
       "      <th>Er166</th>\n",
       "      <th>Tm169</th>\n",
       "      <th>Yb172</th>\n",
       "      <th>Lu175</th>\n",
       "      <th>Hf178</th>\n",
       "      <th>Ta181</th>\n",
       "      <th>Pb208</th>\n",
       "      <th>Th232</th>\n",
       "      <th>U238</th>\n",
       "      <th>class</th>\n",
       "    </tr>\n",
       "  </thead>\n",
       "  <tbody>\n",
       "    <tr>\n",
       "      <th>0</th>\n",
       "      <td>10_FH1_1_1</td>\n",
       "      <td>Bedrock</td>\n",
       "      <td>Northern</td>\n",
       "      <td>NaN</td>\n",
       "      <td>FH</td>\n",
       "      <td>FH1</td>\n",
       "      <td>Burnham</td>\n",
       "      <td>FH1</td>\n",
       "      <td>FH1_1_1</td>\n",
       "      <td>2.811208</td>\n",
       "      <td>0.113329</td>\n",
       "      <td>48.36</td>\n",
       "      <td>5.047481</td>\n",
       "      <td>6.850878</td>\n",
       "      <td>1.005084e+17</td>\n",
       "      <td>3.937301</td>\n",
       "      <td>538.57</td>\n",
       "      <td>6.124552</td>\n",
       "      <td>6.570028</td>\n",
       "      <td>0.350657</td>\n",
       "      <td>2.808197</td>\n",
       "      <td>0.239017</td>\n",
       "      <td>1.458615</td>\n",
       "      <td>0.524729</td>\n",
       "      <td>2.247072</td>\n",
       "      <td>0.048790</td>\n",
       "      <td>0.587787</td>\n",
       "      <td>0.963174</td>\n",
       "      <td>2.469793</td>\n",
       "      <td>0.223144</td>\n",
       "      <td>0.797507</td>\n",
       "      <td>0.148420</td>\n",
       "      <td>0.357674</td>\n",
       "      <td>2.634762</td>\n",
       "      <td>0.631272</td>\n",
       "      <td>0.920283</td>\n",
       "      <td>0.086178</td>\n",
       "      <td>0.048790</td>\n",
       "      <td>0.019803</td>\n",
       "      <td>0.00000</td>\n",
       "      <td>0.048790</td>\n",
       "      <td>0.009950</td>\n",
       "      <td>2.020222</td>\n",
       "      <td>0.609766</td>\n",
       "      <td>0.667829</td>\n",
       "      <td>0.207014</td>\n",
       "      <td>0.625938</td>\n",
       "      <td>0.148420</td>\n",
       "      <td>0.039221</td>\n",
       "      <td>0.148420</td>\n",
       "      <td>0.019803</td>\n",
       "      <td>0.104360</td>\n",
       "      <td>0.029559</td>\n",
       "      <td>0.058269</td>\n",
       "      <td>0.00995</td>\n",
       "      <td>0.019803</td>\n",
       "      <td>0.00000</td>\n",
       "      <td>0.039221</td>\n",
       "      <td>0.00995</td>\n",
       "      <td>0.215111</td>\n",
       "      <td>0.067659</td>\n",
       "      <td>0.048790</td>\n",
       "      <td>0</td>\n",
       "    </tr>\n",
       "    <tr>\n",
       "      <th>1</th>\n",
       "      <td>11_FH1_1_1</td>\n",
       "      <td>Bedrock</td>\n",
       "      <td>Northern</td>\n",
       "      <td>NaN</td>\n",
       "      <td>FH</td>\n",
       "      <td>FH1</td>\n",
       "      <td>Burnham</td>\n",
       "      <td>FH1</td>\n",
       "      <td>FH1_1_1</td>\n",
       "      <td>2.525729</td>\n",
       "      <td>0.086178</td>\n",
       "      <td>44.77</td>\n",
       "      <td>3.153590</td>\n",
       "      <td>6.982965</td>\n",
       "      <td>1.005517e+17</td>\n",
       "      <td>4.275415</td>\n",
       "      <td>438.20</td>\n",
       "      <td>5.963117</td>\n",
       "      <td>6.246572</td>\n",
       "      <td>0.364643</td>\n",
       "      <td>2.968875</td>\n",
       "      <td>0.254642</td>\n",
       "      <td>1.492904</td>\n",
       "      <td>0.698135</td>\n",
       "      <td>2.532903</td>\n",
       "      <td>0.104360</td>\n",
       "      <td>0.307485</td>\n",
       "      <td>0.425268</td>\n",
       "      <td>2.295560</td>\n",
       "      <td>0.292670</td>\n",
       "      <td>0.615186</td>\n",
       "      <td>0.095310</td>\n",
       "      <td>0.371564</td>\n",
       "      <td>2.654649</td>\n",
       "      <td>0.667829</td>\n",
       "      <td>1.007958</td>\n",
       "      <td>0.067659</td>\n",
       "      <td>0.009950</td>\n",
       "      <td>0.019803</td>\n",
       "      <td>0.00000</td>\n",
       "      <td>0.039221</td>\n",
       "      <td>0.019803</td>\n",
       "      <td>2.201659</td>\n",
       "      <td>0.652325</td>\n",
       "      <td>0.698135</td>\n",
       "      <td>0.207014</td>\n",
       "      <td>0.683097</td>\n",
       "      <td>0.165514</td>\n",
       "      <td>0.039221</td>\n",
       "      <td>0.165514</td>\n",
       "      <td>0.019803</td>\n",
       "      <td>0.122218</td>\n",
       "      <td>0.029559</td>\n",
       "      <td>0.058269</td>\n",
       "      <td>0.00995</td>\n",
       "      <td>0.039221</td>\n",
       "      <td>0.00995</td>\n",
       "      <td>0.048790</td>\n",
       "      <td>0.00000</td>\n",
       "      <td>0.067659</td>\n",
       "      <td>0.076961</td>\n",
       "      <td>0.039221</td>\n",
       "      <td>0</td>\n",
       "    </tr>\n",
       "    <tr>\n",
       "      <th>2</th>\n",
       "      <td>12_FH1_1_1</td>\n",
       "      <td>Bedrock</td>\n",
       "      <td>Northern</td>\n",
       "      <td>NaN</td>\n",
       "      <td>FH</td>\n",
       "      <td>FH1</td>\n",
       "      <td>Burnham</td>\n",
       "      <td>FH1</td>\n",
       "      <td>FH1_1_1</td>\n",
       "      <td>3.046901</td>\n",
       "      <td>0.058269</td>\n",
       "      <td>44.88</td>\n",
       "      <td>3.777348</td>\n",
       "      <td>6.431669</td>\n",
       "      <td>1.007364e+17</td>\n",
       "      <td>4.658427</td>\n",
       "      <td>372.66</td>\n",
       "      <td>5.899103</td>\n",
       "      <td>6.865776</td>\n",
       "      <td>0.565314</td>\n",
       "      <td>3.039271</td>\n",
       "      <td>0.438255</td>\n",
       "      <td>1.446919</td>\n",
       "      <td>0.792993</td>\n",
       "      <td>4.488524</td>\n",
       "      <td>0.190620</td>\n",
       "      <td>0.985817</td>\n",
       "      <td>0.928219</td>\n",
       "      <td>2.563410</td>\n",
       "      <td>0.223144</td>\n",
       "      <td>0.996949</td>\n",
       "      <td>0.122218</td>\n",
       "      <td>0.357674</td>\n",
       "      <td>2.253395</td>\n",
       "      <td>0.625938</td>\n",
       "      <td>0.657520</td>\n",
       "      <td>0.095310</td>\n",
       "      <td>0.019803</td>\n",
       "      <td>0.019803</td>\n",
       "      <td>0.00000</td>\n",
       "      <td>0.048790</td>\n",
       "      <td>0.009950</td>\n",
       "      <td>1.418277</td>\n",
       "      <td>0.641854</td>\n",
       "      <td>0.732368</td>\n",
       "      <td>0.231112</td>\n",
       "      <td>0.609766</td>\n",
       "      <td>0.139762</td>\n",
       "      <td>0.039221</td>\n",
       "      <td>0.173953</td>\n",
       "      <td>0.019803</td>\n",
       "      <td>0.131028</td>\n",
       "      <td>0.019803</td>\n",
       "      <td>0.067659</td>\n",
       "      <td>0.00995</td>\n",
       "      <td>0.058269</td>\n",
       "      <td>0.00000</td>\n",
       "      <td>0.019803</td>\n",
       "      <td>0.00995</td>\n",
       "      <td>0.378436</td>\n",
       "      <td>0.048790</td>\n",
       "      <td>0.048790</td>\n",
       "      <td>0</td>\n",
       "    </tr>\n",
       "    <tr>\n",
       "      <th>3</th>\n",
       "      <td>13_FH1_1_2</td>\n",
       "      <td>Bedrock</td>\n",
       "      <td>Northern</td>\n",
       "      <td>NaN</td>\n",
       "      <td>FH</td>\n",
       "      <td>FH1</td>\n",
       "      <td>Burnham</td>\n",
       "      <td>FH1</td>\n",
       "      <td>FH1_1_2</td>\n",
       "      <td>2.498152</td>\n",
       "      <td>0.548121</td>\n",
       "      <td>47.06</td>\n",
       "      <td>5.096324</td>\n",
       "      <td>7.042452</td>\n",
       "      <td>1.006094e+17</td>\n",
       "      <td>10.939673</td>\n",
       "      <td>1075.89</td>\n",
       "      <td>6.307278</td>\n",
       "      <td>7.684922</td>\n",
       "      <td>0.357674</td>\n",
       "      <td>3.768153</td>\n",
       "      <td>0.512824</td>\n",
       "      <td>5.033179</td>\n",
       "      <td>1.764731</td>\n",
       "      <td>4.985933</td>\n",
       "      <td>0.262364</td>\n",
       "      <td>1.238374</td>\n",
       "      <td>1.795087</td>\n",
       "      <td>2.898671</td>\n",
       "      <td>0.300105</td>\n",
       "      <td>1.141033</td>\n",
       "      <td>0.609766</td>\n",
       "      <td>0.565314</td>\n",
       "      <td>2.650421</td>\n",
       "      <td>0.678034</td>\n",
       "      <td>1.098612</td>\n",
       "      <td>0.095310</td>\n",
       "      <td>0.254642</td>\n",
       "      <td>0.165514</td>\n",
       "      <td>0.00995</td>\n",
       "      <td>0.576613</td>\n",
       "      <td>0.039221</td>\n",
       "      <td>2.276241</td>\n",
       "      <td>0.657520</td>\n",
       "      <td>0.667829</td>\n",
       "      <td>0.190620</td>\n",
       "      <td>0.559616</td>\n",
       "      <td>0.122218</td>\n",
       "      <td>0.039221</td>\n",
       "      <td>0.223144</td>\n",
       "      <td>0.019803</td>\n",
       "      <td>0.086178</td>\n",
       "      <td>0.029559</td>\n",
       "      <td>0.048790</td>\n",
       "      <td>0.00000</td>\n",
       "      <td>0.029559</td>\n",
       "      <td>0.00000</td>\n",
       "      <td>0.076961</td>\n",
       "      <td>0.00000</td>\n",
       "      <td>0.494696</td>\n",
       "      <td>0.048790</td>\n",
       "      <td>0.029559</td>\n",
       "      <td>0</td>\n",
       "    </tr>\n",
       "    <tr>\n",
       "      <th>4</th>\n",
       "      <td>14_FH1_1_2</td>\n",
       "      <td>Bedrock</td>\n",
       "      <td>Northern</td>\n",
       "      <td>NaN</td>\n",
       "      <td>FH</td>\n",
       "      <td>FH1</td>\n",
       "      <td>Burnham</td>\n",
       "      <td>FH1</td>\n",
       "      <td>FH1_1_2</td>\n",
       "      <td>2.929058</td>\n",
       "      <td>0.277632</td>\n",
       "      <td>48.26</td>\n",
       "      <td>3.541539</td>\n",
       "      <td>6.306677</td>\n",
       "      <td>1.005622e+17</td>\n",
       "      <td>3.816393</td>\n",
       "      <td>464.78</td>\n",
       "      <td>5.632107</td>\n",
       "      <td>7.347706</td>\n",
       "      <td>0.536493</td>\n",
       "      <td>2.499795</td>\n",
       "      <td>0.239017</td>\n",
       "      <td>1.269761</td>\n",
       "      <td>1.004302</td>\n",
       "      <td>3.272606</td>\n",
       "      <td>0.048790</td>\n",
       "      <td>0.587787</td>\n",
       "      <td>0.438255</td>\n",
       "      <td>2.379546</td>\n",
       "      <td>0.343590</td>\n",
       "      <td>0.879627</td>\n",
       "      <td>0.113329</td>\n",
       "      <td>0.246860</td>\n",
       "      <td>2.388763</td>\n",
       "      <td>0.641854</td>\n",
       "      <td>0.641854</td>\n",
       "      <td>0.076961</td>\n",
       "      <td>0.039221</td>\n",
       "      <td>0.095310</td>\n",
       "      <td>0.00000</td>\n",
       "      <td>0.086178</td>\n",
       "      <td>0.009950</td>\n",
       "      <td>1.319086</td>\n",
       "      <td>0.678034</td>\n",
       "      <td>0.737164</td>\n",
       "      <td>0.239017</td>\n",
       "      <td>0.693147</td>\n",
       "      <td>0.157004</td>\n",
       "      <td>0.039221</td>\n",
       "      <td>0.173953</td>\n",
       "      <td>0.019803</td>\n",
       "      <td>0.139762</td>\n",
       "      <td>0.029559</td>\n",
       "      <td>0.048790</td>\n",
       "      <td>0.00995</td>\n",
       "      <td>0.048790</td>\n",
       "      <td>0.00995</td>\n",
       "      <td>0.019803</td>\n",
       "      <td>0.00995</td>\n",
       "      <td>0.463734</td>\n",
       "      <td>0.058269</td>\n",
       "      <td>0.086178</td>\n",
       "      <td>0</td>\n",
       "    </tr>\n",
       "  </tbody>\n",
       "</table>\n",
       "</div>"
      ],
      "text/plain": [
       "     Analysis  Geology  Province Region Site SubSite Formation Band   Nodule  \\\n",
       "0  10_FH1_1_1  Bedrock  Northern    NaN   FH     FH1   Burnham  FH1  FH1_1_1   \n",
       "1  11_FH1_1_1  Bedrock  Northern    NaN   FH     FH1   Burnham  FH1  FH1_1_1   \n",
       "2  12_FH1_1_1  Bedrock  Northern    NaN   FH     FH1   Burnham  FH1  FH1_1_1   \n",
       "3  13_FH1_1_2  Bedrock  Northern    NaN   FH     FH1   Burnham  FH1  FH1_1_2   \n",
       "4  14_FH1_1_2  Bedrock  Northern    NaN   FH     FH1   Burnham  FH1  FH1_1_2   \n",
       "\n",
       "        Li7       Be9    B11      Mg24      Al27          Si28        P31  \\\n",
       "0  2.811208  0.113329  48.36  5.047481  6.850878  1.005084e+17   3.937301   \n",
       "1  2.525729  0.086178  44.77  3.153590  6.982965  1.005517e+17   4.275415   \n",
       "2  3.046901  0.058269  44.88  3.777348  6.431669  1.007364e+17   4.658427   \n",
       "3  2.498152  0.548121  47.06  5.096324  7.042452  1.006094e+17  10.939673   \n",
       "4  2.929058  0.277632  48.26  3.541539  6.306677  1.005622e+17   3.816393   \n",
       "\n",
       "       S33       K39      Ca42      Sc45      Ti47       V51      Cr52  \\\n",
       "0   538.57  6.124552  6.570028  0.350657  2.808197  0.239017  1.458615   \n",
       "1   438.20  5.963117  6.246572  0.364643  2.968875  0.254642  1.492904   \n",
       "2   372.66  5.899103  6.865776  0.565314  3.039271  0.438255  1.446919   \n",
       "3  1075.89  6.307278  7.684922  0.357674  3.768153  0.512824  5.033179   \n",
       "4   464.78  5.632107  7.347706  0.536493  2.499795  0.239017  1.269761   \n",
       "\n",
       "       Mn55      Fe56      Co59      Ni60      Cu63      Zn68      Ga69  \\\n",
       "0  0.524729  2.247072  0.048790  0.587787  0.963174  2.469793  0.223144   \n",
       "1  0.698135  2.532903  0.104360  0.307485  0.425268  2.295560  0.292670   \n",
       "2  0.792993  4.488524  0.190620  0.985817  0.928219  2.563410  0.223144   \n",
       "3  1.764731  4.985933  0.262364  1.238374  1.795087  2.898671  0.300105   \n",
       "4  1.004302  3.272606  0.048790  0.587787  0.438255  2.379546  0.343590   \n",
       "\n",
       "       Ge72      As75      Rb85      Sr88       Y89      Zr90      Nb93  \\\n",
       "0  0.797507  0.148420  0.357674  2.634762  0.631272  0.920283  0.086178   \n",
       "1  0.615186  0.095310  0.371564  2.654649  0.667829  1.007958  0.067659   \n",
       "2  0.996949  0.122218  0.357674  2.253395  0.625938  0.657520  0.095310   \n",
       "3  1.141033  0.609766  0.565314  2.650421  0.678034  1.098612  0.095310   \n",
       "4  0.879627  0.113329  0.246860  2.388763  0.641854  0.641854  0.076961   \n",
       "\n",
       "       Mo95     Cd111    In115     Sn118     Cs133     Ba137     La139  \\\n",
       "0  0.048790  0.019803  0.00000  0.048790  0.009950  2.020222  0.609766   \n",
       "1  0.009950  0.019803  0.00000  0.039221  0.019803  2.201659  0.652325   \n",
       "2  0.019803  0.019803  0.00000  0.048790  0.009950  1.418277  0.641854   \n",
       "3  0.254642  0.165514  0.00995  0.576613  0.039221  2.276241  0.657520   \n",
       "4  0.039221  0.095310  0.00000  0.086178  0.009950  1.319086  0.678034   \n",
       "\n",
       "      Ce140     Pr141     Nd146     Sm147     Eu153     Gd157     Tb159  \\\n",
       "0  0.667829  0.207014  0.625938  0.148420  0.039221  0.148420  0.019803   \n",
       "1  0.698135  0.207014  0.683097  0.165514  0.039221  0.165514  0.019803   \n",
       "2  0.732368  0.231112  0.609766  0.139762  0.039221  0.173953  0.019803   \n",
       "3  0.667829  0.190620  0.559616  0.122218  0.039221  0.223144  0.019803   \n",
       "4  0.737164  0.239017  0.693147  0.157004  0.039221  0.173953  0.019803   \n",
       "\n",
       "      Dy163     Ho165     Er166    Tm169     Yb172    Lu175     Hf178  \\\n",
       "0  0.104360  0.029559  0.058269  0.00995  0.019803  0.00000  0.039221   \n",
       "1  0.122218  0.029559  0.058269  0.00995  0.039221  0.00995  0.048790   \n",
       "2  0.131028  0.019803  0.067659  0.00995  0.058269  0.00000  0.019803   \n",
       "3  0.086178  0.029559  0.048790  0.00000  0.029559  0.00000  0.076961   \n",
       "4  0.139762  0.029559  0.048790  0.00995  0.048790  0.00995  0.019803   \n",
       "\n",
       "     Ta181     Pb208     Th232      U238  class  \n",
       "0  0.00995  0.215111  0.067659  0.048790      0  \n",
       "1  0.00000  0.067659  0.076961  0.039221      0  \n",
       "2  0.00995  0.378436  0.048790  0.048790      0  \n",
       "3  0.00000  0.494696  0.048790  0.029559      0  \n",
       "4  0.00995  0.463734  0.058269  0.086178      0  "
      ]
     },
     "execution_count": 64,
     "metadata": {},
     "output_type": "execute_result"
    }
   ],
   "source": [
    "data.head()"
   ]
  },
  {
   "cell_type": "markdown",
   "metadata": {},
   "source": [
    "### Recursive feature elimination with cross-validation is done using a random forest as the estimator "
   ]
  },
  {
   "cell_type": "code",
   "execution_count": 65,
   "metadata": {},
   "outputs": [],
   "source": [
    "my_rfc = RandomForestClassifier(n_estimators=500, n_jobs=-1)\n",
    "\n"
   ]
  },
  {
   "cell_type": "code",
   "execution_count": 66,
   "metadata": {},
   "outputs": [],
   "source": [
    "my_rfc_selector = RFECV(estimator=my_rfc, step=1, cv=StratifiedKFold(3), verbose=2, scoring='f1_macro')"
   ]
  },
  {
   "cell_type": "code",
   "execution_count": 67,
   "metadata": {},
   "outputs": [
    {
     "data": {
      "text/plain": [
       "array(['Li7', 'Be9', 'B11', 'Mg24', 'Al27', 'Si28', 'P31', 'S33', 'K39',\n",
       "       'Ca42', 'Sc45', 'Ti47', 'V51', 'Cr52', 'Mn55', 'Fe56', 'Co59',\n",
       "       'Ni60', 'Cu63', 'Zn68', 'Ga69', 'Ge72', 'As75', 'Rb85', 'Sr88',\n",
       "       'Y89', 'Zr90', 'Nb93', 'Mo95', 'Cd111', 'In115', 'Sn118', 'Cs133',\n",
       "       'Ba137', 'La139', 'Ce140', 'Pr141', 'Nd146', 'Sm147', 'Eu153',\n",
       "       'Gd157', 'Tb159', 'Dy163', 'Ho165', 'Er166', 'Tm169', 'Yb172',\n",
       "       'Lu175', 'Hf178', 'Ta181', 'Pb208', 'Th232', 'U238'], dtype=object)"
      ]
     },
     "execution_count": 67,
     "metadata": {},
     "output_type": "execute_result"
    }
   ],
   "source": [
    "data.columns.values[9:-1]"
   ]
  },
  {
   "cell_type": "code",
   "execution_count": 68,
   "metadata": {},
   "outputs": [],
   "source": [
    "data = pd.concat([data, tsne_dims_train, pca_dims_train[['PC1', 'PC2', 'PC3']]], axis = 1)"
   ]
  },
  {
   "cell_type": "code",
   "execution_count": 69,
   "metadata": {},
   "outputs": [],
   "source": [
    "X = data[data.columns.values[9:-1]]\n",
    "y = data['class']"
   ]
  },
  {
   "cell_type": "code",
   "execution_count": 70,
   "metadata": {},
   "outputs": [
    {
     "name": "stdout",
     "output_type": "stream",
     "text": [
      "(1243, 59)\n",
      "(1243,)\n"
     ]
    }
   ],
   "source": [
    "print(X.shape)\n",
    "print(y.shape)"
   ]
  },
  {
   "cell_type": "code",
   "execution_count": null,
   "metadata": {},
   "outputs": [],
   "source": []
  },
  {
   "cell_type": "code",
   "execution_count": 71,
   "metadata": {},
   "outputs": [
    {
     "name": "stdout",
     "output_type": "stream",
     "text": [
      "Fitting estimator with 59 features.\n"
     ]
    },
    {
     "name": "stderr",
     "output_type": "stream",
     "text": [
      "/home/robert/anaconda3/lib/python3.7/site-packages/sklearn/metrics/classification.py:1135: UndefinedMetricWarning: F-score is ill-defined and being set to 0.0 in labels with no predicted samples.\n",
      "  'precision', 'predicted', average, warn_for)\n"
     ]
    },
    {
     "name": "stdout",
     "output_type": "stream",
     "text": [
      "Fitting estimator with 58 features.\n",
      "Fitting estimator with 57 features.\n",
      "Fitting estimator with 56 features.\n"
     ]
    },
    {
     "name": "stderr",
     "output_type": "stream",
     "text": [
      "/home/robert/anaconda3/lib/python3.7/site-packages/sklearn/metrics/classification.py:1135: UndefinedMetricWarning: F-score is ill-defined and being set to 0.0 in labels with no predicted samples.\n",
      "  'precision', 'predicted', average, warn_for)\n"
     ]
    },
    {
     "name": "stdout",
     "output_type": "stream",
     "text": [
      "Fitting estimator with 55 features.\n"
     ]
    },
    {
     "name": "stderr",
     "output_type": "stream",
     "text": [
      "/home/robert/anaconda3/lib/python3.7/site-packages/sklearn/metrics/classification.py:1135: UndefinedMetricWarning: F-score is ill-defined and being set to 0.0 in labels with no predicted samples.\n",
      "  'precision', 'predicted', average, warn_for)\n"
     ]
    },
    {
     "name": "stdout",
     "output_type": "stream",
     "text": [
      "Fitting estimator with 54 features.\n",
      "Fitting estimator with 53 features.\n"
     ]
    },
    {
     "name": "stderr",
     "output_type": "stream",
     "text": [
      "/home/robert/anaconda3/lib/python3.7/site-packages/sklearn/metrics/classification.py:1135: UndefinedMetricWarning: F-score is ill-defined and being set to 0.0 in labels with no predicted samples.\n",
      "  'precision', 'predicted', average, warn_for)\n"
     ]
    },
    {
     "name": "stdout",
     "output_type": "stream",
     "text": [
      "Fitting estimator with 52 features.\n"
     ]
    },
    {
     "name": "stderr",
     "output_type": "stream",
     "text": [
      "/home/robert/anaconda3/lib/python3.7/site-packages/sklearn/metrics/classification.py:1135: UndefinedMetricWarning: F-score is ill-defined and being set to 0.0 in labels with no predicted samples.\n",
      "  'precision', 'predicted', average, warn_for)\n"
     ]
    },
    {
     "name": "stdout",
     "output_type": "stream",
     "text": [
      "Fitting estimator with 51 features.\n"
     ]
    },
    {
     "name": "stderr",
     "output_type": "stream",
     "text": [
      "/home/robert/anaconda3/lib/python3.7/site-packages/sklearn/metrics/classification.py:1135: UndefinedMetricWarning: F-score is ill-defined and being set to 0.0 in labels with no predicted samples.\n",
      "  'precision', 'predicted', average, warn_for)\n"
     ]
    },
    {
     "name": "stdout",
     "output_type": "stream",
     "text": [
      "Fitting estimator with 50 features.\n"
     ]
    },
    {
     "name": "stderr",
     "output_type": "stream",
     "text": [
      "/home/robert/anaconda3/lib/python3.7/site-packages/sklearn/metrics/classification.py:1135: UndefinedMetricWarning: F-score is ill-defined and being set to 0.0 in labels with no predicted samples.\n",
      "  'precision', 'predicted', average, warn_for)\n"
     ]
    },
    {
     "name": "stdout",
     "output_type": "stream",
     "text": [
      "Fitting estimator with 49 features.\n",
      "Fitting estimator with 48 features.\n",
      "Fitting estimator with 47 features.\n",
      "Fitting estimator with 46 features.\n"
     ]
    },
    {
     "ename": "KeyboardInterrupt",
     "evalue": "",
     "output_type": "error",
     "traceback": [
      "\u001b[0;31m---------------------------------------------------------------------------\u001b[0m",
      "\u001b[0;31mKeyboardInterrupt\u001b[0m                         Traceback (most recent call last)",
      "\u001b[0;32m<ipython-input-71-941d583624f1>\u001b[0m in \u001b[0;36m<module>\u001b[0;34m()\u001b[0m\n\u001b[0;32m----> 1\u001b[0;31m \u001b[0mselector\u001b[0m \u001b[0;34m=\u001b[0m \u001b[0mmy_rfc_selector\u001b[0m\u001b[0;34m.\u001b[0m\u001b[0mfit\u001b[0m\u001b[0;34m(\u001b[0m\u001b[0mX\u001b[0m\u001b[0;34m,\u001b[0m \u001b[0my\u001b[0m\u001b[0;34m)\u001b[0m\u001b[0;34m\u001b[0m\u001b[0m\n\u001b[0m",
      "\u001b[0;32m~/anaconda3/lib/python3.7/site-packages/sklearn/feature_selection/rfe.py\u001b[0m in \u001b[0;36mfit\u001b[0;34m(self, X, y)\u001b[0m\n\u001b[1;32m    434\u001b[0m         scores = parallel(\n\u001b[1;32m    435\u001b[0m             \u001b[0mfunc\u001b[0m\u001b[0;34m(\u001b[0m\u001b[0mrfe\u001b[0m\u001b[0;34m,\u001b[0m \u001b[0mself\u001b[0m\u001b[0;34m.\u001b[0m\u001b[0mestimator\u001b[0m\u001b[0;34m,\u001b[0m \u001b[0mX\u001b[0m\u001b[0;34m,\u001b[0m \u001b[0my\u001b[0m\u001b[0;34m,\u001b[0m \u001b[0mtrain\u001b[0m\u001b[0;34m,\u001b[0m \u001b[0mtest\u001b[0m\u001b[0;34m,\u001b[0m \u001b[0mscorer\u001b[0m\u001b[0;34m)\u001b[0m\u001b[0;34m\u001b[0m\u001b[0m\n\u001b[0;32m--> 436\u001b[0;31m             for train, test in cv.split(X, y))\n\u001b[0m\u001b[1;32m    437\u001b[0m \u001b[0;34m\u001b[0m\u001b[0m\n\u001b[1;32m    438\u001b[0m         \u001b[0mscores\u001b[0m \u001b[0;34m=\u001b[0m \u001b[0mnp\u001b[0m\u001b[0;34m.\u001b[0m\u001b[0msum\u001b[0m\u001b[0;34m(\u001b[0m\u001b[0mscores\u001b[0m\u001b[0;34m,\u001b[0m \u001b[0maxis\u001b[0m\u001b[0;34m=\u001b[0m\u001b[0;36m0\u001b[0m\u001b[0;34m)\u001b[0m\u001b[0;34m\u001b[0m\u001b[0m\n",
      "\u001b[0;32m~/anaconda3/lib/python3.7/site-packages/sklearn/feature_selection/rfe.py\u001b[0m in \u001b[0;36m<genexpr>\u001b[0;34m(.0)\u001b[0m\n\u001b[1;32m    434\u001b[0m         scores = parallel(\n\u001b[1;32m    435\u001b[0m             \u001b[0mfunc\u001b[0m\u001b[0;34m(\u001b[0m\u001b[0mrfe\u001b[0m\u001b[0;34m,\u001b[0m \u001b[0mself\u001b[0m\u001b[0;34m.\u001b[0m\u001b[0mestimator\u001b[0m\u001b[0;34m,\u001b[0m \u001b[0mX\u001b[0m\u001b[0;34m,\u001b[0m \u001b[0my\u001b[0m\u001b[0;34m,\u001b[0m \u001b[0mtrain\u001b[0m\u001b[0;34m,\u001b[0m \u001b[0mtest\u001b[0m\u001b[0;34m,\u001b[0m \u001b[0mscorer\u001b[0m\u001b[0;34m)\u001b[0m\u001b[0;34m\u001b[0m\u001b[0m\n\u001b[0;32m--> 436\u001b[0;31m             for train, test in cv.split(X, y))\n\u001b[0m\u001b[1;32m    437\u001b[0m \u001b[0;34m\u001b[0m\u001b[0m\n\u001b[1;32m    438\u001b[0m         \u001b[0mscores\u001b[0m \u001b[0;34m=\u001b[0m \u001b[0mnp\u001b[0m\u001b[0;34m.\u001b[0m\u001b[0msum\u001b[0m\u001b[0;34m(\u001b[0m\u001b[0mscores\u001b[0m\u001b[0;34m,\u001b[0m \u001b[0maxis\u001b[0m\u001b[0;34m=\u001b[0m\u001b[0;36m0\u001b[0m\u001b[0;34m)\u001b[0m\u001b[0;34m\u001b[0m\u001b[0m\n",
      "\u001b[0;32m~/anaconda3/lib/python3.7/site-packages/sklearn/feature_selection/rfe.py\u001b[0m in \u001b[0;36m_rfe_single_fit\u001b[0;34m(rfe, estimator, X, y, train, test, scorer)\u001b[0m\n\u001b[1;32m     29\u001b[0m     \u001b[0mX_test\u001b[0m\u001b[0;34m,\u001b[0m \u001b[0my_test\u001b[0m \u001b[0;34m=\u001b[0m \u001b[0m_safe_split\u001b[0m\u001b[0;34m(\u001b[0m\u001b[0mestimator\u001b[0m\u001b[0;34m,\u001b[0m \u001b[0mX\u001b[0m\u001b[0;34m,\u001b[0m \u001b[0my\u001b[0m\u001b[0;34m,\u001b[0m \u001b[0mtest\u001b[0m\u001b[0;34m,\u001b[0m \u001b[0mtrain\u001b[0m\u001b[0;34m)\u001b[0m\u001b[0;34m\u001b[0m\u001b[0m\n\u001b[1;32m     30\u001b[0m     return rfe._fit(\n\u001b[0;32m---> 31\u001b[0;31m         \u001b[0mX_train\u001b[0m\u001b[0;34m,\u001b[0m \u001b[0my_train\u001b[0m\u001b[0;34m,\u001b[0m \u001b[0;32mlambda\u001b[0m \u001b[0mestimator\u001b[0m\u001b[0;34m,\u001b[0m \u001b[0mfeatures\u001b[0m\u001b[0;34m:\u001b[0m\u001b[0;34m\u001b[0m\u001b[0m\n\u001b[0m\u001b[1;32m     32\u001b[0m         _score(estimator, X_test[:, features], y_test, scorer)).scores_\n\u001b[1;32m     33\u001b[0m \u001b[0;34m\u001b[0m\u001b[0m\n",
      "\u001b[0;32m~/anaconda3/lib/python3.7/site-packages/sklearn/feature_selection/rfe.py\u001b[0m in \u001b[0;36m_fit\u001b[0;34m(self, X, y, step_score)\u001b[0m\n\u001b[1;32m    171\u001b[0m                 \u001b[0mprint\u001b[0m\u001b[0;34m(\u001b[0m\u001b[0;34m\"Fitting estimator with %d features.\"\u001b[0m \u001b[0;34m%\u001b[0m \u001b[0mnp\u001b[0m\u001b[0;34m.\u001b[0m\u001b[0msum\u001b[0m\u001b[0;34m(\u001b[0m\u001b[0msupport_\u001b[0m\u001b[0;34m)\u001b[0m\u001b[0;34m)\u001b[0m\u001b[0;34m\u001b[0m\u001b[0m\n\u001b[1;32m    172\u001b[0m \u001b[0;34m\u001b[0m\u001b[0m\n\u001b[0;32m--> 173\u001b[0;31m             \u001b[0mestimator\u001b[0m\u001b[0;34m.\u001b[0m\u001b[0mfit\u001b[0m\u001b[0;34m(\u001b[0m\u001b[0mX\u001b[0m\u001b[0;34m[\u001b[0m\u001b[0;34m:\u001b[0m\u001b[0;34m,\u001b[0m \u001b[0mfeatures\u001b[0m\u001b[0;34m]\u001b[0m\u001b[0;34m,\u001b[0m \u001b[0my\u001b[0m\u001b[0;34m)\u001b[0m\u001b[0;34m\u001b[0m\u001b[0m\n\u001b[0m\u001b[1;32m    174\u001b[0m \u001b[0;34m\u001b[0m\u001b[0m\n\u001b[1;32m    175\u001b[0m             \u001b[0;31m# Get coefs\u001b[0m\u001b[0;34m\u001b[0m\u001b[0;34m\u001b[0m\u001b[0m\n",
      "\u001b[0;32m~/anaconda3/lib/python3.7/site-packages/sklearn/ensemble/forest.py\u001b[0m in \u001b[0;36mfit\u001b[0;34m(self, X, y, sample_weight)\u001b[0m\n\u001b[1;32m    314\u001b[0m             \u001b[0;32mfor\u001b[0m \u001b[0mi\u001b[0m \u001b[0;32min\u001b[0m \u001b[0mrange\u001b[0m\u001b[0;34m(\u001b[0m\u001b[0mn_more_estimators\u001b[0m\u001b[0;34m)\u001b[0m\u001b[0;34m:\u001b[0m\u001b[0;34m\u001b[0m\u001b[0m\n\u001b[1;32m    315\u001b[0m                 tree = self._make_estimator(append=False,\n\u001b[0;32m--> 316\u001b[0;31m                                             random_state=random_state)\n\u001b[0m\u001b[1;32m    317\u001b[0m                 \u001b[0mtrees\u001b[0m\u001b[0;34m.\u001b[0m\u001b[0mappend\u001b[0m\u001b[0;34m(\u001b[0m\u001b[0mtree\u001b[0m\u001b[0;34m)\u001b[0m\u001b[0;34m\u001b[0m\u001b[0m\n\u001b[1;32m    318\u001b[0m \u001b[0;34m\u001b[0m\u001b[0m\n",
      "\u001b[0;32m~/anaconda3/lib/python3.7/site-packages/sklearn/ensemble/base.py\u001b[0m in \u001b[0;36m_make_estimator\u001b[0;34m(self, append, random_state)\u001b[0m\n\u001b[1;32m    123\u001b[0m         \u001b[0msub\u001b[0m\u001b[0;34m-\u001b[0m\u001b[0mestimators\u001b[0m\u001b[0;34m.\u001b[0m\u001b[0;34m\u001b[0m\u001b[0m\n\u001b[1;32m    124\u001b[0m         \"\"\"\n\u001b[0;32m--> 125\u001b[0;31m         \u001b[0mestimator\u001b[0m \u001b[0;34m=\u001b[0m \u001b[0mclone\u001b[0m\u001b[0;34m(\u001b[0m\u001b[0mself\u001b[0m\u001b[0;34m.\u001b[0m\u001b[0mbase_estimator_\u001b[0m\u001b[0;34m)\u001b[0m\u001b[0;34m\u001b[0m\u001b[0m\n\u001b[0m\u001b[1;32m    126\u001b[0m         estimator.set_params(**dict((p, getattr(self, p))\n\u001b[1;32m    127\u001b[0m                                     for p in self.estimator_params))\n",
      "\u001b[0;32m~/anaconda3/lib/python3.7/site-packages/sklearn/base.py\u001b[0m in \u001b[0;36mclone\u001b[0;34m(estimator, safe)\u001b[0m\n\u001b[1;32m     60\u001b[0m     \u001b[0mnew_object_params\u001b[0m \u001b[0;34m=\u001b[0m \u001b[0mestimator\u001b[0m\u001b[0;34m.\u001b[0m\u001b[0mget_params\u001b[0m\u001b[0;34m(\u001b[0m\u001b[0mdeep\u001b[0m\u001b[0;34m=\u001b[0m\u001b[0;32mFalse\u001b[0m\u001b[0;34m)\u001b[0m\u001b[0;34m\u001b[0m\u001b[0m\n\u001b[1;32m     61\u001b[0m     \u001b[0;32mfor\u001b[0m \u001b[0mname\u001b[0m\u001b[0;34m,\u001b[0m \u001b[0mparam\u001b[0m \u001b[0;32min\u001b[0m \u001b[0msix\u001b[0m\u001b[0;34m.\u001b[0m\u001b[0miteritems\u001b[0m\u001b[0;34m(\u001b[0m\u001b[0mnew_object_params\u001b[0m\u001b[0;34m)\u001b[0m\u001b[0;34m:\u001b[0m\u001b[0;34m\u001b[0m\u001b[0m\n\u001b[0;32m---> 62\u001b[0;31m         \u001b[0mnew_object_params\u001b[0m\u001b[0;34m[\u001b[0m\u001b[0mname\u001b[0m\u001b[0;34m]\u001b[0m \u001b[0;34m=\u001b[0m \u001b[0mclone\u001b[0m\u001b[0;34m(\u001b[0m\u001b[0mparam\u001b[0m\u001b[0;34m,\u001b[0m \u001b[0msafe\u001b[0m\u001b[0;34m=\u001b[0m\u001b[0;32mFalse\u001b[0m\u001b[0;34m)\u001b[0m\u001b[0;34m\u001b[0m\u001b[0m\n\u001b[0m\u001b[1;32m     63\u001b[0m     \u001b[0mnew_object\u001b[0m \u001b[0;34m=\u001b[0m \u001b[0mklass\u001b[0m\u001b[0;34m(\u001b[0m\u001b[0;34m**\u001b[0m\u001b[0mnew_object_params\u001b[0m\u001b[0;34m)\u001b[0m\u001b[0;34m\u001b[0m\u001b[0m\n\u001b[1;32m     64\u001b[0m     \u001b[0mparams_set\u001b[0m \u001b[0;34m=\u001b[0m \u001b[0mnew_object\u001b[0m\u001b[0;34m.\u001b[0m\u001b[0mget_params\u001b[0m\u001b[0;34m(\u001b[0m\u001b[0mdeep\u001b[0m\u001b[0;34m=\u001b[0m\u001b[0;32mFalse\u001b[0m\u001b[0;34m)\u001b[0m\u001b[0;34m\u001b[0m\u001b[0m\n",
      "\u001b[0;32m~/anaconda3/lib/python3.7/site-packages/sklearn/base.py\u001b[0m in \u001b[0;36mclone\u001b[0;34m(estimator, safe)\u001b[0m\n\u001b[1;32m     51\u001b[0m     \u001b[0;32melif\u001b[0m \u001b[0;32mnot\u001b[0m \u001b[0mhasattr\u001b[0m\u001b[0;34m(\u001b[0m\u001b[0mestimator\u001b[0m\u001b[0;34m,\u001b[0m \u001b[0;34m'get_params'\u001b[0m\u001b[0;34m)\u001b[0m\u001b[0;34m:\u001b[0m\u001b[0;34m\u001b[0m\u001b[0m\n\u001b[1;32m     52\u001b[0m         \u001b[0;32mif\u001b[0m \u001b[0;32mnot\u001b[0m \u001b[0msafe\u001b[0m\u001b[0;34m:\u001b[0m\u001b[0;34m\u001b[0m\u001b[0m\n\u001b[0;32m---> 53\u001b[0;31m             \u001b[0;32mreturn\u001b[0m \u001b[0mcopy\u001b[0m\u001b[0;34m.\u001b[0m\u001b[0mdeepcopy\u001b[0m\u001b[0;34m(\u001b[0m\u001b[0mestimator\u001b[0m\u001b[0;34m)\u001b[0m\u001b[0;34m\u001b[0m\u001b[0m\n\u001b[0m\u001b[1;32m     54\u001b[0m         \u001b[0;32melse\u001b[0m\u001b[0;34m:\u001b[0m\u001b[0;34m\u001b[0m\u001b[0m\n\u001b[1;32m     55\u001b[0m             raise TypeError(\"Cannot clone object '%s' (type %s): \"\n",
      "\u001b[0;32m~/anaconda3/lib/python3.7/copy.py\u001b[0m in \u001b[0;36mdeepcopy\u001b[0;34m(x, memo, _nil)\u001b[0m\n\u001b[1;32m    139\u001b[0m         \u001b[0mmemo\u001b[0m \u001b[0;34m=\u001b[0m \u001b[0;34m{\u001b[0m\u001b[0;34m}\u001b[0m\u001b[0;34m\u001b[0m\u001b[0m\n\u001b[1;32m    140\u001b[0m \u001b[0;34m\u001b[0m\u001b[0m\n\u001b[0;32m--> 141\u001b[0;31m     \u001b[0md\u001b[0m \u001b[0;34m=\u001b[0m \u001b[0mid\u001b[0m\u001b[0;34m(\u001b[0m\u001b[0mx\u001b[0m\u001b[0;34m)\u001b[0m\u001b[0;34m\u001b[0m\u001b[0m\n\u001b[0m\u001b[1;32m    142\u001b[0m     \u001b[0my\u001b[0m \u001b[0;34m=\u001b[0m \u001b[0mmemo\u001b[0m\u001b[0;34m.\u001b[0m\u001b[0mget\u001b[0m\u001b[0;34m(\u001b[0m\u001b[0md\u001b[0m\u001b[0;34m,\u001b[0m \u001b[0m_nil\u001b[0m\u001b[0;34m)\u001b[0m\u001b[0;34m\u001b[0m\u001b[0m\n\u001b[1;32m    143\u001b[0m     \u001b[0;32mif\u001b[0m \u001b[0my\u001b[0m \u001b[0;32mis\u001b[0m \u001b[0;32mnot\u001b[0m \u001b[0m_nil\u001b[0m\u001b[0;34m:\u001b[0m\u001b[0;34m\u001b[0m\u001b[0m\n",
      "\u001b[0;31mKeyboardInterrupt\u001b[0m: "
     ]
    }
   ],
   "source": [
    "selector = my_rfc_selector.fit(X, y)"
   ]
  },
  {
   "cell_type": "markdown",
   "metadata": {},
   "source": [
    "### The number of features with the best macro f1 score\n"
   ]
  },
  {
   "cell_type": "code",
   "execution_count": null,
   "metadata": {},
   "outputs": [],
   "source": [
    "my_RFECV_selector.ranking_\n",
    "feat_ranks = pd.DataFrame(data = {'features': data.columns.values[9:-1], 'rfe ranking': my_RFECV_selector.ranking_} )\n"
   ]
  },
  {
   "cell_type": "code",
   "execution_count": null,
   "metadata": {},
   "outputs": [],
   "source": [
    "feat_ranks"
   ]
  },
  {
   "cell_type": "code",
   "execution_count": null,
   "metadata": {},
   "outputs": [],
   "source": [
    "my_RFECV_selector.n_features_"
   ]
  },
  {
   "cell_type": "markdown",
   "metadata": {},
   "source": [
    "### macro-f1 score is plotted against number of features"
   ]
  },
  {
   "cell_type": "code",
   "execution_count": null,
   "metadata": {},
   "outputs": [],
   "source": [
    "RFCV_df = pd.DataFrame(data = {'no_features' : range(1, len(my_RFECV_selector.grid_scores_) + 1), 'scores': my_RFECV_selector.grid_scores_})"
   ]
  },
  {
   "cell_type": "code",
   "execution_count": null,
   "metadata": {},
   "outputs": [],
   "source": []
  },
  {
   "cell_type": "code",
   "execution_count": null,
   "metadata": {},
   "outputs": [],
   "source": [
    "sns.set(rc={'figure.figsize':(11.7,8.27)})\n",
    "sns.lineplot(data = RFCV_df, x = 'no_features', y = 'scores')"
   ]
  },
  {
   "cell_type": "markdown",
   "metadata": {},
   "source": [
    "### The best features are defined"
   ]
  },
  {
   "cell_type": "code",
   "execution_count": null,
   "metadata": {},
   "outputs": [],
   "source": [
    "best_feats = my_RFECV_selector.get_support()"
   ]
  },
  {
   "cell_type": "code",
   "execution_count": null,
   "metadata": {},
   "outputs": [],
   "source": []
  },
  {
   "cell_type": "code",
   "execution_count": null,
   "metadata": {},
   "outputs": [],
   "source": [
    "best_feats = data.columns.values[9:-1][best_feats]\n",
    "best_feats"
   ]
  },
  {
   "cell_type": "code",
   "execution_count": null,
   "metadata": {},
   "outputs": [],
   "source": [
    "%store best_feats"
   ]
  },
  {
   "cell_type": "code",
   "execution_count": null,
   "metadata": {},
   "outputs": [],
   "source": []
  }
 ],
 "metadata": {
  "kernelspec": {
   "display_name": "Python 3",
   "language": "python",
   "name": "python3"
  },
  "language_info": {
   "codemirror_mode": {
    "name": "ipython",
    "version": 3
   },
   "file_extension": ".py",
   "mimetype": "text/x-python",
   "name": "python",
   "nbconvert_exporter": "python",
   "pygments_lexer": "ipython3",
   "version": "3.7.0"
  }
 },
 "nbformat": 4,
 "nbformat_minor": 2
}
