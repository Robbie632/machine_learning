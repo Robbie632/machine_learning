{
 "cells": [
  {
   "cell_type": "markdown",
   "metadata": {},
   "source": [
    "### RFC"
   ]
  },
  {
   "cell_type": "markdown",
   "metadata": {},
   "source": [
    "### import modules and configure notebook"
   ]
  },
  {
   "cell_type": "code",
   "execution_count": 11,
   "metadata": {},
   "outputs": [],
   "source": [
    "import pandas as pd\n",
    "import numpy as np\n",
    "import swifter\n",
    "import seaborn as sns\n",
    "import matplotlib.pyplot\n",
    "import pickle\n",
    "\n",
    "pd.set_option('max.rows', None)\n",
    "pd.set_option('max.columns', None)\n",
    "\n",
    "from sklearn.svm import SVC\n",
    "from sklearn.model_selection import StratifiedKFold, GridSearchCV, RandomizedSearchCV\n",
    "from sklearn.metrics import accuracy_score, f1_score\n",
    "from sklearn.preprocessing import StandardScaler\n",
    "\n",
    "%matplotlib inline"
   ]
  },
  {
   "cell_type": "markdown",
   "metadata": {},
   "source": [
    "### Load variables stored by data_preproccessing notebook"
   ]
  },
  {
   "cell_type": "code",
   "execution_count": 2,
   "metadata": {},
   "outputs": [],
   "source": [
    "%store -r train_data_formodel\n",
    "%store -r test_data\n",
    "%store -r my_data\n",
    "%store -r uniques\n",
    "%store -r best_feats\n"
   ]
  },
  {
   "cell_type": "markdown",
   "metadata": {},
   "source": [
    "### configurations\n",
    "* save_plots -> True|False\n",
    "* random_seed_state -> number, sets random state for model and for stratified splits \n",
    "* classify_bedrock_only -> True|False\n",
    "* pickle_model -> True|False, wether model should be serialised and saved\n",
    "* pickle_model_name -> string, name of serialised model\n",
    "* grid_search -> True|False, if set to true then grid search is performed to identify optimum hyperparamaters for model \n",
    "* scale -> True|False if set to True then features scaled to all have mean value 0 and standard deviation 1\n",
    "* pickle_file_path -> string,  filepath for serialised model to be saved to"
   ]
  },
  {
   "cell_type": "code",
   "execution_count": 3,
   "metadata": {},
   "outputs": [],
   "source": [
    "save_plots = False\n",
    "random_seed_state = 42\n",
    "classify_bedrock_only = False\n",
    "pickle_model = False\n",
    "pickle_model_name = 'grouped'\n",
    "pickle_file_path = '../../../model'\n",
    "grid_search = True\n",
    "scale = True"
   ]
  },
  {
   "cell_type": "markdown",
   "metadata": {},
   "source": [
    "### if only bedrock sites are classified then classes are label encoded, if bedrock sites alone are not being classified then the class sites would have already been label encoded in the 1 data_preproccessing notebook "
   ]
  },
  {
   "cell_type": "code",
   "execution_count": 4,
   "metadata": {},
   "outputs": [],
   "source": [
    "if classify_bedrock_only:\n",
    "    train_data_formodel['class'], uniques = pd.factorize(train_data_formodel['class'])\n",
    "    train_data_formodel = train_data_formodel[train_data_formodel['Geology']=='Bedrock']"
   ]
  },
  {
   "cell_type": "markdown",
   "metadata": {},
   "source": [
    "### The class column is stored as the variable y "
   ]
  },
  {
   "cell_type": "code",
   "execution_count": 5,
   "metadata": {},
   "outputs": [],
   "source": [
    "y = np.array(train_data_formodel['class'])"
   ]
  },
  {
   "cell_type": "markdown",
   "metadata": {},
   "source": [
    "### The variables identified as best by the 2 feature_selection notebook are used as features"
   ]
  },
  {
   "cell_type": "code",
   "execution_count": 6,
   "metadata": {},
   "outputs": [],
   "source": [
    "train_data_feats = train_data_formodel[best_feats]"
   ]
  },
  {
   "cell_type": "code",
   "execution_count": 7,
   "metadata": {},
   "outputs": [],
   "source": [
    "if scale:\n",
    "    my_scaler = StandardScaler()\n",
    "    X = np.array(my_scaler.fit_transform(train_data_feats))\n",
    "else:\n",
    "    X = np.array(train_data_feats)"
   ]
  },
  {
   "cell_type": "markdown",
   "metadata": {},
   "source": [
    "### the dimensions of the class and features are checked"
   ]
  },
  {
   "cell_type": "code",
   "execution_count": 8,
   "metadata": {},
   "outputs": [
    {
     "name": "stdout",
     "output_type": "stream",
     "text": [
      "(1158, 31)\n",
      "(1158,)\n"
     ]
    }
   ],
   "source": [
    "print(X.shape)\n",
    "print(y.shape)"
   ]
  },
  {
   "cell_type": "markdown",
   "metadata": {},
   "source": [
    "### Gri dsearch is done to identify best hyperparamaters for the model"
   ]
  },
  {
   "cell_type": "code",
   "execution_count": 12,
   "metadata": {},
   "outputs": [
    {
     "name": "stdout",
     "output_type": "stream",
     "text": [
      "Fitting 3 folds for each of 56 candidates, totalling 168 fits\n",
      "[CV] C=0.01, class_weight=balanced, gamma=0.001 ......................\n",
      "[CV] C=0.01, class_weight=balanced, gamma=0.001 ......................\n",
      "[CV] C=0.01, class_weight=balanced, gamma=0.001 ......................\n",
      "[CV] C=0.01, class_weight=balanced, gamma=0.01 .......................\n",
      "[CV] ....... C=0.01, class_weight=balanced, gamma=0.001, total=   0.1s\n",
      "[CV] C=0.01, class_weight=balanced, gamma=0.01 .......................\n",
      "[CV] ....... C=0.01, class_weight=balanced, gamma=0.001, total=   0.1s\n",
      "[CV] C=0.01, class_weight=balanced, gamma=0.01 .......................\n",
      "[CV] ........ C=0.01, class_weight=balanced, gamma=0.01, total=   0.1s\n",
      "[CV] C=0.01, class_weight=balanced, gamma=0.1 ........................\n",
      "[CV] ....... C=0.01, class_weight=balanced, gamma=0.001, total=   0.1s\n",
      "[CV] C=0.01, class_weight=balanced, gamma=0.1 ........................\n",
      "[CV] ........ C=0.01, class_weight=balanced, gamma=0.01, total=   0.1s\n",
      "[CV] C=0.01, class_weight=balanced, gamma=0.1 ........................\n",
      "[CV] ........ C=0.01, class_weight=balanced, gamma=0.01, total=   0.1s\n",
      "[CV] C=0.01, class_weight=balanced, gamma=1 ..........................\n",
      "[CV] ......... C=0.01, class_weight=balanced, gamma=0.1, total=   0.1s\n",
      "[CV] C=0.01, class_weight=None, gamma=0.001 ..........................\n",
      "[CV] ......... C=0.01, class_weight=balanced, gamma=0.1, total=   0.1s\n",
      "[CV] C=0.01, class_weight=None, gamma=0.001 ..........................\n",
      "[CV] ......... C=0.01, class_weight=balanced, gamma=0.1, total=   0.1s\n",
      "[CV] ........... C=0.01, class_weight=None, gamma=0.001, total=   0.1s\n",
      "[CV] C=0.01, class_weight=balanced, gamma=1 ..........................\n",
      "[CV] ........... C=0.01, class_weight=balanced, gamma=1, total=   0.1s\n",
      "[CV] C=0.01, class_weight=balanced, gamma=1 ..........................\n",
      "[CV] C=0.01, class_weight=None, gamma=0.001 ..........................\n",
      "[CV] ........... C=0.01, class_weight=None, gamma=0.001, total=   0.1s\n",
      "[CV] C=0.01, class_weight=None, gamma=0.01 ...........................\n",
      "[CV] ........... C=0.01, class_weight=None, gamma=0.001, total=   0.1s\n",
      "[CV] ........... C=0.01, class_weight=balanced, gamma=1, total=   0.1s\n",
      "[CV] C=0.01, class_weight=None, gamma=0.01 ...........................\n",
      "[CV] ............ C=0.01, class_weight=None, gamma=0.01, total=   0.1s\n",
      "[CV] ........... C=0.01, class_weight=balanced, gamma=1, total=   0.1s\n",
      "[CV] C=0.01, class_weight=None, gamma=0.1 ............................\n",
      "[CV] C=0.01, class_weight=None, gamma=0.1 ............................\n",
      "[CV] C=0.01, class_weight=None, gamma=1 ..............................\n",
      "[CV] ............ C=0.01, class_weight=None, gamma=0.01, total=   0.1s\n",
      "[CV] C=0.01, class_weight=None, gamma=0.01 ...........................\n",
      "[CV] ............. C=0.01, class_weight=None, gamma=0.1, total=   0.1s\n",
      "[CV] ............... C=0.01, class_weight=None, gamma=1, total=   0.1s\n",
      "[CV] ............. C=0.01, class_weight=None, gamma=0.1, total=   0.1s\n",
      "[CV] C=0.01, class_weight=None, gamma=0.1 ............................\n",
      "[CV] C=0.01, class_weight=None, gamma=1 ..............................\n",
      "[CV] C=0.01, class_weight=None, gamma=1 ..............................\n",
      "[CV] ............ C=0.01, class_weight=None, gamma=0.01, total=   0.1s\n",
      "[CV] ............. C=0.01, class_weight=None, gamma=0.1, total=   0.1s\n",
      "[CV] ............... C=0.01, class_weight=None, gamma=1, total=   0.1s\n",
      "[CV] C=0.1, class_weight=balanced, gamma=0.001 .......................\n",
      "[CV] C=0.1, class_weight=balanced, gamma=0.01 ........................\n",
      "[CV] C=0.1, class_weight=balanced, gamma=0.001 .......................\n",
      "[CV] ............... C=0.01, class_weight=None, gamma=1, total=   0.1s\n",
      "[CV] C=0.1, class_weight=balanced, gamma=0.1 .........................\n",
      "[CV] ........ C=0.1, class_weight=balanced, gamma=0.001, total=   0.1s\n",
      "[CV] C=0.1, class_weight=balanced, gamma=0.001 .......................\n",
      "[CV] ........ C=0.1, class_weight=balanced, gamma=0.001, total=   0.1s\n",
      "[CV] C=0.1, class_weight=balanced, gamma=0.01 ........................\n",
      "[CV] .......... C=0.1, class_weight=balanced, gamma=0.1, total=   0.1s\n",
      "[CV] C=0.1, class_weight=balanced, gamma=0.1 .........................\n",
      "[CV] ......... C=0.1, class_weight=balanced, gamma=0.01, total=   0.1s\n",
      "[CV] C=0.1, class_weight=balanced, gamma=0.01 ........................\n",
      "[CV] ........ C=0.1, class_weight=balanced, gamma=0.001, total=   0.1s\n",
      "[CV] C=0.1, class_weight=balanced, gamma=0.1 .........................\n",
      "[CV] ......... C=0.1, class_weight=balanced, gamma=0.01, total=   0.0s\n",
      "[CV] C=0.1, class_weight=balanced, gamma=1 ...........................\n",
      "[CV] .......... C=0.1, class_weight=balanced, gamma=0.1, total=   0.1s\n",
      "[CV] ......... C=0.1, class_weight=balanced, gamma=0.01, total=   0.1s\n",
      "[CV] C=0.1, class_weight=None, gamma=0.001 ...........................\n",
      "[CV] C=0.1, class_weight=None, gamma=0.001 ...........................\n",
      "[CV] .......... C=0.1, class_weight=balanced, gamma=0.1, total=   0.1s\n",
      "[CV] ............ C=0.1, class_weight=balanced, gamma=1, total=   0.1s\n",
      "[CV] C=0.1, class_weight=balanced, gamma=1 ...........................\n",
      "[CV] C=0.1, class_weight=balanced, gamma=1 ...........................\n",
      "[CV] ............ C=0.1, class_weight=None, gamma=0.001, total=   0.0s\n",
      "[CV] C=0.1, class_weight=None, gamma=0.001 ...........................\n",
      "[CV] ............ C=0.1, class_weight=None, gamma=0.001, total=   0.0s\n",
      "[CV] C=0.1, class_weight=None, gamma=0.01 ............................\n",
      "[CV] ............ C=0.1, class_weight=balanced, gamma=1, total=   0.1s\n",
      "[CV] C=0.1, class_weight=None, gamma=0.01 ............................\n",
      "[CV] ............ C=0.1, class_weight=balanced, gamma=1, total=   0.1s\n",
      "[CV] C=0.1, class_weight=None, gamma=0.1 .............................\n",
      "[CV] ............ C=0.1, class_weight=None, gamma=0.001, total=   0.1s\n",
      "[CV] C=0.1, class_weight=None, gamma=0.1 .............................\n",
      "[CV] ............. C=0.1, class_weight=None, gamma=0.01, total=   0.1s\n",
      "[CV] C=0.1, class_weight=None, gamma=1 ...............................\n",
      "[CV] ............. C=0.1, class_weight=None, gamma=0.01, total=   0.0s\n",
      "[CV] C=0.1, class_weight=None, gamma=0.01 ............................\n",
      "[CV] .............. C=0.1, class_weight=None, gamma=0.1, total=   0.1s\n",
      "[CV] C=0.1, class_weight=None, gamma=0.1 .............................\n",
      "[CV] .............. C=0.1, class_weight=None, gamma=0.1, total=   0.1s\n",
      "[CV] C=0.1, class_weight=None, gamma=1 ...............................\n",
      "[CV] ................ C=0.1, class_weight=None, gamma=1, total=   0.0s\n",
      "[CV] C=0.1, class_weight=None, gamma=1 ...............................\n",
      "[CV] ............. C=0.1, class_weight=None, gamma=0.01, total=   0.1s\n",
      "[CV] C=1, class_weight=balanced, gamma=0.001 .........................\n",
      "[CV] .............. C=0.1, class_weight=None, gamma=0.1, total=   0.1s\n",
      "[CV] C=1, class_weight=balanced, gamma=0.001 .........................\n",
      "[CV] ................ C=0.1, class_weight=None, gamma=1, total=   0.1s\n",
      "[CV] C=1, class_weight=balanced, gamma=0.01 ..........................\n",
      "[CV] ................ C=0.1, class_weight=None, gamma=1, total=   0.1s\n",
      "[CV] C=1, class_weight=balanced, gamma=0.1 ...........................\n",
      "[CV] .......... C=1, class_weight=balanced, gamma=0.001, total=   0.1s\n",
      "[CV] C=1, class_weight=balanced, gamma=0.001 .........................\n",
      "[CV] .......... C=1, class_weight=balanced, gamma=0.001, total=   0.1s\n",
      "[CV] C=1, class_weight=balanced, gamma=0.01 ..........................\n",
      "[CV] ........... C=1, class_weight=balanced, gamma=0.01, total=   0.1s\n",
      "[CV] C=1, class_weight=balanced, gamma=0.01 ..........................\n",
      "[CV] ............ C=1, class_weight=balanced, gamma=0.1, total=   0.1s\n",
      "[CV] C=1, class_weight=balanced, gamma=0.1 ...........................\n",
      "[CV] .......... C=1, class_weight=balanced, gamma=0.001, total=   0.1s\n",
      "[CV] C=1, class_weight=balanced, gamma=0.1 ...........................\n",
      "[CV] ........... C=1, class_weight=balanced, gamma=0.01, total=   0.1s\n",
      "[CV] C=1, class_weight=balanced, gamma=1 .............................\n",
      "[CV] ........... C=1, class_weight=balanced, gamma=0.01, total=   0.1s\n",
      "[CV] C=1, class_weight=None, gamma=0.001 .............................\n",
      "[CV] ............ C=1, class_weight=balanced, gamma=0.1, total=   0.1s\n",
      "[CV] C=1, class_weight=None, gamma=0.001 .............................\n",
      "[CV] ............ C=1, class_weight=balanced, gamma=0.1, total=   0.1s\n",
      "[CV] C=1, class_weight=balanced, gamma=1 .............................\n",
      "[CV] .............. C=1, class_weight=balanced, gamma=1, total=   0.1s\n",
      "[CV] C=1, class_weight=balanced, gamma=1 .............................\n",
      "[CV] .............. C=1, class_weight=None, gamma=0.001, total=   0.1s\n",
      "[CV] C=1, class_weight=None, gamma=0.001 .............................\n",
      "[CV] .............. C=1, class_weight=None, gamma=0.001, total=   0.1s\n",
      "[CV] C=1, class_weight=None, gamma=0.01 ..............................\n",
      "[CV] .............. C=1, class_weight=balanced, gamma=1, total=   0.1s\n",
      "[CV] C=1, class_weight=None, gamma=0.01 ..............................\n",
      "[CV] .............. C=1, class_weight=balanced, gamma=1, total=   0.1s\n",
      "[CV] C=1, class_weight=None, gamma=0.1 ...............................\n",
      "[CV] .............. C=1, class_weight=None, gamma=0.001, total=   0.1s\n",
      "[CV] C=1, class_weight=None, gamma=0.1 ...............................\n",
      "[CV] ............... C=1, class_weight=None, gamma=0.01, total=   0.1s\n",
      "[CV] C=1, class_weight=None, gamma=1 .................................\n",
      "[CV] ............... C=1, class_weight=None, gamma=0.01, total=   0.1s\n",
      "[CV] C=1, class_weight=None, gamma=0.01 ..............................\n",
      "[CV] ................ C=1, class_weight=None, gamma=0.1, total=   0.1s\n",
      "[CV] C=1, class_weight=None, gamma=0.1 ...............................\n",
      "[CV] ................ C=1, class_weight=None, gamma=0.1, total=   0.1s\n",
      "[CV] C=1, class_weight=None, gamma=1 .................................\n",
      "[CV] .................. C=1, class_weight=None, gamma=1, total=   0.1s\n",
      "[CV] C=1, class_weight=None, gamma=1 .................................\n",
      "[CV] ............... C=1, class_weight=None, gamma=0.01, total=   0.1s\n",
      "[CV] C=10, class_weight=balanced, gamma=0.001 ........................\n",
      "[CV] ................ C=1, class_weight=None, gamma=0.1, total=   0.1s\n",
      "[CV] C=10, class_weight=balanced, gamma=0.001 ........................\n"
     ]
    },
    {
     "name": "stderr",
     "output_type": "stream",
     "text": [
      "[Parallel(n_jobs=-1)]: Done  58 tasks      | elapsed:    1.6s\n"
     ]
    },
    {
     "name": "stdout",
     "output_type": "stream",
     "text": [
      "[CV] .................. C=1, class_weight=None, gamma=1, total=   0.1s\n",
      "[CV] C=10, class_weight=balanced, gamma=0.01 .........................\n",
      "[CV] .................. C=1, class_weight=None, gamma=1, total=   0.1s\n",
      "[CV] C=10, class_weight=balanced, gamma=0.1 ..........................\n",
      "[CV] ......... C=10, class_weight=balanced, gamma=0.001, total=   0.1s\n",
      "[CV] C=10, class_weight=balanced, gamma=0.01 .........................\n",
      "[CV] ......... C=10, class_weight=balanced, gamma=0.001, total=   0.1s\n",
      "[CV] C=10, class_weight=balanced, gamma=0.001 ........................\n",
      "[CV] .......... C=10, class_weight=balanced, gamma=0.01, total=   0.1s\n",
      "[CV] C=10, class_weight=balanced, gamma=0.01 .........................\n",
      "[CV] ........... C=10, class_weight=balanced, gamma=0.1, total=   0.1s\n",
      "[CV] C=10, class_weight=balanced, gamma=0.1 ..........................\n",
      "[CV] .......... C=10, class_weight=balanced, gamma=0.01, total=   0.1s\n",
      "[CV] C=10, class_weight=balanced, gamma=0.1 ..........................\n",
      "[CV] ......... C=10, class_weight=balanced, gamma=0.001, total=   0.1s\n",
      "[CV] C=10, class_weight=balanced, gamma=1 ............................\n",
      "[CV] .......... C=10, class_weight=balanced, gamma=0.01, total=   0.1s\n",
      "[CV] C=10, class_weight=None, gamma=0.001 ............................\n",
      "[CV] ........... C=10, class_weight=balanced, gamma=0.1, total=   0.1s\n",
      "[CV] C=10, class_weight=None, gamma=0.001 ............................\n",
      "[CV] ........... C=10, class_weight=balanced, gamma=0.1, total=   0.1s\n",
      "[CV] C=10, class_weight=balanced, gamma=1 ............................\n",
      "[CV] ............. C=10, class_weight=balanced, gamma=1, total=   0.1s\n",
      "[CV] C=10, class_weight=balanced, gamma=1 ............................\n",
      "[CV] ............. C=10, class_weight=None, gamma=0.001, total=   0.1s\n",
      "[CV] C=10, class_weight=None, gamma=0.001 ............................\n",
      "[CV] ............. C=10, class_weight=None, gamma=0.001, total=   0.1s\n",
      "[CV] C=10, class_weight=None, gamma=0.01 .............................\n",
      "[CV] ............. C=10, class_weight=balanced, gamma=1, total=   0.1s\n",
      "[CV] C=10, class_weight=None, gamma=0.01 .............................\n",
      "[CV] ............. C=10, class_weight=balanced, gamma=1, total=   0.1s\n",
      "[CV] C=10, class_weight=None, gamma=0.1 ..............................\n",
      "[CV] .............. C=10, class_weight=None, gamma=0.01, total=   0.1s\n",
      "[CV] C=10, class_weight=None, gamma=0.1 ..............................\n",
      "[CV] ............. C=10, class_weight=None, gamma=0.001, total=   0.1s\n",
      "[CV] C=10, class_weight=None, gamma=1 ................................\n",
      "[CV] ............... C=10, class_weight=None, gamma=0.1, total=   0.1s\n",
      "[CV] C=10, class_weight=None, gamma=0.1 ..............................\n",
      "[CV] .............. C=10, class_weight=None, gamma=0.01, total=   0.1s\n",
      "[CV] C=10, class_weight=None, gamma=0.01 .............................\n",
      "[CV] ............... C=10, class_weight=None, gamma=0.1, total=   0.1s\n",
      "[CV] C=10, class_weight=None, gamma=1 ................................\n",
      "[CV] ................. C=10, class_weight=None, gamma=1, total=   0.1s\n",
      "[CV] C=10, class_weight=None, gamma=1 ................................\n",
      "[CV] .............. C=10, class_weight=None, gamma=0.01, total=   0.1s\n",
      "[CV] C=100, class_weight=balanced, gamma=0.001 .......................\n",
      "[CV] ................. C=10, class_weight=None, gamma=1, total=   0.1s\n",
      "[CV] C=100, class_weight=balanced, gamma=0.001 .......................\n",
      "[CV] ............... C=10, class_weight=None, gamma=0.1, total=   0.1s\n",
      "[CV] C=100, class_weight=balanced, gamma=0.01 ........................\n",
      "[CV] ................. C=10, class_weight=None, gamma=1, total=   0.1s\n",
      "[CV] C=100, class_weight=balanced, gamma=0.1 .........................\n",
      "[CV] ........ C=100, class_weight=balanced, gamma=0.001, total=   0.1s\n",
      "[CV] C=100, class_weight=balanced, gamma=0.01 ........................\n",
      "[CV] ........ C=100, class_weight=balanced, gamma=0.001, total=   0.2s\n",
      "[CV] C=100, class_weight=balanced, gamma=0.001 .......................\n",
      "[CV] ......... C=100, class_weight=balanced, gamma=0.01, total=   0.2s\n",
      "[CV] C=100, class_weight=balanced, gamma=0.01 ........................\n",
      "[CV] .......... C=100, class_weight=balanced, gamma=0.1, total=   0.2s\n",
      "[CV] C=100, class_weight=balanced, gamma=0.1 .........................\n",
      "[CV] ......... C=100, class_weight=balanced, gamma=0.01, total=   0.1s\n",
      "[CV] C=100, class_weight=balanced, gamma=0.1 .........................\n",
      "[CV] ......... C=100, class_weight=balanced, gamma=0.01, total=   0.2s\n",
      "[CV] C=100, class_weight=balanced, gamma=1 ...........................\n",
      "[CV] ........ C=100, class_weight=balanced, gamma=0.001, total=   0.2s\n",
      "[CV] C=100, class_weight=None, gamma=0.001 ...........................\n",
      "[CV] .......... C=100, class_weight=balanced, gamma=0.1, total=   0.1s\n",
      "[CV] C=100, class_weight=balanced, gamma=1 ...........................\n",
      "[CV] .......... C=100, class_weight=balanced, gamma=0.1, total=   0.2s\n",
      "[CV] C=100, class_weight=None, gamma=0.001 ...........................\n",
      "[CV] ............ C=100, class_weight=balanced, gamma=1, total=   0.2s\n",
      "[CV] C=100, class_weight=balanced, gamma=1 ...........................\n",
      "[CV] ............ C=100, class_weight=None, gamma=0.001, total=   0.1s\n",
      "[CV] C=100, class_weight=None, gamma=0.01 ............................\n",
      "[CV] ............ C=100, class_weight=balanced, gamma=1, total=   0.1s\n",
      "[CV] C=100, class_weight=None, gamma=0.01 ............................\n",
      "[CV] ............ C=100, class_weight=None, gamma=0.001, total=   0.3s\n",
      "[CV] C=100, class_weight=None, gamma=0.001 ...........................\n",
      "[CV] ............ C=100, class_weight=balanced, gamma=1, total=   0.2s\n",
      "[CV] C=100, class_weight=None, gamma=0.1 .............................\n",
      "[CV] ............. C=100, class_weight=None, gamma=0.01, total=   0.3s\n",
      "[CV] ............. C=100, class_weight=None, gamma=0.01, total=   0.2s\n",
      "[CV] C=100, class_weight=None, gamma=0.1 .............................\n",
      "[CV] C=100, class_weight=None, gamma=0.01 ............................\n",
      "[CV] ............ C=100, class_weight=None, gamma=0.001, total=   0.2s\n",
      "[CV] C=100, class_weight=None, gamma=1 ...............................\n",
      "[CV] .............. C=100, class_weight=None, gamma=0.1, total=   0.3s\n",
      "[CV] C=100, class_weight=None, gamma=0.1 .............................\n",
      "[CV] ............. C=100, class_weight=None, gamma=0.01, total=   0.1s\n",
      "[CV] .............. C=100, class_weight=None, gamma=0.1, total=   0.1s\n",
      "[CV] C=1000, class_weight=balanced, gamma=0.001 ......................\n",
      "[CV] C=100, class_weight=None, gamma=1 ...............................\n",
      "[CV] ................ C=100, class_weight=None, gamma=1, total=   0.2s\n",
      "[CV] C=100, class_weight=None, gamma=1 ...............................\n",
      "[CV] .............. C=100, class_weight=None, gamma=0.1, total=   0.2s\n",
      "[CV] C=1000, class_weight=balanced, gamma=0.001 ......................\n",
      "[CV] ................ C=100, class_weight=None, gamma=1, total=   0.1s\n",
      "[CV] C=1000, class_weight=balanced, gamma=0.01 .......................\n",
      "[CV] ................ C=100, class_weight=None, gamma=1, total=   0.3s\n",
      "[CV] C=1000, class_weight=balanced, gamma=0.1 ........................\n",
      "[CV] ....... C=1000, class_weight=balanced, gamma=0.001, total=   0.1s\n",
      "[CV] C=1000, class_weight=balanced, gamma=0.01 .......................\n",
      "[CV] ....... C=1000, class_weight=balanced, gamma=0.001, total=   0.9s\n",
      "[CV] C=1000, class_weight=balanced, gamma=0.001 ......................\n",
      "[CV] ......... C=1000, class_weight=balanced, gamma=0.1, total=   0.9s\n",
      "[CV] C=1000, class_weight=balanced, gamma=0.1 ........................\n",
      "[CV] ........ C=1000, class_weight=balanced, gamma=0.01, total=   0.9s\n",
      "[CV] C=1000, class_weight=balanced, gamma=0.1 ........................\n",
      "[CV] ......... C=1000, class_weight=balanced, gamma=0.1, total=   0.1s\n",
      "[CV] C=1000, class_weight=balanced, gamma=1 ..........................\n",
      "[CV] ........... C=1000, class_weight=balanced, gamma=1, total=   0.9s\n",
      "[CV] C=1000, class_weight=balanced, gamma=1 ..........................\n",
      "[CV] ........ C=1000, class_weight=balanced, gamma=0.01, total=   2.5s\n",
      "[CV] C=1000, class_weight=balanced, gamma=0.01 .......................\n",
      "[CV] ........ C=1000, class_weight=balanced, gamma=0.01, total=   0.1s\n",
      "[CV] C=1000, class_weight=None, gamma=0.001 ..........................\n",
      "[CV] ....... C=1000, class_weight=balanced, gamma=0.001, total=   2.5s\n",
      "[CV] C=1000, class_weight=None, gamma=0.001 ..........................\n",
      "[CV] ........... C=1000, class_weight=None, gamma=0.001, total=   0.1s\n",
      "[CV] C=1000, class_weight=None, gamma=0.01 ...........................\n",
      "[CV] ......... C=1000, class_weight=balanced, gamma=0.1, total=   2.6s\n",
      "[CV] C=1000, class_weight=None, gamma=0.01 ...........................\n",
      "[CV] ........... C=1000, class_weight=None, gamma=0.001, total=   0.9s\n",
      "[CV] C=1000, class_weight=None, gamma=0.001 ..........................\n",
      "[CV] ............ C=1000, class_weight=None, gamma=0.01, total=   0.9s\n",
      "[CV] C=1000, class_weight=None, gamma=0.1 ............................\n",
      "[CV] ........... C=1000, class_weight=balanced, gamma=1, total=   2.6s\n",
      "[CV] C=1000, class_weight=balanced, gamma=1 ..........................\n",
      "[CV] ........... C=1000, class_weight=balanced, gamma=1, total=   0.1s\n",
      "[CV] C=1000, class_weight=None, gamma=0.1 ............................\n",
      "[CV] ............ C=1000, class_weight=None, gamma=0.01, total=   1.4s\n",
      "[CV] C=1000, class_weight=None, gamma=0.01 ...........................\n",
      "[CV] ........... C=1000, class_weight=None, gamma=0.001, total=   1.4s\n",
      "[CV] C=1000, class_weight=None, gamma=1 ..............................\n",
      "[CV] ............. C=1000, class_weight=None, gamma=0.1, total=   0.1s\n",
      "[CV] C=1000, class_weight=None, gamma=1 ..............................\n",
      "[CV] ............ C=1000, class_weight=None, gamma=0.01, total=   0.1s\n",
      "[CV] C=1000, class_weight=None, gamma=1 ..............................\n",
      "[CV] ............. C=1000, class_weight=None, gamma=0.1, total=   0.9s\n",
      "[CV] C=1000, class_weight=None, gamma=0.1 ............................\n",
      "[CV] ............... C=1000, class_weight=None, gamma=1, total=   0.1s\n",
      "[CV] C=10000, class_weight=balanced, gamma=0.001 .....................\n",
      "[CV] ............... C=1000, class_weight=None, gamma=1, total=   0.9s\n",
      "[CV] C=10000, class_weight=balanced, gamma=0.001 .....................\n",
      "[CV] ............... C=1000, class_weight=None, gamma=1, total=   1.4s\n",
      "[CV] C=10000, class_weight=balanced, gamma=0.001 .....................\n",
      "[CV] ...... C=10000, class_weight=balanced, gamma=0.001, total=   0.1s\n",
      "[CV] C=10000, class_weight=balanced, gamma=0.01 ......................\n",
      "[CV] ............. C=1000, class_weight=None, gamma=0.1, total=   1.4s\n",
      "[CV] C=10000, class_weight=balanced, gamma=0.01 ......................\n",
      "[CV] ...... C=10000, class_weight=balanced, gamma=0.001, total=   2.9s\n",
      "[CV] C=10000, class_weight=balanced, gamma=0.01 ......................\n",
      "[CV] ....... C=10000, class_weight=balanced, gamma=0.01, total=   0.1s\n",
      "[CV] C=10000, class_weight=balanced, gamma=0.1 .......................\n",
      "[CV] ....... C=10000, class_weight=balanced, gamma=0.01, total=   3.0s\n",
      "[CV] C=10000, class_weight=balanced, gamma=0.1 .......................\n",
      "[CV] ........ C=10000, class_weight=balanced, gamma=0.1, total=   3.0s\n",
      "[CV] C=10000, class_weight=balanced, gamma=0.1 .......................\n",
      "[CV] ........ C=10000, class_weight=balanced, gamma=0.1, total=   0.1s\n",
      "[CV] C=10000, class_weight=balanced, gamma=1 .........................\n",
      "[CV] .......... C=10000, class_weight=balanced, gamma=1, total=   2.9s\n",
      "[CV] C=10000, class_weight=balanced, gamma=1 .........................\n",
      "[CV] ...... C=10000, class_weight=balanced, gamma=0.001, total=   9.4s\n",
      "[CV] C=10000, class_weight=balanced, gamma=1 .........................\n",
      "[CV] .......... C=10000, class_weight=balanced, gamma=1, total=   0.1s\n",
      "[CV] C=10000, class_weight=None, gamma=0.001 .........................\n",
      "[CV] ....... C=10000, class_weight=balanced, gamma=0.01, total=   9.5s\n",
      "[CV] C=10000, class_weight=None, gamma=0.001 .........................\n",
      "[CV] ........ C=10000, class_weight=balanced, gamma=0.1, total=   9.3s\n",
      "[CV] C=10000, class_weight=None, gamma=0.001 .........................\n",
      "[CV] .......... C=10000, class_weight=None, gamma=0.001, total=   0.1s\n",
      "[CV] C=10000, class_weight=None, gamma=0.01 ..........................\n",
      "[CV] .......... C=10000, class_weight=None, gamma=0.001, total=   8.3s\n",
      "[CV] C=10000, class_weight=None, gamma=0.01 ..........................\n",
      "[CV] .......... C=10000, class_weight=balanced, gamma=1, total=   9.4s\n",
      "[CV] C=10000, class_weight=None, gamma=0.01 ..........................\n",
      "[CV] ........... C=10000, class_weight=None, gamma=0.01, total=   0.1s\n",
      "[CV] C=10000, class_weight=None, gamma=0.1 ...........................\n",
      "[CV] ........... C=10000, class_weight=None, gamma=0.01, total=   8.3s\n",
      "[CV] C=10000, class_weight=None, gamma=0.1 ...........................\n",
      "[CV] ............ C=10000, class_weight=None, gamma=0.1, total=   8.5s\n",
      "[CV] C=10000, class_weight=None, gamma=0.1 ...........................\n",
      "[CV] ............ C=10000, class_weight=None, gamma=0.1, total=   0.1s\n",
      "[CV] C=10000, class_weight=None, gamma=1 .............................\n",
      "[CV] .............. C=10000, class_weight=None, gamma=1, total=   8.4s\n",
      "[CV] C=10000, class_weight=None, gamma=1 .............................\n",
      "[CV] .......... C=10000, class_weight=None, gamma=0.001, total=  41.3s\n",
      "[CV] C=10000, class_weight=None, gamma=1 .............................\n",
      "[CV] .............. C=10000, class_weight=None, gamma=1, total=   0.1s\n",
      "[CV] ........... C=10000, class_weight=None, gamma=0.01, total=  41.2s\n",
      "[CV] ............ C=10000, class_weight=None, gamma=0.1, total=  41.1s\n",
      "[CV] .............. C=10000, class_weight=None, gamma=1, total=  40.5s\n"
     ]
    },
    {
     "name": "stderr",
     "output_type": "stream",
     "text": [
      "[Parallel(n_jobs=-1)]: Done 168 out of 168 | elapsed:  1.4min finished\n"
     ]
    },
    {
     "name": "stdout",
     "output_type": "stream",
     "text": [
      "{'C': 1000, 'class_weight': 'balanced', 'gamma': 0.001}\n"
     ]
    },
    {
     "ename": "NameError",
     "evalue": "name 'mistake' is not defined",
     "output_type": "error",
     "traceback": [
      "\u001b[0;31m---------------------------------------------------------------------------\u001b[0m",
      "\u001b[0;31mNameError\u001b[0m                                 Traceback (most recent call last)",
      "\u001b[0;32m<timed exec>\u001b[0m in \u001b[0;36m<module>\u001b[0;34m()\u001b[0m\n",
      "\u001b[0;31mNameError\u001b[0m: name 'mistake' is not defined"
     ]
    }
   ],
   "source": [
    "%%time\n",
    "if grid_search:\n",
    "    esti = SVC(kernel = 'linear', cache_size = 500)\n",
    "    parameter_grid = {\n",
    "    'C': [0.01, 0.1, 1, 10, 100, 1000, 10000], 'class_weight':['balanced', None], 'gamma':[0.001, 0.01, 0.1, 1]\n",
    "    },\n",
    "    clf = GridSearchCV(esti, param_grid=parameter_grid, n_jobs=-1, error_score='f1', cv = 3, verbose=2)\n",
    "    clf.fit(X, y)\n",
    "    print(clf.best_params_)\n",
    "    mistake"
   ]
  },
  {
   "cell_type": "code",
   "execution_count": null,
   "metadata": {},
   "outputs": [],
   "source": [
    "the best paramaters from the gridsearch were {'C': 1000, 'class_weight': 'balanced', 'gamma': 0.001}"
   ]
  },
  {
   "cell_type": "markdown",
   "metadata": {},
   "source": [
    "### Carry out 10-f0ld stratified cross validation, class f1 scores and macro f1 scores with weighted averages are calculated"
   ]
  },
  {
   "cell_type": "code",
   "execution_count": 10,
   "metadata": {},
   "outputs": [
    {
     "name": "stdout",
     "output_type": "stream",
     "text": [
      "making model:\n",
      "1\n",
      "[LibSVM]"
     ]
    },
    {
     "ename": "AttributeError",
     "evalue": "'SVC' object has no attribute 'feature_importances_'",
     "output_type": "error",
     "traceback": [
      "\u001b[0;31m---------------------------------------------------------------------------\u001b[0m",
      "\u001b[0;31mAttributeError\u001b[0m                            Traceback (most recent call last)",
      "\u001b[0;32m<ipython-input-10-53e2db3b8a3b>\u001b[0m in \u001b[0;36m<module>\u001b[0;34m()\u001b[0m\n\u001b[1;32m     23\u001b[0m     \u001b[0mmacro_f1_scores\u001b[0m\u001b[0;34m.\u001b[0m\u001b[0mappend\u001b[0m\u001b[0;34m(\u001b[0m\u001b[0mf1_score\u001b[0m\u001b[0;34m(\u001b[0m\u001b[0my_test\u001b[0m\u001b[0;34m,\u001b[0m \u001b[0my_pred\u001b[0m\u001b[0;34m,\u001b[0m \u001b[0maverage\u001b[0m \u001b[0;34m=\u001b[0m \u001b[0;34m'weighted'\u001b[0m\u001b[0;34m)\u001b[0m\u001b[0;34m)\u001b[0m\u001b[0;34m\u001b[0m\u001b[0m\n\u001b[1;32m     24\u001b[0m     \u001b[0mf1_dict\u001b[0m\u001b[0;34m[\u001b[0m\u001b[0mkey\u001b[0m\u001b[0;34m]\u001b[0m \u001b[0;34m=\u001b[0m \u001b[0mclass_f1_scores\u001b[0m\u001b[0;34m\u001b[0m\u001b[0m\n\u001b[0;32m---> 25\u001b[0;31m     \u001b[0mfeat_imp_dict\u001b[0m\u001b[0;34m[\u001b[0m\u001b[0mkey\u001b[0m\u001b[0;34m]\u001b[0m \u001b[0;34m=\u001b[0m \u001b[0mesti\u001b[0m\u001b[0;34m.\u001b[0m\u001b[0mfeature_importances_\u001b[0m\u001b[0;34m\u001b[0m\u001b[0m\n\u001b[0m",
      "\u001b[0;31mAttributeError\u001b[0m: 'SVC' object has no attribute 'feature_importances_'"
     ]
    }
   ],
   "source": [
    "esti = SVC(verbose=3, C =  0.1, class_weight =  None, kernel = 'linear')\n",
    "skf = StratifiedKFold(n_splits=10, random_state=random_seed_state)\n",
    "skf.get_n_splits(X, y)\n",
    "class_f1_scores = []\n",
    "macro_f1_scores = []\n",
    "accuracy_scores = []\n",
    "feat_imp =[]\n",
    "f1_dict = {}\n",
    "feat_imp_dict = {}\n",
    "count = 0\n",
    "for train_index, test_index in skf.split(X, y):\n",
    "    count = count + 1\n",
    "    print('making model:')\n",
    "    key = 'round' + str(count)\n",
    "    print(count)\n",
    "    X_train, X_test = X[train_index], X[test_index]\n",
    "    y_train, y_test = y[train_index], y[test_index]\n",
    "    esti.fit(X_train, y_train)\n",
    "    y_pred = esti.predict(X_test)\n",
    "    class_f1_scores = f1_score(y_test, y_pred, average = None)\n",
    "    accuracy = accuracy_score(y_test, y_pred)\n",
    "    accuracy_scores.append(accuracy)\n",
    "    macro_f1_scores.append(f1_score(y_test, y_pred, average = 'weighted'))\n",
    "    f1_dict[key] = class_f1_scores \n",
    "    feat_imp_dict[key] = esti.feature_importances_"
   ]
  },
  {
   "cell_type": "code",
   "execution_count": null,
   "metadata": {},
   "outputs": [],
   "source": [
    "f1_df = pd.DataFrame(data = f1_dict)\n"
   ]
  },
  {
   "cell_type": "code",
   "execution_count": null,
   "metadata": {},
   "outputs": [],
   "source": [
    "for key in f1_dict:\n",
    "    print(len(f1_dict[key]))"
   ]
  },
  {
   "cell_type": "markdown",
   "metadata": {},
   "source": [
    "### Below are the encodings for the class variable"
   ]
  },
  {
   "cell_type": "code",
   "execution_count": null,
   "metadata": {},
   "outputs": [],
   "source": [
    "print(train_data_formodel['class'].unique())\n",
    "print(list(uniques))"
   ]
  },
  {
   "cell_type": "code",
   "execution_count": null,
   "metadata": {},
   "outputs": [],
   "source": [
    "f1_df_final = pd.concat([f1_df, pd.Series(uniques)], axis = 1)"
   ]
  },
  {
   "cell_type": "code",
   "execution_count": null,
   "metadata": {},
   "outputs": [],
   "source": [
    "f1_df_final.rename(columns={0:'class'}, inplace=True)\n",
    "f1_df_final.set_index('class', drop = True, inplace = True)"
   ]
  },
  {
   "cell_type": "markdown",
   "metadata": {},
   "source": [
    "### Boxplot showing the distribution of class f1 scores from 10 models"
   ]
  },
  {
   "cell_type": "code",
   "execution_count": null,
   "metadata": {},
   "outputs": [],
   "source": [
    "sns.set(rc={'figure.figsize':(11.7,8.27)})\n",
    "plot = sns.boxplot(data = f1_df_final.T)\n",
    "plot.set_title('F1 scores for each site', fontdict={'fontsize': 14})\n",
    "plot.set_ylabel('F1 score', fontdict={'fontsize': 11})\n",
    "plot.set_xlabel(\"Bedrock site or superficial site\", fontdict={'fontsize': 11})\n",
    "\n",
    "if save_plots == True:\n",
    "    fig = plot.get_figure()\n",
    "    fig.savefig('output/site_specific_f1_scores.png')"
   ]
  },
  {
   "cell_type": "code",
   "execution_count": null,
   "metadata": {},
   "outputs": [],
   "source": [
    "pd.DataFrame(data = f1_df_final.T.median()).to_csv('output/median_class_f1_scores.csv')"
   ]
  },
  {
   "cell_type": "markdown",
   "metadata": {},
   "source": [
    "### Boxplot showing the macro F1 score with weighted averages"
   ]
  },
  {
   "cell_type": "code",
   "execution_count": null,
   "metadata": {},
   "outputs": [],
   "source": [
    "plot = sns.boxplot(macro_f1_scores)\n",
    "plot.set_title('Average-weighted macro-f1 score', fontdict={'fontsize': 14})\n",
    "plot.set_xlabel(\"F1-score\", fontdict={'fontsize': 11})\n",
    "\n",
    "if save_plots == True:\n",
    "    fig = plot.get_figure()\n",
    "    fig.savefig('output/macro_f1_scores.png')"
   ]
  },
  {
   "cell_type": "code",
   "execution_count": null,
   "metadata": {},
   "outputs": [],
   "source": [
    "pd.Series(pd.Series(macro_f1_scores).median()).to_csv('output/median_macro_f1.csv')"
   ]
  },
  {
   "cell_type": "code",
   "execution_count": null,
   "metadata": {},
   "outputs": [],
   "source": [
    "pd.Series(macro_f1_scores).median()"
   ]
  },
  {
   "cell_type": "markdown",
   "metadata": {},
   "source": [
    "### Boxplot showing accuracy scores"
   ]
  },
  {
   "cell_type": "code",
   "execution_count": null,
   "metadata": {},
   "outputs": [],
   "source": [
    "sns.boxplot(accuracy_scores)"
   ]
  },
  {
   "cell_type": "markdown",
   "metadata": {},
   "source": [
    "### Get feature importances"
   ]
  },
  {
   "cell_type": "markdown",
   "metadata": {},
   "source": [
    "feat_imp_df = pd.DataFrame(data = feat_imp_dict)\n",
    "feat_imp_df.head()"
   ]
  },
  {
   "cell_type": "markdown",
   "metadata": {},
   "source": [
    "feat_imp_df_final = pd.concat([feat_imp_df, pd.Series(my_data[my_data.columns.values[9:-1]].columns.values)], axis = 1)\n",
    "feat_imp_df_final.rename(columns = {0:'element'}, inplace = True )\n",
    "feat_imp_df_final.head()"
   ]
  },
  {
   "cell_type": "markdown",
   "metadata": {},
   "source": [
    "feat_imp_df_final.set_index('element', inplace=True)\n"
   ]
  },
  {
   "cell_type": "markdown",
   "metadata": {},
   "source": [
    "feat_imp_df_final_plot = feat_imp_df_final.T"
   ]
  },
  {
   "cell_type": "markdown",
   "metadata": {},
   "source": [
    "feat_imp_df_final_plot\n",
    "\n",
    "elements = feat_imp_df_final_plot.columns.values \n",
    "mean_feature_importance = []\n",
    "for col in list(feat_imp_df_final_plot.columns.values):\n",
    "    mean_feature_importance.append(feat_imp_df_final_plot[col].mean())\n",
    "    "
   ]
  },
  {
   "cell_type": "markdown",
   "metadata": {},
   "source": [
    "mean_feature_importance_df = pd.concat([pd.Series(elements), pd.Series(mean_feature_importance)], axis = 1)"
   ]
  },
  {
   "cell_type": "markdown",
   "metadata": {},
   "source": [
    "mean_feature_importance_df.rename(columns={0:'elements', 1:'mean_importance'}, inplace=True)"
   ]
  },
  {
   "cell_type": "markdown",
   "metadata": {},
   "source": [
    "mean_feature_importance_df.sort_values(by='mean_importance', ascending=False, inplace=True)"
   ]
  },
  {
   "cell_type": "markdown",
   "metadata": {},
   "source": [
    "ordered_col_names = list(mean_feature_importance_df['elements'])"
   ]
  },
  {
   "cell_type": "markdown",
   "metadata": {},
   "source": [
    "sns.set_style(\"whitegrid\")\n",
    "sns.set_style()\n",
    "sns.set(rc={'figure.figsize':(20,20)})\n",
    "plot = sns.boxplot(data = feat_imp_df_final_plot[ordered_col_names])\n",
    "plot.set_xticklabels(plot.get_xticklabels(),rotation=90, ha = 'left')\n",
    "plot.set_title('Feature (element) importance', fontdict={'fontsize': 20})\n",
    "plot.set_ylabel('Feature importance', fontdict={'fontsize': 15})\n",
    "plot.set_xlabel(\"Element\", fontdict={'fontsize': 15})\n",
    "\n",
    "if save_plots == True:\n",
    "    fig = plot.get_figure()\n",
    "    fig.savefig('output/feature_importances.png')"
   ]
  },
  {
   "cell_type": "markdown",
   "metadata": {},
   "source": [
    "### Model is built for predicting source of artefacts "
   ]
  },
  {
   "cell_type": "markdown",
   "metadata": {},
   "source": [
    "esti_final = SVC(verbose=3, C =  0.1, class_weight =  None, kernel = 'linear')"
   ]
  },
  {
   "cell_type": "markdown",
   "metadata": {},
   "source": [
    "esti_final.fit(X, y)"
   ]
  },
  {
   "cell_type": "markdown",
   "metadata": {},
   "source": [
    "if pickle_model == True:\n",
    "    pickle.dump(esti_final, open(pickle_file_path+'.sav', 'wb'))"
   ]
  },
  {
   "cell_type": "markdown",
   "metadata": {},
   "source": [
    "print(train_data_formodel['class'].unique())\n",
    "print(uniques)"
   ]
  },
  {
   "cell_type": "markdown",
   "metadata": {},
   "source": [
    "df_for_identifiers = test_data.copy(deep = True)\n",
    "identifiers =  df_for_identifiers['Analysis']"
   ]
  },
  {
   "cell_type": "markdown",
   "metadata": {},
   "source": [
    "### Predictions are made for the artefacts"
   ]
  },
  {
   "cell_type": "markdown",
   "metadata": {},
   "source": [
    "y_pred = esti_final.predict(np.array(test_data[test_data.columns.values[9:-1]]))\n",
    "\n",
    "y_pred_proba = esti_final.predict_proba(np.array(test_data[test_data.columns.values[9:-1]]))\n"
   ]
  },
  {
   "cell_type": "markdown",
   "metadata": {},
   "source": [
    "probabilities_df = pd.DataFrame(data = y_pred_proba, columns = uniques)\n",
    "probabilities_df_final = pd.concat([probabilities_df, pd.Series(list(identifiers))], axis = 1)"
   ]
  },
  {
   "cell_type": "markdown",
   "metadata": {},
   "source": [
    "probabilities_df_final.rename(columns = {0:'identifier'}, inplace=True)"
   ]
  },
  {
   "cell_type": "markdown",
   "metadata": {},
   "source": [
    "final_pred_df = pd.concat([pd.Series(y_pred), probabilities_df_final], axis = 1)"
   ]
  },
  {
   "cell_type": "markdown",
   "metadata": {},
   "source": [
    "final_pred_df.rename(columns={0:'class_number'}, inplace = True)"
   ]
  },
  {
   "cell_type": "markdown",
   "metadata": {},
   "source": [
    "### predictions are outputted as csv file"
   ]
  },
  {
   "cell_type": "markdown",
   "metadata": {},
   "source": [
    "final_pred_df.to_csv('output/predictions.csv')\n"
   ]
  },
  {
   "cell_type": "markdown",
   "metadata": {},
   "source": [
    "uniques_list = list(uniques)\n",
    "def get_pred_names(row):\n",
    "    return(uniques_list[row['class_number']])\n",
    "final_pred_df['class_predictions'] = final_pred_df.apply(get_pred_names, axis = 1)"
   ]
  },
  {
   "cell_type": "markdown",
   "metadata": {},
   "source": [
    "final_pred_df.head()"
   ]
  }
 ],
 "metadata": {
  "kernelspec": {
   "display_name": "Python 3",
   "language": "python",
   "name": "python3"
  },
  "language_info": {
   "codemirror_mode": {
    "name": "ipython",
    "version": 3
   },
   "file_extension": ".py",
   "mimetype": "text/x-python",
   "name": "python",
   "nbconvert_exporter": "python",
   "pygments_lexer": "ipython3",
   "version": "3.6.5"
  }
 },
 "nbformat": 4,
 "nbformat_minor": 2
}
