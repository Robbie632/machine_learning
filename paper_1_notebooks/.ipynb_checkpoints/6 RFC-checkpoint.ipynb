{
 "cells": [
  {
   "cell_type": "markdown",
   "metadata": {},
   "source": [
    "### RFC"
   ]
  },
  {
   "cell_type": "markdown",
   "metadata": {},
   "source": [
    "### import modules and configure notebook"
   ]
  },
  {
   "cell_type": "code",
   "execution_count": 1,
   "metadata": {},
   "outputs": [],
   "source": [
    "import pandas as pd\n",
    "import numpy as np\n",
    "import swifter\n",
    "import seaborn as sns\n",
    "import matplotlib.pyplot\n",
    "import pickle\n",
    "\n",
    "pd.set_option('max.rows', None)\n",
    "pd.set_option('max.columns', None)\n",
    "\n",
    "from sklearn.ensemble import RandomForestClassifier\n",
    "from sklearn.model_selection import StratifiedKFold, RandomizedSearchCV, GridSearchCV\n",
    "from sklearn.metrics import accuracy_score, f1_score\n",
    "from sklearn.preprocessing import StandardScaler\n",
    "from imblearn.over_sampling import SMOTE, ADASYN\n",
    "\n",
    "%matplotlib inline"
   ]
  },
  {
   "cell_type": "markdown",
   "metadata": {},
   "source": [
    "### Load variables stored by data_preproccessing notebook"
   ]
  },
  {
   "cell_type": "code",
   "execution_count": 2,
   "metadata": {},
   "outputs": [],
   "source": [
    "%store -r train_data_formodel\n",
    "%store -r test_data\n",
    "%store -r my_data\n",
    "%store -r uniques\n",
    "%store -r best_feats\n",
    "%store -r best_feats_ranks\n",
    "%store -r X_test_labeled_df\n",
    "\n"
   ]
  },
  {
   "cell_type": "markdown",
   "metadata": {},
   "source": [
    "### configurations\n",
    "* save_plots -> True|False\n",
    "* random_seed_state -> number, sets random state for model and for stratified splits \n",
    "* classify_bedrock_only -> True|False\n",
    "* pickle_model -> True|False, wether model should be serialised and saved\n",
    "* pickle_model_name -> string, name of serialised model\n",
    "* grid_search -> True|False, if set to true then grid search is performed to identify optimum hyperparamaters for model \n",
    "* scale -> True|False if set to True then features scaled to all have mean value 0 and standard deviation 1\n",
    "* pickle_file_path -> string,  filepath for serialised model to be saved to"
   ]
  },
  {
   "cell_type": "code",
   "execution_count": 3,
   "metadata": {},
   "outputs": [],
   "source": [
    "save_plots = False\n",
    "random_seed_state = 42\n",
    "classify_bedrock_only = False\n",
    "grid_search = False\n",
    "scale = False\n",
    "save_predictions = False"
   ]
  },
  {
   "cell_type": "markdown",
   "metadata": {},
   "source": [
    "### if only bedrock sites are classified then classes are label encoded, if bedrock sites alone are not being classified then the class sites would have already been label encoded in the 1 data_preproccessing notebook "
   ]
  },
  {
   "cell_type": "code",
   "execution_count": 4,
   "metadata": {},
   "outputs": [],
   "source": [
    "if classify_bedrock_only:\n",
    "    train_data_formodel['class'], uniques = pd.factorize(train_data_formodel['class'])\n",
    "    train_data_formodel = train_data_formodel[train_data_formodel['Geology']=='Bedrock']"
   ]
  },
  {
   "cell_type": "markdown",
   "metadata": {},
   "source": [
    "### counts of instances in all classes before oversampling"
   ]
  },
  {
   "cell_type": "code",
   "execution_count": 5,
   "metadata": {},
   "outputs": [
    {
     "data": {
      "text/plain": [
       "22    120\n",
       "4     105\n",
       "23    105\n",
       "16    100\n",
       "21     74\n",
       "17     61\n",
       "24     60\n",
       "0      53\n",
       "12     45\n",
       "14     36\n",
       "2      36\n",
       "15     36\n",
       "6      30\n",
       "11     30\n",
       "10     30\n",
       "7      30\n",
       "20     28\n",
       "5      27\n",
       "8      27\n",
       "19     27\n",
       "1      24\n",
       "13     21\n",
       "3      18\n",
       "18     18\n",
       "9      17\n",
       "Name: class, dtype: int64"
      ]
     },
     "execution_count": 5,
     "metadata": {},
     "output_type": "execute_result"
    }
   ],
   "source": [
    "train_data_formodel['class'].value_counts()"
   ]
  },
  {
   "cell_type": "markdown",
   "metadata": {},
   "source": [
    "### The class column is stored as the variable y "
   ]
  },
  {
   "cell_type": "code",
   "execution_count": 6,
   "metadata": {},
   "outputs": [],
   "source": [
    "y = np.array(train_data_formodel['class'])"
   ]
  },
  {
   "cell_type": "markdown",
   "metadata": {},
   "source": [
    "### The variables identified as best by the 2 feature_selection notebook are used as features"
   ]
  },
  {
   "cell_type": "code",
   "execution_count": 7,
   "metadata": {},
   "outputs": [],
   "source": [
    "train_data_feats = train_data_formodel[best_feats]"
   ]
  },
  {
   "cell_type": "code",
   "execution_count": 8,
   "metadata": {},
   "outputs": [
    {
     "data": {
      "text/plain": [
       "['Cr52',\n",
       " 'B11',\n",
       " 'S33',\n",
       " 'U238',\n",
       " 'Ca42',\n",
       " 'Mg24',\n",
       " 'Zr90',\n",
       " 'Sc45',\n",
       " 'Rb85',\n",
       " 'P31',\n",
       " 'V51',\n",
       " 'Ge72',\n",
       " 'Sr88',\n",
       " 'Ba137',\n",
       " 'Fe56',\n",
       " 'Al27',\n",
       " 'Li7',\n",
       " 'Mn55',\n",
       " 'La139',\n",
       " 'Ce140',\n",
       " 'Si28',\n",
       " 'Nd146',\n",
       " 'Ga69',\n",
       " 'Pr141',\n",
       " 'Ni60',\n",
       " 'K39',\n",
       " 'Cu63',\n",
       " 'As75',\n",
       " 'Nb93',\n",
       " 'Pb208',\n",
       " 'Cd111',\n",
       " 'Sm147',\n",
       " 'Y89',\n",
       " 'Zn68',\n",
       " 'Ti47',\n",
       " 'Co59',\n",
       " 'Sn118',\n",
       " 'Yb172',\n",
       " 'Cs133',\n",
       " 'Dy163']"
      ]
     },
     "execution_count": 8,
     "metadata": {},
     "output_type": "execute_result"
    }
   ],
   "source": [
    "best_feats_ranks"
   ]
  },
  {
   "cell_type": "markdown",
   "metadata": {},
   "source": [
    "### address class imbalance using synthetic minority oversampling technique (SMOTE) algorithm"
   ]
  },
  {
   "cell_type": "code",
   "execution_count": 9,
   "metadata": {},
   "outputs": [],
   "source": [
    "if scale:\n",
    "    my_scaler = StandardScaler()\n",
    "    X = np.array(my_scaler.fit_transform(np.array(train_data_feats)))\n",
    "else:\n",
    "    X = np.array(np.array(train_data_feats))"
   ]
  },
  {
   "cell_type": "markdown",
   "metadata": {},
   "source": [
    "### the dimensions of the class and features are checked"
   ]
  },
  {
   "cell_type": "code",
   "execution_count": 10,
   "metadata": {},
   "outputs": [
    {
     "name": "stdout",
     "output_type": "stream",
     "text": [
      "(1158, 16)\n",
      "(1158,)\n"
     ]
    }
   ],
   "source": [
    "print(X.shape)\n",
    "print(y.shape)"
   ]
  },
  {
   "cell_type": "markdown",
   "metadata": {},
   "source": [
    "### Gri dsearch is done to identify best hyperparamaters for the model"
   ]
  },
  {
   "cell_type": "code",
   "execution_count": 11,
   "metadata": {},
   "outputs": [
    {
     "name": "stdout",
     "output_type": "stream",
     "text": [
      "CPU times: user 3 µs, sys: 0 ns, total: 3 µs\n",
      "Wall time: 6.68 µs\n"
     ]
    }
   ],
   "source": [
    "%%time\n",
    "if grid_search:\n",
    "    esti = RandomForestClassifier()\n",
    "\n",
    "\n",
    "    \n",
    "    n_estimators = [int(x) for x in np.linspace(start = 200, stop = 3000, num = 10)]\n",
    "    max_features = ['auto', 'sqrt']\n",
    "    max_depth = [int(x) for x in np.linspace(10, 110, num = 11)]\n",
    "    min_samples_split = [2, 5, 10, 15]\n",
    "    min_samples_leaf = [1, 2, 4, 8]\n",
    "    bootstrap = [True, False]\n",
    "    \n",
    "    \n",
    "    random_grid = {'n_estimators': n_estimators,\n",
    "               'max_features': max_features,\n",
    "               'max_depth': max_depth,\n",
    "               'min_samples_split': min_samples_split,\n",
    "               'min_samples_leaf': min_samples_leaf,\n",
    "               'bootstrap': bootstrap}\n",
    "    \n",
    "    clf = RandomizedSearchCV(estimator = esti, n_iter=200, param_distributions = random_grid,\n",
    "                              n_jobs=-1, scoring='f1_macro', cv = 3, verbose=3, \n",
    "                              random_state = random_seed_state)\n",
    "    \n",
    "    clf.fit(X, y)\n",
    "    print(clf.best_params_)\n",
    "    mistake"
   ]
  },
  {
   "cell_type": "markdown",
   "metadata": {},
   "source": [
    "The best paramaters from the randomised grid search were the following:\n",
    "{'n_estimators': 1755, 'min_samples_split': 2, 'min_samples_leaf': 1, 'max_features': 'auto', 'max_depth': 100, 'bootstrap': True}\n",
    "\n",
    "randomised grid search took ~18 mins for 600 fits"
   ]
  },
  {
   "cell_type": "code",
   "execution_count": 12,
   "metadata": {},
   "outputs": [
    {
     "name": "stdout",
     "output_type": "stream",
     "text": [
      "CPU times: user 2 µs, sys: 1e+03 ns, total: 3 µs\n",
      "Wall time: 7.39 µs\n"
     ]
    }
   ],
   "source": [
    "%%time\n",
    "if grid_search:\n",
    "    esti = RandomForestClassifier(bootstrap = True, max_features = 'auto')\n",
    "\n",
    "    n_estimators = [1600, 1700, 1800]\n",
    "    max_depth = [80, 100, 120]\n",
    "    min_samples_split = [2, 3, 4]\n",
    "    min_samples_leaf = [1, 2, 3]\n",
    "    \n",
    "    \n",
    "    random_grid = {'n_estimators': n_estimators,\n",
    "               'max_depth': max_depth,\n",
    "               'min_samples_split': min_samples_split,\n",
    "               'min_samples_leaf': min_samples_leaf,\n",
    "                  }\n",
    "    \n",
    "    clf = GridSearchCV(estimator = esti, param_grid= random_grid,\n",
    "                              n_jobs=-1, scoring='f1_macro', cv = 3, verbose=3)\n",
    "    clf.fit(X, y)\n",
    "    print(clf.best_params_)\n",
    "    mistake"
   ]
  },
  {
   "cell_type": "markdown",
   "metadata": {},
   "source": [
    "Best paramters identified by gridsearch were:\n",
    "{'max_depth': 100, 'min_samples_leaf': 1, 'min_samples_split': 3, 'n_estimators': 1700}\n",
    "\n",
    "so final best paramaters are\n",
    "\n",
    "{'n_estimators': 1700 'min_samples_split': 3, 'min_samples_leaf': 1, 'max_features': 'auto', 'max_depth': 100, 'bootstrap': True}\n",
    "\n",
    "it took  7 mins for 243 fits"
   ]
  },
  {
   "cell_type": "markdown",
   "metadata": {},
   "source": [
    "### Carry out 10-f0ld stratified cross validation, class f1 scores and macro f1 scores with weighted averages are calculated"
   ]
  },
  {
   "cell_type": "code",
   "execution_count": 13,
   "metadata": {},
   "outputs": [
    {
     "name": "stdout",
     "output_type": "stream",
     "text": [
      "making model:\n",
      "1\n",
      "making model:\n",
      "2\n",
      "making model:\n",
      "3\n",
      "making model:\n",
      "4\n"
     ]
    },
    {
     "name": "stderr",
     "output_type": "stream",
     "text": [
      "/home/rmorse/anaconda3/lib/python3.6/site-packages/sklearn/metrics/classification.py:1143: UndefinedMetricWarning: F-score is ill-defined and being set to 0.0 in labels with no predicted samples.\n",
      "  'precision', 'predicted', average, warn_for)\n",
      "/home/rmorse/anaconda3/lib/python3.6/site-packages/sklearn/metrics/classification.py:1143: UndefinedMetricWarning: F-score is ill-defined and being set to 0.0 in labels with no predicted samples.\n",
      "  'precision', 'predicted', average, warn_for)\n"
     ]
    },
    {
     "name": "stdout",
     "output_type": "stream",
     "text": [
      "making model:\n",
      "5\n",
      "making model:\n",
      "6\n"
     ]
    },
    {
     "name": "stderr",
     "output_type": "stream",
     "text": [
      "/home/rmorse/anaconda3/lib/python3.6/site-packages/sklearn/metrics/classification.py:1143: UndefinedMetricWarning: F-score is ill-defined and being set to 0.0 in labels with no predicted samples.\n",
      "  'precision', 'predicted', average, warn_for)\n",
      "/home/rmorse/anaconda3/lib/python3.6/site-packages/sklearn/metrics/classification.py:1143: UndefinedMetricWarning: F-score is ill-defined and being set to 0.0 in labels with no predicted samples.\n",
      "  'precision', 'predicted', average, warn_for)\n"
     ]
    },
    {
     "name": "stdout",
     "output_type": "stream",
     "text": [
      "making model:\n",
      "7\n"
     ]
    },
    {
     "name": "stderr",
     "output_type": "stream",
     "text": [
      "/home/rmorse/anaconda3/lib/python3.6/site-packages/sklearn/metrics/classification.py:1143: UndefinedMetricWarning: F-score is ill-defined and being set to 0.0 in labels with no predicted samples.\n",
      "  'precision', 'predicted', average, warn_for)\n",
      "/home/rmorse/anaconda3/lib/python3.6/site-packages/sklearn/metrics/classification.py:1143: UndefinedMetricWarning: F-score is ill-defined and being set to 0.0 in labels with no predicted samples.\n",
      "  'precision', 'predicted', average, warn_for)\n"
     ]
    },
    {
     "name": "stdout",
     "output_type": "stream",
     "text": [
      "making model:\n",
      "8\n",
      "making model:\n",
      "9\n",
      "making model:\n",
      "10\n"
     ]
    },
    {
     "name": "stderr",
     "output_type": "stream",
     "text": [
      "/home/rmorse/anaconda3/lib/python3.6/site-packages/sklearn/metrics/classification.py:1143: UndefinedMetricWarning: F-score is ill-defined and being set to 0.0 in labels with no predicted samples.\n",
      "  'precision', 'predicted', average, warn_for)\n",
      "/home/rmorse/anaconda3/lib/python3.6/site-packages/sklearn/metrics/classification.py:1143: UndefinedMetricWarning: F-score is ill-defined and being set to 0.0 in labels with no predicted samples.\n",
      "  'precision', 'predicted', average, warn_for)\n"
     ]
    }
   ],
   "source": [
    "esti = RandomForestClassifier(n_estimators=1700, random_state = random_seed_state, n_jobs=-1, \n",
    "                              min_samples_split =  3, min_samples_leaf = 1, max_features = 'auto', \n",
    "                              max_depth = 100, bootstrap =  True)\n",
    "skf = StratifiedKFold(n_splits=10, random_state=random_seed_state)\n",
    "skf.get_n_splits(X, y)\n",
    "class_f1_scores = []\n",
    "macro_f1_scores = []\n",
    "accuracy_scores = []\n",
    "feat_imp =[]\n",
    "f1_dict = {}\n",
    "feat_imp_dict = {}\n",
    "count = 0\n",
    "for train_index, test_index in skf.split(X, y):\n",
    "    count = count + 1\n",
    "    print('making model:')\n",
    "    key = 'round' + str(count)\n",
    "    print(count)\n",
    "    X_train, X_test = X[train_index], X[test_index]\n",
    "    y_train, y_test = y[train_index], y[test_index]\n",
    "    \n",
    "    X_post_smote, y_post_smote = SMOTE(random_state=42).fit_sample(X_train, y_train)\n",
    "    \n",
    "    esti.fit(X_post_smote, y_post_smote)\n",
    "\n",
    "    y_pred = esti.predict(X_test)\n",
    "    class_f1_scores = f1_score(y_test, y_pred, average = None)\n",
    "    accuracy = accuracy_score(y_test, y_pred)\n",
    "    accuracy_scores.append(accuracy)\n",
    "    macro_f1_scores.append(f1_score(y_test, y_pred, average = 'weighted'))\n",
    "    f1_dict[key] = class_f1_scores \n",
    "    feat_imp_dict[key] = esti.feature_importances_"
   ]
  },
  {
   "cell_type": "code",
   "execution_count": 14,
   "metadata": {},
   "outputs": [],
   "source": [
    "f1_df = pd.DataFrame(data = f1_dict)\n"
   ]
  },
  {
   "cell_type": "code",
   "execution_count": 15,
   "metadata": {},
   "outputs": [
    {
     "name": "stdout",
     "output_type": "stream",
     "text": [
      "25\n",
      "25\n",
      "25\n",
      "25\n",
      "25\n",
      "25\n",
      "25\n",
      "25\n",
      "25\n",
      "25\n"
     ]
    }
   ],
   "source": [
    "for key in f1_dict:\n",
    "    print(len(f1_dict[key]))"
   ]
  },
  {
   "cell_type": "markdown",
   "metadata": {},
   "source": [
    "### Below are the encodings for the class variable"
   ]
  },
  {
   "cell_type": "code",
   "execution_count": 16,
   "metadata": {},
   "outputs": [
    {
     "name": "stdout",
     "output_type": "stream",
     "text": [
      "[ 0  1  2  3  4  5  6  7  8  9 10 11 12 13 14 15 16 17 18 19 20 21 22 23\n",
      " 24]\n",
      "['FH', 'ER', 'WW', 'TC', 'CS', 'KQ', 'AR', 'SL', 'FG', 'WB', 'BX', 'PF', 'WH', 'SQ', 'WN', 'BH', 'PH', 'LB', 'AB', 'LV', 'SE', 'BA', 'SV', 'WA', 'MM']\n"
     ]
    }
   ],
   "source": [
    "print(train_data_formodel['class'].unique())\n",
    "print(list(uniques))"
   ]
  },
  {
   "cell_type": "code",
   "execution_count": 17,
   "metadata": {},
   "outputs": [],
   "source": [
    "f1_df_final = pd.concat([f1_df, pd.Series(uniques)], axis = 1)"
   ]
  },
  {
   "cell_type": "code",
   "execution_count": 18,
   "metadata": {},
   "outputs": [],
   "source": [
    "f1_df_final.rename(columns={0:'class'}, inplace=True)\n",
    "f1_df_final.set_index('class', drop = True, inplace = True)"
   ]
  },
  {
   "cell_type": "markdown",
   "metadata": {},
   "source": [
    "### Boxplot showing the distribution of class f1 scores from 10 models"
   ]
  },
  {
   "cell_type": "code",
   "execution_count": 19,
   "metadata": {},
   "outputs": [
    {
     "data": {
      "image/png": "[encoded data removed]",
      "text/plain": [
       "<Figure size 842.4x595.44 with 1 Axes>"
      ]
     },
     "metadata": {},
     "output_type": "display_data"
    }
   ],
   "source": [
    "sns.set(rc={'figure.figsize':(11.7,8.27)})\n",
    "plot = sns.boxplot(data = f1_df_final.T)\n",
    "plot.set_title('F1 scores for each site', fontdict={'fontsize': 14})\n",
    "plot.set_ylabel('F1 score', fontdict={'fontsize': 11})\n",
    "plot.set_xlabel(\"Bedrock site or superficial site\", fontdict={'fontsize': 11})\n",
    "\n",
    "if save_plots == True:\n",
    "    fig = plot.get_figure()\n",
    "    fig.savefig('output/site_specific_f1_scores.png')"
   ]
  },
  {
   "cell_type": "code",
   "execution_count": 20,
   "metadata": {},
   "outputs": [],
   "source": [
    "#pd.DataFrame(data = f1_df_final.T.median()).to_csv('output/median_class_f1_scores.csv')"
   ]
  },
  {
   "cell_type": "markdown",
   "metadata": {},
   "source": [
    "### Boxplot showing the macro F1 score with weighted averages"
   ]
  },
  {
   "cell_type": "code",
   "execution_count": 21,
   "metadata": {},
   "outputs": [
    {
     "data": {
      "image/png": "[encoded data removed]",
      "text/plain": [
       "<Figure size 842.4x595.44 with 1 Axes>"
      ]
     },
     "metadata": {},
     "output_type": "display_data"
    }
   ],
   "source": [
    "plot = sns.boxplot(macro_f1_scores)\n",
    "plot.set_title('Average-weighted macro-f1 score', fontdict={'fontsize': 14})\n",
    "plot.set_xlabel(\"F1-score\", fontdict={'fontsize': 11})\n",
    "\n",
    "if save_plots == True:\n",
    "    fig = plot.get_figure()\n",
    "    fig.savefig('output/macro_f1_scores.png')"
   ]
  },
  {
   "cell_type": "code",
   "execution_count": 22,
   "metadata": {},
   "outputs": [],
   "source": [
    "#pd.Series(pd.Series(macro_f1_scores).median()).to_csv('output/median_macro_f1.csv')"
   ]
  },
  {
   "cell_type": "code",
   "execution_count": 23,
   "metadata": {},
   "outputs": [
    {
     "data": {
      "text/plain": [
       "0.7434640604741296"
      ]
     },
     "execution_count": 23,
     "metadata": {},
     "output_type": "execute_result"
    }
   ],
   "source": [
    "pd.Series(macro_f1_scores).median()"
   ]
  },
  {
   "cell_type": "markdown",
   "metadata": {},
   "source": [
    "### Boxplot showing accuracy scores"
   ]
  },
  {
   "cell_type": "code",
   "execution_count": 24,
   "metadata": {},
   "outputs": [
    {
     "data": {
      "text/plain": [
       "<matplotlib.axes._subplots.AxesSubplot at 0x7fe35fdbe668>"
      ]
     },
     "execution_count": 24,
     "metadata": {},
     "output_type": "execute_result"
    },
    {
     "data": {
      "image/png": "[encoded data removed]",
      "text/plain": [
       "<Figure size 842.4x595.44 with 1 Axes>"
      ]
     },
     "metadata": {},
     "output_type": "display_data"
    }
   ],
   "source": [
    "sns.boxplot(accuracy_scores)"
   ]
  },
  {
   "cell_type": "code",
   "execution_count": 25,
   "metadata": {},
   "outputs": [],
   "source": [
    "### Get feature importances"
   ]
  },
  {
   "cell_type": "code",
   "execution_count": 26,
   "metadata": {},
   "outputs": [
    {
     "data": {
      "text/html": [
       "<div>\n",
       "<style scoped>\n",
       "    .dataframe tbody tr th:only-of-type {\n",
       "        vertical-align: middle;\n",
       "    }\n",
       "\n",
       "    .dataframe tbody tr th {\n",
       "        vertical-align: top;\n",
       "    }\n",
       "\n",
       "    .dataframe thead th {\n",
       "        text-align: right;\n",
       "    }\n",
       "</style>\n",
       "<table border=\"1\" class=\"dataframe\">\n",
       "  <thead>\n",
       "    <tr style=\"text-align: right;\">\n",
       "      <th></th>\n",
       "      <th>round1</th>\n",
       "      <th>round2</th>\n",
       "      <th>round3</th>\n",
       "      <th>round4</th>\n",
       "      <th>round5</th>\n",
       "      <th>round6</th>\n",
       "      <th>round7</th>\n",
       "      <th>round8</th>\n",
       "      <th>round9</th>\n",
       "      <th>round10</th>\n",
       "    </tr>\n",
       "  </thead>\n",
       "  <tbody>\n",
       "    <tr>\n",
       "      <th>0</th>\n",
       "      <td>0.037558</td>\n",
       "      <td>0.036259</td>\n",
       "      <td>0.036951</td>\n",
       "      <td>0.038627</td>\n",
       "      <td>0.037392</td>\n",
       "      <td>0.036019</td>\n",
       "      <td>0.034469</td>\n",
       "      <td>0.036183</td>\n",
       "      <td>0.036147</td>\n",
       "      <td>0.035723</td>\n",
       "    </tr>\n",
       "    <tr>\n",
       "      <th>1</th>\n",
       "      <td>0.058738</td>\n",
       "      <td>0.059138</td>\n",
       "      <td>0.059962</td>\n",
       "      <td>0.064399</td>\n",
       "      <td>0.059453</td>\n",
       "      <td>0.056956</td>\n",
       "      <td>0.065212</td>\n",
       "      <td>0.059580</td>\n",
       "      <td>0.057014</td>\n",
       "      <td>0.056315</td>\n",
       "    </tr>\n",
       "    <tr>\n",
       "      <th>2</th>\n",
       "      <td>0.063139</td>\n",
       "      <td>0.067926</td>\n",
       "      <td>0.065946</td>\n",
       "      <td>0.065568</td>\n",
       "      <td>0.061573</td>\n",
       "      <td>0.067574</td>\n",
       "      <td>0.065732</td>\n",
       "      <td>0.063737</td>\n",
       "      <td>0.066773</td>\n",
       "      <td>0.069560</td>\n",
       "    </tr>\n",
       "    <tr>\n",
       "      <th>3</th>\n",
       "      <td>0.056783</td>\n",
       "      <td>0.059090</td>\n",
       "      <td>0.060462</td>\n",
       "      <td>0.058856</td>\n",
       "      <td>0.057360</td>\n",
       "      <td>0.059899</td>\n",
       "      <td>0.059234</td>\n",
       "      <td>0.056331</td>\n",
       "      <td>0.055116</td>\n",
       "      <td>0.054774</td>\n",
       "    </tr>\n",
       "    <tr>\n",
       "      <th>4</th>\n",
       "      <td>0.056216</td>\n",
       "      <td>0.058592</td>\n",
       "      <td>0.057575</td>\n",
       "      <td>0.056566</td>\n",
       "      <td>0.057684</td>\n",
       "      <td>0.058361</td>\n",
       "      <td>0.056995</td>\n",
       "      <td>0.058815</td>\n",
       "      <td>0.061285</td>\n",
       "      <td>0.058985</td>\n",
       "    </tr>\n",
       "  </tbody>\n",
       "</table>\n",
       "</div>"
      ],
      "text/plain": [
       "     round1    round2    round3    round4    round5    round6    round7  \\\n",
       "0  0.037558  0.036259  0.036951  0.038627  0.037392  0.036019  0.034469   \n",
       "1  0.058738  0.059138  0.059962  0.064399  0.059453  0.056956  0.065212   \n",
       "2  0.063139  0.067926  0.065946  0.065568  0.061573  0.067574  0.065732   \n",
       "3  0.056783  0.059090  0.060462  0.058856  0.057360  0.059899  0.059234   \n",
       "4  0.056216  0.058592  0.057575  0.056566  0.057684  0.058361  0.056995   \n",
       "\n",
       "     round8    round9   round10  \n",
       "0  0.036183  0.036147  0.035723  \n",
       "1  0.059580  0.057014  0.056315  \n",
       "2  0.063737  0.066773  0.069560  \n",
       "3  0.056331  0.055116  0.054774  \n",
       "4  0.058815  0.061285  0.058985  "
      ]
     },
     "execution_count": 26,
     "metadata": {},
     "output_type": "execute_result"
    }
   ],
   "source": [
    "feat_imp_df = pd.DataFrame(data = feat_imp_dict)\n",
    "feat_imp_df.head()"
   ]
  },
  {
   "cell_type": "code",
   "execution_count": 27,
   "metadata": {},
   "outputs": [
    {
     "data": {
      "text/html": [
       "<div>\n",
       "<style scoped>\n",
       "    .dataframe tbody tr th:only-of-type {\n",
       "        vertical-align: middle;\n",
       "    }\n",
       "\n",
       "    .dataframe tbody tr th {\n",
       "        vertical-align: top;\n",
       "    }\n",
       "\n",
       "    .dataframe thead th {\n",
       "        text-align: right;\n",
       "    }\n",
       "</style>\n",
       "<table border=\"1\" class=\"dataframe\">\n",
       "  <thead>\n",
       "    <tr style=\"text-align: right;\">\n",
       "      <th></th>\n",
       "      <th>round1</th>\n",
       "      <th>round2</th>\n",
       "      <th>round3</th>\n",
       "      <th>round4</th>\n",
       "      <th>round5</th>\n",
       "      <th>round6</th>\n",
       "      <th>round7</th>\n",
       "      <th>round8</th>\n",
       "      <th>round9</th>\n",
       "      <th>round10</th>\n",
       "      <th>element</th>\n",
       "    </tr>\n",
       "  </thead>\n",
       "  <tbody>\n",
       "    <tr>\n",
       "      <th>0</th>\n",
       "      <td>0.037558</td>\n",
       "      <td>0.036259</td>\n",
       "      <td>0.036951</td>\n",
       "      <td>0.038627</td>\n",
       "      <td>0.037392</td>\n",
       "      <td>0.036019</td>\n",
       "      <td>0.034469</td>\n",
       "      <td>0.036183</td>\n",
       "      <td>0.036147</td>\n",
       "      <td>0.035723</td>\n",
       "      <td>Li7</td>\n",
       "    </tr>\n",
       "    <tr>\n",
       "      <th>1</th>\n",
       "      <td>0.058738</td>\n",
       "      <td>0.059138</td>\n",
       "      <td>0.059962</td>\n",
       "      <td>0.064399</td>\n",
       "      <td>0.059453</td>\n",
       "      <td>0.056956</td>\n",
       "      <td>0.065212</td>\n",
       "      <td>0.059580</td>\n",
       "      <td>0.057014</td>\n",
       "      <td>0.056315</td>\n",
       "      <td>Be9</td>\n",
       "    </tr>\n",
       "    <tr>\n",
       "      <th>2</th>\n",
       "      <td>0.063139</td>\n",
       "      <td>0.067926</td>\n",
       "      <td>0.065946</td>\n",
       "      <td>0.065568</td>\n",
       "      <td>0.061573</td>\n",
       "      <td>0.067574</td>\n",
       "      <td>0.065732</td>\n",
       "      <td>0.063737</td>\n",
       "      <td>0.066773</td>\n",
       "      <td>0.069560</td>\n",
       "      <td>B11</td>\n",
       "    </tr>\n",
       "    <tr>\n",
       "      <th>3</th>\n",
       "      <td>0.056783</td>\n",
       "      <td>0.059090</td>\n",
       "      <td>0.060462</td>\n",
       "      <td>0.058856</td>\n",
       "      <td>0.057360</td>\n",
       "      <td>0.059899</td>\n",
       "      <td>0.059234</td>\n",
       "      <td>0.056331</td>\n",
       "      <td>0.055116</td>\n",
       "      <td>0.054774</td>\n",
       "      <td>Mg24</td>\n",
       "    </tr>\n",
       "    <tr>\n",
       "      <th>4</th>\n",
       "      <td>0.056216</td>\n",
       "      <td>0.058592</td>\n",
       "      <td>0.057575</td>\n",
       "      <td>0.056566</td>\n",
       "      <td>0.057684</td>\n",
       "      <td>0.058361</td>\n",
       "      <td>0.056995</td>\n",
       "      <td>0.058815</td>\n",
       "      <td>0.061285</td>\n",
       "      <td>0.058985</td>\n",
       "      <td>Al27</td>\n",
       "    </tr>\n",
       "  </tbody>\n",
       "</table>\n",
       "</div>"
      ],
      "text/plain": [
       "     round1    round2    round3    round4    round5    round6    round7  \\\n",
       "0  0.037558  0.036259  0.036951  0.038627  0.037392  0.036019  0.034469   \n",
       "1  0.058738  0.059138  0.059962  0.064399  0.059453  0.056956  0.065212   \n",
       "2  0.063139  0.067926  0.065946  0.065568  0.061573  0.067574  0.065732   \n",
       "3  0.056783  0.059090  0.060462  0.058856  0.057360  0.059899  0.059234   \n",
       "4  0.056216  0.058592  0.057575  0.056566  0.057684  0.058361  0.056995   \n",
       "\n",
       "     round8    round9   round10 element  \n",
       "0  0.036183  0.036147  0.035723     Li7  \n",
       "1  0.059580  0.057014  0.056315     Be9  \n",
       "2  0.063737  0.066773  0.069560     B11  \n",
       "3  0.056331  0.055116  0.054774    Mg24  \n",
       "4  0.058815  0.061285  0.058985    Al27  "
      ]
     },
     "execution_count": 27,
     "metadata": {},
     "output_type": "execute_result"
    }
   ],
   "source": [
    "feat_imp_df_final = pd.concat([feat_imp_df, pd.Series(my_data[my_data.columns.values[9:-1]].columns.values)], axis = 1)\n",
    "feat_imp_df_final.rename(columns = {0:'element'}, inplace = True )\n",
    "feat_imp_df_final.head()"
   ]
  },
  {
   "cell_type": "code",
   "execution_count": 28,
   "metadata": {},
   "outputs": [],
   "source": [
    "feat_imp_df_final.set_index('element', inplace=True)\n"
   ]
  },
  {
   "cell_type": "code",
   "execution_count": 29,
   "metadata": {},
   "outputs": [],
   "source": [
    "feat_imp_df_final_plot = feat_imp_df_final.T"
   ]
  },
  {
   "cell_type": "code",
   "execution_count": 30,
   "metadata": {},
   "outputs": [],
   "source": [
    "feat_imp_df_final_plot\n",
    "\n",
    "elements = feat_imp_df_final_plot.columns.values \n",
    "mean_feature_importance = []\n",
    "for col in list(feat_imp_df_final_plot.columns.values):\n",
    "    mean_feature_importance.append(feat_imp_df_final_plot[col].mean())\n",
    "    "
   ]
  },
  {
   "cell_type": "code",
   "execution_count": 31,
   "metadata": {},
   "outputs": [],
   "source": [
    "mean_feature_importance_df = pd.concat([pd.Series(elements), pd.Series(mean_feature_importance)], axis = 1)"
   ]
  },
  {
   "cell_type": "code",
   "execution_count": 32,
   "metadata": {},
   "outputs": [],
   "source": [
    "mean_feature_importance_df.rename(columns={0:'elements', 1:'mean_importance'}, inplace=True)"
   ]
  },
  {
   "cell_type": "code",
   "execution_count": 33,
   "metadata": {},
   "outputs": [],
   "source": [
    "mean_feature_importance_df.sort_values(by='mean_importance', ascending=False, inplace=True)"
   ]
  },
  {
   "cell_type": "code",
   "execution_count": 34,
   "metadata": {},
   "outputs": [],
   "source": [
    "ordered_col_names = list(mean_feature_importance_df['elements'])"
   ]
  },
  {
   "cell_type": "code",
   "execution_count": 35,
   "metadata": {},
   "outputs": [
    {
     "data": {
      "image/png": "[encoded data removed]",
      "text/plain": [
       "<Figure size 1440x1440 with 1 Axes>"
      ]
     },
     "metadata": {},
     "output_type": "display_data"
    }
   ],
   "source": [
    "sns.set_style(\"whitegrid\")\n",
    "sns.set_style()\n",
    "sns.set(rc={'figure.figsize':(20,20)})\n",
    "plot = sns.boxplot(data = feat_imp_df_final_plot[ordered_col_names])\n",
    "plot.set_xticklabels(plot.get_xticklabels(),rotation=90, ha = 'left')\n",
    "plot.set_title('Feature (element) importance', fontdict={'fontsize': 20})\n",
    "plot.set_ylabel('Feature importance', fontdict={'fontsize': 15})\n",
    "plot.set_xlabel(\"Element\", fontdict={'fontsize': 15})\n",
    "\n",
    "if save_plots == True:\n",
    "    fig = plot.get_figure()\n",
    "    fig.savefig('output/feature_importances.png')"
   ]
  },
  {
   "cell_type": "markdown",
   "metadata": {},
   "source": [
    "### Model is built for predicting source of artefacts "
   ]
  },
  {
   "cell_type": "code",
   "execution_count": 36,
   "metadata": {},
   "outputs": [],
   "source": [
    "esti_final = RandomForestClassifier(n_estimators=2000, random_state = random_seed_state)"
   ]
  },
  {
   "cell_type": "code",
   "execution_count": 37,
   "metadata": {},
   "outputs": [
    {
     "data": {
      "text/plain": [
       "RandomForestClassifier(bootstrap=True, class_weight=None, criterion='gini',\n",
       "            max_depth=None, max_features='auto', max_leaf_nodes=None,\n",
       "            min_impurity_decrease=0.0, min_impurity_split=None,\n",
       "            min_samples_leaf=1, min_samples_split=2,\n",
       "            min_weight_fraction_leaf=0.0, n_estimators=2000, n_jobs=None,\n",
       "            oob_score=False, random_state=42, verbose=0, warm_start=False)"
      ]
     },
     "execution_count": 37,
     "metadata": {},
     "output_type": "execute_result"
    }
   ],
   "source": [
    "esti_final.fit(X, y)"
   ]
  },
  {
   "cell_type": "code",
   "execution_count": 38,
   "metadata": {},
   "outputs": [],
   "source": [
    "if pickle_model == True:\n",
    "    pickle.dump(esti_final, open(pickle_file_path+'.sav', 'wb'))"
   ]
  },
  {
   "cell_type": "code",
   "execution_count": 39,
   "metadata": {},
   "outputs": [
    {
     "name": "stdout",
     "output_type": "stream",
     "text": [
      "[ 0  1  2  3  4  5  6  7  8  9 10 11 12 13 14 15 16 17 18 19 20 21 22 23\n",
      " 24]\n",
      "Index(['FH', 'ER', 'WW', 'TC', 'CS', 'KQ', 'AR', 'SL', 'FG', 'WB', 'BX', 'PF',\n",
      "       'WH', 'SQ', 'WN', 'BH', 'PH', 'LB', 'AB', 'LV', 'SE', 'BA', 'SV', 'WA',\n",
      "       'MM'],\n",
      "      dtype='object')\n"
     ]
    }
   ],
   "source": [
    "print(train_data_formodel['class'].unique())\n",
    "print(uniques)"
   ]
  },
  {
   "cell_type": "code",
   "execution_count": 40,
   "metadata": {},
   "outputs": [],
   "source": [
    "identifiers =  X_test_labeled_df['Analysis']"
   ]
  },
  {
   "cell_type": "markdown",
   "metadata": {},
   "source": [
    "### Predictions are made for the artefacts"
   ]
  },
  {
   "cell_type": "code",
   "execution_count": 41,
   "metadata": {},
   "outputs": [
    {
     "data": {
      "text/plain": [
       "array(['Zr90', 'Nd146', 'Ba137', 'Sr88', 'Rb85', 'Ge72', 'Fe56', 'Cr52',\n",
       "       'Sc45', 'U238', 'Ca42', 'B11', 'S33', 'P31', 'Mg24', 'Al27'],\n",
       "      dtype=object)"
      ]
     },
     "execution_count": 41,
     "metadata": {},
     "output_type": "execute_result"
    }
   ],
   "source": [
    "X_test_labeled_df.columns.values[1:-1]"
   ]
  },
  {
   "cell_type": "code",
   "execution_count": 42,
   "metadata": {},
   "outputs": [],
   "source": [
    "y_pred = esti_final.predict(np.array(X_test_labeled_df[X_test_labeled_df.columns.values[1:-1]]))\n",
    "\n",
    "y_pred_proba = esti_final.predict_proba(np.array(X_test_labeled_df[X_test_labeled_df.columns.values[1:-1]]))\n"
   ]
  },
  {
   "cell_type": "code",
   "execution_count": 43,
   "metadata": {},
   "outputs": [],
   "source": [
    "probabilities_df = pd.DataFrame(data = y_pred_proba, columns = uniques)\n",
    "probabilities_df_final = pd.concat([probabilities_df, identifiers], axis = 1)"
   ]
  },
  {
   "cell_type": "code",
   "execution_count": 44,
   "metadata": {},
   "outputs": [
    {
     "data": {
      "text/html": [
       "<div>\n",
       "<style scoped>\n",
       "    .dataframe tbody tr th:only-of-type {\n",
       "        vertical-align: middle;\n",
       "    }\n",
       "\n",
       "    .dataframe tbody tr th {\n",
       "        vertical-align: top;\n",
       "    }\n",
       "\n",
       "    .dataframe thead th {\n",
       "        text-align: right;\n",
       "    }\n",
       "</style>\n",
       "<table border=\"1\" class=\"dataframe\">\n",
       "  <thead>\n",
       "    <tr style=\"text-align: right;\">\n",
       "      <th></th>\n",
       "      <th>FH</th>\n",
       "      <th>ER</th>\n",
       "      <th>WW</th>\n",
       "      <th>TC</th>\n",
       "      <th>CS</th>\n",
       "      <th>KQ</th>\n",
       "      <th>AR</th>\n",
       "      <th>SL</th>\n",
       "      <th>FG</th>\n",
       "      <th>WB</th>\n",
       "      <th>BX</th>\n",
       "      <th>PF</th>\n",
       "      <th>WH</th>\n",
       "      <th>SQ</th>\n",
       "      <th>WN</th>\n",
       "      <th>BH</th>\n",
       "      <th>PH</th>\n",
       "      <th>LB</th>\n",
       "      <th>AB</th>\n",
       "      <th>LV</th>\n",
       "      <th>SE</th>\n",
       "      <th>BA</th>\n",
       "      <th>SV</th>\n",
       "      <th>WA</th>\n",
       "      <th>MM</th>\n",
       "      <th>Analysis</th>\n",
       "    </tr>\n",
       "  </thead>\n",
       "  <tbody>\n",
       "    <tr>\n",
       "      <th>0</th>\n",
       "      <td>0.0025</td>\n",
       "      <td>0.0080</td>\n",
       "      <td>0.005</td>\n",
       "      <td>0.0335</td>\n",
       "      <td>0.0060</td>\n",
       "      <td>0.0510</td>\n",
       "      <td>0.0080</td>\n",
       "      <td>0.013</td>\n",
       "      <td>0.0095</td>\n",
       "      <td>0.0075</td>\n",
       "      <td>0.0015</td>\n",
       "      <td>0.0010</td>\n",
       "      <td>0.0030</td>\n",
       "      <td>0.0170</td>\n",
       "      <td>0.0070</td>\n",
       "      <td>0.0170</td>\n",
       "      <td>0.1010</td>\n",
       "      <td>0.0235</td>\n",
       "      <td>0.0710</td>\n",
       "      <td>0.0670</td>\n",
       "      <td>0.0645</td>\n",
       "      <td>0.1455</td>\n",
       "      <td>0.1555</td>\n",
       "      <td>0.1190</td>\n",
       "      <td>0.0625</td>\n",
       "      <td>06_DH1_1</td>\n",
       "    </tr>\n",
       "    <tr>\n",
       "      <th>1</th>\n",
       "      <td>0.0015</td>\n",
       "      <td>0.0060</td>\n",
       "      <td>0.003</td>\n",
       "      <td>0.0275</td>\n",
       "      <td>0.0070</td>\n",
       "      <td>0.0680</td>\n",
       "      <td>0.0110</td>\n",
       "      <td>0.011</td>\n",
       "      <td>0.0100</td>\n",
       "      <td>0.0055</td>\n",
       "      <td>0.0015</td>\n",
       "      <td>0.0025</td>\n",
       "      <td>0.0010</td>\n",
       "      <td>0.0175</td>\n",
       "      <td>0.0065</td>\n",
       "      <td>0.0390</td>\n",
       "      <td>0.1110</td>\n",
       "      <td>0.0230</td>\n",
       "      <td>0.0630</td>\n",
       "      <td>0.0650</td>\n",
       "      <td>0.0745</td>\n",
       "      <td>0.1785</td>\n",
       "      <td>0.1170</td>\n",
       "      <td>0.1035</td>\n",
       "      <td>0.0460</td>\n",
       "      <td>07_DH1_2</td>\n",
       "    </tr>\n",
       "    <tr>\n",
       "      <th>2</th>\n",
       "      <td>0.0035</td>\n",
       "      <td>0.0115</td>\n",
       "      <td>0.010</td>\n",
       "      <td>0.0330</td>\n",
       "      <td>0.0060</td>\n",
       "      <td>0.0520</td>\n",
       "      <td>0.0070</td>\n",
       "      <td>0.008</td>\n",
       "      <td>0.0070</td>\n",
       "      <td>0.0090</td>\n",
       "      <td>0.0005</td>\n",
       "      <td>0.0010</td>\n",
       "      <td>0.0025</td>\n",
       "      <td>0.0145</td>\n",
       "      <td>0.0070</td>\n",
       "      <td>0.0295</td>\n",
       "      <td>0.0765</td>\n",
       "      <td>0.0135</td>\n",
       "      <td>0.0695</td>\n",
       "      <td>0.0690</td>\n",
       "      <td>0.0465</td>\n",
       "      <td>0.1510</td>\n",
       "      <td>0.2135</td>\n",
       "      <td>0.0875</td>\n",
       "      <td>0.0710</td>\n",
       "      <td>08_DH1_3</td>\n",
       "    </tr>\n",
       "    <tr>\n",
       "      <th>3</th>\n",
       "      <td>0.0175</td>\n",
       "      <td>0.0225</td>\n",
       "      <td>0.069</td>\n",
       "      <td>0.0115</td>\n",
       "      <td>0.0005</td>\n",
       "      <td>0.0335</td>\n",
       "      <td>0.0020</td>\n",
       "      <td>0.006</td>\n",
       "      <td>0.0200</td>\n",
       "      <td>0.0020</td>\n",
       "      <td>0.0015</td>\n",
       "      <td>0.0105</td>\n",
       "      <td>0.0000</td>\n",
       "      <td>0.0030</td>\n",
       "      <td>0.0045</td>\n",
       "      <td>0.0100</td>\n",
       "      <td>0.0375</td>\n",
       "      <td>0.0060</td>\n",
       "      <td>0.0365</td>\n",
       "      <td>0.0405</td>\n",
       "      <td>0.0205</td>\n",
       "      <td>0.2060</td>\n",
       "      <td>0.2290</td>\n",
       "      <td>0.1405</td>\n",
       "      <td>0.0695</td>\n",
       "      <td>09_DH2_1</td>\n",
       "    </tr>\n",
       "    <tr>\n",
       "      <th>4</th>\n",
       "      <td>0.0230</td>\n",
       "      <td>0.0150</td>\n",
       "      <td>0.026</td>\n",
       "      <td>0.0145</td>\n",
       "      <td>0.0000</td>\n",
       "      <td>0.0175</td>\n",
       "      <td>0.0025</td>\n",
       "      <td>0.012</td>\n",
       "      <td>0.0105</td>\n",
       "      <td>0.0045</td>\n",
       "      <td>0.0015</td>\n",
       "      <td>0.0085</td>\n",
       "      <td>0.0005</td>\n",
       "      <td>0.0035</td>\n",
       "      <td>0.0065</td>\n",
       "      <td>0.0125</td>\n",
       "      <td>0.0715</td>\n",
       "      <td>0.0080</td>\n",
       "      <td>0.0335</td>\n",
       "      <td>0.0490</td>\n",
       "      <td>0.0350</td>\n",
       "      <td>0.2150</td>\n",
       "      <td>0.1365</td>\n",
       "      <td>0.2150</td>\n",
       "      <td>0.0780</td>\n",
       "      <td>10_DH2_2</td>\n",
       "    </tr>\n",
       "  </tbody>\n",
       "</table>\n",
       "</div>"
      ],
      "text/plain": [
       "       FH      ER     WW      TC      CS      KQ      AR     SL      FG  \\\n",
       "0  0.0025  0.0080  0.005  0.0335  0.0060  0.0510  0.0080  0.013  0.0095   \n",
       "1  0.0015  0.0060  0.003  0.0275  0.0070  0.0680  0.0110  0.011  0.0100   \n",
       "2  0.0035  0.0115  0.010  0.0330  0.0060  0.0520  0.0070  0.008  0.0070   \n",
       "3  0.0175  0.0225  0.069  0.0115  0.0005  0.0335  0.0020  0.006  0.0200   \n",
       "4  0.0230  0.0150  0.026  0.0145  0.0000  0.0175  0.0025  0.012  0.0105   \n",
       "\n",
       "       WB      BX      PF      WH      SQ      WN      BH      PH      LB  \\\n",
       "0  0.0075  0.0015  0.0010  0.0030  0.0170  0.0070  0.0170  0.1010  0.0235   \n",
       "1  0.0055  0.0015  0.0025  0.0010  0.0175  0.0065  0.0390  0.1110  0.0230   \n",
       "2  0.0090  0.0005  0.0010  0.0025  0.0145  0.0070  0.0295  0.0765  0.0135   \n",
       "3  0.0020  0.0015  0.0105  0.0000  0.0030  0.0045  0.0100  0.0375  0.0060   \n",
       "4  0.0045  0.0015  0.0085  0.0005  0.0035  0.0065  0.0125  0.0715  0.0080   \n",
       "\n",
       "       AB      LV      SE      BA      SV      WA      MM  Analysis  \n",
       "0  0.0710  0.0670  0.0645  0.1455  0.1555  0.1190  0.0625  06_DH1_1  \n",
       "1  0.0630  0.0650  0.0745  0.1785  0.1170  0.1035  0.0460  07_DH1_2  \n",
       "2  0.0695  0.0690  0.0465  0.1510  0.2135  0.0875  0.0710  08_DH1_3  \n",
       "3  0.0365  0.0405  0.0205  0.2060  0.2290  0.1405  0.0695  09_DH2_1  \n",
       "4  0.0335  0.0490  0.0350  0.2150  0.1365  0.2150  0.0780  10_DH2_2  "
      ]
     },
     "execution_count": 44,
     "metadata": {},
     "output_type": "execute_result"
    }
   ],
   "source": [
    "probabilities_df_final.head()"
   ]
  },
  {
   "cell_type": "code",
   "execution_count": 45,
   "metadata": {},
   "outputs": [],
   "source": [
    "final_pred_df = pd.concat([pd.Series(y_pred), probabilities_df_final], axis = 1).rename(columns={0:'class_number'})"
   ]
  },
  {
   "cell_type": "code",
   "execution_count": 46,
   "metadata": {},
   "outputs": [
    {
     "data": {
      "text/html": [
       "<div>\n",
       "<style scoped>\n",
       "    .dataframe tbody tr th:only-of-type {\n",
       "        vertical-align: middle;\n",
       "    }\n",
       "\n",
       "    .dataframe tbody tr th {\n",
       "        vertical-align: top;\n",
       "    }\n",
       "\n",
       "    .dataframe thead th {\n",
       "        text-align: right;\n",
       "    }\n",
       "</style>\n",
       "<table border=\"1\" class=\"dataframe\">\n",
       "  <thead>\n",
       "    <tr style=\"text-align: right;\">\n",
       "      <th></th>\n",
       "      <th>class_number</th>\n",
       "      <th>FH</th>\n",
       "      <th>ER</th>\n",
       "      <th>WW</th>\n",
       "      <th>TC</th>\n",
       "      <th>CS</th>\n",
       "      <th>KQ</th>\n",
       "      <th>AR</th>\n",
       "      <th>SL</th>\n",
       "      <th>FG</th>\n",
       "      <th>WB</th>\n",
       "      <th>BX</th>\n",
       "      <th>PF</th>\n",
       "      <th>WH</th>\n",
       "      <th>SQ</th>\n",
       "      <th>WN</th>\n",
       "      <th>BH</th>\n",
       "      <th>PH</th>\n",
       "      <th>LB</th>\n",
       "      <th>AB</th>\n",
       "      <th>LV</th>\n",
       "      <th>SE</th>\n",
       "      <th>BA</th>\n",
       "      <th>SV</th>\n",
       "      <th>WA</th>\n",
       "      <th>MM</th>\n",
       "      <th>Analysis</th>\n",
       "    </tr>\n",
       "  </thead>\n",
       "  <tbody>\n",
       "    <tr>\n",
       "      <th>0</th>\n",
       "      <td>22</td>\n",
       "      <td>0.0025</td>\n",
       "      <td>0.0080</td>\n",
       "      <td>0.005</td>\n",
       "      <td>0.0335</td>\n",
       "      <td>0.0060</td>\n",
       "      <td>0.0510</td>\n",
       "      <td>0.0080</td>\n",
       "      <td>0.013</td>\n",
       "      <td>0.0095</td>\n",
       "      <td>0.0075</td>\n",
       "      <td>0.0015</td>\n",
       "      <td>0.0010</td>\n",
       "      <td>0.0030</td>\n",
       "      <td>0.0170</td>\n",
       "      <td>0.0070</td>\n",
       "      <td>0.0170</td>\n",
       "      <td>0.1010</td>\n",
       "      <td>0.0235</td>\n",
       "      <td>0.0710</td>\n",
       "      <td>0.0670</td>\n",
       "      <td>0.0645</td>\n",
       "      <td>0.1455</td>\n",
       "      <td>0.1555</td>\n",
       "      <td>0.1190</td>\n",
       "      <td>0.0625</td>\n",
       "      <td>06_DH1_1</td>\n",
       "    </tr>\n",
       "    <tr>\n",
       "      <th>1</th>\n",
       "      <td>21</td>\n",
       "      <td>0.0015</td>\n",
       "      <td>0.0060</td>\n",
       "      <td>0.003</td>\n",
       "      <td>0.0275</td>\n",
       "      <td>0.0070</td>\n",
       "      <td>0.0680</td>\n",
       "      <td>0.0110</td>\n",
       "      <td>0.011</td>\n",
       "      <td>0.0100</td>\n",
       "      <td>0.0055</td>\n",
       "      <td>0.0015</td>\n",
       "      <td>0.0025</td>\n",
       "      <td>0.0010</td>\n",
       "      <td>0.0175</td>\n",
       "      <td>0.0065</td>\n",
       "      <td>0.0390</td>\n",
       "      <td>0.1110</td>\n",
       "      <td>0.0230</td>\n",
       "      <td>0.0630</td>\n",
       "      <td>0.0650</td>\n",
       "      <td>0.0745</td>\n",
       "      <td>0.1785</td>\n",
       "      <td>0.1170</td>\n",
       "      <td>0.1035</td>\n",
       "      <td>0.0460</td>\n",
       "      <td>07_DH1_2</td>\n",
       "    </tr>\n",
       "    <tr>\n",
       "      <th>2</th>\n",
       "      <td>22</td>\n",
       "      <td>0.0035</td>\n",
       "      <td>0.0115</td>\n",
       "      <td>0.010</td>\n",
       "      <td>0.0330</td>\n",
       "      <td>0.0060</td>\n",
       "      <td>0.0520</td>\n",
       "      <td>0.0070</td>\n",
       "      <td>0.008</td>\n",
       "      <td>0.0070</td>\n",
       "      <td>0.0090</td>\n",
       "      <td>0.0005</td>\n",
       "      <td>0.0010</td>\n",
       "      <td>0.0025</td>\n",
       "      <td>0.0145</td>\n",
       "      <td>0.0070</td>\n",
       "      <td>0.0295</td>\n",
       "      <td>0.0765</td>\n",
       "      <td>0.0135</td>\n",
       "      <td>0.0695</td>\n",
       "      <td>0.0690</td>\n",
       "      <td>0.0465</td>\n",
       "      <td>0.1510</td>\n",
       "      <td>0.2135</td>\n",
       "      <td>0.0875</td>\n",
       "      <td>0.0710</td>\n",
       "      <td>08_DH1_3</td>\n",
       "    </tr>\n",
       "    <tr>\n",
       "      <th>3</th>\n",
       "      <td>22</td>\n",
       "      <td>0.0175</td>\n",
       "      <td>0.0225</td>\n",
       "      <td>0.069</td>\n",
       "      <td>0.0115</td>\n",
       "      <td>0.0005</td>\n",
       "      <td>0.0335</td>\n",
       "      <td>0.0020</td>\n",
       "      <td>0.006</td>\n",
       "      <td>0.0200</td>\n",
       "      <td>0.0020</td>\n",
       "      <td>0.0015</td>\n",
       "      <td>0.0105</td>\n",
       "      <td>0.0000</td>\n",
       "      <td>0.0030</td>\n",
       "      <td>0.0045</td>\n",
       "      <td>0.0100</td>\n",
       "      <td>0.0375</td>\n",
       "      <td>0.0060</td>\n",
       "      <td>0.0365</td>\n",
       "      <td>0.0405</td>\n",
       "      <td>0.0205</td>\n",
       "      <td>0.2060</td>\n",
       "      <td>0.2290</td>\n",
       "      <td>0.1405</td>\n",
       "      <td>0.0695</td>\n",
       "      <td>09_DH2_1</td>\n",
       "    </tr>\n",
       "    <tr>\n",
       "      <th>4</th>\n",
       "      <td>21</td>\n",
       "      <td>0.0230</td>\n",
       "      <td>0.0150</td>\n",
       "      <td>0.026</td>\n",
       "      <td>0.0145</td>\n",
       "      <td>0.0000</td>\n",
       "      <td>0.0175</td>\n",
       "      <td>0.0025</td>\n",
       "      <td>0.012</td>\n",
       "      <td>0.0105</td>\n",
       "      <td>0.0045</td>\n",
       "      <td>0.0015</td>\n",
       "      <td>0.0085</td>\n",
       "      <td>0.0005</td>\n",
       "      <td>0.0035</td>\n",
       "      <td>0.0065</td>\n",
       "      <td>0.0125</td>\n",
       "      <td>0.0715</td>\n",
       "      <td>0.0080</td>\n",
       "      <td>0.0335</td>\n",
       "      <td>0.0490</td>\n",
       "      <td>0.0350</td>\n",
       "      <td>0.2150</td>\n",
       "      <td>0.1365</td>\n",
       "      <td>0.2150</td>\n",
       "      <td>0.0780</td>\n",
       "      <td>10_DH2_2</td>\n",
       "    </tr>\n",
       "  </tbody>\n",
       "</table>\n",
       "</div>"
      ],
      "text/plain": [
       "   class_number      FH      ER     WW      TC      CS      KQ      AR     SL  \\\n",
       "0            22  0.0025  0.0080  0.005  0.0335  0.0060  0.0510  0.0080  0.013   \n",
       "1            21  0.0015  0.0060  0.003  0.0275  0.0070  0.0680  0.0110  0.011   \n",
       "2            22  0.0035  0.0115  0.010  0.0330  0.0060  0.0520  0.0070  0.008   \n",
       "3            22  0.0175  0.0225  0.069  0.0115  0.0005  0.0335  0.0020  0.006   \n",
       "4            21  0.0230  0.0150  0.026  0.0145  0.0000  0.0175  0.0025  0.012   \n",
       "\n",
       "       FG      WB      BX      PF      WH      SQ      WN      BH      PH  \\\n",
       "0  0.0095  0.0075  0.0015  0.0010  0.0030  0.0170  0.0070  0.0170  0.1010   \n",
       "1  0.0100  0.0055  0.0015  0.0025  0.0010  0.0175  0.0065  0.0390  0.1110   \n",
       "2  0.0070  0.0090  0.0005  0.0010  0.0025  0.0145  0.0070  0.0295  0.0765   \n",
       "3  0.0200  0.0020  0.0015  0.0105  0.0000  0.0030  0.0045  0.0100  0.0375   \n",
       "4  0.0105  0.0045  0.0015  0.0085  0.0005  0.0035  0.0065  0.0125  0.0715   \n",
       "\n",
       "       LB      AB      LV      SE      BA      SV      WA      MM  Analysis  \n",
       "0  0.0235  0.0710  0.0670  0.0645  0.1455  0.1555  0.1190  0.0625  06_DH1_1  \n",
       "1  0.0230  0.0630  0.0650  0.0745  0.1785  0.1170  0.1035  0.0460  07_DH1_2  \n",
       "2  0.0135  0.0695  0.0690  0.0465  0.1510  0.2135  0.0875  0.0710  08_DH1_3  \n",
       "3  0.0060  0.0365  0.0405  0.0205  0.2060  0.2290  0.1405  0.0695  09_DH2_1  \n",
       "4  0.0080  0.0335  0.0490  0.0350  0.2150  0.1365  0.2150  0.0780  10_DH2_2  "
      ]
     },
     "execution_count": 46,
     "metadata": {},
     "output_type": "execute_result"
    }
   ],
   "source": [
    "final_pred_df.head()"
   ]
  },
  {
   "cell_type": "markdown",
   "metadata": {},
   "source": [
    "### labels outputted by local outlier factor model are appended to predictions"
   ]
  },
  {
   "cell_type": "code",
   "execution_count": 47,
   "metadata": {},
   "outputs": [],
   "source": [
    "final_predictions_df = pd.concat([final_pred_df, X_test_labeled_df['inlierLabel']], axis = 1)"
   ]
  },
  {
   "cell_type": "code",
   "execution_count": 48,
   "metadata": {},
   "outputs": [
    {
     "data": {
      "text/html": [
       "<div>\n",
       "<style scoped>\n",
       "    .dataframe tbody tr th:only-of-type {\n",
       "        vertical-align: middle;\n",
       "    }\n",
       "\n",
       "    .dataframe tbody tr th {\n",
       "        vertical-align: top;\n",
       "    }\n",
       "\n",
       "    .dataframe thead th {\n",
       "        text-align: right;\n",
       "    }\n",
       "</style>\n",
       "<table border=\"1\" class=\"dataframe\">\n",
       "  <thead>\n",
       "    <tr style=\"text-align: right;\">\n",
       "      <th></th>\n",
       "      <th>class_number</th>\n",
       "      <th>FH</th>\n",
       "      <th>ER</th>\n",
       "      <th>WW</th>\n",
       "      <th>TC</th>\n",
       "      <th>CS</th>\n",
       "      <th>KQ</th>\n",
       "      <th>AR</th>\n",
       "      <th>SL</th>\n",
       "      <th>FG</th>\n",
       "      <th>WB</th>\n",
       "      <th>BX</th>\n",
       "      <th>PF</th>\n",
       "      <th>WH</th>\n",
       "      <th>SQ</th>\n",
       "      <th>WN</th>\n",
       "      <th>BH</th>\n",
       "      <th>PH</th>\n",
       "      <th>LB</th>\n",
       "      <th>AB</th>\n",
       "      <th>LV</th>\n",
       "      <th>SE</th>\n",
       "      <th>BA</th>\n",
       "      <th>SV</th>\n",
       "      <th>WA</th>\n",
       "      <th>MM</th>\n",
       "      <th>Analysis</th>\n",
       "      <th>inlierLabel</th>\n",
       "    </tr>\n",
       "  </thead>\n",
       "  <tbody>\n",
       "    <tr>\n",
       "      <th>0</th>\n",
       "      <td>22</td>\n",
       "      <td>0.0025</td>\n",
       "      <td>0.0080</td>\n",
       "      <td>0.005</td>\n",
       "      <td>0.0335</td>\n",
       "      <td>0.0060</td>\n",
       "      <td>0.0510</td>\n",
       "      <td>0.0080</td>\n",
       "      <td>0.013</td>\n",
       "      <td>0.0095</td>\n",
       "      <td>0.0075</td>\n",
       "      <td>0.0015</td>\n",
       "      <td>0.0010</td>\n",
       "      <td>0.0030</td>\n",
       "      <td>0.0170</td>\n",
       "      <td>0.0070</td>\n",
       "      <td>0.0170</td>\n",
       "      <td>0.1010</td>\n",
       "      <td>0.0235</td>\n",
       "      <td>0.0710</td>\n",
       "      <td>0.0670</td>\n",
       "      <td>0.0645</td>\n",
       "      <td>0.1455</td>\n",
       "      <td>0.1555</td>\n",
       "      <td>0.1190</td>\n",
       "      <td>0.0625</td>\n",
       "      <td>06_DH1_1</td>\n",
       "      <td>1</td>\n",
       "    </tr>\n",
       "    <tr>\n",
       "      <th>1</th>\n",
       "      <td>21</td>\n",
       "      <td>0.0015</td>\n",
       "      <td>0.0060</td>\n",
       "      <td>0.003</td>\n",
       "      <td>0.0275</td>\n",
       "      <td>0.0070</td>\n",
       "      <td>0.0680</td>\n",
       "      <td>0.0110</td>\n",
       "      <td>0.011</td>\n",
       "      <td>0.0100</td>\n",
       "      <td>0.0055</td>\n",
       "      <td>0.0015</td>\n",
       "      <td>0.0025</td>\n",
       "      <td>0.0010</td>\n",
       "      <td>0.0175</td>\n",
       "      <td>0.0065</td>\n",
       "      <td>0.0390</td>\n",
       "      <td>0.1110</td>\n",
       "      <td>0.0230</td>\n",
       "      <td>0.0630</td>\n",
       "      <td>0.0650</td>\n",
       "      <td>0.0745</td>\n",
       "      <td>0.1785</td>\n",
       "      <td>0.1170</td>\n",
       "      <td>0.1035</td>\n",
       "      <td>0.0460</td>\n",
       "      <td>07_DH1_2</td>\n",
       "      <td>1</td>\n",
       "    </tr>\n",
       "    <tr>\n",
       "      <th>2</th>\n",
       "      <td>22</td>\n",
       "      <td>0.0035</td>\n",
       "      <td>0.0115</td>\n",
       "      <td>0.010</td>\n",
       "      <td>0.0330</td>\n",
       "      <td>0.0060</td>\n",
       "      <td>0.0520</td>\n",
       "      <td>0.0070</td>\n",
       "      <td>0.008</td>\n",
       "      <td>0.0070</td>\n",
       "      <td>0.0090</td>\n",
       "      <td>0.0005</td>\n",
       "      <td>0.0010</td>\n",
       "      <td>0.0025</td>\n",
       "      <td>0.0145</td>\n",
       "      <td>0.0070</td>\n",
       "      <td>0.0295</td>\n",
       "      <td>0.0765</td>\n",
       "      <td>0.0135</td>\n",
       "      <td>0.0695</td>\n",
       "      <td>0.0690</td>\n",
       "      <td>0.0465</td>\n",
       "      <td>0.1510</td>\n",
       "      <td>0.2135</td>\n",
       "      <td>0.0875</td>\n",
       "      <td>0.0710</td>\n",
       "      <td>08_DH1_3</td>\n",
       "      <td>1</td>\n",
       "    </tr>\n",
       "    <tr>\n",
       "      <th>3</th>\n",
       "      <td>22</td>\n",
       "      <td>0.0175</td>\n",
       "      <td>0.0225</td>\n",
       "      <td>0.069</td>\n",
       "      <td>0.0115</td>\n",
       "      <td>0.0005</td>\n",
       "      <td>0.0335</td>\n",
       "      <td>0.0020</td>\n",
       "      <td>0.006</td>\n",
       "      <td>0.0200</td>\n",
       "      <td>0.0020</td>\n",
       "      <td>0.0015</td>\n",
       "      <td>0.0105</td>\n",
       "      <td>0.0000</td>\n",
       "      <td>0.0030</td>\n",
       "      <td>0.0045</td>\n",
       "      <td>0.0100</td>\n",
       "      <td>0.0375</td>\n",
       "      <td>0.0060</td>\n",
       "      <td>0.0365</td>\n",
       "      <td>0.0405</td>\n",
       "      <td>0.0205</td>\n",
       "      <td>0.2060</td>\n",
       "      <td>0.2290</td>\n",
       "      <td>0.1405</td>\n",
       "      <td>0.0695</td>\n",
       "      <td>09_DH2_1</td>\n",
       "      <td>1</td>\n",
       "    </tr>\n",
       "    <tr>\n",
       "      <th>4</th>\n",
       "      <td>21</td>\n",
       "      <td>0.0230</td>\n",
       "      <td>0.0150</td>\n",
       "      <td>0.026</td>\n",
       "      <td>0.0145</td>\n",
       "      <td>0.0000</td>\n",
       "      <td>0.0175</td>\n",
       "      <td>0.0025</td>\n",
       "      <td>0.012</td>\n",
       "      <td>0.0105</td>\n",
       "      <td>0.0045</td>\n",
       "      <td>0.0015</td>\n",
       "      <td>0.0085</td>\n",
       "      <td>0.0005</td>\n",
       "      <td>0.0035</td>\n",
       "      <td>0.0065</td>\n",
       "      <td>0.0125</td>\n",
       "      <td>0.0715</td>\n",
       "      <td>0.0080</td>\n",
       "      <td>0.0335</td>\n",
       "      <td>0.0490</td>\n",
       "      <td>0.0350</td>\n",
       "      <td>0.2150</td>\n",
       "      <td>0.1365</td>\n",
       "      <td>0.2150</td>\n",
       "      <td>0.0780</td>\n",
       "      <td>10_DH2_2</td>\n",
       "      <td>1</td>\n",
       "    </tr>\n",
       "  </tbody>\n",
       "</table>\n",
       "</div>"
      ],
      "text/plain": [
       "   class_number      FH      ER     WW      TC      CS      KQ      AR     SL  \\\n",
       "0            22  0.0025  0.0080  0.005  0.0335  0.0060  0.0510  0.0080  0.013   \n",
       "1            21  0.0015  0.0060  0.003  0.0275  0.0070  0.0680  0.0110  0.011   \n",
       "2            22  0.0035  0.0115  0.010  0.0330  0.0060  0.0520  0.0070  0.008   \n",
       "3            22  0.0175  0.0225  0.069  0.0115  0.0005  0.0335  0.0020  0.006   \n",
       "4            21  0.0230  0.0150  0.026  0.0145  0.0000  0.0175  0.0025  0.012   \n",
       "\n",
       "       FG      WB      BX      PF      WH      SQ      WN      BH      PH  \\\n",
       "0  0.0095  0.0075  0.0015  0.0010  0.0030  0.0170  0.0070  0.0170  0.1010   \n",
       "1  0.0100  0.0055  0.0015  0.0025  0.0010  0.0175  0.0065  0.0390  0.1110   \n",
       "2  0.0070  0.0090  0.0005  0.0010  0.0025  0.0145  0.0070  0.0295  0.0765   \n",
       "3  0.0200  0.0020  0.0015  0.0105  0.0000  0.0030  0.0045  0.0100  0.0375   \n",
       "4  0.0105  0.0045  0.0015  0.0085  0.0005  0.0035  0.0065  0.0125  0.0715   \n",
       "\n",
       "       LB      AB      LV      SE      BA      SV      WA      MM  Analysis  \\\n",
       "0  0.0235  0.0710  0.0670  0.0645  0.1455  0.1555  0.1190  0.0625  06_DH1_1   \n",
       "1  0.0230  0.0630  0.0650  0.0745  0.1785  0.1170  0.1035  0.0460  07_DH1_2   \n",
       "2  0.0135  0.0695  0.0690  0.0465  0.1510  0.2135  0.0875  0.0710  08_DH1_3   \n",
       "3  0.0060  0.0365  0.0405  0.0205  0.2060  0.2290  0.1405  0.0695  09_DH2_1   \n",
       "4  0.0080  0.0335  0.0490  0.0350  0.2150  0.1365  0.2150  0.0780  10_DH2_2   \n",
       "\n",
       "   inlierLabel  \n",
       "0            1  \n",
       "1            1  \n",
       "2            1  \n",
       "3            1  \n",
       "4            1  "
      ]
     },
     "execution_count": 48,
     "metadata": {},
     "output_type": "execute_result"
    }
   ],
   "source": [
    "final_predictions_df.head()"
   ]
  },
  {
   "cell_type": "code",
   "execution_count": 51,
   "metadata": {},
   "outputs": [],
   "source": [
    "uniques_list = list(uniques)\n",
    "def get_pred_names(row):\n",
    "    return(uniques_list[row['class_number']])\n",
    "final_predictions_df['class_predictions'] = final_predictions_df.apply(get_pred_names, axis = 1)"
   ]
  },
  {
   "cell_type": "code",
   "execution_count": 59,
   "metadata": {},
   "outputs": [
    {
     "data": {
      "text/html": [
       "<div>\n",
       "<style scoped>\n",
       "    .dataframe tbody tr th:only-of-type {\n",
       "        vertical-align: middle;\n",
       "    }\n",
       "\n",
       "    .dataframe tbody tr th {\n",
       "        vertical-align: top;\n",
       "    }\n",
       "\n",
       "    .dataframe thead th {\n",
       "        text-align: right;\n",
       "    }\n",
       "</style>\n",
       "<table border=\"1\" class=\"dataframe\">\n",
       "  <thead>\n",
       "    <tr style=\"text-align: right;\">\n",
       "      <th></th>\n",
       "      <th>class_number</th>\n",
       "      <th>FH</th>\n",
       "      <th>ER</th>\n",
       "      <th>WW</th>\n",
       "      <th>TC</th>\n",
       "      <th>CS</th>\n",
       "      <th>KQ</th>\n",
       "      <th>AR</th>\n",
       "      <th>SL</th>\n",
       "      <th>FG</th>\n",
       "      <th>WB</th>\n",
       "      <th>BX</th>\n",
       "      <th>PF</th>\n",
       "      <th>WH</th>\n",
       "      <th>SQ</th>\n",
       "      <th>WN</th>\n",
       "      <th>BH</th>\n",
       "      <th>PH</th>\n",
       "      <th>LB</th>\n",
       "      <th>AB</th>\n",
       "      <th>LV</th>\n",
       "      <th>SE</th>\n",
       "      <th>BA</th>\n",
       "      <th>SV</th>\n",
       "      <th>WA</th>\n",
       "      <th>MM</th>\n",
       "      <th>Analysis</th>\n",
       "      <th>inlierLabel</th>\n",
       "      <th>class_predictions</th>\n",
       "    </tr>\n",
       "  </thead>\n",
       "  <tbody>\n",
       "    <tr>\n",
       "      <th>0</th>\n",
       "      <td>22</td>\n",
       "      <td>0.0025</td>\n",
       "      <td>0.0080</td>\n",
       "      <td>0.005</td>\n",
       "      <td>0.0335</td>\n",
       "      <td>0.0060</td>\n",
       "      <td>0.0510</td>\n",
       "      <td>0.0080</td>\n",
       "      <td>0.013</td>\n",
       "      <td>0.0095</td>\n",
       "      <td>0.0075</td>\n",
       "      <td>0.0015</td>\n",
       "      <td>0.0010</td>\n",
       "      <td>0.0030</td>\n",
       "      <td>0.0170</td>\n",
       "      <td>0.0070</td>\n",
       "      <td>0.0170</td>\n",
       "      <td>0.1010</td>\n",
       "      <td>0.0235</td>\n",
       "      <td>0.0710</td>\n",
       "      <td>0.0670</td>\n",
       "      <td>0.0645</td>\n",
       "      <td>0.1455</td>\n",
       "      <td>0.1555</td>\n",
       "      <td>0.1190</td>\n",
       "      <td>0.0625</td>\n",
       "      <td>06_DH1_1</td>\n",
       "      <td>1</td>\n",
       "      <td>SV</td>\n",
       "    </tr>\n",
       "    <tr>\n",
       "      <th>1</th>\n",
       "      <td>21</td>\n",
       "      <td>0.0015</td>\n",
       "      <td>0.0060</td>\n",
       "      <td>0.003</td>\n",
       "      <td>0.0275</td>\n",
       "      <td>0.0070</td>\n",
       "      <td>0.0680</td>\n",
       "      <td>0.0110</td>\n",
       "      <td>0.011</td>\n",
       "      <td>0.0100</td>\n",
       "      <td>0.0055</td>\n",
       "      <td>0.0015</td>\n",
       "      <td>0.0025</td>\n",
       "      <td>0.0010</td>\n",
       "      <td>0.0175</td>\n",
       "      <td>0.0065</td>\n",
       "      <td>0.0390</td>\n",
       "      <td>0.1110</td>\n",
       "      <td>0.0230</td>\n",
       "      <td>0.0630</td>\n",
       "      <td>0.0650</td>\n",
       "      <td>0.0745</td>\n",
       "      <td>0.1785</td>\n",
       "      <td>0.1170</td>\n",
       "      <td>0.1035</td>\n",
       "      <td>0.0460</td>\n",
       "      <td>07_DH1_2</td>\n",
       "      <td>1</td>\n",
       "      <td>BA</td>\n",
       "    </tr>\n",
       "    <tr>\n",
       "      <th>2</th>\n",
       "      <td>22</td>\n",
       "      <td>0.0035</td>\n",
       "      <td>0.0115</td>\n",
       "      <td>0.010</td>\n",
       "      <td>0.0330</td>\n",
       "      <td>0.0060</td>\n",
       "      <td>0.0520</td>\n",
       "      <td>0.0070</td>\n",
       "      <td>0.008</td>\n",
       "      <td>0.0070</td>\n",
       "      <td>0.0090</td>\n",
       "      <td>0.0005</td>\n",
       "      <td>0.0010</td>\n",
       "      <td>0.0025</td>\n",
       "      <td>0.0145</td>\n",
       "      <td>0.0070</td>\n",
       "      <td>0.0295</td>\n",
       "      <td>0.0765</td>\n",
       "      <td>0.0135</td>\n",
       "      <td>0.0695</td>\n",
       "      <td>0.0690</td>\n",
       "      <td>0.0465</td>\n",
       "      <td>0.1510</td>\n",
       "      <td>0.2135</td>\n",
       "      <td>0.0875</td>\n",
       "      <td>0.0710</td>\n",
       "      <td>08_DH1_3</td>\n",
       "      <td>1</td>\n",
       "      <td>SV</td>\n",
       "    </tr>\n",
       "    <tr>\n",
       "      <th>3</th>\n",
       "      <td>22</td>\n",
       "      <td>0.0175</td>\n",
       "      <td>0.0225</td>\n",
       "      <td>0.069</td>\n",
       "      <td>0.0115</td>\n",
       "      <td>0.0005</td>\n",
       "      <td>0.0335</td>\n",
       "      <td>0.0020</td>\n",
       "      <td>0.006</td>\n",
       "      <td>0.0200</td>\n",
       "      <td>0.0020</td>\n",
       "      <td>0.0015</td>\n",
       "      <td>0.0105</td>\n",
       "      <td>0.0000</td>\n",
       "      <td>0.0030</td>\n",
       "      <td>0.0045</td>\n",
       "      <td>0.0100</td>\n",
       "      <td>0.0375</td>\n",
       "      <td>0.0060</td>\n",
       "      <td>0.0365</td>\n",
       "      <td>0.0405</td>\n",
       "      <td>0.0205</td>\n",
       "      <td>0.2060</td>\n",
       "      <td>0.2290</td>\n",
       "      <td>0.1405</td>\n",
       "      <td>0.0695</td>\n",
       "      <td>09_DH2_1</td>\n",
       "      <td>1</td>\n",
       "      <td>SV</td>\n",
       "    </tr>\n",
       "    <tr>\n",
       "      <th>4</th>\n",
       "      <td>21</td>\n",
       "      <td>0.0230</td>\n",
       "      <td>0.0150</td>\n",
       "      <td>0.026</td>\n",
       "      <td>0.0145</td>\n",
       "      <td>0.0000</td>\n",
       "      <td>0.0175</td>\n",
       "      <td>0.0025</td>\n",
       "      <td>0.012</td>\n",
       "      <td>0.0105</td>\n",
       "      <td>0.0045</td>\n",
       "      <td>0.0015</td>\n",
       "      <td>0.0085</td>\n",
       "      <td>0.0005</td>\n",
       "      <td>0.0035</td>\n",
       "      <td>0.0065</td>\n",
       "      <td>0.0125</td>\n",
       "      <td>0.0715</td>\n",
       "      <td>0.0080</td>\n",
       "      <td>0.0335</td>\n",
       "      <td>0.0490</td>\n",
       "      <td>0.0350</td>\n",
       "      <td>0.2150</td>\n",
       "      <td>0.1365</td>\n",
       "      <td>0.2150</td>\n",
       "      <td>0.0780</td>\n",
       "      <td>10_DH2_2</td>\n",
       "      <td>1</td>\n",
       "      <td>BA</td>\n",
       "    </tr>\n",
       "  </tbody>\n",
       "</table>\n",
       "</div>"
      ],
      "text/plain": [
       "   class_number      FH      ER     WW      TC      CS      KQ      AR     SL  \\\n",
       "0            22  0.0025  0.0080  0.005  0.0335  0.0060  0.0510  0.0080  0.013   \n",
       "1            21  0.0015  0.0060  0.003  0.0275  0.0070  0.0680  0.0110  0.011   \n",
       "2            22  0.0035  0.0115  0.010  0.0330  0.0060  0.0520  0.0070  0.008   \n",
       "3            22  0.0175  0.0225  0.069  0.0115  0.0005  0.0335  0.0020  0.006   \n",
       "4            21  0.0230  0.0150  0.026  0.0145  0.0000  0.0175  0.0025  0.012   \n",
       "\n",
       "       FG      WB      BX      PF      WH      SQ      WN      BH      PH  \\\n",
       "0  0.0095  0.0075  0.0015  0.0010  0.0030  0.0170  0.0070  0.0170  0.1010   \n",
       "1  0.0100  0.0055  0.0015  0.0025  0.0010  0.0175  0.0065  0.0390  0.1110   \n",
       "2  0.0070  0.0090  0.0005  0.0010  0.0025  0.0145  0.0070  0.0295  0.0765   \n",
       "3  0.0200  0.0020  0.0015  0.0105  0.0000  0.0030  0.0045  0.0100  0.0375   \n",
       "4  0.0105  0.0045  0.0015  0.0085  0.0005  0.0035  0.0065  0.0125  0.0715   \n",
       "\n",
       "       LB      AB      LV      SE      BA      SV      WA      MM  Analysis  \\\n",
       "0  0.0235  0.0710  0.0670  0.0645  0.1455  0.1555  0.1190  0.0625  06_DH1_1   \n",
       "1  0.0230  0.0630  0.0650  0.0745  0.1785  0.1170  0.1035  0.0460  07_DH1_2   \n",
       "2  0.0135  0.0695  0.0690  0.0465  0.1510  0.2135  0.0875  0.0710  08_DH1_3   \n",
       "3  0.0060  0.0365  0.0405  0.0205  0.2060  0.2290  0.1405  0.0695  09_DH2_1   \n",
       "4  0.0080  0.0335  0.0490  0.0350  0.2150  0.1365  0.2150  0.0780  10_DH2_2   \n",
       "\n",
       "   inlierLabel class_predictions  \n",
       "0            1                SV  \n",
       "1            1                BA  \n",
       "2            1                SV  \n",
       "3            1                SV  \n",
       "4            1                BA  "
      ]
     },
     "execution_count": 59,
     "metadata": {},
     "output_type": "execute_result"
    }
   ],
   "source": [
    "final_predictions_df.head()"
   ]
  },
  {
   "cell_type": "markdown",
   "metadata": {},
   "source": [
    "### final predictions including assignments from local outlier factor model are added"
   ]
  },
  {
   "cell_type": "code",
   "execution_count": 53,
   "metadata": {},
   "outputs": [
    {
     "name": "stderr",
     "output_type": "stream",
     "text": [
      "Pandas Apply: 100%|██████████| 363/363 [00:00<00:00, 27478.07it/s]\n"
     ]
    }
   ],
   "source": [
    "def outlierAssigner(row):\n",
    "    if row['inlierLabel'] == -1:\n",
    "        return('other')\n",
    "    else:\n",
    "        return(row['class_predictions'])\n",
    "    \n",
    "final_predictions_df['class_predictions'] = final_predictions_df.swifter.apply(outlierAssigner, axis = 1)"
   ]
  },
  {
   "cell_type": "code",
   "execution_count": 56,
   "metadata": {},
   "outputs": [
    {
     "data": {
      "text/html": [
       "<div>\n",
       "<style scoped>\n",
       "    .dataframe tbody tr th:only-of-type {\n",
       "        vertical-align: middle;\n",
       "    }\n",
       "\n",
       "    .dataframe tbody tr th {\n",
       "        vertical-align: top;\n",
       "    }\n",
       "\n",
       "    .dataframe thead th {\n",
       "        text-align: right;\n",
       "    }\n",
       "</style>\n",
       "<table border=\"1\" class=\"dataframe\">\n",
       "  <thead>\n",
       "    <tr style=\"text-align: right;\">\n",
       "      <th></th>\n",
       "      <th>class_number</th>\n",
       "      <th>FH</th>\n",
       "      <th>ER</th>\n",
       "      <th>WW</th>\n",
       "      <th>TC</th>\n",
       "      <th>CS</th>\n",
       "      <th>KQ</th>\n",
       "      <th>AR</th>\n",
       "      <th>SL</th>\n",
       "      <th>FG</th>\n",
       "      <th>WB</th>\n",
       "      <th>BX</th>\n",
       "      <th>PF</th>\n",
       "      <th>WH</th>\n",
       "      <th>SQ</th>\n",
       "      <th>WN</th>\n",
       "      <th>BH</th>\n",
       "      <th>PH</th>\n",
       "      <th>LB</th>\n",
       "      <th>AB</th>\n",
       "      <th>LV</th>\n",
       "      <th>SE</th>\n",
       "      <th>BA</th>\n",
       "      <th>SV</th>\n",
       "      <th>WA</th>\n",
       "      <th>MM</th>\n",
       "      <th>Analysis</th>\n",
       "      <th>inlierLabel</th>\n",
       "      <th>class_predictions</th>\n",
       "    </tr>\n",
       "  </thead>\n",
       "  <tbody>\n",
       "    <tr>\n",
       "      <th>0</th>\n",
       "      <td>22</td>\n",
       "      <td>0.0025</td>\n",
       "      <td>0.0080</td>\n",
       "      <td>0.005</td>\n",
       "      <td>0.0335</td>\n",
       "      <td>0.0060</td>\n",
       "      <td>0.0510</td>\n",
       "      <td>0.0080</td>\n",
       "      <td>0.013</td>\n",
       "      <td>0.0095</td>\n",
       "      <td>0.0075</td>\n",
       "      <td>0.0015</td>\n",
       "      <td>0.0010</td>\n",
       "      <td>0.0030</td>\n",
       "      <td>0.0170</td>\n",
       "      <td>0.0070</td>\n",
       "      <td>0.0170</td>\n",
       "      <td>0.1010</td>\n",
       "      <td>0.0235</td>\n",
       "      <td>0.0710</td>\n",
       "      <td>0.0670</td>\n",
       "      <td>0.0645</td>\n",
       "      <td>0.1455</td>\n",
       "      <td>0.1555</td>\n",
       "      <td>0.1190</td>\n",
       "      <td>0.0625</td>\n",
       "      <td>06_DH1_1</td>\n",
       "      <td>1</td>\n",
       "      <td>SV</td>\n",
       "    </tr>\n",
       "    <tr>\n",
       "      <th>1</th>\n",
       "      <td>21</td>\n",
       "      <td>0.0015</td>\n",
       "      <td>0.0060</td>\n",
       "      <td>0.003</td>\n",
       "      <td>0.0275</td>\n",
       "      <td>0.0070</td>\n",
       "      <td>0.0680</td>\n",
       "      <td>0.0110</td>\n",
       "      <td>0.011</td>\n",
       "      <td>0.0100</td>\n",
       "      <td>0.0055</td>\n",
       "      <td>0.0015</td>\n",
       "      <td>0.0025</td>\n",
       "      <td>0.0010</td>\n",
       "      <td>0.0175</td>\n",
       "      <td>0.0065</td>\n",
       "      <td>0.0390</td>\n",
       "      <td>0.1110</td>\n",
       "      <td>0.0230</td>\n",
       "      <td>0.0630</td>\n",
       "      <td>0.0650</td>\n",
       "      <td>0.0745</td>\n",
       "      <td>0.1785</td>\n",
       "      <td>0.1170</td>\n",
       "      <td>0.1035</td>\n",
       "      <td>0.0460</td>\n",
       "      <td>07_DH1_2</td>\n",
       "      <td>1</td>\n",
       "      <td>BA</td>\n",
       "    </tr>\n",
       "    <tr>\n",
       "      <th>2</th>\n",
       "      <td>22</td>\n",
       "      <td>0.0035</td>\n",
       "      <td>0.0115</td>\n",
       "      <td>0.010</td>\n",
       "      <td>0.0330</td>\n",
       "      <td>0.0060</td>\n",
       "      <td>0.0520</td>\n",
       "      <td>0.0070</td>\n",
       "      <td>0.008</td>\n",
       "      <td>0.0070</td>\n",
       "      <td>0.0090</td>\n",
       "      <td>0.0005</td>\n",
       "      <td>0.0010</td>\n",
       "      <td>0.0025</td>\n",
       "      <td>0.0145</td>\n",
       "      <td>0.0070</td>\n",
       "      <td>0.0295</td>\n",
       "      <td>0.0765</td>\n",
       "      <td>0.0135</td>\n",
       "      <td>0.0695</td>\n",
       "      <td>0.0690</td>\n",
       "      <td>0.0465</td>\n",
       "      <td>0.1510</td>\n",
       "      <td>0.2135</td>\n",
       "      <td>0.0875</td>\n",
       "      <td>0.0710</td>\n",
       "      <td>08_DH1_3</td>\n",
       "      <td>1</td>\n",
       "      <td>SV</td>\n",
       "    </tr>\n",
       "    <tr>\n",
       "      <th>3</th>\n",
       "      <td>22</td>\n",
       "      <td>0.0175</td>\n",
       "      <td>0.0225</td>\n",
       "      <td>0.069</td>\n",
       "      <td>0.0115</td>\n",
       "      <td>0.0005</td>\n",
       "      <td>0.0335</td>\n",
       "      <td>0.0020</td>\n",
       "      <td>0.006</td>\n",
       "      <td>0.0200</td>\n",
       "      <td>0.0020</td>\n",
       "      <td>0.0015</td>\n",
       "      <td>0.0105</td>\n",
       "      <td>0.0000</td>\n",
       "      <td>0.0030</td>\n",
       "      <td>0.0045</td>\n",
       "      <td>0.0100</td>\n",
       "      <td>0.0375</td>\n",
       "      <td>0.0060</td>\n",
       "      <td>0.0365</td>\n",
       "      <td>0.0405</td>\n",
       "      <td>0.0205</td>\n",
       "      <td>0.2060</td>\n",
       "      <td>0.2290</td>\n",
       "      <td>0.1405</td>\n",
       "      <td>0.0695</td>\n",
       "      <td>09_DH2_1</td>\n",
       "      <td>1</td>\n",
       "      <td>SV</td>\n",
       "    </tr>\n",
       "    <tr>\n",
       "      <th>4</th>\n",
       "      <td>21</td>\n",
       "      <td>0.0230</td>\n",
       "      <td>0.0150</td>\n",
       "      <td>0.026</td>\n",
       "      <td>0.0145</td>\n",
       "      <td>0.0000</td>\n",
       "      <td>0.0175</td>\n",
       "      <td>0.0025</td>\n",
       "      <td>0.012</td>\n",
       "      <td>0.0105</td>\n",
       "      <td>0.0045</td>\n",
       "      <td>0.0015</td>\n",
       "      <td>0.0085</td>\n",
       "      <td>0.0005</td>\n",
       "      <td>0.0035</td>\n",
       "      <td>0.0065</td>\n",
       "      <td>0.0125</td>\n",
       "      <td>0.0715</td>\n",
       "      <td>0.0080</td>\n",
       "      <td>0.0335</td>\n",
       "      <td>0.0490</td>\n",
       "      <td>0.0350</td>\n",
       "      <td>0.2150</td>\n",
       "      <td>0.1365</td>\n",
       "      <td>0.2150</td>\n",
       "      <td>0.0780</td>\n",
       "      <td>10_DH2_2</td>\n",
       "      <td>1</td>\n",
       "      <td>BA</td>\n",
       "    </tr>\n",
       "  </tbody>\n",
       "</table>\n",
       "</div>"
      ],
      "text/plain": [
       "   class_number      FH      ER     WW      TC      CS      KQ      AR     SL  \\\n",
       "0            22  0.0025  0.0080  0.005  0.0335  0.0060  0.0510  0.0080  0.013   \n",
       "1            21  0.0015  0.0060  0.003  0.0275  0.0070  0.0680  0.0110  0.011   \n",
       "2            22  0.0035  0.0115  0.010  0.0330  0.0060  0.0520  0.0070  0.008   \n",
       "3            22  0.0175  0.0225  0.069  0.0115  0.0005  0.0335  0.0020  0.006   \n",
       "4            21  0.0230  0.0150  0.026  0.0145  0.0000  0.0175  0.0025  0.012   \n",
       "\n",
       "       FG      WB      BX      PF      WH      SQ      WN      BH      PH  \\\n",
       "0  0.0095  0.0075  0.0015  0.0010  0.0030  0.0170  0.0070  0.0170  0.1010   \n",
       "1  0.0100  0.0055  0.0015  0.0025  0.0010  0.0175  0.0065  0.0390  0.1110   \n",
       "2  0.0070  0.0090  0.0005  0.0010  0.0025  0.0145  0.0070  0.0295  0.0765   \n",
       "3  0.0200  0.0020  0.0015  0.0105  0.0000  0.0030  0.0045  0.0100  0.0375   \n",
       "4  0.0105  0.0045  0.0015  0.0085  0.0005  0.0035  0.0065  0.0125  0.0715   \n",
       "\n",
       "       LB      AB      LV      SE      BA      SV      WA      MM  Analysis  \\\n",
       "0  0.0235  0.0710  0.0670  0.0645  0.1455  0.1555  0.1190  0.0625  06_DH1_1   \n",
       "1  0.0230  0.0630  0.0650  0.0745  0.1785  0.1170  0.1035  0.0460  07_DH1_2   \n",
       "2  0.0135  0.0695  0.0690  0.0465  0.1510  0.2135  0.0875  0.0710  08_DH1_3   \n",
       "3  0.0060  0.0365  0.0405  0.0205  0.2060  0.2290  0.1405  0.0695  09_DH2_1   \n",
       "4  0.0080  0.0335  0.0490  0.0350  0.2150  0.1365  0.2150  0.0780  10_DH2_2   \n",
       "\n",
       "   inlierLabel class_predictions  \n",
       "0            1                SV  \n",
       "1            1                BA  \n",
       "2            1                SV  \n",
       "3            1                SV  \n",
       "4            1                BA  "
      ]
     },
     "execution_count": 56,
     "metadata": {},
     "output_type": "execute_result"
    }
   ],
   "source": [
    "final_predictions_df.head()"
   ]
  },
  {
   "cell_type": "markdown",
   "metadata": {},
   "source": [
    "### predictions are stored as a variable into memory"
   ]
  },
  {
   "cell_type": "code",
   "execution_count": 58,
   "metadata": {},
   "outputs": [
    {
     "name": "stdout",
     "output_type": "stream",
     "text": [
      "Stored 'final_predictions_df' (DataFrame)\n"
     ]
    }
   ],
   "source": [
    "%store final_predictions_df"
   ]
  },
  {
   "cell_type": "markdown",
   "metadata": {},
   "source": [
    "### predictions are outputted as csv file"
   ]
  },
  {
   "cell_type": "code",
   "execution_count": 50,
   "metadata": {},
   "outputs": [
    {
     "ename": "FileNotFoundError",
     "evalue": "[Errno 2] No such file or directory: 'output/predictions.csv'",
     "output_type": "error",
     "traceback": [
      "\u001b[0;31m---------------------------------------------------------------------------\u001b[0m",
      "\u001b[0;31mFileNotFoundError\u001b[0m                         Traceback (most recent call last)",
      "\u001b[0;32m<ipython-input-50-d6904dd49b86>\u001b[0m in \u001b[0;36m<module>\u001b[0;34m()\u001b[0m\n\u001b[0;32m----> 1\u001b[0;31m \u001b[0mfinal_pred_df\u001b[0m\u001b[0;34m.\u001b[0m\u001b[0mto_csv\u001b[0m\u001b[0;34m(\u001b[0m\u001b[0;34m'output/predictions.csv'\u001b[0m\u001b[0;34m)\u001b[0m\u001b[0;34m\u001b[0m\u001b[0;34m\u001b[0m\u001b[0m\n\u001b[0m",
      "\u001b[0;32m~/anaconda3/lib/python3.6/site-packages/pandas/core/frame.py\u001b[0m in \u001b[0;36mto_csv\u001b[0;34m(self, path_or_buf, sep, na_rep, float_format, columns, header, index, index_label, mode, encoding, compression, quoting, quotechar, line_terminator, chunksize, tupleize_cols, date_format, doublequote, escapechar, decimal)\u001b[0m\n\u001b[1;32m   1743\u001b[0m                                  \u001b[0mdoublequote\u001b[0m\u001b[0;34m=\u001b[0m\u001b[0mdoublequote\u001b[0m\u001b[0;34m,\u001b[0m\u001b[0;34m\u001b[0m\u001b[0;34m\u001b[0m\u001b[0m\n\u001b[1;32m   1744\u001b[0m                                  escapechar=escapechar, decimal=decimal)\n\u001b[0;32m-> 1745\u001b[0;31m         \u001b[0mformatter\u001b[0m\u001b[0;34m.\u001b[0m\u001b[0msave\u001b[0m\u001b[0;34m(\u001b[0m\u001b[0;34m)\u001b[0m\u001b[0;34m\u001b[0m\u001b[0;34m\u001b[0m\u001b[0m\n\u001b[0m\u001b[1;32m   1746\u001b[0m \u001b[0;34m\u001b[0m\u001b[0m\n\u001b[1;32m   1747\u001b[0m         \u001b[0;32mif\u001b[0m \u001b[0mpath_or_buf\u001b[0m \u001b[0;32mis\u001b[0m \u001b[0;32mNone\u001b[0m\u001b[0;34m:\u001b[0m\u001b[0;34m\u001b[0m\u001b[0;34m\u001b[0m\u001b[0m\n",
      "\u001b[0;32m~/anaconda3/lib/python3.6/site-packages/pandas/io/formats/csvs.py\u001b[0m in \u001b[0;36msave\u001b[0;34m(self)\u001b[0m\n\u001b[1;32m    134\u001b[0m             f, handles = _get_handle(self.path_or_buf, self.mode,\n\u001b[1;32m    135\u001b[0m                                      \u001b[0mencoding\u001b[0m\u001b[0;34m=\u001b[0m\u001b[0mencoding\u001b[0m\u001b[0;34m,\u001b[0m\u001b[0;34m\u001b[0m\u001b[0;34m\u001b[0m\u001b[0m\n\u001b[0;32m--> 136\u001b[0;31m                                      compression=None)\n\u001b[0m\u001b[1;32m    137\u001b[0m             \u001b[0mclose\u001b[0m \u001b[0;34m=\u001b[0m \u001b[0;32mTrue\u001b[0m \u001b[0;32mif\u001b[0m \u001b[0mself\u001b[0m\u001b[0;34m.\u001b[0m\u001b[0mcompression\u001b[0m \u001b[0;32mis\u001b[0m \u001b[0;32mNone\u001b[0m \u001b[0;32melse\u001b[0m \u001b[0;32mFalse\u001b[0m\u001b[0;34m\u001b[0m\u001b[0;34m\u001b[0m\u001b[0m\n\u001b[1;32m    138\u001b[0m \u001b[0;34m\u001b[0m\u001b[0m\n",
      "\u001b[0;32m~/anaconda3/lib/python3.6/site-packages/pandas/io/common.py\u001b[0m in \u001b[0;36m_get_handle\u001b[0;34m(path_or_buf, mode, encoding, compression, memory_map, is_text)\u001b[0m\n\u001b[1;32m    398\u001b[0m         \u001b[0;32melif\u001b[0m \u001b[0mencoding\u001b[0m\u001b[0;34m:\u001b[0m\u001b[0;34m\u001b[0m\u001b[0;34m\u001b[0m\u001b[0m\n\u001b[1;32m    399\u001b[0m             \u001b[0;31m# Python 3 and encoding\u001b[0m\u001b[0;34m\u001b[0m\u001b[0;34m\u001b[0m\u001b[0;34m\u001b[0m\u001b[0m\n\u001b[0;32m--> 400\u001b[0;31m             \u001b[0mf\u001b[0m \u001b[0;34m=\u001b[0m \u001b[0mopen\u001b[0m\u001b[0;34m(\u001b[0m\u001b[0mpath_or_buf\u001b[0m\u001b[0;34m,\u001b[0m \u001b[0mmode\u001b[0m\u001b[0;34m,\u001b[0m \u001b[0mencoding\u001b[0m\u001b[0;34m=\u001b[0m\u001b[0mencoding\u001b[0m\u001b[0;34m)\u001b[0m\u001b[0;34m\u001b[0m\u001b[0;34m\u001b[0m\u001b[0m\n\u001b[0m\u001b[1;32m    401\u001b[0m         \u001b[0;32melif\u001b[0m \u001b[0mis_text\u001b[0m\u001b[0;34m:\u001b[0m\u001b[0;34m\u001b[0m\u001b[0;34m\u001b[0m\u001b[0m\n\u001b[1;32m    402\u001b[0m             \u001b[0;31m# Python 3 and no explicit encoding\u001b[0m\u001b[0;34m\u001b[0m\u001b[0;34m\u001b[0m\u001b[0;34m\u001b[0m\u001b[0m\n",
      "\u001b[0;31mFileNotFoundError\u001b[0m: [Errno 2] No such file or directory: 'output/predictions.csv'"
     ]
    }
   ],
   "source": [
    "if save_predictions:\n",
    "    final_pred_df.to_csv('output/predictions.csv')\n"
   ]
  }
 ],
 "metadata": {
  "kernelspec": {
   "display_name": "Python 3",
   "language": "python",
   "name": "python3"
  },
  "language_info": {
   "codemirror_mode": {
    "name": "ipython",
    "version": 3
   },
   "file_extension": ".py",
   "mimetype": "text/x-python",
   "name": "python",
   "nbconvert_exporter": "python",
   "pygments_lexer": "ipython3",
   "version": "3.6.8"
  }
 },
 "nbformat": 4,
 "nbformat_minor": 2
}
