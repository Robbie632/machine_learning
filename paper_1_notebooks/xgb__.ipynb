{
 "cells": [
  {
   "cell_type": "markdown",
   "metadata": {},
   "source": [
    "### RFC"
   ]
  },
  {
   "cell_type": "markdown",
   "metadata": {},
   "source": [
    "### import modules and configure notebook"
   ]
  },
  {
   "cell_type": "code",
   "execution_count": 1,
   "metadata": {},
   "outputs": [],
   "source": [
    "import pandas as pd\n",
    "import numpy as np\n",
    "import swifter\n",
    "import seaborn as sns\n",
    "import matplotlib.pyplot\n",
    "\n",
    "pd.set_option('max.rows', None)\n",
    "pd.set_option('max.columns', None)\n",
    "\n",
    "\n",
    "from sklearn.model_selection import train_test_split, StratifiedKFold\n",
    "from sklearn.metrics import log_loss, accuracy_score, f1_score\n",
    "import xgboost as xgb\n",
    "\n",
    "%matplotlib inline"
   ]
  },
  {
   "cell_type": "markdown",
   "metadata": {},
   "source": [
    "### Load variables stored by data_preproccessing notebook"
   ]
  },
  {
   "cell_type": "code",
   "execution_count": 2,
   "metadata": {},
   "outputs": [],
   "source": [
    "%store -r train_data_formodel_transformed\n",
    "%store -r test_data\n",
    "%store -r my_data\n",
    "%store -r uniques\n",
    "%store -r best_feats\n"
   ]
  },
  {
   "cell_type": "code",
   "execution_count": 3,
   "metadata": {},
   "outputs": [],
   "source": [
    "save_plots = False\n"
   ]
  },
  {
   "cell_type": "code",
   "execution_count": 4,
   "metadata": {},
   "outputs": [
    {
     "data": {
      "text/plain": [
       "array(['Li7', 'Be9', 'B11', 'Mg24', 'Al27', 'Si28', 'P31', 'S33', 'K39',\n",
       "       'Ca42', 'Sc45', 'Ti47', 'V51', 'Cr52', 'Mn55', 'Fe56', 'Co59',\n",
       "       'Ni60', 'Cu63', 'Zn68', 'Ga69', 'Ge72', 'As75', 'Rb85', 'Sr88',\n",
       "       'Y89', 'Zr90', 'Nb93', 'Mo95', 'Cd111', 'In115', 'Sn118', 'Cs133',\n",
       "       'Ba137', 'La139', 'Ce140', 'Pr141', 'Nd146', 'Sm147', 'Eu153',\n",
       "       'Gd157', 'Tb159', 'Dy163', 'Ho165', 'Er166', 'Tm169', 'Yb172',\n",
       "       'Lu175', 'Hf178', 'Ta181', 'Pb208', 'Th232', 'U238'], dtype=object)"
      ]
     },
     "execution_count": 4,
     "metadata": {},
     "output_type": "execute_result"
    }
   ],
   "source": [
    "train_data_formodel_transformed.columns.values[9:-1]"
   ]
  },
  {
   "cell_type": "markdown",
   "metadata": {},
   "source": [
    "#train_data = train_data_formodel[train_data_formodel.columns.values[9:,]]\n",
    "\n",
    "train_data_pre_conc = train_data_formodel[best_feats]\n",
    "train_data = pd.concat([train_data_pre_conc, train_data_formodel['class']], axis = 1)"
   ]
  },
  {
   "cell_type": "code",
   "execution_count": 5,
   "metadata": {},
   "outputs": [
    {
     "data": {
      "text/html": [
       "<div>\n",
       "<style scoped>\n",
       "    .dataframe tbody tr th:only-of-type {\n",
       "        vertical-align: middle;\n",
       "    }\n",
       "\n",
       "    .dataframe tbody tr th {\n",
       "        vertical-align: top;\n",
       "    }\n",
       "\n",
       "    .dataframe thead th {\n",
       "        text-align: right;\n",
       "    }\n",
       "</style>\n",
       "<table border=\"1\" class=\"dataframe\">\n",
       "  <thead>\n",
       "    <tr style=\"text-align: right;\">\n",
       "      <th></th>\n",
       "      <th>Analysis</th>\n",
       "      <th>Geology</th>\n",
       "      <th>Province</th>\n",
       "      <th>Region</th>\n",
       "      <th>Site</th>\n",
       "      <th>SubSite</th>\n",
       "      <th>Formation</th>\n",
       "      <th>Band</th>\n",
       "      <th>Nodule</th>\n",
       "      <th>Li7</th>\n",
       "      <th>Be9</th>\n",
       "      <th>B11</th>\n",
       "      <th>Mg24</th>\n",
       "      <th>Al27</th>\n",
       "      <th>Si28</th>\n",
       "      <th>P31</th>\n",
       "      <th>S33</th>\n",
       "      <th>K39</th>\n",
       "      <th>Ca42</th>\n",
       "      <th>Sc45</th>\n",
       "      <th>Ti47</th>\n",
       "      <th>V51</th>\n",
       "      <th>Cr52</th>\n",
       "      <th>Mn55</th>\n",
       "      <th>Fe56</th>\n",
       "      <th>Co59</th>\n",
       "      <th>Ni60</th>\n",
       "      <th>Cu63</th>\n",
       "      <th>Zn68</th>\n",
       "      <th>Ga69</th>\n",
       "      <th>Ge72</th>\n",
       "      <th>As75</th>\n",
       "      <th>Rb85</th>\n",
       "      <th>Sr88</th>\n",
       "      <th>Y89</th>\n",
       "      <th>Zr90</th>\n",
       "      <th>Nb93</th>\n",
       "      <th>Mo95</th>\n",
       "      <th>Cd111</th>\n",
       "      <th>In115</th>\n",
       "      <th>Sn118</th>\n",
       "      <th>Cs133</th>\n",
       "      <th>Ba137</th>\n",
       "      <th>La139</th>\n",
       "      <th>Ce140</th>\n",
       "      <th>Pr141</th>\n",
       "      <th>Nd146</th>\n",
       "      <th>Sm147</th>\n",
       "      <th>Eu153</th>\n",
       "      <th>Gd157</th>\n",
       "      <th>Tb159</th>\n",
       "      <th>Dy163</th>\n",
       "      <th>Ho165</th>\n",
       "      <th>Er166</th>\n",
       "      <th>Tm169</th>\n",
       "      <th>Yb172</th>\n",
       "      <th>Lu175</th>\n",
       "      <th>Hf178</th>\n",
       "      <th>Ta181</th>\n",
       "      <th>Pb208</th>\n",
       "      <th>Th232</th>\n",
       "      <th>U238</th>\n",
       "      <th>class</th>\n",
       "    </tr>\n",
       "  </thead>\n",
       "  <tbody>\n",
       "    <tr>\n",
       "      <th>0</th>\n",
       "      <td>10_FH1_1_1</td>\n",
       "      <td>Bedrock</td>\n",
       "      <td>Northern</td>\n",
       "      <td>NaN</td>\n",
       "      <td>FH</td>\n",
       "      <td>FH1</td>\n",
       "      <td>Burnham</td>\n",
       "      <td>FH1</td>\n",
       "      <td>FH1_1_1</td>\n",
       "      <td>2.811208</td>\n",
       "      <td>0.113329</td>\n",
       "      <td>48.36</td>\n",
       "      <td>5.047481</td>\n",
       "      <td>6.850878</td>\n",
       "      <td>1.005084e+17</td>\n",
       "      <td>3.937301</td>\n",
       "      <td>538.57</td>\n",
       "      <td>6.124552</td>\n",
       "      <td>6.570028</td>\n",
       "      <td>0.350657</td>\n",
       "      <td>2.808197</td>\n",
       "      <td>0.239017</td>\n",
       "      <td>1.458615</td>\n",
       "      <td>0.524729</td>\n",
       "      <td>2.247072</td>\n",
       "      <td>0.048790</td>\n",
       "      <td>0.587787</td>\n",
       "      <td>0.963174</td>\n",
       "      <td>2.469793</td>\n",
       "      <td>0.223144</td>\n",
       "      <td>0.797507</td>\n",
       "      <td>0.148420</td>\n",
       "      <td>0.357674</td>\n",
       "      <td>2.634762</td>\n",
       "      <td>0.631272</td>\n",
       "      <td>0.920283</td>\n",
       "      <td>0.086178</td>\n",
       "      <td>0.048790</td>\n",
       "      <td>0.019803</td>\n",
       "      <td>0.00000</td>\n",
       "      <td>0.048790</td>\n",
       "      <td>0.009950</td>\n",
       "      <td>2.020222</td>\n",
       "      <td>0.609766</td>\n",
       "      <td>0.667829</td>\n",
       "      <td>0.207014</td>\n",
       "      <td>0.625938</td>\n",
       "      <td>0.148420</td>\n",
       "      <td>0.039221</td>\n",
       "      <td>0.148420</td>\n",
       "      <td>0.019803</td>\n",
       "      <td>0.104360</td>\n",
       "      <td>0.029559</td>\n",
       "      <td>0.058269</td>\n",
       "      <td>0.00995</td>\n",
       "      <td>0.019803</td>\n",
       "      <td>0.00000</td>\n",
       "      <td>0.039221</td>\n",
       "      <td>0.00995</td>\n",
       "      <td>0.215111</td>\n",
       "      <td>0.067659</td>\n",
       "      <td>0.048790</td>\n",
       "      <td>0</td>\n",
       "    </tr>\n",
       "    <tr>\n",
       "      <th>1</th>\n",
       "      <td>11_FH1_1_1</td>\n",
       "      <td>Bedrock</td>\n",
       "      <td>Northern</td>\n",
       "      <td>NaN</td>\n",
       "      <td>FH</td>\n",
       "      <td>FH1</td>\n",
       "      <td>Burnham</td>\n",
       "      <td>FH1</td>\n",
       "      <td>FH1_1_1</td>\n",
       "      <td>2.525729</td>\n",
       "      <td>0.086178</td>\n",
       "      <td>44.77</td>\n",
       "      <td>3.153590</td>\n",
       "      <td>6.982965</td>\n",
       "      <td>1.005517e+17</td>\n",
       "      <td>4.275415</td>\n",
       "      <td>438.20</td>\n",
       "      <td>5.963117</td>\n",
       "      <td>6.246572</td>\n",
       "      <td>0.364643</td>\n",
       "      <td>2.968875</td>\n",
       "      <td>0.254642</td>\n",
       "      <td>1.492904</td>\n",
       "      <td>0.698135</td>\n",
       "      <td>2.532903</td>\n",
       "      <td>0.104360</td>\n",
       "      <td>0.307485</td>\n",
       "      <td>0.425268</td>\n",
       "      <td>2.295560</td>\n",
       "      <td>0.292670</td>\n",
       "      <td>0.615186</td>\n",
       "      <td>0.095310</td>\n",
       "      <td>0.371564</td>\n",
       "      <td>2.654649</td>\n",
       "      <td>0.667829</td>\n",
       "      <td>1.007958</td>\n",
       "      <td>0.067659</td>\n",
       "      <td>0.009950</td>\n",
       "      <td>0.019803</td>\n",
       "      <td>0.00000</td>\n",
       "      <td>0.039221</td>\n",
       "      <td>0.019803</td>\n",
       "      <td>2.201659</td>\n",
       "      <td>0.652325</td>\n",
       "      <td>0.698135</td>\n",
       "      <td>0.207014</td>\n",
       "      <td>0.683097</td>\n",
       "      <td>0.165514</td>\n",
       "      <td>0.039221</td>\n",
       "      <td>0.165514</td>\n",
       "      <td>0.019803</td>\n",
       "      <td>0.122218</td>\n",
       "      <td>0.029559</td>\n",
       "      <td>0.058269</td>\n",
       "      <td>0.00995</td>\n",
       "      <td>0.039221</td>\n",
       "      <td>0.00995</td>\n",
       "      <td>0.048790</td>\n",
       "      <td>0.00000</td>\n",
       "      <td>0.067659</td>\n",
       "      <td>0.076961</td>\n",
       "      <td>0.039221</td>\n",
       "      <td>0</td>\n",
       "    </tr>\n",
       "    <tr>\n",
       "      <th>2</th>\n",
       "      <td>12_FH1_1_1</td>\n",
       "      <td>Bedrock</td>\n",
       "      <td>Northern</td>\n",
       "      <td>NaN</td>\n",
       "      <td>FH</td>\n",
       "      <td>FH1</td>\n",
       "      <td>Burnham</td>\n",
       "      <td>FH1</td>\n",
       "      <td>FH1_1_1</td>\n",
       "      <td>3.046901</td>\n",
       "      <td>0.058269</td>\n",
       "      <td>44.88</td>\n",
       "      <td>3.777348</td>\n",
       "      <td>6.431669</td>\n",
       "      <td>1.007364e+17</td>\n",
       "      <td>4.658427</td>\n",
       "      <td>372.66</td>\n",
       "      <td>5.899103</td>\n",
       "      <td>6.865776</td>\n",
       "      <td>0.565314</td>\n",
       "      <td>3.039271</td>\n",
       "      <td>0.438255</td>\n",
       "      <td>1.446919</td>\n",
       "      <td>0.792993</td>\n",
       "      <td>4.488524</td>\n",
       "      <td>0.190620</td>\n",
       "      <td>0.985817</td>\n",
       "      <td>0.928219</td>\n",
       "      <td>2.563410</td>\n",
       "      <td>0.223144</td>\n",
       "      <td>0.996949</td>\n",
       "      <td>0.122218</td>\n",
       "      <td>0.357674</td>\n",
       "      <td>2.253395</td>\n",
       "      <td>0.625938</td>\n",
       "      <td>0.657520</td>\n",
       "      <td>0.095310</td>\n",
       "      <td>0.019803</td>\n",
       "      <td>0.019803</td>\n",
       "      <td>0.00000</td>\n",
       "      <td>0.048790</td>\n",
       "      <td>0.009950</td>\n",
       "      <td>1.418277</td>\n",
       "      <td>0.641854</td>\n",
       "      <td>0.732368</td>\n",
       "      <td>0.231112</td>\n",
       "      <td>0.609766</td>\n",
       "      <td>0.139762</td>\n",
       "      <td>0.039221</td>\n",
       "      <td>0.173953</td>\n",
       "      <td>0.019803</td>\n",
       "      <td>0.131028</td>\n",
       "      <td>0.019803</td>\n",
       "      <td>0.067659</td>\n",
       "      <td>0.00995</td>\n",
       "      <td>0.058269</td>\n",
       "      <td>0.00000</td>\n",
       "      <td>0.019803</td>\n",
       "      <td>0.00995</td>\n",
       "      <td>0.378436</td>\n",
       "      <td>0.048790</td>\n",
       "      <td>0.048790</td>\n",
       "      <td>0</td>\n",
       "    </tr>\n",
       "    <tr>\n",
       "      <th>3</th>\n",
       "      <td>13_FH1_1_2</td>\n",
       "      <td>Bedrock</td>\n",
       "      <td>Northern</td>\n",
       "      <td>NaN</td>\n",
       "      <td>FH</td>\n",
       "      <td>FH1</td>\n",
       "      <td>Burnham</td>\n",
       "      <td>FH1</td>\n",
       "      <td>FH1_1_2</td>\n",
       "      <td>2.498152</td>\n",
       "      <td>0.548121</td>\n",
       "      <td>47.06</td>\n",
       "      <td>5.096324</td>\n",
       "      <td>7.042452</td>\n",
       "      <td>1.006094e+17</td>\n",
       "      <td>10.939673</td>\n",
       "      <td>1075.89</td>\n",
       "      <td>6.307278</td>\n",
       "      <td>7.684922</td>\n",
       "      <td>0.357674</td>\n",
       "      <td>3.768153</td>\n",
       "      <td>0.512824</td>\n",
       "      <td>5.033179</td>\n",
       "      <td>1.764731</td>\n",
       "      <td>4.985933</td>\n",
       "      <td>0.262364</td>\n",
       "      <td>1.238374</td>\n",
       "      <td>1.795087</td>\n",
       "      <td>2.898671</td>\n",
       "      <td>0.300105</td>\n",
       "      <td>1.141033</td>\n",
       "      <td>0.609766</td>\n",
       "      <td>0.565314</td>\n",
       "      <td>2.650421</td>\n",
       "      <td>0.678034</td>\n",
       "      <td>1.098612</td>\n",
       "      <td>0.095310</td>\n",
       "      <td>0.254642</td>\n",
       "      <td>0.165514</td>\n",
       "      <td>0.00995</td>\n",
       "      <td>0.576613</td>\n",
       "      <td>0.039221</td>\n",
       "      <td>2.276241</td>\n",
       "      <td>0.657520</td>\n",
       "      <td>0.667829</td>\n",
       "      <td>0.190620</td>\n",
       "      <td>0.559616</td>\n",
       "      <td>0.122218</td>\n",
       "      <td>0.039221</td>\n",
       "      <td>0.223144</td>\n",
       "      <td>0.019803</td>\n",
       "      <td>0.086178</td>\n",
       "      <td>0.029559</td>\n",
       "      <td>0.048790</td>\n",
       "      <td>0.00000</td>\n",
       "      <td>0.029559</td>\n",
       "      <td>0.00000</td>\n",
       "      <td>0.076961</td>\n",
       "      <td>0.00000</td>\n",
       "      <td>0.494696</td>\n",
       "      <td>0.048790</td>\n",
       "      <td>0.029559</td>\n",
       "      <td>0</td>\n",
       "    </tr>\n",
       "    <tr>\n",
       "      <th>4</th>\n",
       "      <td>14_FH1_1_2</td>\n",
       "      <td>Bedrock</td>\n",
       "      <td>Northern</td>\n",
       "      <td>NaN</td>\n",
       "      <td>FH</td>\n",
       "      <td>FH1</td>\n",
       "      <td>Burnham</td>\n",
       "      <td>FH1</td>\n",
       "      <td>FH1_1_2</td>\n",
       "      <td>2.929058</td>\n",
       "      <td>0.277632</td>\n",
       "      <td>48.26</td>\n",
       "      <td>3.541539</td>\n",
       "      <td>6.306677</td>\n",
       "      <td>1.005622e+17</td>\n",
       "      <td>3.816393</td>\n",
       "      <td>464.78</td>\n",
       "      <td>5.632107</td>\n",
       "      <td>7.347706</td>\n",
       "      <td>0.536493</td>\n",
       "      <td>2.499795</td>\n",
       "      <td>0.239017</td>\n",
       "      <td>1.269761</td>\n",
       "      <td>1.004302</td>\n",
       "      <td>3.272606</td>\n",
       "      <td>0.048790</td>\n",
       "      <td>0.587787</td>\n",
       "      <td>0.438255</td>\n",
       "      <td>2.379546</td>\n",
       "      <td>0.343590</td>\n",
       "      <td>0.879627</td>\n",
       "      <td>0.113329</td>\n",
       "      <td>0.246860</td>\n",
       "      <td>2.388763</td>\n",
       "      <td>0.641854</td>\n",
       "      <td>0.641854</td>\n",
       "      <td>0.076961</td>\n",
       "      <td>0.039221</td>\n",
       "      <td>0.095310</td>\n",
       "      <td>0.00000</td>\n",
       "      <td>0.086178</td>\n",
       "      <td>0.009950</td>\n",
       "      <td>1.319086</td>\n",
       "      <td>0.678034</td>\n",
       "      <td>0.737164</td>\n",
       "      <td>0.239017</td>\n",
       "      <td>0.693147</td>\n",
       "      <td>0.157004</td>\n",
       "      <td>0.039221</td>\n",
       "      <td>0.173953</td>\n",
       "      <td>0.019803</td>\n",
       "      <td>0.139762</td>\n",
       "      <td>0.029559</td>\n",
       "      <td>0.048790</td>\n",
       "      <td>0.00995</td>\n",
       "      <td>0.048790</td>\n",
       "      <td>0.00995</td>\n",
       "      <td>0.019803</td>\n",
       "      <td>0.00995</td>\n",
       "      <td>0.463734</td>\n",
       "      <td>0.058269</td>\n",
       "      <td>0.086178</td>\n",
       "      <td>0</td>\n",
       "    </tr>\n",
       "  </tbody>\n",
       "</table>\n",
       "</div>"
      ],
      "text/plain": [
       "     Analysis  Geology  Province Region Site SubSite Formation Band   Nodule  \\\n",
       "0  10_FH1_1_1  Bedrock  Northern    NaN   FH     FH1   Burnham  FH1  FH1_1_1   \n",
       "1  11_FH1_1_1  Bedrock  Northern    NaN   FH     FH1   Burnham  FH1  FH1_1_1   \n",
       "2  12_FH1_1_1  Bedrock  Northern    NaN   FH     FH1   Burnham  FH1  FH1_1_1   \n",
       "3  13_FH1_1_2  Bedrock  Northern    NaN   FH     FH1   Burnham  FH1  FH1_1_2   \n",
       "4  14_FH1_1_2  Bedrock  Northern    NaN   FH     FH1   Burnham  FH1  FH1_1_2   \n",
       "\n",
       "        Li7       Be9    B11      Mg24      Al27          Si28        P31  \\\n",
       "0  2.811208  0.113329  48.36  5.047481  6.850878  1.005084e+17   3.937301   \n",
       "1  2.525729  0.086178  44.77  3.153590  6.982965  1.005517e+17   4.275415   \n",
       "2  3.046901  0.058269  44.88  3.777348  6.431669  1.007364e+17   4.658427   \n",
       "3  2.498152  0.548121  47.06  5.096324  7.042452  1.006094e+17  10.939673   \n",
       "4  2.929058  0.277632  48.26  3.541539  6.306677  1.005622e+17   3.816393   \n",
       "\n",
       "       S33       K39      Ca42      Sc45      Ti47       V51      Cr52  \\\n",
       "0   538.57  6.124552  6.570028  0.350657  2.808197  0.239017  1.458615   \n",
       "1   438.20  5.963117  6.246572  0.364643  2.968875  0.254642  1.492904   \n",
       "2   372.66  5.899103  6.865776  0.565314  3.039271  0.438255  1.446919   \n",
       "3  1075.89  6.307278  7.684922  0.357674  3.768153  0.512824  5.033179   \n",
       "4   464.78  5.632107  7.347706  0.536493  2.499795  0.239017  1.269761   \n",
       "\n",
       "       Mn55      Fe56      Co59      Ni60      Cu63      Zn68      Ga69  \\\n",
       "0  0.524729  2.247072  0.048790  0.587787  0.963174  2.469793  0.223144   \n",
       "1  0.698135  2.532903  0.104360  0.307485  0.425268  2.295560  0.292670   \n",
       "2  0.792993  4.488524  0.190620  0.985817  0.928219  2.563410  0.223144   \n",
       "3  1.764731  4.985933  0.262364  1.238374  1.795087  2.898671  0.300105   \n",
       "4  1.004302  3.272606  0.048790  0.587787  0.438255  2.379546  0.343590   \n",
       "\n",
       "       Ge72      As75      Rb85      Sr88       Y89      Zr90      Nb93  \\\n",
       "0  0.797507  0.148420  0.357674  2.634762  0.631272  0.920283  0.086178   \n",
       "1  0.615186  0.095310  0.371564  2.654649  0.667829  1.007958  0.067659   \n",
       "2  0.996949  0.122218  0.357674  2.253395  0.625938  0.657520  0.095310   \n",
       "3  1.141033  0.609766  0.565314  2.650421  0.678034  1.098612  0.095310   \n",
       "4  0.879627  0.113329  0.246860  2.388763  0.641854  0.641854  0.076961   \n",
       "\n",
       "       Mo95     Cd111    In115     Sn118     Cs133     Ba137     La139  \\\n",
       "0  0.048790  0.019803  0.00000  0.048790  0.009950  2.020222  0.609766   \n",
       "1  0.009950  0.019803  0.00000  0.039221  0.019803  2.201659  0.652325   \n",
       "2  0.019803  0.019803  0.00000  0.048790  0.009950  1.418277  0.641854   \n",
       "3  0.254642  0.165514  0.00995  0.576613  0.039221  2.276241  0.657520   \n",
       "4  0.039221  0.095310  0.00000  0.086178  0.009950  1.319086  0.678034   \n",
       "\n",
       "      Ce140     Pr141     Nd146     Sm147     Eu153     Gd157     Tb159  \\\n",
       "0  0.667829  0.207014  0.625938  0.148420  0.039221  0.148420  0.019803   \n",
       "1  0.698135  0.207014  0.683097  0.165514  0.039221  0.165514  0.019803   \n",
       "2  0.732368  0.231112  0.609766  0.139762  0.039221  0.173953  0.019803   \n",
       "3  0.667829  0.190620  0.559616  0.122218  0.039221  0.223144  0.019803   \n",
       "4  0.737164  0.239017  0.693147  0.157004  0.039221  0.173953  0.019803   \n",
       "\n",
       "      Dy163     Ho165     Er166    Tm169     Yb172    Lu175     Hf178  \\\n",
       "0  0.104360  0.029559  0.058269  0.00995  0.019803  0.00000  0.039221   \n",
       "1  0.122218  0.029559  0.058269  0.00995  0.039221  0.00995  0.048790   \n",
       "2  0.131028  0.019803  0.067659  0.00995  0.058269  0.00000  0.019803   \n",
       "3  0.086178  0.029559  0.048790  0.00000  0.029559  0.00000  0.076961   \n",
       "4  0.139762  0.029559  0.048790  0.00995  0.048790  0.00995  0.019803   \n",
       "\n",
       "     Ta181     Pb208     Th232      U238  class  \n",
       "0  0.00995  0.215111  0.067659  0.048790      0  \n",
       "1  0.00000  0.067659  0.076961  0.039221      0  \n",
       "2  0.00995  0.378436  0.048790  0.048790      0  \n",
       "3  0.00000  0.494696  0.048790  0.029559      0  \n",
       "4  0.00995  0.463734  0.058269  0.086178      0  "
      ]
     },
     "execution_count": 5,
     "metadata": {},
     "output_type": "execute_result"
    }
   ],
   "source": [
    "train_data_formodel_transformed.head()"
   ]
  },
  {
   "cell_type": "code",
   "execution_count": 6,
   "metadata": {},
   "outputs": [],
   "source": [
    "y = np.array(train_data_formodel_transformed['class'])"
   ]
  },
  {
   "cell_type": "code",
   "execution_count": 7,
   "metadata": {},
   "outputs": [],
   "source": [
    "train_data_feats = train_data_formodel_transformed[best_feats]"
   ]
  },
  {
   "cell_type": "code",
   "execution_count": 8,
   "metadata": {},
   "outputs": [
    {
     "data": {
      "text/plain": [
       "(1243, 25)"
      ]
     },
     "execution_count": 8,
     "metadata": {},
     "output_type": "execute_result"
    }
   ],
   "source": [
    "train_data_feats.shape"
   ]
  },
  {
   "cell_type": "code",
   "execution_count": null,
   "metadata": {},
   "outputs": [],
   "source": [
    "\n"
   ]
  },
  {
   "cell_type": "code",
   "execution_count": 21,
   "metadata": {},
   "outputs": [],
   "source": [
    "\n",
    "xg = xgb.XGBClassifier\n",
    "parameter_grid = {'n_estimators':[1600, 1800, 2000, 2200, 2400], }\n",
    "  "
   ]
  },
  {
   "cell_type": "code",
   "execution_count": 22,
   "metadata": {},
   "outputs": [
    {
     "name": "stdout",
     "output_type": "stream",
     "text": [
      "Fitting 3 folds for each of 28 candidates, totalling 84 fits\n",
      "[CV] C=0.01, class_weight=balanced, kernel=linear ....................\n",
      "[CV] C=0.01, class_weight=balanced, kernel=linear ....................\n",
      "[CV] C=0.01, class_weight=balanced, kernel=linear ....................\n",
      "[CV] C=0.01, class_weight=None, kernel=linear ........................\n",
      "[CV] ..... C=0.01, class_weight=balanced, kernel=linear, total=   0.3s\n",
      "[CV] C=0.01, class_weight=None, kernel=linear ........................\n",
      "[CV] ......... C=0.01, class_weight=None, kernel=linear, total=   0.3s\n",
      "[CV] C=0.01, class_weight=None, kernel=linear ........................\n",
      "[CV] ..... C=0.01, class_weight=balanced, kernel=linear, total=   0.4s\n",
      "[CV] C=0.1, class_weight=balanced, kernel=linear .....................\n",
      "[CV] ..... C=0.01, class_weight=balanced, kernel=linear, total=   0.4s\n",
      "[CV] C=0.1, class_weight=balanced, kernel=linear .....................\n",
      "[CV] ......... C=0.01, class_weight=None, kernel=linear, total=   0.2s\n",
      "[CV] C=0.1, class_weight=balanced, kernel=linear .....................\n",
      "[CV] ...... C=0.1, class_weight=balanced, kernel=linear, total=   0.2s\n",
      "[CV] C=0.1, class_weight=None, kernel=linear .........................\n",
      "[CV] ......... C=0.01, class_weight=None, kernel=linear, total=   0.3s\n",
      "[CV] C=0.1, class_weight=None, kernel=linear .........................\n",
      "[CV] ...... C=0.1, class_weight=balanced, kernel=linear, total=   0.3s\n",
      "[CV] C=0.1, class_weight=None, kernel=linear .........................\n",
      "[CV] ...... C=0.1, class_weight=balanced, kernel=linear, total=   0.2s\n",
      "[CV] C=1, class_weight=balanced, kernel=linear .......................\n",
      "[CV] .......... C=0.1, class_weight=None, kernel=linear, total=   0.3s\n",
      "[CV] C=1, class_weight=balanced, kernel=linear .......................\n",
      "[CV] .......... C=0.1, class_weight=None, kernel=linear, total=   0.3s\n",
      "[CV] C=1, class_weight=balanced, kernel=linear .......................\n",
      "[CV] .......... C=0.1, class_weight=None, kernel=linear, total=   0.3s\n",
      "[CV] C=1, class_weight=None, kernel=linear ...........................\n",
      "[CV] ........ C=1, class_weight=balanced, kernel=linear, total=   0.3s\n",
      "[CV] C=1, class_weight=None, kernel=linear ...........................\n",
      "[CV] ........ C=1, class_weight=balanced, kernel=linear, total=   0.3s\n",
      "[CV] C=1, class_weight=None, kernel=linear ...........................\n",
      "[CV] ........ C=1, class_weight=balanced, kernel=linear, total=   0.3s\n",
      "[CV] C=10, class_weight=balanced, kernel=linear ......................\n",
      "[CV] ............ C=1, class_weight=None, kernel=linear, total=   0.3s\n",
      "[CV] ............ C=1, class_weight=None, kernel=linear, total=   0.2s\n",
      "[CV] C=10, class_weight=balanced, kernel=linear ......................\n",
      "[CV] C=10, class_weight=balanced, kernel=linear ......................\n",
      "[CV] ............ C=1, class_weight=None, kernel=linear, total=   0.3s\n",
      "[CV] C=10, class_weight=None, kernel=linear ..........................\n",
      "[CV] ....... C=10, class_weight=balanced, kernel=linear, total=   0.3s\n",
      "[CV] C=10, class_weight=None, kernel=linear ..........................\n",
      "[CV] ....... C=10, class_weight=balanced, kernel=linear, total=   0.3s\n",
      "[CV] C=10, class_weight=None, kernel=linear ..........................\n",
      "[CV] ....... C=10, class_weight=balanced, kernel=linear, total=   0.4s\n",
      "[CV] C=100, class_weight=balanced, kernel=linear .....................\n",
      "[CV] ........... C=10, class_weight=None, kernel=linear, total=   0.4s\n",
      "[CV] C=100, class_weight=balanced, kernel=linear .....................\n",
      "[CV] ........... C=10, class_weight=None, kernel=linear, total=   0.3s\n",
      "[CV] C=100, class_weight=balanced, kernel=linear .....................\n",
      "[CV] ........... C=10, class_weight=None, kernel=linear, total=   0.5s\n",
      "[CV] C=100, class_weight=None, kernel=linear .........................\n",
      "[CV] ...... C=100, class_weight=balanced, kernel=linear, total=   0.4s\n",
      "[CV] C=100, class_weight=None, kernel=linear .........................\n",
      "[CV] ...... C=100, class_weight=balanced, kernel=linear, total=   0.4s\n",
      "[CV] C=100, class_weight=None, kernel=linear .........................\n",
      "[CV] ...... C=100, class_weight=balanced, kernel=linear, total=   0.4s\n",
      "[CV] C=1000, class_weight=balanced, kernel=linear ....................\n",
      "[CV] .......... C=100, class_weight=None, kernel=linear, total=   0.4s\n",
      "[CV] C=1000, class_weight=balanced, kernel=linear ....................\n",
      "[CV] .......... C=100, class_weight=None, kernel=linear, total=   0.5s\n",
      "[CV] C=1000, class_weight=balanced, kernel=linear ....................\n",
      "[CV] .......... C=100, class_weight=None, kernel=linear, total=   0.4s\n",
      "[CV] C=1000, class_weight=None, kernel=linear ........................\n",
      "[CV] ..... C=1000, class_weight=balanced, kernel=linear, total=   0.3s\n",
      "[CV] C=1000, class_weight=None, kernel=linear ........................\n",
      "[CV] ..... C=1000, class_weight=balanced, kernel=linear, total=   0.5s\n",
      "[CV] C=1000, class_weight=None, kernel=linear ........................\n",
      "[CV] ..... C=1000, class_weight=balanced, kernel=linear, total=   0.4s\n",
      "[CV] C=10000, class_weight=balanced, kernel=linear ...................\n",
      "[CV] ......... C=1000, class_weight=None, kernel=linear, total=   0.3s\n",
      "[CV] C=10000, class_weight=balanced, kernel=linear ...................\n",
      "[CV] ......... C=1000, class_weight=None, kernel=linear, total=   0.5s\n",
      "[CV] C=10000, class_weight=balanced, kernel=linear ...................\n"
     ]
    },
    {
     "name": "stderr",
     "output_type": "stream",
     "text": [
      "[Parallel(n_jobs=-1)]: Done  33 tasks      | elapsed:    4.4s\n"
     ]
    },
    {
     "name": "stdout",
     "output_type": "stream",
     "text": [
      "[CV] ......... C=1000, class_weight=None, kernel=linear, total=   0.5s\n",
      "[CV] .... C=10000, class_weight=balanced, kernel=linear, total=   0.4s\n",
      "[CV] C=10000, class_weight=None, kernel=linear .......................\n",
      "[CV] C=10000, class_weight=None, kernel=linear .......................\n",
      "[CV] .... C=10000, class_weight=balanced, kernel=linear, total=   0.4s\n",
      "[CV] C=10000, class_weight=None, kernel=linear .......................\n",
      "[CV] .... C=10000, class_weight=balanced, kernel=linear, total=   0.4s\n",
      "[CV] C=0.01, class_weight=balanced, kernel=rbf .......................\n",
      "[CV] ........ C=10000, class_weight=None, kernel=linear, total=   0.4s\n",
      "[CV] ........ C=10000, class_weight=None, kernel=linear, total=   0.4s\n",
      "[CV] C=0.01, class_weight=balanced, kernel=rbf .......................\n",
      "[CV] C=0.01, class_weight=balanced, kernel=rbf .......................\n",
      "[CV] ........ C=10000, class_weight=None, kernel=linear, total=   0.4s\n",
      "[CV] C=0.01, class_weight=None, kernel=rbf ...........................\n",
      "[CV] ........ C=0.01, class_weight=balanced, kernel=rbf, total=   0.6s\n",
      "[CV] C=0.01, class_weight=None, kernel=rbf ...........................\n",
      "[CV] ............ C=0.01, class_weight=None, kernel=rbf, total=   0.4s\n",
      "[CV] C=0.01, class_weight=None, kernel=rbf ...........................\n",
      "[CV] ........ C=0.01, class_weight=balanced, kernel=rbf, total=   0.5s\n",
      "[CV] C=0.1, class_weight=balanced, kernel=rbf ........................\n",
      "[CV] ........ C=0.01, class_weight=balanced, kernel=rbf, total=   0.6s\n",
      "[CV] C=0.1, class_weight=balanced, kernel=rbf ........................\n",
      "[CV] ............ C=0.01, class_weight=None, kernel=rbf, total=   0.4s\n",
      "[CV] C=0.1, class_weight=balanced, kernel=rbf ........................\n",
      "[CV] ............ C=0.01, class_weight=None, kernel=rbf, total=   0.5s\n",
      "[CV] C=0.1, class_weight=None, kernel=rbf ............................\n",
      "[CV] ......... C=0.1, class_weight=balanced, kernel=rbf, total=   0.7s\n",
      "[CV] C=0.1, class_weight=None, kernel=rbf ............................\n",
      "[CV] ......... C=0.1, class_weight=balanced, kernel=rbf, total=   0.6s\n",
      "[CV] C=0.1, class_weight=None, kernel=rbf ............................\n",
      "[CV] ......... C=0.1, class_weight=balanced, kernel=rbf, total=   0.6s\n",
      "[CV] C=1, class_weight=balanced, kernel=rbf ..........................\n",
      "[CV] ............. C=0.1, class_weight=None, kernel=rbf, total=   0.4s\n",
      "[CV] C=1, class_weight=balanced, kernel=rbf ..........................\n",
      "[CV] ............. C=0.1, class_weight=None, kernel=rbf, total=   0.4s\n",
      "[CV] C=1, class_weight=balanced, kernel=rbf ..........................\n",
      "[CV] ............. C=0.1, class_weight=None, kernel=rbf, total=   0.5s\n",
      "[CV] C=1, class_weight=None, kernel=rbf ..............................\n",
      "[CV] ........... C=1, class_weight=balanced, kernel=rbf, total=   0.4s\n",
      "[CV] C=1, class_weight=None, kernel=rbf ..............................\n",
      "[CV] ........... C=1, class_weight=balanced, kernel=rbf, total=   0.5s\n",
      "[CV] C=1, class_weight=None, kernel=rbf ..............................\n",
      "[CV] ........... C=1, class_weight=balanced, kernel=rbf, total=   0.4s\n",
      "[CV] C=10, class_weight=balanced, kernel=rbf .........................\n",
      "[CV] ............... C=1, class_weight=None, kernel=rbf, total=   0.4s\n",
      "[CV] C=10, class_weight=balanced, kernel=rbf .........................\n",
      "[CV] ............... C=1, class_weight=None, kernel=rbf, total=   0.4s\n",
      "[CV] C=10, class_weight=balanced, kernel=rbf .........................\n",
      "[CV] ............... C=1, class_weight=None, kernel=rbf, total=   0.4s\n",
      "[CV] C=10, class_weight=None, kernel=rbf .............................\n",
      "[CV] .......... C=10, class_weight=balanced, kernel=rbf, total=   0.4s\n",
      "[CV] C=10, class_weight=None, kernel=rbf .............................\n",
      "[CV] .......... C=10, class_weight=balanced, kernel=rbf, total=   0.4s\n",
      "[CV] C=10, class_weight=None, kernel=rbf .............................\n",
      "[CV] .......... C=10, class_weight=balanced, kernel=rbf, total=   0.3s\n",
      "[CV] C=100, class_weight=balanced, kernel=rbf ........................\n",
      "[CV] .............. C=10, class_weight=None, kernel=rbf, total=   0.4s\n",
      "[CV] C=100, class_weight=balanced, kernel=rbf ........................\n",
      "[CV] .............. C=10, class_weight=None, kernel=rbf, total=   0.4s\n",
      "[CV] C=100, class_weight=balanced, kernel=rbf ........................\n",
      "[CV] .............. C=10, class_weight=None, kernel=rbf, total=   0.4s\n",
      "[CV] C=100, class_weight=None, kernel=rbf ............................\n",
      "[CV] ......... C=100, class_weight=balanced, kernel=rbf, total=   0.3s\n",
      "[CV] C=100, class_weight=None, kernel=rbf ............................\n",
      "[CV] ......... C=100, class_weight=balanced, kernel=rbf, total=   0.5s\n",
      "[CV] C=100, class_weight=None, kernel=rbf ............................\n",
      "[CV] ......... C=100, class_weight=balanced, kernel=rbf, total=   0.4s\n",
      "[CV] C=1000, class_weight=balanced, kernel=rbf .......................\n",
      "[CV] ............. C=100, class_weight=None, kernel=rbf, total=   0.5s\n",
      "[CV] ............. C=100, class_weight=None, kernel=rbf, total=   0.4s\n",
      "[CV] C=1000, class_weight=balanced, kernel=rbf .......................\n",
      "[CV] C=1000, class_weight=balanced, kernel=rbf .......................\n",
      "[CV] ............. C=100, class_weight=None, kernel=rbf, total=   0.4s\n",
      "[CV] C=1000, class_weight=None, kernel=rbf ...........................\n",
      "[CV] ........ C=1000, class_weight=balanced, kernel=rbf, total=   0.4s\n",
      "[CV] C=1000, class_weight=None, kernel=rbf ...........................\n",
      "[CV] ........ C=1000, class_weight=balanced, kernel=rbf, total=   0.4s\n",
      "[CV] C=1000, class_weight=None, kernel=rbf ...........................\n",
      "[CV] ........ C=1000, class_weight=balanced, kernel=rbf, total=   0.4s\n",
      "[CV] C=10000, class_weight=balanced, kernel=rbf ......................\n",
      "[CV] ............ C=1000, class_weight=None, kernel=rbf, total=   0.4s\n",
      "[CV] C=10000, class_weight=balanced, kernel=rbf ......................\n",
      "[CV] ............ C=1000, class_weight=None, kernel=rbf, total=   0.3s\n",
      "[CV] C=10000, class_weight=balanced, kernel=rbf ......................\n",
      "[CV] ............ C=1000, class_weight=None, kernel=rbf, total=   0.4s\n",
      "[CV] C=10000, class_weight=None, kernel=rbf ..........................\n",
      "[CV] ....... C=10000, class_weight=balanced, kernel=rbf, total=   0.5s\n",
      "[CV] C=10000, class_weight=None, kernel=rbf ..........................\n",
      "[CV] ....... C=10000, class_weight=balanced, kernel=rbf, total=   0.5s\n",
      "[CV] C=10000, class_weight=None, kernel=rbf ..........................\n",
      "[CV] ....... C=10000, class_weight=balanced, kernel=rbf, total=   0.4s\n",
      "[CV] ........... C=10000, class_weight=None, kernel=rbf, total=   0.5s\n",
      "[CV] ........... C=10000, class_weight=None, kernel=rbf, total=   0.4s\n",
      "[CV] ........... C=10000, class_weight=None, kernel=rbf, total=   0.3s\n"
     ]
    },
    {
     "name": "stderr",
     "output_type": "stream",
     "text": [
      "[Parallel(n_jobs=-1)]: Done  84 out of  84 | elapsed:   12.4s finished\n"
     ]
    },
    {
     "name": "stdout",
     "output_type": "stream",
     "text": [
      "CPU times: user 596 ms, sys: 123 ms, total: 718 ms\n",
      "Wall time: 12.7 s\n"
     ]
    }
   ],
   "source": [
    "\n",
    "%%time\n",
    "clf = GridSearchCV(xg, param_grid=parameter_grid, n_jobs=-1, error_score='f1', cv = 3, verbose=2)\n",
    "clf.fit(X, y)"
   ]
  },
  {
   "cell_type": "markdown",
   "metadata": {},
   "source": [
    "### Turn feature data and class to be predicited into numpy arrays"
   ]
  },
  {
   "cell_type": "code",
   "execution_count": 9,
   "metadata": {},
   "outputs": [],
   "source": [
    "X = np.array(train_data_feats)"
   ]
  },
  {
   "cell_type": "code",
   "execution_count": 10,
   "metadata": {},
   "outputs": [
    {
     "name": "stdout",
     "output_type": "stream",
     "text": [
      "(1243, 25)\n",
      "(1243,)\n"
     ]
    }
   ],
   "source": [
    "print(X.shape)\n",
    "print(y.shape)"
   ]
  },
  {
   "cell_type": "markdown",
   "metadata": {},
   "source": [
    "### Carry out 10-f0ld stratified cross validation, class f1 scores and macro f1 scores with weighted averages are calculated"
   ]
  },
  {
   "cell_type": "code",
   "execution_count": 11,
   "metadata": {},
   "outputs": [
    {
     "name": "stdout",
     "output_type": "stream",
     "text": [
      "making model:\n",
      "1\n"
     ]
    },
    {
     "name": "stderr",
     "output_type": "stream",
     "text": [
      "/home/robert/anaconda3/lib/python3.7/site-packages/sklearn/preprocessing/label.py:151: DeprecationWarning: The truth value of an empty array is ambiguous. Returning False, but in future this will result in an error. Use `array.size > 0` to check that an array is not empty.\n",
      "  if diff:\n",
      "/home/robert/anaconda3/lib/python3.7/site-packages/sklearn/metrics/classification.py:1135: UndefinedMetricWarning: F-score is ill-defined and being set to 0.0 in labels with no predicted samples.\n",
      "  'precision', 'predicted', average, warn_for)\n",
      "/home/robert/anaconda3/lib/python3.7/site-packages/sklearn/metrics/classification.py:1135: UndefinedMetricWarning: F-score is ill-defined and being set to 0.0 in labels with no predicted samples.\n",
      "  'precision', 'predicted', average, warn_for)\n"
     ]
    },
    {
     "name": "stdout",
     "output_type": "stream",
     "text": [
      "making model:\n",
      "2\n"
     ]
    },
    {
     "name": "stderr",
     "output_type": "stream",
     "text": [
      "/home/robert/anaconda3/lib/python3.7/site-packages/sklearn/preprocessing/label.py:151: DeprecationWarning: The truth value of an empty array is ambiguous. Returning False, but in future this will result in an error. Use `array.size > 0` to check that an array is not empty.\n",
      "  if diff:\n",
      "/home/robert/anaconda3/lib/python3.7/site-packages/sklearn/metrics/classification.py:1135: UndefinedMetricWarning: F-score is ill-defined and being set to 0.0 in labels with no predicted samples.\n",
      "  'precision', 'predicted', average, warn_for)\n",
      "/home/robert/anaconda3/lib/python3.7/site-packages/sklearn/metrics/classification.py:1135: UndefinedMetricWarning: F-score is ill-defined and being set to 0.0 in labels with no predicted samples.\n",
      "  'precision', 'predicted', average, warn_for)\n"
     ]
    },
    {
     "name": "stdout",
     "output_type": "stream",
     "text": [
      "making model:\n",
      "3\n"
     ]
    },
    {
     "name": "stderr",
     "output_type": "stream",
     "text": [
      "/home/robert/anaconda3/lib/python3.7/site-packages/sklearn/preprocessing/label.py:151: DeprecationWarning: The truth value of an empty array is ambiguous. Returning False, but in future this will result in an error. Use `array.size > 0` to check that an array is not empty.\n",
      "  if diff:\n",
      "/home/robert/anaconda3/lib/python3.7/site-packages/sklearn/metrics/classification.py:1135: UndefinedMetricWarning: F-score is ill-defined and being set to 0.0 in labels with no predicted samples.\n",
      "  'precision', 'predicted', average, warn_for)\n",
      "/home/robert/anaconda3/lib/python3.7/site-packages/sklearn/metrics/classification.py:1135: UndefinedMetricWarning: F-score is ill-defined and being set to 0.0 in labels with no predicted samples.\n",
      "  'precision', 'predicted', average, warn_for)\n"
     ]
    },
    {
     "name": "stdout",
     "output_type": "stream",
     "text": [
      "making model:\n",
      "4\n"
     ]
    },
    {
     "name": "stderr",
     "output_type": "stream",
     "text": [
      "/home/robert/anaconda3/lib/python3.7/site-packages/sklearn/preprocessing/label.py:151: DeprecationWarning: The truth value of an empty array is ambiguous. Returning False, but in future this will result in an error. Use `array.size > 0` to check that an array is not empty.\n",
      "  if diff:\n"
     ]
    },
    {
     "name": "stdout",
     "output_type": "stream",
     "text": [
      "making model:\n",
      "5\n"
     ]
    },
    {
     "name": "stderr",
     "output_type": "stream",
     "text": [
      "/home/robert/anaconda3/lib/python3.7/site-packages/sklearn/preprocessing/label.py:151: DeprecationWarning: The truth value of an empty array is ambiguous. Returning False, but in future this will result in an error. Use `array.size > 0` to check that an array is not empty.\n",
      "  if diff:\n"
     ]
    },
    {
     "name": "stdout",
     "output_type": "stream",
     "text": [
      "making model:\n",
      "6\n"
     ]
    },
    {
     "name": "stderr",
     "output_type": "stream",
     "text": [
      "/home/robert/anaconda3/lib/python3.7/site-packages/sklearn/preprocessing/label.py:151: DeprecationWarning: The truth value of an empty array is ambiguous. Returning False, but in future this will result in an error. Use `array.size > 0` to check that an array is not empty.\n",
      "  if diff:\n",
      "/home/robert/anaconda3/lib/python3.7/site-packages/sklearn/metrics/classification.py:1135: UndefinedMetricWarning: F-score is ill-defined and being set to 0.0 in labels with no predicted samples.\n",
      "  'precision', 'predicted', average, warn_for)\n",
      "/home/robert/anaconda3/lib/python3.7/site-packages/sklearn/metrics/classification.py:1135: UndefinedMetricWarning: F-score is ill-defined and being set to 0.0 in labels with no predicted samples.\n",
      "  'precision', 'predicted', average, warn_for)\n"
     ]
    },
    {
     "name": "stdout",
     "output_type": "stream",
     "text": [
      "making model:\n",
      "7\n"
     ]
    },
    {
     "name": "stderr",
     "output_type": "stream",
     "text": [
      "/home/robert/anaconda3/lib/python3.7/site-packages/sklearn/preprocessing/label.py:151: DeprecationWarning: The truth value of an empty array is ambiguous. Returning False, but in future this will result in an error. Use `array.size > 0` to check that an array is not empty.\n",
      "  if diff:\n"
     ]
    },
    {
     "name": "stdout",
     "output_type": "stream",
     "text": [
      "making model:\n",
      "8\n"
     ]
    },
    {
     "name": "stderr",
     "output_type": "stream",
     "text": [
      "/home/robert/anaconda3/lib/python3.7/site-packages/sklearn/preprocessing/label.py:151: DeprecationWarning: The truth value of an empty array is ambiguous. Returning False, but in future this will result in an error. Use `array.size > 0` to check that an array is not empty.\n",
      "  if diff:\n",
      "/home/robert/anaconda3/lib/python3.7/site-packages/sklearn/metrics/classification.py:1135: UndefinedMetricWarning: F-score is ill-defined and being set to 0.0 in labels with no predicted samples.\n",
      "  'precision', 'predicted', average, warn_for)\n",
      "/home/robert/anaconda3/lib/python3.7/site-packages/sklearn/metrics/classification.py:1135: UndefinedMetricWarning: F-score is ill-defined and being set to 0.0 in labels with no predicted samples.\n",
      "  'precision', 'predicted', average, warn_for)\n"
     ]
    },
    {
     "name": "stdout",
     "output_type": "stream",
     "text": [
      "making model:\n",
      "9\n"
     ]
    },
    {
     "name": "stderr",
     "output_type": "stream",
     "text": [
      "/home/robert/anaconda3/lib/python3.7/site-packages/sklearn/preprocessing/label.py:151: DeprecationWarning: The truth value of an empty array is ambiguous. Returning False, but in future this will result in an error. Use `array.size > 0` to check that an array is not empty.\n",
      "  if diff:\n"
     ]
    },
    {
     "name": "stdout",
     "output_type": "stream",
     "text": [
      "making model:\n",
      "10\n"
     ]
    },
    {
     "name": "stderr",
     "output_type": "stream",
     "text": [
      "/home/robert/anaconda3/lib/python3.7/site-packages/sklearn/preprocessing/label.py:151: DeprecationWarning: The truth value of an empty array is ambiguous. Returning False, but in future this will result in an error. Use `array.size > 0` to check that an array is not empty.\n",
      "  if diff:\n",
      "/home/robert/anaconda3/lib/python3.7/site-packages/sklearn/metrics/classification.py:1135: UndefinedMetricWarning: F-score is ill-defined and being set to 0.0 in labels with no predicted samples.\n",
      "  'precision', 'predicted', average, warn_for)\n",
      "/home/robert/anaconda3/lib/python3.7/site-packages/sklearn/metrics/classification.py:1135: UndefinedMetricWarning: F-score is ill-defined and being set to 0.0 in labels with no predicted samples.\n",
      "  'precision', 'predicted', average, warn_for)\n"
     ]
    }
   ],
   "source": [
    "xg = xgb.XGBClassifier(max_depth = 20, n_estimators = 1000, n_jobs=-1)\n",
    "skf = StratifiedKFold(n_splits=10, random_state = 42)\n",
    "skf.get_n_splits(X, y)\n",
    "class_f1_scores = []\n",
    "macro_f1_scores = []\n",
    "accuracy_scores = []\n",
    "feat_imp =[]\n",
    "f1_dict = {}\n",
    "feat_imp_dict = {}\n",
    "count = 0\n",
    "for train_index, test_index in skf.split(X, y):\n",
    "    count = count + 1\n",
    "    print('making model:')\n",
    "    key = 'round' + str(count)\n",
    "    print(count)\n",
    "    X_train, X_test = X[train_index], X[test_index]\n",
    "    y_train, y_test = y[train_index], y[test_index]\n",
    "    xg.fit(X_train, y_train)\n",
    "    y_pred = xg.predict(X_test)\n",
    "    class_f1_scores = f1_score(y_test, y_pred, average = None)\n",
    "    accuracy = accuracy_score(y_test, y_pred)\n",
    "    accuracy_scores.append(accuracy)\n",
    "    macro_f1_scores.append(f1_score(y_test, y_pred, average = 'weighted'))\n",
    "    f1_dict[key] = class_f1_scores \n",
    "    feat_imp_dict[key] = xg.feature_importances_"
   ]
  },
  {
   "cell_type": "code",
   "execution_count": 12,
   "metadata": {},
   "outputs": [],
   "source": [
    "f1_df = pd.DataFrame(data = f1_dict)\n"
   ]
  },
  {
   "cell_type": "code",
   "execution_count": 13,
   "metadata": {},
   "outputs": [
    {
     "name": "stdout",
     "output_type": "stream",
     "text": [
      "28\n",
      "28\n",
      "28\n",
      "28\n",
      "28\n",
      "28\n",
      "28\n",
      "28\n",
      "28\n",
      "28\n"
     ]
    }
   ],
   "source": [
    "for key in f1_dict:\n",
    "    print(len(f1_dict[key]))"
   ]
  },
  {
   "cell_type": "markdown",
   "metadata": {},
   "source": [
    "### Below are the encodings for the class variable"
   ]
  },
  {
   "cell_type": "code",
   "execution_count": 14,
   "metadata": {},
   "outputs": [
    {
     "name": "stdout",
     "output_type": "stream",
     "text": [
      "[ 0  1  2  3  4  5  6  7  8  9 10 11 12 13 14 15 16 17 18 19 20 21 22 23\n",
      " 24 25 26 27]\n",
      "['FH', 'ER', 'WW', 'TC', 'CS', 'BC', 'KQ', 'AR', 'SL', 'FG', 'WB', 'BX', 'PF', 'BM', 'WH', 'SQ', 'BP', 'WN', 'BH', 'PH', 'LB', 'AB', 'LV', 'SE', 'BA', 'SV', 'WA', 'MM']\n"
     ]
    }
   ],
   "source": [
    "print(train_data_formodel_transformed['class'].unique())\n",
    "print(list(uniques))"
   ]
  },
  {
   "cell_type": "code",
   "execution_count": 15,
   "metadata": {},
   "outputs": [],
   "source": [
    "f1_df_final = pd.concat([f1_df, pd.Series(uniques)], axis = 1)"
   ]
  },
  {
   "cell_type": "code",
   "execution_count": 16,
   "metadata": {},
   "outputs": [],
   "source": [
    "f1_df_final.rename(columns={0:'class'}, inplace=True)\n",
    "f1_df_final.set_index('class', drop = True, inplace = True)"
   ]
  },
  {
   "cell_type": "markdown",
   "metadata": {},
   "source": [
    "### Boxplot showing the distribution of class f1 scores from 10 models"
   ]
  },
  {
   "cell_type": "code",
   "execution_count": 17,
   "metadata": {},
   "outputs": [
    {
     "data": {
      "image/png": "[encoded data removed]",
      "text/plain": [
       "<Figure size 842.4x595.44 with 1 Axes>"
      ]
     },
     "metadata": {},
     "output_type": "display_data"
    }
   ],
   "source": [
    "sns.set(rc={'figure.figsize':(11.7,8.27)})\n",
    "plot = sns.boxplot(data = f1_df_final.T)\n",
    "plot.set_title('F1 scores for each site', fontdict={'fontsize': 14})\n",
    "plot.set_ylabel('F1 score', fontdict={'fontsize': 11})\n",
    "plot.set_xlabel(\"Bedrock site or superficial deposit 'region'\", fontdict={'fontsize': 11})\n",
    "\n",
    "if save_plots == True:\n",
    "    fig = plot.get_figure()\n",
    "    fig.savefig('site_specific_f1_scores.png')"
   ]
  },
  {
   "cell_type": "markdown",
   "metadata": {},
   "source": [
    "### Boxplot showing the macro F1 score with weighted averages"
   ]
  },
  {
   "cell_type": "code",
   "execution_count": 18,
   "metadata": {},
   "outputs": [
    {
     "data": {
      "image/png": "[encoded data removed]",
      "text/plain": [
       "<Figure size 842.4x595.44 with 1 Axes>"
      ]
     },
     "metadata": {},
     "output_type": "display_data"
    }
   ],
   "source": [
    "plot = sns.boxplot(macro_f1_scores)\n",
    "plot.set_title('Average-weighted macro-f1 score', fontdict={'fontsize': 14})\n",
    "plot.set_xlabel(\"F1-score\", fontdict={'fontsize': 11})\n",
    "\n",
    "if save_plots == True:\n",
    "    fig = plot.get_figure()\n",
    "    fig.savefig('macro_f1_scores.png')"
   ]
  },
  {
   "cell_type": "markdown",
   "metadata": {},
   "source": [
    "### Boxplot showing accuracy scores"
   ]
  },
  {
   "cell_type": "code",
   "execution_count": 19,
   "metadata": {},
   "outputs": [
    {
     "data": {
      "text/plain": [
       "<matplotlib.axes._subplots.AxesSubplot at 0x7fe0deb63438>"
      ]
     },
     "execution_count": 19,
     "metadata": {},
     "output_type": "execute_result"
    },
    {
     "data": {
      "image/png": "[encoded data removed]",
      "text/plain": [
       "<Figure size 842.4x595.44 with 1 Axes>"
      ]
     },
     "metadata": {},
     "output_type": "display_data"
    }
   ],
   "source": [
    "sns.boxplot(accuracy_scores)"
   ]
  },
  {
   "cell_type": "markdown",
   "metadata": {},
   "source": [
    "### Get feature importances"
   ]
  },
  {
   "cell_type": "code",
   "execution_count": 20,
   "metadata": {},
   "outputs": [
    {
     "data": {
      "text/html": [
       "<div>\n",
       "<style scoped>\n",
       "    .dataframe tbody tr th:only-of-type {\n",
       "        vertical-align: middle;\n",
       "    }\n",
       "\n",
       "    .dataframe tbody tr th {\n",
       "        vertical-align: top;\n",
       "    }\n",
       "\n",
       "    .dataframe thead th {\n",
       "        text-align: right;\n",
       "    }\n",
       "</style>\n",
       "<table border=\"1\" class=\"dataframe\">\n",
       "  <thead>\n",
       "    <tr style=\"text-align: right;\">\n",
       "      <th></th>\n",
       "      <th>round1</th>\n",
       "      <th>round2</th>\n",
       "      <th>round3</th>\n",
       "      <th>round4</th>\n",
       "      <th>round5</th>\n",
       "      <th>round6</th>\n",
       "      <th>round7</th>\n",
       "      <th>round8</th>\n",
       "      <th>round9</th>\n",
       "      <th>round10</th>\n",
       "    </tr>\n",
       "  </thead>\n",
       "  <tbody>\n",
       "    <tr>\n",
       "      <th>0</th>\n",
       "      <td>0.023296</td>\n",
       "      <td>0.028913</td>\n",
       "      <td>0.031084</td>\n",
       "      <td>0.029432</td>\n",
       "      <td>0.029301</td>\n",
       "      <td>0.034773</td>\n",
       "      <td>0.027260</td>\n",
       "      <td>0.033968</td>\n",
       "      <td>0.027576</td>\n",
       "      <td>0.028191</td>\n",
       "    </tr>\n",
       "    <tr>\n",
       "      <th>1</th>\n",
       "      <td>0.066398</td>\n",
       "      <td>0.062961</td>\n",
       "      <td>0.064135</td>\n",
       "      <td>0.051461</td>\n",
       "      <td>0.065834</td>\n",
       "      <td>0.066275</td>\n",
       "      <td>0.065687</td>\n",
       "      <td>0.071823</td>\n",
       "      <td>0.066011</td>\n",
       "      <td>0.067573</td>\n",
       "    </tr>\n",
       "    <tr>\n",
       "      <th>2</th>\n",
       "      <td>0.051782</td>\n",
       "      <td>0.052925</td>\n",
       "      <td>0.053913</td>\n",
       "      <td>0.065222</td>\n",
       "      <td>0.047090</td>\n",
       "      <td>0.050408</td>\n",
       "      <td>0.054900</td>\n",
       "      <td>0.051390</td>\n",
       "      <td>0.055295</td>\n",
       "      <td>0.051034</td>\n",
       "    </tr>\n",
       "    <tr>\n",
       "      <th>3</th>\n",
       "      <td>0.031559</td>\n",
       "      <td>0.027367</td>\n",
       "      <td>0.030697</td>\n",
       "      <td>0.029790</td>\n",
       "      <td>0.031933</td>\n",
       "      <td>0.029388</td>\n",
       "      <td>0.032771</td>\n",
       "      <td>0.024116</td>\n",
       "      <td>0.026290</td>\n",
       "      <td>0.030649</td>\n",
       "    </tr>\n",
       "    <tr>\n",
       "      <th>4</th>\n",
       "      <td>0.030306</td>\n",
       "      <td>0.027425</td>\n",
       "      <td>0.033617</td>\n",
       "      <td>0.028298</td>\n",
       "      <td>0.028694</td>\n",
       "      <td>0.028143</td>\n",
       "      <td>0.028339</td>\n",
       "      <td>0.032272</td>\n",
       "      <td>0.027976</td>\n",
       "      <td>0.029146</td>\n",
       "    </tr>\n",
       "  </tbody>\n",
       "</table>\n",
       "</div>"
      ],
      "text/plain": [
       "     round1    round2    round3    round4    round5    round6    round7  \\\n",
       "0  0.023296  0.028913  0.031084  0.029432  0.029301  0.034773  0.027260   \n",
       "1  0.066398  0.062961  0.064135  0.051461  0.065834  0.066275  0.065687   \n",
       "2  0.051782  0.052925  0.053913  0.065222  0.047090  0.050408  0.054900   \n",
       "3  0.031559  0.027367  0.030697  0.029790  0.031933  0.029388  0.032771   \n",
       "4  0.030306  0.027425  0.033617  0.028298  0.028694  0.028143  0.028339   \n",
       "\n",
       "     round8    round9   round10  \n",
       "0  0.033968  0.027576  0.028191  \n",
       "1  0.071823  0.066011  0.067573  \n",
       "2  0.051390  0.055295  0.051034  \n",
       "3  0.024116  0.026290  0.030649  \n",
       "4  0.032272  0.027976  0.029146  "
      ]
     },
     "execution_count": 20,
     "metadata": {},
     "output_type": "execute_result"
    }
   ],
   "source": [
    "feat_imp_df = pd.DataFrame(data = feat_imp_dict)\n",
    "feat_imp_df.head()"
   ]
  },
  {
   "cell_type": "code",
   "execution_count": 21,
   "metadata": {},
   "outputs": [
    {
     "data": {
      "text/html": [
       "<div>\n",
       "<style scoped>\n",
       "    .dataframe tbody tr th:only-of-type {\n",
       "        vertical-align: middle;\n",
       "    }\n",
       "\n",
       "    .dataframe tbody tr th {\n",
       "        vertical-align: top;\n",
       "    }\n",
       "\n",
       "    .dataframe thead th {\n",
       "        text-align: right;\n",
       "    }\n",
       "</style>\n",
       "<table border=\"1\" class=\"dataframe\">\n",
       "  <thead>\n",
       "    <tr style=\"text-align: right;\">\n",
       "      <th></th>\n",
       "      <th>round1</th>\n",
       "      <th>round2</th>\n",
       "      <th>round3</th>\n",
       "      <th>round4</th>\n",
       "      <th>round5</th>\n",
       "      <th>round6</th>\n",
       "      <th>round7</th>\n",
       "      <th>round8</th>\n",
       "      <th>round9</th>\n",
       "      <th>round10</th>\n",
       "      <th>element</th>\n",
       "    </tr>\n",
       "  </thead>\n",
       "  <tbody>\n",
       "    <tr>\n",
       "      <th>0</th>\n",
       "      <td>0.023296</td>\n",
       "      <td>0.028913</td>\n",
       "      <td>0.031084</td>\n",
       "      <td>0.029432</td>\n",
       "      <td>0.029301</td>\n",
       "      <td>0.034773</td>\n",
       "      <td>0.027260</td>\n",
       "      <td>0.033968</td>\n",
       "      <td>0.027576</td>\n",
       "      <td>0.028191</td>\n",
       "      <td>Li7</td>\n",
       "    </tr>\n",
       "    <tr>\n",
       "      <th>1</th>\n",
       "      <td>0.066398</td>\n",
       "      <td>0.062961</td>\n",
       "      <td>0.064135</td>\n",
       "      <td>0.051461</td>\n",
       "      <td>0.065834</td>\n",
       "      <td>0.066275</td>\n",
       "      <td>0.065687</td>\n",
       "      <td>0.071823</td>\n",
       "      <td>0.066011</td>\n",
       "      <td>0.067573</td>\n",
       "      <td>B11</td>\n",
       "    </tr>\n",
       "    <tr>\n",
       "      <th>2</th>\n",
       "      <td>0.051782</td>\n",
       "      <td>0.052925</td>\n",
       "      <td>0.053913</td>\n",
       "      <td>0.065222</td>\n",
       "      <td>0.047090</td>\n",
       "      <td>0.050408</td>\n",
       "      <td>0.054900</td>\n",
       "      <td>0.051390</td>\n",
       "      <td>0.055295</td>\n",
       "      <td>0.051034</td>\n",
       "      <td>Mg24</td>\n",
       "    </tr>\n",
       "    <tr>\n",
       "      <th>3</th>\n",
       "      <td>0.031559</td>\n",
       "      <td>0.027367</td>\n",
       "      <td>0.030697</td>\n",
       "      <td>0.029790</td>\n",
       "      <td>0.031933</td>\n",
       "      <td>0.029388</td>\n",
       "      <td>0.032771</td>\n",
       "      <td>0.024116</td>\n",
       "      <td>0.026290</td>\n",
       "      <td>0.030649</td>\n",
       "      <td>Al27</td>\n",
       "    </tr>\n",
       "    <tr>\n",
       "      <th>4</th>\n",
       "      <td>0.030306</td>\n",
       "      <td>0.027425</td>\n",
       "      <td>0.033617</td>\n",
       "      <td>0.028298</td>\n",
       "      <td>0.028694</td>\n",
       "      <td>0.028143</td>\n",
       "      <td>0.028339</td>\n",
       "      <td>0.032272</td>\n",
       "      <td>0.027976</td>\n",
       "      <td>0.029146</td>\n",
       "      <td>P31</td>\n",
       "    </tr>\n",
       "  </tbody>\n",
       "</table>\n",
       "</div>"
      ],
      "text/plain": [
       "     round1    round2    round3    round4    round5    round6    round7  \\\n",
       "0  0.023296  0.028913  0.031084  0.029432  0.029301  0.034773  0.027260   \n",
       "1  0.066398  0.062961  0.064135  0.051461  0.065834  0.066275  0.065687   \n",
       "2  0.051782  0.052925  0.053913  0.065222  0.047090  0.050408  0.054900   \n",
       "3  0.031559  0.027367  0.030697  0.029790  0.031933  0.029388  0.032771   \n",
       "4  0.030306  0.027425  0.033617  0.028298  0.028694  0.028143  0.028339   \n",
       "\n",
       "     round8    round9   round10 element  \n",
       "0  0.033968  0.027576  0.028191     Li7  \n",
       "1  0.071823  0.066011  0.067573     B11  \n",
       "2  0.051390  0.055295  0.051034    Mg24  \n",
       "3  0.024116  0.026290  0.030649    Al27  \n",
       "4  0.032272  0.027976  0.029146     P31  "
      ]
     },
     "execution_count": 21,
     "metadata": {},
     "output_type": "execute_result"
    }
   ],
   "source": [
    "feat_imp_df_final = pd.concat([feat_imp_df, pd.Series(best_feats)], axis = 1)\n",
    "feat_imp_df_final.rename(columns = {0:'element'}, inplace = True )\n",
    "feat_imp_df_final.head()"
   ]
  },
  {
   "cell_type": "code",
   "execution_count": 22,
   "metadata": {},
   "outputs": [],
   "source": [
    "feat_imp_df_final.set_index('element', inplace=True)\n"
   ]
  },
  {
   "cell_type": "code",
   "execution_count": 23,
   "metadata": {},
   "outputs": [],
   "source": [
    "feat_imp_df_final_plot = feat_imp_df_final.T"
   ]
  },
  {
   "cell_type": "code",
   "execution_count": 24,
   "metadata": {},
   "outputs": [],
   "source": [
    "feat_imp_df_final_plot\n",
    "\n",
    "elements = feat_imp_df_final_plot.columns.values \n",
    "mean_feature_importance = []\n",
    "for col in list(feat_imp_df_final_plot.columns.values):\n",
    "    mean_feature_importance.append(feat_imp_df_final_plot[col].mean())\n",
    "    "
   ]
  },
  {
   "cell_type": "code",
   "execution_count": 25,
   "metadata": {},
   "outputs": [],
   "source": [
    "mean_feature_importance_df = pd.concat([pd.Series(elements), pd.Series(mean_feature_importance)], axis = 1)"
   ]
  },
  {
   "cell_type": "code",
   "execution_count": 26,
   "metadata": {},
   "outputs": [],
   "source": [
    "mean_feature_importance_df.rename(columns={0:'elements', 1:'mean_importance'}, inplace=True)"
   ]
  },
  {
   "cell_type": "code",
   "execution_count": 27,
   "metadata": {},
   "outputs": [],
   "source": [
    "mean_feature_importance_df.sort_values(by='mean_importance', ascending=False, inplace=True)"
   ]
  },
  {
   "cell_type": "code",
   "execution_count": 28,
   "metadata": {},
   "outputs": [],
   "source": [
    "ordered_col_names = list(mean_feature_importance_df['elements'])"
   ]
  },
  {
   "cell_type": "code",
   "execution_count": 29,
   "metadata": {},
   "outputs": [
    {
     "data": {
      "image/png": "[encoded data removed]",
      "text/plain": [
       "<Figure size 1440x1440 with 1 Axes>"
      ]
     },
     "metadata": {},
     "output_type": "display_data"
    }
   ],
   "source": [
    "sns.set_style(\"whitegrid\")\n",
    "sns.set_style()\n",
    "sns.set(rc={'figure.figsize':(20,20)})\n",
    "plot = sns.boxplot(data = feat_imp_df_final_plot[ordered_col_names])\n",
    "plot.set_xticklabels(plot.get_xticklabels(),rotation=90, ha = 'left')\n",
    "plot.set_title('Feature (element) importance', fontdict={'fontsize': 20})\n",
    "plot.set_ylabel('Feature importance', fontdict={'fontsize': 15})\n",
    "plot.set_xlabel(\"Element\", fontdict={'fontsize': 15})\n",
    "\n",
    "if save_plots == True:\n",
    "    fig = plot.get_figure()\n",
    "    fig.savefig('feature_importances.png')"
   ]
  },
  {
   "cell_type": "markdown",
   "metadata": {},
   "source": [
    "### Model is built for predicting source of artefacts "
   ]
  },
  {
   "cell_type": "code",
   "execution_count": 30,
   "metadata": {},
   "outputs": [
    {
     "ename": "NameError",
     "evalue": "name 'RandomForestClassifier' is not defined",
     "output_type": "error",
     "traceback": [
      "\u001b[0;31m---------------------------------------------------------------------------\u001b[0m",
      "\u001b[0;31mNameError\u001b[0m                                 Traceback (most recent call last)",
      "\u001b[0;32m<ipython-input-30-da89552fe5c5>\u001b[0m in \u001b[0;36m<module>\u001b[0;34m()\u001b[0m\n\u001b[0;32m----> 1\u001b[0;31m \u001b[0mRFC_final\u001b[0m \u001b[0;34m=\u001b[0m \u001b[0mRandomForestClassifier\u001b[0m\u001b[0;34m(\u001b[0m\u001b[0mn_estimators\u001b[0m\u001b[0;34m=\u001b[0m\u001b[0;36m800\u001b[0m\u001b[0;34m)\u001b[0m\u001b[0;34m\u001b[0m\u001b[0m\n\u001b[0m",
      "\u001b[0;31mNameError\u001b[0m: name 'RandomForestClassifier' is not defined"
     ]
    }
   ],
   "source": [
    "RFC_final = RandomForestClassifier(n_estimators=800)"
   ]
  },
  {
   "cell_type": "code",
   "execution_count": null,
   "metadata": {},
   "outputs": [],
   "source": [
    "RFC_final.fit(X, y)"
   ]
  },
  {
   "cell_type": "code",
   "execution_count": null,
   "metadata": {},
   "outputs": [],
   "source": [
    "print(train_data_formodel_transformed['class'].unique())\n",
    "print(uniques)"
   ]
  },
  {
   "cell_type": "code",
   "execution_count": null,
   "metadata": {},
   "outputs": [],
   "source": [
    "df_for_identifiers = test_data.copy(deep = True)\n",
    "identifiers =  df_for_identifiers['Analysis']"
   ]
  },
  {
   "cell_type": "markdown",
   "metadata": {},
   "source": [
    "### Predictions are made for the artefacts"
   ]
  },
  {
   "cell_type": "code",
   "execution_count": null,
   "metadata": {},
   "outputs": [],
   "source": [
    "y_pred = RFC_final.predict(np.array(test_data[best_feats]))\n",
    "\n",
    "y_pred_proba = RFC_final.predict_proba(np.array(test_data[best_feats]))\n"
   ]
  },
  {
   "cell_type": "code",
   "execution_count": null,
   "metadata": {},
   "outputs": [],
   "source": [
    "probabilities_df = pd.DataFrame(data = y_pred_proba, columns = uniques)\n",
    "probabilities_df_final = pd.concat([probabilities_df, pd.Series(list(identifiers))], axis = 1)"
   ]
  },
  {
   "cell_type": "code",
   "execution_count": null,
   "metadata": {},
   "outputs": [],
   "source": [
    "probabilities_df_final.rename(columns = {0:'identifier'}, inplace=True)"
   ]
  },
  {
   "cell_type": "code",
   "execution_count": null,
   "metadata": {},
   "outputs": [],
   "source": []
  },
  {
   "cell_type": "code",
   "execution_count": null,
   "metadata": {},
   "outputs": [],
   "source": [
    "final_pred_df = pd.concat([pd.Series(y_pred), probabilities_df_final], axis = 1)"
   ]
  },
  {
   "cell_type": "code",
   "execution_count": null,
   "metadata": {},
   "outputs": [],
   "source": [
    "final_pred_df.rename(columns={0:'class_number'}, inplace = True)"
   ]
  },
  {
   "cell_type": "code",
   "execution_count": null,
   "metadata": {},
   "outputs": [],
   "source": [
    "final_pred_df.to_csv('predictions.csv')\n"
   ]
  },
  {
   "cell_type": "code",
   "execution_count": null,
   "metadata": {},
   "outputs": [],
   "source": [
    "uniques_list = list(uniques)\n",
    "def get_pred_names(row):\n",
    "    return(uniques_list[row['class_number']])\n",
    "final_pred_df['class_predictions'] = final_pred_df.apply(get_pred_names, axis = 1)"
   ]
  },
  {
   "cell_type": "code",
   "execution_count": null,
   "metadata": {},
   "outputs": [],
   "source": [
    "#final_pred_df_modal = final_pred_df.groupby(by = 'class_number')"
   ]
  },
  {
   "cell_type": "code",
   "execution_count": null,
   "metadata": {},
   "outputs": [],
   "source": [
    "final_pred_df"
   ]
  }
 ],
 "metadata": {
  "kernelspec": {
   "display_name": "Python 3",
   "language": "python",
   "name": "python3"
  },
  "language_info": {
   "codemirror_mode": {
    "name": "ipython",
    "version": 3
   },
   "file_extension": ".py",
   "mimetype": "text/x-python",
   "name": "python",
   "nbconvert_exporter": "python",
   "pygments_lexer": "ipython3",
   "version": "3.7.0"
  }
 },
 "nbformat": 4,
 "nbformat_minor": 2
}
