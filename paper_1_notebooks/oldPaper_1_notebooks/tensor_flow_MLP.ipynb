{
 "cells": [
  {
   "cell_type": "markdown",
   "metadata": {},
   "source": [
    "# tensor flow MLP"
   ]
  },
  {
   "cell_type": "code",
   "execution_count": 88,
   "metadata": {},
   "outputs": [],
   "source": [
    "import tensorflow as tf\n",
    "import pandas as pd\n",
    "import numpy as np\n",
    "from sklearn.metrics import confusion_matrix, classification_report\n",
    "\n",
    "import pandas as pd\n",
    "import numpy as np\n",
    "\n",
    "from sklearn.model_selection import train_test_split, StratifiedKFold\n",
    "from sklearn.metrics import classification_report, accuracy_score\n",
    "from sklearn.ensemble import RandomForestClassifier\n",
    "from sklearn.model_selection import StratifiedKFold, RandomizedSearchCV, GridSearchCV\n",
    "from sklearn.metrics import accuracy_score, f1_score\n",
    "from sklearn.preprocessing import StandardScaler\n",
    "\n",
    "import tensorflow as tf"
   ]
  },
  {
   "cell_type": "code",
   "execution_count": null,
   "metadata": {},
   "outputs": [],
   "source": []
  },
  {
   "cell_type": "code",
   "execution_count": 27,
   "metadata": {},
   "outputs": [],
   "source": [
    "%store -r train_data_formodel\n",
    "%store -r test_data\n",
    "%store -r my_data\n",
    "%store -r uniques\n",
    "%store -r best_feats\n",
    "\n"
   ]
  },
  {
   "cell_type": "markdown",
   "metadata": {},
   "source": [
    "### configurations\n",
    "* save_plots -> True|False\n",
    "* random_seed_state -> number, sets random state for model and for stratified splits \n",
    "* classify_bedrock_only -> True|False\n",
    "* pickle_model -> True|False, wether model should be serialised and saved\n",
    "* pickle_model_name -> string, name of serialised model\n",
    "* grid_search -> True|False, if set to true then grid search is performed to identify optimum hyperparamaters for model \n",
    "* scale -> True|False if set to True then features scaled to all have mean value 0 and standard deviation 1\n",
    "* pickle_file_path -> string,  filepath for serialised model to be saved to"
   ]
  },
  {
   "cell_type": "code",
   "execution_count": 28,
   "metadata": {},
   "outputs": [],
   "source": [
    "save_plots = False\n",
    "random_seed_state = 42\n",
    "classify_bedrock_only = False\n",
    "pickle_model = False\n",
    "pickle_model_name = 'grouped'\n",
    "pickle_file_path = '../../../model'\n",
    "grid_search = True\n",
    "scale = True\n",
    "useBestFeats = False"
   ]
  },
  {
   "cell_type": "markdown",
   "metadata": {},
   "source": [
    "### if only bedrock sites are classified then classes are label encoded, if bedrock sites alone are not being classified then the class sites would have already been label encoded in the 1 data_preproccessing notebook "
   ]
  },
  {
   "cell_type": "code",
   "execution_count": 29,
   "metadata": {},
   "outputs": [],
   "source": [
    "if classify_bedrock_only:\n",
    "    train_data_formodel['class'], uniques = pd.factorize(train_data_formodel['class'])\n",
    "    train_data_formodel = train_data_formodel[train_data_formodel['Geology']=='Bedrock']"
   ]
  },
  {
   "cell_type": "markdown",
   "metadata": {},
   "source": [
    "### The class column is stored as the variable y "
   ]
  },
  {
   "cell_type": "code",
   "execution_count": 92,
   "metadata": {},
   "outputs": [],
   "source": [
    "y = np.array(train_data_formodel['class'])"
   ]
  },
  {
   "cell_type": "code",
   "execution_count": 73,
   "metadata": {},
   "outputs": [],
   "source": [
    "y = pd.DataFrame(data = train_data_formodel['class'], columns = ['class'])"
   ]
  },
  {
   "cell_type": "code",
   "execution_count": 31,
   "metadata": {},
   "outputs": [
    {
     "data": {
      "text/plain": [
       "array(['Li7', 'Be9', 'B11', 'Mg24', 'Al27', 'Si28', 'P31', 'S33', 'K39',\n",
       "       'Ca42', 'Sc45', 'Ti47', 'V51', 'Cr52', 'Mn55', 'Fe56', 'Co59',\n",
       "       'Ni60', 'Cu63', 'Zn68', 'Ga69', 'Ge72', 'As75', 'Rb85', 'Sr88',\n",
       "       'Y89', 'Zr90', 'Nb93', 'Mo95', 'Cd111', 'In115', 'Sn118', 'Cs133',\n",
       "       'Ba137', 'La139', 'Ce140', 'Pr141', 'Nd146', 'Sm147', 'Eu153',\n",
       "       'Gd157', 'Tb159', 'Dy163', 'Ho165', 'Er166', 'Tm169', 'Yb172',\n",
       "       'Lu175', 'Hf178', 'Ta181', 'Pb208', 'Th232', 'U238'], dtype=object)"
      ]
     },
     "execution_count": 31,
     "metadata": {},
     "output_type": "execute_result"
    }
   ],
   "source": [
    "train_data_formodel.columns.values[9:-1]"
   ]
  },
  {
   "cell_type": "markdown",
   "metadata": {},
   "source": [
    "### The variables identified as best by the 2 feature_selection notebook are used as features"
   ]
  },
  {
   "cell_type": "code",
   "execution_count": 36,
   "metadata": {},
   "outputs": [],
   "source": [
    "if useBestFeats:\n",
    "    train_data_feats = train_data_formodel[best_feats]\n",
    "else:\n",
    "    train_data_feats = train_data_formodel[train_data_formodel.columns.values[9:-1]]"
   ]
  },
  {
   "cell_type": "markdown",
   "metadata": {},
   "source": [
    "### the dimensions of the class and features are checked"
   ]
  },
  {
   "cell_type": "code",
   "execution_count": 34,
   "metadata": {},
   "outputs": [
    {
     "name": "stdout",
     "output_type": "stream",
     "text": [
      "(1158, 53)\n",
      "(1158,)\n",
      "25\n"
     ]
    }
   ],
   "source": [
    "print(X.shape)\n",
    "print(y.shape)\n",
    "print(len(train_data_formodel['class'].unique()))"
   ]
  },
  {
   "cell_type": "code",
   "execution_count": 67,
   "metadata": {},
   "outputs": [],
   "source": [
    "scaled_feats_df = pd.DataFrame(data = my_scaler.fit_transform(train_data_feats), columns = train_data_feats.columns.values)"
   ]
  },
  {
   "cell_type": "markdown",
   "metadata": {},
   "source": [
    "Subset data into that for training and evaluation and then that for predicting and plotting to graphically evaluate model performancem"
   ]
  },
  {
   "cell_type": "markdown",
   "metadata": {},
   "source": [
    "### Create tensorflow objects for the features, thes contain indexes to the feature columns within the dataframe"
   ]
  },
  {
   "cell_type": "code",
   "execution_count": 68,
   "metadata": {},
   "outputs": [],
   "source": [
    "tf_column_objects = []\n",
    "for col in train_data_feats.columns.values:\n",
    "    tf_column_objects.append(tf.feature_column.numeric_column(col))"
   ]
  },
  {
   "cell_type": "code",
   "execution_count": 93,
   "metadata": {},
   "outputs": [],
   "source": [
    "if scale:\n",
    "    my_scaler = StandardScaler()\n",
    "    X = np.array(my_scaler.fit_transform(train_data_feats))\n",
    "else:\n",
    "    X = np.array(train_data_feats)"
   ]
  },
  {
   "cell_type": "code",
   "execution_count": 74,
   "metadata": {},
   "outputs": [
    {
     "data": {
      "text/html": [
       "<div>\n",
       "<style scoped>\n",
       "    .dataframe tbody tr th:only-of-type {\n",
       "        vertical-align: middle;\n",
       "    }\n",
       "\n",
       "    .dataframe tbody tr th {\n",
       "        vertical-align: top;\n",
       "    }\n",
       "\n",
       "    .dataframe thead th {\n",
       "        text-align: right;\n",
       "    }\n",
       "</style>\n",
       "<table border=\"1\" class=\"dataframe\">\n",
       "  <thead>\n",
       "    <tr style=\"text-align: right;\">\n",
       "      <th></th>\n",
       "      <th>class</th>\n",
       "    </tr>\n",
       "  </thead>\n",
       "  <tbody>\n",
       "    <tr>\n",
       "      <th>0</th>\n",
       "      <td>0</td>\n",
       "    </tr>\n",
       "    <tr>\n",
       "      <th>1</th>\n",
       "      <td>0</td>\n",
       "    </tr>\n",
       "    <tr>\n",
       "      <th>2</th>\n",
       "      <td>0</td>\n",
       "    </tr>\n",
       "    <tr>\n",
       "      <th>3</th>\n",
       "      <td>0</td>\n",
       "    </tr>\n",
       "    <tr>\n",
       "      <th>4</th>\n",
       "      <td>0</td>\n",
       "    </tr>\n",
       "  </tbody>\n",
       "</table>\n",
       "</div>"
      ],
      "text/plain": [
       "   class\n",
       "0      0\n",
       "1      0\n",
       "2      0\n",
       "3      0\n",
       "4      0"
      ]
     },
     "execution_count": 74,
     "metadata": {},
     "output_type": "execute_result"
    }
   ],
   "source": [
    "y.head()"
   ]
  },
  {
   "cell_type": "code",
   "execution_count": 69,
   "metadata": {},
   "outputs": [
    {
     "data": {
      "text/html": [
       "<div>\n",
       "<style scoped>\n",
       "    .dataframe tbody tr th:only-of-type {\n",
       "        vertical-align: middle;\n",
       "    }\n",
       "\n",
       "    .dataframe tbody tr th {\n",
       "        vertical-align: top;\n",
       "    }\n",
       "\n",
       "    .dataframe thead th {\n",
       "        text-align: right;\n",
       "    }\n",
       "</style>\n",
       "<table border=\"1\" class=\"dataframe\">\n",
       "  <thead>\n",
       "    <tr style=\"text-align: right;\">\n",
       "      <th></th>\n",
       "      <th>Li7</th>\n",
       "      <th>Be9</th>\n",
       "      <th>B11</th>\n",
       "      <th>Mg24</th>\n",
       "      <th>Al27</th>\n",
       "      <th>Si28</th>\n",
       "      <th>P31</th>\n",
       "      <th>S33</th>\n",
       "      <th>K39</th>\n",
       "      <th>Ca42</th>\n",
       "      <th>...</th>\n",
       "      <th>Ho165</th>\n",
       "      <th>Er166</th>\n",
       "      <th>Tm169</th>\n",
       "      <th>Yb172</th>\n",
       "      <th>Lu175</th>\n",
       "      <th>Hf178</th>\n",
       "      <th>Ta181</th>\n",
       "      <th>Pb208</th>\n",
       "      <th>Th232</th>\n",
       "      <th>U238</th>\n",
       "    </tr>\n",
       "  </thead>\n",
       "  <tbody>\n",
       "    <tr>\n",
       "      <th>0</th>\n",
       "      <td>1.818554</td>\n",
       "      <td>-0.651984</td>\n",
       "      <td>-1.493072</td>\n",
       "      <td>0.242674</td>\n",
       "      <td>1.472687</td>\n",
       "      <td>0.275474</td>\n",
       "      <td>-0.284403</td>\n",
       "      <td>-1.489943</td>\n",
       "      <td>0.806942</td>\n",
       "      <td>-0.133532</td>\n",
       "      <td>...</td>\n",
       "      <td>-0.264463</td>\n",
       "      <td>-0.390974</td>\n",
       "      <td>-0.504395</td>\n",
       "      <td>-0.951738</td>\n",
       "      <td>-1.236944</td>\n",
       "      <td>0.084932</td>\n",
       "      <td>-0.540698</td>\n",
       "      <td>-0.536089</td>\n",
       "      <td>-0.608341</td>\n",
       "      <td>-1.401523</td>\n",
       "    </tr>\n",
       "    <tr>\n",
       "      <th>1</th>\n",
       "      <td>0.995105</td>\n",
       "      <td>-0.783879</td>\n",
       "      <td>-1.699639</td>\n",
       "      <td>0.242674</td>\n",
       "      <td>1.973830</td>\n",
       "      <td>0.289635</td>\n",
       "      <td>-0.279239</td>\n",
       "      <td>-2.175133</td>\n",
       "      <td>0.204106</td>\n",
       "      <td>-0.257266</td>\n",
       "      <td>...</td>\n",
       "      <td>-0.264463</td>\n",
       "      <td>-0.390974</td>\n",
       "      <td>-0.504395</td>\n",
       "      <td>-0.587038</td>\n",
       "      <td>-0.493813</td>\n",
       "      <td>0.368419</td>\n",
       "      <td>-1.210056</td>\n",
       "      <td>-0.719445</td>\n",
       "      <td>-0.390580</td>\n",
       "      <td>-1.461231</td>\n",
       "    </tr>\n",
       "    <tr>\n",
       "      <th>2</th>\n",
       "      <td>2.699824</td>\n",
       "      <td>-0.915775</td>\n",
       "      <td>-1.693309</td>\n",
       "      <td>0.718602</td>\n",
       "      <td>0.257396</td>\n",
       "      <td>0.349975</td>\n",
       "      <td>-0.270839</td>\n",
       "      <td>-2.622551</td>\n",
       "      <td>-0.009259</td>\n",
       "      <td>0.020547</td>\n",
       "      <td>...</td>\n",
       "      <td>-0.613126</td>\n",
       "      <td>-0.243987</td>\n",
       "      <td>-0.504395</td>\n",
       "      <td>-0.222338</td>\n",
       "      <td>-1.236944</td>\n",
       "      <td>-0.482043</td>\n",
       "      <td>-0.540698</td>\n",
       "      <td>-0.298805</td>\n",
       "      <td>-1.043861</td>\n",
       "      <td>-1.401523</td>\n",
       "    </tr>\n",
       "    <tr>\n",
       "      <th>3</th>\n",
       "      <td>0.927315</td>\n",
       "      <td>2.029893</td>\n",
       "      <td>-1.567873</td>\n",
       "      <td>0.242674</td>\n",
       "      <td>2.222072</td>\n",
       "      <td>-0.303571</td>\n",
       "      <td>0.300380</td>\n",
       "      <td>2.178149</td>\n",
       "      <td>1.617655</td>\n",
       "      <td>0.783982</td>\n",
       "      <td>...</td>\n",
       "      <td>-0.264463</td>\n",
       "      <td>-0.537961</td>\n",
       "      <td>-1.206954</td>\n",
       "      <td>-0.769388</td>\n",
       "      <td>-1.236944</td>\n",
       "      <td>1.218882</td>\n",
       "      <td>-1.210056</td>\n",
       "      <td>-0.104663</td>\n",
       "      <td>-1.043861</td>\n",
       "      <td>-1.520939</td>\n",
       "    </tr>\n",
       "    <tr>\n",
       "      <th>4</th>\n",
       "      <td>2.233270</td>\n",
       "      <td>0.227320</td>\n",
       "      <td>-1.498826</td>\n",
       "      <td>0.235404</td>\n",
       "      <td>-0.016805</td>\n",
       "      <td>0.293065</td>\n",
       "      <td>-0.285865</td>\n",
       "      <td>-1.993681</td>\n",
       "      <td>-0.765547</td>\n",
       "      <td>0.393186</td>\n",
       "      <td>...</td>\n",
       "      <td>-0.264463</td>\n",
       "      <td>-0.537961</td>\n",
       "      <td>-0.504395</td>\n",
       "      <td>-0.404688</td>\n",
       "      <td>-0.493813</td>\n",
       "      <td>-0.482043</td>\n",
       "      <td>-0.540698</td>\n",
       "      <td>-0.158591</td>\n",
       "      <td>-0.826101</td>\n",
       "      <td>-1.162692</td>\n",
       "    </tr>\n",
       "  </tbody>\n",
       "</table>\n",
       "<p>5 rows × 53 columns</p>\n",
       "</div>"
      ],
      "text/plain": [
       "        Li7       Be9       B11      Mg24      Al27      Si28       P31  \\\n",
       "0  1.818554 -0.651984 -1.493072  0.242674  1.472687  0.275474 -0.284403   \n",
       "1  0.995105 -0.783879 -1.699639  0.242674  1.973830  0.289635 -0.279239   \n",
       "2  2.699824 -0.915775 -1.693309  0.718602  0.257396  0.349975 -0.270839   \n",
       "3  0.927315  2.029893 -1.567873  0.242674  2.222072 -0.303571  0.300380   \n",
       "4  2.233270  0.227320 -1.498826  0.235404 -0.016805  0.293065 -0.285865   \n",
       "\n",
       "        S33       K39      Ca42    ...        Ho165     Er166     Tm169  \\\n",
       "0 -1.489943  0.806942 -0.133532    ...    -0.264463 -0.390974 -0.504395   \n",
       "1 -2.175133  0.204106 -0.257266    ...    -0.264463 -0.390974 -0.504395   \n",
       "2 -2.622551 -0.009259  0.020547    ...    -0.613126 -0.243987 -0.504395   \n",
       "3  2.178149  1.617655  0.783982    ...    -0.264463 -0.537961 -1.206954   \n",
       "4 -1.993681 -0.765547  0.393186    ...    -0.264463 -0.537961 -0.504395   \n",
       "\n",
       "      Yb172     Lu175     Hf178     Ta181     Pb208     Th232      U238  \n",
       "0 -0.951738 -1.236944  0.084932 -0.540698 -0.536089 -0.608341 -1.401523  \n",
       "1 -0.587038 -0.493813  0.368419 -1.210056 -0.719445 -0.390580 -1.461231  \n",
       "2 -0.222338 -1.236944 -0.482043 -0.540698 -0.298805 -1.043861 -1.401523  \n",
       "3 -0.769388 -1.236944  1.218882 -1.210056 -0.104663 -1.043861 -1.520939  \n",
       "4 -0.404688 -0.493813 -0.482043 -0.540698 -0.158591 -0.826101 -1.162692  \n",
       "\n",
       "[5 rows x 53 columns]"
      ]
     },
     "execution_count": 69,
     "metadata": {},
     "output_type": "execute_result"
    }
   ],
   "source": [
    "scaled_feats_df.head()"
   ]
  },
  {
   "cell_type": "markdown",
   "metadata": {},
   "source": [
    "### Split up data for training and testing"
   ]
  },
  {
   "cell_type": "code",
   "execution_count": 94,
   "metadata": {},
   "outputs": [],
   "source": [
    "X_train, X_test, y_train, y_test = train_test_split(scaled_feats_df, y, test_size=0.3)"
   ]
  },
  {
   "cell_type": "code",
   "execution_count": 90,
   "metadata": {},
   "outputs": [
    {
     "data": {
      "text/html": [
       "<div>\n",
       "<style scoped>\n",
       "    .dataframe tbody tr th:only-of-type {\n",
       "        vertical-align: middle;\n",
       "    }\n",
       "\n",
       "    .dataframe tbody tr th {\n",
       "        vertical-align: top;\n",
       "    }\n",
       "\n",
       "    .dataframe thead th {\n",
       "        text-align: right;\n",
       "    }\n",
       "</style>\n",
       "<table border=\"1\" class=\"dataframe\">\n",
       "  <thead>\n",
       "    <tr style=\"text-align: right;\">\n",
       "      <th></th>\n",
       "      <th>Li7</th>\n",
       "      <th>Be9</th>\n",
       "      <th>B11</th>\n",
       "      <th>Mg24</th>\n",
       "      <th>Al27</th>\n",
       "      <th>Si28</th>\n",
       "      <th>P31</th>\n",
       "      <th>S33</th>\n",
       "      <th>K39</th>\n",
       "      <th>Ca42</th>\n",
       "      <th>...</th>\n",
       "      <th>Ho165</th>\n",
       "      <th>Er166</th>\n",
       "      <th>Tm169</th>\n",
       "      <th>Yb172</th>\n",
       "      <th>Lu175</th>\n",
       "      <th>Hf178</th>\n",
       "      <th>Ta181</th>\n",
       "      <th>Pb208</th>\n",
       "      <th>Th232</th>\n",
       "      <th>U238</th>\n",
       "    </tr>\n",
       "  </thead>\n",
       "  <tbody>\n",
       "    <tr>\n",
       "      <th>865</th>\n",
       "      <td>0.325180</td>\n",
       "      <td>-0.739914</td>\n",
       "      <td>-0.284742</td>\n",
       "      <td>-0.215687</td>\n",
       "      <td>1.397065</td>\n",
       "      <td>0.196186</td>\n",
       "      <td>-0.268245</td>\n",
       "      <td>1.894228</td>\n",
       "      <td>2.041198</td>\n",
       "      <td>-0.395065</td>\n",
       "      <td>...</td>\n",
       "      <td>0.084200</td>\n",
       "      <td>-0.243987</td>\n",
       "      <td>0.198164</td>\n",
       "      <td>-0.404688</td>\n",
       "      <td>0.249318</td>\n",
       "      <td>0.368419</td>\n",
       "      <td>2.136733</td>\n",
       "      <td>-0.212520</td>\n",
       "      <td>0.915981</td>\n",
       "      <td>-0.744737</td>\n",
       "    </tr>\n",
       "    <tr>\n",
       "      <th>249</th>\n",
       "      <td>0.020125</td>\n",
       "      <td>-0.651984</td>\n",
       "      <td>0.657755</td>\n",
       "      <td>-0.298852</td>\n",
       "      <td>0.230123</td>\n",
       "      <td>0.228334</td>\n",
       "      <td>-0.269519</td>\n",
       "      <td>-2.018666</td>\n",
       "      <td>0.267292</td>\n",
       "      <td>0.399337</td>\n",
       "      <td>...</td>\n",
       "      <td>-0.264463</td>\n",
       "      <td>-0.537961</td>\n",
       "      <td>-0.504395</td>\n",
       "      <td>-0.951738</td>\n",
       "      <td>-1.236944</td>\n",
       "      <td>-0.482043</td>\n",
       "      <td>-1.210056</td>\n",
       "      <td>0.035550</td>\n",
       "      <td>-0.608341</td>\n",
       "      <td>0.150882</td>\n",
       "    </tr>\n",
       "    <tr>\n",
       "      <th>304</th>\n",
       "      <td>-0.382627</td>\n",
       "      <td>-0.080436</td>\n",
       "      <td>0.054166</td>\n",
       "      <td>0.306989</td>\n",
       "      <td>0.280876</td>\n",
       "      <td>-0.169340</td>\n",
       "      <td>0.028075</td>\n",
       "      <td>-1.297500</td>\n",
       "      <td>0.553311</td>\n",
       "      <td>0.798468</td>\n",
       "      <td>...</td>\n",
       "      <td>1.478851</td>\n",
       "      <td>1.372870</td>\n",
       "      <td>0.900723</td>\n",
       "      <td>0.689412</td>\n",
       "      <td>0.249318</td>\n",
       "      <td>0.368419</td>\n",
       "      <td>0.128660</td>\n",
       "      <td>0.520904</td>\n",
       "      <td>0.044940</td>\n",
       "      <td>0.125012</td>\n",
       "    </tr>\n",
       "    <tr>\n",
       "      <th>710</th>\n",
       "      <td>-0.284930</td>\n",
       "      <td>0.227320</td>\n",
       "      <td>-0.593729</td>\n",
       "      <td>0.390154</td>\n",
       "      <td>0.215735</td>\n",
       "      <td>-0.059668</td>\n",
       "      <td>-0.079749</td>\n",
       "      <td>0.522483</td>\n",
       "      <td>0.666233</td>\n",
       "      <td>0.520203</td>\n",
       "      <td>...</td>\n",
       "      <td>0.432863</td>\n",
       "      <td>-0.390974</td>\n",
       "      <td>0.198164</td>\n",
       "      <td>0.142362</td>\n",
       "      <td>0.992448</td>\n",
       "      <td>-0.765530</td>\n",
       "      <td>1.467376</td>\n",
       "      <td>-0.374304</td>\n",
       "      <td>0.480461</td>\n",
       "      <td>0.927084</td>\n",
       "    </tr>\n",
       "    <tr>\n",
       "      <th>181</th>\n",
       "      <td>-0.464374</td>\n",
       "      <td>0.007494</td>\n",
       "      <td>1.531205</td>\n",
       "      <td>0.354888</td>\n",
       "      <td>-0.715212</td>\n",
       "      <td>-0.674931</td>\n",
       "      <td>0.140496</td>\n",
       "      <td>0.447936</td>\n",
       "      <td>-0.278376</td>\n",
       "      <td>2.598219</td>\n",
       "      <td>...</td>\n",
       "      <td>3.919491</td>\n",
       "      <td>2.842739</td>\n",
       "      <td>1.603282</td>\n",
       "      <td>3.607012</td>\n",
       "      <td>1.735579</td>\n",
       "      <td>-0.198555</td>\n",
       "      <td>-0.540698</td>\n",
       "      <td>-0.126235</td>\n",
       "      <td>0.262700</td>\n",
       "      <td>0.125012</td>\n",
       "    </tr>\n",
       "  </tbody>\n",
       "</table>\n",
       "<p>5 rows × 53 columns</p>\n",
       "</div>"
      ],
      "text/plain": [
       "          Li7       Be9       B11      Mg24      Al27      Si28       P31  \\\n",
       "865  0.325180 -0.739914 -0.284742 -0.215687  1.397065  0.196186 -0.268245   \n",
       "249  0.020125 -0.651984  0.657755 -0.298852  0.230123  0.228334 -0.269519   \n",
       "304 -0.382627 -0.080436  0.054166  0.306989  0.280876 -0.169340  0.028075   \n",
       "710 -0.284930  0.227320 -0.593729  0.390154  0.215735 -0.059668 -0.079749   \n",
       "181 -0.464374  0.007494  1.531205  0.354888 -0.715212 -0.674931  0.140496   \n",
       "\n",
       "          S33       K39      Ca42    ...        Ho165     Er166     Tm169  \\\n",
       "865  1.894228  2.041198 -0.395065    ...     0.084200 -0.243987  0.198164   \n",
       "249 -2.018666  0.267292  0.399337    ...    -0.264463 -0.537961 -0.504395   \n",
       "304 -1.297500  0.553311  0.798468    ...     1.478851  1.372870  0.900723   \n",
       "710  0.522483  0.666233  0.520203    ...     0.432863 -0.390974  0.198164   \n",
       "181  0.447936 -0.278376  2.598219    ...     3.919491  2.842739  1.603282   \n",
       "\n",
       "        Yb172     Lu175     Hf178     Ta181     Pb208     Th232      U238  \n",
       "865 -0.404688  0.249318  0.368419  2.136733 -0.212520  0.915981 -0.744737  \n",
       "249 -0.951738 -1.236944 -0.482043 -1.210056  0.035550 -0.608341  0.150882  \n",
       "304  0.689412  0.249318  0.368419  0.128660  0.520904  0.044940  0.125012  \n",
       "710  0.142362  0.992448 -0.765530  1.467376 -0.374304  0.480461  0.927084  \n",
       "181  3.607012  1.735579 -0.198555 -0.540698 -0.126235  0.262700  0.125012  \n",
       "\n",
       "[5 rows x 53 columns]"
      ]
     },
     "execution_count": 90,
     "metadata": {},
     "output_type": "execute_result"
    }
   ],
   "source": [
    "X_test.head()"
   ]
  },
  {
   "cell_type": "code",
   "execution_count": 91,
   "metadata": {},
   "outputs": [
    {
     "data": {
      "text/html": [
       "<div>\n",
       "<style scoped>\n",
       "    .dataframe tbody tr th:only-of-type {\n",
       "        vertical-align: middle;\n",
       "    }\n",
       "\n",
       "    .dataframe tbody tr th {\n",
       "        vertical-align: top;\n",
       "    }\n",
       "\n",
       "    .dataframe thead th {\n",
       "        text-align: right;\n",
       "    }\n",
       "</style>\n",
       "<table border=\"1\" class=\"dataframe\">\n",
       "  <thead>\n",
       "    <tr style=\"text-align: right;\">\n",
       "      <th></th>\n",
       "      <th>class</th>\n",
       "    </tr>\n",
       "  </thead>\n",
       "  <tbody>\n",
       "    <tr>\n",
       "      <th>950</th>\n",
       "      <td>21</td>\n",
       "    </tr>\n",
       "    <tr>\n",
       "      <th>283</th>\n",
       "      <td>5</td>\n",
       "    </tr>\n",
       "    <tr>\n",
       "      <th>338</th>\n",
       "      <td>7</td>\n",
       "    </tr>\n",
       "    <tr>\n",
       "      <th>792</th>\n",
       "      <td>17</td>\n",
       "    </tr>\n",
       "    <tr>\n",
       "      <th>185</th>\n",
       "      <td>4</td>\n",
       "    </tr>\n",
       "  </tbody>\n",
       "</table>\n",
       "</div>"
      ],
      "text/plain": [
       "     class\n",
       "950     21\n",
       "283      5\n",
       "338      7\n",
       "792     17\n",
       "185      4"
      ]
     },
     "execution_count": 91,
     "metadata": {},
     "output_type": "execute_result"
    }
   ],
   "source": [
    "y_test.head()"
   ]
  },
  {
   "cell_type": "code",
   "execution_count": 83,
   "metadata": {},
   "outputs": [
    {
     "data": {
      "text/html": [
       "<div>\n",
       "<style scoped>\n",
       "    .dataframe tbody tr th:only-of-type {\n",
       "        vertical-align: middle;\n",
       "    }\n",
       "\n",
       "    .dataframe tbody tr th {\n",
       "        vertical-align: top;\n",
       "    }\n",
       "\n",
       "    .dataframe thead th {\n",
       "        text-align: right;\n",
       "    }\n",
       "</style>\n",
       "<table border=\"1\" class=\"dataframe\">\n",
       "  <thead>\n",
       "    <tr style=\"text-align: right;\">\n",
       "      <th></th>\n",
       "      <th>Li7</th>\n",
       "      <th>Be9</th>\n",
       "      <th>B11</th>\n",
       "      <th>Mg24</th>\n",
       "      <th>Al27</th>\n",
       "      <th>Si28</th>\n",
       "      <th>P31</th>\n",
       "      <th>S33</th>\n",
       "      <th>K39</th>\n",
       "      <th>Ca42</th>\n",
       "      <th>...</th>\n",
       "      <th>Ho165</th>\n",
       "      <th>Er166</th>\n",
       "      <th>Tm169</th>\n",
       "      <th>Yb172</th>\n",
       "      <th>Lu175</th>\n",
       "      <th>Hf178</th>\n",
       "      <th>Ta181</th>\n",
       "      <th>Pb208</th>\n",
       "      <th>Th232</th>\n",
       "      <th>U238</th>\n",
       "    </tr>\n",
       "  </thead>\n",
       "  <tbody>\n",
       "    <tr>\n",
       "      <th>846</th>\n",
       "      <td>0.026107</td>\n",
       "      <td>-0.959740</td>\n",
       "      <td>0.354522</td>\n",
       "      <td>-0.354646</td>\n",
       "      <td>0.699897</td>\n",
       "      <td>0.273510</td>\n",
       "      <td>-0.271569</td>\n",
       "      <td>-0.663236</td>\n",
       "      <td>1.311635</td>\n",
       "      <td>-0.154909</td>\n",
       "      <td>...</td>\n",
       "      <td>-0.613126</td>\n",
       "      <td>-0.537961</td>\n",
       "      <td>-1.206954</td>\n",
       "      <td>-0.404688</td>\n",
       "      <td>-0.493813</td>\n",
       "      <td>0.084932</td>\n",
       "      <td>-0.540698</td>\n",
       "      <td>-0.557660</td>\n",
       "      <td>0.915981</td>\n",
       "      <td>0.270297</td>\n",
       "    </tr>\n",
       "    <tr>\n",
       "      <th>898</th>\n",
       "      <td>-0.731546</td>\n",
       "      <td>-0.871810</td>\n",
       "      <td>-0.584523</td>\n",
       "      <td>-0.447811</td>\n",
       "      <td>-0.653677</td>\n",
       "      <td>-0.658241</td>\n",
       "      <td>0.940053</td>\n",
       "      <td>-1.225547</td>\n",
       "      <td>-1.173692</td>\n",
       "      <td>-0.350347</td>\n",
       "      <td>...</td>\n",
       "      <td>3.919491</td>\n",
       "      <td>0.012781</td>\n",
       "      <td>2.305841</td>\n",
       "      <td>3.424662</td>\n",
       "      <td>1.735579</td>\n",
       "      <td>-0.482043</td>\n",
       "      <td>-0.540698</td>\n",
       "      <td>-0.190948</td>\n",
       "      <td>0.262700</td>\n",
       "      <td>-0.028242</td>\n",
       "    </tr>\n",
       "    <tr>\n",
       "      <th>833</th>\n",
       "      <td>-0.522195</td>\n",
       "      <td>1.018694</td>\n",
       "      <td>-0.585674</td>\n",
       "      <td>-0.667304</td>\n",
       "      <td>-0.252124</td>\n",
       "      <td>-2.857620</td>\n",
       "      <td>3.058914</td>\n",
       "      <td>3.582730</td>\n",
       "      <td>-0.362093</td>\n",
       "      <td>-0.101059</td>\n",
       "      <td>...</td>\n",
       "      <td>0.432863</td>\n",
       "      <td>0.637935</td>\n",
       "      <td>2.305841</td>\n",
       "      <td>0.324712</td>\n",
       "      <td>0.249318</td>\n",
       "      <td>-0.198555</td>\n",
       "      <td>0.798018</td>\n",
       "      <td>-0.352733</td>\n",
       "      <td>-0.826101</td>\n",
       "      <td>0.091174</td>\n",
       "    </tr>\n",
       "    <tr>\n",
       "      <th>112</th>\n",
       "      <td>-0.201189</td>\n",
       "      <td>0.271285</td>\n",
       "      <td>-1.741642</td>\n",
       "      <td>-1.158397</td>\n",
       "      <td>-1.351520</td>\n",
       "      <td>0.486827</td>\n",
       "      <td>-0.285207</td>\n",
       "      <td>-0.535988</td>\n",
       "      <td>-1.935113</td>\n",
       "      <td>-0.321327</td>\n",
       "      <td>...</td>\n",
       "      <td>0.432863</td>\n",
       "      <td>-0.537961</td>\n",
       "      <td>0.198164</td>\n",
       "      <td>-0.587038</td>\n",
       "      <td>-0.493813</td>\n",
       "      <td>0.084932</td>\n",
       "      <td>1.467376</td>\n",
       "      <td>-0.417447</td>\n",
       "      <td>-1.043861</td>\n",
       "      <td>-1.341815</td>\n",
       "    </tr>\n",
       "    <tr>\n",
       "      <th>736</th>\n",
       "      <td>-0.233090</td>\n",
       "      <td>-0.124401</td>\n",
       "      <td>1.328666</td>\n",
       "      <td>0.957570</td>\n",
       "      <td>-0.218840</td>\n",
       "      <td>0.477920</td>\n",
       "      <td>-0.285052</td>\n",
       "      <td>-2.190151</td>\n",
       "      <td>-0.450412</td>\n",
       "      <td>-0.547343</td>\n",
       "      <td>...</td>\n",
       "      <td>-1.310451</td>\n",
       "      <td>-0.831935</td>\n",
       "      <td>-1.206954</td>\n",
       "      <td>-0.587038</td>\n",
       "      <td>-1.236944</td>\n",
       "      <td>-0.198555</td>\n",
       "      <td>-1.210056</td>\n",
       "      <td>-0.363519</td>\n",
       "      <td>-1.043861</td>\n",
       "      <td>-0.207366</td>\n",
       "    </tr>\n",
       "  </tbody>\n",
       "</table>\n",
       "<p>5 rows × 53 columns</p>\n",
       "</div>"
      ],
      "text/plain": [
       "          Li7       Be9       B11      Mg24      Al27      Si28       P31  \\\n",
       "846  0.026107 -0.959740  0.354522 -0.354646  0.699897  0.273510 -0.271569   \n",
       "898 -0.731546 -0.871810 -0.584523 -0.447811 -0.653677 -0.658241  0.940053   \n",
       "833 -0.522195  1.018694 -0.585674 -0.667304 -0.252124 -2.857620  3.058914   \n",
       "112 -0.201189  0.271285 -1.741642 -1.158397 -1.351520  0.486827 -0.285207   \n",
       "736 -0.233090 -0.124401  1.328666  0.957570 -0.218840  0.477920 -0.285052   \n",
       "\n",
       "          S33       K39      Ca42    ...        Ho165     Er166     Tm169  \\\n",
       "846 -0.663236  1.311635 -0.154909    ...    -0.613126 -0.537961 -1.206954   \n",
       "898 -1.225547 -1.173692 -0.350347    ...     3.919491  0.012781  2.305841   \n",
       "833  3.582730 -0.362093 -0.101059    ...     0.432863  0.637935  2.305841   \n",
       "112 -0.535988 -1.935113 -0.321327    ...     0.432863 -0.537961  0.198164   \n",
       "736 -2.190151 -0.450412 -0.547343    ...    -1.310451 -0.831935 -1.206954   \n",
       "\n",
       "        Yb172     Lu175     Hf178     Ta181     Pb208     Th232      U238  \n",
       "846 -0.404688 -0.493813  0.084932 -0.540698 -0.557660  0.915981  0.270297  \n",
       "898  3.424662  1.735579 -0.482043 -0.540698 -0.190948  0.262700 -0.028242  \n",
       "833  0.324712  0.249318 -0.198555  0.798018 -0.352733 -0.826101  0.091174  \n",
       "112 -0.587038 -0.493813  0.084932  1.467376 -0.417447 -1.043861 -1.341815  \n",
       "736 -0.587038 -1.236944 -0.198555 -1.210056 -0.363519 -1.043861 -0.207366  \n",
       "\n",
       "[5 rows x 53 columns]"
      ]
     },
     "execution_count": 83,
     "metadata": {},
     "output_type": "execute_result"
    }
   ],
   "source": [
    "X_train.head()"
   ]
  },
  {
   "cell_type": "code",
   "execution_count": 84,
   "metadata": {},
   "outputs": [
    {
     "data": {
      "text/html": [
       "<div>\n",
       "<style scoped>\n",
       "    .dataframe tbody tr th:only-of-type {\n",
       "        vertical-align: middle;\n",
       "    }\n",
       "\n",
       "    .dataframe tbody tr th {\n",
       "        vertical-align: top;\n",
       "    }\n",
       "\n",
       "    .dataframe thead th {\n",
       "        text-align: right;\n",
       "    }\n",
       "</style>\n",
       "<table border=\"1\" class=\"dataframe\">\n",
       "  <thead>\n",
       "    <tr style=\"text-align: right;\">\n",
       "      <th></th>\n",
       "      <th>class</th>\n",
       "    </tr>\n",
       "  </thead>\n",
       "  <tbody>\n",
       "    <tr>\n",
       "      <th>930</th>\n",
       "      <td>21</td>\n",
       "    </tr>\n",
       "    <tr>\n",
       "      <th>983</th>\n",
       "      <td>22</td>\n",
       "    </tr>\n",
       "    <tr>\n",
       "      <th>917</th>\n",
       "      <td>21</td>\n",
       "    </tr>\n",
       "    <tr>\n",
       "      <th>116</th>\n",
       "      <td>2</td>\n",
       "    </tr>\n",
       "    <tr>\n",
       "      <th>818</th>\n",
       "      <td>18</td>\n",
       "    </tr>\n",
       "  </tbody>\n",
       "</table>\n",
       "</div>"
      ],
      "text/plain": [
       "     class\n",
       "930     21\n",
       "983     22\n",
       "917     21\n",
       "116      2\n",
       "818     18"
      ]
     },
     "execution_count": 84,
     "metadata": {},
     "output_type": "execute_result"
    }
   ],
   "source": [
    "y_train.head()"
   ]
  },
  {
   "cell_type": "code",
   "execution_count": 95,
   "metadata": {},
   "outputs": [
    {
     "ename": "AttributeError",
     "evalue": "'numpy.ndarray' object has no attribute 'index'",
     "output_type": "error",
     "traceback": [
      "\u001b[0;31m---------------------------------------------------------------------------\u001b[0m",
      "\u001b[0;31mAttributeError\u001b[0m                            Traceback (most recent call last)",
      "\u001b[0;32m<ipython-input-95-a65787a28044>\u001b[0m in \u001b[0;36m<module>\u001b[0;34m()\u001b[0m\n\u001b[0;32m----> 1\u001b[0;31m \u001b[0minput_function\u001b[0m \u001b[0;34m=\u001b[0m \u001b[0mtf\u001b[0m\u001b[0;34m.\u001b[0m\u001b[0mestimator\u001b[0m\u001b[0;34m.\u001b[0m\u001b[0minputs\u001b[0m\u001b[0;34m.\u001b[0m\u001b[0mpandas_input_fn\u001b[0m\u001b[0;34m(\u001b[0m\u001b[0mx\u001b[0m\u001b[0;34m=\u001b[0m\u001b[0mX_train\u001b[0m\u001b[0;34m,\u001b[0m\u001b[0my\u001b[0m\u001b[0;34m=\u001b[0m\u001b[0my_train\u001b[0m\u001b[0;34m,\u001b[0m \u001b[0mbatch_size\u001b[0m\u001b[0;34m=\u001b[0m\u001b[0;36m10\u001b[0m\u001b[0;34m,\u001b[0m\u001b[0mnum_epochs\u001b[0m\u001b[0;34m=\u001b[0m\u001b[0;36m5\u001b[0m\u001b[0;34m,\u001b[0m \u001b[0mshuffle\u001b[0m\u001b[0;34m=\u001b[0m\u001b[0;32mTrue\u001b[0m\u001b[0;34m)\u001b[0m\u001b[0;34m\u001b[0m\u001b[0m\n\u001b[0m\u001b[1;32m      2\u001b[0m \u001b[0minput_function\u001b[0m\u001b[0;34m\u001b[0m\u001b[0m\n",
      "\u001b[0;32m~/anaconda3/lib/python3.6/site-packages/tensorflow/python/estimator/inputs/pandas_io.py\u001b[0m in \u001b[0;36mpandas_input_fn\u001b[0;34m(x, y, batch_size, num_epochs, shuffle, queue_capacity, num_threads, target_column)\u001b[0m\n\u001b[1;32m    108\u001b[0m           \u001b[0;34m'Cannot use name %s for target column: DataFrame already has a '\u001b[0m\u001b[0;34m\u001b[0m\u001b[0m\n\u001b[1;32m    109\u001b[0m           'column with that name: %s' % (target_column, x.columns))\n\u001b[0;32m--> 110\u001b[0;31m     \u001b[0;32mif\u001b[0m \u001b[0;32mnot\u001b[0m \u001b[0mnp\u001b[0m\u001b[0;34m.\u001b[0m\u001b[0marray_equal\u001b[0m\u001b[0;34m(\u001b[0m\u001b[0mx\u001b[0m\u001b[0;34m.\u001b[0m\u001b[0mindex\u001b[0m\u001b[0;34m,\u001b[0m \u001b[0my\u001b[0m\u001b[0;34m.\u001b[0m\u001b[0mindex\u001b[0m\u001b[0;34m)\u001b[0m\u001b[0;34m:\u001b[0m\u001b[0;34m\u001b[0m\u001b[0m\n\u001b[0m\u001b[1;32m    111\u001b[0m       raise ValueError('Index for x and y are mismatched.\\nIndex for x: %s\\n'\n\u001b[1;32m    112\u001b[0m                        'Index for y: %s\\n' % (x.index, y.index))\n",
      "\u001b[0;31mAttributeError\u001b[0m: 'numpy.ndarray' object has no attribute 'index'"
     ]
    }
   ],
   "source": [
    "input_function = tf.estimator.inputs.pandas_input_fn(x=X_train,y=y_train, batch_size=10,num_epochs=5, shuffle=True)\n",
    "input_function"
   ]
  },
  {
   "cell_type": "code",
   "execution_count": 49,
   "metadata": {},
   "outputs": [
    {
     "name": "stdout",
     "output_type": "stream",
     "text": [
      "INFO:tensorflow:Using default config.\n",
      "WARNING:tensorflow:Using temporary folder as model directory: /tmp/tmp1014terf\n",
      "INFO:tensorflow:Using config: {'_model_dir': '/tmp/tmp1014terf', '_tf_random_seed': None, '_save_summary_steps': 100, '_save_checkpoints_steps': None, '_save_checkpoints_secs': 600, '_session_config': None, '_keep_checkpoint_max': 5, '_keep_checkpoint_every_n_hours': 10000, '_log_step_count_steps': 100, '_train_distribute': None, '_device_fn': None, '_service': None, '_cluster_spec': <tensorflow.python.training.server_lib.ClusterSpec object at 0x7f6cfbf33a20>, '_task_type': 'worker', '_task_id': 0, '_global_id_in_cluster': 0, '_master': '', '_evaluation_master': '', '_is_chief': True, '_num_ps_replicas': 0, '_num_worker_replicas': 1}\n"
     ]
    }
   ],
   "source": [
    "\n",
    "\n",
    "classifier = tf.estimator.DNNClassifier(hidden_units=[10, 200, 200, 10], n_classes= len(train_data_formodel['class'].unique()), feature_columns = tf_column_objects)\n",
    "\n"
   ]
  },
  {
   "cell_type": "code",
   "execution_count": 50,
   "metadata": {},
   "outputs": [
    {
     "name": "stdout",
     "output_type": "stream",
     "text": [
      "INFO:tensorflow:Calling model_fn.\n"
     ]
    },
    {
     "ename": "ValueError",
     "evalue": "features should be a dictionary of `Tensor`s. Given type: <class 'tensorflow.python.framework.ops.Tensor'>",
     "output_type": "error",
     "traceback": [
      "\u001b[0;31m---------------------------------------------------------------------------\u001b[0m",
      "\u001b[0;31mValueError\u001b[0m                                Traceback (most recent call last)",
      "\u001b[0;32m<ipython-input-50-74a7d56d53d6>\u001b[0m in \u001b[0;36m<module>\u001b[0;34m()\u001b[0m\n\u001b[0;32m----> 1\u001b[0;31m \u001b[0mclassifier\u001b[0m\u001b[0;34m.\u001b[0m\u001b[0mtrain\u001b[0m\u001b[0;34m(\u001b[0m\u001b[0minput_fn\u001b[0m\u001b[0;34m=\u001b[0m\u001b[0minput_function\u001b[0m\u001b[0;34m,\u001b[0m\u001b[0msteps\u001b[0m\u001b[0;34m=\u001b[0m\u001b[0;36m50\u001b[0m\u001b[0;34m)\u001b[0m\u001b[0;34m\u001b[0m\u001b[0m\n\u001b[0m",
      "\u001b[0;32m~/anaconda3/lib/python3.6/site-packages/tensorflow/python/estimator/estimator.py\u001b[0m in \u001b[0;36mtrain\u001b[0;34m(self, input_fn, hooks, steps, max_steps, saving_listeners)\u001b[0m\n\u001b[1;32m    374\u001b[0m \u001b[0;34m\u001b[0m\u001b[0m\n\u001b[1;32m    375\u001b[0m       \u001b[0msaving_listeners\u001b[0m \u001b[0;34m=\u001b[0m \u001b[0m_check_listeners_type\u001b[0m\u001b[0;34m(\u001b[0m\u001b[0msaving_listeners\u001b[0m\u001b[0;34m)\u001b[0m\u001b[0;34m\u001b[0m\u001b[0m\n\u001b[0;32m--> 376\u001b[0;31m       \u001b[0mloss\u001b[0m \u001b[0;34m=\u001b[0m \u001b[0mself\u001b[0m\u001b[0;34m.\u001b[0m\u001b[0m_train_model\u001b[0m\u001b[0;34m(\u001b[0m\u001b[0minput_fn\u001b[0m\u001b[0;34m,\u001b[0m \u001b[0mhooks\u001b[0m\u001b[0;34m,\u001b[0m \u001b[0msaving_listeners\u001b[0m\u001b[0;34m)\u001b[0m\u001b[0;34m\u001b[0m\u001b[0m\n\u001b[0m\u001b[1;32m    377\u001b[0m       \u001b[0mlogging\u001b[0m\u001b[0;34m.\u001b[0m\u001b[0minfo\u001b[0m\u001b[0;34m(\u001b[0m\u001b[0;34m'Loss for final step: %s.'\u001b[0m\u001b[0;34m,\u001b[0m \u001b[0mloss\u001b[0m\u001b[0;34m)\u001b[0m\u001b[0;34m\u001b[0m\u001b[0m\n\u001b[1;32m    378\u001b[0m       \u001b[0;32mreturn\u001b[0m \u001b[0mself\u001b[0m\u001b[0;34m\u001b[0m\u001b[0m\n",
      "\u001b[0;32m~/anaconda3/lib/python3.6/site-packages/tensorflow/python/estimator/estimator.py\u001b[0m in \u001b[0;36m_train_model\u001b[0;34m(self, input_fn, hooks, saving_listeners)\u001b[0m\n\u001b[1;32m   1143\u001b[0m       \u001b[0;32mreturn\u001b[0m \u001b[0mself\u001b[0m\u001b[0;34m.\u001b[0m\u001b[0m_train_model_distributed\u001b[0m\u001b[0;34m(\u001b[0m\u001b[0minput_fn\u001b[0m\u001b[0;34m,\u001b[0m \u001b[0mhooks\u001b[0m\u001b[0;34m,\u001b[0m \u001b[0msaving_listeners\u001b[0m\u001b[0;34m)\u001b[0m\u001b[0;34m\u001b[0m\u001b[0m\n\u001b[1;32m   1144\u001b[0m     \u001b[0;32melse\u001b[0m\u001b[0;34m:\u001b[0m\u001b[0;34m\u001b[0m\u001b[0m\n\u001b[0;32m-> 1145\u001b[0;31m       \u001b[0;32mreturn\u001b[0m \u001b[0mself\u001b[0m\u001b[0;34m.\u001b[0m\u001b[0m_train_model_default\u001b[0m\u001b[0;34m(\u001b[0m\u001b[0minput_fn\u001b[0m\u001b[0;34m,\u001b[0m \u001b[0mhooks\u001b[0m\u001b[0;34m,\u001b[0m \u001b[0msaving_listeners\u001b[0m\u001b[0;34m)\u001b[0m\u001b[0;34m\u001b[0m\u001b[0m\n\u001b[0m\u001b[1;32m   1146\u001b[0m \u001b[0;34m\u001b[0m\u001b[0m\n\u001b[1;32m   1147\u001b[0m   \u001b[0;32mdef\u001b[0m \u001b[0m_train_model_default\u001b[0m\u001b[0;34m(\u001b[0m\u001b[0mself\u001b[0m\u001b[0;34m,\u001b[0m \u001b[0minput_fn\u001b[0m\u001b[0;34m,\u001b[0m \u001b[0mhooks\u001b[0m\u001b[0;34m,\u001b[0m \u001b[0msaving_listeners\u001b[0m\u001b[0;34m)\u001b[0m\u001b[0;34m:\u001b[0m\u001b[0;34m\u001b[0m\u001b[0m\n",
      "\u001b[0;32m~/anaconda3/lib/python3.6/site-packages/tensorflow/python/estimator/estimator.py\u001b[0m in \u001b[0;36m_train_model_default\u001b[0;34m(self, input_fn, hooks, saving_listeners)\u001b[0m\n\u001b[1;32m   1168\u001b[0m       \u001b[0mworker_hooks\u001b[0m\u001b[0;34m.\u001b[0m\u001b[0mextend\u001b[0m\u001b[0;34m(\u001b[0m\u001b[0minput_hooks\u001b[0m\u001b[0;34m)\u001b[0m\u001b[0;34m\u001b[0m\u001b[0m\n\u001b[1;32m   1169\u001b[0m       estimator_spec = self._call_model_fn(\n\u001b[0;32m-> 1170\u001b[0;31m           features, labels, model_fn_lib.ModeKeys.TRAIN, self.config)\n\u001b[0m\u001b[1;32m   1171\u001b[0m       return self._train_with_estimator_spec(estimator_spec, worker_hooks,\n\u001b[1;32m   1172\u001b[0m                                              \u001b[0mhooks\u001b[0m\u001b[0;34m,\u001b[0m \u001b[0mglobal_step_tensor\u001b[0m\u001b[0;34m,\u001b[0m\u001b[0;34m\u001b[0m\u001b[0m\n",
      "\u001b[0;32m~/anaconda3/lib/python3.6/site-packages/tensorflow/python/estimator/estimator.py\u001b[0m in \u001b[0;36m_call_model_fn\u001b[0;34m(self, features, labels, mode, config)\u001b[0m\n\u001b[1;32m   1131\u001b[0m \u001b[0;34m\u001b[0m\u001b[0m\n\u001b[1;32m   1132\u001b[0m     \u001b[0mlogging\u001b[0m\u001b[0;34m.\u001b[0m\u001b[0minfo\u001b[0m\u001b[0;34m(\u001b[0m\u001b[0;34m'Calling model_fn.'\u001b[0m\u001b[0;34m)\u001b[0m\u001b[0;34m\u001b[0m\u001b[0m\n\u001b[0;32m-> 1133\u001b[0;31m     \u001b[0mmodel_fn_results\u001b[0m \u001b[0;34m=\u001b[0m \u001b[0mself\u001b[0m\u001b[0;34m.\u001b[0m\u001b[0m_model_fn\u001b[0m\u001b[0;34m(\u001b[0m\u001b[0mfeatures\u001b[0m\u001b[0;34m=\u001b[0m\u001b[0mfeatures\u001b[0m\u001b[0;34m,\u001b[0m \u001b[0;34m**\u001b[0m\u001b[0mkwargs\u001b[0m\u001b[0;34m)\u001b[0m\u001b[0;34m\u001b[0m\u001b[0m\n\u001b[0m\u001b[1;32m   1134\u001b[0m     \u001b[0mlogging\u001b[0m\u001b[0;34m.\u001b[0m\u001b[0minfo\u001b[0m\u001b[0;34m(\u001b[0m\u001b[0;34m'Done calling model_fn.'\u001b[0m\u001b[0;34m)\u001b[0m\u001b[0;34m\u001b[0m\u001b[0m\n\u001b[1;32m   1135\u001b[0m \u001b[0;34m\u001b[0m\u001b[0m\n",
      "\u001b[0;32m~/anaconda3/lib/python3.6/site-packages/tensorflow/python/estimator/canned/dnn.py\u001b[0m in \u001b[0;36m_model_fn\u001b[0;34m(features, labels, mode, config)\u001b[0m\n\u001b[1;32m    383\u001b[0m           \u001b[0minput_layer_partitioner\u001b[0m\u001b[0;34m=\u001b[0m\u001b[0minput_layer_partitioner\u001b[0m\u001b[0;34m,\u001b[0m\u001b[0;34m\u001b[0m\u001b[0m\n\u001b[1;32m    384\u001b[0m           \u001b[0mconfig\u001b[0m\u001b[0;34m=\u001b[0m\u001b[0mconfig\u001b[0m\u001b[0;34m,\u001b[0m\u001b[0;34m\u001b[0m\u001b[0m\n\u001b[0;32m--> 385\u001b[0;31m           batch_norm=batch_norm)\n\u001b[0m\u001b[1;32m    386\u001b[0m \u001b[0;34m\u001b[0m\u001b[0m\n\u001b[1;32m    387\u001b[0m     super(DNNClassifier, self).__init__(\n",
      "\u001b[0;32m~/anaconda3/lib/python3.6/site-packages/tensorflow/python/estimator/canned/dnn.py\u001b[0m in \u001b[0;36m_dnn_model_fn\u001b[0;34m(features, labels, mode, head, hidden_units, feature_columns, optimizer, activation_fn, dropout, input_layer_partitioner, config, tpu_estimator_spec, batch_norm)\u001b[0m\n\u001b[1;32m    177\u001b[0m   \u001b[0;32mif\u001b[0m \u001b[0;32mnot\u001b[0m \u001b[0misinstance\u001b[0m\u001b[0;34m(\u001b[0m\u001b[0mfeatures\u001b[0m\u001b[0;34m,\u001b[0m \u001b[0mdict\u001b[0m\u001b[0;34m)\u001b[0m\u001b[0;34m:\u001b[0m\u001b[0;34m\u001b[0m\u001b[0m\n\u001b[1;32m    178\u001b[0m     raise ValueError('features should be a dictionary of `Tensor`s. '\n\u001b[0;32m--> 179\u001b[0;31m                      'Given type: {}'.format(type(features)))\n\u001b[0m\u001b[1;32m    180\u001b[0m \u001b[0;34m\u001b[0m\u001b[0m\n\u001b[1;32m    181\u001b[0m   optimizer = optimizers.get_optimizer_instance(\n",
      "\u001b[0;31mValueError\u001b[0m: features should be a dictionary of `Tensor`s. Given type: <class 'tensorflow.python.framework.ops.Tensor'>"
     ]
    }
   ],
   "source": [
    "classifier.train(input_fn=input_function,steps=50)"
   ]
  },
  {
   "cell_type": "markdown",
   "metadata": {},
   "source": [
    "make predictions for test data and for data that will be used to assess model performance graphically"
   ]
  },
  {
   "cell_type": "code",
   "execution_count": null,
   "metadata": {},
   "outputs": [],
   "source": [
    "pred_fn_eval = tf.estimator.inputs.pandas_input_fn(x = X_test, batch_size = len(X_test), shuffle = False)\n"
   ]
  },
  {
   "cell_type": "code",
   "execution_count": null,
   "metadata": {},
   "outputs": [],
   "source": [
    "predictions = list(classifier.predict(input_fn=pred_fn_eval))"
   ]
  },
  {
   "cell_type": "code",
   "execution_count": null,
   "metadata": {},
   "outputs": [],
   "source": [
    "f1_score = f1_score(y_test, predictions)"
   ]
  },
  {
   "cell_type": "code",
   "execution_count": null,
   "metadata": {},
   "outputs": [],
   "source": [
    "print(f1_score)"
   ]
  },
  {
   "cell_type": "code",
   "execution_count": null,
   "metadata": {},
   "outputs": [],
   "source": [
    "\n"
   ]
  },
  {
   "cell_type": "code",
   "execution_count": null,
   "metadata": {},
   "outputs": [],
   "source": []
  },
  {
   "cell_type": "code",
   "execution_count": null,
   "metadata": {},
   "outputs": [],
   "source": []
  },
  {
   "cell_type": "code",
   "execution_count": null,
   "metadata": {},
   "outputs": [],
   "source": []
  },
  {
   "cell_type": "code",
   "execution_count": null,
   "metadata": {},
   "outputs": [],
   "source": []
  },
  {
   "cell_type": "code",
   "execution_count": null,
   "metadata": {},
   "outputs": [],
   "source": []
  },
  {
   "cell_type": "code",
   "execution_count": null,
   "metadata": {},
   "outputs": [],
   "source": []
  },
  {
   "cell_type": "code",
   "execution_count": null,
   "metadata": {},
   "outputs": [],
   "source": []
  },
  {
   "cell_type": "code",
   "execution_count": null,
   "metadata": {},
   "outputs": [],
   "source": []
  }
 ],
 "metadata": {
  "kernelspec": {
   "display_name": "Python 3",
   "language": "python",
   "name": "python3"
  },
  "language_info": {
   "codemirror_mode": {
    "name": "ipython",
    "version": 3
   },
   "file_extension": ".py",
   "mimetype": "text/x-python",
   "name": "python",
   "nbconvert_exporter": "python",
   "pygments_lexer": "ipython3",
   "version": "3.6.5"
  }
 },
 "nbformat": 4,
 "nbformat_minor": 2
}
