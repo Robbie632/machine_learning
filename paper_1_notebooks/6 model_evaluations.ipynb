{
 "cells": [
  {
   "cell_type": "markdown",
   "metadata": {},
   "source": [
    "### RFC"
   ]
  },
  {
   "cell_type": "markdown",
   "metadata": {},
   "source": [
    "### import modules and configure notebook"
   ]
  },
  {
   "cell_type": "code",
   "execution_count": 165,
   "metadata": {},
   "outputs": [],
   "source": [
    "import pandas as pd\n",
    "import numpy as np\n",
    "import swifter\n",
    "import seaborn as sns\n",
    "import matplotlib.pyplot as plt\n",
    "import pickle\n",
    "\n",
    "pd.set_option('max.rows', None)\n",
    "pd.set_option('max.columns', None)\n",
    "\n",
    "from sklearn.ensemble import RandomForestClassifier\n",
    "import xgboost as xgb\n",
    "from sklearn.svm import SVC\n",
    "from sklearn.neighbors import KNeighborsClassifier\n",
    "from sklearn.model_selection import StratifiedKFold, RandomizedSearchCV, GridSearchCV, train_test_split\n",
    "from sklearn.metrics import accuracy_score, f1_score\n",
    "from sklearn.preprocessing import StandardScaler\n",
    "from imblearn.over_sampling import SMOTE\n",
    "\n",
    "%matplotlib inline"
   ]
  },
  {
   "cell_type": "markdown",
   "metadata": {},
   "source": [
    "### Load variables stored by data_preproccessing notebook"
   ]
  },
  {
   "cell_type": "code",
   "execution_count": 169,
   "metadata": {},
   "outputs": [],
   "source": [
    "%store -r train_data_formodel\n",
    "%store -r test_data\n",
    "%store -r my_data\n",
    "%store -r uniques\n",
    "%store -r best_feats\n",
    "%store -r X_test_labeled_df\n",
    "%store -r site_frequencies_df\n",
    "\n"
   ]
  },
  {
   "cell_type": "markdown",
   "metadata": {},
   "source": [
    "### configurations\n",
    "* save_plots -> True|False\n",
    "* random_seed_state -> number, sets random state for model and for stratified splits \n",
    "* classify_bedrock_only -> True|False\n",
    "* pickle_model -> True|False, wether model should be serialised and saved\n",
    "* pickle_model_name -> string, name of serialised model\n",
    "* grid_search -> True|False, if set to true then grid search is performed to identify optimum hyperparamaters for model \n",
    "* scale -> True|False if set to True then features scaled to all have mean value 0 and standard deviation 1\n",
    "* pickle_file_path -> string,  filepath for serialised model to be saved to\n",
    "* modelName -> string, type of model to use 'rfc'|'gbm'|'svm'|'knn'\n",
    "* trainTestSplitTotalIters -> total number of iterations of train test split for cross validation"
   ]
  },
  {
   "cell_type": "code",
   "execution_count": 3,
   "metadata": {},
   "outputs": [],
   "source": [
    "save_plots = False\n",
    "random_seed_state = 42\n",
    "classify_bedrock_only = False\n",
    "grid_search = False\n",
    "scale = True\n",
    "save_predictions = False\n",
    "modelName = 'svm'\n",
    "trainTestSplitTotalIters = 10"
   ]
  },
  {
   "cell_type": "markdown",
   "metadata": {},
   "source": [
    "### if only bedrock sites are classified then classes are label encoded, if bedrock sites alone are not being classified then the class sites would have already been label encoded in the 1 data_preproccessing notebook "
   ]
  },
  {
   "cell_type": "markdown",
   "metadata": {},
   "source": [
    "if classify_bedrock_only:\n",
    "    train_data_formodel['class'], uniques = pd.factorize(train_data_formodel['class'])\n",
    "    train_data_formodel = train_data_formodel[train_data_formodel['Geology']=='Bedrock']"
   ]
  },
  {
   "cell_type": "markdown",
   "metadata": {},
   "source": [
    "### counts of instances in all classes before oversampling"
   ]
  },
  {
   "cell_type": "code",
   "execution_count": 4,
   "metadata": {},
   "outputs": [
    {
     "data": {
      "text/plain": [
       "4     105\n",
       "17    100\n",
       "18     61\n",
       "0      53\n",
       "10     47\n",
       "13     45\n",
       "15     36\n",
       "16     36\n",
       "2      36\n",
       "12     30\n",
       "11     30\n",
       "8      30\n",
       "7      30\n",
       "5      30\n",
       "6      27\n",
       "9      27\n",
       "1      24\n",
       "14     21\n",
       "3      18\n",
       "Name: class, dtype: int64"
      ]
     },
     "execution_count": 4,
     "metadata": {},
     "output_type": "execute_result"
    }
   ],
   "source": [
    "train_data_formodel['class'].value_counts()"
   ]
  },
  {
   "cell_type": "markdown",
   "metadata": {},
   "source": [
    "### The class column is stored as the variable y "
   ]
  },
  {
   "cell_type": "code",
   "execution_count": 5,
   "metadata": {},
   "outputs": [],
   "source": [
    "y = np.array(train_data_formodel['class'])"
   ]
  },
  {
   "cell_type": "markdown",
   "metadata": {},
   "source": [
    "### The variables identified as best by the 2 feature_selection notebook are used as features"
   ]
  },
  {
   "cell_type": "code",
   "execution_count": 6,
   "metadata": {},
   "outputs": [],
   "source": [
    "train_data_feats = train_data_formodel[best_feats]"
   ]
  },
  {
   "cell_type": "markdown",
   "metadata": {},
   "source": [
    "### address class imbalance using synthetic minority oversampling technique (SMOTE) algorithm"
   ]
  },
  {
   "cell_type": "code",
   "execution_count": 7,
   "metadata": {},
   "outputs": [],
   "source": [
    "if scale:\n",
    "    my_scaler = StandardScaler()\n",
    "    X = np.array(my_scaler.fit_transform(np.array(train_data_feats)))\n",
    "else:\n",
    "    X = np.array(np.array(train_data_feats))"
   ]
  },
  {
   "cell_type": "markdown",
   "metadata": {},
   "source": [
    "### the dimensions of the class and features are checked"
   ]
  },
  {
   "cell_type": "code",
   "execution_count": 8,
   "metadata": {},
   "outputs": [
    {
     "name": "stdout",
     "output_type": "stream",
     "text": [
      "(786, 30)\n",
      "(786,)\n"
     ]
    }
   ],
   "source": [
    "print(X.shape)\n",
    "print(y.shape)"
   ]
  },
  {
   "cell_type": "markdown",
   "metadata": {},
   "source": [
    "### Carry out 10-f0ld stratified cross validation, class f1 scores and macro f1 scores are calculated"
   ]
  },
  {
   "cell_type": "code",
   "execution_count": 9,
   "metadata": {},
   "outputs": [],
   "source": [
    "if modelName == 'rfc':\n",
    "    skf = StratifiedKFold(n_splits=10, random_state=random_seed_state)\n",
    "    skf.get_n_splits(X, y)\n",
    "    class_f1_scores = []\n",
    "    macro_f1_scores = []\n",
    "    accuracy_scores = []\n",
    "    feat_imp =[]\n",
    "    f1_dict = {}\n",
    "    feat_imp_dict = {}\n",
    "    count = 0\n",
    "\n",
    "    #for train_index, test_index in skf.split(X, y):\n",
    "    for i in range(0, trainTestSplitTotalIters):\n",
    "        \n",
    "        X_train, X_test, y_train, y_test = train_test_split(X, y, test_size=0.20, stratify = y, random_state=42)\n",
    "        count = count + 1\n",
    "        print('making model:')\n",
    "        key = 'round' + str(count)\n",
    "        print(count)\n",
    "\n",
    "\n",
    "        X_post_smote, y_post_smote = SMOTE(random_state=42).fit_sample(X_train, y_train)\n",
    "\n",
    "\n",
    "        ###this section optimises model paramaters by gridsearch \n",
    "\n",
    "        esti = RandomForestClassifier(n_estimators=100, max_features = 'auto')\n",
    "\n",
    "\n",
    "        max_depth = [80, 100, 120]\n",
    "        min_samples_split = [2, 3, 4]\n",
    "        min_samples_leaf = [1, 2, 3]\n",
    "\n",
    "        param_grid = {\n",
    "                   'max_depth': max_depth,\n",
    "                   'min_samples_split': min_samples_split,\n",
    "                   'min_samples_leaf': min_samples_leaf,\n",
    "                      }\n",
    "\n",
    "        clf = GridSearchCV(estimator = esti, param_grid= param_grid,\n",
    "                                  n_jobs=-1, scoring='f1_macro', cv = 5, verbose=3)\n",
    "        print('running grid serach on this training data fold')\n",
    "        clf.fit(X_post_smote, y_post_smote)\n",
    "        optimumEstimator = clf.best_estimator_\n",
    "        optimumEstimator.fit(X_post_smote, y_post_smote)\n",
    "        print('gridsearch identified optimum paramaters for the current training data fold, now model with optimumn paramaters predicting using test_data for evaluation')\n",
    "\n",
    "        y_pred = optimumEstimator.predict(X_test)\n",
    "        class_f1_scores = f1_score(y_test, y_pred, average = None)\n",
    "        accuracy = accuracy_score(y_test, y_pred)\n",
    "        accuracy_scores.append(accuracy)\n",
    "        macro_f1_scores.append(f1_score(y_test, y_pred, average = 'macro'))\n",
    "        f1_dict[key] = class_f1_scores \n",
    "        feat_imp_dict[key] = optimumEstimator.feature_importances_\n",
    "        \n",
    " "
   ]
  },
  {
   "cell_type": "code",
   "execution_count": 10,
   "metadata": {},
   "outputs": [],
   "source": [
    "if modelName == 'gbm':\n",
    "    skf = StratifiedKFold(n_splits=10, random_state=random_seed_state)\n",
    "    skf.get_n_splits(X, y)\n",
    "    class_f1_scores = []\n",
    "    macro_f1_scores = []\n",
    "    accuracy_scores = []\n",
    "    feat_imp =[]\n",
    "    f1_dict = {}\n",
    "    feat_imp_dict = {}\n",
    "    count = 0\n",
    "\n",
    "\n",
    "    for i in range(0, trainTestSplitTotalIters):\n",
    "        X_train, X_test, y_train, y_test = train_test_split(X, y, test_size=0.20, stratify = y, random_state=42)\n",
    "        count = count + 1\n",
    "        print('making model:')\n",
    "        key = 'round' + str(count)\n",
    "        print(count)\n",
    "\n",
    "\n",
    "        X_post_smote, y_post_smote = SMOTE(random_state=42).fit_sample(X_train, y_train)\n",
    "\n",
    "\n",
    "        ###this section optimises model paramaters by gridsearch \n",
    "\n",
    "        esti = xgb.XGBClassifier(n_estimators=5)\n",
    "\n",
    "\n",
    "        max_depth = [80, 100, 120]\n",
    "        min_child_weight = [0,1,3]\n",
    "        gamma = [0,3,5,7,9]\n",
    "\n",
    "\n",
    "\n",
    "        param_grid = {\n",
    "                   'max_depth': max_depth,\n",
    "                       'min_child_weight':min_child_weight,\n",
    "                       'gamma':gamma\n",
    "                      }\n",
    "\n",
    "        clf = GridSearchCV(estimator = esti, param_grid= param_grid,\n",
    "                                  n_jobs=-1, scoring='f1_macro', cv = 5, verbose=3)\n",
    "        print('running grid serach on this training data fold')\n",
    "        clf.fit(X_post_smote, y_post_smote)\n",
    "        optimumEstimator = clf.best_estimator_\n",
    "        optimumEstimator.fit(X_post_smote, y_post_smote)\n",
    "        print('gridsearch identified optimum paramaters for the current training data fold, now model with optimumn paramaters predicting using test_data for evaluation')\n",
    "\n",
    "        y_pred = optimumEstimator.predict(X_test)\n",
    "        class_f1_scores = f1_score(y_test, y_pred, average = None)\n",
    "        accuracy = accuracy_score(y_test, y_pred)\n",
    "        accuracy_scores.append(accuracy)\n",
    "        macro_f1_scores.append(f1_score(y_test, y_pred, average = 'macro'))\n",
    "        f1_dict[key] = class_f1_scores \n",
    "        feat_imp_dict[key] = optimumEstimator.feature_importances_"
   ]
  },
  {
   "cell_type": "code",
   "execution_count": 11,
   "metadata": {},
   "outputs": [
    {
     "name": "stdout",
     "output_type": "stream",
     "text": [
      "making model:\n",
      "1\n",
      "running grid serach on this training data fold\n",
      "Fitting 5 folds for each of 32 candidates, totalling 160 fits\n"
     ]
    },
    {
     "name": "stderr",
     "output_type": "stream",
     "text": [
      "[Parallel(n_jobs=-1)]: Using backend LokyBackend with 8 concurrent workers.\n",
      "[Parallel(n_jobs=-1)]: Done  16 tasks      | elapsed:    3.0s\n",
      "[Parallel(n_jobs=-1)]: Done 112 tasks      | elapsed:    7.0s\n",
      "[Parallel(n_jobs=-1)]: Done 160 out of 160 | elapsed:    8.8s finished\n",
      "/Users/robbie.morse/anaconda3/lib/python3.7/site-packages/sklearn/model_selection/_search.py:841: DeprecationWarning: The default of the `iid` parameter will change from True to False in version 0.22 and will be removed in 0.24. This will change numeric results when test-set sizes are unequal.\n",
      "  DeprecationWarning)\n",
      "[Parallel(n_jobs=-1)]: Using backend LokyBackend with 8 concurrent workers.\n"
     ]
    },
    {
     "name": "stdout",
     "output_type": "stream",
     "text": [
      "gridsearch identified optimum paramaters for the current training data fold, now model with optimumn paramaters predicting using test_data for evaluation\n",
      "making model:\n",
      "2\n",
      "running grid serach on this training data fold\n",
      "Fitting 5 folds for each of 32 candidates, totalling 160 fits\n"
     ]
    },
    {
     "name": "stderr",
     "output_type": "stream",
     "text": [
      "[Parallel(n_jobs=-1)]: Done  16 tasks      | elapsed:    0.9s\n",
      "[Parallel(n_jobs=-1)]: Done 112 tasks      | elapsed:    5.0s\n",
      "[Parallel(n_jobs=-1)]: Done 160 out of 160 | elapsed:    6.8s finished\n",
      "/Users/robbie.morse/anaconda3/lib/python3.7/site-packages/sklearn/model_selection/_search.py:841: DeprecationWarning: The default of the `iid` parameter will change from True to False in version 0.22 and will be removed in 0.24. This will change numeric results when test-set sizes are unequal.\n",
      "  DeprecationWarning)\n",
      "[Parallel(n_jobs=-1)]: Using backend LokyBackend with 8 concurrent workers.\n"
     ]
    },
    {
     "name": "stdout",
     "output_type": "stream",
     "text": [
      "gridsearch identified optimum paramaters for the current training data fold, now model with optimumn paramaters predicting using test_data for evaluation\n",
      "making model:\n",
      "3\n",
      "running grid serach on this training data fold\n",
      "Fitting 5 folds for each of 32 candidates, totalling 160 fits\n"
     ]
    },
    {
     "name": "stderr",
     "output_type": "stream",
     "text": [
      "[Parallel(n_jobs=-1)]: Done  16 tasks      | elapsed:    0.8s\n",
      "[Parallel(n_jobs=-1)]: Done 112 tasks      | elapsed:    5.2s\n",
      "[Parallel(n_jobs=-1)]: Done 160 out of 160 | elapsed:    7.1s finished\n",
      "/Users/robbie.morse/anaconda3/lib/python3.7/site-packages/sklearn/model_selection/_search.py:841: DeprecationWarning: The default of the `iid` parameter will change from True to False in version 0.22 and will be removed in 0.24. This will change numeric results when test-set sizes are unequal.\n",
      "  DeprecationWarning)\n",
      "[Parallel(n_jobs=-1)]: Using backend LokyBackend with 8 concurrent workers.\n"
     ]
    },
    {
     "name": "stdout",
     "output_type": "stream",
     "text": [
      "gridsearch identified optimum paramaters for the current training data fold, now model with optimumn paramaters predicting using test_data for evaluation\n",
      "making model:\n",
      "4\n",
      "running grid serach on this training data fold\n",
      "Fitting 5 folds for each of 32 candidates, totalling 160 fits\n"
     ]
    },
    {
     "name": "stderr",
     "output_type": "stream",
     "text": [
      "[Parallel(n_jobs=-1)]: Done  16 tasks      | elapsed:    0.9s\n",
      "[Parallel(n_jobs=-1)]: Done 112 tasks      | elapsed:    5.3s\n",
      "[Parallel(n_jobs=-1)]: Done 160 out of 160 | elapsed:    7.2s finished\n",
      "/Users/robbie.morse/anaconda3/lib/python3.7/site-packages/sklearn/model_selection/_search.py:841: DeprecationWarning: The default of the `iid` parameter will change from True to False in version 0.22 and will be removed in 0.24. This will change numeric results when test-set sizes are unequal.\n",
      "  DeprecationWarning)\n",
      "[Parallel(n_jobs=-1)]: Using backend LokyBackend with 8 concurrent workers.\n"
     ]
    },
    {
     "name": "stdout",
     "output_type": "stream",
     "text": [
      "gridsearch identified optimum paramaters for the current training data fold, now model with optimumn paramaters predicting using test_data for evaluation\n",
      "making model:\n",
      "5\n",
      "running grid serach on this training data fold\n",
      "Fitting 5 folds for each of 32 candidates, totalling 160 fits\n"
     ]
    },
    {
     "name": "stderr",
     "output_type": "stream",
     "text": [
      "[Parallel(n_jobs=-1)]: Done  16 tasks      | elapsed:    0.9s\n",
      "[Parallel(n_jobs=-1)]: Done 112 tasks      | elapsed:    5.4s\n",
      "[Parallel(n_jobs=-1)]: Done 160 out of 160 | elapsed:    7.3s finished\n",
      "/Users/robbie.morse/anaconda3/lib/python3.7/site-packages/sklearn/model_selection/_search.py:841: DeprecationWarning: The default of the `iid` parameter will change from True to False in version 0.22 and will be removed in 0.24. This will change numeric results when test-set sizes are unequal.\n",
      "  DeprecationWarning)\n",
      "[Parallel(n_jobs=-1)]: Using backend LokyBackend with 8 concurrent workers.\n"
     ]
    },
    {
     "name": "stdout",
     "output_type": "stream",
     "text": [
      "gridsearch identified optimum paramaters for the current training data fold, now model with optimumn paramaters predicting using test_data for evaluation\n",
      "making model:\n",
      "6\n",
      "running grid serach on this training data fold\n",
      "Fitting 5 folds for each of 32 candidates, totalling 160 fits\n"
     ]
    },
    {
     "name": "stderr",
     "output_type": "stream",
     "text": [
      "[Parallel(n_jobs=-1)]: Done  16 tasks      | elapsed:    0.9s\n",
      "[Parallel(n_jobs=-1)]: Done 112 tasks      | elapsed:    5.5s\n",
      "[Parallel(n_jobs=-1)]: Done 160 out of 160 | elapsed:    7.6s finished\n",
      "/Users/robbie.morse/anaconda3/lib/python3.7/site-packages/sklearn/model_selection/_search.py:841: DeprecationWarning: The default of the `iid` parameter will change from True to False in version 0.22 and will be removed in 0.24. This will change numeric results when test-set sizes are unequal.\n",
      "  DeprecationWarning)\n",
      "[Parallel(n_jobs=-1)]: Using backend LokyBackend with 8 concurrent workers.\n"
     ]
    },
    {
     "name": "stdout",
     "output_type": "stream",
     "text": [
      "gridsearch identified optimum paramaters for the current training data fold, now model with optimumn paramaters predicting using test_data for evaluation\n",
      "making model:\n",
      "7\n",
      "running grid serach on this training data fold\n",
      "Fitting 5 folds for each of 32 candidates, totalling 160 fits\n"
     ]
    },
    {
     "name": "stderr",
     "output_type": "stream",
     "text": [
      "[Parallel(n_jobs=-1)]: Done  16 tasks      | elapsed:    1.0s\n",
      "[Parallel(n_jobs=-1)]: Done 112 tasks      | elapsed:    5.6s\n",
      "[Parallel(n_jobs=-1)]: Done 160 out of 160 | elapsed:    7.6s finished\n",
      "/Users/robbie.morse/anaconda3/lib/python3.7/site-packages/sklearn/model_selection/_search.py:841: DeprecationWarning: The default of the `iid` parameter will change from True to False in version 0.22 and will be removed in 0.24. This will change numeric results when test-set sizes are unequal.\n",
      "  DeprecationWarning)\n",
      "[Parallel(n_jobs=-1)]: Using backend LokyBackend with 8 concurrent workers.\n"
     ]
    },
    {
     "name": "stdout",
     "output_type": "stream",
     "text": [
      "gridsearch identified optimum paramaters for the current training data fold, now model with optimumn paramaters predicting using test_data for evaluation\n",
      "making model:\n",
      "8\n",
      "running grid serach on this training data fold\n",
      "Fitting 5 folds for each of 32 candidates, totalling 160 fits\n"
     ]
    },
    {
     "name": "stderr",
     "output_type": "stream",
     "text": [
      "[Parallel(n_jobs=-1)]: Done  16 tasks      | elapsed:    1.0s\n",
      "[Parallel(n_jobs=-1)]: Done 112 tasks      | elapsed:    5.7s\n",
      "[Parallel(n_jobs=-1)]: Done 160 out of 160 | elapsed:    7.7s finished\n",
      "/Users/robbie.morse/anaconda3/lib/python3.7/site-packages/sklearn/model_selection/_search.py:841: DeprecationWarning: The default of the `iid` parameter will change from True to False in version 0.22 and will be removed in 0.24. This will change numeric results when test-set sizes are unequal.\n",
      "  DeprecationWarning)\n",
      "[Parallel(n_jobs=-1)]: Using backend LokyBackend with 8 concurrent workers.\n"
     ]
    },
    {
     "name": "stdout",
     "output_type": "stream",
     "text": [
      "gridsearch identified optimum paramaters for the current training data fold, now model with optimumn paramaters predicting using test_data for evaluation\n",
      "making model:\n",
      "9\n",
      "running grid serach on this training data fold\n",
      "Fitting 5 folds for each of 32 candidates, totalling 160 fits\n"
     ]
    },
    {
     "name": "stderr",
     "output_type": "stream",
     "text": [
      "[Parallel(n_jobs=-1)]: Done  16 tasks      | elapsed:    1.0s\n",
      "[Parallel(n_jobs=-1)]: Done 112 tasks      | elapsed:    5.5s\n",
      "[Parallel(n_jobs=-1)]: Done 160 out of 160 | elapsed:    7.5s finished\n",
      "/Users/robbie.morse/anaconda3/lib/python3.7/site-packages/sklearn/model_selection/_search.py:841: DeprecationWarning: The default of the `iid` parameter will change from True to False in version 0.22 and will be removed in 0.24. This will change numeric results when test-set sizes are unequal.\n",
      "  DeprecationWarning)\n",
      "[Parallel(n_jobs=-1)]: Using backend LokyBackend with 8 concurrent workers.\n"
     ]
    },
    {
     "name": "stdout",
     "output_type": "stream",
     "text": [
      "gridsearch identified optimum paramaters for the current training data fold, now model with optimumn paramaters predicting using test_data for evaluation\n",
      "making model:\n",
      "10\n",
      "running grid serach on this training data fold\n",
      "Fitting 5 folds for each of 32 candidates, totalling 160 fits\n"
     ]
    },
    {
     "name": "stderr",
     "output_type": "stream",
     "text": [
      "[Parallel(n_jobs=-1)]: Done  16 tasks      | elapsed:    1.0s\n",
      "[Parallel(n_jobs=-1)]: Done 112 tasks      | elapsed:    5.5s\n"
     ]
    },
    {
     "name": "stdout",
     "output_type": "stream",
     "text": [
      "gridsearch identified optimum paramaters for the current training data fold, now model with optimumn paramaters predicting using test_data for evaluation\n"
     ]
    },
    {
     "name": "stderr",
     "output_type": "stream",
     "text": [
      "[Parallel(n_jobs=-1)]: Done 160 out of 160 | elapsed:    7.5s finished\n",
      "/Users/robbie.morse/anaconda3/lib/python3.7/site-packages/sklearn/model_selection/_search.py:841: DeprecationWarning: The default of the `iid` parameter will change from True to False in version 0.22 and will be removed in 0.24. This will change numeric results when test-set sizes are unequal.\n",
      "  DeprecationWarning)\n"
     ]
    }
   ],
   "source": [
    "if modelName == 'svm':\n",
    "    skf = StratifiedKFold(n_splits=10, random_state=random_seed_state)\n",
    "    skf.get_n_splits(X, y)\n",
    "    class_f1_scores = []\n",
    "    macro_f1_scores = []\n",
    "    accuracy_scores = []\n",
    "    feat_imp =[]\n",
    "    f1_dict = {}\n",
    "    feat_imp_dict = {}\n",
    "    count = 0\n",
    "\n",
    "  \n",
    "    for i in range(0, trainTestSplitTotalIters):\n",
    "        X_train, X_test, y_train, y_test = train_test_split(X, y, test_size=0.20, stratify = y, random_state=42)\n",
    "        count = count + 1\n",
    "        print('making model:')\n",
    "        key = 'round' + str(count)\n",
    "        print(count)\n",
    "\n",
    "\n",
    "        X_post_smote, y_post_smote = SMOTE(random_state=42).fit_sample(X_train, y_train)\n",
    "\n",
    "\n",
    "        ###this section optimises model paramaters by gridsearch \n",
    "\n",
    "        esti = SVC()\n",
    "\n",
    "\n",
    "        param_grid = {\n",
    "            'C': [0.01, 0.1, 10, 100], \n",
    "            #'C': [0.01, 0.1, 1, 10, 100, 1000, 10000], \n",
    "            'class_weight':['balanced', None], \n",
    "            #'gamma':[0.001, 0.01, 0.1, 1, 10]\n",
    "            'gamma':[0.01, 0.1, 10, 100]\n",
    "                }\n",
    "\n",
    "        clf = GridSearchCV(estimator = esti, param_grid= param_grid,\n",
    "                                  n_jobs=-1, scoring='f1_macro', cv = 5, verbose=3)\n",
    "        print('running grid serach on this training data fold')\n",
    "        clf.fit(X_post_smote, y_post_smote)\n",
    "        optimumEstimator = clf.best_estimator_\n",
    "        optimumEstimator.fit(X_post_smote, y_post_smote)\n",
    "        print('gridsearch identified optimum paramaters for the current training data fold, now model with optimumn paramaters predicting using test_data for evaluation')\n",
    "\n",
    "        y_pred = optimumEstimator.predict(X_test)\n",
    "        class_f1_scores = f1_score(y_test, y_pred, average = None)\n",
    "        accuracy = accuracy_score(y_test, y_pred)\n",
    "        accuracy_scores.append(accuracy)\n",
    "        macro_f1_scores.append(f1_score(y_test, y_pred, average = 'macro'))\n",
    "        f1_dict[key] = class_f1_scores \n",
    "        #feat_imp_dict[key] = optimumEstimator.feature_importances_"
   ]
  },
  {
   "cell_type": "code",
   "execution_count": 12,
   "metadata": {},
   "outputs": [],
   "source": [
    "f1_df = pd.DataFrame(data = f1_dict)\n"
   ]
  },
  {
   "cell_type": "code",
   "execution_count": 13,
   "metadata": {},
   "outputs": [
    {
     "name": "stdout",
     "output_type": "stream",
     "text": [
      "19\n",
      "19\n",
      "19\n",
      "19\n",
      "19\n",
      "19\n",
      "19\n",
      "19\n",
      "19\n",
      "19\n"
     ]
    }
   ],
   "source": [
    "for key in f1_dict:\n",
    "    print(len(f1_dict[key]))"
   ]
  },
  {
   "cell_type": "markdown",
   "metadata": {},
   "source": [
    "### Below are the encodings for the class variable"
   ]
  },
  {
   "cell_type": "code",
   "execution_count": 14,
   "metadata": {},
   "outputs": [
    {
     "name": "stdout",
     "output_type": "stream",
     "text": [
      "[ 0  1  2  3  4  5  6  7  8  9 10 11 12 13 14 15 16 17 18]\n",
      "['FH', 'ER', 'WW', 'TC', 'CS', 'BC', 'KQ', 'AR', 'SL', 'FG', 'WB_BX', 'PF', 'BM', 'WH', 'SQ', 'WN', 'BH', 'PH', 'LB']\n"
     ]
    }
   ],
   "source": [
    "print(train_data_formodel['class'].unique())\n",
    "print(list(uniques))"
   ]
  },
  {
   "cell_type": "code",
   "execution_count": 15,
   "metadata": {},
   "outputs": [],
   "source": [
    "f1_df_final = pd.concat([f1_df, pd.Series(uniques)], axis = 1)"
   ]
  },
  {
   "cell_type": "code",
   "execution_count": 16,
   "metadata": {},
   "outputs": [],
   "source": [
    "f1_df_final.rename(columns={0:'class'}, inplace=True)\n",
    "f1_df_final.set_index('class', drop = True, inplace = True)"
   ]
  },
  {
   "cell_type": "markdown",
   "metadata": {},
   "source": [
    "### Boxplot showing the distribution of class f1 scores from 10 models"
   ]
  },
  {
   "cell_type": "code",
   "execution_count": 17,
   "metadata": {},
   "outputs": [
    {
     "data": {
      "image/png": "[encoded data removed]",
      "text/plain": [
       "<Figure size 842.4x595.44 with 1 Axes>"
      ]
     },
     "metadata": {},
     "output_type": "display_data"
    }
   ],
   "source": [
    "sns.set(rc={'figure.figsize':(11.7,8.27)})\n",
    "plot = sns.boxplot(data = f1_df_final.T)\n",
    "plot.set_title('F1 scores for each site', fontdict={'fontsize': 14})\n",
    "plot.set_ylabel('F1 score', fontdict={'fontsize': 11})\n",
    "plot.set_xlabel(\"Archeological site\", fontdict={'fontsize': 11})\n",
    "\n",
    "if save_plots:\n",
    "    fig = plot.get_figure()\n",
    "    fig.savefig('site_specific_f1_scores.png')"
   ]
  },
  {
   "cell_type": "code",
   "execution_count": 18,
   "metadata": {},
   "outputs": [],
   "source": [
    "if save_plots:\n",
    "    pd.DataFrame(data = f1_df_final.T.median()).to_csv('median_class_f1_scores.csv')"
   ]
  },
  {
   "cell_type": "markdown",
   "metadata": {},
   "source": [
    "### Boxplot showing the macro F1 score"
   ]
  },
  {
   "cell_type": "code",
   "execution_count": 19,
   "metadata": {},
   "outputs": [
    {
     "data": {
      "image/png": "[encoded data removed]",
      "text/plain": [
       "<Figure size 842.4x595.44 with 1 Axes>"
      ]
     },
     "metadata": {},
     "output_type": "display_data"
    }
   ],
   "source": [
    "sns.set(rc={'figure.figsize':(11.7,8.27)})\n",
    "plot = sns.boxplot(macro_f1_scores)\n",
    "plot.set_title('F1 score', fontdict={'fontsize': 14})\n",
    "plot.set_xlabel(\"F1-score\", fontdict={'fontsize': 11})\n",
    "\n",
    "if save_plots == True:\n",
    "    fig = plot.get_figure()\n",
    "    fig.savefig('average-weighted f1_scores.png')"
   ]
  },
  {
   "cell_type": "code",
   "execution_count": 20,
   "metadata": {},
   "outputs": [],
   "source": [
    "if save_plots:\n",
    "    pd.Series(pd.Series(macro_f1_scores).median()).to_csv('median_macro_f1.csv')"
   ]
  },
  {
   "cell_type": "code",
   "execution_count": 21,
   "metadata": {},
   "outputs": [
    {
     "data": {
      "text/plain": [
       "0.803255540371395"
      ]
     },
     "execution_count": 21,
     "metadata": {},
     "output_type": "execute_result"
    }
   ],
   "source": [
    "pd.Series(macro_f1_scores).median()"
   ]
  },
  {
   "cell_type": "markdown",
   "metadata": {},
   "source": [
    "### Boxplot showing accuracy scores"
   ]
  },
  {
   "cell_type": "code",
   "execution_count": 22,
   "metadata": {},
   "outputs": [
    {
     "data": {
      "text/plain": [
       "<matplotlib.axes._subplots.AxesSubplot at 0x1c1a2e3a90>"
      ]
     },
     "execution_count": 22,
     "metadata": {},
     "output_type": "execute_result"
    },
    {
     "data": {
      "image/png": "[encoded data removed]",
      "text/plain": [
       "<Figure size 842.4x595.44 with 1 Axes>"
      ]
     },
     "metadata": {},
     "output_type": "display_data"
    }
   ],
   "source": [
    "sns.boxplot(accuracy_scores)"
   ]
  },
  {
   "cell_type": "markdown",
   "metadata": {},
   "source": [
    "### Get feature importances"
   ]
  },
  {
   "cell_type": "code",
   "execution_count": 23,
   "metadata": {},
   "outputs": [
    {
     "data": {
      "text/html": [
       "<div>\n",
       "<style scoped>\n",
       "    .dataframe tbody tr th:only-of-type {\n",
       "        vertical-align: middle;\n",
       "    }\n",
       "\n",
       "    .dataframe tbody tr th {\n",
       "        vertical-align: top;\n",
       "    }\n",
       "\n",
       "    .dataframe thead th {\n",
       "        text-align: right;\n",
       "    }\n",
       "</style>\n",
       "<table border=\"1\" class=\"dataframe\">\n",
       "  <thead>\n",
       "    <tr style=\"text-align: right;\">\n",
       "      <th></th>\n",
       "    </tr>\n",
       "  </thead>\n",
       "  <tbody>\n",
       "  </tbody>\n",
       "</table>\n",
       "</div>"
      ],
      "text/plain": [
       "Empty DataFrame\n",
       "Columns: []\n",
       "Index: []"
      ]
     },
     "execution_count": 23,
     "metadata": {},
     "output_type": "execute_result"
    }
   ],
   "source": [
    "feat_imp_df = pd.DataFrame(data = feat_imp_dict)\n",
    "feat_imp_df.head()"
   ]
  },
  {
   "cell_type": "code",
   "execution_count": 24,
   "metadata": {},
   "outputs": [
    {
     "data": {
      "text/html": [
       "<div>\n",
       "<style scoped>\n",
       "    .dataframe tbody tr th:only-of-type {\n",
       "        vertical-align: middle;\n",
       "    }\n",
       "\n",
       "    .dataframe tbody tr th {\n",
       "        vertical-align: top;\n",
       "    }\n",
       "\n",
       "    .dataframe thead th {\n",
       "        text-align: right;\n",
       "    }\n",
       "</style>\n",
       "<table border=\"1\" class=\"dataframe\">\n",
       "  <thead>\n",
       "    <tr style=\"text-align: right;\">\n",
       "      <th></th>\n",
       "      <th>element</th>\n",
       "    </tr>\n",
       "  </thead>\n",
       "  <tbody>\n",
       "    <tr>\n",
       "      <th>0</th>\n",
       "      <td>Li7</td>\n",
       "    </tr>\n",
       "    <tr>\n",
       "      <th>1</th>\n",
       "      <td>Nd146</td>\n",
       "    </tr>\n",
       "    <tr>\n",
       "      <th>2</th>\n",
       "      <td>Pr141</td>\n",
       "    </tr>\n",
       "    <tr>\n",
       "      <th>3</th>\n",
       "      <td>Ba137</td>\n",
       "    </tr>\n",
       "    <tr>\n",
       "      <th>4</th>\n",
       "      <td>Sr88</td>\n",
       "    </tr>\n",
       "  </tbody>\n",
       "</table>\n",
       "</div>"
      ],
      "text/plain": [
       "  element\n",
       "0     Li7\n",
       "1   Nd146\n",
       "2   Pr141\n",
       "3   Ba137\n",
       "4    Sr88"
      ]
     },
     "execution_count": 24,
     "metadata": {},
     "output_type": "execute_result"
    }
   ],
   "source": [
    "feat_imp_df_final = pd.concat([feat_imp_df, pd.Series(my_data[best_feats].columns.values)], axis = 1)\n",
    "feat_imp_df_final.rename(columns = {0:'element'}, inplace = True )\n",
    "feat_imp_df_final.head()"
   ]
  },
  {
   "cell_type": "code",
   "execution_count": 25,
   "metadata": {},
   "outputs": [],
   "source": [
    "feat_imp_df_final.set_index('element', inplace=True)\n"
   ]
  },
  {
   "cell_type": "code",
   "execution_count": 26,
   "metadata": {},
   "outputs": [],
   "source": [
    "feat_imp_df_final_plot = feat_imp_df_final.T"
   ]
  },
  {
   "cell_type": "code",
   "execution_count": 27,
   "metadata": {},
   "outputs": [],
   "source": [
    "feat_imp_df_final_plot\n",
    "\n",
    "elements = feat_imp_df_final_plot.columns.values \n",
    "mean_feature_importance = []\n",
    "for col in list(feat_imp_df_final_plot.columns.values):\n",
    "    mean_feature_importance.append(feat_imp_df_final_plot[col].mean())\n",
    "    "
   ]
  },
  {
   "cell_type": "code",
   "execution_count": 28,
   "metadata": {},
   "outputs": [],
   "source": [
    "mean_feature_importance_df = pd.concat([pd.Series(elements), pd.Series(mean_feature_importance)], axis = 1)"
   ]
  },
  {
   "cell_type": "code",
   "execution_count": 29,
   "metadata": {},
   "outputs": [],
   "source": [
    "mean_feature_importance_df.rename(columns={0:'elements', 1:'mean_importance'}, inplace=True)"
   ]
  },
  {
   "cell_type": "code",
   "execution_count": 30,
   "metadata": {},
   "outputs": [],
   "source": [
    "mean_feature_importance_df.sort_values(by='mean_importance', ascending=False, inplace=True)"
   ]
  },
  {
   "cell_type": "code",
   "execution_count": 31,
   "metadata": {},
   "outputs": [],
   "source": [
    "ordered_col_names = list(mean_feature_importance_df['elements'])"
   ]
  },
  {
   "cell_type": "code",
   "execution_count": 32,
   "metadata": {},
   "outputs": [
    {
     "data": {
      "image/png": "[encoded data removed]",
      "text/plain": [
       "<Figure size 1440x1440 with 1 Axes>"
      ]
     },
     "metadata": {},
     "output_type": "display_data"
    }
   ],
   "source": [
    "sns.set_style(\"whitegrid\")\n",
    "sns.set_style()\n",
    "sns.set(rc={'figure.figsize':(20,20)})\n",
    "plot = sns.boxplot(data = feat_imp_df_final_plot[ordered_col_names])\n",
    "plot.set_xticklabels(plot.get_xticklabels(),rotation=90, ha = 'left')\n",
    "plot.set_title('Feature (element) importance', fontdict={'fontsize': 20})\n",
    "plot.set_ylabel('Feature importance', fontdict={'fontsize': 15})\n",
    "plot.set_xlabel(\"Element\", fontdict={'fontsize': 15})\n",
    "\n",
    "if save_plots:\n",
    "    fig = plot.get_figure()\n",
    "    fig.savefig('feature_importances.png')"
   ]
  },
  {
   "cell_type": "markdown",
   "metadata": {},
   "source": [
    "### show relationship between sample size and class F1 scores"
   ]
  },
  {
   "cell_type": "code",
   "execution_count": 150,
   "metadata": {},
   "outputs": [
    {
     "data": {
      "text/html": [
       "<div>\n",
       "<style scoped>\n",
       "    .dataframe tbody tr th:only-of-type {\n",
       "        vertical-align: middle;\n",
       "    }\n",
       "\n",
       "    .dataframe tbody tr th {\n",
       "        vertical-align: top;\n",
       "    }\n",
       "\n",
       "    .dataframe thead th {\n",
       "        text-align: right;\n",
       "    }\n",
       "</style>\n",
       "<table border=\"1\" class=\"dataframe\">\n",
       "  <thead>\n",
       "    <tr style=\"text-align: right;\">\n",
       "      <th></th>\n",
       "      <th>class</th>\n",
       "      <th>number of observations</th>\n",
       "    </tr>\n",
       "  </thead>\n",
       "  <tbody>\n",
       "    <tr>\n",
       "      <th>0</th>\n",
       "      <td>CS</td>\n",
       "      <td>105</td>\n",
       "    </tr>\n",
       "    <tr>\n",
       "      <th>1</th>\n",
       "      <td>PH</td>\n",
       "      <td>100</td>\n",
       "    </tr>\n",
       "    <tr>\n",
       "      <th>2</th>\n",
       "      <td>Pimple</td>\n",
       "      <td>78</td>\n",
       "    </tr>\n",
       "    <tr>\n",
       "      <th>3</th>\n",
       "      <td>LB</td>\n",
       "      <td>61</td>\n",
       "    </tr>\n",
       "    <tr>\n",
       "      <th>4</th>\n",
       "      <td>CR</td>\n",
       "      <td>60</td>\n",
       "    </tr>\n",
       "  </tbody>\n",
       "</table>\n",
       "</div>"
      ],
      "text/plain": [
       "    class  number of observations\n",
       "0      CS                     105\n",
       "1      PH                     100\n",
       "2  Pimple                      78\n",
       "3      LB                      61\n",
       "4      CR                      60"
      ]
     },
     "execution_count": 150,
     "metadata": {},
     "output_type": "execute_result"
    }
   ],
   "source": [
    "site_frequencies_df.head()"
   ]
  },
  {
   "cell_type": "code",
   "execution_count": 170,
   "metadata": {},
   "outputs": [],
   "source": [
    "site_frequencies_df.rename(columns = {'Site':'class'}, inplace=True)"
   ]
  },
  {
   "cell_type": "code",
   "execution_count": 171,
   "metadata": {},
   "outputs": [],
   "source": [
    "f1_scores_for_plot = f1_df_final.reset_index(drop = False)"
   ]
  },
  {
   "cell_type": "code",
   "execution_count": 172,
   "metadata": {},
   "outputs": [],
   "source": [
    "f1_scores_for_plot['Mean F1 Score'] = f1_scores_for_plot.mean(axis = 1)"
   ]
  },
  {
   "cell_type": "code",
   "execution_count": 173,
   "metadata": {},
   "outputs": [],
   "source": [
    "combined_df = site_frequencies_df.set_index('class').join(other = f1_scores_for_plot.set_index('class'), how = 'inner')"
   ]
  },
  {
   "cell_type": "code",
   "execution_count": 174,
   "metadata": {},
   "outputs": [],
   "source": [
    "forPlot = combined_df.reset_index(drop = False).rename(columns = {'index':'class'})[['class', 'Number of Observations', 'Mean F1 Score']]"
   ]
  },
  {
   "cell_type": "code",
   "execution_count": 190,
   "metadata": {},
   "outputs": [
    {
     "data": {
      "image/png": "[encoded data removed]",
      "text/plain": [
       "<Figure size 576x504 with 1 Axes>"
      ]
     },
     "metadata": {},
     "output_type": "display_data"
    }
   ],
   "source": [
    "sns.set(rc={'figure.figsize':(8,7)})\n",
    "plot = sns.scatterplot(x ='Number of Observations', y = 'Mean F1 Score', data = forPlot, ci=False)\n",
    "ax = plt.gca()\n",
    "ax.set_title(\"Mean F1 score vs number of observations for each class\")\n",
    "fig = plot.get_figure()\n",
    "fig.savefig('figures/f1scoresvsnumberobservations.png')\n",
    "\n",
    "\n"
   ]
  },
  {
   "cell_type": "code",
   "execution_count": 159,
   "metadata": {},
   "outputs": [
    {
     "data": {
      "text/html": [
       "<div>\n",
       "<style scoped>\n",
       "    .dataframe tbody tr th:only-of-type {\n",
       "        vertical-align: middle;\n",
       "    }\n",
       "\n",
       "    .dataframe tbody tr th {\n",
       "        vertical-align: top;\n",
       "    }\n",
       "\n",
       "    .dataframe thead th {\n",
       "        text-align: right;\n",
       "    }\n",
       "</style>\n",
       "<table border=\"1\" class=\"dataframe\">\n",
       "  <thead>\n",
       "    <tr style=\"text-align: right;\">\n",
       "      <th></th>\n",
       "      <th>class</th>\n",
       "      <th>number of observations</th>\n",
       "      <th>mean F1 score</th>\n",
       "    </tr>\n",
       "  </thead>\n",
       "  <tbody>\n",
       "    <tr>\n",
       "      <th>0</th>\n",
       "      <td>CS</td>\n",
       "      <td>105</td>\n",
       "      <td>0.933333</td>\n",
       "    </tr>\n",
       "    <tr>\n",
       "      <th>1</th>\n",
       "      <td>PH</td>\n",
       "      <td>100</td>\n",
       "      <td>0.918919</td>\n",
       "    </tr>\n",
       "    <tr>\n",
       "      <th>2</th>\n",
       "      <td>LB</td>\n",
       "      <td>61</td>\n",
       "      <td>0.640000</td>\n",
       "    </tr>\n",
       "    <tr>\n",
       "      <th>3</th>\n",
       "      <td>FH</td>\n",
       "      <td>53</td>\n",
       "      <td>1.000000</td>\n",
       "    </tr>\n",
       "    <tr>\n",
       "      <th>4</th>\n",
       "      <td>WH</td>\n",
       "      <td>45</td>\n",
       "      <td>0.941176</td>\n",
       "    </tr>\n",
       "    <tr>\n",
       "      <th>5</th>\n",
       "      <td>BH</td>\n",
       "      <td>36</td>\n",
       "      <td>0.857143</td>\n",
       "    </tr>\n",
       "    <tr>\n",
       "      <th>6</th>\n",
       "      <td>WN</td>\n",
       "      <td>36</td>\n",
       "      <td>0.933333</td>\n",
       "    </tr>\n",
       "    <tr>\n",
       "      <th>7</th>\n",
       "      <td>WW</td>\n",
       "      <td>36</td>\n",
       "      <td>1.000000</td>\n",
       "    </tr>\n",
       "    <tr>\n",
       "      <th>8</th>\n",
       "      <td>PF</td>\n",
       "      <td>30</td>\n",
       "      <td>0.769231</td>\n",
       "    </tr>\n",
       "    <tr>\n",
       "      <th>9</th>\n",
       "      <td>AR</td>\n",
       "      <td>30</td>\n",
       "      <td>0.769231</td>\n",
       "    </tr>\n",
       "    <tr>\n",
       "      <th>10</th>\n",
       "      <td>SL</td>\n",
       "      <td>30</td>\n",
       "      <td>0.909091</td>\n",
       "    </tr>\n",
       "    <tr>\n",
       "      <th>11</th>\n",
       "      <td>BC</td>\n",
       "      <td>30</td>\n",
       "      <td>0.909091</td>\n",
       "    </tr>\n",
       "    <tr>\n",
       "      <th>12</th>\n",
       "      <td>BM</td>\n",
       "      <td>30</td>\n",
       "      <td>0.615385</td>\n",
       "    </tr>\n",
       "    <tr>\n",
       "      <th>13</th>\n",
       "      <td>KQ</td>\n",
       "      <td>27</td>\n",
       "      <td>0.545455</td>\n",
       "    </tr>\n",
       "    <tr>\n",
       "      <th>14</th>\n",
       "      <td>FG</td>\n",
       "      <td>27</td>\n",
       "      <td>0.666667</td>\n",
       "    </tr>\n",
       "    <tr>\n",
       "      <th>15</th>\n",
       "      <td>ER</td>\n",
       "      <td>24</td>\n",
       "      <td>0.888889</td>\n",
       "    </tr>\n",
       "    <tr>\n",
       "      <th>16</th>\n",
       "      <td>SQ</td>\n",
       "      <td>21</td>\n",
       "      <td>0.666667</td>\n",
       "    </tr>\n",
       "    <tr>\n",
       "      <th>17</th>\n",
       "      <td>TC</td>\n",
       "      <td>18</td>\n",
       "      <td>0.666667</td>\n",
       "    </tr>\n",
       "  </tbody>\n",
       "</table>\n",
       "</div>"
      ],
      "text/plain": [
       "   class  number of observations  mean F1 score\n",
       "0     CS                     105       0.933333\n",
       "1     PH                     100       0.918919\n",
       "2     LB                      61       0.640000\n",
       "3     FH                      53       1.000000\n",
       "4     WH                      45       0.941176\n",
       "5     BH                      36       0.857143\n",
       "6     WN                      36       0.933333\n",
       "7     WW                      36       1.000000\n",
       "8     PF                      30       0.769231\n",
       "9     AR                      30       0.769231\n",
       "10    SL                      30       0.909091\n",
       "11    BC                      30       0.909091\n",
       "12    BM                      30       0.615385\n",
       "13    KQ                      27       0.545455\n",
       "14    FG                      27       0.666667\n",
       "15    ER                      24       0.888889\n",
       "16    SQ                      21       0.666667\n",
       "17    TC                      18       0.666667"
      ]
     },
     "execution_count": 159,
     "metadata": {},
     "output_type": "execute_result"
    }
   ],
   "source": [
    "forPlot"
   ]
  },
  {
   "cell_type": "code",
   "execution_count": 69,
   "metadata": {},
   "outputs": [
    {
     "data": {
      "text/html": [
       "<div>\n",
       "<style scoped>\n",
       "    .dataframe tbody tr th:only-of-type {\n",
       "        vertical-align: middle;\n",
       "    }\n",
       "\n",
       "    .dataframe tbody tr th {\n",
       "        vertical-align: top;\n",
       "    }\n",
       "\n",
       "    .dataframe thead th {\n",
       "        text-align: right;\n",
       "    }\n",
       "</style>\n",
       "<table border=\"1\" class=\"dataframe\">\n",
       "  <thead>\n",
       "    <tr style=\"text-align: right;\">\n",
       "      <th></th>\n",
       "      <th>class</th>\n",
       "      <th>round1</th>\n",
       "      <th>round2</th>\n",
       "      <th>round3</th>\n",
       "      <th>round4</th>\n",
       "      <th>round5</th>\n",
       "      <th>round6</th>\n",
       "      <th>round7</th>\n",
       "      <th>round8</th>\n",
       "      <th>round9</th>\n",
       "      <th>round10</th>\n",
       "    </tr>\n",
       "  </thead>\n",
       "  <tbody>\n",
       "    <tr>\n",
       "      <th>0</th>\n",
       "      <td>FH</td>\n",
       "      <td>1.000000</td>\n",
       "      <td>1.000000</td>\n",
       "      <td>1.000000</td>\n",
       "      <td>1.000000</td>\n",
       "      <td>1.000000</td>\n",
       "      <td>1.000000</td>\n",
       "      <td>1.000000</td>\n",
       "      <td>1.000000</td>\n",
       "      <td>1.000000</td>\n",
       "      <td>1.000000</td>\n",
       "    </tr>\n",
       "    <tr>\n",
       "      <th>1</th>\n",
       "      <td>ER</td>\n",
       "      <td>0.888889</td>\n",
       "      <td>0.888889</td>\n",
       "      <td>0.888889</td>\n",
       "      <td>0.888889</td>\n",
       "      <td>0.888889</td>\n",
       "      <td>0.888889</td>\n",
       "      <td>0.888889</td>\n",
       "      <td>0.888889</td>\n",
       "      <td>0.888889</td>\n",
       "      <td>0.888889</td>\n",
       "    </tr>\n",
       "    <tr>\n",
       "      <th>2</th>\n",
       "      <td>WW</td>\n",
       "      <td>1.000000</td>\n",
       "      <td>1.000000</td>\n",
       "      <td>1.000000</td>\n",
       "      <td>1.000000</td>\n",
       "      <td>1.000000</td>\n",
       "      <td>1.000000</td>\n",
       "      <td>1.000000</td>\n",
       "      <td>1.000000</td>\n",
       "      <td>1.000000</td>\n",
       "      <td>1.000000</td>\n",
       "    </tr>\n",
       "    <tr>\n",
       "      <th>3</th>\n",
       "      <td>TC</td>\n",
       "      <td>0.666667</td>\n",
       "      <td>0.666667</td>\n",
       "      <td>0.666667</td>\n",
       "      <td>0.666667</td>\n",
       "      <td>0.666667</td>\n",
       "      <td>0.666667</td>\n",
       "      <td>0.666667</td>\n",
       "      <td>0.666667</td>\n",
       "      <td>0.666667</td>\n",
       "      <td>0.666667</td>\n",
       "    </tr>\n",
       "    <tr>\n",
       "      <th>4</th>\n",
       "      <td>CS</td>\n",
       "      <td>0.933333</td>\n",
       "      <td>0.933333</td>\n",
       "      <td>0.933333</td>\n",
       "      <td>0.933333</td>\n",
       "      <td>0.933333</td>\n",
       "      <td>0.933333</td>\n",
       "      <td>0.933333</td>\n",
       "      <td>0.933333</td>\n",
       "      <td>0.933333</td>\n",
       "      <td>0.933333</td>\n",
       "    </tr>\n",
       "  </tbody>\n",
       "</table>\n",
       "</div>"
      ],
      "text/plain": [
       "  class    round1    round2    round3    round4    round5    round6    round7  \\\n",
       "0    FH  1.000000  1.000000  1.000000  1.000000  1.000000  1.000000  1.000000   \n",
       "1    ER  0.888889  0.888889  0.888889  0.888889  0.888889  0.888889  0.888889   \n",
       "2    WW  1.000000  1.000000  1.000000  1.000000  1.000000  1.000000  1.000000   \n",
       "3    TC  0.666667  0.666667  0.666667  0.666667  0.666667  0.666667  0.666667   \n",
       "4    CS  0.933333  0.933333  0.933333  0.933333  0.933333  0.933333  0.933333   \n",
       "\n",
       "     round8    round9   round10  \n",
       "0  1.000000  1.000000  1.000000  \n",
       "1  0.888889  0.888889  0.888889  \n",
       "2  1.000000  1.000000  1.000000  \n",
       "3  0.666667  0.666667  0.666667  \n",
       "4  0.933333  0.933333  0.933333  "
      ]
     },
     "execution_count": 69,
     "metadata": {},
     "output_type": "execute_result"
    }
   ],
   "source": [
    "f1_scores_for_plot.head()"
   ]
  },
  {
   "cell_type": "markdown",
   "metadata": {},
   "source": [
    "### Model is built for predicting source of artefacts "
   ]
  },
  {
   "cell_type": "code",
   "execution_count": 33,
   "metadata": {},
   "outputs": [],
   "source": [
    "esti_final = RandomForestClassifier(n_estimators=2000, random_state = random_seed_state)"
   ]
  },
  {
   "cell_type": "code",
   "execution_count": 34,
   "metadata": {},
   "outputs": [
    {
     "data": {
      "text/plain": [
       "RandomForestClassifier(bootstrap=True, class_weight=None, criterion='gini',\n",
       "            max_depth=None, max_features='auto', max_leaf_nodes=None,\n",
       "            min_impurity_decrease=0.0, min_impurity_split=None,\n",
       "            min_samples_leaf=1, min_samples_split=2,\n",
       "            min_weight_fraction_leaf=0.0, n_estimators=2000, n_jobs=None,\n",
       "            oob_score=False, random_state=42, verbose=0, warm_start=False)"
      ]
     },
     "execution_count": 34,
     "metadata": {},
     "output_type": "execute_result"
    }
   ],
   "source": [
    "esti_final.fit(X, y)"
   ]
  },
  {
   "cell_type": "code",
   "execution_count": 35,
   "metadata": {},
   "outputs": [
    {
     "name": "stdout",
     "output_type": "stream",
     "text": [
      "[ 0  1  2  3  4  5  6  7  8  9 10 11 12 13 14 15 16 17 18]\n",
      "Index(['FH', 'ER', 'WW', 'TC', 'CS', 'BC', 'KQ', 'AR', 'SL', 'FG', 'WB_BX',\n",
      "       'PF', 'BM', 'WH', 'SQ', 'WN', 'BH', 'PH', 'LB'],\n",
      "      dtype='object')\n"
     ]
    }
   ],
   "source": [
    "print(train_data_formodel['class'].unique())\n",
    "print(uniques)"
   ]
  },
  {
   "cell_type": "code",
   "execution_count": 36,
   "metadata": {},
   "outputs": [],
   "source": [
    "identifiers =  X_test_labeled_df['Analysis']"
   ]
  },
  {
   "cell_type": "markdown",
   "metadata": {},
   "source": [
    "### Predictions are made for the artefacts"
   ]
  },
  {
   "cell_type": "code",
   "execution_count": 37,
   "metadata": {},
   "outputs": [
    {
     "data": {
      "text/plain": [
       "array(['Li7', 'Nd146', 'Pr141', 'Ba137', 'Sr88', 'Rb85', 'Ge72', 'Cu63',\n",
       "       'Fe56', 'Cr52', 'V51', 'Zr90', 'Sc45', 'B11', 'Mg24', 'Al27',\n",
       "       'P31', 'S33', 'U238', 'La139', 'Ga69', 'Y89', 'K39', 'Ce140',\n",
       "       'Cd111', 'Zn68', 'Ni60', 'Nb93', 'Si28', 'Mn55'], dtype=object)"
      ]
     },
     "execution_count": 37,
     "metadata": {},
     "output_type": "execute_result"
    }
   ],
   "source": [
    "X_test_labeled_df.columns.values[1:-1]"
   ]
  },
  {
   "cell_type": "code",
   "execution_count": 38,
   "metadata": {},
   "outputs": [],
   "source": [
    "y_pred = esti_final.predict(np.array(X_test_labeled_df[X_test_labeled_df.columns.values[1:-1]]))\n",
    "\n",
    "y_pred_proba = esti_final.predict_proba(np.array(X_test_labeled_df[X_test_labeled_df.columns.values[1:-1]]))\n"
   ]
  },
  {
   "cell_type": "code",
   "execution_count": 39,
   "metadata": {},
   "outputs": [],
   "source": [
    "probabilities_df = pd.DataFrame(data = y_pred_proba, columns = uniques)\n",
    "probabilities_df_final = pd.concat([probabilities_df, identifiers], axis = 1)"
   ]
  },
  {
   "cell_type": "code",
   "execution_count": 40,
   "metadata": {},
   "outputs": [
    {
     "data": {
      "text/html": [
       "<div>\n",
       "<style scoped>\n",
       "    .dataframe tbody tr th:only-of-type {\n",
       "        vertical-align: middle;\n",
       "    }\n",
       "\n",
       "    .dataframe tbody tr th {\n",
       "        vertical-align: top;\n",
       "    }\n",
       "\n",
       "    .dataframe thead th {\n",
       "        text-align: right;\n",
       "    }\n",
       "</style>\n",
       "<table border=\"1\" class=\"dataframe\">\n",
       "  <thead>\n",
       "    <tr style=\"text-align: right;\">\n",
       "      <th></th>\n",
       "      <th>FH</th>\n",
       "      <th>ER</th>\n",
       "      <th>WW</th>\n",
       "      <th>TC</th>\n",
       "      <th>CS</th>\n",
       "      <th>BC</th>\n",
       "      <th>KQ</th>\n",
       "      <th>AR</th>\n",
       "      <th>SL</th>\n",
       "      <th>FG</th>\n",
       "      <th>WB_BX</th>\n",
       "      <th>PF</th>\n",
       "      <th>BM</th>\n",
       "      <th>WH</th>\n",
       "      <th>SQ</th>\n",
       "      <th>WN</th>\n",
       "      <th>BH</th>\n",
       "      <th>PH</th>\n",
       "      <th>LB</th>\n",
       "      <th>Analysis</th>\n",
       "    </tr>\n",
       "  </thead>\n",
       "  <tbody>\n",
       "    <tr>\n",
       "      <th>0</th>\n",
       "      <td>0.1520</td>\n",
       "      <td>0.0255</td>\n",
       "      <td>0.0040</td>\n",
       "      <td>0.0050</td>\n",
       "      <td>0.057</td>\n",
       "      <td>0.0155</td>\n",
       "      <td>0.0250</td>\n",
       "      <td>0.1035</td>\n",
       "      <td>0.0060</td>\n",
       "      <td>0.0405</td>\n",
       "      <td>0.0665</td>\n",
       "      <td>0.2110</td>\n",
       "      <td>0.0125</td>\n",
       "      <td>0.0100</td>\n",
       "      <td>0.0045</td>\n",
       "      <td>0.0490</td>\n",
       "      <td>0.0425</td>\n",
       "      <td>0.0825</td>\n",
       "      <td>0.0875</td>\n",
       "      <td>06_DH1_1</td>\n",
       "    </tr>\n",
       "    <tr>\n",
       "      <th>1</th>\n",
       "      <td>0.1510</td>\n",
       "      <td>0.0240</td>\n",
       "      <td>0.0045</td>\n",
       "      <td>0.0045</td>\n",
       "      <td>0.056</td>\n",
       "      <td>0.0165</td>\n",
       "      <td>0.0240</td>\n",
       "      <td>0.1025</td>\n",
       "      <td>0.0065</td>\n",
       "      <td>0.0420</td>\n",
       "      <td>0.0640</td>\n",
       "      <td>0.2260</td>\n",
       "      <td>0.0135</td>\n",
       "      <td>0.0100</td>\n",
       "      <td>0.0055</td>\n",
       "      <td>0.0470</td>\n",
       "      <td>0.0435</td>\n",
       "      <td>0.0785</td>\n",
       "      <td>0.0805</td>\n",
       "      <td>07_DH1_2</td>\n",
       "    </tr>\n",
       "    <tr>\n",
       "      <th>2</th>\n",
       "      <td>0.1475</td>\n",
       "      <td>0.0230</td>\n",
       "      <td>0.0040</td>\n",
       "      <td>0.0045</td>\n",
       "      <td>0.058</td>\n",
       "      <td>0.0165</td>\n",
       "      <td>0.0265</td>\n",
       "      <td>0.0985</td>\n",
       "      <td>0.0060</td>\n",
       "      <td>0.0410</td>\n",
       "      <td>0.0615</td>\n",
       "      <td>0.2250</td>\n",
       "      <td>0.0135</td>\n",
       "      <td>0.0100</td>\n",
       "      <td>0.0045</td>\n",
       "      <td>0.0495</td>\n",
       "      <td>0.0455</td>\n",
       "      <td>0.0780</td>\n",
       "      <td>0.0870</td>\n",
       "      <td>08_DH1_3</td>\n",
       "    </tr>\n",
       "    <tr>\n",
       "      <th>3</th>\n",
       "      <td>0.1415</td>\n",
       "      <td>0.0240</td>\n",
       "      <td>0.0040</td>\n",
       "      <td>0.0050</td>\n",
       "      <td>0.053</td>\n",
       "      <td>0.0150</td>\n",
       "      <td>0.0285</td>\n",
       "      <td>0.1095</td>\n",
       "      <td>0.0090</td>\n",
       "      <td>0.0455</td>\n",
       "      <td>0.0750</td>\n",
       "      <td>0.2230</td>\n",
       "      <td>0.0135</td>\n",
       "      <td>0.0095</td>\n",
       "      <td>0.0055</td>\n",
       "      <td>0.0425</td>\n",
       "      <td>0.0415</td>\n",
       "      <td>0.0855</td>\n",
       "      <td>0.0690</td>\n",
       "      <td>09_DH2_1</td>\n",
       "    </tr>\n",
       "    <tr>\n",
       "      <th>4</th>\n",
       "      <td>0.1400</td>\n",
       "      <td>0.0240</td>\n",
       "      <td>0.0050</td>\n",
       "      <td>0.0055</td>\n",
       "      <td>0.050</td>\n",
       "      <td>0.0175</td>\n",
       "      <td>0.0265</td>\n",
       "      <td>0.1080</td>\n",
       "      <td>0.0055</td>\n",
       "      <td>0.0430</td>\n",
       "      <td>0.0685</td>\n",
       "      <td>0.2295</td>\n",
       "      <td>0.0155</td>\n",
       "      <td>0.0115</td>\n",
       "      <td>0.0050</td>\n",
       "      <td>0.0425</td>\n",
       "      <td>0.0465</td>\n",
       "      <td>0.0835</td>\n",
       "      <td>0.0725</td>\n",
       "      <td>10_DH2_2</td>\n",
       "    </tr>\n",
       "  </tbody>\n",
       "</table>\n",
       "</div>"
      ],
      "text/plain": [
       "       FH      ER      WW      TC     CS      BC      KQ      AR      SL  \\\n",
       "0  0.1520  0.0255  0.0040  0.0050  0.057  0.0155  0.0250  0.1035  0.0060   \n",
       "1  0.1510  0.0240  0.0045  0.0045  0.056  0.0165  0.0240  0.1025  0.0065   \n",
       "2  0.1475  0.0230  0.0040  0.0045  0.058  0.0165  0.0265  0.0985  0.0060   \n",
       "3  0.1415  0.0240  0.0040  0.0050  0.053  0.0150  0.0285  0.1095  0.0090   \n",
       "4  0.1400  0.0240  0.0050  0.0055  0.050  0.0175  0.0265  0.1080  0.0055   \n",
       "\n",
       "       FG   WB_BX      PF      BM      WH      SQ      WN      BH      PH  \\\n",
       "0  0.0405  0.0665  0.2110  0.0125  0.0100  0.0045  0.0490  0.0425  0.0825   \n",
       "1  0.0420  0.0640  0.2260  0.0135  0.0100  0.0055  0.0470  0.0435  0.0785   \n",
       "2  0.0410  0.0615  0.2250  0.0135  0.0100  0.0045  0.0495  0.0455  0.0780   \n",
       "3  0.0455  0.0750  0.2230  0.0135  0.0095  0.0055  0.0425  0.0415  0.0855   \n",
       "4  0.0430  0.0685  0.2295  0.0155  0.0115  0.0050  0.0425  0.0465  0.0835   \n",
       "\n",
       "       LB  Analysis  \n",
       "0  0.0875  06_DH1_1  \n",
       "1  0.0805  07_DH1_2  \n",
       "2  0.0870  08_DH1_3  \n",
       "3  0.0690  09_DH2_1  \n",
       "4  0.0725  10_DH2_2  "
      ]
     },
     "execution_count": 40,
     "metadata": {},
     "output_type": "execute_result"
    }
   ],
   "source": [
    "probabilities_df_final.head()"
   ]
  },
  {
   "cell_type": "code",
   "execution_count": 41,
   "metadata": {},
   "outputs": [],
   "source": [
    "final_pred_df = pd.concat([pd.Series(y_pred), probabilities_df_final], axis = 1).rename(columns={0:'class_number'})"
   ]
  },
  {
   "cell_type": "code",
   "execution_count": 42,
   "metadata": {},
   "outputs": [
    {
     "data": {
      "text/html": [
       "<div>\n",
       "<style scoped>\n",
       "    .dataframe tbody tr th:only-of-type {\n",
       "        vertical-align: middle;\n",
       "    }\n",
       "\n",
       "    .dataframe tbody tr th {\n",
       "        vertical-align: top;\n",
       "    }\n",
       "\n",
       "    .dataframe thead th {\n",
       "        text-align: right;\n",
       "    }\n",
       "</style>\n",
       "<table border=\"1\" class=\"dataframe\">\n",
       "  <thead>\n",
       "    <tr style=\"text-align: right;\">\n",
       "      <th></th>\n",
       "      <th>class_number</th>\n",
       "      <th>FH</th>\n",
       "      <th>ER</th>\n",
       "      <th>WW</th>\n",
       "      <th>TC</th>\n",
       "      <th>CS</th>\n",
       "      <th>BC</th>\n",
       "      <th>KQ</th>\n",
       "      <th>AR</th>\n",
       "      <th>SL</th>\n",
       "      <th>FG</th>\n",
       "      <th>WB_BX</th>\n",
       "      <th>PF</th>\n",
       "      <th>BM</th>\n",
       "      <th>WH</th>\n",
       "      <th>SQ</th>\n",
       "      <th>WN</th>\n",
       "      <th>BH</th>\n",
       "      <th>PH</th>\n",
       "      <th>LB</th>\n",
       "      <th>Analysis</th>\n",
       "    </tr>\n",
       "  </thead>\n",
       "  <tbody>\n",
       "    <tr>\n",
       "      <th>0</th>\n",
       "      <td>11</td>\n",
       "      <td>0.1520</td>\n",
       "      <td>0.0255</td>\n",
       "      <td>0.0040</td>\n",
       "      <td>0.0050</td>\n",
       "      <td>0.057</td>\n",
       "      <td>0.0155</td>\n",
       "      <td>0.0250</td>\n",
       "      <td>0.1035</td>\n",
       "      <td>0.0060</td>\n",
       "      <td>0.0405</td>\n",
       "      <td>0.0665</td>\n",
       "      <td>0.2110</td>\n",
       "      <td>0.0125</td>\n",
       "      <td>0.0100</td>\n",
       "      <td>0.0045</td>\n",
       "      <td>0.0490</td>\n",
       "      <td>0.0425</td>\n",
       "      <td>0.0825</td>\n",
       "      <td>0.0875</td>\n",
       "      <td>06_DH1_1</td>\n",
       "    </tr>\n",
       "    <tr>\n",
       "      <th>1</th>\n",
       "      <td>11</td>\n",
       "      <td>0.1510</td>\n",
       "      <td>0.0240</td>\n",
       "      <td>0.0045</td>\n",
       "      <td>0.0045</td>\n",
       "      <td>0.056</td>\n",
       "      <td>0.0165</td>\n",
       "      <td>0.0240</td>\n",
       "      <td>0.1025</td>\n",
       "      <td>0.0065</td>\n",
       "      <td>0.0420</td>\n",
       "      <td>0.0640</td>\n",
       "      <td>0.2260</td>\n",
       "      <td>0.0135</td>\n",
       "      <td>0.0100</td>\n",
       "      <td>0.0055</td>\n",
       "      <td>0.0470</td>\n",
       "      <td>0.0435</td>\n",
       "      <td>0.0785</td>\n",
       "      <td>0.0805</td>\n",
       "      <td>07_DH1_2</td>\n",
       "    </tr>\n",
       "    <tr>\n",
       "      <th>2</th>\n",
       "      <td>11</td>\n",
       "      <td>0.1475</td>\n",
       "      <td>0.0230</td>\n",
       "      <td>0.0040</td>\n",
       "      <td>0.0045</td>\n",
       "      <td>0.058</td>\n",
       "      <td>0.0165</td>\n",
       "      <td>0.0265</td>\n",
       "      <td>0.0985</td>\n",
       "      <td>0.0060</td>\n",
       "      <td>0.0410</td>\n",
       "      <td>0.0615</td>\n",
       "      <td>0.2250</td>\n",
       "      <td>0.0135</td>\n",
       "      <td>0.0100</td>\n",
       "      <td>0.0045</td>\n",
       "      <td>0.0495</td>\n",
       "      <td>0.0455</td>\n",
       "      <td>0.0780</td>\n",
       "      <td>0.0870</td>\n",
       "      <td>08_DH1_3</td>\n",
       "    </tr>\n",
       "    <tr>\n",
       "      <th>3</th>\n",
       "      <td>11</td>\n",
       "      <td>0.1415</td>\n",
       "      <td>0.0240</td>\n",
       "      <td>0.0040</td>\n",
       "      <td>0.0050</td>\n",
       "      <td>0.053</td>\n",
       "      <td>0.0150</td>\n",
       "      <td>0.0285</td>\n",
       "      <td>0.1095</td>\n",
       "      <td>0.0090</td>\n",
       "      <td>0.0455</td>\n",
       "      <td>0.0750</td>\n",
       "      <td>0.2230</td>\n",
       "      <td>0.0135</td>\n",
       "      <td>0.0095</td>\n",
       "      <td>0.0055</td>\n",
       "      <td>0.0425</td>\n",
       "      <td>0.0415</td>\n",
       "      <td>0.0855</td>\n",
       "      <td>0.0690</td>\n",
       "      <td>09_DH2_1</td>\n",
       "    </tr>\n",
       "    <tr>\n",
       "      <th>4</th>\n",
       "      <td>11</td>\n",
       "      <td>0.1400</td>\n",
       "      <td>0.0240</td>\n",
       "      <td>0.0050</td>\n",
       "      <td>0.0055</td>\n",
       "      <td>0.050</td>\n",
       "      <td>0.0175</td>\n",
       "      <td>0.0265</td>\n",
       "      <td>0.1080</td>\n",
       "      <td>0.0055</td>\n",
       "      <td>0.0430</td>\n",
       "      <td>0.0685</td>\n",
       "      <td>0.2295</td>\n",
       "      <td>0.0155</td>\n",
       "      <td>0.0115</td>\n",
       "      <td>0.0050</td>\n",
       "      <td>0.0425</td>\n",
       "      <td>0.0465</td>\n",
       "      <td>0.0835</td>\n",
       "      <td>0.0725</td>\n",
       "      <td>10_DH2_2</td>\n",
       "    </tr>\n",
       "  </tbody>\n",
       "</table>\n",
       "</div>"
      ],
      "text/plain": [
       "   class_number      FH      ER      WW      TC     CS      BC      KQ  \\\n",
       "0            11  0.1520  0.0255  0.0040  0.0050  0.057  0.0155  0.0250   \n",
       "1            11  0.1510  0.0240  0.0045  0.0045  0.056  0.0165  0.0240   \n",
       "2            11  0.1475  0.0230  0.0040  0.0045  0.058  0.0165  0.0265   \n",
       "3            11  0.1415  0.0240  0.0040  0.0050  0.053  0.0150  0.0285   \n",
       "4            11  0.1400  0.0240  0.0050  0.0055  0.050  0.0175  0.0265   \n",
       "\n",
       "       AR      SL      FG   WB_BX      PF      BM      WH      SQ      WN  \\\n",
       "0  0.1035  0.0060  0.0405  0.0665  0.2110  0.0125  0.0100  0.0045  0.0490   \n",
       "1  0.1025  0.0065  0.0420  0.0640  0.2260  0.0135  0.0100  0.0055  0.0470   \n",
       "2  0.0985  0.0060  0.0410  0.0615  0.2250  0.0135  0.0100  0.0045  0.0495   \n",
       "3  0.1095  0.0090  0.0455  0.0750  0.2230  0.0135  0.0095  0.0055  0.0425   \n",
       "4  0.1080  0.0055  0.0430  0.0685  0.2295  0.0155  0.0115  0.0050  0.0425   \n",
       "\n",
       "       BH      PH      LB  Analysis  \n",
       "0  0.0425  0.0825  0.0875  06_DH1_1  \n",
       "1  0.0435  0.0785  0.0805  07_DH1_2  \n",
       "2  0.0455  0.0780  0.0870  08_DH1_3  \n",
       "3  0.0415  0.0855  0.0690  09_DH2_1  \n",
       "4  0.0465  0.0835  0.0725  10_DH2_2  "
      ]
     },
     "execution_count": 42,
     "metadata": {},
     "output_type": "execute_result"
    }
   ],
   "source": [
    "final_pred_df.head()"
   ]
  },
  {
   "cell_type": "markdown",
   "metadata": {},
   "source": [
    "### labels outputted by local outlier factor model are appended to predictions"
   ]
  },
  {
   "cell_type": "code",
   "execution_count": 43,
   "metadata": {},
   "outputs": [],
   "source": [
    "final_predictions_df = pd.concat([final_pred_df, X_test_labeled_df['inlierLabel']], axis = 1)"
   ]
  },
  {
   "cell_type": "code",
   "execution_count": 44,
   "metadata": {},
   "outputs": [
    {
     "data": {
      "text/html": [
       "<div>\n",
       "<style scoped>\n",
       "    .dataframe tbody tr th:only-of-type {\n",
       "        vertical-align: middle;\n",
       "    }\n",
       "\n",
       "    .dataframe tbody tr th {\n",
       "        vertical-align: top;\n",
       "    }\n",
       "\n",
       "    .dataframe thead th {\n",
       "        text-align: right;\n",
       "    }\n",
       "</style>\n",
       "<table border=\"1\" class=\"dataframe\">\n",
       "  <thead>\n",
       "    <tr style=\"text-align: right;\">\n",
       "      <th></th>\n",
       "      <th>class_number</th>\n",
       "      <th>FH</th>\n",
       "      <th>ER</th>\n",
       "      <th>WW</th>\n",
       "      <th>TC</th>\n",
       "      <th>CS</th>\n",
       "      <th>BC</th>\n",
       "      <th>KQ</th>\n",
       "      <th>AR</th>\n",
       "      <th>SL</th>\n",
       "      <th>FG</th>\n",
       "      <th>WB_BX</th>\n",
       "      <th>PF</th>\n",
       "      <th>BM</th>\n",
       "      <th>WH</th>\n",
       "      <th>SQ</th>\n",
       "      <th>WN</th>\n",
       "      <th>BH</th>\n",
       "      <th>PH</th>\n",
       "      <th>LB</th>\n",
       "      <th>Analysis</th>\n",
       "      <th>inlierLabel</th>\n",
       "    </tr>\n",
       "  </thead>\n",
       "  <tbody>\n",
       "    <tr>\n",
       "      <th>0</th>\n",
       "      <td>11</td>\n",
       "      <td>0.1520</td>\n",
       "      <td>0.0255</td>\n",
       "      <td>0.0040</td>\n",
       "      <td>0.0050</td>\n",
       "      <td>0.057</td>\n",
       "      <td>0.0155</td>\n",
       "      <td>0.0250</td>\n",
       "      <td>0.1035</td>\n",
       "      <td>0.0060</td>\n",
       "      <td>0.0405</td>\n",
       "      <td>0.0665</td>\n",
       "      <td>0.2110</td>\n",
       "      <td>0.0125</td>\n",
       "      <td>0.0100</td>\n",
       "      <td>0.0045</td>\n",
       "      <td>0.0490</td>\n",
       "      <td>0.0425</td>\n",
       "      <td>0.0825</td>\n",
       "      <td>0.0875</td>\n",
       "      <td>06_DH1_1</td>\n",
       "      <td>1</td>\n",
       "    </tr>\n",
       "    <tr>\n",
       "      <th>1</th>\n",
       "      <td>11</td>\n",
       "      <td>0.1510</td>\n",
       "      <td>0.0240</td>\n",
       "      <td>0.0045</td>\n",
       "      <td>0.0045</td>\n",
       "      <td>0.056</td>\n",
       "      <td>0.0165</td>\n",
       "      <td>0.0240</td>\n",
       "      <td>0.1025</td>\n",
       "      <td>0.0065</td>\n",
       "      <td>0.0420</td>\n",
       "      <td>0.0640</td>\n",
       "      <td>0.2260</td>\n",
       "      <td>0.0135</td>\n",
       "      <td>0.0100</td>\n",
       "      <td>0.0055</td>\n",
       "      <td>0.0470</td>\n",
       "      <td>0.0435</td>\n",
       "      <td>0.0785</td>\n",
       "      <td>0.0805</td>\n",
       "      <td>07_DH1_2</td>\n",
       "      <td>1</td>\n",
       "    </tr>\n",
       "    <tr>\n",
       "      <th>2</th>\n",
       "      <td>11</td>\n",
       "      <td>0.1475</td>\n",
       "      <td>0.0230</td>\n",
       "      <td>0.0040</td>\n",
       "      <td>0.0045</td>\n",
       "      <td>0.058</td>\n",
       "      <td>0.0165</td>\n",
       "      <td>0.0265</td>\n",
       "      <td>0.0985</td>\n",
       "      <td>0.0060</td>\n",
       "      <td>0.0410</td>\n",
       "      <td>0.0615</td>\n",
       "      <td>0.2250</td>\n",
       "      <td>0.0135</td>\n",
       "      <td>0.0100</td>\n",
       "      <td>0.0045</td>\n",
       "      <td>0.0495</td>\n",
       "      <td>0.0455</td>\n",
       "      <td>0.0780</td>\n",
       "      <td>0.0870</td>\n",
       "      <td>08_DH1_3</td>\n",
       "      <td>1</td>\n",
       "    </tr>\n",
       "    <tr>\n",
       "      <th>3</th>\n",
       "      <td>11</td>\n",
       "      <td>0.1415</td>\n",
       "      <td>0.0240</td>\n",
       "      <td>0.0040</td>\n",
       "      <td>0.0050</td>\n",
       "      <td>0.053</td>\n",
       "      <td>0.0150</td>\n",
       "      <td>0.0285</td>\n",
       "      <td>0.1095</td>\n",
       "      <td>0.0090</td>\n",
       "      <td>0.0455</td>\n",
       "      <td>0.0750</td>\n",
       "      <td>0.2230</td>\n",
       "      <td>0.0135</td>\n",
       "      <td>0.0095</td>\n",
       "      <td>0.0055</td>\n",
       "      <td>0.0425</td>\n",
       "      <td>0.0415</td>\n",
       "      <td>0.0855</td>\n",
       "      <td>0.0690</td>\n",
       "      <td>09_DH2_1</td>\n",
       "      <td>1</td>\n",
       "    </tr>\n",
       "    <tr>\n",
       "      <th>4</th>\n",
       "      <td>11</td>\n",
       "      <td>0.1400</td>\n",
       "      <td>0.0240</td>\n",
       "      <td>0.0050</td>\n",
       "      <td>0.0055</td>\n",
       "      <td>0.050</td>\n",
       "      <td>0.0175</td>\n",
       "      <td>0.0265</td>\n",
       "      <td>0.1080</td>\n",
       "      <td>0.0055</td>\n",
       "      <td>0.0430</td>\n",
       "      <td>0.0685</td>\n",
       "      <td>0.2295</td>\n",
       "      <td>0.0155</td>\n",
       "      <td>0.0115</td>\n",
       "      <td>0.0050</td>\n",
       "      <td>0.0425</td>\n",
       "      <td>0.0465</td>\n",
       "      <td>0.0835</td>\n",
       "      <td>0.0725</td>\n",
       "      <td>10_DH2_2</td>\n",
       "      <td>1</td>\n",
       "    </tr>\n",
       "  </tbody>\n",
       "</table>\n",
       "</div>"
      ],
      "text/plain": [
       "   class_number      FH      ER      WW      TC     CS      BC      KQ  \\\n",
       "0            11  0.1520  0.0255  0.0040  0.0050  0.057  0.0155  0.0250   \n",
       "1            11  0.1510  0.0240  0.0045  0.0045  0.056  0.0165  0.0240   \n",
       "2            11  0.1475  0.0230  0.0040  0.0045  0.058  0.0165  0.0265   \n",
       "3            11  0.1415  0.0240  0.0040  0.0050  0.053  0.0150  0.0285   \n",
       "4            11  0.1400  0.0240  0.0050  0.0055  0.050  0.0175  0.0265   \n",
       "\n",
       "       AR      SL      FG   WB_BX      PF      BM      WH      SQ      WN  \\\n",
       "0  0.1035  0.0060  0.0405  0.0665  0.2110  0.0125  0.0100  0.0045  0.0490   \n",
       "1  0.1025  0.0065  0.0420  0.0640  0.2260  0.0135  0.0100  0.0055  0.0470   \n",
       "2  0.0985  0.0060  0.0410  0.0615  0.2250  0.0135  0.0100  0.0045  0.0495   \n",
       "3  0.1095  0.0090  0.0455  0.0750  0.2230  0.0135  0.0095  0.0055  0.0425   \n",
       "4  0.1080  0.0055  0.0430  0.0685  0.2295  0.0155  0.0115  0.0050  0.0425   \n",
       "\n",
       "       BH      PH      LB  Analysis  inlierLabel  \n",
       "0  0.0425  0.0825  0.0875  06_DH1_1            1  \n",
       "1  0.0435  0.0785  0.0805  07_DH1_2            1  \n",
       "2  0.0455  0.0780  0.0870  08_DH1_3            1  \n",
       "3  0.0415  0.0855  0.0690  09_DH2_1            1  \n",
       "4  0.0465  0.0835  0.0725  10_DH2_2            1  "
      ]
     },
     "execution_count": 44,
     "metadata": {},
     "output_type": "execute_result"
    }
   ],
   "source": [
    "final_predictions_df.head()"
   ]
  },
  {
   "cell_type": "code",
   "execution_count": 45,
   "metadata": {},
   "outputs": [],
   "source": [
    "uniques_list = list(uniques)\n",
    "def get_pred_names(row):\n",
    "    return(uniques_list[row['class_number']])\n",
    "final_predictions_df['class_predictions'] = final_predictions_df.apply(get_pred_names, axis = 1)"
   ]
  },
  {
   "cell_type": "code",
   "execution_count": 46,
   "metadata": {},
   "outputs": [
    {
     "data": {
      "text/html": [
       "<div>\n",
       "<style scoped>\n",
       "    .dataframe tbody tr th:only-of-type {\n",
       "        vertical-align: middle;\n",
       "    }\n",
       "\n",
       "    .dataframe tbody tr th {\n",
       "        vertical-align: top;\n",
       "    }\n",
       "\n",
       "    .dataframe thead th {\n",
       "        text-align: right;\n",
       "    }\n",
       "</style>\n",
       "<table border=\"1\" class=\"dataframe\">\n",
       "  <thead>\n",
       "    <tr style=\"text-align: right;\">\n",
       "      <th></th>\n",
       "      <th>class_number</th>\n",
       "      <th>FH</th>\n",
       "      <th>ER</th>\n",
       "      <th>WW</th>\n",
       "      <th>TC</th>\n",
       "      <th>CS</th>\n",
       "      <th>BC</th>\n",
       "      <th>KQ</th>\n",
       "      <th>AR</th>\n",
       "      <th>SL</th>\n",
       "      <th>FG</th>\n",
       "      <th>WB_BX</th>\n",
       "      <th>PF</th>\n",
       "      <th>BM</th>\n",
       "      <th>WH</th>\n",
       "      <th>SQ</th>\n",
       "      <th>WN</th>\n",
       "      <th>BH</th>\n",
       "      <th>PH</th>\n",
       "      <th>LB</th>\n",
       "      <th>Analysis</th>\n",
       "      <th>inlierLabel</th>\n",
       "      <th>class_predictions</th>\n",
       "    </tr>\n",
       "  </thead>\n",
       "  <tbody>\n",
       "    <tr>\n",
       "      <th>0</th>\n",
       "      <td>11</td>\n",
       "      <td>0.1520</td>\n",
       "      <td>0.0255</td>\n",
       "      <td>0.0040</td>\n",
       "      <td>0.0050</td>\n",
       "      <td>0.057</td>\n",
       "      <td>0.0155</td>\n",
       "      <td>0.0250</td>\n",
       "      <td>0.1035</td>\n",
       "      <td>0.0060</td>\n",
       "      <td>0.0405</td>\n",
       "      <td>0.0665</td>\n",
       "      <td>0.2110</td>\n",
       "      <td>0.0125</td>\n",
       "      <td>0.0100</td>\n",
       "      <td>0.0045</td>\n",
       "      <td>0.0490</td>\n",
       "      <td>0.0425</td>\n",
       "      <td>0.0825</td>\n",
       "      <td>0.0875</td>\n",
       "      <td>06_DH1_1</td>\n",
       "      <td>1</td>\n",
       "      <td>PF</td>\n",
       "    </tr>\n",
       "    <tr>\n",
       "      <th>1</th>\n",
       "      <td>11</td>\n",
       "      <td>0.1510</td>\n",
       "      <td>0.0240</td>\n",
       "      <td>0.0045</td>\n",
       "      <td>0.0045</td>\n",
       "      <td>0.056</td>\n",
       "      <td>0.0165</td>\n",
       "      <td>0.0240</td>\n",
       "      <td>0.1025</td>\n",
       "      <td>0.0065</td>\n",
       "      <td>0.0420</td>\n",
       "      <td>0.0640</td>\n",
       "      <td>0.2260</td>\n",
       "      <td>0.0135</td>\n",
       "      <td>0.0100</td>\n",
       "      <td>0.0055</td>\n",
       "      <td>0.0470</td>\n",
       "      <td>0.0435</td>\n",
       "      <td>0.0785</td>\n",
       "      <td>0.0805</td>\n",
       "      <td>07_DH1_2</td>\n",
       "      <td>1</td>\n",
       "      <td>PF</td>\n",
       "    </tr>\n",
       "    <tr>\n",
       "      <th>2</th>\n",
       "      <td>11</td>\n",
       "      <td>0.1475</td>\n",
       "      <td>0.0230</td>\n",
       "      <td>0.0040</td>\n",
       "      <td>0.0045</td>\n",
       "      <td>0.058</td>\n",
       "      <td>0.0165</td>\n",
       "      <td>0.0265</td>\n",
       "      <td>0.0985</td>\n",
       "      <td>0.0060</td>\n",
       "      <td>0.0410</td>\n",
       "      <td>0.0615</td>\n",
       "      <td>0.2250</td>\n",
       "      <td>0.0135</td>\n",
       "      <td>0.0100</td>\n",
       "      <td>0.0045</td>\n",
       "      <td>0.0495</td>\n",
       "      <td>0.0455</td>\n",
       "      <td>0.0780</td>\n",
       "      <td>0.0870</td>\n",
       "      <td>08_DH1_3</td>\n",
       "      <td>1</td>\n",
       "      <td>PF</td>\n",
       "    </tr>\n",
       "    <tr>\n",
       "      <th>3</th>\n",
       "      <td>11</td>\n",
       "      <td>0.1415</td>\n",
       "      <td>0.0240</td>\n",
       "      <td>0.0040</td>\n",
       "      <td>0.0050</td>\n",
       "      <td>0.053</td>\n",
       "      <td>0.0150</td>\n",
       "      <td>0.0285</td>\n",
       "      <td>0.1095</td>\n",
       "      <td>0.0090</td>\n",
       "      <td>0.0455</td>\n",
       "      <td>0.0750</td>\n",
       "      <td>0.2230</td>\n",
       "      <td>0.0135</td>\n",
       "      <td>0.0095</td>\n",
       "      <td>0.0055</td>\n",
       "      <td>0.0425</td>\n",
       "      <td>0.0415</td>\n",
       "      <td>0.0855</td>\n",
       "      <td>0.0690</td>\n",
       "      <td>09_DH2_1</td>\n",
       "      <td>1</td>\n",
       "      <td>PF</td>\n",
       "    </tr>\n",
       "    <tr>\n",
       "      <th>4</th>\n",
       "      <td>11</td>\n",
       "      <td>0.1400</td>\n",
       "      <td>0.0240</td>\n",
       "      <td>0.0050</td>\n",
       "      <td>0.0055</td>\n",
       "      <td>0.050</td>\n",
       "      <td>0.0175</td>\n",
       "      <td>0.0265</td>\n",
       "      <td>0.1080</td>\n",
       "      <td>0.0055</td>\n",
       "      <td>0.0430</td>\n",
       "      <td>0.0685</td>\n",
       "      <td>0.2295</td>\n",
       "      <td>0.0155</td>\n",
       "      <td>0.0115</td>\n",
       "      <td>0.0050</td>\n",
       "      <td>0.0425</td>\n",
       "      <td>0.0465</td>\n",
       "      <td>0.0835</td>\n",
       "      <td>0.0725</td>\n",
       "      <td>10_DH2_2</td>\n",
       "      <td>1</td>\n",
       "      <td>PF</td>\n",
       "    </tr>\n",
       "  </tbody>\n",
       "</table>\n",
       "</div>"
      ],
      "text/plain": [
       "   class_number      FH      ER      WW      TC     CS      BC      KQ  \\\n",
       "0            11  0.1520  0.0255  0.0040  0.0050  0.057  0.0155  0.0250   \n",
       "1            11  0.1510  0.0240  0.0045  0.0045  0.056  0.0165  0.0240   \n",
       "2            11  0.1475  0.0230  0.0040  0.0045  0.058  0.0165  0.0265   \n",
       "3            11  0.1415  0.0240  0.0040  0.0050  0.053  0.0150  0.0285   \n",
       "4            11  0.1400  0.0240  0.0050  0.0055  0.050  0.0175  0.0265   \n",
       "\n",
       "       AR      SL      FG   WB_BX      PF      BM      WH      SQ      WN  \\\n",
       "0  0.1035  0.0060  0.0405  0.0665  0.2110  0.0125  0.0100  0.0045  0.0490   \n",
       "1  0.1025  0.0065  0.0420  0.0640  0.2260  0.0135  0.0100  0.0055  0.0470   \n",
       "2  0.0985  0.0060  0.0410  0.0615  0.2250  0.0135  0.0100  0.0045  0.0495   \n",
       "3  0.1095  0.0090  0.0455  0.0750  0.2230  0.0135  0.0095  0.0055  0.0425   \n",
       "4  0.1080  0.0055  0.0430  0.0685  0.2295  0.0155  0.0115  0.0050  0.0425   \n",
       "\n",
       "       BH      PH      LB  Analysis  inlierLabel class_predictions  \n",
       "0  0.0425  0.0825  0.0875  06_DH1_1            1                PF  \n",
       "1  0.0435  0.0785  0.0805  07_DH1_2            1                PF  \n",
       "2  0.0455  0.0780  0.0870  08_DH1_3            1                PF  \n",
       "3  0.0415  0.0855  0.0690  09_DH2_1            1                PF  \n",
       "4  0.0465  0.0835  0.0725  10_DH2_2            1                PF  "
      ]
     },
     "execution_count": 46,
     "metadata": {},
     "output_type": "execute_result"
    }
   ],
   "source": [
    "final_predictions_df.head()"
   ]
  },
  {
   "cell_type": "markdown",
   "metadata": {},
   "source": [
    "### final predictions including assignments from local outlier factor model are added"
   ]
  },
  {
   "cell_type": "code",
   "execution_count": 47,
   "metadata": {},
   "outputs": [
    {
     "data": {
      "application/vnd.jupyter.widget-view+json": {
       "model_id": "28851cf5cb924f4c853532fade63562c",
       "version_major": 2,
       "version_minor": 0
      },
      "text/plain": [
       "HBox(children=(IntProgress(value=0, description='Pandas Apply', max=363, style=ProgressStyle(description_width…"
      ]
     },
     "metadata": {},
     "output_type": "display_data"
    },
    {
     "name": "stdout",
     "output_type": "stream",
     "text": [
      "\n"
     ]
    }
   ],
   "source": [
    "def outlierAssigner(row):\n",
    "    if row['inlierLabel'] == -1:\n",
    "        return('other')\n",
    "    else:\n",
    "        return(row['class_predictions'])\n",
    "    \n",
    "final_predictions_df['class_predictions'] = final_predictions_df.swifter.apply(outlierAssigner, axis = 1)"
   ]
  },
  {
   "cell_type": "code",
   "execution_count": 48,
   "metadata": {},
   "outputs": [
    {
     "data": {
      "text/html": [
       "<div>\n",
       "<style scoped>\n",
       "    .dataframe tbody tr th:only-of-type {\n",
       "        vertical-align: middle;\n",
       "    }\n",
       "\n",
       "    .dataframe tbody tr th {\n",
       "        vertical-align: top;\n",
       "    }\n",
       "\n",
       "    .dataframe thead th {\n",
       "        text-align: right;\n",
       "    }\n",
       "</style>\n",
       "<table border=\"1\" class=\"dataframe\">\n",
       "  <thead>\n",
       "    <tr style=\"text-align: right;\">\n",
       "      <th></th>\n",
       "      <th>class_number</th>\n",
       "      <th>FH</th>\n",
       "      <th>ER</th>\n",
       "      <th>WW</th>\n",
       "      <th>TC</th>\n",
       "      <th>CS</th>\n",
       "      <th>BC</th>\n",
       "      <th>KQ</th>\n",
       "      <th>AR</th>\n",
       "      <th>SL</th>\n",
       "      <th>FG</th>\n",
       "      <th>WB_BX</th>\n",
       "      <th>PF</th>\n",
       "      <th>BM</th>\n",
       "      <th>WH</th>\n",
       "      <th>SQ</th>\n",
       "      <th>WN</th>\n",
       "      <th>BH</th>\n",
       "      <th>PH</th>\n",
       "      <th>LB</th>\n",
       "      <th>Analysis</th>\n",
       "      <th>inlierLabel</th>\n",
       "      <th>class_predictions</th>\n",
       "    </tr>\n",
       "  </thead>\n",
       "  <tbody>\n",
       "    <tr>\n",
       "      <th>0</th>\n",
       "      <td>11</td>\n",
       "      <td>0.1520</td>\n",
       "      <td>0.0255</td>\n",
       "      <td>0.0040</td>\n",
       "      <td>0.0050</td>\n",
       "      <td>0.057</td>\n",
       "      <td>0.0155</td>\n",
       "      <td>0.0250</td>\n",
       "      <td>0.1035</td>\n",
       "      <td>0.0060</td>\n",
       "      <td>0.0405</td>\n",
       "      <td>0.0665</td>\n",
       "      <td>0.2110</td>\n",
       "      <td>0.0125</td>\n",
       "      <td>0.0100</td>\n",
       "      <td>0.0045</td>\n",
       "      <td>0.0490</td>\n",
       "      <td>0.0425</td>\n",
       "      <td>0.0825</td>\n",
       "      <td>0.0875</td>\n",
       "      <td>06_DH1_1</td>\n",
       "      <td>1</td>\n",
       "      <td>PF</td>\n",
       "    </tr>\n",
       "    <tr>\n",
       "      <th>1</th>\n",
       "      <td>11</td>\n",
       "      <td>0.1510</td>\n",
       "      <td>0.0240</td>\n",
       "      <td>0.0045</td>\n",
       "      <td>0.0045</td>\n",
       "      <td>0.056</td>\n",
       "      <td>0.0165</td>\n",
       "      <td>0.0240</td>\n",
       "      <td>0.1025</td>\n",
       "      <td>0.0065</td>\n",
       "      <td>0.0420</td>\n",
       "      <td>0.0640</td>\n",
       "      <td>0.2260</td>\n",
       "      <td>0.0135</td>\n",
       "      <td>0.0100</td>\n",
       "      <td>0.0055</td>\n",
       "      <td>0.0470</td>\n",
       "      <td>0.0435</td>\n",
       "      <td>0.0785</td>\n",
       "      <td>0.0805</td>\n",
       "      <td>07_DH1_2</td>\n",
       "      <td>1</td>\n",
       "      <td>PF</td>\n",
       "    </tr>\n",
       "    <tr>\n",
       "      <th>2</th>\n",
       "      <td>11</td>\n",
       "      <td>0.1475</td>\n",
       "      <td>0.0230</td>\n",
       "      <td>0.0040</td>\n",
       "      <td>0.0045</td>\n",
       "      <td>0.058</td>\n",
       "      <td>0.0165</td>\n",
       "      <td>0.0265</td>\n",
       "      <td>0.0985</td>\n",
       "      <td>0.0060</td>\n",
       "      <td>0.0410</td>\n",
       "      <td>0.0615</td>\n",
       "      <td>0.2250</td>\n",
       "      <td>0.0135</td>\n",
       "      <td>0.0100</td>\n",
       "      <td>0.0045</td>\n",
       "      <td>0.0495</td>\n",
       "      <td>0.0455</td>\n",
       "      <td>0.0780</td>\n",
       "      <td>0.0870</td>\n",
       "      <td>08_DH1_3</td>\n",
       "      <td>1</td>\n",
       "      <td>PF</td>\n",
       "    </tr>\n",
       "    <tr>\n",
       "      <th>3</th>\n",
       "      <td>11</td>\n",
       "      <td>0.1415</td>\n",
       "      <td>0.0240</td>\n",
       "      <td>0.0040</td>\n",
       "      <td>0.0050</td>\n",
       "      <td>0.053</td>\n",
       "      <td>0.0150</td>\n",
       "      <td>0.0285</td>\n",
       "      <td>0.1095</td>\n",
       "      <td>0.0090</td>\n",
       "      <td>0.0455</td>\n",
       "      <td>0.0750</td>\n",
       "      <td>0.2230</td>\n",
       "      <td>0.0135</td>\n",
       "      <td>0.0095</td>\n",
       "      <td>0.0055</td>\n",
       "      <td>0.0425</td>\n",
       "      <td>0.0415</td>\n",
       "      <td>0.0855</td>\n",
       "      <td>0.0690</td>\n",
       "      <td>09_DH2_1</td>\n",
       "      <td>1</td>\n",
       "      <td>PF</td>\n",
       "    </tr>\n",
       "    <tr>\n",
       "      <th>4</th>\n",
       "      <td>11</td>\n",
       "      <td>0.1400</td>\n",
       "      <td>0.0240</td>\n",
       "      <td>0.0050</td>\n",
       "      <td>0.0055</td>\n",
       "      <td>0.050</td>\n",
       "      <td>0.0175</td>\n",
       "      <td>0.0265</td>\n",
       "      <td>0.1080</td>\n",
       "      <td>0.0055</td>\n",
       "      <td>0.0430</td>\n",
       "      <td>0.0685</td>\n",
       "      <td>0.2295</td>\n",
       "      <td>0.0155</td>\n",
       "      <td>0.0115</td>\n",
       "      <td>0.0050</td>\n",
       "      <td>0.0425</td>\n",
       "      <td>0.0465</td>\n",
       "      <td>0.0835</td>\n",
       "      <td>0.0725</td>\n",
       "      <td>10_DH2_2</td>\n",
       "      <td>1</td>\n",
       "      <td>PF</td>\n",
       "    </tr>\n",
       "  </tbody>\n",
       "</table>\n",
       "</div>"
      ],
      "text/plain": [
       "   class_number      FH      ER      WW      TC     CS      BC      KQ  \\\n",
       "0            11  0.1520  0.0255  0.0040  0.0050  0.057  0.0155  0.0250   \n",
       "1            11  0.1510  0.0240  0.0045  0.0045  0.056  0.0165  0.0240   \n",
       "2            11  0.1475  0.0230  0.0040  0.0045  0.058  0.0165  0.0265   \n",
       "3            11  0.1415  0.0240  0.0040  0.0050  0.053  0.0150  0.0285   \n",
       "4            11  0.1400  0.0240  0.0050  0.0055  0.050  0.0175  0.0265   \n",
       "\n",
       "       AR      SL      FG   WB_BX      PF      BM      WH      SQ      WN  \\\n",
       "0  0.1035  0.0060  0.0405  0.0665  0.2110  0.0125  0.0100  0.0045  0.0490   \n",
       "1  0.1025  0.0065  0.0420  0.0640  0.2260  0.0135  0.0100  0.0055  0.0470   \n",
       "2  0.0985  0.0060  0.0410  0.0615  0.2250  0.0135  0.0100  0.0045  0.0495   \n",
       "3  0.1095  0.0090  0.0455  0.0750  0.2230  0.0135  0.0095  0.0055  0.0425   \n",
       "4  0.1080  0.0055  0.0430  0.0685  0.2295  0.0155  0.0115  0.0050  0.0425   \n",
       "\n",
       "       BH      PH      LB  Analysis  inlierLabel class_predictions  \n",
       "0  0.0425  0.0825  0.0875  06_DH1_1            1                PF  \n",
       "1  0.0435  0.0785  0.0805  07_DH1_2            1                PF  \n",
       "2  0.0455  0.0780  0.0870  08_DH1_3            1                PF  \n",
       "3  0.0415  0.0855  0.0690  09_DH2_1            1                PF  \n",
       "4  0.0465  0.0835  0.0725  10_DH2_2            1                PF  "
      ]
     },
     "execution_count": 48,
     "metadata": {},
     "output_type": "execute_result"
    }
   ],
   "source": [
    "final_predictions_df.head()"
   ]
  },
  {
   "cell_type": "markdown",
   "metadata": {},
   "source": [
    "### predictions are stored as a variable into memory"
   ]
  },
  {
   "cell_type": "code",
   "execution_count": 49,
   "metadata": {},
   "outputs": [
    {
     "name": "stdout",
     "output_type": "stream",
     "text": [
      "Stored 'final_predictions_df' (DataFrame)\n"
     ]
    }
   ],
   "source": [
    "%store final_predictions_df"
   ]
  },
  {
   "cell_type": "markdown",
   "metadata": {},
   "source": [
    "### predictions are outputted as csv file"
   ]
  },
  {
   "cell_type": "code",
   "execution_count": 50,
   "metadata": {},
   "outputs": [],
   "source": [
    "if save_predictions:\n",
    "    final_predictions_df.to_csv('predictions.csv')\n"
   ]
  }
 ],
 "metadata": {
  "kernelspec": {
   "display_name": "Python 3",
   "language": "python",
   "name": "python3"
  },
  "language_info": {
   "codemirror_mode": {
    "name": "ipython",
    "version": 3
   },
   "file_extension": ".py",
   "mimetype": "text/x-python",
   "name": "python",
   "nbconvert_exporter": "python",
   "pygments_lexer": "ipython3",
   "version": "3.7.1"
  }
 },
 "nbformat": 4,
 "nbformat_minor": 2
}
